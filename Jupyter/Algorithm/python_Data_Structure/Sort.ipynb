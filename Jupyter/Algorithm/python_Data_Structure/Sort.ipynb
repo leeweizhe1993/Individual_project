{
 "cells": [
  {
   "cell_type": "markdown",
   "metadata": {},
   "source": [
    "## 冒泡排序"
   ]
  },
  {
   "cell_type": "code",
   "execution_count": 1,
   "metadata": {},
   "outputs": [
    {
     "name": "stdout",
     "output_type": "stream",
     "text": [
      "[6, 2, 5, 0, 9, 8, 1, 7, 4, 3]\n",
      "[2, 5, 0, 6, 8, 1, 7, 4, 3, 9]\n",
      "[2, 0, 5, 6, 1, 7, 4, 3, 8, 9]\n",
      "[0, 2, 5, 1, 6, 4, 3, 7, 8, 9]\n",
      "[0, 2, 1, 5, 4, 3, 6, 7, 8, 9]\n",
      "[0, 1, 2, 4, 3, 5, 6, 7, 8, 9]\n",
      "[0, 1, 2, 3, 4, 5, 6, 7, 8, 9]\n",
      "[0, 1, 2, 3, 4, 5, 6, 7, 8, 9]\n",
      "[0, 1, 2, 3, 4, 5, 6, 7, 8, 9]\n"
     ]
    },
    {
     "data": {
      "text/plain": [
       "[0, 1, 2, 3, 4, 5, 6, 7, 8, 9]"
      ]
     },
     "execution_count": 1,
     "metadata": {},
     "output_type": "execute_result"
    }
   ],
   "source": [
    "import random\n",
    "\n",
    "nums = [x for x in range(10)]\n",
    "random.shuffle(nums)\n",
    "\n",
    "'''每次取两数中较大的一位置于最后'''\n",
    "\n",
    "def bubble_sort(lst):\n",
    "    for i in range(len(lst) - 1):\n",
    "        print(lst)\n",
    "        for j in range(len(lst) - 1 - i):\n",
    "            if lst[j] > lst[j + 1]:\n",
    "            #减i是因为每一轮冒泡最大的元素都会冒泡到最后，无需再比较\n",
    "                lst[j], lst[j + 1] = lst[j + 1], lst[j]\n",
    "    return lst\n",
    "\n",
    "bubble_sort(nums)"
   ]
  },
  {
   "cell_type": "markdown",
   "metadata": {},
   "source": [
    "## 选择排序"
   ]
  },
  {
   "cell_type": "code",
   "execution_count": 44,
   "metadata": {},
   "outputs": [
    {
     "name": "stdout",
     "output_type": "stream",
     "text": [
      "[2, 4, 1, 0, 9, 3, 6, 7, 8, 5]\n",
      "[0, 4, 1, 2, 9, 3, 6, 7, 8, 5]\n",
      "[0, 1, 4, 2, 9, 3, 6, 7, 8, 5]\n",
      "[0, 1, 2, 4, 9, 3, 6, 7, 8, 5]\n",
      "[0, 1, 2, 3, 9, 4, 6, 7, 8, 5]\n",
      "[0, 1, 2, 3, 4, 9, 6, 7, 8, 5]\n",
      "[0, 1, 2, 3, 4, 5, 6, 7, 8, 9]\n",
      "[0, 1, 2, 3, 4, 5, 6, 7, 8, 9]\n",
      "[0, 1, 2, 3, 4, 5, 6, 7, 8, 9]\n"
     ]
    },
    {
     "data": {
      "text/plain": [
       "[0, 1, 2, 3, 4, 5, 6, 7, 8, 9]"
      ]
     },
     "execution_count": 44,
     "metadata": {},
     "output_type": "execute_result"
    }
   ],
   "source": [
    "import random\n",
    "\n",
    "nums = [x for x in range(10)]\n",
    "random.shuffle(nums)\n",
    "\n",
    "'''每次找最小的数排在第一位'''\n",
    "\n",
    "def select_sort(lst):\n",
    "    for i in range(len(lst) - 1):\n",
    "        min_index = i\n",
    "        print(lst)\n",
    "        for j in range(i + 1, len(lst)):\n",
    "            if lst[j] < lst[min_index]:\n",
    "                min_index = j\n",
    "        if min_index != i:\n",
    "            lst[i], lst[min_index] = lst[min_index], lst[i]\n",
    "\n",
    "    return lst\n",
    "\n",
    "select_sort(nums)"
   ]
  },
  {
   "cell_type": "markdown",
   "metadata": {},
   "source": [
    "## 插入排序"
   ]
  },
  {
   "cell_type": "code",
   "execution_count": 46,
   "metadata": {},
   "outputs": [
    {
     "name": "stdout",
     "output_type": "stream",
     "text": [
      "[8, 7, 1, 5, 2, 4, 3, 9, 0, 6]\n",
      "[7, 8, 1, 5, 2, 4, 3, 9, 0, 6]\n",
      "[1, 7, 8, 5, 2, 4, 3, 9, 0, 6]\n",
      "[1, 5, 7, 8, 2, 4, 3, 9, 0, 6]\n",
      "[1, 2, 5, 7, 8, 4, 3, 9, 0, 6]\n",
      "[1, 2, 4, 5, 7, 8, 3, 9, 0, 6]\n",
      "[1, 2, 3, 4, 5, 7, 8, 9, 0, 6]\n",
      "[1, 2, 3, 4, 5, 7, 8, 9, 0, 6]\n",
      "[0, 1, 2, 3, 4, 5, 7, 8, 9, 6]\n"
     ]
    },
    {
     "data": {
      "text/plain": [
       "[0, 1, 2, 3, 4, 5, 6, 7, 8, 9]"
      ]
     },
     "execution_count": 46,
     "metadata": {},
     "output_type": "execute_result"
    }
   ],
   "source": [
    "import random\n",
    "\n",
    "nums = [x for x in range(10)]\n",
    "random.shuffle(nums)\n",
    "\n",
    "'''每次挑选新元素插入已排序数组中,初始时已排序数组元素数为1'''\n",
    "\n",
    "def insert_sort(lst):\n",
    "    for i in range(1, len(lst)):\n",
    "        print(lst)\n",
    "        value = lst[i]    #保存位置，防止被覆盖\n",
    "        pos = i\n",
    "        while pos > 0 and value < lst[pos - 1]:\n",
    "            lst[pos] = lst[pos - 1]  #若前一元素较大则与前一元素焦焕志\n",
    "            pos -= 1\n",
    "        lst[pos] = value    #当前值存储\n",
    "    return lst\n",
    "insert_sort(nums)"
   ]
  },
  {
   "cell_type": "markdown",
   "metadata": {},
   "source": [
    "## 归并排序"
   ]
  },
  {
   "cell_type": "code",
   "execution_count": 4,
   "metadata": {},
   "outputs": [
    {
     "name": "stdout",
     "output_type": "stream",
     "text": [
      "[19, 5, 10, 17, 7, 12, 15, 18, 20, 14, 13, 6, 4, 8, 3, 2, 1, 9, 16, 11]\n"
     ]
    },
    {
     "data": {
      "text/plain": [
       "[1, 2, 3, 4, 5, 6, 7, 8, 9, 10, 11, 12, 13, 14, 15, 16, 17, 18, 19, 20]"
      ]
     },
     "execution_count": 4,
     "metadata": {},
     "output_type": "execute_result"
    }
   ],
   "source": [
    "def merge(left, right):\n",
    "    merged = []\n",
    "    i, j = 0, 0\n",
    "    left_len, right_len = len(left), len(right)\n",
    "    '''循环取左右列表中的值添加到merge中'''\n",
    "    while i < left_len and j < right_len:\n",
    "        if left[i] <= right[j]:\n",
    "            merged.append(left[i])\n",
    "            i += 1\n",
    "        else:\n",
    "            merged.append(right[j])\n",
    "            j += 1\n",
    "            \n",
    "    '''归并列表剩余元素，保证较大列表证的元素也加入到merged中'''\n",
    "    merged.extend(left[i:])\n",
    "    merged.extend(right[j:])\n",
    "    return merged\n",
    "\n",
    "def mergeSort(lst):\n",
    "    if len(lst) <= 1:\n",
    "        return lst\n",
    "    \n",
    "    mid = len(lst) // 2\n",
    "    left = mergeSort(lst[ : mid])\n",
    "    right = mergeSort(lst[mid : ])\n",
    "    return merge(left, right)\n",
    "\n",
    "import random\n",
    "a = [x for x in range(1, 21)]\n",
    "random.shuffle(a)\n",
    "print(a)\n",
    "mergeSort(a)"
   ]
  },
  {
   "cell_type": "markdown",
   "metadata": {},
   "source": [
    "## 快排"
   ]
  },
  {
   "cell_type": "code",
   "execution_count": 5,
   "metadata": {},
   "outputs": [
    {
     "name": "stdout",
     "output_type": "stream",
     "text": [
      "[7, 18, 12, 16, 10, 6, 15, 5, 17, 4, 8, 3, 13, 11, 14, 2, 20, 1, 9, 19]\n"
     ]
    },
    {
     "data": {
      "text/plain": [
       "[1, 2, 3, 4, 5, 6, 7, 8, 9, 10, 11, 12, 13, 14, 15, 16, 17, 18, 19, 20]"
      ]
     },
     "execution_count": 5,
     "metadata": {},
     "output_type": "execute_result"
    }
   ],
   "source": [
    "def quick_sort(lst):\n",
    "    if len(lst) <= 1:\n",
    "        return lst\n",
    "    else:\n",
    "        pivot_index = 0\n",
    "        pivot = lst[pivot_index]\n",
    "        less_part = [i for i in lst[pivot_index + 1 :] if i <= pivot]\n",
    "        great_part = [i for i in lst[pivot_index + 1 :] if i > pivot]\n",
    "        return quick_sort(less_part) + [pivot] + quick_sort(great_part)\n",
    "    \n",
    "import random\n",
    "a = [x for x in range(1, 21)]\n",
    "random.shuffle(a)\n",
    "print(a)\n",
    "quick_sort(a)"
   ]
  },
  {
   "cell_type": "code",
   "execution_count": 3,
   "metadata": {},
   "outputs": [],
   "source": [
    "def partition(lst, begin, end):\n",
    "    pivot_index = begin\n",
    "    pivot = lst[pivot_index]\n",
    "    left = pivot_index + 1\n",
    "    right = end - 1\n",
    "    \n",
    "    while True:\n",
    "        while left <= right and lst[left] < pivot:\n",
    "            left += 1\n",
    "        while right >= left and lst[right] >= pivot:\n",
    "            right -= 1\n",
    "            \n",
    "        if left > right:\n",
    "            break\n",
    "        else:\n",
    "            lst[left], lst[right] = lsr[right], lst[left]\n",
    "    lst[pivot_index], lst[right] = lst[right], lst[pivot_index]\n",
    "    \n",
    "    return right\n",
    "\n",
    "def quick_sort_inplace(lst, begin, end):\n",
    "    if begin < end:\n",
    "        pivot = partition(lst, begin, end)\n",
    "        quick_sort_inplace(lst, begin, pivot)\n",
    "        quick_sort_inplace(lst, pivot + 1, end)"
   ]
  }
 ],
 "metadata": {
  "kernelspec": {
   "display_name": "Python 3",
   "language": "python",
   "name": "python3"
  },
  "language_info": {
   "codemirror_mode": {
    "name": "ipython",
    "version": 3
   },
   "file_extension": ".py",
   "mimetype": "text/x-python",
   "name": "python",
   "nbconvert_exporter": "python",
   "pygments_lexer": "ipython3",
   "version": "3.7.1"
  }
 },
 "nbformat": 4,
 "nbformat_minor": 2
}
