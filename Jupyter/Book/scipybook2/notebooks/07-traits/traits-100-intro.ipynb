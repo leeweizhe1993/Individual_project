{
 "cells": [
  {
   "cell_type": "code",
   "execution_count": 1,
   "metadata": {
    "collapsed": false,
    "group_control": {
     "group": 0
    }
   },
   "outputs": [],
   "source": [
    "import sip\n",
    "sip.setapi('QString', 2)\n",
    "sip.setapi('QVariant', 2)\n",
    "%gui qt"
   ]
  },
  {
   "cell_type": "markdown",
   "metadata": {},
   "source": [
    "# Traits & TraitsUI-轻松制作图形界面"
   ]
  },
  {
   "cell_type": "markdown",
   "metadata": {},
   "source": [
    "## Traits类型入门"
   ]
  },
  {
   "cell_type": "markdown",
   "metadata": {},
   "source": [
    "### 什么是Traits属性"
   ]
  },
  {
   "cell_type": "code",
   "execution_count": 2,
   "metadata": {
    "collapsed": false,
    "group_control": {
     "group": 0
    }
   },
   "outputs": [],
   "source": [
    "from traits.api import HasTraits, Color #❶\n",
    "\n",
    "class Circle(HasTraits): #❷\n",
    "    color = Color #❸"
   ]
  },
  {
   "cell_type": "code",
   "execution_count": 4,
   "metadata": {
    "collapsed": false,
    "group_control": {
     "group": 0
    }
   },
   "outputs": [
    {
     "ename": "AttributeError",
     "evalue": "type object 'Circle' has no attribute 'color'",
     "output_type": "error",
     "traceback": [
      "\u001b[1;31m---------------------------------------------------------------------------\u001b[0m",
      "\u001b[1;31mAttributeError\u001b[0m                            Traceback (most recent call last)",
      "\u001b[1;32m<ipython-input-4-8335a9908186>\u001b[0m in \u001b[0;36m<module>\u001b[1;34m()\u001b[0m\n\u001b[0;32m      1\u001b[0m \u001b[0mc\u001b[0m \u001b[1;33m=\u001b[0m \u001b[0mCircle\u001b[0m\u001b[1;33m(\u001b[0m\u001b[1;33m)\u001b[0m\u001b[1;33m\u001b[0m\u001b[0m\n\u001b[1;32m----> 2\u001b[1;33m \u001b[0mCircle\u001b[0m\u001b[1;33m.\u001b[0m\u001b[0mcolor\u001b[0m    \u001b[1;31m#Circle类没有color属性\u001b[0m\u001b[1;33m\u001b[0m\u001b[0m\n\u001b[0m",
      "\u001b[1;31mAttributeError\u001b[0m: type object 'Circle' has no attribute 'color'"
     ]
    }
   ],
   "source": [
    "c = Circle()\n",
    "Circle.color    #Circle类没有color属性"
   ]
  },
  {
   "cell_type": "code",
   "execution_count": 4,
   "metadata": {
    "collapsed": false,
    "group_control": {
     "group": 0
    }
   },
   "outputs": [
    {
     "name": "stdout",
     "output_type": "stream",
     "text": [
      "<PyQt4.QtGui.QColor object at 0x0542F270>\n",
      "(255, 255, 255, 255)\n"
     ]
    }
   ],
   "source": [
    "print c.color\n",
    "print c.color.getRgb()"
   ]
  },
  {
   "cell_type": "code",
   "execution_count": 14,
   "metadata": {
    "collapsed": false,
    "group_control": {
     "group": 0
    }
   },
   "outputs": [
    {
     "name": "stdout",
     "output_type": "stream",
     "text": [
      "(255, 0, 0, 255)\n",
      "(0, 255, 0, 255)\n",
      "(0, 255, 255, 255)\n",
      "The 'color' trait of a Circle instance must be a string of the form (r,g,b) or (r,g,b,a) where r, g, b, and a are integers from 0 to 255, a QColor instance, a Qt.GlobalColor, an integer which in hex is of the form 0xRRGGBB, a string of the form #RGB, #RRGGBB, #RRRGGGBBB or #RRRRGGGGBBBB or 'aliceblue' or 'antiquewhite' or 'aqua' or 'aquamarine' or  ...\n"
     ]
    }
   ],
   "source": [
    "c.color = \"red\"\n",
    "print c.color.getRgb()\n",
    "c.color = 0x00ff00\n",
    "print c.color.getRgb()\n",
    "c.color = (0, 255, 255)\n",
    "print c.color.getRgb()\n",
    "\n",
    "from traits.api import TraitError\n",
    "try:\n",
    "    c.color = 0.5\n",
    "except TraitError as ex:\n",
    "    print ex[0][:350], \"...\""
   ]
  },
  {
   "cell_type": "code",
   "execution_count": 5,
   "metadata": {
    "collapsed": false,
    "group_control": {
     "group": 0
    }
   },
   "outputs": [],
   "source": [
    "c.configure_traits();"
   ]
  },
  {
   "cell_type": "markdown",
   "metadata": {},
   "source": [
    "> **WARNING**\n",
    "\n",
    "> 当使用wxPython作为后台界面库时，由于TraitsUI 4.4.0中的一个错误，程序退出时会导致进程崩溃。请读者将本书提供的`scpy2\\patches\\toolkit.py`复制到`site-packages\\traitsui\\wx`目录下，覆盖原有的`toolkit.py`文件。"
   ]
  },
  {
   "cell_type": "markdown",
   "metadata": {},
   "source": [
    "> **TIP**\n",
    "\n",
    "> 如果在Notebook中运行`c.configure_traits()`，它会立即返回`False`，而不会等待对话框关闭。当程序单独运行时`configure_traits()`会等待界面关闭，并根据用户点击的按钮返回`True`或`False`。"
   ]
  },
  {
   "cell_type": "code",
   "execution_count": 19,
   "metadata": {
    "collapsed": false,
    "group_control": {
     "group": 0
    }
   },
   "outputs": [
    {
     "data": {
      "text/plain": [
       "(83, 120, 255, 255)"
      ]
     },
     "execution_count": 19,
     "metadata": {},
     "output_type": "execute_result"
    }
   ],
   "source": [
    "c.color.getRgb()"
   ]
  },
  {
   "cell_type": "markdown",
   "metadata": {},
   "source": [
    "### Trait属性的功能"
   ]
  },
  {
   "cell_type": "code",
   "execution_count": 8,
   "metadata": {
    "collapsed": false,
    "group_control": {
     "group": 0
    }
   },
   "outputs": [],
   "source": [
    "from traits.api import Delegate, HasTraits, Instance, Int, Str\n",
    "\n",
    "class Parent ( HasTraits ):\n",
    "    # 初始化: last_name被初始化为'Zhang'\n",
    "    last_name = Str( 'Zhang' ) #❶\n",
    "\n",
    "class Child ( HasTraits ):          \n",
    "    age = Int\n",
    "\n",
    "    # 验证: father属性的值必须是Parent类的实例\n",
    "    father = Instance( Parent ) #❷\n",
    "\n",
    "    # 代理： Child的实例的last_name属性代理给其father属性的last_name\n",
    "    last_name = Delegate( 'father' ) #❸\n",
    "\n",
    "    # 监听: 当age属性的值被修改时，下面的函数将被运行\n",
    "    def _age_changed ( self, old, new ): #❹\n",
    "        print 'Age changed from %s to %s ' % ( old, new )\n",
    "        \n",
    "p = Parent()\n",
    "c = Child()"
   ]
  },
  {
   "cell_type": "code",
   "execution_count": 9,
   "metadata": {
    "collapsed": false,
    "group_control": {
     "group": 0
    }
   },
   "outputs": [
    {
     "data": {
      "text/plain": [
       "'Zhang'"
      ]
     },
     "execution_count": 9,
     "metadata": {},
     "output_type": "execute_result"
    }
   ],
   "source": [
    "p.last_name"
   ]
  },
  {
   "cell_type": "code",
   "execution_count": 10,
   "metadata": {
    "collapsed": false,
    "group_control": {
     "group": 0
    }
   },
   "outputs": [
    {
     "ename": "AttributeError",
     "evalue": "'NoneType' object has no attribute 'last_name'",
     "output_type": "error",
     "traceback": [
      "\u001b[1;31m---------------------------------------------------------------------------\u001b[0m",
      "\u001b[1;31mAttributeError\u001b[0m                            Traceback (most recent call last)",
      "\u001b[1;32m<ipython-input-10-fff30c984f1b>\u001b[0m in \u001b[0;36m<module>\u001b[1;34m()\u001b[0m\n\u001b[1;32m----> 1\u001b[1;33m \u001b[0mc\u001b[0m\u001b[1;33m.\u001b[0m\u001b[0mlast_name\u001b[0m\u001b[1;33m\u001b[0m\u001b[0m\n\u001b[0m",
      "\u001b[1;31mAttributeError\u001b[0m: 'NoneType' object has no attribute 'last_name'"
     ]
    }
   ],
   "source": [
    "c.last_name   "
   ]
  },
  {
   "cell_type": "code",
   "execution_count": 11,
   "metadata": {
    "collapsed": false,
    "group_control": {
     "group": 0
    }
   },
   "outputs": [
    {
     "name": "stdout",
     "output_type": "stream",
     "text": [
      "Zhang\n",
      "ZHANG\n"
     ]
    }
   ],
   "source": [
    "c.father = p\n",
    "print c.last_name\n",
    "p.last_name = \"ZHANG\"\n",
    "print c.last_name"
   ]
  },
  {
   "cell_type": "code",
   "execution_count": 12,
   "metadata": {
    "collapsed": false,
    "group_control": {
     "group": 0
    }
   },
   "outputs": [
    {
     "name": "stdout",
     "output_type": "stream",
     "text": [
      "Age changed from 0 to 4 \n"
     ]
    }
   ],
   "source": [
    "c.age = 4"
   ]
  },
  {
   "cell_type": "code",
   "execution_count": 13,
   "metadata": {
    "collapsed": false,
    "group_control": {
     "group": 0
    }
   },
   "outputs": [],
   "source": [
    "c.configure_traits();"
   ]
  },
  {
   "cell_type": "code",
   "execution_count": 26,
   "metadata": {
    "collapsed": false,
    "group_control": {
     "group": 0
    }
   },
   "outputs": [
    {
     "name": "stdout",
     "output_type": "stream",
     "text": [
      "age:       4\n",
      "father:    <__main__.Parent object at 0x05D9CC90>\n",
      "last_name: 'ZHANG'\n"
     ]
    }
   ],
   "source": [
    "c.print_traits()"
   ]
  },
  {
   "cell_type": "code",
   "execution_count": 27,
   "metadata": {
    "collapsed": false,
    "group_control": {
     "group": 0
    }
   },
   "outputs": [
    {
     "data": {
      "text/plain": [
       "{'age': 4, 'father': <__main__.Parent at 0x5d9cc90>, 'last_name': 'ZHANG'}"
      ]
     },
     "execution_count": 27,
     "metadata": {},
     "output_type": "execute_result"
    }
   ],
   "source": [
    "c.get()"
   ]
  },
  {
   "cell_type": "code",
   "execution_count": 28,
   "metadata": {
    "collapsed": false,
    "group_control": {
     "group": 0
    }
   },
   "outputs": [
    {
     "name": "stdout",
     "output_type": "stream",
     "text": [
      "Age changed from 4 to 6 \n"
     ]
    },
    {
     "data": {
      "text/plain": [
       "<__main__.Child at 0x5d9c600>"
      ]
     },
     "execution_count": 28,
     "metadata": {},
     "output_type": "execute_result"
    }
   ],
   "source": [
    "c.set(age = 6)"
   ]
  },
  {
   "cell_type": "code",
   "execution_count": 29,
   "metadata": {
    "collapsed": false,
    "group_control": {
     "group": 0
    }
   },
   "outputs": [
    {
     "name": "stdout",
     "output_type": "stream",
     "text": [
      "Age changed from 0 to 3 \n"
     ]
    }
   ],
   "source": [
    "c2 = Child(father=p, age=3)"
   ]
  },
  {
   "cell_type": "code",
   "execution_count": 30,
   "metadata": {
    "collapsed": false,
    "group_control": {
     "group": 0
    }
   },
   "outputs": [
    {
     "data": {
      "text/plain": [
       "<traits.traits.CTrait at 0x9e23870>"
      ]
     },
     "execution_count": 30,
     "metadata": {},
     "output_type": "execute_result"
    }
   ],
   "source": [
    "c.trait(\"age\")"
   ]
  },
  {
   "cell_type": "code",
   "execution_count": 31,
   "metadata": {
    "collapsed": false,
    "group_control": {
     "group": 0
    }
   },
   "outputs": [
    {
     "data": {
      "text/plain": [
       "'Zhang'"
      ]
     },
     "execution_count": 31,
     "metadata": {},
     "output_type": "execute_result"
    }
   ],
   "source": [
    "p.trait(\"last_name\").default"
   ]
  },
  {
   "cell_type": "code",
   "execution_count": 32,
   "metadata": {
    "collapsed": false,
    "group_control": {
     "group": 0
    }
   },
   "outputs": [
    {
     "name": "stdout",
     "output_type": "stream",
     "text": [
      "The 'father' trait of a Child instance must be a Parent or None, but a value of 2 <type 'int'> was specified.\n"
     ]
    }
   ],
   "source": [
    "try:\n",
    "    c.trait(\"father\").validate(c, \"father\", 2)\n",
    "except TraitError as ex:\n",
    "    print ex"
   ]
  },
  {
   "cell_type": "code",
   "execution_count": 33,
   "metadata": {
    "collapsed": false,
    "group_control": {
     "group": 0
    }
   },
   "outputs": [
    {
     "data": {
      "text/plain": [
       "<__main__.Parent at 0x5d9cc90>"
      ]
     },
     "execution_count": 33,
     "metadata": {},
     "output_type": "execute_result"
    }
   ],
   "source": [
    "c.trait(\"father\").validate(c, \"father\", p)"
   ]
  },
  {
   "cell_type": "code",
   "execution_count": 34,
   "metadata": {
    "collapsed": false,
    "group_control": {
     "group": 0
    }
   },
   "outputs": [
    {
     "name": "stdout",
     "output_type": "stream",
     "text": [
      "Age changed from 8 to 10 \n"
     ]
    },
    {
     "data": {
      "text/plain": [
       "6"
      ]
     },
     "execution_count": 34,
     "metadata": {},
     "output_type": "execute_result"
    }
   ],
   "source": [
    "c.trait_property_changed(\"age\", 8, 10)\n",
    "c.age # age属性值没有发生变化"
   ]
  },
  {
   "cell_type": "code",
   "execution_count": 35,
   "metadata": {
    "collapsed": false,
    "group_control": {
     "group": 0
    }
   },
   "outputs": [
    {
     "name": "stdout",
     "output_type": "stream",
     "text": [
      "<traits.trait_types.Int object at 0x09DC0490>\n",
      "<traits.trait_types.Instance object at 0x09DC0830>\n"
     ]
    }
   ],
   "source": [
    "print c.trait(\"age\").trait_type\n",
    "print c.trait(\"father\").trait_type"
   ]
  },
  {
   "cell_type": "markdown",
   "metadata": {},
   "source": [
    "### Trait类型对象"
   ]
  },
  {
   "cell_type": "code",
   "execution_count": 36,
   "metadata": {
    "collapsed": false,
    "group_control": {
     "group": 0
    }
   },
   "outputs": [],
   "source": [
    "from traits.api import Float, Int, HasTraits\n",
    "\n",
    "class Person(HasTraits):\n",
    "    age = Int(30)\n",
    "    weight = Float"
   ]
  },
  {
   "cell_type": "code",
   "execution_count": 37,
   "metadata": {
    "collapsed": false,
    "group_control": {
     "group": 0
    }
   },
   "outputs": [
    {
     "name": "stdout",
     "output_type": "stream",
     "text": [
      "True\n",
      "True\n"
     ]
    }
   ],
   "source": [
    "p1 = Person()\n",
    "p2 = Person()\n",
    "print p1.trait(\"age\") is p2.trait(\"age\")\n",
    "print p1.trait(\"weight\").trait_type is p2.trait(\"weight\").trait_type "
   ]
  },
  {
   "cell_type": "code",
   "execution_count": 38,
   "metadata": {
    "collapsed": false,
    "group_control": {
     "group": 0
    }
   },
   "outputs": [],
   "source": [
    "from traits.api import HasTraits, Range\n",
    "\n",
    "coefficient = Range(-1.0, 1.0, 0.0)\n",
    "\n",
    "class Quadratic(HasTraits):\n",
    "    c2 = coefficient\n",
    "    c1 = coefficient\n",
    "    c0 = coefficient\n",
    "\n",
    "class Quadratic2(HasTraits):\n",
    "    c2 = Range(-1.0, 1.0, 0.0)\n",
    "    c1 = Range(-1.0, 1.0, 0.0)\n",
    "    c0 = Range(-1.0, 1.0, 0.0)"
   ]
  },
  {
   "cell_type": "code",
   "execution_count": 39,
   "metadata": {
    "collapsed": false,
    "group_control": {
     "group": 0
    }
   },
   "outputs": [
    {
     "name": "stdout",
     "output_type": "stream",
     "text": [
      "True\n",
      "True\n"
     ]
    }
   ],
   "source": [
    "q = Quadratic()\n",
    "\n",
    "print coefficient is q.trait(\"c0\").trait_type\n",
    "print coefficient is q.trait(\"c1\").trait_type"
   ]
  },
  {
   "cell_type": "code",
   "execution_count": 40,
   "metadata": {
    "collapsed": false,
    "group_control": {
     "group": 0
    }
   },
   "outputs": [
    {
     "data": {
      "text/plain": [
       "False"
      ]
     },
     "execution_count": 40,
     "metadata": {},
     "output_type": "execute_result"
    }
   ],
   "source": [
    "q2 = Quadratic2()\n",
    "q2.trait(\"c0\").trait_type is q2.trait(\"c1\").trait_type"
   ]
  },
  {
   "cell_type": "markdown",
   "metadata": {},
   "source": [
    "### Trait的元数据"
   ]
  },
  {
   "cell_type": "code",
   "execution_count": 41,
   "metadata": {
    "collapsed": false,
    "group_control": {
     "group": 0
    }
   },
   "outputs": [],
   "source": [
    "from traits.api import HasTraits, Int, Str, Array, List\n",
    "   \n",
    "class MetadataTest(HasTraits):\n",
    "    i = Int(99, myinfo=\"test my info\") #❶\n",
    "    s = Str(\"test\", label=u\"字符串\")    #❷\n",
    "    # NumPy的数组\n",
    "    a = Array         #❸\n",
    "    # 元素为Int的列表\n",
    "    list = List(Int)  #❹\n",
    "\n",
    "test = MetadataTest()"
   ]
  },
  {
   "cell_type": "code",
   "execution_count": 42,
   "metadata": {
    "collapsed": false,
    "group_control": {
     "group": 0
    }
   },
   "outputs": [
    {
     "data": {
      "text/plain": [
       "{'a': <traits.traits.CTrait at 0x9e4fbe0>,\n",
       " 'i': <traits.traits.CTrait at 0x9e4f9d0>,\n",
       " 'list': <traits.traits.CTrait at 0x9e4fb30>,\n",
       " 's': <traits.traits.CTrait at 0x9e4fa80>,\n",
       " 'trait_added': <traits.traits.CTrait at 0x4fc2c38>,\n",
       " 'trait_modified': <traits.traits.CTrait at 0x4fc2be0>}"
      ]
     },
     "execution_count": 42,
     "metadata": {},
     "output_type": "execute_result"
    }
   ],
   "source": [
    "test.traits()"
   ]
  },
  {
   "cell_type": "code",
   "execution_count": 43,
   "metadata": {
    "collapsed": false,
    "group_control": {
     "group": 0
    }
   },
   "outputs": [
    {
     "name": "stdout",
     "output_type": "stream",
     "text": [
      "99\n",
      "test my info\n",
      "<traits.trait_types.Int object at 0x05DA4F50>\n"
     ]
    }
   ],
   "source": [
    "print test.trait(\"i\").default\n",
    "print test.trait(\"i\").myinfo\n",
    "print test.trait(\"i\").trait_type"
   ]
  },
  {
   "cell_type": "code",
   "execution_count": 44,
   "metadata": {
    "collapsed": false,
    "group_control": {
     "group": 0
    }
   },
   "outputs": [
    {
     "name": "stdout",
     "output_type": "stream",
     "text": [
      "字符串\n"
     ]
    }
   ],
   "source": [
    "print test.trait(\"s\").label"
   ]
  },
  {
   "cell_type": "code",
   "execution_count": 45,
   "metadata": {
    "collapsed": false,
    "group_control": {
     "group": 0
    }
   },
   "outputs": [
    {
     "data": {
      "text/plain": [
       "True"
      ]
     },
     "execution_count": 45,
     "metadata": {},
     "output_type": "execute_result"
    }
   ],
   "source": [
    "test.trait(\"a\").array"
   ]
  },
  {
   "cell_type": "code",
   "execution_count": 46,
   "metadata": {
    "collapsed": false,
    "group_control": {
     "group": 0
    }
   },
   "outputs": [
    {
     "name": "stdout",
     "output_type": "stream",
     "text": [
      "<traits.traits.CTrait object at 0x09E4FB30>\n",
      "<traits.trait_types.List object at 0x05DA46D0>\n",
      "(<traits.traits.CTrait object at 0x09E4FC38>,)\n",
      "<traits.trait_types.Int object at 0x05DA4E50>\n"
     ]
    }
   ],
   "source": [
    "print test.trait(\"list\")\n",
    "print test.trait(\"list\").trait_type\n",
    "print test.trait(\"list\").inner_traits # list属性的内部元素所对应的CTrait对象\n",
    "print test.trait(\"list\").inner_traits[0].trait_type # 内部元素所对应的Trait类型对象"
   ]
  },
  {
   "cell_type": "code",
   "execution_count": null,
   "metadata": {
    "collapsed": false,
    "group_control": {
     "group": 0
    }
   },
   "outputs": [],
   "source": []
  }
 ],
 "metadata": {
  "kernelspec": {
   "display_name": "Python 2",
   "language": "python",
   "name": "python2"
  },
  "language_info": {
   "codemirror_mode": {
    "name": "ipython",
    "version": 2
   },
   "file_extension": ".py",
   "mimetype": "text/x-python",
   "name": "python",
   "nbconvert_exporter": "python",
   "pygments_lexer": "ipython2",
   "version": "2.7.9"
  }
 },
 "nbformat": 4,
 "nbformat_minor": 0
}
