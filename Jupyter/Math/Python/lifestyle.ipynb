{
 "cells": [
  {
   "cell_type": "code",
   "execution_count": 1,
   "metadata": {},
   "outputs": [],
   "source": [
    "import numpy as np\n",
    "import pandas as pd\n",
    "import matplotlib.pyplot as plt\n",
    "from sympy import *\n",
    "from scipy import stats\n",
    "import math\n",
    "import re\n",
    "import csv"
   ]
  },
  {
   "cell_type": "markdown",
   "metadata": {},
   "source": [
    "## 导入数据并清洗"
   ]
  },
  {
   "cell_type": "code",
   "execution_count": 2,
   "metadata": {},
   "outputs": [
    {
     "data": {
      "text/html": [
       "<div>\n",
       "<style scoped>\n",
       "    .dataframe tbody tr th:only-of-type {\n",
       "        vertical-align: middle;\n",
       "    }\n",
       "\n",
       "    .dataframe tbody tr th {\n",
       "        vertical-align: top;\n",
       "    }\n",
       "\n",
       "    .dataframe thead th {\n",
       "        text-align: right;\n",
       "    }\n",
       "</style>\n",
       "<table border=\"1\" class=\"dataframe\">\n",
       "  <thead>\n",
       "    <tr style=\"text-align: right;\">\n",
       "      <th></th>\n",
       "      <th>start</th>\n",
       "      <th>last</th>\n",
       "      <th>delet1</th>\n",
       "      <th>type</th>\n",
       "      <th>delet2</th>\n",
       "      <th>content</th>\n",
       "      <th>remark</th>\n",
       "      <th>tag</th>\n",
       "      <th>state</th>\n",
       "    </tr>\n",
       "  </thead>\n",
       "  <tbody>\n",
       "    <tr>\n",
       "      <th>0</th>\n",
       "      <td>2017-02-09 00:00</td>\n",
       "      <td>450</td>\n",
       "      <td>未分类</td>\n",
       "      <td>睡觉</td>\n",
       "      <td>未分类</td>\n",
       "      <td>NaN</td>\n",
       "      <td>NaN</td>\n",
       "      <td>NaN</td>\n",
       "      <td>已完成</td>\n",
       "    </tr>\n",
       "    <tr>\n",
       "      <th>1</th>\n",
       "      <td>2017-02-09 07:30</td>\n",
       "      <td>30</td>\n",
       "      <td>未分类</td>\n",
       "      <td>杂事</td>\n",
       "      <td>未分类</td>\n",
       "      <td>吃饭</td>\n",
       "      <td>NaN</td>\n",
       "      <td>NaN</td>\n",
       "      <td>已完成</td>\n",
       "    </tr>\n",
       "    <tr>\n",
       "      <th>2</th>\n",
       "      <td>2017-02-09 08:00</td>\n",
       "      <td>240</td>\n",
       "      <td>未分类</td>\n",
       "      <td>工作</td>\n",
       "      <td>未分类</td>\n",
       "      <td>家教</td>\n",
       "      <td>NaN</td>\n",
       "      <td>NaN</td>\n",
       "      <td>已完成</td>\n",
       "    </tr>\n",
       "    <tr>\n",
       "      <th>3</th>\n",
       "      <td>2017-02-09 12:00</td>\n",
       "      <td>30</td>\n",
       "      <td>未分类</td>\n",
       "      <td>杂事</td>\n",
       "      <td>未分类</td>\n",
       "      <td>吃饭</td>\n",
       "      <td>NaN</td>\n",
       "      <td>NaN</td>\n",
       "      <td>已完成</td>\n",
       "    </tr>\n",
       "    <tr>\n",
       "      <th>4</th>\n",
       "      <td>2017-02-09 12:30</td>\n",
       "      <td>30</td>\n",
       "      <td>未分类</td>\n",
       "      <td>睡觉</td>\n",
       "      <td>未分类</td>\n",
       "      <td>午睡</td>\n",
       "      <td>NaN</td>\n",
       "      <td>NaN</td>\n",
       "      <td>已完成</td>\n",
       "    </tr>\n",
       "  </tbody>\n",
       "</table>\n",
       "</div>"
      ],
      "text/plain": [
       "              start  last delet1 type delet2 content remark  tag state\n",
       "0  2017-02-09 00:00   450    未分类   睡觉    未分类     NaN    NaN  NaN   已完成\n",
       "1  2017-02-09 07:30    30    未分类   杂事    未分类      吃饭    NaN  NaN   已完成\n",
       "2  2017-02-09 08:00   240    未分类   工作    未分类      家教    NaN  NaN   已完成\n",
       "3  2017-02-09 12:00    30    未分类   杂事    未分类      吃饭    NaN  NaN   已完成\n",
       "4  2017-02-09 12:30    30    未分类   睡觉    未分类      午睡    NaN  NaN   已完成"
      ]
     },
     "execution_count": 2,
     "metadata": {},
     "output_type": "execute_result"
    }
   ],
   "source": [
    "path = \"./export.csv\"\n",
    "names = ['start', 'last', 'delet1', 'type', 'delet2', 'content', 'remark', 'tag', 'state']\n",
    "data = pd.read_csv(path, names = names, skiprows = [0])\n",
    "data.head()"
   ]
  },
  {
   "cell_type": "code",
   "execution_count": 5,
   "metadata": {},
   "outputs": [
    {
     "name": "stdout",
     "output_type": "stream",
     "text": [
      "(6516, 5)\n"
     ]
    },
    {
     "data": {
      "text/html": [
       "<div>\n",
       "<style scoped>\n",
       "    .dataframe tbody tr th:only-of-type {\n",
       "        vertical-align: middle;\n",
       "    }\n",
       "\n",
       "    .dataframe tbody tr th {\n",
       "        vertical-align: top;\n",
       "    }\n",
       "\n",
       "    .dataframe thead th {\n",
       "        text-align: right;\n",
       "    }\n",
       "</style>\n",
       "<table border=\"1\" class=\"dataframe\">\n",
       "  <thead>\n",
       "    <tr style=\"text-align: right;\">\n",
       "      <th></th>\n",
       "      <th>start</th>\n",
       "      <th>last</th>\n",
       "      <th>type</th>\n",
       "      <th>content</th>\n",
       "      <th>remark</th>\n",
       "    </tr>\n",
       "  </thead>\n",
       "  <tbody>\n",
       "    <tr>\n",
       "      <th>0</th>\n",
       "      <td>2017-02-09 00:00</td>\n",
       "      <td>450</td>\n",
       "      <td>睡觉</td>\n",
       "      <td>NaN</td>\n",
       "      <td>NaN</td>\n",
       "    </tr>\n",
       "    <tr>\n",
       "      <th>1</th>\n",
       "      <td>2017-02-09 07:30</td>\n",
       "      <td>30</td>\n",
       "      <td>杂事</td>\n",
       "      <td>吃饭</td>\n",
       "      <td>NaN</td>\n",
       "    </tr>\n",
       "    <tr>\n",
       "      <th>2</th>\n",
       "      <td>2017-02-09 08:00</td>\n",
       "      <td>240</td>\n",
       "      <td>工作</td>\n",
       "      <td>家教</td>\n",
       "      <td>NaN</td>\n",
       "    </tr>\n",
       "    <tr>\n",
       "      <th>3</th>\n",
       "      <td>2017-02-09 12:00</td>\n",
       "      <td>30</td>\n",
       "      <td>杂事</td>\n",
       "      <td>吃饭</td>\n",
       "      <td>NaN</td>\n",
       "    </tr>\n",
       "    <tr>\n",
       "      <th>4</th>\n",
       "      <td>2017-02-09 12:30</td>\n",
       "      <td>30</td>\n",
       "      <td>睡觉</td>\n",
       "      <td>午睡</td>\n",
       "      <td>NaN</td>\n",
       "    </tr>\n",
       "  </tbody>\n",
       "</table>\n",
       "</div>"
      ],
      "text/plain": [
       "              start  last type content remark\n",
       "0  2017-02-09 00:00   450   睡觉     NaN    NaN\n",
       "1  2017-02-09 07:30    30   杂事      吃饭    NaN\n",
       "2  2017-02-09 08:00   240   工作      家教    NaN\n",
       "3  2017-02-09 12:00    30   杂事      吃饭    NaN\n",
       "4  2017-02-09 12:30    30   睡觉      午睡    NaN"
      ]
     },
     "execution_count": 5,
     "metadata": {},
     "output_type": "execute_result"
    }
   ],
   "source": [
    "df = pd.DataFrame(data)\n",
    "df = df.drop(['delet1', 'delet2', 'tag', 'state'], axis = 1)\n",
    "print(df.shape)\n",
    "df.head()"
   ]
  },
  {
   "cell_type": "code",
   "execution_count": 6,
   "metadata": {},
   "outputs": [
    {
     "name": "stdout",
     "output_type": "stream",
     "text": [
      "['2017-02-09', '2017-02-09', '2017-02-09', '2017-02-09', '2017-02-09'] ['00:00', '07:30', '08:00', '12:00', '12:30']\n"
     ]
    }
   ],
   "source": [
    "date = []\n",
    "start = []\n",
    "for i in range(df.shape[0]):\n",
    "    date.append(df['start'][i].split(' ')[0])\n",
    "    start.append(df['start'][i].split(' ')[1])\n",
    "print(date[:5], start[:5])"
   ]
  },
  {
   "cell_type": "code",
   "execution_count": 7,
   "metadata": {},
   "outputs": [
    {
     "name": "stdout",
     "output_type": "stream",
     "text": [
      "(6516, 2)\n"
     ]
    },
    {
     "data": {
      "text/html": [
       "<div>\n",
       "<style scoped>\n",
       "    .dataframe tbody tr th:only-of-type {\n",
       "        vertical-align: middle;\n",
       "    }\n",
       "\n",
       "    .dataframe tbody tr th {\n",
       "        vertical-align: top;\n",
       "    }\n",
       "\n",
       "    .dataframe thead th {\n",
       "        text-align: right;\n",
       "    }\n",
       "</style>\n",
       "<table border=\"1\" class=\"dataframe\">\n",
       "  <thead>\n",
       "    <tr style=\"text-align: right;\">\n",
       "      <th></th>\n",
       "      <th>date</th>\n",
       "      <th>start</th>\n",
       "    </tr>\n",
       "  </thead>\n",
       "  <tbody>\n",
       "    <tr>\n",
       "      <th>0</th>\n",
       "      <td>2017-02-09</td>\n",
       "      <td>00:00</td>\n",
       "    </tr>\n",
       "    <tr>\n",
       "      <th>1</th>\n",
       "      <td>2017-02-09</td>\n",
       "      <td>07:30</td>\n",
       "    </tr>\n",
       "    <tr>\n",
       "      <th>2</th>\n",
       "      <td>2017-02-09</td>\n",
       "      <td>08:00</td>\n",
       "    </tr>\n",
       "    <tr>\n",
       "      <th>3</th>\n",
       "      <td>2017-02-09</td>\n",
       "      <td>12:00</td>\n",
       "    </tr>\n",
       "    <tr>\n",
       "      <th>4</th>\n",
       "      <td>2017-02-09</td>\n",
       "      <td>12:30</td>\n",
       "    </tr>\n",
       "  </tbody>\n",
       "</table>\n",
       "</div>"
      ],
      "text/plain": [
       "         date  start\n",
       "0  2017-02-09  00:00\n",
       "1  2017-02-09  07:30\n",
       "2  2017-02-09  08:00\n",
       "3  2017-02-09  12:00\n",
       "4  2017-02-09  12:30"
      ]
     },
     "execution_count": 7,
     "metadata": {},
     "output_type": "execute_result"
    }
   ],
   "source": [
    "date_start = pd.DataFrame({'date': date, 'start': start})\n",
    "print(date_start.shape)\n",
    "date_start.head()"
   ]
  },
  {
   "cell_type": "code",
   "execution_count": 8,
   "metadata": {},
   "outputs": [
    {
     "name": "stdout",
     "output_type": "stream",
     "text": [
      "<class 'pandas.core.frame.DataFrame'>\n"
     ]
    },
    {
     "data": {
      "text/plain": [
       "(6516, 6)"
      ]
     },
     "execution_count": 8,
     "metadata": {},
     "output_type": "execute_result"
    }
   ],
   "source": [
    "df = date_start.join(df.drop(columns = 'start'))\n",
    "print(type(df))\n",
    "df.shape"
   ]
  },
  {
   "cell_type": "code",
   "execution_count": 43,
   "metadata": {},
   "outputs": [
    {
     "data": {
      "text/html": [
       "<div>\n",
       "<style scoped>\n",
       "    .dataframe tbody tr th:only-of-type {\n",
       "        vertical-align: middle;\n",
       "    }\n",
       "\n",
       "    .dataframe tbody tr th {\n",
       "        vertical-align: top;\n",
       "    }\n",
       "\n",
       "    .dataframe thead th {\n",
       "        text-align: right;\n",
       "    }\n",
       "</style>\n",
       "<table border=\"1\" class=\"dataframe\">\n",
       "  <thead>\n",
       "    <tr style=\"text-align: right;\">\n",
       "      <th></th>\n",
       "      <th>date</th>\n",
       "      <th>start</th>\n",
       "      <th>last</th>\n",
       "      <th>type</th>\n",
       "      <th>content</th>\n",
       "      <th>remark</th>\n",
       "    </tr>\n",
       "  </thead>\n",
       "  <tbody>\n",
       "    <tr>\n",
       "      <th>0</th>\n",
       "      <td>2017-02-09</td>\n",
       "      <td>00:00</td>\n",
       "      <td>450</td>\n",
       "      <td>睡觉</td>\n",
       "      <td>NaN</td>\n",
       "      <td>NaN</td>\n",
       "    </tr>\n",
       "    <tr>\n",
       "      <th>1</th>\n",
       "      <td>2017-02-09</td>\n",
       "      <td>07:30</td>\n",
       "      <td>30</td>\n",
       "      <td>杂事</td>\n",
       "      <td>吃饭</td>\n",
       "      <td>NaN</td>\n",
       "    </tr>\n",
       "    <tr>\n",
       "      <th>2</th>\n",
       "      <td>2017-02-09</td>\n",
       "      <td>08:00</td>\n",
       "      <td>240</td>\n",
       "      <td>工作</td>\n",
       "      <td>家教</td>\n",
       "      <td>NaN</td>\n",
       "    </tr>\n",
       "    <tr>\n",
       "      <th>3</th>\n",
       "      <td>2017-02-09</td>\n",
       "      <td>12:00</td>\n",
       "      <td>30</td>\n",
       "      <td>杂事</td>\n",
       "      <td>吃饭</td>\n",
       "      <td>NaN</td>\n",
       "    </tr>\n",
       "    <tr>\n",
       "      <th>4</th>\n",
       "      <td>2017-02-09</td>\n",
       "      <td>12:30</td>\n",
       "      <td>30</td>\n",
       "      <td>睡觉</td>\n",
       "      <td>午睡</td>\n",
       "      <td>NaN</td>\n",
       "    </tr>\n",
       "  </tbody>\n",
       "</table>\n",
       "</div>"
      ],
      "text/plain": [
       "         date  start  last type content remark\n",
       "0  2017-02-09  00:00   450   睡觉     NaN    NaN\n",
       "1  2017-02-09  07:30    30   杂事      吃饭    NaN\n",
       "2  2017-02-09  08:00   240   工作      家教    NaN\n",
       "3  2017-02-09  12:00    30   杂事      吃饭    NaN\n",
       "4  2017-02-09  12:30    30   睡觉      午睡    NaN"
      ]
     },
     "execution_count": 43,
     "metadata": {},
     "output_type": "execute_result"
    }
   ],
   "source": [
    "df.head()"
   ]
  },
  {
   "cell_type": "markdown",
   "metadata": {},
   "source": [
    "## 描述统计"
   ]
  },
  {
   "cell_type": "code",
   "execution_count": 65,
   "metadata": {},
   "outputs": [
    {
     "name": "stdout",
     "output_type": "stream",
     "text": [
      "count    6516.000000\n",
      "mean       95.232505\n",
      "std       106.216357\n",
      "min        15.000000\n",
      "25%        30.000000\n",
      "50%        60.000000\n",
      "75%       120.000000\n",
      "max       690.000000\n",
      "Name: last, dtype: float64\n",
      "众数：[30]，计数：[2331]\n"
     ]
    }
   ],
   "source": [
    "print(df['last'].describe())\n",
    "data = df['last']\n",
    "print(\"众数：{0}，计数：{1}\".format(stats.mode(data)[0],stats.mode(data)[1]))    #众数"
   ]
  },
  {
   "cell_type": "code",
   "execution_count": 70,
   "metadata": {},
   "outputs": [
    {
     "name": "stdout",
     "output_type": "stream",
     "text": [
      "极差：675、方差：11280.183050264517、标准差：106.2082061342932、变异系数：0.8966586299709874\n"
     ]
    }
   ],
   "source": [
    "print(\"极差：{}、方差：{}、标准差：{}、变异系数：{}\".format(np.ptp(data), np.var(data), \n",
    "                                          np.std(data), np.mean(data) / np.std(data)))"
   ]
  },
  {
   "cell_type": "markdown",
   "metadata": {},
   "source": [
    "### 对时长进行频率统计"
   ]
  },
  {
   "cell_type": "code",
   "execution_count": 203,
   "metadata": {},
   "outputs": [
    {
     "name": "stdout",
     "output_type": "stream",
     "text": [
      "[15, 30, 45, 60, 75, 90, 105, 120, 135, 150, 165, 180, 195, 210, 225, 240, 255, 270, 285, 300, 315, 330, 345, 360, 375, 390, 405, 420, 435, 450, 465, 480, 495, 510, 540, 570, 600, 630, 690] [2.651278013998144, 3.3675422735205767, 2.130333768495006, 3.049605612594973, 1.9493900066449128, 2.8102325179950842, 1.8512583487190752, 2.630427875025024, 1.6532125137753437, 2.3324384599156054, 1.462397997898956, 2.2278867046136734, 1.3010299956639813, 1.9590413923210936, 1.1760912590556813, 1.8129133566428555, 0.8450980400142568, 1.6989700043360187, 0.6020599913279624, 1.662757831681574, 0.3010299956639812, 1.5440680443502757, 0.6020599913279624, 1.9493900066449128, 0.7781512503836436, 2.0043213737826426, 1.1139433523068367, 2.0170333392987803, 1.2304489213782739, 1.7403626894942439, 1.1760912590556813, 1.414973347970818, 0.47712125471966244, 1.0413926851582251, 0.6020599913279624, 0.47712125471966244, 0.0, 0.3010299956639812, 0.0]\n"
     ]
    }
   ],
   "source": [
    "dataFreq = {}\n",
    "for i in data: \n",
    "        dataFreq[i] = dataFreq.get(i, 0) + 1\n",
    "dataFreq.items()\n",
    "time = list(dataFreq.keys())\n",
    "freq = list(dataFreq.values())\n",
    "\n",
    "count = []\n",
    "for i in range(len(time)):\n",
    "    count.append([time[i], np.log10(freq[i])])\n",
    "count.sort()\n",
    "for i in range(len(time)):\n",
    "    time[i] = count[i][0]\n",
    "    freq[i] = count[i][1]\n",
    "print(time, freq)"
   ]
  },
  {
   "cell_type": "code",
   "execution_count": 209,
   "metadata": {},
   "outputs": [
    {
     "data": {
      "image/png": "[encoded data removed]",
      "text/plain": [
       "<Figure size 432x288 with 1 Axes>"
      ]
     },
     "metadata": {},
     "output_type": "display_data"
    }
   ],
   "source": [
    "plt.hist([time, freq])\n",
    "plt.show()"
   ]
  },
  {
   "cell_type": "markdown",
   "metadata": {},
   "source": [
    "## 频域分析"
   ]
  },
  {
   "cell_type": "code",
   "execution_count": 28,
   "metadata": {},
   "outputs": [
    {
     "data": {
      "text/plain": [
       "array([450,  30, 240, ..., 150,  45,  60], dtype=int64)"
      ]
     },
     "execution_count": 28,
     "metadata": {},
     "output_type": "execute_result"
    }
   ],
   "source": [
    "x = np.array(df['last'])\n",
    "x"
   ]
  },
  {
   "cell_type": "code",
   "execution_count": 20,
   "metadata": {},
   "outputs": [
    {
     "data": {
      "text/plain": [
       "(6516,)"
      ]
     },
     "execution_count": 20,
     "metadata": {},
     "output_type": "execute_result"
    }
   ],
   "source": [
    "wave = np.cos(x)\n",
    "y = np.fft.fft(wave)\n",
    "y.shape"
   ]
  },
  {
   "cell_type": "code",
   "execution_count": 21,
   "metadata": {},
   "outputs": [
    {
     "name": "stderr",
     "output_type": "stream",
     "text": [
      "D:\\Anaconda3\\lib\\site-packages\\numpy\\core\\numeric.py:492: ComplexWarning: Casting complex values to real discards the imaginary part\n",
      "  return array(a, dtype, copy=False, order=order)\n"
     ]
    },
    {
     "data": {
      "image/png": "[encoded data removed]",
      "text/plain": [
       "<Figure size 432x288 with 1 Axes>"
      ]
     },
     "metadata": {},
     "output_type": "display_data"
    }
   ],
   "source": [
    "plt.plot(y)\n",
    "plt.grid()\n",
    "plt.show()"
   ]
  },
  {
   "cell_type": "code",
   "execution_count": null,
   "metadata": {},
   "outputs": [],
   "source": []
  }
 ],
 "metadata": {
  "kernelspec": {
   "display_name": "Python 3",
   "language": "python",
   "name": "python3"
  },
  "language_info": {
   "codemirror_mode": {
    "name": "ipython",
    "version": 3
   },
   "file_extension": ".py",
   "mimetype": "text/x-python",
   "name": "python",
   "nbconvert_exporter": "python",
   "pygments_lexer": "ipython3",
   "version": "3.6.5"
  }
 },
 "nbformat": 4,
 "nbformat_minor": 2
}
