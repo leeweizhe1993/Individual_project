{
 "cells": [
  {
   "cell_type": "markdown",
   "metadata": {
    "toc-hr-collapsed": true
   },
   "source": [
    "# Questionnaire"
   ]
  },
  {
   "cell_type": "code",
   "execution_count": 1,
   "metadata": {},
   "outputs": [],
   "source": [
    "library(psych)"
   ]
  },
  {
   "cell_type": "markdown",
   "metadata": {},
   "source": [
    "## SUS"
   ]
  },
  {
   "cell_type": "code",
   "execution_count": 2,
   "metadata": {},
   "outputs": [],
   "source": [
    "eye_scale = read.csv('questionnaire.csv')"
   ]
  },
  {
   "cell_type": "code",
   "execution_count": 3,
   "metadata": {},
   "outputs": [
    {
     "data": {
      "text/html": [
       "<table>\n",
       "<caption>A data.frame: 20 × 10</caption>\n",
       "<thead>\n",
       "\t<tr><th scope=col>I.think.that.I.would.like.to.use.the.system.frequently</th><th scope=col>I.found.the.system.to.be.simple</th><th scope=col>I.thought.the.system.was.easy.to.use</th><th scope=col>I.think.that.I.could.use.the.system.without.the.support.of.a.technical.person</th><th scope=col>I.found.the.various.functions.in.the.system.were.well.integrated</th><th scope=col>I.thought.there.was.a.lot.of.consistency.in.the.system</th><th scope=col>I.would.imagine.that.most.people.would.learn.to.use.the.system.very.quickly</th><th scope=col>I.found.the.system.very.intuitive</th><th scope=col>I.felt.very.confident.using.the.system</th><th scope=col>I.could.use.the.system.without.having.to.learn.anything.new</th></tr>\n",
       "\t<tr><th scope=col>&lt;int&gt;</th><th scope=col>&lt;int&gt;</th><th scope=col>&lt;int&gt;</th><th scope=col>&lt;int&gt;</th><th scope=col>&lt;int&gt;</th><th scope=col>&lt;int&gt;</th><th scope=col>&lt;int&gt;</th><th scope=col>&lt;int&gt;</th><th scope=col>&lt;int&gt;</th><th scope=col>&lt;int&gt;</th></tr>\n",
       "</thead>\n",
       "<tbody>\n",
       "\t<tr><td>2</td><td>4</td><td>3</td><td>3</td><td>1</td><td>4</td><td>4</td><td>4</td><td>3</td><td>4</td></tr>\n",
       "\t<tr><td>4</td><td>4</td><td>4</td><td>3</td><td>4</td><td>3</td><td>4</td><td>3</td><td>4</td><td>3</td></tr>\n",
       "\t<tr><td>5</td><td>4</td><td>5</td><td>3</td><td>4</td><td>3</td><td>5</td><td>5</td><td>4</td><td>5</td></tr>\n",
       "\t<tr><td>4</td><td>5</td><td>4</td><td>4</td><td>4</td><td>4</td><td>5</td><td>5</td><td>5</td><td>5</td></tr>\n",
       "\t<tr><td>3</td><td>3</td><td>4</td><td>4</td><td>2</td><td>3</td><td>4</td><td>3</td><td>4</td><td>4</td></tr>\n",
       "\t<tr><td>4</td><td>4</td><td>3</td><td>4</td><td>4</td><td>4</td><td>2</td><td>4</td><td>5</td><td>4</td></tr>\n",
       "\t<tr><td>4</td><td>4</td><td>5</td><td>5</td><td>4</td><td>4</td><td>5</td><td>4</td><td>4</td><td>3</td></tr>\n",
       "\t<tr><td>4</td><td>5</td><td>4</td><td>4</td><td>3</td><td>3</td><td>5</td><td>4</td><td>4</td><td>5</td></tr>\n",
       "\t<tr><td>3</td><td>3</td><td>4</td><td>4</td><td>3</td><td>2</td><td>5</td><td>5</td><td>4</td><td>5</td></tr>\n",
       "\t<tr><td>3</td><td>5</td><td>4</td><td>4</td><td>3</td><td>4</td><td>4</td><td>4</td><td>5</td><td>4</td></tr>\n",
       "\t<tr><td>4</td><td>3</td><td>5</td><td>5</td><td>4</td><td>4</td><td>5</td><td>5</td><td>5</td><td>4</td></tr>\n",
       "\t<tr><td>2</td><td>2</td><td>2</td><td>2</td><td>2</td><td>3</td><td>4</td><td>4</td><td>2</td><td>3</td></tr>\n",
       "\t<tr><td>3</td><td>3</td><td>3</td><td>5</td><td>4</td><td>4</td><td>4</td><td>5</td><td>2</td><td>5</td></tr>\n",
       "\t<tr><td>5</td><td>4</td><td>5</td><td>5</td><td>4</td><td>5</td><td>5</td><td>5</td><td>5</td><td>5</td></tr>\n",
       "\t<tr><td>2</td><td>3</td><td>3</td><td>4</td><td>4</td><td>4</td><td>3</td><td>4</td><td>5</td><td>5</td></tr>\n",
       "\t<tr><td>5</td><td>5</td><td>5</td><td>5</td><td>5</td><td>5</td><td>5</td><td>5</td><td>5</td><td>5</td></tr>\n",
       "\t<tr><td>2</td><td>2</td><td>3</td><td>4</td><td>3</td><td>1</td><td>2</td><td>2</td><td>1</td><td>3</td></tr>\n",
       "\t<tr><td>3</td><td>2</td><td>2</td><td>1</td><td>5</td><td>4</td><td>4</td><td>4</td><td>3</td><td>5</td></tr>\n",
       "\t<tr><td>5</td><td>5</td><td>5</td><td>5</td><td>4</td><td>4</td><td>5</td><td>5</td><td>5</td><td>4</td></tr>\n",
       "\t<tr><td>4</td><td>5</td><td>5</td><td>3</td><td>4</td><td>5</td><td>5</td><td>4</td><td>5</td><td>5</td></tr>\n",
       "</tbody>\n",
       "</table>\n"
      ],
      "text/latex": [
       "A data.frame: 20 × 10\n",
       "\\begin{tabular}{llllllllll}\n",
       " I.think.that.I.would.like.to.use.the.system.frequently & I.found.the.system.to.be.simple & I.thought.the.system.was.easy.to.use & I.think.that.I.could.use.the.system.without.the.support.of.a.technical.person & I.found.the.various.functions.in.the.system.were.well.integrated & I.thought.there.was.a.lot.of.consistency.in.the.system & I.would.imagine.that.most.people.would.learn.to.use.the.system.very.quickly & I.found.the.system.very.intuitive & I.felt.very.confident.using.the.system & I.could.use.the.system.without.having.to.learn.anything.new\\\\\n",
       " <int> & <int> & <int> & <int> & <int> & <int> & <int> & <int> & <int> & <int>\\\\\n",
       "\\hline\n",
       "\t 2 & 4 & 3 & 3 & 1 & 4 & 4 & 4 & 3 & 4\\\\\n",
       "\t 4 & 4 & 4 & 3 & 4 & 3 & 4 & 3 & 4 & 3\\\\\n",
       "\t 5 & 4 & 5 & 3 & 4 & 3 & 5 & 5 & 4 & 5\\\\\n",
       "\t 4 & 5 & 4 & 4 & 4 & 4 & 5 & 5 & 5 & 5\\\\\n",
       "\t 3 & 3 & 4 & 4 & 2 & 3 & 4 & 3 & 4 & 4\\\\\n",
       "\t 4 & 4 & 3 & 4 & 4 & 4 & 2 & 4 & 5 & 4\\\\\n",
       "\t 4 & 4 & 5 & 5 & 4 & 4 & 5 & 4 & 4 & 3\\\\\n",
       "\t 4 & 5 & 4 & 4 & 3 & 3 & 5 & 4 & 4 & 5\\\\\n",
       "\t 3 & 3 & 4 & 4 & 3 & 2 & 5 & 5 & 4 & 5\\\\\n",
       "\t 3 & 5 & 4 & 4 & 3 & 4 & 4 & 4 & 5 & 4\\\\\n",
       "\t 4 & 3 & 5 & 5 & 4 & 4 & 5 & 5 & 5 & 4\\\\\n",
       "\t 2 & 2 & 2 & 2 & 2 & 3 & 4 & 4 & 2 & 3\\\\\n",
       "\t 3 & 3 & 3 & 5 & 4 & 4 & 4 & 5 & 2 & 5\\\\\n",
       "\t 5 & 4 & 5 & 5 & 4 & 5 & 5 & 5 & 5 & 5\\\\\n",
       "\t 2 & 3 & 3 & 4 & 4 & 4 & 3 & 4 & 5 & 5\\\\\n",
       "\t 5 & 5 & 5 & 5 & 5 & 5 & 5 & 5 & 5 & 5\\\\\n",
       "\t 2 & 2 & 3 & 4 & 3 & 1 & 2 & 2 & 1 & 3\\\\\n",
       "\t 3 & 2 & 2 & 1 & 5 & 4 & 4 & 4 & 3 & 5\\\\\n",
       "\t 5 & 5 & 5 & 5 & 4 & 4 & 5 & 5 & 5 & 4\\\\\n",
       "\t 4 & 5 & 5 & 3 & 4 & 5 & 5 & 4 & 5 & 5\\\\\n",
       "\\end{tabular}\n"
      ],
      "text/markdown": [
       "\n",
       "A data.frame: 20 × 10\n",
       "\n",
       "| I.think.that.I.would.like.to.use.the.system.frequently &lt;int&gt; | I.found.the.system.to.be.simple &lt;int&gt; | I.thought.the.system.was.easy.to.use &lt;int&gt; | I.think.that.I.could.use.the.system.without.the.support.of.a.technical.person &lt;int&gt; | I.found.the.various.functions.in.the.system.were.well.integrated &lt;int&gt; | I.thought.there.was.a.lot.of.consistency.in.the.system &lt;int&gt; | I.would.imagine.that.most.people.would.learn.to.use.the.system.very.quickly &lt;int&gt; | I.found.the.system.very.intuitive &lt;int&gt; | I.felt.very.confident.using.the.system &lt;int&gt; | I.could.use.the.system.without.having.to.learn.anything.new &lt;int&gt; |\n",
       "|---|---|---|---|---|---|---|---|---|---|\n",
       "| 2 | 4 | 3 | 3 | 1 | 4 | 4 | 4 | 3 | 4 |\n",
       "| 4 | 4 | 4 | 3 | 4 | 3 | 4 | 3 | 4 | 3 |\n",
       "| 5 | 4 | 5 | 3 | 4 | 3 | 5 | 5 | 4 | 5 |\n",
       "| 4 | 5 | 4 | 4 | 4 | 4 | 5 | 5 | 5 | 5 |\n",
       "| 3 | 3 | 4 | 4 | 2 | 3 | 4 | 3 | 4 | 4 |\n",
       "| 4 | 4 | 3 | 4 | 4 | 4 | 2 | 4 | 5 | 4 |\n",
       "| 4 | 4 | 5 | 5 | 4 | 4 | 5 | 4 | 4 | 3 |\n",
       "| 4 | 5 | 4 | 4 | 3 | 3 | 5 | 4 | 4 | 5 |\n",
       "| 3 | 3 | 4 | 4 | 3 | 2 | 5 | 5 | 4 | 5 |\n",
       "| 3 | 5 | 4 | 4 | 3 | 4 | 4 | 4 | 5 | 4 |\n",
       "| 4 | 3 | 5 | 5 | 4 | 4 | 5 | 5 | 5 | 4 |\n",
       "| 2 | 2 | 2 | 2 | 2 | 3 | 4 | 4 | 2 | 3 |\n",
       "| 3 | 3 | 3 | 5 | 4 | 4 | 4 | 5 | 2 | 5 |\n",
       "| 5 | 4 | 5 | 5 | 4 | 5 | 5 | 5 | 5 | 5 |\n",
       "| 2 | 3 | 3 | 4 | 4 | 4 | 3 | 4 | 5 | 5 |\n",
       "| 5 | 5 | 5 | 5 | 5 | 5 | 5 | 5 | 5 | 5 |\n",
       "| 2 | 2 | 3 | 4 | 3 | 1 | 2 | 2 | 1 | 3 |\n",
       "| 3 | 2 | 2 | 1 | 5 | 4 | 4 | 4 | 3 | 5 |\n",
       "| 5 | 5 | 5 | 5 | 4 | 4 | 5 | 5 | 5 | 4 |\n",
       "| 4 | 5 | 5 | 3 | 4 | 5 | 5 | 4 | 5 | 5 |\n",
       "\n"
      ],
      "text/plain": [
       "   I.think.that.I.would.like.to.use.the.system.frequently\n",
       "1  2                                                     \n",
       "2  4                                                     \n",
       "3  5                                                     \n",
       "4  4                                                     \n",
       "5  3                                                     \n",
       "6  4                                                     \n",
       "7  4                                                     \n",
       "8  4                                                     \n",
       "9  3                                                     \n",
       "10 3                                                     \n",
       "11 4                                                     \n",
       "12 2                                                     \n",
       "13 3                                                     \n",
       "14 5                                                     \n",
       "15 2                                                     \n",
       "16 5                                                     \n",
       "17 2                                                     \n",
       "18 3                                                     \n",
       "19 5                                                     \n",
       "20 4                                                     \n",
       "   I.found.the.system.to.be.simple I.thought.the.system.was.easy.to.use\n",
       "1  4                               3                                   \n",
       "2  4                               4                                   \n",
       "3  4                               5                                   \n",
       "4  5                               4                                   \n",
       "5  3                               4                                   \n",
       "6  4                               3                                   \n",
       "7  4                               5                                   \n",
       "8  5                               4                                   \n",
       "9  3                               4                                   \n",
       "10 5                               4                                   \n",
       "11 3                               5                                   \n",
       "12 2                               2                                   \n",
       "13 3                               3                                   \n",
       "14 4                               5                                   \n",
       "15 3                               3                                   \n",
       "16 5                               5                                   \n",
       "17 2                               3                                   \n",
       "18 2                               2                                   \n",
       "19 5                               5                                   \n",
       "20 5                               5                                   \n",
       "   I.think.that.I.could.use.the.system.without.the.support.of.a.technical.person\n",
       "1  3                                                                            \n",
       "2  3                                                                            \n",
       "3  3                                                                            \n",
       "4  4                                                                            \n",
       "5  4                                                                            \n",
       "6  4                                                                            \n",
       "7  5                                                                            \n",
       "8  4                                                                            \n",
       "9  4                                                                            \n",
       "10 4                                                                            \n",
       "11 5                                                                            \n",
       "12 2                                                                            \n",
       "13 5                                                                            \n",
       "14 5                                                                            \n",
       "15 4                                                                            \n",
       "16 5                                                                            \n",
       "17 4                                                                            \n",
       "18 1                                                                            \n",
       "19 5                                                                            \n",
       "20 3                                                                            \n",
       "   I.found.the.various.functions.in.the.system.were.well.integrated\n",
       "1  1                                                               \n",
       "2  4                                                               \n",
       "3  4                                                               \n",
       "4  4                                                               \n",
       "5  2                                                               \n",
       "6  4                                                               \n",
       "7  4                                                               \n",
       "8  3                                                               \n",
       "9  3                                                               \n",
       "10 3                                                               \n",
       "11 4                                                               \n",
       "12 2                                                               \n",
       "13 4                                                               \n",
       "14 4                                                               \n",
       "15 4                                                               \n",
       "16 5                                                               \n",
       "17 3                                                               \n",
       "18 5                                                               \n",
       "19 4                                                               \n",
       "20 4                                                               \n",
       "   I.thought.there.was.a.lot.of.consistency.in.the.system\n",
       "1  4                                                     \n",
       "2  3                                                     \n",
       "3  3                                                     \n",
       "4  4                                                     \n",
       "5  3                                                     \n",
       "6  4                                                     \n",
       "7  4                                                     \n",
       "8  3                                                     \n",
       "9  2                                                     \n",
       "10 4                                                     \n",
       "11 4                                                     \n",
       "12 3                                                     \n",
       "13 4                                                     \n",
       "14 5                                                     \n",
       "15 4                                                     \n",
       "16 5                                                     \n",
       "17 1                                                     \n",
       "18 4                                                     \n",
       "19 4                                                     \n",
       "20 5                                                     \n",
       "   I.would.imagine.that.most.people.would.learn.to.use.the.system.very.quickly\n",
       "1  4                                                                          \n",
       "2  4                                                                          \n",
       "3  5                                                                          \n",
       "4  5                                                                          \n",
       "5  4                                                                          \n",
       "6  2                                                                          \n",
       "7  5                                                                          \n",
       "8  5                                                                          \n",
       "9  5                                                                          \n",
       "10 4                                                                          \n",
       "11 5                                                                          \n",
       "12 4                                                                          \n",
       "13 4                                                                          \n",
       "14 5                                                                          \n",
       "15 3                                                                          \n",
       "16 5                                                                          \n",
       "17 2                                                                          \n",
       "18 4                                                                          \n",
       "19 5                                                                          \n",
       "20 5                                                                          \n",
       "   I.found.the.system.very.intuitive I.felt.very.confident.using.the.system\n",
       "1  4                                 3                                     \n",
       "2  3                                 4                                     \n",
       "3  5                                 4                                     \n",
       "4  5                                 5                                     \n",
       "5  3                                 4                                     \n",
       "6  4                                 5                                     \n",
       "7  4                                 4                                     \n",
       "8  4                                 4                                     \n",
       "9  5                                 4                                     \n",
       "10 4                                 5                                     \n",
       "11 5                                 5                                     \n",
       "12 4                                 2                                     \n",
       "13 5                                 2                                     \n",
       "14 5                                 5                                     \n",
       "15 4                                 5                                     \n",
       "16 5                                 5                                     \n",
       "17 2                                 1                                     \n",
       "18 4                                 3                                     \n",
       "19 5                                 5                                     \n",
       "20 4                                 5                                     \n",
       "   I.could.use.the.system.without.having.to.learn.anything.new\n",
       "1  4                                                          \n",
       "2  3                                                          \n",
       "3  5                                                          \n",
       "4  5                                                          \n",
       "5  4                                                          \n",
       "6  4                                                          \n",
       "7  3                                                          \n",
       "8  5                                                          \n",
       "9  5                                                          \n",
       "10 4                                                          \n",
       "11 4                                                          \n",
       "12 3                                                          \n",
       "13 5                                                          \n",
       "14 5                                                          \n",
       "15 5                                                          \n",
       "16 5                                                          \n",
       "17 3                                                          \n",
       "18 5                                                          \n",
       "19 4                                                          \n",
       "20 5                                                          "
      ]
     },
     "metadata": {},
     "output_type": "display_data"
    }
   ],
   "source": [
    "eye_scale"
   ]
  },
  {
   "cell_type": "code",
   "execution_count": 4,
   "metadata": {},
   "outputs": [
    {
     "data": {
      "text/plain": [
       "\n",
       "\tOne Sample t-test\n",
       "\n",
       "data:  sus_list\n",
       "t = 24.338, df = 9, p-value = 1.598e-09\n",
       "alternative hypothesis: true mean is not equal to 0\n",
       "95 percent confidence interval:\n",
       " 65.53459 78.96541\n",
       "sample estimates:\n",
       "mean of x \n",
       "    72.25 \n"
      ]
     },
     "metadata": {},
     "output_type": "display_data"
    }
   ],
   "source": [
    "sus_list = c()\n",
    "\n",
    "for (i in eye_scale[1:10,1:10]){\n",
    "    sus_list[length(sus_list) + 1] = ((sum(i) - 10) * 2.5)\n",
    "}\n",
    "\n",
    "t.test(sus_list)"
   ]
  },
  {
   "cell_type": "markdown",
   "metadata": {},
   "source": [
    "## Cronbach's alpha"
   ]
  },
  {
   "cell_type": "code",
   "execution_count": 5,
   "metadata": {},
   "outputs": [
    {
     "data": {
      "text/html": [
       "<table>\n",
       "<caption>A data.frame: 20 × 10</caption>\n",
       "<thead>\n",
       "\t<tr><th scope=col>I.think.that.I.would.like.to.use.the.system.frequently</th><th scope=col>I.found.the.system.to.be.simple</th><th scope=col>I.thought.the.system.was.easy.to.use</th><th scope=col>I.think.that.I.could.use.the.system.without.the.support.of.a.technical.person</th><th scope=col>I.found.the.various.functions.in.the.system.were.well.integrated</th><th scope=col>I.thought.there.was.a.lot.of.consistency.in.the.system</th><th scope=col>I.would.imagine.that.most.people.would.learn.to.use.the.system.very.quickly</th><th scope=col>I.found.the.system.very.intuitive</th><th scope=col>I.felt.very.confident.using.the.system</th><th scope=col>I.could.use.the.system.without.having.to.learn.anything.new</th></tr>\n",
       "\t<tr><th scope=col>&lt;int&gt;</th><th scope=col>&lt;int&gt;</th><th scope=col>&lt;int&gt;</th><th scope=col>&lt;int&gt;</th><th scope=col>&lt;int&gt;</th><th scope=col>&lt;int&gt;</th><th scope=col>&lt;int&gt;</th><th scope=col>&lt;int&gt;</th><th scope=col>&lt;int&gt;</th><th scope=col>&lt;int&gt;</th></tr>\n",
       "</thead>\n",
       "<tbody>\n",
       "\t<tr><td>2</td><td>4</td><td>3</td><td>3</td><td>1</td><td>4</td><td>4</td><td>4</td><td>3</td><td>4</td></tr>\n",
       "\t<tr><td>4</td><td>4</td><td>4</td><td>3</td><td>4</td><td>3</td><td>4</td><td>3</td><td>4</td><td>3</td></tr>\n",
       "\t<tr><td>5</td><td>4</td><td>5</td><td>3</td><td>4</td><td>3</td><td>5</td><td>5</td><td>4</td><td>5</td></tr>\n",
       "\t<tr><td>4</td><td>5</td><td>4</td><td>4</td><td>4</td><td>4</td><td>5</td><td>5</td><td>5</td><td>5</td></tr>\n",
       "\t<tr><td>3</td><td>3</td><td>4</td><td>4</td><td>2</td><td>3</td><td>4</td><td>3</td><td>4</td><td>4</td></tr>\n",
       "\t<tr><td>4</td><td>4</td><td>3</td><td>4</td><td>4</td><td>4</td><td>2</td><td>4</td><td>5</td><td>4</td></tr>\n",
       "\t<tr><td>4</td><td>4</td><td>5</td><td>5</td><td>4</td><td>4</td><td>5</td><td>4</td><td>4</td><td>3</td></tr>\n",
       "\t<tr><td>4</td><td>5</td><td>4</td><td>4</td><td>3</td><td>3</td><td>5</td><td>4</td><td>4</td><td>5</td></tr>\n",
       "\t<tr><td>3</td><td>3</td><td>4</td><td>4</td><td>3</td><td>2</td><td>5</td><td>5</td><td>4</td><td>5</td></tr>\n",
       "\t<tr><td>3</td><td>5</td><td>4</td><td>4</td><td>3</td><td>4</td><td>4</td><td>4</td><td>5</td><td>4</td></tr>\n",
       "\t<tr><td>4</td><td>3</td><td>5</td><td>5</td><td>4</td><td>4</td><td>5</td><td>5</td><td>5</td><td>4</td></tr>\n",
       "\t<tr><td>2</td><td>2</td><td>2</td><td>2</td><td>2</td><td>3</td><td>4</td><td>4</td><td>2</td><td>3</td></tr>\n",
       "\t<tr><td>3</td><td>3</td><td>3</td><td>5</td><td>4</td><td>4</td><td>4</td><td>5</td><td>2</td><td>5</td></tr>\n",
       "\t<tr><td>5</td><td>4</td><td>5</td><td>5</td><td>4</td><td>5</td><td>5</td><td>5</td><td>5</td><td>5</td></tr>\n",
       "\t<tr><td>2</td><td>3</td><td>3</td><td>4</td><td>4</td><td>4</td><td>3</td><td>4</td><td>5</td><td>5</td></tr>\n",
       "\t<tr><td>5</td><td>5</td><td>5</td><td>5</td><td>5</td><td>5</td><td>5</td><td>5</td><td>5</td><td>5</td></tr>\n",
       "\t<tr><td>2</td><td>2</td><td>3</td><td>4</td><td>3</td><td>1</td><td>2</td><td>2</td><td>1</td><td>3</td></tr>\n",
       "\t<tr><td>3</td><td>2</td><td>2</td><td>1</td><td>5</td><td>4</td><td>4</td><td>4</td><td>3</td><td>5</td></tr>\n",
       "\t<tr><td>5</td><td>5</td><td>5</td><td>5</td><td>4</td><td>4</td><td>5</td><td>5</td><td>5</td><td>4</td></tr>\n",
       "\t<tr><td>4</td><td>5</td><td>5</td><td>3</td><td>4</td><td>5</td><td>5</td><td>4</td><td>5</td><td>5</td></tr>\n",
       "</tbody>\n",
       "</table>\n"
      ],
      "text/latex": [
       "A data.frame: 20 × 10\n",
       "\\begin{tabular}{llllllllll}\n",
       " I.think.that.I.would.like.to.use.the.system.frequently & I.found.the.system.to.be.simple & I.thought.the.system.was.easy.to.use & I.think.that.I.could.use.the.system.without.the.support.of.a.technical.person & I.found.the.various.functions.in.the.system.were.well.integrated & I.thought.there.was.a.lot.of.consistency.in.the.system & I.would.imagine.that.most.people.would.learn.to.use.the.system.very.quickly & I.found.the.system.very.intuitive & I.felt.very.confident.using.the.system & I.could.use.the.system.without.having.to.learn.anything.new\\\\\n",
       " <int> & <int> & <int> & <int> & <int> & <int> & <int> & <int> & <int> & <int>\\\\\n",
       "\\hline\n",
       "\t 2 & 4 & 3 & 3 & 1 & 4 & 4 & 4 & 3 & 4\\\\\n",
       "\t 4 & 4 & 4 & 3 & 4 & 3 & 4 & 3 & 4 & 3\\\\\n",
       "\t 5 & 4 & 5 & 3 & 4 & 3 & 5 & 5 & 4 & 5\\\\\n",
       "\t 4 & 5 & 4 & 4 & 4 & 4 & 5 & 5 & 5 & 5\\\\\n",
       "\t 3 & 3 & 4 & 4 & 2 & 3 & 4 & 3 & 4 & 4\\\\\n",
       "\t 4 & 4 & 3 & 4 & 4 & 4 & 2 & 4 & 5 & 4\\\\\n",
       "\t 4 & 4 & 5 & 5 & 4 & 4 & 5 & 4 & 4 & 3\\\\\n",
       "\t 4 & 5 & 4 & 4 & 3 & 3 & 5 & 4 & 4 & 5\\\\\n",
       "\t 3 & 3 & 4 & 4 & 3 & 2 & 5 & 5 & 4 & 5\\\\\n",
       "\t 3 & 5 & 4 & 4 & 3 & 4 & 4 & 4 & 5 & 4\\\\\n",
       "\t 4 & 3 & 5 & 5 & 4 & 4 & 5 & 5 & 5 & 4\\\\\n",
       "\t 2 & 2 & 2 & 2 & 2 & 3 & 4 & 4 & 2 & 3\\\\\n",
       "\t 3 & 3 & 3 & 5 & 4 & 4 & 4 & 5 & 2 & 5\\\\\n",
       "\t 5 & 4 & 5 & 5 & 4 & 5 & 5 & 5 & 5 & 5\\\\\n",
       "\t 2 & 3 & 3 & 4 & 4 & 4 & 3 & 4 & 5 & 5\\\\\n",
       "\t 5 & 5 & 5 & 5 & 5 & 5 & 5 & 5 & 5 & 5\\\\\n",
       "\t 2 & 2 & 3 & 4 & 3 & 1 & 2 & 2 & 1 & 3\\\\\n",
       "\t 3 & 2 & 2 & 1 & 5 & 4 & 4 & 4 & 3 & 5\\\\\n",
       "\t 5 & 5 & 5 & 5 & 4 & 4 & 5 & 5 & 5 & 4\\\\\n",
       "\t 4 & 5 & 5 & 3 & 4 & 5 & 5 & 4 & 5 & 5\\\\\n",
       "\\end{tabular}\n"
      ],
      "text/markdown": [
       "\n",
       "A data.frame: 20 × 10\n",
       "\n",
       "| I.think.that.I.would.like.to.use.the.system.frequently &lt;int&gt; | I.found.the.system.to.be.simple &lt;int&gt; | I.thought.the.system.was.easy.to.use &lt;int&gt; | I.think.that.I.could.use.the.system.without.the.support.of.a.technical.person &lt;int&gt; | I.found.the.various.functions.in.the.system.were.well.integrated &lt;int&gt; | I.thought.there.was.a.lot.of.consistency.in.the.system &lt;int&gt; | I.would.imagine.that.most.people.would.learn.to.use.the.system.very.quickly &lt;int&gt; | I.found.the.system.very.intuitive &lt;int&gt; | I.felt.very.confident.using.the.system &lt;int&gt; | I.could.use.the.system.without.having.to.learn.anything.new &lt;int&gt; |\n",
       "|---|---|---|---|---|---|---|---|---|---|\n",
       "| 2 | 4 | 3 | 3 | 1 | 4 | 4 | 4 | 3 | 4 |\n",
       "| 4 | 4 | 4 | 3 | 4 | 3 | 4 | 3 | 4 | 3 |\n",
       "| 5 | 4 | 5 | 3 | 4 | 3 | 5 | 5 | 4 | 5 |\n",
       "| 4 | 5 | 4 | 4 | 4 | 4 | 5 | 5 | 5 | 5 |\n",
       "| 3 | 3 | 4 | 4 | 2 | 3 | 4 | 3 | 4 | 4 |\n",
       "| 4 | 4 | 3 | 4 | 4 | 4 | 2 | 4 | 5 | 4 |\n",
       "| 4 | 4 | 5 | 5 | 4 | 4 | 5 | 4 | 4 | 3 |\n",
       "| 4 | 5 | 4 | 4 | 3 | 3 | 5 | 4 | 4 | 5 |\n",
       "| 3 | 3 | 4 | 4 | 3 | 2 | 5 | 5 | 4 | 5 |\n",
       "| 3 | 5 | 4 | 4 | 3 | 4 | 4 | 4 | 5 | 4 |\n",
       "| 4 | 3 | 5 | 5 | 4 | 4 | 5 | 5 | 5 | 4 |\n",
       "| 2 | 2 | 2 | 2 | 2 | 3 | 4 | 4 | 2 | 3 |\n",
       "| 3 | 3 | 3 | 5 | 4 | 4 | 4 | 5 | 2 | 5 |\n",
       "| 5 | 4 | 5 | 5 | 4 | 5 | 5 | 5 | 5 | 5 |\n",
       "| 2 | 3 | 3 | 4 | 4 | 4 | 3 | 4 | 5 | 5 |\n",
       "| 5 | 5 | 5 | 5 | 5 | 5 | 5 | 5 | 5 | 5 |\n",
       "| 2 | 2 | 3 | 4 | 3 | 1 | 2 | 2 | 1 | 3 |\n",
       "| 3 | 2 | 2 | 1 | 5 | 4 | 4 | 4 | 3 | 5 |\n",
       "| 5 | 5 | 5 | 5 | 4 | 4 | 5 | 5 | 5 | 4 |\n",
       "| 4 | 5 | 5 | 3 | 4 | 5 | 5 | 4 | 5 | 5 |\n",
       "\n"
      ],
      "text/plain": [
       "   I.think.that.I.would.like.to.use.the.system.frequently\n",
       "1  2                                                     \n",
       "2  4                                                     \n",
       "3  5                                                     \n",
       "4  4                                                     \n",
       "5  3                                                     \n",
       "6  4                                                     \n",
       "7  4                                                     \n",
       "8  4                                                     \n",
       "9  3                                                     \n",
       "10 3                                                     \n",
       "11 4                                                     \n",
       "12 2                                                     \n",
       "13 3                                                     \n",
       "14 5                                                     \n",
       "15 2                                                     \n",
       "16 5                                                     \n",
       "17 2                                                     \n",
       "18 3                                                     \n",
       "19 5                                                     \n",
       "20 4                                                     \n",
       "   I.found.the.system.to.be.simple I.thought.the.system.was.easy.to.use\n",
       "1  4                               3                                   \n",
       "2  4                               4                                   \n",
       "3  4                               5                                   \n",
       "4  5                               4                                   \n",
       "5  3                               4                                   \n",
       "6  4                               3                                   \n",
       "7  4                               5                                   \n",
       "8  5                               4                                   \n",
       "9  3                               4                                   \n",
       "10 5                               4                                   \n",
       "11 3                               5                                   \n",
       "12 2                               2                                   \n",
       "13 3                               3                                   \n",
       "14 4                               5                                   \n",
       "15 3                               3                                   \n",
       "16 5                               5                                   \n",
       "17 2                               3                                   \n",
       "18 2                               2                                   \n",
       "19 5                               5                                   \n",
       "20 5                               5                                   \n",
       "   I.think.that.I.could.use.the.system.without.the.support.of.a.technical.person\n",
       "1  3                                                                            \n",
       "2  3                                                                            \n",
       "3  3                                                                            \n",
       "4  4                                                                            \n",
       "5  4                                                                            \n",
       "6  4                                                                            \n",
       "7  5                                                                            \n",
       "8  4                                                                            \n",
       "9  4                                                                            \n",
       "10 4                                                                            \n",
       "11 5                                                                            \n",
       "12 2                                                                            \n",
       "13 5                                                                            \n",
       "14 5                                                                            \n",
       "15 4                                                                            \n",
       "16 5                                                                            \n",
       "17 4                                                                            \n",
       "18 1                                                                            \n",
       "19 5                                                                            \n",
       "20 3                                                                            \n",
       "   I.found.the.various.functions.in.the.system.were.well.integrated\n",
       "1  1                                                               \n",
       "2  4                                                               \n",
       "3  4                                                               \n",
       "4  4                                                               \n",
       "5  2                                                               \n",
       "6  4                                                               \n",
       "7  4                                                               \n",
       "8  3                                                               \n",
       "9  3                                                               \n",
       "10 3                                                               \n",
       "11 4                                                               \n",
       "12 2                                                               \n",
       "13 4                                                               \n",
       "14 4                                                               \n",
       "15 4                                                               \n",
       "16 5                                                               \n",
       "17 3                                                               \n",
       "18 5                                                               \n",
       "19 4                                                               \n",
       "20 4                                                               \n",
       "   I.thought.there.was.a.lot.of.consistency.in.the.system\n",
       "1  4                                                     \n",
       "2  3                                                     \n",
       "3  3                                                     \n",
       "4  4                                                     \n",
       "5  3                                                     \n",
       "6  4                                                     \n",
       "7  4                                                     \n",
       "8  3                                                     \n",
       "9  2                                                     \n",
       "10 4                                                     \n",
       "11 4                                                     \n",
       "12 3                                                     \n",
       "13 4                                                     \n",
       "14 5                                                     \n",
       "15 4                                                     \n",
       "16 5                                                     \n",
       "17 1                                                     \n",
       "18 4                                                     \n",
       "19 4                                                     \n",
       "20 5                                                     \n",
       "   I.would.imagine.that.most.people.would.learn.to.use.the.system.very.quickly\n",
       "1  4                                                                          \n",
       "2  4                                                                          \n",
       "3  5                                                                          \n",
       "4  5                                                                          \n",
       "5  4                                                                          \n",
       "6  2                                                                          \n",
       "7  5                                                                          \n",
       "8  5                                                                          \n",
       "9  5                                                                          \n",
       "10 4                                                                          \n",
       "11 5                                                                          \n",
       "12 4                                                                          \n",
       "13 4                                                                          \n",
       "14 5                                                                          \n",
       "15 3                                                                          \n",
       "16 5                                                                          \n",
       "17 2                                                                          \n",
       "18 4                                                                          \n",
       "19 5                                                                          \n",
       "20 5                                                                          \n",
       "   I.found.the.system.very.intuitive I.felt.very.confident.using.the.system\n",
       "1  4                                 3                                     \n",
       "2  3                                 4                                     \n",
       "3  5                                 4                                     \n",
       "4  5                                 5                                     \n",
       "5  3                                 4                                     \n",
       "6  4                                 5                                     \n",
       "7  4                                 4                                     \n",
       "8  4                                 4                                     \n",
       "9  5                                 4                                     \n",
       "10 4                                 5                                     \n",
       "11 5                                 5                                     \n",
       "12 4                                 2                                     \n",
       "13 5                                 2                                     \n",
       "14 5                                 5                                     \n",
       "15 4                                 5                                     \n",
       "16 5                                 5                                     \n",
       "17 2                                 1                                     \n",
       "18 4                                 3                                     \n",
       "19 5                                 5                                     \n",
       "20 4                                 5                                     \n",
       "   I.could.use.the.system.without.having.to.learn.anything.new\n",
       "1  4                                                          \n",
       "2  3                                                          \n",
       "3  5                                                          \n",
       "4  5                                                          \n",
       "5  4                                                          \n",
       "6  4                                                          \n",
       "7  3                                                          \n",
       "8  5                                                          \n",
       "9  5                                                          \n",
       "10 4                                                          \n",
       "11 4                                                          \n",
       "12 3                                                          \n",
       "13 5                                                          \n",
       "14 5                                                          \n",
       "15 5                                                          \n",
       "16 5                                                          \n",
       "17 3                                                          \n",
       "18 5                                                          \n",
       "19 4                                                          \n",
       "20 5                                                          "
      ]
     },
     "metadata": {},
     "output_type": "display_data"
    }
   ],
   "source": [
    "eye_scale"
   ]
  },
  {
   "cell_type": "code",
   "execution_count": 10,
   "metadata": {},
   "outputs": [
    {
     "data": {
      "text/plain": [
       "\n",
       "Reliability analysis   \n",
       "Call: alpha(x = eye_scale)\n",
       "\n",
       "  raw_alpha std.alpha G6(smc) average_r S/N   ase mean  sd median_r\n",
       "      0.88      0.88    0.94      0.43 7.6 0.038  3.9 0.7      0.4\n",
       "\n",
       " lower alpha upper     95% confidence boundaries\n",
       "0.81 0.88 0.96 \n",
       "\n",
       " Reliability if an item is dropped:\n",
       "                                                                              raw_alpha\n",
       "I.think.that.I.would.like.to.use.the.system.frequently                             0.86\n",
       "I.found.the.system.to.be.simple                                                    0.87\n",
       "I.thought.the.system.was.easy.to.use                                               0.86\n",
       "I.think.that.I.could.use.the.system.without.the.support.of.a.technical.person      0.89\n",
       "I.found.the.various.functions.in.the.system.were.well.integrated                   0.88\n",
       "I.thought.there.was.a.lot.of.consistency.in.the.system                             0.87\n",
       "I.would.imagine.that.most.people.would.learn.to.use.the.system.very.quickly        0.87\n",
       "I.found.the.system.very.intuitive                                                  0.87\n",
       "I.felt.very.confident.using.the.system                                             0.86\n",
       "I.could.use.the.system.without.having.to.learn.anything.new                        0.88\n",
       "                                                                              std.alpha\n",
       "I.think.that.I.would.like.to.use.the.system.frequently                             0.86\n",
       "I.found.the.system.to.be.simple                                                    0.87\n",
       "I.thought.the.system.was.easy.to.use                                               0.86\n",
       "I.think.that.I.could.use.the.system.without.the.support.of.a.technical.person      0.89\n",
       "I.found.the.various.functions.in.the.system.were.well.integrated                   0.88\n",
       "I.thought.there.was.a.lot.of.consistency.in.the.system                             0.87\n",
       "I.would.imagine.that.most.people.would.learn.to.use.the.system.very.quickly        0.87\n",
       "I.found.the.system.very.intuitive                                                  0.87\n",
       "I.felt.very.confident.using.the.system                                             0.86\n",
       "I.could.use.the.system.without.having.to.learn.anything.new                        0.88\n",
       "                                                                              G6(smc)\n",
       "I.think.that.I.would.like.to.use.the.system.frequently                           0.91\n",
       "I.found.the.system.to.be.simple                                                  0.92\n",
       "I.thought.the.system.was.easy.to.use                                             0.90\n",
       "I.think.that.I.could.use.the.system.without.the.support.of.a.technical.person    0.93\n",
       "I.found.the.various.functions.in.the.system.were.well.integrated                 0.93\n",
       "I.thought.there.was.a.lot.of.consistency.in.the.system                           0.93\n",
       "I.would.imagine.that.most.people.would.learn.to.use.the.system.very.quickly      0.92\n",
       "I.found.the.system.very.intuitive                                                0.91\n",
       "I.felt.very.confident.using.the.system                                           0.92\n",
       "I.could.use.the.system.without.having.to.learn.anything.new                      0.94\n",
       "                                                                              average_r\n",
       "I.think.that.I.would.like.to.use.the.system.frequently                             0.40\n",
       "I.found.the.system.to.be.simple                                                    0.42\n",
       "I.thought.the.system.was.easy.to.use                                               0.41\n",
       "I.think.that.I.could.use.the.system.without.the.support.of.a.technical.person      0.46\n",
       "I.found.the.various.functions.in.the.system.were.well.integrated                   0.45\n",
       "I.thought.there.was.a.lot.of.consistency.in.the.system                             0.43\n",
       "I.would.imagine.that.most.people.would.learn.to.use.the.system.very.quickly        0.43\n",
       "I.found.the.system.very.intuitive                                                  0.42\n",
       "I.felt.very.confident.using.the.system                                             0.41\n",
       "I.could.use.the.system.without.having.to.learn.anything.new                        0.46\n",
       "                                                                              S/N\n",
       "I.think.that.I.would.like.to.use.the.system.frequently                        6.0\n",
       "I.found.the.system.to.be.simple                                               6.6\n",
       "I.thought.the.system.was.easy.to.use                                          6.3\n",
       "I.think.that.I.could.use.the.system.without.the.support.of.a.technical.person 7.8\n",
       "I.found.the.various.functions.in.the.system.were.well.integrated              7.5\n",
       "I.thought.there.was.a.lot.of.consistency.in.the.system                        6.8\n",
       "I.would.imagine.that.most.people.would.learn.to.use.the.system.very.quickly   6.8\n",
       "I.found.the.system.very.intuitive                                             6.5\n",
       "I.felt.very.confident.using.the.system                                        6.3\n",
       "I.could.use.the.system.without.having.to.learn.anything.new                   7.6\n",
       "                                                                              alpha se\n",
       "I.think.that.I.would.like.to.use.the.system.frequently                           0.047\n",
       "I.found.the.system.to.be.simple                                                  0.044\n",
       "I.thought.the.system.was.easy.to.use                                             0.046\n",
       "I.think.that.I.could.use.the.system.without.the.support.of.a.technical.person    0.037\n",
       "I.found.the.various.functions.in.the.system.were.well.integrated                 0.038\n",
       "I.thought.there.was.a.lot.of.consistency.in.the.system                           0.042\n",
       "I.would.imagine.that.most.people.would.learn.to.use.the.system.very.quickly      0.042\n",
       "I.found.the.system.very.intuitive                                                0.042\n",
       "I.felt.very.confident.using.the.system                                           0.046\n",
       "I.could.use.the.system.without.having.to.learn.anything.new                      0.039\n",
       "                                                                              var.r\n",
       "I.think.that.I.would.like.to.use.the.system.frequently                        0.027\n",
       "I.found.the.system.to.be.simple                                               0.029\n",
       "I.thought.the.system.was.easy.to.use                                          0.025\n",
       "I.think.that.I.could.use.the.system.without.the.support.of.a.technical.person 0.025\n",
       "I.found.the.various.functions.in.the.system.were.well.integrated              0.029\n",
       "I.thought.there.was.a.lot.of.consistency.in.the.system                        0.033\n",
       "I.would.imagine.that.most.people.would.learn.to.use.the.system.very.quickly   0.029\n",
       "I.found.the.system.very.intuitive                                             0.033\n",
       "I.felt.very.confident.using.the.system                                        0.031\n",
       "I.could.use.the.system.without.having.to.learn.anything.new                   0.027\n",
       "                                                                              med.r\n",
       "I.think.that.I.would.like.to.use.the.system.frequently                         0.38\n",
       "I.found.the.system.to.be.simple                                                0.40\n",
       "I.thought.the.system.was.easy.to.use                                           0.39\n",
       "I.think.that.I.could.use.the.system.without.the.support.of.a.technical.person  0.43\n",
       "I.found.the.various.functions.in.the.system.were.well.integrated               0.43\n",
       "I.thought.there.was.a.lot.of.consistency.in.the.system                         0.39\n",
       "I.would.imagine.that.most.people.would.learn.to.use.the.system.very.quickly    0.40\n",
       "I.found.the.system.very.intuitive                                              0.39\n",
       "I.felt.very.confident.using.the.system                                         0.39\n",
       "I.could.use.the.system.without.having.to.learn.anything.new                    0.43\n",
       "\n",
       " Item statistics \n",
       "                                                                               n\n",
       "I.think.that.I.would.like.to.use.the.system.frequently                        20\n",
       "I.found.the.system.to.be.simple                                               20\n",
       "I.thought.the.system.was.easy.to.use                                          20\n",
       "I.think.that.I.could.use.the.system.without.the.support.of.a.technical.person 20\n",
       "I.found.the.various.functions.in.the.system.were.well.integrated              20\n",
       "I.thought.there.was.a.lot.of.consistency.in.the.system                        20\n",
       "I.would.imagine.that.most.people.would.learn.to.use.the.system.very.quickly   20\n",
       "I.found.the.system.very.intuitive                                             20\n",
       "I.felt.very.confident.using.the.system                                        20\n",
       "I.could.use.the.system.without.having.to.learn.anything.new                   20\n",
       "                                                                              raw.r\n",
       "I.think.that.I.would.like.to.use.the.system.frequently                         0.85\n",
       "I.found.the.system.to.be.simple                                                0.75\n",
       "I.thought.the.system.was.easy.to.use                                           0.81\n",
       "I.think.that.I.could.use.the.system.without.the.support.of.a.technical.person  0.54\n",
       "I.found.the.various.functions.in.the.system.were.well.integrated               0.57\n",
       "I.thought.there.was.a.lot.of.consistency.in.the.system                         0.69\n",
       "I.would.imagine.that.most.people.would.learn.to.use.the.system.very.quickly    0.69\n",
       "I.found.the.system.very.intuitive                                              0.73\n",
       "I.felt.very.confident.using.the.system                                         0.81\n",
       "I.could.use.the.system.without.having.to.learn.anything.new                    0.53\n",
       "                                                                              std.r\n",
       "I.think.that.I.would.like.to.use.the.system.frequently                         0.85\n",
       "I.found.the.system.to.be.simple                                                0.74\n",
       "I.thought.the.system.was.easy.to.use                                           0.80\n",
       "I.think.that.I.could.use.the.system.without.the.support.of.a.technical.person  0.53\n",
       "I.found.the.various.functions.in.the.system.were.well.integrated               0.57\n",
       "I.thought.there.was.a.lot.of.consistency.in.the.system                         0.69\n",
       "I.would.imagine.that.most.people.would.learn.to.use.the.system.very.quickly    0.70\n",
       "I.found.the.system.very.intuitive                                              0.75\n",
       "I.felt.very.confident.using.the.system                                         0.80\n",
       "I.could.use.the.system.without.having.to.learn.anything.new                    0.56\n",
       "                                                                              r.cor\n",
       "I.think.that.I.would.like.to.use.the.system.frequently                         0.85\n",
       "I.found.the.system.to.be.simple                                                0.71\n",
       "I.thought.the.system.was.easy.to.use                                           0.81\n",
       "I.think.that.I.could.use.the.system.without.the.support.of.a.technical.person  0.49\n",
       "I.found.the.various.functions.in.the.system.were.well.integrated               0.53\n",
       "I.thought.there.was.a.lot.of.consistency.in.the.system                         0.65\n",
       "I.would.imagine.that.most.people.would.learn.to.use.the.system.very.quickly    0.69\n",
       "I.found.the.system.very.intuitive                                              0.74\n",
       "I.felt.very.confident.using.the.system                                         0.78\n",
       "I.could.use.the.system.without.having.to.learn.anything.new                    0.51\n",
       "                                                                              r.drop\n",
       "I.think.that.I.would.like.to.use.the.system.frequently                          0.80\n",
       "I.found.the.system.to.be.simple                                                 0.68\n",
       "I.thought.the.system.was.easy.to.use                                            0.75\n",
       "I.think.that.I.could.use.the.system.without.the.support.of.a.technical.person   0.42\n",
       "I.found.the.various.functions.in.the.system.were.well.integrated                0.46\n",
       "I.thought.there.was.a.lot.of.consistency.in.the.system                          0.60\n",
       "I.would.imagine.that.most.people.would.learn.to.use.the.system.very.quickly     0.60\n",
       "I.found.the.system.very.intuitive                                               0.66\n",
       "I.felt.very.confident.using.the.system                                          0.74\n",
       "I.could.use.the.system.without.having.to.learn.anything.new                     0.44\n",
       "                                                                              mean\n",
       "I.think.that.I.would.like.to.use.the.system.frequently                         3.5\n",
       "I.found.the.system.to.be.simple                                                3.8\n",
       "I.thought.the.system.was.easy.to.use                                           3.9\n",
       "I.think.that.I.could.use.the.system.without.the.support.of.a.technical.person  3.9\n",
       "I.found.the.various.functions.in.the.system.were.well.integrated               3.5\n",
       "I.thought.there.was.a.lot.of.consistency.in.the.system                         3.6\n",
       "I.would.imagine.that.most.people.would.learn.to.use.the.system.very.quickly    4.2\n",
       "I.found.the.system.very.intuitive                                              4.2\n",
       "I.felt.very.confident.using.the.system                                         4.0\n",
       "I.could.use.the.system.without.having.to.learn.anything.new                    4.3\n",
       "                                                                                sd\n",
       "I.think.that.I.would.like.to.use.the.system.frequently                        1.05\n",
       "I.found.the.system.to.be.simple                                               1.07\n",
       "I.thought.the.system.was.easy.to.use                                          1.02\n",
       "I.think.that.I.could.use.the.system.without.the.support.of.a.technical.person 1.09\n",
       "I.found.the.various.functions.in.the.system.were.well.integrated              1.00\n",
       "I.thought.there.was.a.lot.of.consistency.in.the.system                        0.99\n",
       "I.would.imagine.that.most.people.would.learn.to.use.the.system.very.quickly   0.97\n",
       "I.found.the.system.very.intuitive                                             0.83\n",
       "I.felt.very.confident.using.the.system                                        1.21\n",
       "I.could.use.the.system.without.having.to.learn.anything.new                   0.80\n",
       "\n",
       "Non missing response frequency for each item\n",
       "                                                                                 1\n",
       "I.think.that.I.would.like.to.use.the.system.frequently                        0.00\n",
       "I.found.the.system.to.be.simple                                               0.00\n",
       "I.thought.the.system.was.easy.to.use                                          0.00\n",
       "I.think.that.I.could.use.the.system.without.the.support.of.a.technical.person 0.05\n",
       "I.found.the.various.functions.in.the.system.were.well.integrated              0.05\n",
       "I.thought.there.was.a.lot.of.consistency.in.the.system                        0.05\n",
       "I.would.imagine.that.most.people.would.learn.to.use.the.system.very.quickly   0.00\n",
       "I.found.the.system.very.intuitive                                             0.00\n",
       "I.felt.very.confident.using.the.system                                        0.05\n",
       "I.could.use.the.system.without.having.to.learn.anything.new                   0.00\n",
       "                                                                                 2\n",
       "I.think.that.I.would.like.to.use.the.system.frequently                        0.20\n",
       "I.found.the.system.to.be.simple                                               0.15\n",
       "I.thought.the.system.was.easy.to.use                                          0.10\n",
       "I.think.that.I.could.use.the.system.without.the.support.of.a.technical.person 0.05\n",
       "I.found.the.various.functions.in.the.system.were.well.integrated              0.10\n",
       "I.thought.there.was.a.lot.of.consistency.in.the.system                        0.05\n",
       "I.would.imagine.that.most.people.would.learn.to.use.the.system.very.quickly   0.10\n",
       "I.found.the.system.very.intuitive                                             0.05\n",
       "I.felt.very.confident.using.the.system                                        0.10\n",
       "I.could.use.the.system.without.having.to.learn.anything.new                   0.00\n",
       "                                                                                 3\n",
       "I.think.that.I.would.like.to.use.the.system.frequently                        0.25\n",
       "I.found.the.system.to.be.simple                                               0.25\n",
       "I.thought.the.system.was.easy.to.use                                          0.25\n",
       "I.think.that.I.could.use.the.system.without.the.support.of.a.technical.person 0.20\n",
       "I.found.the.various.functions.in.the.system.were.well.integrated              0.20\n",
       "I.thought.there.was.a.lot.of.consistency.in.the.system                        0.25\n",
       "I.would.imagine.that.most.people.would.learn.to.use.the.system.very.quickly   0.05\n",
       "I.found.the.system.very.intuitive                                             0.10\n",
       "I.felt.very.confident.using.the.system                                        0.10\n",
       "I.could.use.the.system.without.having.to.learn.anything.new                   0.20\n",
       "                                                                                 4\n",
       "I.think.that.I.would.like.to.use.the.system.frequently                        0.35\n",
       "I.found.the.system.to.be.simple                                               0.30\n",
       "I.thought.the.system.was.easy.to.use                                          0.30\n",
       "I.think.that.I.could.use.the.system.without.the.support.of.a.technical.person 0.40\n",
       "I.found.the.various.functions.in.the.system.were.well.integrated              0.55\n",
       "I.thought.there.was.a.lot.of.consistency.in.the.system                        0.50\n",
       "I.would.imagine.that.most.people.would.learn.to.use.the.system.very.quickly   0.35\n",
       "I.found.the.system.very.intuitive                                             0.45\n",
       "I.felt.very.confident.using.the.system                                        0.30\n",
       "I.could.use.the.system.without.having.to.learn.anything.new                   0.30\n",
       "                                                                                 5\n",
       "I.think.that.I.would.like.to.use.the.system.frequently                        0.20\n",
       "I.found.the.system.to.be.simple                                               0.30\n",
       "I.thought.the.system.was.easy.to.use                                          0.35\n",
       "I.think.that.I.could.use.the.system.without.the.support.of.a.technical.person 0.30\n",
       "I.found.the.various.functions.in.the.system.were.well.integrated              0.10\n",
       "I.thought.there.was.a.lot.of.consistency.in.the.system                        0.15\n",
       "I.would.imagine.that.most.people.would.learn.to.use.the.system.very.quickly   0.50\n",
       "I.found.the.system.very.intuitive                                             0.40\n",
       "I.felt.very.confident.using.the.system                                        0.45\n",
       "I.could.use.the.system.without.having.to.learn.anything.new                   0.50\n",
       "                                                                              miss\n",
       "I.think.that.I.would.like.to.use.the.system.frequently                           0\n",
       "I.found.the.system.to.be.simple                                                  0\n",
       "I.thought.the.system.was.easy.to.use                                             0\n",
       "I.think.that.I.could.use.the.system.without.the.support.of.a.technical.person    0\n",
       "I.found.the.various.functions.in.the.system.were.well.integrated                 0\n",
       "I.thought.there.was.a.lot.of.consistency.in.the.system                           0\n",
       "I.would.imagine.that.most.people.would.learn.to.use.the.system.very.quickly      0\n",
       "I.found.the.system.very.intuitive                                                0\n",
       "I.felt.very.confident.using.the.system                                           0\n",
       "I.could.use.the.system.without.having.to.learn.anything.new                      0"
      ]
     },
     "metadata": {},
     "output_type": "display_data"
    }
   ],
   "source": [
    "result = alpha(eye_scale)\n",
    "result"
   ]
  },
  {
   "cell_type": "code",
   "execution_count": 7,
   "metadata": {},
   "outputs": [
    {
     "data": {
      "text/html": [
       "<table>\n",
       "<caption>A data.frame: 1 × 9</caption>\n",
       "<thead>\n",
       "\t<tr><th></th><th scope=col>raw_alpha</th><th scope=col>std.alpha</th><th scope=col>G6(smc)</th><th scope=col>average_r</th><th scope=col>S/N</th><th scope=col>ase</th><th scope=col>mean</th><th scope=col>sd</th><th scope=col>median_r</th></tr>\n",
       "\t<tr><th></th><th scope=col>&lt;dbl&gt;</th><th scope=col>&lt;dbl&gt;</th><th scope=col>&lt;dbl&gt;</th><th scope=col>&lt;dbl&gt;</th><th scope=col>&lt;dbl&gt;</th><th scope=col>&lt;dbl&gt;</th><th scope=col>&lt;dbl&gt;</th><th scope=col>&lt;dbl&gt;</th><th scope=col>&lt;dbl&gt;</th></tr>\n",
       "</thead>\n",
       "<tbody>\n",
       "\t<tr><th scope=row></th><td>0.8831215</td><td>0.8831456</td><td>0.9369712</td><td>0.430448</td><td>7.55766</td><td>0.03818971</td><td>3.9</td><td>0.7048703</td><td>0.3979704</td></tr>\n",
       "</tbody>\n",
       "</table>\n"
      ],
      "text/latex": [
       "A data.frame: 1 × 9\n",
       "\\begin{tabular}{r|lllllllll}\n",
       "  & raw\\_alpha & std.alpha & G6(smc) & average\\_r & S/N & ase & mean & sd & median\\_r\\\\\n",
       "  & <dbl> & <dbl> & <dbl> & <dbl> & <dbl> & <dbl> & <dbl> & <dbl> & <dbl>\\\\\n",
       "\\hline\n",
       "\t & 0.8831215 & 0.8831456 & 0.9369712 & 0.430448 & 7.55766 & 0.03818971 & 3.9 & 0.7048703 & 0.3979704\\\\\n",
       "\\end{tabular}\n"
      ],
      "text/markdown": [
       "\n",
       "A data.frame: 1 × 9\n",
       "\n",
       "| <!--/--> | raw_alpha &lt;dbl&gt; | std.alpha &lt;dbl&gt; | G6(smc) &lt;dbl&gt; | average_r &lt;dbl&gt; | S/N &lt;dbl&gt; | ase &lt;dbl&gt; | mean &lt;dbl&gt; | sd &lt;dbl&gt; | median_r &lt;dbl&gt; |\n",
       "|---|---|---|---|---|---|---|---|---|---|\n",
       "| <!----> | 0.8831215 | 0.8831456 | 0.9369712 | 0.430448 | 7.55766 | 0.03818971 | 3.9 | 0.7048703 | 0.3979704 |\n",
       "\n"
      ],
      "text/plain": [
       " raw_alpha std.alpha G6(smc)   average_r S/N     ase        mean sd       \n",
       " 0.8831215 0.8831456 0.9369712 0.430448  7.55766 0.03818971 3.9  0.7048703\n",
       " median_r \n",
       " 0.3979704"
      ]
     },
     "metadata": {},
     "output_type": "display_data"
    }
   ],
   "source": [
    "result$total #result[1]"
   ]
  },
  {
   "cell_type": "markdown",
   "metadata": {
    "toc-hr-collapsed": false
   },
   "source": [
    "# Behavior data"
   ]
  },
  {
   "cell_type": "code",
   "execution_count": 24,
   "metadata": {},
   "outputs": [],
   "source": [
    "library(sjstats)\n",
    "library(ggplot2)\n",
    "library(Rmisc)"
   ]
  },
  {
   "cell_type": "code",
   "execution_count": 26,
   "metadata": {},
   "outputs": [
    {
     "data": {
      "text/html": [
       "<table>\n",
       "<caption>A data.frame: 6 × 11</caption>\n",
       "<thead>\n",
       "\t<tr><th></th><th scope=col>sub</th><th scope=col>trial</th><th scope=col>website</th><th scope=col>duration</th><th scope=col>operation</th><th scope=col>blink</th><th scope=col>fixation</th><th scope=col>blink_interval</th><th scope=col>fixation_count</th><th scope=col>fixed_duration</th><th scope=col>fixed_operation</th></tr>\n",
       "\t<tr><th></th><th scope=col>&lt;int&gt;</th><th scope=col>&lt;fct&gt;</th><th scope=col>&lt;fct&gt;</th><th scope=col>&lt;int&gt;</th><th scope=col>&lt;int&gt;</th><th scope=col>&lt;dbl&gt;</th><th scope=col>&lt;dbl&gt;</th><th scope=col>&lt;dbl&gt;</th><th scope=col>&lt;dbl&gt;</th><th scope=col>&lt;dbl&gt;</th><th scope=col>&lt;int&gt;</th></tr>\n",
       "</thead>\n",
       "<tbody>\n",
       "\t<tr><th scope=row>1</th><td> 3</td><td>Without_sys</td><td>Tmall</td><td> 47</td><td>18</td><td>17</td><td>134</td><td>2.76</td><td>2.85</td><td> 47.00</td><td>18</td></tr>\n",
       "\t<tr><th scope=row>2</th><td> 2</td><td>With_sys   </td><td>JD   </td><td> 43</td><td>11</td><td> 5</td><td>124</td><td>8.60</td><td>2.88</td><td> 31.27</td><td> 8</td></tr>\n",
       "\t<tr><th scope=row>3</th><td> 9</td><td>Without_sys</td><td>JD   </td><td> 52</td><td>12</td><td>26</td><td>347</td><td>2.00</td><td>6.67</td><td> 39.00</td><td> 9</td></tr>\n",
       "\t<tr><th scope=row>4</th><td>10</td><td>With_sys   </td><td>JD   </td><td> 37</td><td>19</td><td> 6</td><td>109</td><td>6.17</td><td>2.95</td><td> 31.16</td><td>16</td></tr>\n",
       "\t<tr><th scope=row>5</th><td> 8</td><td>With_sys   </td><td>Tmall</td><td> 31</td><td>13</td><td> 5</td><td> 79</td><td>6.20</td><td>2.55</td><td> 31.00</td><td>13</td></tr>\n",
       "\t<tr><th scope=row>6</th><td> 1</td><td>Without_sys</td><td>Tmall</td><td>108</td><td>27</td><td>23</td><td>190</td><td>4.70</td><td>1.76</td><td>108.00</td><td>27</td></tr>\n",
       "</tbody>\n",
       "</table>\n"
      ],
      "text/latex": [
       "A data.frame: 6 × 11\n",
       "\\begin{tabular}{r|lllllllllll}\n",
       "  & sub & trial & website & duration & operation & blink & fixation & blink\\_interval & fixation\\_count & fixed\\_duration & fixed\\_operation\\\\\n",
       "  & <int> & <fct> & <fct> & <int> & <int> & <dbl> & <dbl> & <dbl> & <dbl> & <dbl> & <int>\\\\\n",
       "\\hline\n",
       "\t1 &  3 & Without\\_sys & Tmall &  47 & 18 & 17 & 134 & 2.76 & 2.85 &  47.00 & 18\\\\\n",
       "\t2 &  2 & With\\_sys    & JD    &  43 & 11 &  5 & 124 & 8.60 & 2.88 &  31.27 &  8\\\\\n",
       "\t3 &  9 & Without\\_sys & JD    &  52 & 12 & 26 & 347 & 2.00 & 6.67 &  39.00 &  9\\\\\n",
       "\t4 & 10 & With\\_sys    & JD    &  37 & 19 &  6 & 109 & 6.17 & 2.95 &  31.16 & 16\\\\\n",
       "\t5 &  8 & With\\_sys    & Tmall &  31 & 13 &  5 &  79 & 6.20 & 2.55 &  31.00 & 13\\\\\n",
       "\t6 &  1 & Without\\_sys & Tmall & 108 & 27 & 23 & 190 & 4.70 & 1.76 & 108.00 & 27\\\\\n",
       "\\end{tabular}\n"
      ],
      "text/markdown": [
       "\n",
       "A data.frame: 6 × 11\n",
       "\n",
       "| <!--/--> | sub &lt;int&gt; | trial &lt;fct&gt; | website &lt;fct&gt; | duration &lt;int&gt; | operation &lt;int&gt; | blink &lt;dbl&gt; | fixation &lt;dbl&gt; | blink_interval &lt;dbl&gt; | fixation_count &lt;dbl&gt; | fixed_duration &lt;dbl&gt; | fixed_operation &lt;int&gt; |\n",
       "|---|---|---|---|---|---|---|---|---|---|---|---|\n",
       "| 1 |  3 | Without_sys | Tmall |  47 | 18 | 17 | 134 | 2.76 | 2.85 |  47.00 | 18 |\n",
       "| 2 |  2 | With_sys    | JD    |  43 | 11 |  5 | 124 | 8.60 | 2.88 |  31.27 |  8 |\n",
       "| 3 |  9 | Without_sys | JD    |  52 | 12 | 26 | 347 | 2.00 | 6.67 |  39.00 |  9 |\n",
       "| 4 | 10 | With_sys    | JD    |  37 | 19 |  6 | 109 | 6.17 | 2.95 |  31.16 | 16 |\n",
       "| 5 |  8 | With_sys    | Tmall |  31 | 13 |  5 |  79 | 6.20 | 2.55 |  31.00 | 13 |\n",
       "| 6 |  1 | Without_sys | Tmall | 108 | 27 | 23 | 190 | 4.70 | 1.76 | 108.00 | 27 |\n",
       "\n"
      ],
      "text/plain": [
       "  sub trial       website duration operation blink fixation blink_interval\n",
       "1  3  Without_sys Tmall    47      18        17    134      2.76          \n",
       "2  2  With_sys    JD       43      11         5    124      8.60          \n",
       "3  9  Without_sys JD       52      12        26    347      2.00          \n",
       "4 10  With_sys    JD       37      19         6    109      6.17          \n",
       "5  8  With_sys    Tmall    31      13         5     79      6.20          \n",
       "6  1  Without_sys Tmall   108      27        23    190      4.70          \n",
       "  fixation_count fixed_duration fixed_operation\n",
       "1 2.85            47.00         18             \n",
       "2 2.88            31.27          8             \n",
       "3 6.67            39.00          9             \n",
       "4 2.95            31.16         16             \n",
       "5 2.55            31.00         13             \n",
       "6 1.76           108.00         27             "
      ]
     },
     "metadata": {},
     "output_type": "display_data"
    }
   ],
   "source": [
    "stat = read.csv('behavior.csv')\n",
    "head(stat)"
   ]
  },
  {
   "cell_type": "markdown",
   "metadata": {
    "toc-hr-collapsed": false
   },
   "source": [
    "## Before adjusted"
   ]
  },
  {
   "cell_type": "markdown",
   "metadata": {},
   "source": [
    "### Duration"
   ]
  },
  {
   "cell_type": "code",
   "execution_count": 13,
   "metadata": {},
   "outputs": [
    {
     "data": {
      "text/html": [
       "<table>\n",
       "<caption>A data.frame: 4 × 3</caption>\n",
       "<thead>\n",
       "\t<tr><th scope=col>Group.1</th><th scope=col>Group.2</th><th scope=col>x</th></tr>\n",
       "\t<tr><th scope=col>&lt;fct&gt;</th><th scope=col>&lt;fct&gt;</th><th scope=col>&lt;dbl&gt;</th></tr>\n",
       "</thead>\n",
       "<tbody>\n",
       "\t<tr><td>With_sys   </td><td>JD   </td><td>58.65</td></tr>\n",
       "\t<tr><td>Without_sys</td><td>JD   </td><td>80.30</td></tr>\n",
       "\t<tr><td>With_sys   </td><td>Tmall</td><td>46.45</td></tr>\n",
       "\t<tr><td>Without_sys</td><td>Tmall</td><td>61.55</td></tr>\n",
       "</tbody>\n",
       "</table>\n"
      ],
      "text/latex": [
       "A data.frame: 4 × 3\n",
       "\\begin{tabular}{lll}\n",
       " Group.1 & Group.2 & x\\\\\n",
       " <fct> & <fct> & <dbl>\\\\\n",
       "\\hline\n",
       "\t With\\_sys    & JD    & 58.65\\\\\n",
       "\t Without\\_sys & JD    & 80.30\\\\\n",
       "\t With\\_sys    & Tmall & 46.45\\\\\n",
       "\t Without\\_sys & Tmall & 61.55\\\\\n",
       "\\end{tabular}\n"
      ],
      "text/markdown": [
       "\n",
       "A data.frame: 4 × 3\n",
       "\n",
       "| Group.1 &lt;fct&gt; | Group.2 &lt;fct&gt; | x &lt;dbl&gt; |\n",
       "|---|---|---|\n",
       "| With_sys    | JD    | 58.65 |\n",
       "| Without_sys | JD    | 80.30 |\n",
       "| With_sys    | Tmall | 46.45 |\n",
       "| Without_sys | Tmall | 61.55 |\n",
       "\n"
      ],
      "text/plain": [
       "  Group.1     Group.2 x    \n",
       "1 With_sys    JD      58.65\n",
       "2 Without_sys JD      80.30\n",
       "3 With_sys    Tmall   46.45\n",
       "4 Without_sys Tmall   61.55"
      ]
     },
     "metadata": {},
     "output_type": "display_data"
    },
    {
     "data": {
      "text/html": [
       "<table>\n",
       "<caption>A data.frame: 4 × 3</caption>\n",
       "<thead>\n",
       "\t<tr><th scope=col>Group.1</th><th scope=col>Group.2</th><th scope=col>x</th></tr>\n",
       "\t<tr><th scope=col>&lt;fct&gt;</th><th scope=col>&lt;fct&gt;</th><th scope=col>&lt;dbl&gt;</th></tr>\n",
       "</thead>\n",
       "<tbody>\n",
       "\t<tr><td>With_sys   </td><td>JD   </td><td>19.94802</td></tr>\n",
       "\t<tr><td>Without_sys</td><td>JD   </td><td>30.40793</td></tr>\n",
       "\t<tr><td>With_sys   </td><td>Tmall</td><td>14.49673</td></tr>\n",
       "\t<tr><td>Without_sys</td><td>Tmall</td><td>18.07433</td></tr>\n",
       "</tbody>\n",
       "</table>\n"
      ],
      "text/latex": [
       "A data.frame: 4 × 3\n",
       "\\begin{tabular}{lll}\n",
       " Group.1 & Group.2 & x\\\\\n",
       " <fct> & <fct> & <dbl>\\\\\n",
       "\\hline\n",
       "\t With\\_sys    & JD    & 19.94802\\\\\n",
       "\t Without\\_sys & JD    & 30.40793\\\\\n",
       "\t With\\_sys    & Tmall & 14.49673\\\\\n",
       "\t Without\\_sys & Tmall & 18.07433\\\\\n",
       "\\end{tabular}\n"
      ],
      "text/markdown": [
       "\n",
       "A data.frame: 4 × 3\n",
       "\n",
       "| Group.1 &lt;fct&gt; | Group.2 &lt;fct&gt; | x &lt;dbl&gt; |\n",
       "|---|---|---|\n",
       "| With_sys    | JD    | 19.94802 |\n",
       "| Without_sys | JD    | 30.40793 |\n",
       "| With_sys    | Tmall | 14.49673 |\n",
       "| Without_sys | Tmall | 18.07433 |\n",
       "\n"
      ],
      "text/plain": [
       "  Group.1     Group.2 x       \n",
       "1 With_sys    JD      19.94802\n",
       "2 Without_sys JD      30.40793\n",
       "3 With_sys    Tmall   14.49673\n",
       "4 Without_sys Tmall   18.07433"
      ]
     },
     "metadata": {},
     "output_type": "display_data"
    },
    {
     "data": {
      "text/plain": [
       "              Df Sum Sq Mean Sq F value   Pr(>F)    \n",
       "trial          1   6753    6753  14.527 0.000279 ***\n",
       "website        1   4790    4790  10.303 0.001946 ** \n",
       "trial:website  1    215     215   0.461 0.499004    \n",
       "Residuals     76  35329     465                     \n",
       "---\n",
       "Signif. codes:  0 ‘***’ 0.001 ‘**’ 0.01 ‘*’ 0.05 ‘.’ 0.1 ‘ ’ 1"
      ]
     },
     "metadata": {},
     "output_type": "display_data"
    }
   ],
   "source": [
    "attach(stat)\n",
    "aggregate(duration,by=list(trial,website),FUN=mean)\n",
    "aggregate(duration,by=list(trial,website),FUN=sd)\n",
    "stat.duration_aov = aov(duration ~ trial * website)\n",
    "detach(stat)\n",
    "summary(stat.duration_aov)"
   ]
  },
  {
   "cell_type": "code",
   "execution_count": 14,
   "metadata": {},
   "outputs": [
    {
     "data": {
      "text/html": [
       "<table>\n",
       "<caption>A data.frame: 4 × 13</caption>\n",
       "<thead>\n",
       "\t<tr><th></th><th scope=col>term</th><th scope=col>df</th><th scope=col>sumsq</th><th scope=col>meansq</th><th scope=col>statistic</th><th scope=col>p.value</th><th scope=col>etasq</th><th scope=col>partial.etasq</th><th scope=col>omegasq</th><th scope=col>partial.omegasq</th><th scope=col>epsilonsq</th><th scope=col>cohens.f</th><th scope=col>power</th></tr>\n",
       "\t<tr><th></th><th scope=col>&lt;chr&gt;</th><th scope=col>&lt;dbl&gt;</th><th scope=col>&lt;dbl&gt;</th><th scope=col>&lt;dbl&gt;</th><th scope=col>&lt;dbl&gt;</th><th scope=col>&lt;dbl&gt;</th><th scope=col>&lt;dbl&gt;</th><th scope=col>&lt;dbl&gt;</th><th scope=col>&lt;dbl&gt;</th><th scope=col>&lt;dbl&gt;</th><th scope=col>&lt;dbl&gt;</th><th scope=col>&lt;dbl&gt;</th><th scope=col>&lt;dbl&gt;</th></tr>\n",
       "</thead>\n",
       "<tbody>\n",
       "\t<tr><th scope=row>1</th><td>trial        </td><td> 1</td><td> 6752.812</td><td>6752.812</td><td>14.527</td><td>0.000</td><td>0.143</td><td>0.160</td><td> 0.132</td><td> 0.145</td><td> 0.134</td><td>0.437</td><td>0.968</td></tr>\n",
       "\t<tr><th scope=row>2</th><td>website      </td><td> 1</td><td> 4789.513</td><td>4789.513</td><td>10.303</td><td>0.002</td><td>0.102</td><td>0.119</td><td> 0.091</td><td> 0.104</td><td> 0.092</td><td>0.368</td><td>0.894</td></tr>\n",
       "\t<tr><th scope=row>3</th><td>trial:website</td><td> 1</td><td>  214.512</td><td> 214.512</td><td> 0.461</td><td>0.499</td><td>0.005</td><td>0.006</td><td>-0.005</td><td>-0.007</td><td>-0.005</td><td>0.078</td><td>0.104</td></tr>\n",
       "\t<tr><th scope=row>4</th><td>Residuals    </td><td>76</td><td>35328.650</td><td> 464.851</td><td>    NA</td><td>   NA</td><td>   NA</td><td>   NA</td><td>    NA</td><td>    NA</td><td>    NA</td><td>   NA</td><td>   NA</td></tr>\n",
       "</tbody>\n",
       "</table>\n"
      ],
      "text/latex": [
       "A data.frame: 4 × 13\n",
       "\\begin{tabular}{r|lllllllllllll}\n",
       "  & term & df & sumsq & meansq & statistic & p.value & etasq & partial.etasq & omegasq & partial.omegasq & epsilonsq & cohens.f & power\\\\\n",
       "  & <chr> & <dbl> & <dbl> & <dbl> & <dbl> & <dbl> & <dbl> & <dbl> & <dbl> & <dbl> & <dbl> & <dbl> & <dbl>\\\\\n",
       "\\hline\n",
       "\t1 & trial         &  1 &  6752.812 & 6752.812 & 14.527 & 0.000 & 0.143 & 0.160 &  0.132 &  0.145 &  0.134 & 0.437 & 0.968\\\\\n",
       "\t2 & website       &  1 &  4789.513 & 4789.513 & 10.303 & 0.002 & 0.102 & 0.119 &  0.091 &  0.104 &  0.092 & 0.368 & 0.894\\\\\n",
       "\t3 & trial:website &  1 &   214.512 &  214.512 &  0.461 & 0.499 & 0.005 & 0.006 & -0.005 & -0.007 & -0.005 & 0.078 & 0.104\\\\\n",
       "\t4 & Residuals     & 76 & 35328.650 &  464.851 &     NA &    NA &    NA &    NA &     NA &     NA &     NA &    NA &    NA\\\\\n",
       "\\end{tabular}\n"
      ],
      "text/markdown": [
       "\n",
       "A data.frame: 4 × 13\n",
       "\n",
       "| <!--/--> | term &lt;chr&gt; | df &lt;dbl&gt; | sumsq &lt;dbl&gt; | meansq &lt;dbl&gt; | statistic &lt;dbl&gt; | p.value &lt;dbl&gt; | etasq &lt;dbl&gt; | partial.etasq &lt;dbl&gt; | omegasq &lt;dbl&gt; | partial.omegasq &lt;dbl&gt; | epsilonsq &lt;dbl&gt; | cohens.f &lt;dbl&gt; | power &lt;dbl&gt; |\n",
       "|---|---|---|---|---|---|---|---|---|---|---|---|---|---|\n",
       "| 1 | trial         |  1 |  6752.812 | 6752.812 | 14.527 | 0.000 | 0.143 | 0.160 |  0.132 |  0.145 |  0.134 | 0.437 | 0.968 |\n",
       "| 2 | website       |  1 |  4789.513 | 4789.513 | 10.303 | 0.002 | 0.102 | 0.119 |  0.091 |  0.104 |  0.092 | 0.368 | 0.894 |\n",
       "| 3 | trial:website |  1 |   214.512 |  214.512 |  0.461 | 0.499 | 0.005 | 0.006 | -0.005 | -0.007 | -0.005 | 0.078 | 0.104 |\n",
       "| 4 | Residuals     | 76 | 35328.650 |  464.851 |     NA |    NA |    NA |    NA |     NA |     NA |     NA |    NA |    NA |\n",
       "\n"
      ],
      "text/plain": [
       "  term          df sumsq     meansq   statistic p.value etasq partial.etasq\n",
       "1 trial          1  6752.812 6752.812 14.527    0.000   0.143 0.160        \n",
       "2 website        1  4789.513 4789.513 10.303    0.002   0.102 0.119        \n",
       "3 trial:website  1   214.512  214.512  0.461    0.499   0.005 0.006        \n",
       "4 Residuals     76 35328.650  464.851     NA       NA      NA    NA        \n",
       "  omegasq partial.omegasq epsilonsq cohens.f power\n",
       "1  0.132   0.145           0.134    0.437    0.968\n",
       "2  0.091   0.104           0.092    0.368    0.894\n",
       "3 -0.005  -0.007          -0.005    0.078    0.104\n",
       "4     NA      NA              NA       NA       NA"
      ]
     },
     "metadata": {},
     "output_type": "display_data"
    }
   ],
   "source": [
    "anova_stats(stat.duration_aov)    #counting effect size"
   ]
  },
  {
   "cell_type": "code",
   "execution_count": 16,
   "metadata": {},
   "outputs": [
    {
     "data": {
      "text/html": [
       "<table>\n",
       "<caption>A data.frame: 4 × 7</caption>\n",
       "<thead>\n",
       "\t<tr><th scope=col>trial</th><th scope=col>website</th><th scope=col>N</th><th scope=col>duration</th><th scope=col>sd</th><th scope=col>se</th><th scope=col>ci</th></tr>\n",
       "\t<tr><th scope=col>&lt;fct&gt;</th><th scope=col>&lt;fct&gt;</th><th scope=col>&lt;dbl&gt;</th><th scope=col>&lt;dbl&gt;</th><th scope=col>&lt;dbl&gt;</th><th scope=col>&lt;dbl&gt;</th><th scope=col>&lt;dbl&gt;</th></tr>\n",
       "</thead>\n",
       "<tbody>\n",
       "\t<tr><td>With_sys   </td><td>JD   </td><td>20</td><td>58.65</td><td>19.94802</td><td>4.460514</td><td> 9.335963</td></tr>\n",
       "\t<tr><td>With_sys   </td><td>Tmall</td><td>20</td><td>46.45</td><td>14.49673</td><td>3.241568</td><td> 6.784680</td></tr>\n",
       "\t<tr><td>Without_sys</td><td>JD   </td><td>20</td><td>80.30</td><td>30.40793</td><td>6.799419</td><td>14.231349</td></tr>\n",
       "\t<tr><td>Without_sys</td><td>Tmall</td><td>20</td><td>61.55</td><td>18.07433</td><td>4.041544</td><td> 8.459049</td></tr>\n",
       "</tbody>\n",
       "</table>\n"
      ],
      "text/latex": [
       "A data.frame: 4 × 7\n",
       "\\begin{tabular}{lllllll}\n",
       " trial & website & N & duration & sd & se & ci\\\\\n",
       " <fct> & <fct> & <dbl> & <dbl> & <dbl> & <dbl> & <dbl>\\\\\n",
       "\\hline\n",
       "\t With\\_sys    & JD    & 20 & 58.65 & 19.94802 & 4.460514 &  9.335963\\\\\n",
       "\t With\\_sys    & Tmall & 20 & 46.45 & 14.49673 & 3.241568 &  6.784680\\\\\n",
       "\t Without\\_sys & JD    & 20 & 80.30 & 30.40793 & 6.799419 & 14.231349\\\\\n",
       "\t Without\\_sys & Tmall & 20 & 61.55 & 18.07433 & 4.041544 &  8.459049\\\\\n",
       "\\end{tabular}\n"
      ],
      "text/markdown": [
       "\n",
       "A data.frame: 4 × 7\n",
       "\n",
       "| trial &lt;fct&gt; | website &lt;fct&gt; | N &lt;dbl&gt; | duration &lt;dbl&gt; | sd &lt;dbl&gt; | se &lt;dbl&gt; | ci &lt;dbl&gt; |\n",
       "|---|---|---|---|---|---|---|\n",
       "| With_sys    | JD    | 20 | 58.65 | 19.94802 | 4.460514 |  9.335963 |\n",
       "| With_sys    | Tmall | 20 | 46.45 | 14.49673 | 3.241568 |  6.784680 |\n",
       "| Without_sys | JD    | 20 | 80.30 | 30.40793 | 6.799419 | 14.231349 |\n",
       "| Without_sys | Tmall | 20 | 61.55 | 18.07433 | 4.041544 |  8.459049 |\n",
       "\n"
      ],
      "text/plain": [
       "  trial       website N  duration sd       se       ci       \n",
       "1 With_sys    JD      20 58.65    19.94802 4.460514  9.335963\n",
       "2 With_sys    Tmall   20 46.45    14.49673 3.241568  6.784680\n",
       "3 Without_sys JD      20 80.30    30.40793 6.799419 14.231349\n",
       "4 Without_sys Tmall   20 61.55    18.07433 4.041544  8.459049"
      ]
     },
     "metadata": {},
     "output_type": "display_data"
    }
   ],
   "source": [
    "task_duration = summarySE(stat, measurevar=\"duration\", groupvars=c(\"trial\",\"website\"))\n",
    "task_duration"
   ]
  },
  {
   "cell_type": "markdown",
   "metadata": {},
   "source": [
    "### Operation"
   ]
  },
  {
   "cell_type": "code",
   "execution_count": 19,
   "metadata": {},
   "outputs": [
    {
     "data": {
      "text/html": [
       "<table>\n",
       "<caption>A data.frame: 4 × 3</caption>\n",
       "<thead>\n",
       "\t<tr><th scope=col>Group.1</th><th scope=col>Group.2</th><th scope=col>x</th></tr>\n",
       "\t<tr><th scope=col>&lt;fct&gt;</th><th scope=col>&lt;fct&gt;</th><th scope=col>&lt;dbl&gt;</th></tr>\n",
       "</thead>\n",
       "<tbody>\n",
       "\t<tr><td>With_sys   </td><td>JD   </td><td>16.05</td></tr>\n",
       "\t<tr><td>Without_sys</td><td>JD   </td><td>24.80</td></tr>\n",
       "\t<tr><td>With_sys   </td><td>Tmall</td><td>13.45</td></tr>\n",
       "\t<tr><td>Without_sys</td><td>Tmall</td><td>17.35</td></tr>\n",
       "</tbody>\n",
       "</table>\n"
      ],
      "text/latex": [
       "A data.frame: 4 × 3\n",
       "\\begin{tabular}{lll}\n",
       " Group.1 & Group.2 & x\\\\\n",
       " <fct> & <fct> & <dbl>\\\\\n",
       "\\hline\n",
       "\t With\\_sys    & JD    & 16.05\\\\\n",
       "\t Without\\_sys & JD    & 24.80\\\\\n",
       "\t With\\_sys    & Tmall & 13.45\\\\\n",
       "\t Without\\_sys & Tmall & 17.35\\\\\n",
       "\\end{tabular}\n"
      ],
      "text/markdown": [
       "\n",
       "A data.frame: 4 × 3\n",
       "\n",
       "| Group.1 &lt;fct&gt; | Group.2 &lt;fct&gt; | x &lt;dbl&gt; |\n",
       "|---|---|---|\n",
       "| With_sys    | JD    | 16.05 |\n",
       "| Without_sys | JD    | 24.80 |\n",
       "| With_sys    | Tmall | 13.45 |\n",
       "| Without_sys | Tmall | 17.35 |\n",
       "\n"
      ],
      "text/plain": [
       "  Group.1     Group.2 x    \n",
       "1 With_sys    JD      16.05\n",
       "2 Without_sys JD      24.80\n",
       "3 With_sys    Tmall   13.45\n",
       "4 Without_sys Tmall   17.35"
      ]
     },
     "metadata": {},
     "output_type": "display_data"
    },
    {
     "data": {
      "text/html": [
       "<table>\n",
       "<caption>A data.frame: 4 × 3</caption>\n",
       "<thead>\n",
       "\t<tr><th scope=col>Group.1</th><th scope=col>Group.2</th><th scope=col>x</th></tr>\n",
       "\t<tr><th scope=col>&lt;fct&gt;</th><th scope=col>&lt;fct&gt;</th><th scope=col>&lt;dbl&gt;</th></tr>\n",
       "</thead>\n",
       "<tbody>\n",
       "\t<tr><td>With_sys   </td><td>JD   </td><td> 3.590558</td></tr>\n",
       "\t<tr><td>Without_sys</td><td>JD   </td><td>11.043455</td></tr>\n",
       "\t<tr><td>With_sys   </td><td>Tmall</td><td> 2.910507</td></tr>\n",
       "\t<tr><td>Without_sys</td><td>Tmall</td><td> 4.749238</td></tr>\n",
       "</tbody>\n",
       "</table>\n"
      ],
      "text/latex": [
       "A data.frame: 4 × 3\n",
       "\\begin{tabular}{lll}\n",
       " Group.1 & Group.2 & x\\\\\n",
       " <fct> & <fct> & <dbl>\\\\\n",
       "\\hline\n",
       "\t With\\_sys    & JD    &  3.590558\\\\\n",
       "\t Without\\_sys & JD    & 11.043455\\\\\n",
       "\t With\\_sys    & Tmall &  2.910507\\\\\n",
       "\t Without\\_sys & Tmall &  4.749238\\\\\n",
       "\\end{tabular}\n"
      ],
      "text/markdown": [
       "\n",
       "A data.frame: 4 × 3\n",
       "\n",
       "| Group.1 &lt;fct&gt; | Group.2 &lt;fct&gt; | x &lt;dbl&gt; |\n",
       "|---|---|---|\n",
       "| With_sys    | JD    |  3.590558 |\n",
       "| Without_sys | JD    | 11.043455 |\n",
       "| With_sys    | Tmall |  2.910507 |\n",
       "| Without_sys | Tmall |  4.749238 |\n",
       "\n"
      ],
      "text/plain": [
       "  Group.1     Group.2 x        \n",
       "1 With_sys    JD       3.590558\n",
       "2 Without_sys JD      11.043455\n",
       "3 With_sys    Tmall    2.910507\n",
       "4 Without_sys Tmall    4.749238"
      ]
     },
     "metadata": {},
     "output_type": "display_data"
    },
    {
     "data": {
      "text/plain": [
       "              Df Sum Sq Mean Sq F value   Pr(>F)    \n",
       "trial          1  800.1   800.1  19.294 3.58e-05 ***\n",
       "website        1  505.0   505.0  12.178 0.000808 ***\n",
       "trial:website  1  117.6   117.6   2.836 0.096268 .  \n",
       "Residuals     76 3151.7    41.5                     \n",
       "---\n",
       "Signif. codes:  0 ‘***’ 0.001 ‘**’ 0.01 ‘*’ 0.05 ‘.’ 0.1 ‘ ’ 1"
      ]
     },
     "metadata": {},
     "output_type": "display_data"
    }
   ],
   "source": [
    "attach(stat)\n",
    "aggregate(operation,by=list(trial,website),FUN=mean)\n",
    "aggregate(operation,by=list(trial,website),FUN=sd)\n",
    "stat.operation_aov = aov(operation ~ trial * website)\n",
    "detach(stat)\n",
    "summary(stat.operation_aov)"
   ]
  },
  {
   "cell_type": "code",
   "execution_count": 21,
   "metadata": {},
   "outputs": [
    {
     "data": {
      "text/html": [
       "<table>\n",
       "<caption>A data.frame: 4 × 13</caption>\n",
       "<thead>\n",
       "\t<tr><th></th><th scope=col>term</th><th scope=col>df</th><th scope=col>sumsq</th><th scope=col>meansq</th><th scope=col>statistic</th><th scope=col>p.value</th><th scope=col>etasq</th><th scope=col>partial.etasq</th><th scope=col>omegasq</th><th scope=col>partial.omegasq</th><th scope=col>epsilonsq</th><th scope=col>cohens.f</th><th scope=col>power</th></tr>\n",
       "\t<tr><th></th><th scope=col>&lt;chr&gt;</th><th scope=col>&lt;dbl&gt;</th><th scope=col>&lt;dbl&gt;</th><th scope=col>&lt;dbl&gt;</th><th scope=col>&lt;dbl&gt;</th><th scope=col>&lt;dbl&gt;</th><th scope=col>&lt;dbl&gt;</th><th scope=col>&lt;dbl&gt;</th><th scope=col>&lt;dbl&gt;</th><th scope=col>&lt;dbl&gt;</th><th scope=col>&lt;dbl&gt;</th><th scope=col>&lt;dbl&gt;</th><th scope=col>&lt;dbl&gt;</th></tr>\n",
       "</thead>\n",
       "<tbody>\n",
       "\t<tr><th scope=row>1</th><td>trial        </td><td> 1</td><td> 800.112</td><td>800.112</td><td>19.294</td><td>0.000</td><td>0.175</td><td>0.202</td><td>0.164</td><td>0.186</td><td>0.166</td><td>0.504</td><td>0.993</td></tr>\n",
       "\t<tr><th scope=row>2</th><td>website      </td><td> 1</td><td> 505.013</td><td>505.013</td><td>12.178</td><td>0.001</td><td>0.110</td><td>0.138</td><td>0.100</td><td>0.123</td><td>0.101</td><td>0.400</td><td>0.937</td></tr>\n",
       "\t<tr><th scope=row>3</th><td>trial:website</td><td> 1</td><td> 117.612</td><td>117.612</td><td> 2.836</td><td>0.096</td><td>0.026</td><td>0.036</td><td>0.016</td><td>0.022</td><td>0.017</td><td>0.193</td><td>0.392</td></tr>\n",
       "\t<tr><th scope=row>4</th><td>Residuals    </td><td>76</td><td>3151.650</td><td> 41.469</td><td>    NA</td><td>   NA</td><td>   NA</td><td>   NA</td><td>   NA</td><td>   NA</td><td>   NA</td><td>   NA</td><td>   NA</td></tr>\n",
       "</tbody>\n",
       "</table>\n"
      ],
      "text/latex": [
       "A data.frame: 4 × 13\n",
       "\\begin{tabular}{r|lllllllllllll}\n",
       "  & term & df & sumsq & meansq & statistic & p.value & etasq & partial.etasq & omegasq & partial.omegasq & epsilonsq & cohens.f & power\\\\\n",
       "  & <chr> & <dbl> & <dbl> & <dbl> & <dbl> & <dbl> & <dbl> & <dbl> & <dbl> & <dbl> & <dbl> & <dbl> & <dbl>\\\\\n",
       "\\hline\n",
       "\t1 & trial         &  1 &  800.112 & 800.112 & 19.294 & 0.000 & 0.175 & 0.202 & 0.164 & 0.186 & 0.166 & 0.504 & 0.993\\\\\n",
       "\t2 & website       &  1 &  505.013 & 505.013 & 12.178 & 0.001 & 0.110 & 0.138 & 0.100 & 0.123 & 0.101 & 0.400 & 0.937\\\\\n",
       "\t3 & trial:website &  1 &  117.612 & 117.612 &  2.836 & 0.096 & 0.026 & 0.036 & 0.016 & 0.022 & 0.017 & 0.193 & 0.392\\\\\n",
       "\t4 & Residuals     & 76 & 3151.650 &  41.469 &     NA &    NA &    NA &    NA &    NA &    NA &    NA &    NA &    NA\\\\\n",
       "\\end{tabular}\n"
      ],
      "text/markdown": [
       "\n",
       "A data.frame: 4 × 13\n",
       "\n",
       "| <!--/--> | term &lt;chr&gt; | df &lt;dbl&gt; | sumsq &lt;dbl&gt; | meansq &lt;dbl&gt; | statistic &lt;dbl&gt; | p.value &lt;dbl&gt; | etasq &lt;dbl&gt; | partial.etasq &lt;dbl&gt; | omegasq &lt;dbl&gt; | partial.omegasq &lt;dbl&gt; | epsilonsq &lt;dbl&gt; | cohens.f &lt;dbl&gt; | power &lt;dbl&gt; |\n",
       "|---|---|---|---|---|---|---|---|---|---|---|---|---|---|\n",
       "| 1 | trial         |  1 |  800.112 | 800.112 | 19.294 | 0.000 | 0.175 | 0.202 | 0.164 | 0.186 | 0.166 | 0.504 | 0.993 |\n",
       "| 2 | website       |  1 |  505.013 | 505.013 | 12.178 | 0.001 | 0.110 | 0.138 | 0.100 | 0.123 | 0.101 | 0.400 | 0.937 |\n",
       "| 3 | trial:website |  1 |  117.612 | 117.612 |  2.836 | 0.096 | 0.026 | 0.036 | 0.016 | 0.022 | 0.017 | 0.193 | 0.392 |\n",
       "| 4 | Residuals     | 76 | 3151.650 |  41.469 |     NA |    NA |    NA |    NA |    NA |    NA |    NA |    NA |    NA |\n",
       "\n"
      ],
      "text/plain": [
       "  term          df sumsq    meansq  statistic p.value etasq partial.etasq\n",
       "1 trial          1  800.112 800.112 19.294    0.000   0.175 0.202        \n",
       "2 website        1  505.013 505.013 12.178    0.001   0.110 0.138        \n",
       "3 trial:website  1  117.612 117.612  2.836    0.096   0.026 0.036        \n",
       "4 Residuals     76 3151.650  41.469     NA       NA      NA    NA        \n",
       "  omegasq partial.omegasq epsilonsq cohens.f power\n",
       "1 0.164   0.186           0.166     0.504    0.993\n",
       "2 0.100   0.123           0.101     0.400    0.937\n",
       "3 0.016   0.022           0.017     0.193    0.392\n",
       "4    NA      NA              NA        NA       NA"
      ]
     },
     "metadata": {},
     "output_type": "display_data"
    }
   ],
   "source": [
    "anova_stats(stat.operation_aov)    #counting effect size"
   ]
  },
  {
   "cell_type": "code",
   "execution_count": 22,
   "metadata": {},
   "outputs": [
    {
     "data": {
      "text/html": [
       "<table>\n",
       "<caption>A data.frame: 4 × 7</caption>\n",
       "<thead>\n",
       "\t<tr><th scope=col>trial</th><th scope=col>website</th><th scope=col>N</th><th scope=col>operation</th><th scope=col>sd</th><th scope=col>se</th><th scope=col>ci</th></tr>\n",
       "\t<tr><th scope=col>&lt;fct&gt;</th><th scope=col>&lt;fct&gt;</th><th scope=col>&lt;dbl&gt;</th><th scope=col>&lt;dbl&gt;</th><th scope=col>&lt;dbl&gt;</th><th scope=col>&lt;dbl&gt;</th><th scope=col>&lt;dbl&gt;</th></tr>\n",
       "</thead>\n",
       "<tbody>\n",
       "\t<tr><td>With_sys   </td><td>JD   </td><td>20</td><td>16.05</td><td> 3.590558</td><td>0.8028731</td><td>1.680433</td></tr>\n",
       "\t<tr><td>With_sys   </td><td>Tmall</td><td>20</td><td>13.45</td><td> 2.910507</td><td>0.6508092</td><td>1.362159</td></tr>\n",
       "\t<tr><td>Without_sys</td><td>JD   </td><td>20</td><td>24.80</td><td>11.043455</td><td>2.4693916</td><td>5.168496</td></tr>\n",
       "\t<tr><td>Without_sys</td><td>Tmall</td><td>20</td><td>17.35</td><td> 4.749238</td><td>1.0619619</td><td>2.222712</td></tr>\n",
       "</tbody>\n",
       "</table>\n"
      ],
      "text/latex": [
       "A data.frame: 4 × 7\n",
       "\\begin{tabular}{lllllll}\n",
       " trial & website & N & operation & sd & se & ci\\\\\n",
       " <fct> & <fct> & <dbl> & <dbl> & <dbl> & <dbl> & <dbl>\\\\\n",
       "\\hline\n",
       "\t With\\_sys    & JD    & 20 & 16.05 &  3.590558 & 0.8028731 & 1.680433\\\\\n",
       "\t With\\_sys    & Tmall & 20 & 13.45 &  2.910507 & 0.6508092 & 1.362159\\\\\n",
       "\t Without\\_sys & JD    & 20 & 24.80 & 11.043455 & 2.4693916 & 5.168496\\\\\n",
       "\t Without\\_sys & Tmall & 20 & 17.35 &  4.749238 & 1.0619619 & 2.222712\\\\\n",
       "\\end{tabular}\n"
      ],
      "text/markdown": [
       "\n",
       "A data.frame: 4 × 7\n",
       "\n",
       "| trial &lt;fct&gt; | website &lt;fct&gt; | N &lt;dbl&gt; | operation &lt;dbl&gt; | sd &lt;dbl&gt; | se &lt;dbl&gt; | ci &lt;dbl&gt; |\n",
       "|---|---|---|---|---|---|---|\n",
       "| With_sys    | JD    | 20 | 16.05 |  3.590558 | 0.8028731 | 1.680433 |\n",
       "| With_sys    | Tmall | 20 | 13.45 |  2.910507 | 0.6508092 | 1.362159 |\n",
       "| Without_sys | JD    | 20 | 24.80 | 11.043455 | 2.4693916 | 5.168496 |\n",
       "| Without_sys | Tmall | 20 | 17.35 |  4.749238 | 1.0619619 | 2.222712 |\n",
       "\n"
      ],
      "text/plain": [
       "  trial       website N  operation sd        se        ci      \n",
       "1 With_sys    JD      20 16.05      3.590558 0.8028731 1.680433\n",
       "2 With_sys    Tmall   20 13.45      2.910507 0.6508092 1.362159\n",
       "3 Without_sys JD      20 24.80     11.043455 2.4693916 5.168496\n",
       "4 Without_sys Tmall   20 17.35      4.749238 1.0619619 2.222712"
      ]
     },
     "metadata": {},
     "output_type": "display_data"
    }
   ],
   "source": [
    "task_operation = summarySE(stat, measurevar=\"operation\", groupvars=c(\"trial\",\"website\"))\n",
    "task_operation"
   ]
  },
  {
   "cell_type": "markdown",
   "metadata": {},
   "source": [
    "## After adjusted"
   ]
  },
  {
   "cell_type": "markdown",
   "metadata": {},
   "source": [
    "### Duration"
   ]
  },
  {
   "cell_type": "code",
   "execution_count": 27,
   "metadata": {},
   "outputs": [
    {
     "name": "stderr",
     "output_type": "stream",
     "text": [
      "The following objects are masked from stat (pos = 3):\n",
      "\n",
      "    blink, blink_interval, duration, fixation, fixation_count,\n",
      "    operation, sub, trial, website\n",
      "\n",
      "\n"
     ]
    },
    {
     "data": {
      "text/html": [
       "<table>\n",
       "<caption>A data.frame: 4 × 3</caption>\n",
       "<thead>\n",
       "\t<tr><th scope=col>Group.1</th><th scope=col>Group.2</th><th scope=col>x</th></tr>\n",
       "\t<tr><th scope=col>&lt;fct&gt;</th><th scope=col>&lt;fct&gt;</th><th scope=col>&lt;dbl&gt;</th></tr>\n",
       "</thead>\n",
       "<tbody>\n",
       "\t<tr><td>With_sys   </td><td>JD   </td><td>47.4690</td></tr>\n",
       "\t<tr><td>Without_sys</td><td>JD   </td><td>70.1835</td></tr>\n",
       "\t<tr><td>With_sys   </td><td>Tmall</td><td>46.4500</td></tr>\n",
       "\t<tr><td>Without_sys</td><td>Tmall</td><td>61.5500</td></tr>\n",
       "</tbody>\n",
       "</table>\n"
      ],
      "text/latex": [
       "A data.frame: 4 × 3\n",
       "\\begin{tabular}{lll}\n",
       " Group.1 & Group.2 & x\\\\\n",
       " <fct> & <fct> & <dbl>\\\\\n",
       "\\hline\n",
       "\t With\\_sys    & JD    & 47.4690\\\\\n",
       "\t Without\\_sys & JD    & 70.1835\\\\\n",
       "\t With\\_sys    & Tmall & 46.4500\\\\\n",
       "\t Without\\_sys & Tmall & 61.5500\\\\\n",
       "\\end{tabular}\n"
      ],
      "text/markdown": [
       "\n",
       "A data.frame: 4 × 3\n",
       "\n",
       "| Group.1 &lt;fct&gt; | Group.2 &lt;fct&gt; | x &lt;dbl&gt; |\n",
       "|---|---|---|\n",
       "| With_sys    | JD    | 47.4690 |\n",
       "| Without_sys | JD    | 70.1835 |\n",
       "| With_sys    | Tmall | 46.4500 |\n",
       "| Without_sys | Tmall | 61.5500 |\n",
       "\n"
      ],
      "text/plain": [
       "  Group.1     Group.2 x      \n",
       "1 With_sys    JD      47.4690\n",
       "2 Without_sys JD      70.1835\n",
       "3 With_sys    Tmall   46.4500\n",
       "4 Without_sys Tmall   61.5500"
      ]
     },
     "metadata": {},
     "output_type": "display_data"
    },
    {
     "data": {
      "text/html": [
       "<table>\n",
       "<caption>A data.frame: 4 × 3</caption>\n",
       "<thead>\n",
       "\t<tr><th scope=col>Group.1</th><th scope=col>Group.2</th><th scope=col>x</th></tr>\n",
       "\t<tr><th scope=col>&lt;fct&gt;</th><th scope=col>&lt;fct&gt;</th><th scope=col>&lt;dbl&gt;</th></tr>\n",
       "</thead>\n",
       "<tbody>\n",
       "\t<tr><td>With_sys   </td><td>JD   </td><td>17.54810</td></tr>\n",
       "\t<tr><td>Without_sys</td><td>JD   </td><td>30.78093</td></tr>\n",
       "\t<tr><td>With_sys   </td><td>Tmall</td><td>14.49673</td></tr>\n",
       "\t<tr><td>Without_sys</td><td>Tmall</td><td>18.07433</td></tr>\n",
       "</tbody>\n",
       "</table>\n"
      ],
      "text/latex": [
       "A data.frame: 4 × 3\n",
       "\\begin{tabular}{lll}\n",
       " Group.1 & Group.2 & x\\\\\n",
       " <fct> & <fct> & <dbl>\\\\\n",
       "\\hline\n",
       "\t With\\_sys    & JD    & 17.54810\\\\\n",
       "\t Without\\_sys & JD    & 30.78093\\\\\n",
       "\t With\\_sys    & Tmall & 14.49673\\\\\n",
       "\t Without\\_sys & Tmall & 18.07433\\\\\n",
       "\\end{tabular}\n"
      ],
      "text/markdown": [
       "\n",
       "A data.frame: 4 × 3\n",
       "\n",
       "| Group.1 &lt;fct&gt; | Group.2 &lt;fct&gt; | x &lt;dbl&gt; |\n",
       "|---|---|---|\n",
       "| With_sys    | JD    | 17.54810 |\n",
       "| Without_sys | JD    | 30.78093 |\n",
       "| With_sys    | Tmall | 14.49673 |\n",
       "| Without_sys | Tmall | 18.07433 |\n",
       "\n"
      ],
      "text/plain": [
       "  Group.1     Group.2 x       \n",
       "1 With_sys    JD      17.54810\n",
       "2 Without_sys JD      30.78093\n",
       "3 With_sys    Tmall   14.49673\n",
       "4 Without_sys Tmall   18.07433"
      ]
     },
     "metadata": {},
     "output_type": "display_data"
    },
    {
     "data": {
      "text/plain": [
       "              Df Sum Sq Mean Sq F value   Pr(>F)    \n",
       "trial          1   7150    7150  15.957 0.000148 ***\n",
       "website        1    466     466   1.040 0.311123    \n",
       "trial:website  1    290     290   0.647 0.423690    \n",
       "Residuals     76  34053     448                     \n",
       "---\n",
       "Signif. codes:  0 ‘***’ 0.001 ‘**’ 0.01 ‘*’ 0.05 ‘.’ 0.1 ‘ ’ 1"
      ]
     },
     "metadata": {},
     "output_type": "display_data"
    }
   ],
   "source": [
    "attach(stat)\n",
    "aggregate(fixed_duration,by=list(trial,website),FUN=mean)\n",
    "aggregate(fixed_duration,by=list(trial,website),FUN=sd)\n",
    "stat.duration_aov = aov(fixed_duration ~ trial * website)\n",
    "detach(stat)\n",
    "summary(stat.duration_aov)"
   ]
  },
  {
   "cell_type": "code",
   "execution_count": 28,
   "metadata": {},
   "outputs": [
    {
     "data": {
      "text/html": [
       "<table>\n",
       "<caption>A data.frame: 4 × 13</caption>\n",
       "<thead>\n",
       "\t<tr><th></th><th scope=col>term</th><th scope=col>df</th><th scope=col>sumsq</th><th scope=col>meansq</th><th scope=col>statistic</th><th scope=col>p.value</th><th scope=col>etasq</th><th scope=col>partial.etasq</th><th scope=col>omegasq</th><th scope=col>partial.omegasq</th><th scope=col>epsilonsq</th><th scope=col>cohens.f</th><th scope=col>power</th></tr>\n",
       "\t<tr><th></th><th scope=col>&lt;chr&gt;</th><th scope=col>&lt;dbl&gt;</th><th scope=col>&lt;dbl&gt;</th><th scope=col>&lt;dbl&gt;</th><th scope=col>&lt;dbl&gt;</th><th scope=col>&lt;dbl&gt;</th><th scope=col>&lt;dbl&gt;</th><th scope=col>&lt;dbl&gt;</th><th scope=col>&lt;dbl&gt;</th><th scope=col>&lt;dbl&gt;</th><th scope=col>&lt;dbl&gt;</th><th scope=col>&lt;dbl&gt;</th><th scope=col>&lt;dbl&gt;</th></tr>\n",
       "</thead>\n",
       "<tbody>\n",
       "\t<tr><th scope=row>1</th><td>trial        </td><td> 1</td><td> 7149.682</td><td>7149.682</td><td>15.957</td><td>0.000</td><td>0.170</td><td>0.174</td><td> 0.158</td><td> 0.158</td><td> 0.160</td><td>0.458</td><td>0.979</td></tr>\n",
       "\t<tr><th scope=row>2</th><td>website      </td><td> 1</td><td>  465.854</td><td> 465.854</td><td> 1.040</td><td>0.311</td><td>0.011</td><td>0.013</td><td> 0.000</td><td> 0.000</td><td> 0.000</td><td>0.117</td><td>0.175</td></tr>\n",
       "\t<tr><th scope=row>3</th><td>trial:website</td><td> 1</td><td>  289.903</td><td> 289.903</td><td> 0.647</td><td>0.424</td><td>0.007</td><td>0.008</td><td>-0.004</td><td>-0.004</td><td>-0.004</td><td>0.092</td><td>0.127</td></tr>\n",
       "\t<tr><th scope=row>4</th><td>Residuals    </td><td>76</td><td>34052.526</td><td> 448.060</td><td>    NA</td><td>   NA</td><td>   NA</td><td>   NA</td><td>    NA</td><td>    NA</td><td>    NA</td><td>   NA</td><td>   NA</td></tr>\n",
       "</tbody>\n",
       "</table>\n"
      ],
      "text/latex": [
       "A data.frame: 4 × 13\n",
       "\\begin{tabular}{r|lllllllllllll}\n",
       "  & term & df & sumsq & meansq & statistic & p.value & etasq & partial.etasq & omegasq & partial.omegasq & epsilonsq & cohens.f & power\\\\\n",
       "  & <chr> & <dbl> & <dbl> & <dbl> & <dbl> & <dbl> & <dbl> & <dbl> & <dbl> & <dbl> & <dbl> & <dbl> & <dbl>\\\\\n",
       "\\hline\n",
       "\t1 & trial         &  1 &  7149.682 & 7149.682 & 15.957 & 0.000 & 0.170 & 0.174 &  0.158 &  0.158 &  0.160 & 0.458 & 0.979\\\\\n",
       "\t2 & website       &  1 &   465.854 &  465.854 &  1.040 & 0.311 & 0.011 & 0.013 &  0.000 &  0.000 &  0.000 & 0.117 & 0.175\\\\\n",
       "\t3 & trial:website &  1 &   289.903 &  289.903 &  0.647 & 0.424 & 0.007 & 0.008 & -0.004 & -0.004 & -0.004 & 0.092 & 0.127\\\\\n",
       "\t4 & Residuals     & 76 & 34052.526 &  448.060 &     NA &    NA &    NA &    NA &     NA &     NA &     NA &    NA &    NA\\\\\n",
       "\\end{tabular}\n"
      ],
      "text/markdown": [
       "\n",
       "A data.frame: 4 × 13\n",
       "\n",
       "| <!--/--> | term &lt;chr&gt; | df &lt;dbl&gt; | sumsq &lt;dbl&gt; | meansq &lt;dbl&gt; | statistic &lt;dbl&gt; | p.value &lt;dbl&gt; | etasq &lt;dbl&gt; | partial.etasq &lt;dbl&gt; | omegasq &lt;dbl&gt; | partial.omegasq &lt;dbl&gt; | epsilonsq &lt;dbl&gt; | cohens.f &lt;dbl&gt; | power &lt;dbl&gt; |\n",
       "|---|---|---|---|---|---|---|---|---|---|---|---|---|---|\n",
       "| 1 | trial         |  1 |  7149.682 | 7149.682 | 15.957 | 0.000 | 0.170 | 0.174 |  0.158 |  0.158 |  0.160 | 0.458 | 0.979 |\n",
       "| 2 | website       |  1 |   465.854 |  465.854 |  1.040 | 0.311 | 0.011 | 0.013 |  0.000 |  0.000 |  0.000 | 0.117 | 0.175 |\n",
       "| 3 | trial:website |  1 |   289.903 |  289.903 |  0.647 | 0.424 | 0.007 | 0.008 | -0.004 | -0.004 | -0.004 | 0.092 | 0.127 |\n",
       "| 4 | Residuals     | 76 | 34052.526 |  448.060 |     NA |    NA |    NA |    NA |     NA |     NA |     NA |    NA |    NA |\n",
       "\n"
      ],
      "text/plain": [
       "  term          df sumsq     meansq   statistic p.value etasq partial.etasq\n",
       "1 trial          1  7149.682 7149.682 15.957    0.000   0.170 0.174        \n",
       "2 website        1   465.854  465.854  1.040    0.311   0.011 0.013        \n",
       "3 trial:website  1   289.903  289.903  0.647    0.424   0.007 0.008        \n",
       "4 Residuals     76 34052.526  448.060     NA       NA      NA    NA        \n",
       "  omegasq partial.omegasq epsilonsq cohens.f power\n",
       "1  0.158   0.158           0.160    0.458    0.979\n",
       "2  0.000   0.000           0.000    0.117    0.175\n",
       "3 -0.004  -0.004          -0.004    0.092    0.127\n",
       "4     NA      NA              NA       NA       NA"
      ]
     },
     "metadata": {},
     "output_type": "display_data"
    }
   ],
   "source": [
    "anova_stats(stat.duration_aov)    #counting effect size"
   ]
  },
  {
   "cell_type": "code",
   "execution_count": 29,
   "metadata": {},
   "outputs": [
    {
     "data": {
      "text/html": [
       "<table>\n",
       "<caption>A data.frame: 4 × 7</caption>\n",
       "<thead>\n",
       "\t<tr><th scope=col>trial</th><th scope=col>website</th><th scope=col>N</th><th scope=col>fixed_duration</th><th scope=col>sd</th><th scope=col>se</th><th scope=col>ci</th></tr>\n",
       "\t<tr><th scope=col>&lt;fct&gt;</th><th scope=col>&lt;fct&gt;</th><th scope=col>&lt;dbl&gt;</th><th scope=col>&lt;dbl&gt;</th><th scope=col>&lt;dbl&gt;</th><th scope=col>&lt;dbl&gt;</th><th scope=col>&lt;dbl&gt;</th></tr>\n",
       "</thead>\n",
       "<tbody>\n",
       "\t<tr><td>With_sys   </td><td>JD   </td><td>20</td><td>47.4690</td><td>17.54810</td><td>3.923874</td><td> 8.212763</td></tr>\n",
       "\t<tr><td>With_sys   </td><td>Tmall</td><td>20</td><td>46.4500</td><td>14.49673</td><td>3.241568</td><td> 6.784680</td></tr>\n",
       "\t<tr><td>Without_sys</td><td>JD   </td><td>20</td><td>70.1835</td><td>30.78093</td><td>6.882825</td><td>14.405919</td></tr>\n",
       "\t<tr><td>Without_sys</td><td>Tmall</td><td>20</td><td>61.5500</td><td>18.07433</td><td>4.041544</td><td> 8.459049</td></tr>\n",
       "</tbody>\n",
       "</table>\n"
      ],
      "text/latex": [
       "A data.frame: 4 × 7\n",
       "\\begin{tabular}{lllllll}\n",
       " trial & website & N & fixed\\_duration & sd & se & ci\\\\\n",
       " <fct> & <fct> & <dbl> & <dbl> & <dbl> & <dbl> & <dbl>\\\\\n",
       "\\hline\n",
       "\t With\\_sys    & JD    & 20 & 47.4690 & 17.54810 & 3.923874 &  8.212763\\\\\n",
       "\t With\\_sys    & Tmall & 20 & 46.4500 & 14.49673 & 3.241568 &  6.784680\\\\\n",
       "\t Without\\_sys & JD    & 20 & 70.1835 & 30.78093 & 6.882825 & 14.405919\\\\\n",
       "\t Without\\_sys & Tmall & 20 & 61.5500 & 18.07433 & 4.041544 &  8.459049\\\\\n",
       "\\end{tabular}\n"
      ],
      "text/markdown": [
       "\n",
       "A data.frame: 4 × 7\n",
       "\n",
       "| trial &lt;fct&gt; | website &lt;fct&gt; | N &lt;dbl&gt; | fixed_duration &lt;dbl&gt; | sd &lt;dbl&gt; | se &lt;dbl&gt; | ci &lt;dbl&gt; |\n",
       "|---|---|---|---|---|---|---|\n",
       "| With_sys    | JD    | 20 | 47.4690 | 17.54810 | 3.923874 |  8.212763 |\n",
       "| With_sys    | Tmall | 20 | 46.4500 | 14.49673 | 3.241568 |  6.784680 |\n",
       "| Without_sys | JD    | 20 | 70.1835 | 30.78093 | 6.882825 | 14.405919 |\n",
       "| Without_sys | Tmall | 20 | 61.5500 | 18.07433 | 4.041544 |  8.459049 |\n",
       "\n"
      ],
      "text/plain": [
       "  trial       website N  fixed_duration sd       se       ci       \n",
       "1 With_sys    JD      20 47.4690        17.54810 3.923874  8.212763\n",
       "2 With_sys    Tmall   20 46.4500        14.49673 3.241568  6.784680\n",
       "3 Without_sys JD      20 70.1835        30.78093 6.882825 14.405919\n",
       "4 Without_sys Tmall   20 61.5500        18.07433 4.041544  8.459049"
      ]
     },
     "metadata": {},
     "output_type": "display_data"
    }
   ],
   "source": [
    "task_duration = summarySE(stat, measurevar=\"fixed_duration\", groupvars=c(\"trial\",\"website\"))\n",
    "task_duration"
   ]
  },
  {
   "cell_type": "code",
   "execution_count": 31,
   "metadata": {},
   "outputs": [
    {
     "data": {
      "image/png": "[encoded data removed]",
      "text/plain": [
       "plot without title"
      ]
     },
     "metadata": {
      "image/png": {
       "height": 420,
       "width": 420
      },
      "text/plain": {
       "height": 420,
       "width": 420
      }
     },
     "output_type": "display_data"
    }
   ],
   "source": [
    "ggplot(stat, aes(x=trial, y=fixed_duration,fill=website)) + \n",
    "  geom_violin(trim=FALSE,color=\"white\") + \n",
    "  geom_boxplot(width=0.1,position=position_dodge(0.9))+ \n",
    "  scale_fill_manual(values = c(\"#feb64d\", \"#308AD9\"))+ \n",
    "  theme_bw()+\n",
    "  theme(axis.text.x=element_text(hjust = .5,colour=\"black\",family=\"Times\",size=20),\n",
    "        axis.text.y=element_text(family=\"Times\",size=16,face=\"plain\"),\n",
    "        axis.title.y=element_text(family=\"Times\",size = 20,face=\"plain\"),\n",
    "        panel.border = element_blank(),axis.line = element_line(colour = \"black\",size=1),\n",
    "        legend.text=element_text(face=\"italic\", family=\"Times\", colour=\"black\",\n",
    "                                 size=16),\n",
    "        legend.title=element_text(face=\"italic\", family=\"Times\", colour=\"black\",\n",
    "                                  size=18),\n",
    "        legend.background = element_rect(size=0.2, linetype=\"solid\", \n",
    "                                  colour =\"darkgrey\"),\n",
    "        legend.position=\"top\",\n",
    "        panel.grid.major = element_blank(),   \n",
    "        panel.grid.minor = element_blank())+  \n",
    "  ylab(\"Operation Time(s)\")+xlab(\"\")"
   ]
  },
  {
   "cell_type": "markdown",
   "metadata": {},
   "source": [
    "### Operation"
   ]
  },
  {
   "cell_type": "code",
   "execution_count": 96,
   "metadata": {},
   "outputs": [
    {
     "data": {
      "text/html": [
       "<table>\n",
       "<caption>A data.frame: 4 × 3</caption>\n",
       "<thead>\n",
       "\t<tr><th scope=col>Group.1</th><th scope=col>Group.2</th><th scope=col>x</th></tr>\n",
       "\t<tr><th scope=col>&lt;fct&gt;</th><th scope=col>&lt;fct&gt;</th><th scope=col>&lt;dbl&gt;</th></tr>\n",
       "</thead>\n",
       "<tbody>\n",
       "\t<tr><td>With_sys   </td><td>JD   </td><td>13.05</td></tr>\n",
       "\t<tr><td>Without_sys</td><td>JD   </td><td>21.80</td></tr>\n",
       "\t<tr><td>With_sys   </td><td>Tmall</td><td>13.45</td></tr>\n",
       "\t<tr><td>Without_sys</td><td>Tmall</td><td>17.35</td></tr>\n",
       "</tbody>\n",
       "</table>\n"
      ],
      "text/latex": [
       "A data.frame: 4 × 3\n",
       "\\begin{tabular}{r|lll}\n",
       " Group.1 & Group.2 & x\\\\\n",
       " <fct> & <fct> & <dbl>\\\\\n",
       "\\hline\n",
       "\t With\\_sys    & JD    & 13.05\\\\\n",
       "\t Without\\_sys & JD    & 21.80\\\\\n",
       "\t With\\_sys    & Tmall & 13.45\\\\\n",
       "\t Without\\_sys & Tmall & 17.35\\\\\n",
       "\\end{tabular}\n"
      ],
      "text/markdown": [
       "\n",
       "A data.frame: 4 × 3\n",
       "\n",
       "| Group.1 &lt;fct&gt; | Group.2 &lt;fct&gt; | x &lt;dbl&gt; |\n",
       "|---|---|---|\n",
       "| With_sys    | JD    | 13.05 |\n",
       "| Without_sys | JD    | 21.80 |\n",
       "| With_sys    | Tmall | 13.45 |\n",
       "| Without_sys | Tmall | 17.35 |\n",
       "\n"
      ],
      "text/plain": [
       "  Group.1     Group.2 x    \n",
       "1 With_sys    JD      13.05\n",
       "2 Without_sys JD      21.80\n",
       "3 With_sys    Tmall   13.45\n",
       "4 Without_sys Tmall   17.35"
      ]
     },
     "metadata": {},
     "output_type": "display_data"
    },
    {
     "data": {
      "text/html": [
       "<table>\n",
       "<caption>A data.frame: 4 × 3</caption>\n",
       "<thead>\n",
       "\t<tr><th scope=col>Group.1</th><th scope=col>Group.2</th><th scope=col>x</th></tr>\n",
       "\t<tr><th scope=col>&lt;fct&gt;</th><th scope=col>&lt;fct&gt;</th><th scope=col>&lt;dbl&gt;</th></tr>\n",
       "</thead>\n",
       "<tbody>\n",
       "\t<tr><td>With_sys   </td><td>JD   </td><td> 3.590558</td></tr>\n",
       "\t<tr><td>Without_sys</td><td>JD   </td><td>11.043455</td></tr>\n",
       "\t<tr><td>With_sys   </td><td>Tmall</td><td> 2.910507</td></tr>\n",
       "\t<tr><td>Without_sys</td><td>Tmall</td><td> 4.749238</td></tr>\n",
       "</tbody>\n",
       "</table>\n"
      ],
      "text/latex": [
       "A data.frame: 4 × 3\n",
       "\\begin{tabular}{r|lll}\n",
       " Group.1 & Group.2 & x\\\\\n",
       " <fct> & <fct> & <dbl>\\\\\n",
       "\\hline\n",
       "\t With\\_sys    & JD    &  3.590558\\\\\n",
       "\t Without\\_sys & JD    & 11.043455\\\\\n",
       "\t With\\_sys    & Tmall &  2.910507\\\\\n",
       "\t Without\\_sys & Tmall &  4.749238\\\\\n",
       "\\end{tabular}\n"
      ],
      "text/markdown": [
       "\n",
       "A data.frame: 4 × 3\n",
       "\n",
       "| Group.1 &lt;fct&gt; | Group.2 &lt;fct&gt; | x &lt;dbl&gt; |\n",
       "|---|---|---|\n",
       "| With_sys    | JD    |  3.590558 |\n",
       "| Without_sys | JD    | 11.043455 |\n",
       "| With_sys    | Tmall |  2.910507 |\n",
       "| Without_sys | Tmall |  4.749238 |\n",
       "\n"
      ],
      "text/plain": [
       "  Group.1     Group.2 x        \n",
       "1 With_sys    JD       3.590558\n",
       "2 Without_sys JD      11.043455\n",
       "3 With_sys    Tmall    2.910507\n",
       "4 Without_sys Tmall    4.749238"
      ]
     },
     "metadata": {},
     "output_type": "display_data"
    },
    {
     "data": {
      "text/plain": [
       "              Df Sum Sq Mean Sq F value   Pr(>F)    \n",
       "trial          1  800.1   800.1  19.294 3.58e-05 ***\n",
       "website        1   82.0    82.0   1.978   0.1637    \n",
       "trial:website  1  117.6   117.6   2.836   0.0963 .  \n",
       "Residuals     76 3151.7    41.5                     \n",
       "---\n",
       "Signif. codes:  0 ‘***’ 0.001 ‘**’ 0.01 ‘*’ 0.05 ‘.’ 0.1 ‘ ’ 1"
      ]
     },
     "metadata": {},
     "output_type": "display_data"
    }
   ],
   "source": [
    "attach(stat)\n",
    "aggregate(fixed_operation,by=list(trial,website),FUN=mean)\n",
    "aggregate(fixed_operation,by=list(trial,website),FUN=sd)\n",
    "stat.operation_aov = aov(fixed_operation ~ trial * website)\n",
    "detach(stat)\n",
    "summary(stat.operation_aov)"
   ]
  },
  {
   "cell_type": "code",
   "execution_count": 97,
   "metadata": {},
   "outputs": [
    {
     "data": {
      "text/html": [
       "<table>\n",
       "<caption>A data.frame: 4 × 13</caption>\n",
       "<thead>\n",
       "\t<tr><th scope=col>term</th><th scope=col>df</th><th scope=col>sumsq</th><th scope=col>meansq</th><th scope=col>statistic</th><th scope=col>p.value</th><th scope=col>etasq</th><th scope=col>partial.etasq</th><th scope=col>omegasq</th><th scope=col>partial.omegasq</th><th scope=col>epsilonsq</th><th scope=col>cohens.f</th><th scope=col>power</th></tr>\n",
       "\t<tr><th scope=col>&lt;chr&gt;</th><th scope=col>&lt;dbl&gt;</th><th scope=col>&lt;dbl&gt;</th><th scope=col>&lt;dbl&gt;</th><th scope=col>&lt;dbl&gt;</th><th scope=col>&lt;dbl&gt;</th><th scope=col>&lt;dbl&gt;</th><th scope=col>&lt;dbl&gt;</th><th scope=col>&lt;dbl&gt;</th><th scope=col>&lt;dbl&gt;</th><th scope=col>&lt;dbl&gt;</th><th scope=col>&lt;dbl&gt;</th><th scope=col>&lt;dbl&gt;</th></tr>\n",
       "</thead>\n",
       "<tbody>\n",
       "\t<tr><td>trial        </td><td> 1</td><td> 800.112</td><td>800.112</td><td>19.294</td><td>0.000</td><td>0.193</td><td>0.202</td><td>0.181</td><td>0.186</td><td>0.183</td><td>0.504</td><td>0.993</td></tr>\n",
       "\t<tr><td>website      </td><td> 1</td><td>  82.013</td><td> 82.013</td><td> 1.978</td><td>0.164</td><td>0.020</td><td>0.025</td><td>0.010</td><td>0.012</td><td>0.010</td><td>0.161</td><td>0.290</td></tr>\n",
       "\t<tr><td>trial:website</td><td> 1</td><td> 117.612</td><td>117.612</td><td> 2.836</td><td>0.096</td><td>0.028</td><td>0.036</td><td>0.018</td><td>0.022</td><td>0.018</td><td>0.193</td><td>0.392</td></tr>\n",
       "\t<tr><td>Residuals    </td><td>76</td><td>3151.650</td><td> 41.469</td><td>    NA</td><td>   NA</td><td>   NA</td><td>   NA</td><td>   NA</td><td>   NA</td><td>   NA</td><td>   NA</td><td>   NA</td></tr>\n",
       "</tbody>\n",
       "</table>\n"
      ],
      "text/latex": [
       "A data.frame: 4 × 13\n",
       "\\begin{tabular}{r|lllllllllllll}\n",
       " term & df & sumsq & meansq & statistic & p.value & etasq & partial.etasq & omegasq & partial.omegasq & epsilonsq & cohens.f & power\\\\\n",
       " <chr> & <dbl> & <dbl> & <dbl> & <dbl> & <dbl> & <dbl> & <dbl> & <dbl> & <dbl> & <dbl> & <dbl> & <dbl>\\\\\n",
       "\\hline\n",
       "\t trial         &  1 &  800.112 & 800.112 & 19.294 & 0.000 & 0.193 & 0.202 & 0.181 & 0.186 & 0.183 & 0.504 & 0.993\\\\\n",
       "\t website       &  1 &   82.013 &  82.013 &  1.978 & 0.164 & 0.020 & 0.025 & 0.010 & 0.012 & 0.010 & 0.161 & 0.290\\\\\n",
       "\t trial:website &  1 &  117.612 & 117.612 &  2.836 & 0.096 & 0.028 & 0.036 & 0.018 & 0.022 & 0.018 & 0.193 & 0.392\\\\\n",
       "\t Residuals     & 76 & 3151.650 &  41.469 &     NA &    NA &    NA &    NA &    NA &    NA &    NA &    NA &    NA\\\\\n",
       "\\end{tabular}\n"
      ],
      "text/markdown": [
       "\n",
       "A data.frame: 4 × 13\n",
       "\n",
       "| term &lt;chr&gt; | df &lt;dbl&gt; | sumsq &lt;dbl&gt; | meansq &lt;dbl&gt; | statistic &lt;dbl&gt; | p.value &lt;dbl&gt; | etasq &lt;dbl&gt; | partial.etasq &lt;dbl&gt; | omegasq &lt;dbl&gt; | partial.omegasq &lt;dbl&gt; | epsilonsq &lt;dbl&gt; | cohens.f &lt;dbl&gt; | power &lt;dbl&gt; |\n",
       "|---|---|---|---|---|---|---|---|---|---|---|---|---|\n",
       "| trial         |  1 |  800.112 | 800.112 | 19.294 | 0.000 | 0.193 | 0.202 | 0.181 | 0.186 | 0.183 | 0.504 | 0.993 |\n",
       "| website       |  1 |   82.013 |  82.013 |  1.978 | 0.164 | 0.020 | 0.025 | 0.010 | 0.012 | 0.010 | 0.161 | 0.290 |\n",
       "| trial:website |  1 |  117.612 | 117.612 |  2.836 | 0.096 | 0.028 | 0.036 | 0.018 | 0.022 | 0.018 | 0.193 | 0.392 |\n",
       "| Residuals     | 76 | 3151.650 |  41.469 |     NA |    NA |    NA |    NA |    NA |    NA |    NA |    NA |    NA |\n",
       "\n"
      ],
      "text/plain": [
       "  term          df sumsq    meansq  statistic p.value etasq partial.etasq\n",
       "1 trial          1  800.112 800.112 19.294    0.000   0.193 0.202        \n",
       "2 website        1   82.013  82.013  1.978    0.164   0.020 0.025        \n",
       "3 trial:website  1  117.612 117.612  2.836    0.096   0.028 0.036        \n",
       "4 Residuals     76 3151.650  41.469     NA       NA      NA    NA        \n",
       "  omegasq partial.omegasq epsilonsq cohens.f power\n",
       "1 0.181   0.186           0.183     0.504    0.993\n",
       "2 0.010   0.012           0.010     0.161    0.290\n",
       "3 0.018   0.022           0.018     0.193    0.392\n",
       "4    NA      NA              NA        NA       NA"
      ]
     },
     "metadata": {},
     "output_type": "display_data"
    }
   ],
   "source": [
    "anova_stats(stat.operation_aov)    #counting effect size"
   ]
  },
  {
   "cell_type": "code",
   "execution_count": 98,
   "metadata": {},
   "outputs": [
    {
     "data": {
      "text/html": [
       "<table>\n",
       "<caption>A sj_anova_stat: 3 × 2</caption>\n",
       "<thead>\n",
       "\t<tr><th scope=col>term</th><th scope=col>etasq</th></tr>\n",
       "\t<tr><th scope=col>&lt;chr&gt;</th><th scope=col>&lt;dbl&gt;</th></tr>\n",
       "</thead>\n",
       "<tbody>\n",
       "\t<tr><td>trial        </td><td>0.19273375</td></tr>\n",
       "\t<tr><td>website      </td><td>0.01975544</td></tr>\n",
       "\t<tr><td>trial:website</td><td>0.02833089</td></tr>\n",
       "</tbody>\n",
       "</table>\n"
      ],
      "text/latex": [
       "A sj_anova_stat: 3 × 2\n",
       "\\begin{tabular}{r|ll}\n",
       " term & etasq\\\\\n",
       " <chr> & <dbl>\\\\\n",
       "\\hline\n",
       "\t trial         & 0.19273375\\\\\n",
       "\t website       & 0.01975544\\\\\n",
       "\t trial:website & 0.02833089\\\\\n",
       "\\end{tabular}\n"
      ],
      "text/markdown": [
       "\n",
       "A sj_anova_stat: 3 × 2\n",
       "\n",
       "| term &lt;chr&gt; | etasq &lt;dbl&gt; |\n",
       "|---|---|\n",
       "| trial         | 0.19273375 |\n",
       "| website       | 0.01975544 |\n",
       "| trial:website | 0.02833089 |\n",
       "\n"
      ],
      "text/plain": [
       "  term          etasq     \n",
       "1 trial         0.19273375\n",
       "2 website       0.01975544\n",
       "3 trial:website 0.02833089"
      ]
     },
     "metadata": {},
     "output_type": "display_data"
    }
   ],
   "source": [
    "eta_sq(stat.operation_aov)"
   ]
  },
  {
   "cell_type": "code",
   "execution_count": 100,
   "metadata": {},
   "outputs": [
    {
     "data": {
      "text/html": [
       "<table>\n",
       "<caption>A data.frame: 4 × 7</caption>\n",
       "<thead>\n",
       "\t<tr><th scope=col>trial</th><th scope=col>website</th><th scope=col>N</th><th scope=col>fixed_operation</th><th scope=col>sd</th><th scope=col>se</th><th scope=col>ci</th></tr>\n",
       "\t<tr><th scope=col>&lt;fct&gt;</th><th scope=col>&lt;fct&gt;</th><th scope=col>&lt;dbl&gt;</th><th scope=col>&lt;dbl&gt;</th><th scope=col>&lt;dbl&gt;</th><th scope=col>&lt;dbl&gt;</th><th scope=col>&lt;dbl&gt;</th></tr>\n",
       "</thead>\n",
       "<tbody>\n",
       "\t<tr><td>With_sys   </td><td>JD   </td><td>20</td><td>13.05</td><td> 3.590558</td><td>0.8028731</td><td>1.680433</td></tr>\n",
       "\t<tr><td>With_sys   </td><td>Tmall</td><td>20</td><td>13.45</td><td> 2.910507</td><td>0.6508092</td><td>1.362159</td></tr>\n",
       "\t<tr><td>Without_sys</td><td>JD   </td><td>20</td><td>21.80</td><td>11.043455</td><td>2.4693916</td><td>5.168496</td></tr>\n",
       "\t<tr><td>Without_sys</td><td>Tmall</td><td>20</td><td>17.35</td><td> 4.749238</td><td>1.0619619</td><td>2.222712</td></tr>\n",
       "</tbody>\n",
       "</table>\n"
      ],
      "text/latex": [
       "A data.frame: 4 × 7\n",
       "\\begin{tabular}{r|lllllll}\n",
       " trial & website & N & fixed\\_operation & sd & se & ci\\\\\n",
       " <fct> & <fct> & <dbl> & <dbl> & <dbl> & <dbl> & <dbl>\\\\\n",
       "\\hline\n",
       "\t With\\_sys    & JD    & 20 & 13.05 &  3.590558 & 0.8028731 & 1.680433\\\\\n",
       "\t With\\_sys    & Tmall & 20 & 13.45 &  2.910507 & 0.6508092 & 1.362159\\\\\n",
       "\t Without\\_sys & JD    & 20 & 21.80 & 11.043455 & 2.4693916 & 5.168496\\\\\n",
       "\t Without\\_sys & Tmall & 20 & 17.35 &  4.749238 & 1.0619619 & 2.222712\\\\\n",
       "\\end{tabular}\n"
      ],
      "text/markdown": [
       "\n",
       "A data.frame: 4 × 7\n",
       "\n",
       "| trial &lt;fct&gt; | website &lt;fct&gt; | N &lt;dbl&gt; | fixed_operation &lt;dbl&gt; | sd &lt;dbl&gt; | se &lt;dbl&gt; | ci &lt;dbl&gt; |\n",
       "|---|---|---|---|---|---|---|\n",
       "| With_sys    | JD    | 20 | 13.05 |  3.590558 | 0.8028731 | 1.680433 |\n",
       "| With_sys    | Tmall | 20 | 13.45 |  2.910507 | 0.6508092 | 1.362159 |\n",
       "| Without_sys | JD    | 20 | 21.80 | 11.043455 | 2.4693916 | 5.168496 |\n",
       "| Without_sys | Tmall | 20 | 17.35 |  4.749238 | 1.0619619 | 2.222712 |\n",
       "\n"
      ],
      "text/plain": [
       "  trial       website N  fixed_operation sd        se        ci      \n",
       "1 With_sys    JD      20 13.05            3.590558 0.8028731 1.680433\n",
       "2 With_sys    Tmall   20 13.45            2.910507 0.6508092 1.362159\n",
       "3 Without_sys JD      20 21.80           11.043455 2.4693916 5.168496\n",
       "4 Without_sys Tmall   20 17.35            4.749238 1.0619619 2.222712"
      ]
     },
     "metadata": {},
     "output_type": "display_data"
    }
   ],
   "source": [
    "task_operation = summarySE(stat, measurevar=\"fixed_operation\", groupvars=c(\"trial\",\"website\"))\n",
    "task_operation"
   ]
  },
  {
   "cell_type": "code",
   "execution_count": 32,
   "metadata": {},
   "outputs": [
    {
     "data": {
      "image/png": "[encoded data removed]",
      "text/plain": [
       "plot without title"
      ]
     },
     "metadata": {
      "image/png": {
       "height": 420,
       "width": 420
      },
      "text/plain": {
       "height": 420,
       "width": 420
      }
     },
     "output_type": "display_data"
    }
   ],
   "source": [
    "ggplot(stat, aes(x=trial, y=fixed_operation,fill=website)) + \n",
    "  geom_violin(trim=FALSE,color=\"white\") + \n",
    "  geom_boxplot(width=0.1,position=position_dodge(0.9))+ \n",
    "  scale_fill_manual(values = c(\"#feb64d\", \"#308AD9\"))+ \n",
    "  theme_bw()+ \n",
    "  theme(axis.text.x=element_text(hjust = .5,colour=\"black\",family=\"Times\",size=20), \n",
    "        axis.text.y=element_text(family=\"Times\",size=16,face=\"plain\"), \n",
    "        axis.title.y=element_text(family=\"Times\",size = 20,face=\"plain\"),\n",
    "        panel.border = element_blank(),axis.line = element_line(colour = \"black\",size=1),\n",
    "        legend.text=element_text(face=\"italic\", family=\"Times\", colour=\"black\",\n",
    "                                 size=16),\n",
    "        legend.title=element_text(face=\"italic\", family=\"Times\", colour=\"black\",\n",
    "                                  size=18),\n",
    "        legend.background = element_rect(size=0.2, linetype=\"solid\", \n",
    "                                  colour =\"darkgrey\"),\n",
    "        legend.position=\"top\",\n",
    "        panel.grid.major = element_blank(),   \n",
    "        panel.grid.minor = element_blank())+  \n",
    "  ylab(\"Operation Count(Frequency)\")+xlab(\"\")"
   ]
  },
  {
   "cell_type": "markdown",
   "metadata": {
    "toc-hr-collapsed": false
   },
   "source": [
    "# Eye-Tracking"
   ]
  },
  {
   "cell_type": "markdown",
   "metadata": {},
   "source": [
    "## Fixation"
   ]
  },
  {
   "cell_type": "code",
   "execution_count": 36,
   "metadata": {},
   "outputs": [
    {
     "data": {
      "text/html": [
       "<table>\n",
       "<caption>A data.frame: 4 × 3</caption>\n",
       "<thead>\n",
       "\t<tr><th scope=col>Group.1</th><th scope=col>Group.2</th><th scope=col>x</th></tr>\n",
       "\t<tr><th scope=col>&lt;fct&gt;</th><th scope=col>&lt;fct&gt;</th><th scope=col>&lt;dbl&gt;</th></tr>\n",
       "</thead>\n",
       "<tbody>\n",
       "\t<tr><td>With_sys   </td><td>JD   </td><td>2.6595</td></tr>\n",
       "\t<tr><td>Without_sys</td><td>JD   </td><td>3.5070</td></tr>\n",
       "\t<tr><td>With_sys   </td><td>Tmall</td><td>2.5830</td></tr>\n",
       "\t<tr><td>Without_sys</td><td>Tmall</td><td>3.4640</td></tr>\n",
       "</tbody>\n",
       "</table>\n"
      ],
      "text/latex": [
       "A data.frame: 4 × 3\n",
       "\\begin{tabular}{r|lll}\n",
       " Group.1 & Group.2 & x\\\\\n",
       " <fct> & <fct> & <dbl>\\\\\n",
       "\\hline\n",
       "\t With\\_sys    & JD    & 2.6595\\\\\n",
       "\t Without\\_sys & JD    & 3.5070\\\\\n",
       "\t With\\_sys    & Tmall & 2.5830\\\\\n",
       "\t Without\\_sys & Tmall & 3.4640\\\\\n",
       "\\end{tabular}\n"
      ],
      "text/markdown": [
       "\n",
       "A data.frame: 4 × 3\n",
       "\n",
       "| Group.1 &lt;fct&gt; | Group.2 &lt;fct&gt; | x &lt;dbl&gt; |\n",
       "|---|---|---|\n",
       "| With_sys    | JD    | 2.6595 |\n",
       "| Without_sys | JD    | 3.5070 |\n",
       "| With_sys    | Tmall | 2.5830 |\n",
       "| Without_sys | Tmall | 3.4640 |\n",
       "\n"
      ],
      "text/plain": [
       "  Group.1     Group.2 x     \n",
       "1 With_sys    JD      2.6595\n",
       "2 Without_sys JD      3.5070\n",
       "3 With_sys    Tmall   2.5830\n",
       "4 Without_sys Tmall   3.4640"
      ]
     },
     "metadata": {},
     "output_type": "display_data"
    },
    {
     "data": {
      "text/html": [
       "<table>\n",
       "<caption>A data.frame: 4 × 3</caption>\n",
       "<thead>\n",
       "\t<tr><th scope=col>Group.1</th><th scope=col>Group.2</th><th scope=col>x</th></tr>\n",
       "\t<tr><th scope=col>&lt;fct&gt;</th><th scope=col>&lt;fct&gt;</th><th scope=col>&lt;dbl&gt;</th></tr>\n",
       "</thead>\n",
       "<tbody>\n",
       "\t<tr><td>With_sys   </td><td>JD   </td><td>0.3411663</td></tr>\n",
       "\t<tr><td>Without_sys</td><td>JD   </td><td>1.0112374</td></tr>\n",
       "\t<tr><td>With_sys   </td><td>Tmall</td><td>0.6152030</td></tr>\n",
       "\t<tr><td>Without_sys</td><td>Tmall</td><td>1.2797837</td></tr>\n",
       "</tbody>\n",
       "</table>\n"
      ],
      "text/latex": [
       "A data.frame: 4 × 3\n",
       "\\begin{tabular}{r|lll}\n",
       " Group.1 & Group.2 & x\\\\\n",
       " <fct> & <fct> & <dbl>\\\\\n",
       "\\hline\n",
       "\t With\\_sys    & JD    & 0.3411663\\\\\n",
       "\t Without\\_sys & JD    & 1.0112374\\\\\n",
       "\t With\\_sys    & Tmall & 0.6152030\\\\\n",
       "\t Without\\_sys & Tmall & 1.2797837\\\\\n",
       "\\end{tabular}\n"
      ],
      "text/markdown": [
       "\n",
       "A data.frame: 4 × 3\n",
       "\n",
       "| Group.1 &lt;fct&gt; | Group.2 &lt;fct&gt; | x &lt;dbl&gt; |\n",
       "|---|---|---|\n",
       "| With_sys    | JD    | 0.3411663 |\n",
       "| Without_sys | JD    | 1.0112374 |\n",
       "| With_sys    | Tmall | 0.6152030 |\n",
       "| Without_sys | Tmall | 1.2797837 |\n",
       "\n"
      ],
      "text/plain": [
       "  Group.1     Group.2 x        \n",
       "1 With_sys    JD      0.3411663\n",
       "2 Without_sys JD      1.0112374\n",
       "3 With_sys    Tmall   0.6152030\n",
       "4 Without_sys Tmall   1.2797837"
      ]
     },
     "metadata": {},
     "output_type": "display_data"
    },
    {
     "data": {
      "text/plain": [
       "              Df Sum Sq Mean Sq F value   Pr(>F)    \n",
       "trial          1  14.94  14.939  18.938 4.15e-05 ***\n",
       "website        1   0.07   0.071   0.091    0.764    \n",
       "trial:website  1   0.01   0.006   0.007    0.933    \n",
       "Residuals     76  59.95   0.789                     \n",
       "---\n",
       "Signif. codes:  0 ‘***’ 0.001 ‘**’ 0.01 ‘*’ 0.05 ‘.’ 0.1 ‘ ’ 1"
      ]
     },
     "metadata": {},
     "output_type": "display_data"
    }
   ],
   "source": [
    "attach(stat)\n",
    "aggregate(fixation_count,by=list(trial,website),FUN=mean)\n",
    "aggregate(fixation_count,by=list(trial,website),FUN=sd)\n",
    "stat.fixation_aov = aov(fixation_count ~ trial * website)\n",
    "detach(stat)\n",
    "summary(stat.fixation_aov)"
   ]
  },
  {
   "cell_type": "code",
   "execution_count": 37,
   "metadata": {},
   "outputs": [
    {
     "data": {
      "text/html": [
       "<table>\n",
       "<caption>A data.frame: 4 × 13</caption>\n",
       "<thead>\n",
       "\t<tr><th scope=col>term</th><th scope=col>df</th><th scope=col>sumsq</th><th scope=col>meansq</th><th scope=col>statistic</th><th scope=col>p.value</th><th scope=col>etasq</th><th scope=col>partial.etasq</th><th scope=col>omegasq</th><th scope=col>partial.omegasq</th><th scope=col>epsilonsq</th><th scope=col>cohens.f</th><th scope=col>power</th></tr>\n",
       "\t<tr><th scope=col>&lt;chr&gt;</th><th scope=col>&lt;dbl&gt;</th><th scope=col>&lt;dbl&gt;</th><th scope=col>&lt;dbl&gt;</th><th scope=col>&lt;dbl&gt;</th><th scope=col>&lt;dbl&gt;</th><th scope=col>&lt;dbl&gt;</th><th scope=col>&lt;dbl&gt;</th><th scope=col>&lt;dbl&gt;</th><th scope=col>&lt;dbl&gt;</th><th scope=col>&lt;dbl&gt;</th><th scope=col>&lt;dbl&gt;</th><th scope=col>&lt;dbl&gt;</th></tr>\n",
       "</thead>\n",
       "<tbody>\n",
       "\t<tr><td>trial        </td><td> 1</td><td>14.939</td><td>14.939</td><td>18.938</td><td>0.000</td><td>0.199</td><td>0.199</td><td> 0.187</td><td> 0.183</td><td> 0.189</td><td>0.499</td><td>0.992</td></tr>\n",
       "\t<tr><td>website      </td><td> 1</td><td> 0.071</td><td> 0.071</td><td> 0.091</td><td>0.764</td><td>0.001</td><td>0.001</td><td>-0.009</td><td>-0.011</td><td>-0.010</td><td>0.035</td><td>0.060</td></tr>\n",
       "\t<tr><td>trial:website</td><td> 1</td><td> 0.006</td><td> 0.006</td><td> 0.007</td><td>0.933</td><td>0.000</td><td>0.000</td><td>-0.010</td><td>-0.013</td><td>-0.010</td><td>0.010</td><td>0.051</td></tr>\n",
       "\t<tr><td>Residuals    </td><td>76</td><td>59.951</td><td> 0.789</td><td>    NA</td><td>   NA</td><td>   NA</td><td>   NA</td><td>    NA</td><td>    NA</td><td>    NA</td><td>   NA</td><td>   NA</td></tr>\n",
       "</tbody>\n",
       "</table>\n"
      ],
      "text/latex": [
       "A data.frame: 4 × 13\n",
       "\\begin{tabular}{r|lllllllllllll}\n",
       " term & df & sumsq & meansq & statistic & p.value & etasq & partial.etasq & omegasq & partial.omegasq & epsilonsq & cohens.f & power\\\\\n",
       " <chr> & <dbl> & <dbl> & <dbl> & <dbl> & <dbl> & <dbl> & <dbl> & <dbl> & <dbl> & <dbl> & <dbl> & <dbl>\\\\\n",
       "\\hline\n",
       "\t trial         &  1 & 14.939 & 14.939 & 18.938 & 0.000 & 0.199 & 0.199 &  0.187 &  0.183 &  0.189 & 0.499 & 0.992\\\\\n",
       "\t website       &  1 &  0.071 &  0.071 &  0.091 & 0.764 & 0.001 & 0.001 & -0.009 & -0.011 & -0.010 & 0.035 & 0.060\\\\\n",
       "\t trial:website &  1 &  0.006 &  0.006 &  0.007 & 0.933 & 0.000 & 0.000 & -0.010 & -0.013 & -0.010 & 0.010 & 0.051\\\\\n",
       "\t Residuals     & 76 & 59.951 &  0.789 &     NA &    NA &    NA &    NA &     NA &     NA &     NA &    NA &    NA\\\\\n",
       "\\end{tabular}\n"
      ],
      "text/markdown": [
       "\n",
       "A data.frame: 4 × 13\n",
       "\n",
       "| term &lt;chr&gt; | df &lt;dbl&gt; | sumsq &lt;dbl&gt; | meansq &lt;dbl&gt; | statistic &lt;dbl&gt; | p.value &lt;dbl&gt; | etasq &lt;dbl&gt; | partial.etasq &lt;dbl&gt; | omegasq &lt;dbl&gt; | partial.omegasq &lt;dbl&gt; | epsilonsq &lt;dbl&gt; | cohens.f &lt;dbl&gt; | power &lt;dbl&gt; |\n",
       "|---|---|---|---|---|---|---|---|---|---|---|---|---|\n",
       "| trial         |  1 | 14.939 | 14.939 | 18.938 | 0.000 | 0.199 | 0.199 |  0.187 |  0.183 |  0.189 | 0.499 | 0.992 |\n",
       "| website       |  1 |  0.071 |  0.071 |  0.091 | 0.764 | 0.001 | 0.001 | -0.009 | -0.011 | -0.010 | 0.035 | 0.060 |\n",
       "| trial:website |  1 |  0.006 |  0.006 |  0.007 | 0.933 | 0.000 | 0.000 | -0.010 | -0.013 | -0.010 | 0.010 | 0.051 |\n",
       "| Residuals     | 76 | 59.951 |  0.789 |     NA |    NA |    NA |    NA |     NA |     NA |     NA |    NA |    NA |\n",
       "\n"
      ],
      "text/plain": [
       "  term          df sumsq  meansq statistic p.value etasq partial.etasq omegasq\n",
       "1 trial          1 14.939 14.939 18.938    0.000   0.199 0.199          0.187 \n",
       "2 website        1  0.071  0.071  0.091    0.764   0.001 0.001         -0.009 \n",
       "3 trial:website  1  0.006  0.006  0.007    0.933   0.000 0.000         -0.010 \n",
       "4 Residuals     76 59.951  0.789     NA       NA      NA    NA             NA \n",
       "  partial.omegasq epsilonsq cohens.f power\n",
       "1  0.183           0.189    0.499    0.992\n",
       "2 -0.011          -0.010    0.035    0.060\n",
       "3 -0.013          -0.010    0.010    0.051\n",
       "4     NA              NA       NA       NA"
      ]
     },
     "metadata": {},
     "output_type": "display_data"
    }
   ],
   "source": [
    "anova_stats(stat.fixation_aov)    #counting effect size"
   ]
  },
  {
   "cell_type": "code",
   "execution_count": 38,
   "metadata": {},
   "outputs": [
    {
     "data": {
      "text/html": [
       "<table>\n",
       "<caption>A sj_anova_stat: 3 × 2</caption>\n",
       "<thead>\n",
       "\t<tr><th scope=col>term</th><th scope=col>etasq</th></tr>\n",
       "\t<tr><th scope=col>&lt;chr&gt;</th><th scope=col>&lt;dbl&gt;</th></tr>\n",
       "</thead>\n",
       "<tbody>\n",
       "\t<tr><td>trial        </td><td>1.992696e-01</td></tr>\n",
       "\t<tr><td>website      </td><td>9.524410e-04</td></tr>\n",
       "\t<tr><td>trial:website</td><td>7.485001e-05</td></tr>\n",
       "</tbody>\n",
       "</table>\n"
      ],
      "text/latex": [
       "A sj_anova_stat: 3 × 2\n",
       "\\begin{tabular}{r|ll}\n",
       " term & etasq\\\\\n",
       " <chr> & <dbl>\\\\\n",
       "\\hline\n",
       "\t trial         & 1.992696e-01\\\\\n",
       "\t website       & 9.524410e-04\\\\\n",
       "\t trial:website & 7.485001e-05\\\\\n",
       "\\end{tabular}\n"
      ],
      "text/markdown": [
       "\n",
       "A sj_anova_stat: 3 × 2\n",
       "\n",
       "| term &lt;chr&gt; | etasq &lt;dbl&gt; |\n",
       "|---|---|\n",
       "| trial         | 1.992696e-01 |\n",
       "| website       | 9.524410e-04 |\n",
       "| trial:website | 7.485001e-05 |\n",
       "\n"
      ],
      "text/plain": [
       "  term          etasq       \n",
       "1 trial         1.992696e-01\n",
       "2 website       9.524410e-04\n",
       "3 trial:website 7.485001e-05"
      ]
     },
     "metadata": {},
     "output_type": "display_data"
    }
   ],
   "source": [
    "eta_sq(stat.fixation_aov)"
   ]
  },
  {
   "cell_type": "code",
   "execution_count": 39,
   "metadata": {},
   "outputs": [
    {
     "data": {
      "text/html": [
       "<table>\n",
       "<caption>A data.frame: 4 × 7</caption>\n",
       "<thead>\n",
       "\t<tr><th scope=col>trial</th><th scope=col>website</th><th scope=col>N</th><th scope=col>fixation_count</th><th scope=col>sd</th><th scope=col>se</th><th scope=col>ci</th></tr>\n",
       "\t<tr><th scope=col>&lt;fct&gt;</th><th scope=col>&lt;fct&gt;</th><th scope=col>&lt;dbl&gt;</th><th scope=col>&lt;dbl&gt;</th><th scope=col>&lt;dbl&gt;</th><th scope=col>&lt;dbl&gt;</th><th scope=col>&lt;dbl&gt;</th></tr>\n",
       "</thead>\n",
       "<tbody>\n",
       "\t<tr><td>With_sys   </td><td>JD   </td><td>20</td><td>2.6595</td><td>0.3411663</td><td>0.07628711</td><td>0.1596708</td></tr>\n",
       "\t<tr><td>With_sys   </td><td>Tmall</td><td>20</td><td>2.5830</td><td>0.6152030</td><td>0.13756357</td><td>0.2879239</td></tr>\n",
       "\t<tr><td>Without_sys</td><td>JD   </td><td>20</td><td>3.5070</td><td>1.0112374</td><td>0.22611955</td><td>0.4732737</td></tr>\n",
       "\t<tr><td>Without_sys</td><td>Tmall</td><td>20</td><td>3.4640</td><td>1.2797837</td><td>0.28616833</td><td>0.5989572</td></tr>\n",
       "</tbody>\n",
       "</table>\n"
      ],
      "text/latex": [
       "A data.frame: 4 × 7\n",
       "\\begin{tabular}{r|lllllll}\n",
       " trial & website & N & fixation\\_count & sd & se & ci\\\\\n",
       " <fct> & <fct> & <dbl> & <dbl> & <dbl> & <dbl> & <dbl>\\\\\n",
       "\\hline\n",
       "\t With\\_sys    & JD    & 20 & 2.6595 & 0.3411663 & 0.07628711 & 0.1596708\\\\\n",
       "\t With\\_sys    & Tmall & 20 & 2.5830 & 0.6152030 & 0.13756357 & 0.2879239\\\\\n",
       "\t Without\\_sys & JD    & 20 & 3.5070 & 1.0112374 & 0.22611955 & 0.4732737\\\\\n",
       "\t Without\\_sys & Tmall & 20 & 3.4640 & 1.2797837 & 0.28616833 & 0.5989572\\\\\n",
       "\\end{tabular}\n"
      ],
      "text/markdown": [
       "\n",
       "A data.frame: 4 × 7\n",
       "\n",
       "| trial &lt;fct&gt; | website &lt;fct&gt; | N &lt;dbl&gt; | fixation_count &lt;dbl&gt; | sd &lt;dbl&gt; | se &lt;dbl&gt; | ci &lt;dbl&gt; |\n",
       "|---|---|---|---|---|---|---|\n",
       "| With_sys    | JD    | 20 | 2.6595 | 0.3411663 | 0.07628711 | 0.1596708 |\n",
       "| With_sys    | Tmall | 20 | 2.5830 | 0.6152030 | 0.13756357 | 0.2879239 |\n",
       "| Without_sys | JD    | 20 | 3.5070 | 1.0112374 | 0.22611955 | 0.4732737 |\n",
       "| Without_sys | Tmall | 20 | 3.4640 | 1.2797837 | 0.28616833 | 0.5989572 |\n",
       "\n"
      ],
      "text/plain": [
       "  trial       website N  fixation_count sd        se         ci       \n",
       "1 With_sys    JD      20 2.6595         0.3411663 0.07628711 0.1596708\n",
       "2 With_sys    Tmall   20 2.5830         0.6152030 0.13756357 0.2879239\n",
       "3 Without_sys JD      20 3.5070         1.0112374 0.22611955 0.4732737\n",
       "4 Without_sys Tmall   20 3.4640         1.2797837 0.28616833 0.5989572"
      ]
     },
     "metadata": {},
     "output_type": "display_data"
    }
   ],
   "source": [
    "task_fixation = summarySE(stat, measurevar=\"fixation_count\", groupvars=c(\"trial\",\"website\"))\n",
    "task_fixation"
   ]
  },
  {
   "cell_type": "code",
   "execution_count": 38,
   "metadata": {},
   "outputs": [
    {
     "data": {
      "image/png": "[encoded data removed]",
      "text/plain": [
       "plot without title"
      ]
     },
     "metadata": {
      "image/png": {
       "height": 420,
       "width": 420
      },
      "text/plain": {
       "height": 420,
       "width": 420
      }
     },
     "output_type": "display_data"
    }
   ],
   "source": [
    "ggplot(stat, aes(x=trial, y=fixation_count,fill=website)) + \n",
    "  geom_violin(trim=FALSE,color=\"white\") +\n",
    "  geom_boxplot(width=0.2,position=position_dodge(0.9))+\n",
    "  scale_fill_manual(values = c(\"#feb64d\", \"#308AD9\"))+ \n",
    "  theme_bw()+ \n",
    "  theme(axis.text.x=element_text(hjust = .5,colour=\"black\",family=\"Times\",size=20), \n",
    "        axis.text.y=element_text(family=\"Times\",size=16,face=\"plain\"), \n",
    "        axis.title.y=element_text(family=\"Times\",size = 20,face=\"plain\"),\n",
    "        panel.border = element_blank(),axis.line = element_line(colour = \"black\",size=1),\n",
    "        legend.text=element_text(face=\"italic\", family=\"Times\", colour=\"black\",\n",
    "                                 size=16),\n",
    "        legend.title=element_text(face=\"italic\", family=\"Times\", colour=\"black\",\n",
    "                                  size=18),\n",
    "        legend.background = element_rect(size=0.2, linetype=\"solid\", \n",
    "                                  colour =\"darkgrey\"),\n",
    "        legend.position=\"top\",\n",
    "        panel.grid.major = element_blank(),   \n",
    "        panel.grid.minor = element_blank())+  \n",
    "  ylab(\"Fixation Count(Frequency)\")+xlab(\"\")"
   ]
  },
  {
   "cell_type": "markdown",
   "metadata": {},
   "source": [
    "## Blink"
   ]
  },
  {
   "cell_type": "code",
   "execution_count": 42,
   "metadata": {},
   "outputs": [
    {
     "data": {
      "text/html": [
       "<table>\n",
       "<caption>A data.frame: 4 × 3</caption>\n",
       "<thead>\n",
       "\t<tr><th scope=col>Group.1</th><th scope=col>Group.2</th><th scope=col>x</th></tr>\n",
       "\t<tr><th scope=col>&lt;fct&gt;</th><th scope=col>&lt;fct&gt;</th><th scope=col>&lt;dbl&gt;</th></tr>\n",
       "</thead>\n",
       "<tbody>\n",
       "\t<tr><td>With_sys   </td><td>JD   </td><td>6.3295</td></tr>\n",
       "\t<tr><td>Without_sys</td><td>JD   </td><td>5.5800</td></tr>\n",
       "\t<tr><td>With_sys   </td><td>Tmall</td><td>7.0450</td></tr>\n",
       "\t<tr><td>Without_sys</td><td>Tmall</td><td>4.1645</td></tr>\n",
       "</tbody>\n",
       "</table>\n"
      ],
      "text/latex": [
       "A data.frame: 4 × 3\n",
       "\\begin{tabular}{r|lll}\n",
       " Group.1 & Group.2 & x\\\\\n",
       " <fct> & <fct> & <dbl>\\\\\n",
       "\\hline\n",
       "\t With\\_sys    & JD    & 6.3295\\\\\n",
       "\t Without\\_sys & JD    & 5.5800\\\\\n",
       "\t With\\_sys    & Tmall & 7.0450\\\\\n",
       "\t Without\\_sys & Tmall & 4.1645\\\\\n",
       "\\end{tabular}\n"
      ],
      "text/markdown": [
       "\n",
       "A data.frame: 4 × 3\n",
       "\n",
       "| Group.1 &lt;fct&gt; | Group.2 &lt;fct&gt; | x &lt;dbl&gt; |\n",
       "|---|---|---|\n",
       "| With_sys    | JD    | 6.3295 |\n",
       "| Without_sys | JD    | 5.5800 |\n",
       "| With_sys    | Tmall | 7.0450 |\n",
       "| Without_sys | Tmall | 4.1645 |\n",
       "\n"
      ],
      "text/plain": [
       "  Group.1     Group.2 x     \n",
       "1 With_sys    JD      6.3295\n",
       "2 Without_sys JD      5.5800\n",
       "3 With_sys    Tmall   7.0450\n",
       "4 Without_sys Tmall   4.1645"
      ]
     },
     "metadata": {},
     "output_type": "display_data"
    },
    {
     "data": {
      "text/html": [
       "<table>\n",
       "<caption>A data.frame: 4 × 3</caption>\n",
       "<thead>\n",
       "\t<tr><th scope=col>Group.1</th><th scope=col>Group.2</th><th scope=col>x</th></tr>\n",
       "\t<tr><th scope=col>&lt;fct&gt;</th><th scope=col>&lt;fct&gt;</th><th scope=col>&lt;dbl&gt;</th></tr>\n",
       "</thead>\n",
       "<tbody>\n",
       "\t<tr><td>With_sys   </td><td>JD   </td><td>3.610872</td></tr>\n",
       "\t<tr><td>Without_sys</td><td>JD   </td><td>3.512918</td></tr>\n",
       "\t<tr><td>With_sys   </td><td>Tmall</td><td>4.737473</td></tr>\n",
       "\t<tr><td>Without_sys</td><td>Tmall</td><td>2.129471</td></tr>\n",
       "</tbody>\n",
       "</table>\n"
      ],
      "text/latex": [
       "A data.frame: 4 × 3\n",
       "\\begin{tabular}{r|lll}\n",
       " Group.1 & Group.2 & x\\\\\n",
       " <fct> & <fct> & <dbl>\\\\\n",
       "\\hline\n",
       "\t With\\_sys    & JD    & 3.610872\\\\\n",
       "\t Without\\_sys & JD    & 3.512918\\\\\n",
       "\t With\\_sys    & Tmall & 4.737473\\\\\n",
       "\t Without\\_sys & Tmall & 2.129471\\\\\n",
       "\\end{tabular}\n"
      ],
      "text/markdown": [
       "\n",
       "A data.frame: 4 × 3\n",
       "\n",
       "| Group.1 &lt;fct&gt; | Group.2 &lt;fct&gt; | x &lt;dbl&gt; |\n",
       "|---|---|---|\n",
       "| With_sys    | JD    | 3.610872 |\n",
       "| Without_sys | JD    | 3.512918 |\n",
       "| With_sys    | Tmall | 4.737473 |\n",
       "| Without_sys | Tmall | 2.129471 |\n",
       "\n"
      ],
      "text/plain": [
       "  Group.1     Group.2 x       \n",
       "1 With_sys    JD      3.610872\n",
       "2 Without_sys JD      3.512918\n",
       "3 With_sys    Tmall   4.737473\n",
       "4 Without_sys Tmall   2.129471"
      ]
     },
     "metadata": {},
     "output_type": "display_data"
    },
    {
     "data": {
      "text/plain": [
       "              Df Sum Sq Mean Sq F value Pr(>F)  \n",
       "trial          1   65.9   65.88   5.033 0.0278 *\n",
       "website        1    2.4    2.45   0.187 0.6665  \n",
       "trial:website  1   22.7   22.71   1.735 0.1918  \n",
       "Residuals     76  994.8   13.09                 \n",
       "---\n",
       "Signif. codes:  0 ‘***’ 0.001 ‘**’ 0.01 ‘*’ 0.05 ‘.’ 0.1 ‘ ’ 1"
      ]
     },
     "metadata": {},
     "output_type": "display_data"
    }
   ],
   "source": [
    "attach(stat)\n",
    "aggregate(blink_interval,by=list(trial,website),FUN=mean)\n",
    "aggregate(blink_interval,by=list(trial,website),FUN=sd)\n",
    "stat.blink_aov = aov(blink_interval ~ trial * website)\n",
    "detach(stat)\n",
    "summary(stat.blink_aov)"
   ]
  },
  {
   "cell_type": "code",
   "execution_count": 43,
   "metadata": {},
   "outputs": [
    {
     "data": {
      "text/html": [
       "<table>\n",
       "<caption>A data.frame: 4 × 13</caption>\n",
       "<thead>\n",
       "\t<tr><th scope=col>term</th><th scope=col>df</th><th scope=col>sumsq</th><th scope=col>meansq</th><th scope=col>statistic</th><th scope=col>p.value</th><th scope=col>etasq</th><th scope=col>partial.etasq</th><th scope=col>omegasq</th><th scope=col>partial.omegasq</th><th scope=col>epsilonsq</th><th scope=col>cohens.f</th><th scope=col>power</th></tr>\n",
       "\t<tr><th scope=col>&lt;chr&gt;</th><th scope=col>&lt;dbl&gt;</th><th scope=col>&lt;dbl&gt;</th><th scope=col>&lt;dbl&gt;</th><th scope=col>&lt;dbl&gt;</th><th scope=col>&lt;dbl&gt;</th><th scope=col>&lt;dbl&gt;</th><th scope=col>&lt;dbl&gt;</th><th scope=col>&lt;dbl&gt;</th><th scope=col>&lt;dbl&gt;</th><th scope=col>&lt;dbl&gt;</th><th scope=col>&lt;dbl&gt;</th><th scope=col>&lt;dbl&gt;</th></tr>\n",
       "</thead>\n",
       "<tbody>\n",
       "\t<tr><td>trial        </td><td> 1</td><td> 65.884</td><td>65.884</td><td>5.033</td><td>0.028</td><td>0.061</td><td>0.062</td><td> 0.048</td><td> 0.048</td><td> 0.049</td><td>0.257</td><td>0.612</td></tr>\n",
       "\t<tr><td>website      </td><td> 1</td><td>  2.450</td><td> 2.450</td><td>0.187</td><td>0.667</td><td>0.002</td><td>0.002</td><td>-0.010</td><td>-0.010</td><td>-0.010</td><td>0.050</td><td>0.072</td></tr>\n",
       "\t<tr><td>trial:website</td><td> 1</td><td> 22.706</td><td>22.706</td><td>1.735</td><td>0.192</td><td>0.021</td><td>0.022</td><td> 0.009</td><td> 0.009</td><td> 0.009</td><td>0.151</td><td>0.261</td></tr>\n",
       "\t<tr><td>Residuals    </td><td>76</td><td>994.788</td><td>13.089</td><td>   NA</td><td>   NA</td><td>   NA</td><td>   NA</td><td>    NA</td><td>    NA</td><td>    NA</td><td>   NA</td><td>   NA</td></tr>\n",
       "</tbody>\n",
       "</table>\n"
      ],
      "text/latex": [
       "A data.frame: 4 × 13\n",
       "\\begin{tabular}{r|lllllllllllll}\n",
       " term & df & sumsq & meansq & statistic & p.value & etasq & partial.etasq & omegasq & partial.omegasq & epsilonsq & cohens.f & power\\\\\n",
       " <chr> & <dbl> & <dbl> & <dbl> & <dbl> & <dbl> & <dbl> & <dbl> & <dbl> & <dbl> & <dbl> & <dbl> & <dbl>\\\\\n",
       "\\hline\n",
       "\t trial         &  1 &  65.884 & 65.884 & 5.033 & 0.028 & 0.061 & 0.062 &  0.048 &  0.048 &  0.049 & 0.257 & 0.612\\\\\n",
       "\t website       &  1 &   2.450 &  2.450 & 0.187 & 0.667 & 0.002 & 0.002 & -0.010 & -0.010 & -0.010 & 0.050 & 0.072\\\\\n",
       "\t trial:website &  1 &  22.706 & 22.706 & 1.735 & 0.192 & 0.021 & 0.022 &  0.009 &  0.009 &  0.009 & 0.151 & 0.261\\\\\n",
       "\t Residuals     & 76 & 994.788 & 13.089 &    NA &    NA &    NA &    NA &     NA &     NA &     NA &    NA &    NA\\\\\n",
       "\\end{tabular}\n"
      ],
      "text/markdown": [
       "\n",
       "A data.frame: 4 × 13\n",
       "\n",
       "| term &lt;chr&gt; | df &lt;dbl&gt; | sumsq &lt;dbl&gt; | meansq &lt;dbl&gt; | statistic &lt;dbl&gt; | p.value &lt;dbl&gt; | etasq &lt;dbl&gt; | partial.etasq &lt;dbl&gt; | omegasq &lt;dbl&gt; | partial.omegasq &lt;dbl&gt; | epsilonsq &lt;dbl&gt; | cohens.f &lt;dbl&gt; | power &lt;dbl&gt; |\n",
       "|---|---|---|---|---|---|---|---|---|---|---|---|---|\n",
       "| trial         |  1 |  65.884 | 65.884 | 5.033 | 0.028 | 0.061 | 0.062 |  0.048 |  0.048 |  0.049 | 0.257 | 0.612 |\n",
       "| website       |  1 |   2.450 |  2.450 | 0.187 | 0.667 | 0.002 | 0.002 | -0.010 | -0.010 | -0.010 | 0.050 | 0.072 |\n",
       "| trial:website |  1 |  22.706 | 22.706 | 1.735 | 0.192 | 0.021 | 0.022 |  0.009 |  0.009 |  0.009 | 0.151 | 0.261 |\n",
       "| Residuals     | 76 | 994.788 | 13.089 |    NA |    NA |    NA |    NA |     NA |     NA |     NA |    NA |    NA |\n",
       "\n"
      ],
      "text/plain": [
       "  term          df sumsq   meansq statistic p.value etasq partial.etasq omegasq\n",
       "1 trial          1  65.884 65.884 5.033     0.028   0.061 0.062          0.048 \n",
       "2 website        1   2.450  2.450 0.187     0.667   0.002 0.002         -0.010 \n",
       "3 trial:website  1  22.706 22.706 1.735     0.192   0.021 0.022          0.009 \n",
       "4 Residuals     76 994.788 13.089    NA        NA      NA    NA             NA \n",
       "  partial.omegasq epsilonsq cohens.f power\n",
       "1  0.048           0.049    0.257    0.612\n",
       "2 -0.010          -0.010    0.050    0.072\n",
       "3  0.009           0.009    0.151    0.261\n",
       "4     NA              NA       NA       NA"
      ]
     },
     "metadata": {},
     "output_type": "display_data"
    }
   ],
   "source": [
    "anova_stats(stat.blink_aov)    #counting effect size"
   ]
  },
  {
   "cell_type": "code",
   "execution_count": 44,
   "metadata": {},
   "outputs": [
    {
     "data": {
      "text/html": [
       "<table>\n",
       "<caption>A sj_anova_stat: 3 × 2</caption>\n",
       "<thead>\n",
       "\t<tr><th scope=col>term</th><th scope=col>etasq</th></tr>\n",
       "\t<tr><th scope=col>&lt;chr&gt;</th><th scope=col>&lt;dbl&gt;</th></tr>\n",
       "</thead>\n",
       "<tbody>\n",
       "\t<tr><td>trial        </td><td>0.060676704</td></tr>\n",
       "\t<tr><td>website      </td><td>0.002256341</td></tr>\n",
       "\t<tr><td>trial:website</td><td>0.020911040</td></tr>\n",
       "</tbody>\n",
       "</table>\n"
      ],
      "text/latex": [
       "A sj_anova_stat: 3 × 2\n",
       "\\begin{tabular}{r|ll}\n",
       " term & etasq\\\\\n",
       " <chr> & <dbl>\\\\\n",
       "\\hline\n",
       "\t trial         & 0.060676704\\\\\n",
       "\t website       & 0.002256341\\\\\n",
       "\t trial:website & 0.020911040\\\\\n",
       "\\end{tabular}\n"
      ],
      "text/markdown": [
       "\n",
       "A sj_anova_stat: 3 × 2\n",
       "\n",
       "| term &lt;chr&gt; | etasq &lt;dbl&gt; |\n",
       "|---|---|\n",
       "| trial         | 0.060676704 |\n",
       "| website       | 0.002256341 |\n",
       "| trial:website | 0.020911040 |\n",
       "\n"
      ],
      "text/plain": [
       "  term          etasq      \n",
       "1 trial         0.060676704\n",
       "2 website       0.002256341\n",
       "3 trial:website 0.020911040"
      ]
     },
     "metadata": {},
     "output_type": "display_data"
    }
   ],
   "source": [
    "eta_sq(stat.blink_aov)"
   ]
  },
  {
   "cell_type": "code",
   "execution_count": 45,
   "metadata": {},
   "outputs": [
    {
     "data": {
      "text/html": [
       "<table>\n",
       "<caption>A data.frame: 4 × 7</caption>\n",
       "<thead>\n",
       "\t<tr><th scope=col>trial</th><th scope=col>website</th><th scope=col>N</th><th scope=col>blink_interval</th><th scope=col>sd</th><th scope=col>se</th><th scope=col>ci</th></tr>\n",
       "\t<tr><th scope=col>&lt;fct&gt;</th><th scope=col>&lt;fct&gt;</th><th scope=col>&lt;dbl&gt;</th><th scope=col>&lt;dbl&gt;</th><th scope=col>&lt;dbl&gt;</th><th scope=col>&lt;dbl&gt;</th><th scope=col>&lt;dbl&gt;</th></tr>\n",
       "</thead>\n",
       "<tbody>\n",
       "\t<tr><td>With_sys   </td><td>JD   </td><td>20</td><td>6.3295</td><td>3.610872</td><td>0.8074155</td><td>1.6899400</td></tr>\n",
       "\t<tr><td>With_sys   </td><td>Tmall</td><td>20</td><td>7.0450</td><td>4.737473</td><td>1.0593311</td><td>2.2172055</td></tr>\n",
       "\t<tr><td>Without_sys</td><td>JD   </td><td>20</td><td>5.5800</td><td>3.512918</td><td>0.7855122</td><td>1.6440960</td></tr>\n",
       "\t<tr><td>Without_sys</td><td>Tmall</td><td>20</td><td>4.1645</td><td>2.129471</td><td>0.4761642</td><td>0.9966231</td></tr>\n",
       "</tbody>\n",
       "</table>\n"
      ],
      "text/latex": [
       "A data.frame: 4 × 7\n",
       "\\begin{tabular}{r|lllllll}\n",
       " trial & website & N & blink\\_interval & sd & se & ci\\\\\n",
       " <fct> & <fct> & <dbl> & <dbl> & <dbl> & <dbl> & <dbl>\\\\\n",
       "\\hline\n",
       "\t With\\_sys    & JD    & 20 & 6.3295 & 3.610872 & 0.8074155 & 1.6899400\\\\\n",
       "\t With\\_sys    & Tmall & 20 & 7.0450 & 4.737473 & 1.0593311 & 2.2172055\\\\\n",
       "\t Without\\_sys & JD    & 20 & 5.5800 & 3.512918 & 0.7855122 & 1.6440960\\\\\n",
       "\t Without\\_sys & Tmall & 20 & 4.1645 & 2.129471 & 0.4761642 & 0.9966231\\\\\n",
       "\\end{tabular}\n"
      ],
      "text/markdown": [
       "\n",
       "A data.frame: 4 × 7\n",
       "\n",
       "| trial &lt;fct&gt; | website &lt;fct&gt; | N &lt;dbl&gt; | blink_interval &lt;dbl&gt; | sd &lt;dbl&gt; | se &lt;dbl&gt; | ci &lt;dbl&gt; |\n",
       "|---|---|---|---|---|---|---|\n",
       "| With_sys    | JD    | 20 | 6.3295 | 3.610872 | 0.8074155 | 1.6899400 |\n",
       "| With_sys    | Tmall | 20 | 7.0450 | 4.737473 | 1.0593311 | 2.2172055 |\n",
       "| Without_sys | JD    | 20 | 5.5800 | 3.512918 | 0.7855122 | 1.6440960 |\n",
       "| Without_sys | Tmall | 20 | 4.1645 | 2.129471 | 0.4761642 | 0.9966231 |\n",
       "\n"
      ],
      "text/plain": [
       "  trial       website N  blink_interval sd       se        ci       \n",
       "1 With_sys    JD      20 6.3295         3.610872 0.8074155 1.6899400\n",
       "2 With_sys    Tmall   20 7.0450         4.737473 1.0593311 2.2172055\n",
       "3 Without_sys JD      20 5.5800         3.512918 0.7855122 1.6440960\n",
       "4 Without_sys Tmall   20 4.1645         2.129471 0.4761642 0.9966231"
      ]
     },
     "metadata": {},
     "output_type": "display_data"
    }
   ],
   "source": [
    "task_blink = summarySE(stat, measurevar=\"blink_interval\", groupvars=c(\"trial\",\"website\"))\n",
    "task_blink"
   ]
  },
  {
   "cell_type": "code",
   "execution_count": 39,
   "metadata": {},
   "outputs": [
    {
     "data": {
      "image/png": "[encoded data removed]",
      "text/plain": [
       "plot without title"
      ]
     },
     "metadata": {
      "image/png": {
       "height": 420,
       "width": 420
      },
      "text/plain": {
       "height": 420,
       "width": 420
      }
     },
     "output_type": "display_data"
    }
   ],
   "source": [
    "ggplot(stat, aes(x=trial, y=blink_interval,fill=website)) + \n",
    "  geom_violin(trim=FALSE,color=\"white\") +\n",
    "  geom_boxplot(width=0.2,position=position_dodge(0.9))+\n",
    "  scale_fill_manual(values = c(\"#feb64d\", \"#308AD9\"))+ \n",
    "  theme_bw()+ \n",
    "  theme(axis.text.x=element_text(hjust = .5,colour=\"black\",family=\"Times\",size=20), \n",
    "        axis.text.y=element_text(family=\"Times\",size=16,face=\"plain\"), \n",
    "        axis.title.y=element_text(family=\"Times\",size = 20,face=\"plain\"),\n",
    "        panel.border = element_blank(),axis.line = element_line(colour = \"black\",size=1),\n",
    "        legend.text=element_text(face=\"italic\", family=\"Times\", colour=\"black\",\n",
    "                                 size=16),\n",
    "        legend.title=element_text(face=\"italic\", family=\"Times\", colour=\"black\",\n",
    "                                  size=18),\n",
    "        legend.background = element_rect(size=0.2, linetype=\"solid\", \n",
    "                                  colour =\"darkgrey\"),\n",
    "        legend.position=\"top\",\n",
    "        panel.grid.major = element_blank(),   \n",
    "        panel.grid.minor = element_blank())+   \n",
    "  ylab(\"Blink Interval(s)\")+xlab(\"\")"
   ]
  },
  {
   "cell_type": "code",
   "execution_count": null,
   "metadata": {},
   "outputs": [],
   "source": []
  }
 ],
 "metadata": {
  "kernelspec": {
   "display_name": "R",
   "language": "R",
   "name": "ir"
  },
  "language_info": {
   "codemirror_mode": "r",
   "file_extension": ".r",
   "mimetype": "text/x-r-source",
   "name": "R",
   "pygments_lexer": "r",
   "version": "3.6.1"
  }
 },
 "nbformat": 4,
 "nbformat_minor": 4
}
