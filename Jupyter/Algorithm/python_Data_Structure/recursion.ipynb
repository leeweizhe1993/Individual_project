{
 "cells": [
  {
   "cell_type": "markdown",
   "metadata": {},
   "source": [
    "## 递归函数特点\n",
    "#### 1.递归必须包含一个基本的出口(base case)，否则就会无限递归，最终导致栈溢出。比如这里就是 n == 0 返回 1\n",
    "#### 2.递归必须包含一个可以分解的问题(recursive case)。 要想求得 fact(n)，就需要用 n * fact(n-1)\n",
    "#### 3.递归必须必须要向着递归出口靠近(toward the base case)。 这里每次递归调用都会 n-1，向着递归出口 n == 0 靠近"
   ]
  },
  {
   "cell_type": "code",
   "execution_count": 2,
   "metadata": {},
   "outputs": [
    {
     "name": "stdout",
     "output_type": "stream",
     "text": [
      "1\n",
      "2\n",
      "3\n",
      "4\n",
      "5\n",
      "6\n",
      "7\n",
      "8\n",
      "9\n",
      "10\n"
     ]
    }
   ],
   "source": [
    "def print_num_recursive(n):\n",
    "    if n > 0:\n",
    "        print_num_recursive(n-1)\n",
    "        print(n)\n",
    "\n",
    "print_num_recursive(10)"
   ]
  },
  {
   "cell_type": "code",
   "execution_count": 4,
   "metadata": {},
   "outputs": [
    {
     "name": "stdout",
     "output_type": "stream",
     "text": [
      "10\n",
      "9\n",
      "8\n",
      "7\n",
      "6\n",
      "5\n",
      "4\n",
      "3\n",
      "2\n",
      "1\n"
     ]
    }
   ],
   "source": [
    "def print_num_recursive_revserve(n):\n",
    "    if n > 0:\n",
    "        print(n)\n",
    "        print_num_recursive_revserve(n-1)\n",
    "\n",
    "print_num_recursive_revserve(10)"
   ]
  },
  {
   "cell_type": "code",
   "execution_count": 3,
   "metadata": {},
   "outputs": [
    {
     "name": "stdout",
     "output_type": "stream",
     "text": [
      "1\n",
      "<__main__.Stack object at 0x10aab9fd0>\n",
      "2\n",
      "<__main__.Stack object at 0x10aab9fd0>\n",
      "3\n",
      "<__main__.Stack object at 0x10aab9fd0>\n",
      "4\n",
      "<__main__.Stack object at 0x10aab9fd0>\n",
      "5\n",
      "<__main__.Stack object at 0x10aab9fd0>\n",
      "6\n",
      "<__main__.Stack object at 0x10aab9fd0>\n",
      "7\n",
      "<__main__.Stack object at 0x10aab9fd0>\n",
      "8\n",
      "<__main__.Stack object at 0x10aab9fd0>\n",
      "9\n",
      "<__main__.Stack object at 0x10aab9fd0>\n",
      "10\n",
      "<__main__.Stack object at 0x10aab9fd0>\n"
     ]
    },
    {
     "ename": "NameError",
     "evalue": "name 's' is not defined",
     "output_type": "error",
     "traceback": [
      "\u001b[0;31m---------------------------------------------------------------------------\u001b[0m",
      "\u001b[0;31mNameError\u001b[0m                                 Traceback (most recent call last)",
      "\u001b[0;32m<ipython-input-3-7f2671a09307>\u001b[0m in \u001b[0;36m<module>\u001b[0;34m()\u001b[0m\n\u001b[1;32m     26\u001b[0m \u001b[0;34m\u001b[0m\u001b[0m\n\u001b[1;32m     27\u001b[0m \u001b[0mprint_num_use_stack\u001b[0m\u001b[0;34m(\u001b[0m\u001b[0;36m10\u001b[0m\u001b[0;34m)\u001b[0m\u001b[0;34m\u001b[0m\u001b[0m\n\u001b[0;32m---> 28\u001b[0;31m \u001b[0mprint\u001b[0m\u001b[0;34m(\u001b[0m\u001b[0ms\u001b[0m\u001b[0;34m)\u001b[0m\u001b[0;34m\u001b[0m\u001b[0m\n\u001b[0m",
      "\u001b[0;31mNameError\u001b[0m: name 's' is not defined"
     ]
    }
   ],
   "source": [
    "from collections import deque\n",
    "\n",
    "class Stack(object):\n",
    "    \n",
    "    def __init__(self):\n",
    "        self._deque = deque()\n",
    "        \n",
    "    def push(self, value):\n",
    "        return self._deque.append(value)\n",
    "    \n",
    "    def pop(self):\n",
    "        return self._deque.pop()\n",
    "    \n",
    "    def is_empty(self):\n",
    "        return len(self._deque) == 0\n",
    "    \n",
    "def print_num_use_stack(n):\n",
    "    s = Stack()\n",
    "    while n > 0:    #参数入栈\n",
    "        s.push(n)\n",
    "        n -= 1\n",
    "    \n",
    "    while not s.is_empty():    #参数弹出\n",
    "        print(s.pop())\n",
    "        print(s)\n",
    "\n",
    "print(s)"
   ]
  },
  {
   "cell_type": "code",
   "execution_count": null,
   "metadata": {},
   "outputs": [],
   "source": [
    "def hanoi_move(n, source, dest, intermediate):\n",
    "    if n >= 1:  # 递归出口，只剩一个盘子\n",
    "        hanoi_move(n-1, source, intermediate, dest)\n",
    "        print(\"Move %s -> %s\" % (source, dest))\n",
    "        hanoi_move(n-1, intermediate, dest, source)"
   ]
  }
 ],
 "metadata": {
  "kernelspec": {
   "display_name": "Python 3",
   "language": "python",
   "name": "python3"
  },
  "language_info": {
   "codemirror_mode": {
    "name": "ipython",
    "version": 3
   },
   "file_extension": ".py",
   "mimetype": "text/x-python",
   "name": "python",
   "nbconvert_exporter": "python",
   "pygments_lexer": "ipython3",
   "version": "3.6.5"
  }
 },
 "nbformat": 4,
 "nbformat_minor": 2
}
