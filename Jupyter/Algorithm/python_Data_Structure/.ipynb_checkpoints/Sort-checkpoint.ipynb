{
 "cells": [
  {
   "cell_type": "markdown",
   "metadata": {},
   "source": [
    "## 冒泡排序"
   ]
  },
  {
   "cell_type": "code",
   "execution_count": 34,
   "metadata": {},
   "outputs": [
    {
     "name": "stdout",
     "output_type": "stream",
     "text": [
      "[6, 5, 4, 7, 8, 9, 1, 2, 3, 0]\n",
      "[5, 4, 6, 7, 8, 1, 2, 3, 0, 9]\n",
      "[4, 5, 6, 7, 1, 2, 3, 0, 8, 9]\n",
      "[4, 5, 6, 1, 2, 3, 0, 7, 8, 9]\n",
      "[4, 5, 1, 2, 3, 0, 6, 7, 8, 9]\n",
      "[4, 1, 2, 3, 0, 5, 6, 7, 8, 9]\n",
      "[1, 2, 3, 0, 4, 5, 6, 7, 8, 9]\n",
      "[1, 2, 0, 3, 4, 5, 6, 7, 8, 9]\n",
      "[1, 0, 2, 3, 4, 5, 6, 7, 8, 9]\n"
     ]
    },
    {
     "data": {
      "text/plain": [
       "[0, 1, 2, 3, 4, 5, 6, 7, 8, 9]"
      ]
     },
     "execution_count": 34,
     "metadata": {},
     "output_type": "execute_result"
    }
   ],
   "source": [
    "import random\n",
    "\n",
    "nums = [x for x in range(10)]\n",
    "random.shuffle(nums)\n",
    "\n",
    "'''每次取两数中较大的一位置于最后'''\n",
    "\n",
    "def bubble_sort(lst):\n",
    "    for i in range(len(lst) - 1):\n",
    "        print(lst)\n",
    "        for j in range(len(lst) - 1 - i):\n",
    "            if lst[j] > lst[j + 1]:\n",
    "            #减i是因为每一轮冒泡最大的元素都会冒泡到最后，无需再比较\n",
    "                lst[j], lst[j + 1] = lst[j + 1], lst[j]\n",
    "    return lst\n",
    "\n",
    "bubble_sort(nums)"
   ]
  },
  {
   "cell_type": "markdown",
   "metadata": {},
   "source": [
    "## 选择排序"
   ]
  },
  {
   "cell_type": "code",
   "execution_count": 44,
   "metadata": {},
   "outputs": [
    {
     "name": "stdout",
     "output_type": "stream",
     "text": [
      "[2, 4, 1, 0, 9, 3, 6, 7, 8, 5]\n",
      "[0, 4, 1, 2, 9, 3, 6, 7, 8, 5]\n",
      "[0, 1, 4, 2, 9, 3, 6, 7, 8, 5]\n",
      "[0, 1, 2, 4, 9, 3, 6, 7, 8, 5]\n",
      "[0, 1, 2, 3, 9, 4, 6, 7, 8, 5]\n",
      "[0, 1, 2, 3, 4, 9, 6, 7, 8, 5]\n",
      "[0, 1, 2, 3, 4, 5, 6, 7, 8, 9]\n",
      "[0, 1, 2, 3, 4, 5, 6, 7, 8, 9]\n",
      "[0, 1, 2, 3, 4, 5, 6, 7, 8, 9]\n"
     ]
    },
    {
     "data": {
      "text/plain": [
       "[0, 1, 2, 3, 4, 5, 6, 7, 8, 9]"
      ]
     },
     "execution_count": 44,
     "metadata": {},
     "output_type": "execute_result"
    }
   ],
   "source": [
    "import random\n",
    "\n",
    "nums = [x for x in range(10)]\n",
    "random.shuffle(nums)\n",
    "\n",
    "'''每次找最小的数排在第一位'''\n",
    "\n",
    "def select_sort(lst):\n",
    "    for i in range(len(lst) - 1):\n",
    "        min_index = i\n",
    "        print(lst)\n",
    "        for j in range(i + 1, len(lst)):\n",
    "            if lst[j] < lst[min_index]:\n",
    "                min_index = j\n",
    "        if min_index != i:\n",
    "            lst[i], lst[min_index] = lst[min_index], lst[i]\n",
    "\n",
    "    return lst\n",
    "\n",
    "select_sort(nums)"
   ]
  },
  {
   "cell_type": "markdown",
   "metadata": {},
   "source": [
    "## 插入排序"
   ]
  },
  {
   "cell_type": "code",
   "execution_count": 46,
   "metadata": {},
   "outputs": [
    {
     "name": "stdout",
     "output_type": "stream",
     "text": [
      "[8, 7, 1, 5, 2, 4, 3, 9, 0, 6]\n",
      "[7, 8, 1, 5, 2, 4, 3, 9, 0, 6]\n",
      "[1, 7, 8, 5, 2, 4, 3, 9, 0, 6]\n",
      "[1, 5, 7, 8, 2, 4, 3, 9, 0, 6]\n",
      "[1, 2, 5, 7, 8, 4, 3, 9, 0, 6]\n",
      "[1, 2, 4, 5, 7, 8, 3, 9, 0, 6]\n",
      "[1, 2, 3, 4, 5, 7, 8, 9, 0, 6]\n",
      "[1, 2, 3, 4, 5, 7, 8, 9, 0, 6]\n",
      "[0, 1, 2, 3, 4, 5, 7, 8, 9, 6]\n"
     ]
    },
    {
     "data": {
      "text/plain": [
       "[0, 1, 2, 3, 4, 5, 6, 7, 8, 9]"
      ]
     },
     "execution_count": 46,
     "metadata": {},
     "output_type": "execute_result"
    }
   ],
   "source": [
    "import random\n",
    "\n",
    "nums = [x for x in range(10)]\n",
    "random.shuffle(nums)\n",
    "\n",
    "'''每次挑选新元素插入已排序数组中,初始时已排序数组元素数为1'''\n",
    "\n",
    "def insert_sort(lst):\n",
    "    for i in range(1, len(lst)):\n",
    "        print(lst)\n",
    "        value = lst[i]    #保存位置，防止被覆盖\n",
    "        pos = i\n",
    "        while pos > 0 and value < lst[pos - 1]:\n",
    "            lst[pos] = lst[pos - 1]  #若前一元素较大则与前一元素焦焕志\n",
    "            pos -= 1\n",
    "        lst[pos] = value    #当前值存储\n",
    "    return lst\n",
    "insert_sort(nums)"
   ]
  },
  {
   "cell_type": "markdown",
   "metadata": {},
   "source": [
    "## 归并排序"
   ]
  },
  {
   "cell_type": "code",
   "execution_count": 2,
   "metadata": {},
   "outputs": [],
   "source": [
    "def merge_sort(seq):\n",
    "    if len(seq) < 1:    #只有一个元素则是递归出口\n",
    "        return seq\n",
    "    else:\n",
    "        mid = int(len(seq) / 2)\n",
    "        left_half = merge_sort(seq[:mid])\n",
    "        right_half = merge_sort(seq[mid:])\n",
    "        \n",
    "        #合并两个有序数组\n",
    "        new_seq = merge_sorted_list(left_half, right_half)\n",
    "        return new_seq\n",
    "    \n",
    "def merge_sorted_list(sorted_a, sorted_b):\n",
    "    '''合并两个有序序列，返回一个新的有序序列'''\n",
    "    \n",
    "    length_a, length_b = len(sorted_a), len(sorted_b)\n",
    "    a = b = 0\n",
    "    new_sorted_seq = list()\n",
    "    \n",
    "    while a < length_a and b < length_b:\n",
    "        if sorted_a[a] < sorted_b[b]:\n",
    "            new_sorted_seq.append(sorted_a[a])\n",
    "            a += 1\n",
    "        else:\n",
    "            new_sorted_seq.append(sorted_b[b])\n",
    "            b += 1\n",
    "    while a < length_a:\n",
    "        new_sorted_seq.append(sorted_a[a])\n",
    "        a += 1\n",
    "    \n",
    "    while b < length_b:\n",
    "        new_sorted_seq.append(sorted_b[b])\n",
    "        b += 1\n",
    "        \n",
    "    return new_sorted_seq\n",
    "\n",
    "def test_merge_sort():\n",
    "    import random\n",
    "    seq = list(range(10))\n",
    "    random.shuffle(seq)\n",
    "    assert merge_sort(seq) == sorted(seq)"
   ]
  },
  {
   "cell_type": "markdown",
   "metadata": {},
   "source": [
    "## 快排"
   ]
  },
  {
   "cell_type": "code",
   "execution_count": null,
   "metadata": {},
   "outputs": [],
   "source": []
  }
 ],
 "metadata": {
  "kernelspec": {
   "display_name": "Python 3",
   "language": "python",
   "name": "python3"
  },
  "language_info": {
   "codemirror_mode": {
    "name": "ipython",
    "version": 3
   },
   "file_extension": ".py",
   "mimetype": "text/x-python",
   "name": "python",
   "nbconvert_exporter": "python",
   "pygments_lexer": "ipython3",
   "version": "3.7.1"
  }
 },
 "nbformat": 4,
 "nbformat_minor": 2
}
