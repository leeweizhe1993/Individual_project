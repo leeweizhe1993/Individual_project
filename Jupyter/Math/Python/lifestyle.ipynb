{
 "cells": [
  {
   "cell_type": "code",
   "execution_count": 1,
   "metadata": {},
   "outputs": [],
   "source": [
    "import numpy as np\n",
    "import pandas as pd\n",
    "import matplotlib.pyplot as plt\n",
    "from sympy import *\n",
    "from scipy import stats\n",
    "import math\n",
    "import re\n",
    "import csv\n",
    "from sklearn import linear_model"
   ]
  },
  {
   "cell_type": "markdown",
   "metadata": {},
   "source": [
    "## 1.  导入数据并清洗"
   ]
  },
  {
   "cell_type": "code",
   "execution_count": 2,
   "metadata": {},
   "outputs": [
    {
     "data": {
      "text/html": [
       "<div>\n",
       "<style scoped>\n",
       "    .dataframe tbody tr th:only-of-type {\n",
       "        vertical-align: middle;\n",
       "    }\n",
       "\n",
       "    .dataframe tbody tr th {\n",
       "        vertical-align: top;\n",
       "    }\n",
       "\n",
       "    .dataframe thead th {\n",
       "        text-align: right;\n",
       "    }\n",
       "</style>\n",
       "<table border=\"1\" class=\"dataframe\">\n",
       "  <thead>\n",
       "    <tr style=\"text-align: right;\">\n",
       "      <th></th>\n",
       "      <th>start</th>\n",
       "      <th>last</th>\n",
       "      <th>delet1</th>\n",
       "      <th>type</th>\n",
       "      <th>delet2</th>\n",
       "      <th>subtype</th>\n",
       "      <th>remark</th>\n",
       "      <th>tag</th>\n",
       "      <th>state</th>\n",
       "    </tr>\n",
       "  </thead>\n",
       "  <tbody>\n",
       "    <tr>\n",
       "      <th>0</th>\n",
       "      <td>2017-02-09 00:00</td>\n",
       "      <td>450</td>\n",
       "      <td>未分类</td>\n",
       "      <td>睡觉</td>\n",
       "      <td>未分类</td>\n",
       "      <td>NaN</td>\n",
       "      <td>NaN</td>\n",
       "      <td>NaN</td>\n",
       "      <td>已完成</td>\n",
       "    </tr>\n",
       "    <tr>\n",
       "      <th>1</th>\n",
       "      <td>2017-02-09 07:30</td>\n",
       "      <td>30</td>\n",
       "      <td>未分类</td>\n",
       "      <td>杂事</td>\n",
       "      <td>未分类</td>\n",
       "      <td>吃饭</td>\n",
       "      <td>NaN</td>\n",
       "      <td>NaN</td>\n",
       "      <td>已完成</td>\n",
       "    </tr>\n",
       "    <tr>\n",
       "      <th>2</th>\n",
       "      <td>2017-02-09 08:00</td>\n",
       "      <td>240</td>\n",
       "      <td>未分类</td>\n",
       "      <td>工作</td>\n",
       "      <td>未分类</td>\n",
       "      <td>家教</td>\n",
       "      <td>NaN</td>\n",
       "      <td>NaN</td>\n",
       "      <td>已完成</td>\n",
       "    </tr>\n",
       "    <tr>\n",
       "      <th>3</th>\n",
       "      <td>2017-02-09 12:00</td>\n",
       "      <td>30</td>\n",
       "      <td>未分类</td>\n",
       "      <td>杂事</td>\n",
       "      <td>未分类</td>\n",
       "      <td>吃饭</td>\n",
       "      <td>NaN</td>\n",
       "      <td>NaN</td>\n",
       "      <td>已完成</td>\n",
       "    </tr>\n",
       "    <tr>\n",
       "      <th>4</th>\n",
       "      <td>2017-02-09 12:30</td>\n",
       "      <td>30</td>\n",
       "      <td>未分类</td>\n",
       "      <td>睡觉</td>\n",
       "      <td>未分类</td>\n",
       "      <td>午睡</td>\n",
       "      <td>NaN</td>\n",
       "      <td>NaN</td>\n",
       "      <td>已完成</td>\n",
       "    </tr>\n",
       "  </tbody>\n",
       "</table>\n",
       "</div>"
      ],
      "text/plain": [
       "              start  last delet1 type delet2 subtype remark  tag state\n",
       "0  2017-02-09 00:00   450    未分类   睡觉    未分类     NaN    NaN  NaN   已完成\n",
       "1  2017-02-09 07:30    30    未分类   杂事    未分类      吃饭    NaN  NaN   已完成\n",
       "2  2017-02-09 08:00   240    未分类   工作    未分类      家教    NaN  NaN   已完成\n",
       "3  2017-02-09 12:00    30    未分类   杂事    未分类      吃饭    NaN  NaN   已完成\n",
       "4  2017-02-09 12:30    30    未分类   睡觉    未分类      午睡    NaN  NaN   已完成"
      ]
     },
     "execution_count": 2,
     "metadata": {},
     "output_type": "execute_result"
    }
   ],
   "source": [
    "path = \"./export.csv\"\n",
    "names = ['start', 'last', 'delet1', 'type', 'delet2', 'subtype', 'remark', 'tag', 'state']\n",
    "data = pd.read_csv(path, names = names, skiprows = [0])\n",
    "data.head()"
   ]
  },
  {
   "cell_type": "code",
   "execution_count": 3,
   "metadata": {},
   "outputs": [
    {
     "name": "stdout",
     "output_type": "stream",
     "text": [
      "(6516, 5)\n"
     ]
    },
    {
     "data": {
      "text/html": [
       "<div>\n",
       "<style scoped>\n",
       "    .dataframe tbody tr th:only-of-type {\n",
       "        vertical-align: middle;\n",
       "    }\n",
       "\n",
       "    .dataframe tbody tr th {\n",
       "        vertical-align: top;\n",
       "    }\n",
       "\n",
       "    .dataframe thead th {\n",
       "        text-align: right;\n",
       "    }\n",
       "</style>\n",
       "<table border=\"1\" class=\"dataframe\">\n",
       "  <thead>\n",
       "    <tr style=\"text-align: right;\">\n",
       "      <th></th>\n",
       "      <th>start</th>\n",
       "      <th>last</th>\n",
       "      <th>type</th>\n",
       "      <th>subtype</th>\n",
       "      <th>remark</th>\n",
       "    </tr>\n",
       "  </thead>\n",
       "  <tbody>\n",
       "    <tr>\n",
       "      <th>0</th>\n",
       "      <td>2017-02-09 00:00</td>\n",
       "      <td>450</td>\n",
       "      <td>睡觉</td>\n",
       "      <td>NaN</td>\n",
       "      <td>NaN</td>\n",
       "    </tr>\n",
       "    <tr>\n",
       "      <th>1</th>\n",
       "      <td>2017-02-09 07:30</td>\n",
       "      <td>30</td>\n",
       "      <td>杂事</td>\n",
       "      <td>吃饭</td>\n",
       "      <td>NaN</td>\n",
       "    </tr>\n",
       "    <tr>\n",
       "      <th>2</th>\n",
       "      <td>2017-02-09 08:00</td>\n",
       "      <td>240</td>\n",
       "      <td>工作</td>\n",
       "      <td>家教</td>\n",
       "      <td>NaN</td>\n",
       "    </tr>\n",
       "    <tr>\n",
       "      <th>3</th>\n",
       "      <td>2017-02-09 12:00</td>\n",
       "      <td>30</td>\n",
       "      <td>杂事</td>\n",
       "      <td>吃饭</td>\n",
       "      <td>NaN</td>\n",
       "    </tr>\n",
       "    <tr>\n",
       "      <th>4</th>\n",
       "      <td>2017-02-09 12:30</td>\n",
       "      <td>30</td>\n",
       "      <td>睡觉</td>\n",
       "      <td>午睡</td>\n",
       "      <td>NaN</td>\n",
       "    </tr>\n",
       "  </tbody>\n",
       "</table>\n",
       "</div>"
      ],
      "text/plain": [
       "              start  last type subtype remark\n",
       "0  2017-02-09 00:00   450   睡觉     NaN    NaN\n",
       "1  2017-02-09 07:30    30   杂事      吃饭    NaN\n",
       "2  2017-02-09 08:00   240   工作      家教    NaN\n",
       "3  2017-02-09 12:00    30   杂事      吃饭    NaN\n",
       "4  2017-02-09 12:30    30   睡觉      午睡    NaN"
      ]
     },
     "execution_count": 3,
     "metadata": {},
     "output_type": "execute_result"
    }
   ],
   "source": [
    "df = pd.DataFrame(data)\n",
    "df = df.drop(['delet1', 'delet2', 'tag', 'state'], axis = 1)\n",
    "print(df.shape)\n",
    "df.head()"
   ]
  },
  {
   "cell_type": "code",
   "execution_count": 4,
   "metadata": {},
   "outputs": [
    {
     "name": "stdout",
     "output_type": "stream",
     "text": [
      "['2017-02-09', '2017-02-09', '2017-02-09', '2017-02-09', '2017-02-09'] ['00:00', '07:30', '08:00', '12:00', '12:30']\n"
     ]
    }
   ],
   "source": [
    "date = []\n",
    "start = []\n",
    "for i in range(df.shape[0]):\n",
    "    date.append(df['start'][i].split(' ')[0])\n",
    "    start.append(df['start'][i].split(' ')[1])\n",
    "print(date[:5], start[:5])"
   ]
  },
  {
   "cell_type": "code",
   "execution_count": 5,
   "metadata": {},
   "outputs": [
    {
     "name": "stdout",
     "output_type": "stream",
     "text": [
      "(6516, 2)\n"
     ]
    },
    {
     "data": {
      "text/html": [
       "<div>\n",
       "<style scoped>\n",
       "    .dataframe tbody tr th:only-of-type {\n",
       "        vertical-align: middle;\n",
       "    }\n",
       "\n",
       "    .dataframe tbody tr th {\n",
       "        vertical-align: top;\n",
       "    }\n",
       "\n",
       "    .dataframe thead th {\n",
       "        text-align: right;\n",
       "    }\n",
       "</style>\n",
       "<table border=\"1\" class=\"dataframe\">\n",
       "  <thead>\n",
       "    <tr style=\"text-align: right;\">\n",
       "      <th></th>\n",
       "      <th>date</th>\n",
       "      <th>start</th>\n",
       "    </tr>\n",
       "  </thead>\n",
       "  <tbody>\n",
       "    <tr>\n",
       "      <th>0</th>\n",
       "      <td>2017-02-09</td>\n",
       "      <td>00:00</td>\n",
       "    </tr>\n",
       "    <tr>\n",
       "      <th>1</th>\n",
       "      <td>2017-02-09</td>\n",
       "      <td>07:30</td>\n",
       "    </tr>\n",
       "    <tr>\n",
       "      <th>2</th>\n",
       "      <td>2017-02-09</td>\n",
       "      <td>08:00</td>\n",
       "    </tr>\n",
       "    <tr>\n",
       "      <th>3</th>\n",
       "      <td>2017-02-09</td>\n",
       "      <td>12:00</td>\n",
       "    </tr>\n",
       "    <tr>\n",
       "      <th>4</th>\n",
       "      <td>2017-02-09</td>\n",
       "      <td>12:30</td>\n",
       "    </tr>\n",
       "  </tbody>\n",
       "</table>\n",
       "</div>"
      ],
      "text/plain": [
       "         date  start\n",
       "0  2017-02-09  00:00\n",
       "1  2017-02-09  07:30\n",
       "2  2017-02-09  08:00\n",
       "3  2017-02-09  12:00\n",
       "4  2017-02-09  12:30"
      ]
     },
     "execution_count": 5,
     "metadata": {},
     "output_type": "execute_result"
    }
   ],
   "source": [
    "date_start = pd.DataFrame({'date': date, 'start': start})\n",
    "print(date_start.shape)\n",
    "date_start.head()"
   ]
  },
  {
   "cell_type": "code",
   "execution_count": 6,
   "metadata": {},
   "outputs": [
    {
     "name": "stdout",
     "output_type": "stream",
     "text": [
      "<class 'pandas.core.frame.DataFrame'>\n"
     ]
    },
    {
     "data": {
      "text/plain": [
       "(6516, 6)"
      ]
     },
     "execution_count": 6,
     "metadata": {},
     "output_type": "execute_result"
    }
   ],
   "source": [
    "df = date_start.join(df.drop(columns = 'start'))\n",
    "print(type(df))\n",
    "df.shape"
   ]
  },
  {
   "cell_type": "code",
   "execution_count": 7,
   "metadata": {},
   "outputs": [
    {
     "data": {
      "text/html": [
       "<div>\n",
       "<style scoped>\n",
       "    .dataframe tbody tr th:only-of-type {\n",
       "        vertical-align: middle;\n",
       "    }\n",
       "\n",
       "    .dataframe tbody tr th {\n",
       "        vertical-align: top;\n",
       "    }\n",
       "\n",
       "    .dataframe thead th {\n",
       "        text-align: right;\n",
       "    }\n",
       "</style>\n",
       "<table border=\"1\" class=\"dataframe\">\n",
       "  <thead>\n",
       "    <tr style=\"text-align: right;\">\n",
       "      <th></th>\n",
       "      <th>date</th>\n",
       "      <th>start</th>\n",
       "      <th>last</th>\n",
       "      <th>type</th>\n",
       "      <th>subtype</th>\n",
       "      <th>remark</th>\n",
       "    </tr>\n",
       "  </thead>\n",
       "  <tbody>\n",
       "    <tr>\n",
       "      <th>0</th>\n",
       "      <td>2017-02-09</td>\n",
       "      <td>00:00</td>\n",
       "      <td>450</td>\n",
       "      <td>睡觉</td>\n",
       "      <td>NaN</td>\n",
       "      <td>NaN</td>\n",
       "    </tr>\n",
       "    <tr>\n",
       "      <th>1</th>\n",
       "      <td>2017-02-09</td>\n",
       "      <td>07:30</td>\n",
       "      <td>30</td>\n",
       "      <td>杂事</td>\n",
       "      <td>吃饭</td>\n",
       "      <td>NaN</td>\n",
       "    </tr>\n",
       "    <tr>\n",
       "      <th>2</th>\n",
       "      <td>2017-02-09</td>\n",
       "      <td>08:00</td>\n",
       "      <td>240</td>\n",
       "      <td>工作</td>\n",
       "      <td>家教</td>\n",
       "      <td>NaN</td>\n",
       "    </tr>\n",
       "    <tr>\n",
       "      <th>3</th>\n",
       "      <td>2017-02-09</td>\n",
       "      <td>12:00</td>\n",
       "      <td>30</td>\n",
       "      <td>杂事</td>\n",
       "      <td>吃饭</td>\n",
       "      <td>NaN</td>\n",
       "    </tr>\n",
       "    <tr>\n",
       "      <th>4</th>\n",
       "      <td>2017-02-09</td>\n",
       "      <td>12:30</td>\n",
       "      <td>30</td>\n",
       "      <td>睡觉</td>\n",
       "      <td>午睡</td>\n",
       "      <td>NaN</td>\n",
       "    </tr>\n",
       "  </tbody>\n",
       "</table>\n",
       "</div>"
      ],
      "text/plain": [
       "         date  start  last type subtype remark\n",
       "0  2017-02-09  00:00   450   睡觉     NaN    NaN\n",
       "1  2017-02-09  07:30    30   杂事      吃饭    NaN\n",
       "2  2017-02-09  08:00   240   工作      家教    NaN\n",
       "3  2017-02-09  12:00    30   杂事      吃饭    NaN\n",
       "4  2017-02-09  12:30    30   睡觉      午睡    NaN"
      ]
     },
     "execution_count": 7,
     "metadata": {},
     "output_type": "execute_result"
    }
   ],
   "source": [
    "df.head()"
   ]
  },
  {
   "cell_type": "markdown",
   "metadata": {},
   "source": [
    "## 2.  描述统计"
   ]
  },
  {
   "cell_type": "code",
   "execution_count": 8,
   "metadata": {},
   "outputs": [
    {
     "name": "stdout",
     "output_type": "stream",
     "text": [
      "count    6516.000000\n",
      "mean       95.232505\n",
      "std       106.216357\n",
      "min        15.000000\n",
      "25%        30.000000\n",
      "50%        60.000000\n",
      "75%       120.000000\n",
      "max       690.000000\n",
      "Name: last, dtype: float64\n",
      "众数：[30]，计数：[2331]\n"
     ]
    }
   ],
   "source": [
    "print(df['last'].describe())\n",
    "data = df['last']\n",
    "print(\"众数：{0}，计数：{1}\".format(stats.mode(data)[0],stats.mode(data)[1]))    #众数"
   ]
  },
  {
   "cell_type": "code",
   "execution_count": 9,
   "metadata": {},
   "outputs": [
    {
     "name": "stdout",
     "output_type": "stream",
     "text": [
      "极差：675、方差：11280.183050264517、标准差：106.2082061342932、变异系数：0.8966586299709874\n"
     ]
    }
   ],
   "source": [
    "print(\"极差：{0}、方差：{1}、标准差：{2}、变异系数：{3}\".format(np.ptp(data), np.var(data), \n",
    "                                          np.std(data), np.mean(data) / np.std(data)))"
   ]
  },
  {
   "cell_type": "code",
   "execution_count": 10,
   "metadata": {},
   "outputs": [
    {
     "data": {
      "text/plain": [
       "(95.23250460405157, 106.20820613429413)"
      ]
     },
     "execution_count": 10,
     "metadata": {},
     "output_type": "execute_result"
    }
   ],
   "source": [
    "stats.norm.fit(df['last'])    #用正态分布进行拟合"
   ]
  },
  {
   "cell_type": "markdown",
   "metadata": {},
   "source": [
    "### 2.1  对时长进行频率统计"
   ]
  },
  {
   "cell_type": "code",
   "execution_count": 88,
   "metadata": {},
   "outputs": [
    {
     "name": "stdout",
     "output_type": "stream",
     "text": [
      "[15, 30, 45, 60, 75, 90, 105, 120, 135, 150, 165, 180, 195, 210, 225, 240, 255, 270, 285, 300, 315, 330, 345, 360, 375, 390, 405, 420, 435, 450, 465, 480, 495, 510, 540, 570, 600, 630, 690] [448, 2331, 135, 1121, 89, 646, 71, 427, 45, 215, 29, 169, 20, 91, 15, 65, 7, 50, 4, 46, 2, 35, 4, 89, 6, 101, 13, 104, 17, 55, 15, 26, 3, 11, 4, 3, 1, 2, 1]\n"
     ]
    }
   ],
   "source": [
    "dataFreq = {}\n",
    "for i in data: \n",
    "        dataFreq[i] = dataFreq.get(i, 0) + 1\n",
    "dataFreq.items()\n",
    "time = list(dataFreq.keys())\n",
    "freq = list(dataFreq.values())\n",
    "\n",
    "count = []\n",
    "for i in range(len(time)):\n",
    "    count.append([time[i], freq[i]])\n",
    "count.sort()\n",
    "for i in range(len(time)):\n",
    "    time[i] = count[i][0]\n",
    "    freq[i] = count[i][1]\n",
    "print(time, freq)"
   ]
  },
  {
   "cell_type": "code",
   "execution_count": 97,
   "metadata": {},
   "outputs": [
    {
     "data": {
      "image/png": "[encoded data removed]",
      "text/plain": [
       "<Figure size 432x288 with 1 Axes>"
      ]
     },
     "metadata": {},
     "output_type": "display_data"
    }
   ],
   "source": [
    "plt.bar(time, freq, width = 10,align='center',color = 'b',alpha=0.8)\n",
    "plt.xlabel('time last')\n",
    "plt.ylabel('count')\n",
    "plt.title('time-count figure')\n",
    "\n",
    "for a,b in zip(time,freq):\n",
    "    plt.text(a, b+0.05, '%.0f' % b, ha='center', va= 'bottom',fontsize=7)\n",
    "\n",
    "x = np.linspace(0, 690, 10000)\n",
    "y = stats.norm.pdf(x, 95.2325, 106.2082)\n",
    "\n",
    "plt.plot(x, y, 'r-', lw = 2)\n",
    "    \n",
    "plt.show()"
   ]
  },
  {
   "cell_type": "code",
   "execution_count": 96,
   "metadata": {},
   "outputs": [
    {
     "data": {
      "image/png": "[encoded data removed]",
      "text/plain": [
       "<Figure size 432x288 with 1 Axes>"
      ]
     },
     "metadata": {},
     "output_type": "display_data"
    }
   ],
   "source": [
    "x = np.linspace(0, 690, 10000)\n",
    "y = stats.norm.pdf(x, 95.2325, 106.2082)\n",
    "\n",
    "plt.plot(x, y, 'g-', lw = 2)\n",
    "    \n",
    "plt.show()"
   ]
  },
  {
   "cell_type": "code",
   "execution_count": 98,
   "metadata": {},
   "outputs": [
    {
     "data": {
      "image/png": "[encoded data removed]",
      "text/plain": [
       "<Figure size 432x288 with 1 Axes>"
      ]
     },
     "metadata": {},
     "output_type": "display_data"
    }
   ],
   "source": [
    "plt.bar(time, np.log10(freq), width = 10,align='center',color = 'c',alpha=0.8)    #转为对数\n",
    "plt.xlabel('time last')\n",
    "plt.ylabel('count(log10)')\n",
    "plt.title('time-count(log) figure')\n",
    "\n",
    "for a,b in zip(time,np.log10(freq)):\n",
    "    plt.text(a, b+0.05, '%.0f' % b, ha='center', va= 'bottom',fontsize=7)\n",
    "\n",
    "plt.show()"
   ]
  },
  {
   "cell_type": "code",
   "execution_count": null,
   "metadata": {},
   "outputs": [],
   "source": []
  },
  {
   "cell_type": "markdown",
   "metadata": {},
   "source": [
    "## 3.频域分析"
   ]
  },
  {
   "cell_type": "code",
   "execution_count": 12,
   "metadata": {},
   "outputs": [
    {
     "data": {
      "text/plain": [
       "array([450,  30, 240, ..., 150,  45,  60])"
      ]
     },
     "execution_count": 12,
     "metadata": {},
     "output_type": "execute_result"
    }
   ],
   "source": [
    "x = np.array(df['last'])\n",
    "smp_rate = 1 / 15"
   ]
  },
  {
   "cell_type": "code",
   "execution_count": 13,
   "metadata": {},
   "outputs": [
    {
     "data": {
      "text/plain": [
       "(6516,)"
      ]
     },
     "execution_count": 13,
     "metadata": {},
     "output_type": "execute_result"
    }
   ],
   "source": [
    "wave = np.cos(x)\n",
    "y = np.fft.fft(wave)\n",
    "y.shape"
   ]
  },
  {
   "cell_type": "code",
   "execution_count": 14,
   "metadata": {},
   "outputs": [
    {
     "name": "stderr",
     "output_type": "stream",
     "text": [
      "/Users/lee_excited/anaconda3/lib/python3.6/site-packages/numpy/core/numeric.py:492: ComplexWarning: Casting complex values to real discards the imaginary part\n",
      "  return array(a, dtype, copy=False, order=order)\n"
     ]
    },
    {
     "data": {
      "image/png": "[encoded data removed]",
      "text/plain": [
       "<Figure size 432x288 with 1 Axes>"
      ]
     },
     "metadata": {},
     "output_type": "display_data"
    }
   ],
   "source": [
    "plt.plot(y)\n",
    "plt.grid()\n",
    "plt.show()"
   ]
  },
  {
   "cell_type": "markdown",
   "metadata": {},
   "source": [
    "## 高阶玩法"
   ]
  },
  {
   "cell_type": "code",
   "execution_count": null,
   "metadata": {},
   "outputs": [],
   "source": []
  }
 ],
 "metadata": {
  "kernelspec": {
   "display_name": "Python 3",
   "language": "python",
   "name": "python3"
  },
  "language_info": {
   "codemirror_mode": {
    "name": "ipython",
    "version": 3
   },
   "file_extension": ".py",
   "mimetype": "text/x-python",
   "name": "python",
   "nbconvert_exporter": "python",
   "pygments_lexer": "ipython3",
   "version": "3.6.5"
  }
 },
 "nbformat": 4,
 "nbformat_minor": 2
}
