{
 "cells": [
  {
   "cell_type": "code",
   "execution_count": 2,
   "metadata": {},
   "outputs": [
    {
     "name": "stdout",
     "output_type": "stream",
     "text": [
      "Match\n"
     ]
    }
   ],
   "source": [
    "import re\n",
    "#字符串前加‘r’强制转为raw string，防止/n/t等特殊符号造成不匹配\n",
    "pattern = r\"like\"\n",
    "#match从字符串开始处进行匹配\n",
    "if re.match(pattern, \"likeawvnawuoifbaoilikeawuivboabfui\"):\n",
    "    print(\"Match\")\n",
    "else:\n",
    "    print(\"No Match\")"
   ]
  },
  {
   "cell_type": "code",
   "execution_count": null,
   "metadata": {
    "collapsed": true
   },
   "outputs": [],
   "source": [
    "pattern = r\"spam\"\n",
    "\n",
    "if re.match(pattern, \"eggspamsausagespam\"):\n",
    "    print(\"Match\")\n",
    "else:\n",
    "    print(\"No Match\")\n",
    "    \n",
    "if re.search(pattern, \"eggspamsausagespam\"):\n",
    "    print(\"Match\")\n",
    "else:\n",
    "    print(\"No Match\")\n",
    "    \n",
    "print(re.findall(pattern, \"eggspamsausagespam\"))"
   ]
  },
  {
   "cell_type": "code",
   "execution_count": 1,
   "metadata": {
    "collapsed": true
   },
   "outputs": [
    {
     "name": "stdout",
     "output_type": "stream",
     "text": [
      "pam\n",
      "4\n",
      "7\n",
      "(4, 7)\n"
     ]
    }
   ],
   "source": [
    "import re\n",
    "\n",
    "pattern = r\"pam\"\n",
    "\n",
    "match = re.search(pattern, \"eggspamsausage\")\n",
    "if match:\n",
    "    print(match.group())\n",
    "    print(match.start())\n",
    "    print(match.end())\n",
    "    print(match.span())"
   ]
  },
  {
   "cell_type": "code",
   "execution_count": 5,
   "metadata": {},
   "outputs": [
    {
     "name": "stdout",
     "output_type": "stream",
     "text": [
      "My name is Lee, Hi Lee, Bye-bye Lee.\n"
     ]
    }
   ],
   "source": [
    "import re\n",
    "rawstr = \"My name is David, Hi David, Bye-bye David.\"\n",
    "\n",
    "# 格式：re.sub(被替代词，替代词，句子，max = 0)\n",
    "newstr = re.sub(\"David\", \"Lee\", rawstr)\n",
    "print(newstr)"
   ]
  },
  {
   "cell_type": "code",
   "execution_count": 8,
   "metadata": {},
   "outputs": [
    {
     "name": "stdout",
     "output_type": "stream",
     "text": [
      "Match 1\n",
      "Match 2\n"
     ]
    }
   ],
   "source": [
    "pattern = r\"gr.y$\"\n",
    "if re.match(pattern, \"grey\"):\n",
    "    print(\"Match 1\")\n",
    "if re.match(pattern, \"gray\"):\n",
    "    print(\"Match 2\")"
   ]
  },
  {
   "cell_type": "code",
   "execution_count": 4,
   "metadata": {},
   "outputs": [
    {
     "name": "stdout",
     "output_type": "stream",
     "text": [
      "Match 1\n",
      "Match 2\n"
     ]
    }
   ],
   "source": [
    "pattern = r\"egg(spam)*\"\n",
    "\n",
    "if re.match(pattern, \"egg\"):\n",
    "    print(\"Match 1\")\n",
    "if re.match(pattern, \"eggspamspamegg\"):\n",
    "    print(\"Match 2\")\n",
    "if re.match(pattern, \"spam\"):\n",
    "    print(\"Match 3\")"
   ]
  },
  {
   "cell_type": "code",
   "execution_count": 12,
   "metadata": {},
   "outputs": [
    {
     "name": "stdout",
     "output_type": "stream",
     "text": [
      "Match 1\n",
      "Match 2\n"
     ]
    }
   ],
   "source": [
    "pattern = r\"g+\"\n",
    "\n",
    "if re.match(pattern, \"g\"):\n",
    "    print(\"Match 1\")\n",
    "if re.match(pattern, \"gggggggggggggggggg\"):\n",
    "    print(\"Match 2\")\n",
    "if re.match(pattern, \"abc\"):\n",
    "    print(\"Match 3\")"
   ]
  },
  {
   "cell_type": "code",
   "execution_count": 13,
   "metadata": {},
   "outputs": [
    {
     "name": "stdout",
     "output_type": "stream",
     "text": [
      "Match 1\n",
      "Match 2\n"
     ]
    }
   ],
   "source": [
    "pattern = r\"ice(-)?cream\"\n",
    "\n",
    "if re.match(pattern, \"ice-cream\"):\n",
    "    print(\"Match 1\")\n",
    "if re.match(pattern, \"icecream\"):\n",
    "    print(\"Match 2\")\n",
    "if re.match(pattern, \"ice cream\"):\n",
    "    print(\"Match 3\")\n",
    "if re.match(pattern, \"sausages\"):\n",
    "    print(\"Match 4\")\n",
    "if re.match(pattern, \"ice--ice\"):\n",
    "    print(\"Match 5\")"
   ]
  },
  {
   "cell_type": "code",
   "execution_count": 19,
   "metadata": {},
   "outputs": [
    {
     "name": "stdout",
     "output_type": "stream",
     "text": [
      "Match 1\n",
      "Match 3\n"
     ]
    }
   ],
   "source": [
    "pattern = r\"9{1,3}$\"\n",
    "\n",
    "if re.match(pattern, \"9\"):\n",
    "    print(\"Match 1\")\n",
    "if re.match(pattern, \"999999999999\"):\n",
    "    print(\"Match 2\")\n",
    "if re.match(pattern, \"999\"):\n",
    "    print(\"Match 3\")"
   ]
  },
  {
   "cell_type": "code",
   "execution_count": 5,
   "metadata": {},
   "outputs": [
    {
     "name": "stdout",
     "output_type": "stream",
     "text": [
      "abcdefghi\n",
      "abcdefghi\n",
      "bc\n",
      "de\n",
      "('bc', 'de', 'fgh', 'g')\n"
     ]
    }
   ],
   "source": [
    "pattern = r\"a(bc)(de)(f(g)h)i\"\n",
    "\n",
    "match = re.match(pattern, \"abcdefghijklmnop\")\n",
    "if match:\n",
    "    print(match.group()) \n",
    "    print(match.group(0))\n",
    "    print(match.group(1))\n",
    "    print(match.group(2))\n",
    "    print(match.groups())"
   ]
  },
  {
   "cell_type": "code",
   "execution_count": 4,
   "metadata": {},
   "outputs": [
    {
     "name": "stdout",
     "output_type": "stream",
     "text": [
      "('a', 'bcde', 'd')\n"
     ]
    },
    {
     "data": {
      "text/plain": [
       "3"
      ]
     },
     "execution_count": 4,
     "metadata": {},
     "output_type": "execute_result"
    }
   ],
   "source": [
    "# pattern = r\"(?P<first>abc)(?:def)(ghi)\"\n",
    "\n",
    "# match = re.match(pattern, \"abcdefghi\")\n",
    "# if match:\n",
    "#     print(match.group(\"first\"))\n",
    "#     print(match.groups())\n",
    "\n",
    "pattern2 = r\"(a)(b(?:c)(d)(?:e))\"\n",
    "match2 = re.match(pattern2,\"abcde\")\n",
    "print(match2.groups())\n",
    "len(match2.groups())"
   ]
  },
  {
   "cell_type": "code",
   "execution_count": 12,
   "metadata": {
    "collapsed": true
   },
   "outputs": [],
   "source": [
    "pattern = r\"(.+)\\1\"\n",
    "\n",
    "match = re.match(pattern, \"word word\")\n",
    "if match:\n",
    "    print(\"Match 1\")\n",
    "    \n",
    "match = re.match(pattern, \"?! ?!\")\n",
    "if match:\n",
    "    print(\"Match 2\")\n",
    "    \n",
    "match = re.match(pattern, \"abc cde\")\n",
    "if match:\n",
    "    print(\"Match 3\")"
   ]
  },
  {
   "cell_type": "code",
   "execution_count": 14,
   "metadata": {},
   "outputs": [
    {
     "name": "stdout",
     "output_type": "stream",
     "text": [
      "Match 1\n"
     ]
    }
   ],
   "source": [
    "pattern = r\"(\\D+\\d)\"\n",
    "\n",
    "match = re.match(pattern, \"Hi 999!\")\n",
    "if match:\n",
    "    print(\"Match 1\")\n",
    "    \n",
    "match = re.match(pattern, \"1, 23, 456!\")\n",
    "if match:\n",
    "    print(\"Match 2\")\n",
    "    \n",
    "match = re.match(pattern, \"!$?\")\n",
    "if match:\n",
    "    print(\"Match 3\")"
   ]
  }
 ],
 "metadata": {
  "kernelspec": {
   "display_name": "Python 3",
   "language": "python",
   "name": "python3"
  },
  "language_info": {
   "codemirror_mode": {
    "name": "ipython",
    "version": 3
   },
   "file_extension": ".py",
   "mimetype": "text/x-python",
   "name": "python",
   "nbconvert_exporter": "python",
   "pygments_lexer": "ipython3",
   "version": "3.6.6"
  }
 },
 "nbformat": 4,
 "nbformat_minor": 2
}
