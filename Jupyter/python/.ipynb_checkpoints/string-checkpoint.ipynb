{
 "cells": [
  {
   "cell_type": "markdown",
   "metadata": {},
   "source": [
    "## 统计字符数"
   ]
  },
  {
   "cell_type": "code",
   "execution_count": 1,
   "metadata": {},
   "outputs": [
    {
     "data": {
      "text/plain": [
       "Counter({'a': 4,\n",
       "         's': 3,\n",
       "         'd': 2,\n",
       "         'f': 2,\n",
       "         'v': 1,\n",
       "         '#': 2,\n",
       "         '（': 2,\n",
       "         '*': 2,\n",
       "         '@': 2,\n",
       "         '！': 1,\n",
       "         '￥': 1,\n",
       "         '1': 2,\n",
       "         '2': 2,\n",
       "         '4': 2,\n",
       "         '3': 1,\n",
       "         '）': 2})"
      ]
     },
     "execution_count": 1,
     "metadata": {},
     "output_type": "execute_result"
    }
   ],
   "source": [
    "import collections\n",
    "collections.Counter('asdfaasdvfas#（*#@！（@*￥1243124））')"
   ]
  },
  {
   "cell_type": "code",
   "execution_count": null,
   "metadata": {},
   "outputs": [],
   "source": []
  }
 ],
 "metadata": {
  "kernelspec": {
   "display_name": "Python 3",
   "language": "python",
   "name": "python3"
  },
  "language_info": {
   "codemirror_mode": {
    "name": "ipython",
    "version": 3
   },
   "file_extension": ".py",
   "mimetype": "text/x-python",
   "name": "python",
   "nbconvert_exporter": "python",
   "pygments_lexer": "ipython3",
   "version": "3.6.6"
  }
 },
 "nbformat": 4,
 "nbformat_minor": 2
}
