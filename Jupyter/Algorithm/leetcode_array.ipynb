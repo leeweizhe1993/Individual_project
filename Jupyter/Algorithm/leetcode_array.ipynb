{
 "cells": [
  {
   "cell_type": "markdown",
   "metadata": {},
   "source": [
    "#### 1、给定一个排序数组，你需要在原地删除重复出现的元素，使得每个元素只出现一次，返回移除后数组的新长度。\n",
    "#### 不要使用额外的数组空间，你必须在原地修改输入数组并在使用 O(1) 额外空间的条件下完成。"
   ]
  },
  {
   "cell_type": "code",
   "execution_count": 37,
   "metadata": {},
   "outputs": [
    {
     "data": {
      "text/plain": [
       "([1, 2, 3, 4, 5], 5)"
      ]
     },
     "execution_count": 37,
     "metadata": {},
     "output_type": "execute_result"
    }
   ],
   "source": [
    "a = [1, 1, 1, 1, 1, 2, 4, 5, 3, 5]\n",
    "list(set(a)),len(list(set(a)))"
   ]
  },
  {
   "cell_type": "code",
   "execution_count": 36,
   "metadata": {},
   "outputs": [
    {
     "data": {
      "text/plain": [
       "dict_keys([1, 2, 4, 5, 3])"
      ]
     },
     "execution_count": 36,
     "metadata": {},
     "output_type": "execute_result"
    }
   ],
   "source": [
    "{}.fromkeys(a).keys()"
   ]
  },
  {
   "cell_type": "markdown",
   "metadata": {},
   "source": [
    "#### 2、给定一个数组，它的第 i 个元素是一支给定股票第 i 天的价格。\n",
    "#### 设计一个算法来计算你所能获取的最大利润。你可以尽可能地完成更多的交易（多次买卖一支股票）。\n",
    "#### 注意：你不能同时参与多笔交易（你必须在再次购买前出售掉之前的股票）"
   ]
  },
  {
   "cell_type": "code",
   "execution_count": 32,
   "metadata": {},
   "outputs": [
    {
     "data": {
      "text/plain": [
       "2"
      ]
     },
     "execution_count": 32,
     "metadata": {},
     "output_type": "execute_result"
    }
   ],
   "source": [
    "def maxProfit(prices):\n",
    "    \"\"\"\n",
    "    :type prices: List[int]\n",
    "    :rtype: int\n",
    "    \"\"\"\n",
    "    profit = 0\n",
    "    buy = 0\n",
    "    sell = 0\n",
    "    '''针对长度<3的序列'''\n",
    "    if len(prices) < 3:\n",
    "        if len(prices) == 2:\n",
    "            if prices[0] < prices[1]:\n",
    "                return prices[1] - prices[0]\n",
    "        else:\n",
    "            return 0\n",
    "\n",
    "    if prices[0] <= prices[1]:\n",
    "        buy = prices[0]\n",
    "\n",
    "    for i in range(1, len(prices) - 1):\n",
    "        if  prices[i] <= prices[i - 1] and prices[i] < prices[i + 1]:    #<=是为了防止相同数据造成无法判断\n",
    "            buy = prices[i]\n",
    "        if  prices[i] > prices[i - 1] and prices[i] >= prices[i + 1]:\n",
    "            sell = prices[i]\n",
    "            profit += sell - buy\n",
    "    if prices[-2] < prices[-1]:\n",
    "        sell = prices[-1]\n",
    "        profit += sell - buy\n",
    "    return profit\n",
    "a = [2, 1, 2, 1, 0, 0, 1]\n",
    "maxProfit(a)"
   ]
  },
  {
   "cell_type": "markdown",
   "metadata": {},
   "source": [
    "#### 3、给定一个数组，将数组中的元素向右移动 k 个位置，其中 k 是非负数。"
   ]
  },
  {
   "cell_type": "code",
   "execution_count": 41,
   "metadata": {},
   "outputs": [
    {
     "data": {
      "text/plain": [
       "[4, 5, 1, 2, 3]"
      ]
     },
     "execution_count": 41,
     "metadata": {},
     "output_type": "execute_result"
    }
   ],
   "source": [
    "def rotate(nums, k):\n",
    "    for i in range(k):\n",
    "        nums.insert(0, a[-1])\n",
    "        nums.pop(-1)\n",
    "    return nums\n",
    "a = [1, 2, 3, 4, 5]\n",
    "rotate(a, 2)"
   ]
  },
  {
   "cell_type": "code",
   "execution_count": 58,
   "metadata": {},
   "outputs": [
    {
     "data": {
      "text/plain": [
       "[4, 5, 1, 2, 3]"
      ]
     },
     "execution_count": 58,
     "metadata": {},
     "output_type": "execute_result"
    }
   ],
   "source": [
    "def rotate(nums, k):\n",
    "    nums = nums[-k :] + nums\n",
    "    del nums[-k :]\n",
    "    return nums\n",
    "a = [1, 2, 3, 4, 5]\n",
    "rotate(a, 2)"
   ]
  },
  {
   "cell_type": "code",
   "execution_count": null,
   "metadata": {},
   "outputs": [],
   "source": []
  }
 ],
 "metadata": {
  "kernelspec": {
   "display_name": "Python 3",
   "language": "python",
   "name": "python3"
  },
  "language_info": {
   "codemirror_mode": {
    "name": "ipython",
    "version": 3
   },
   "file_extension": ".py",
   "mimetype": "text/x-python",
   "name": "python",
   "nbconvert_exporter": "python",
   "pygments_lexer": "ipython3",
   "version": "3.6.5"
  }
 },
 "nbformat": 4,
 "nbformat_minor": 2
}
