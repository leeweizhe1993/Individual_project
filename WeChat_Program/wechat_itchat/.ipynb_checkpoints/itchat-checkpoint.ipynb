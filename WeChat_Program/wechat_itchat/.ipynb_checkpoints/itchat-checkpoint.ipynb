{
 "cells": [
  {
   "cell_type": "code",
   "execution_count": 1,
   "metadata": {},
   "outputs": [
    {
     "name": "stdout",
     "output_type": "stream",
     "text": []
    }
   ],
   "source": [
    "from wxpy import *"
   ]
  },
  {
   "cell_type": "code",
   "execution_count": 2,
   "metadata": {},
   "outputs": [
    {
     "name": "stderr",
     "output_type": "stream",
     "text": [
      "Getting uuid of QR code.\n",
      "Downloading QR code.\n",
      "Please scan the QR code to log in.\n",
      "Please press confirm on your phone.\n",
      "Loading the contact, this may take a little while.\n",
      "Login successfully as Excited!🐶\n"
     ]
    }
   ],
   "source": [
    "bot = Bot()"
   ]
  },
  {
   "cell_type": "code",
   "execution_count": 10,
   "metadata": {},
   "outputs": [
    {
     "data": {
      "text/plain": [
       "↪ a.❤ : 我明天也来吃饭 (Text)"
      ]
     },
     "execution_count": 10,
     "metadata": {},
     "output_type": "execute_result"
    },
    {
     "name": "stdout",
     "output_type": "stream",
     "text": [
      "a.❤ : 哦 (Text)\n"
     ]
    }
   ],
   "source": [
    "bot.friends().search(\"a.\")[1].send(\"我明天也来吃饭\")"
   ]
  },
  {
   "cell_type": "code",
   "execution_count": 32,
   "metadata": {},
   "outputs": [
    {
     "name": "stdout",
     "output_type": "stream",
     "text": [
      "<Friend: a.❤>\n"
     ]
    }
   ],
   "source": [
    "@bot.register()\n",
    "def just_print(msg):\n",
    "    # 打印消息\n",
    "    print(msg)\n",
    "new = just_print(bot.friends().search(\"a.\")[1])"
   ]
  },
  {
   "cell_type": "code",
   "execution_count": 31,
   "metadata": {},
   "outputs": [
    {
     "data": {
      "text/plain": [
       "↪ a.❤ : 我明天也来吃饭 (Text)"
      ]
     },
     "execution_count": 31,
     "metadata": {},
     "output_type": "execute_result"
    }
   ],
   "source": [
    "bot.messages.search('吃饭', sender=bot.self)[0]"
   ]
  },
  {
   "cell_type": "code",
   "execution_count": 21,
   "metadata": {},
   "outputs": [
    {
     "data": {
      "text/plain": [
       "'↪ a.❤ : 我明天也来吃饭 (Text)'"
      ]
     },
     "execution_count": 21,
     "metadata": {},
     "output_type": "execute_result"
    }
   ],
   "source": [
    "str(bot.messages.search('吃饭', sender=bot.self)[0])"
   ]
  },
  {
   "cell_type": "markdown",
   "metadata": {},
   "source": [
    "## 读取好友列表并写入csv"
   ]
  },
  {
   "cell_type": "code",
   "execution_count": 39,
   "metadata": {},
   "outputs": [
    {
     "data": {
      "text/plain": [
       "[<User: {'MemberList': <ContactList: []>, 'Uin': 0, 'UserName': '@289b934e8d7c9e34c858636842aec83ccfbc5147b4399bfaa6c9fd6958587685', 'NickName': '檀鹏', 'HeadImgUrl': '/cgi-bin/mmwebwx-bin/webwxgeticon?seq=689388366&username=@289b934e8d7c9e34c858636842aec83ccfbc5147b4399bfaa6c9fd6958587685&skey=@crypt_e5fa4716_c7ecc4b9880fc662d28c35f0c1cc5ddd', 'ContactFlag': 3, 'MemberCount': 0, 'RemarkName': '', 'HideInputBarFlag': 0, 'Sex': 1, 'Signature': '很多事情十年后再看~', 'VerifyFlag': 0, 'OwnerUin': 0, 'PYInitial': 'TP', 'PYQuanPin': 'tanpeng', 'RemarkPYInitial': '', 'RemarkPYQuanPin': '', 'StarFriend': 0, 'AppAccountFlag': 0, 'Statues': 0, 'AttrStatus': 4292709, 'Province': '安徽', 'City': '安庆', 'Alias': '', 'SnsFlag': 17, 'UniFriend': 0, 'DisplayName': '', 'ChatRoomId': 0, 'KeyWord': '', 'EncryChatRoomId': '', 'IsOwner': 0}>]"
      ]
     },
     "execution_count": 39,
     "metadata": {},
     "output_type": "execute_result"
    }
   ],
   "source": [
    "friends = itchat.get_friends(update=True)[1:2]    #查看格式\n",
    "friends"
   ]
  },
  {
   "cell_type": "code",
   "execution_count": 42,
   "metadata": {},
   "outputs": [
    {
     "name": "stdout",
     "output_type": "stream",
     "text": [
      "<class 'dict_keys'>\n",
      "dict_keys(['MemberList', 'Uin', 'UserName', 'NickName', 'HeadImgUrl', 'ContactFlag', 'MemberCount', 'RemarkName', 'HideInputBarFlag', 'Sex', 'Signature', 'VerifyFlag', 'OwnerUin', 'PYInitial', 'PYQuanPin', 'RemarkPYInitial', 'RemarkPYQuanPin', 'StarFriend', 'AppAccountFlag', 'Statues', 'AttrStatus', 'Province', 'City', 'Alias', 'SnsFlag', 'UniFriend', 'DisplayName', 'ChatRoomId', 'KeyWord', 'EncryChatRoomId', 'IsOwner']) dict_values([<ContactList: []>, 0, '@289b934e8d7c9e34c858636842aec83ccfbc5147b4399bfaa6c9fd6958587685', '檀鹏', '/cgi-bin/mmwebwx-bin/webwxgeticon?seq=689388366&username=@289b934e8d7c9e34c858636842aec83ccfbc5147b4399bfaa6c9fd6958587685&skey=@crypt_e5fa4716_c7ecc4b9880fc662d28c35f0c1cc5ddd', 3, 0, '', 0, 1, '很多事情十年后再看~', 0, 0, 'TP', 'tanpeng', '', '', 0, 0, 0, 4292709, '安徽', '安庆', '', 17, 0, '', 0, '', '', 0])\n"
     ]
    }
   ],
   "source": [
    "print(type(friends[0].keys()))\n",
    "print(friends[0].keys(), friends[0].values())"
   ]
  },
  {
   "cell_type": "code",
   "execution_count": 48,
   "metadata": {},
   "outputs": [],
   "source": [
    "friends = itchat.get_friends(update=True)[1:]\n",
    "with open(\"friends.csv\", 'w', newline='', encoding='utf-8') as f:    #newline防止空行\n",
    "    writer = csv.writer(f)\n",
    "    writer.writerow(friends[0].keys())\n",
    "    for friend in friends:\n",
    "        writer.writerow(friend.values())    \n",
    "f.close()"
   ]
  },
  {
   "cell_type": "markdown",
   "metadata": {},
   "source": [
    "## 获取公众号"
   ]
  },
  {
   "cell_type": "code",
   "execution_count": 50,
   "metadata": {},
   "outputs": [],
   "source": [
    "publics = itchat.get_mps(update=True)[1:]\n",
    "with open(\"publics.csv\", 'w', newline='', encoding='utf-8') as f:    #newline防止空行\n",
    "    writer = csv.writer(f)\n",
    "    writer.writerow(publics[0].keys())\n",
    "    for public in publics:\n",
    "        writer.writerow(public.values())    \n",
    "f.close()"
   ]
  },
  {
   "cell_type": "markdown",
   "metadata": {},
   "source": [
    "## 群聊"
   ]
  },
  {
   "cell_type": "code",
   "execution_count": 53,
   "metadata": {},
   "outputs": [
    {
     "data": {
      "text/plain": [
       "[<Chatroom: {'MemberList': <ContactList: []>, 'Uin': 0, 'UserName': '@@87cf1cce02897e03fc16301cfd783ee91e6300147efa5dfbe7e26074b4902d70', 'NickName': '16級藝設研究生', 'HeadImgUrl': '/cgi-bin/mmwebwx-bin/webwxgetheadimg?seq=694121171&username=@@87cf1cce02897e03fc16301cfd783ee91e6300147efa5dfbe7e26074b4902d70&skey=@crypt_e5fa4716_c7ecc4b9880fc662d28c35f0c1cc5ddd', 'ContactFlag': 2, 'MemberCount': 104, 'RemarkName': '', 'HideInputBarFlag': 0, 'Sex': 0, 'Signature': '', 'VerifyFlag': 0, 'OwnerUin': 0, 'PYInitial': '', 'PYQuanPin': '', 'RemarkPYInitial': '', 'RemarkPYQuanPin': '', 'StarFriend': 0, 'AppAccountFlag': 0, 'Statues': 0, 'AttrStatus': 0, 'Province': '', 'City': '', 'Alias': '', 'SnsFlag': 0, 'UniFriend': 0, 'DisplayName': '', 'ChatRoomId': 0, 'KeyWord': '', 'EncryChatRoomId': '', 'IsOwner': 0, 'IsAdmin': None, 'Self': <User: {'MemberList': <ContactList: []>, 'UserName': '@85e55b3458d0bf26f3a0377ab70b47b7', 'City': '', 'DisplayName': '', 'PYQuanPin': '', 'RemarkPYInitial': '', 'Province': '', 'KeyWord': '', 'RemarkName': '', 'PYInitial': '', 'EncryChatRoomId': '', 'Alias': '', 'Signature': '想多做些微小的工作，谢谢大家！', 'NickName': 'Excited!🐶', 'RemarkPYQuanPin': '', 'HeadImgUrl': '/cgi-bin/mmwebwx-bin/webwxgeticon?seq=1689139453&username=@85e55b3458d0bf26f3a0377ab70b47b7&skey=@crypt_e5fa4716_c7ecc4b9880fc662d28c35f0c1cc5ddd', 'UniFriend': 0, 'Sex': 1, 'AppAccountFlag': 0, 'VerifyFlag': 0, 'ChatRoomId': 0, 'HideInputBarFlag': 0, 'AttrStatus': 0, 'SnsFlag': 145, 'MemberCount': 0, 'OwnerUin': 0, 'ContactFlag': 0, 'Uin': 113102200, 'StarFriend': 0, 'Statues': 0, 'WebWxPluginSwitch': 0, 'HeadImgFlag': 1}>}>,\n",
       " <Chatroom: {'MemberList': <ContactList: [<ChatroomMember: {'MemberList': <ContactList: []>, 'Uin': 0, 'UserName': '@f5e65a648ff91c70a212c3c9e3f63aec', 'NickName': '江凌', 'AttrStatus': 37822501, 'PYInitial': '', 'PYQuanPin': '', 'RemarkPYInitial': '', 'RemarkPYQuanPin': '', 'MemberStatus': 0, 'DisplayName': '北京-交互-龙爪槐守望者', 'KeyWord': 'fti'}>, <ChatroomMember: {'MemberList': <ContactList: []>, 'Uin': 0, 'UserName': '@5a8bfb7dfc89ef14e70973f18f21c57a', 'NickName': 'Maxman', 'AttrStatus': 98471, 'PYInitial': '', 'PYQuanPin': '', 'RemarkPYInitial': '', 'RemarkPYQuanPin': '', 'MemberStatus': 0, 'DisplayName': '成都-产品-不吃苦瓜胡萝卜', 'KeyWord': 'hez'}>, <ChatroomMember: {'MemberList': <ContactList: []>, 'Uin': 0, 'UserName': '@b21ecbc8235b71eab074d8a04e026f32', 'NickName': '秦时馒头', 'AttrStatus': 16877119, 'PYInitial': '', 'PYQuanPin': '', 'RemarkPYInitial': '', 'RemarkPYQuanPin': '', 'MemberStatus': 0, 'DisplayName': '杭州-馒头', 'KeyWord': 'qin'}>, <ChatroomMember: {'MemberList': <ContactList: []>, 'Uin': 0, 'UserName': '@054a921da0fad08a51880cce3e21cf0f', 'NickName': '阿笨猪·吕', 'AttrStatus': 4392935, 'PYInitial': '', 'PYQuanPin': '', 'RemarkPYInitial': '', 'RemarkPYQuanPin': '', 'MemberStatus': 0, 'DisplayName': '西昌-工程师-阿笨猪·吕', 'KeyWord': 'abe'}>, <ChatroomMember: {'MemberList': <ContactList: []>, 'Uin': 0, 'UserName': '@9b723058a5c6d8b625c8fef84c4a24ab', 'NickName': '卢景浩', 'AttrStatus': 33667175, 'PYInitial': '', 'PYQuanPin': '', 'RemarkPYInitial': '', 'RemarkPYQuanPin': '', 'MemberStatus': 0, 'DisplayName': 'archever', 'KeyWord': 'luj'}>, <ChatroomMember: {'MemberList': <ContactList: []>, 'Uin': 0, 'UserName': '@8a01a8100316e90d2c5d2512bf5f47e3', 'NickName': 'luckin', 'AttrStatus': 4424743, 'PYInitial': '', 'PYQuanPin': '', 'RemarkPYInitial': '', 'RemarkPYQuanPin': '', 'MemberStatus': 0, 'DisplayName': '厦门-视觉-Gluckin', 'KeyWord': 'WXY'}>, <ChatroomMember: {'MemberList': <ContactList: []>, 'Uin': 0, 'UserName': '@fb84517d8c47603a3aab7664b273047b', 'NickName': 'kang。', 'AttrStatus': 104807, 'PYInitial': '', 'PYQuanPin': '', 'RemarkPYInitial': '', 'RemarkPYQuanPin': '', 'MemberStatus': 0, 'DisplayName': '', 'KeyWord': 'noe'}>, <ChatroomMember: {'MemberList': <ContactList: []>, 'Uin': 0, 'UserName': '@1e9c97b5cae002a0343226b03e743582', 'NickName': '大喜', 'AttrStatus': 98431, 'PYInitial': '', 'PYQuanPin': '', 'RemarkPYInitial': '', 'RemarkPYQuanPin': '', 'MemberStatus': 0, 'DisplayName': '北京-交互-大喜', 'KeyWord': 'Q51'}>, <ChatroomMember: {'MemberList': <ContactList: []>, 'Uin': 0, 'UserName': '@aa837d45cbf70ff3856e254a7149e5d6', 'NickName': '猴儿亭', 'AttrStatus': 4397415, 'PYInitial': '', 'PYQuanPin': '', 'RemarkPYInitial': '', 'RemarkPYQuanPin': '', 'MemberStatus': 0, 'DisplayName': '珠海-MKT-花火酱', 'KeyWord': 'Chr'}>, <ChatroomMember: {'MemberList': <ContactList: []>, 'Uin': 0, 'UserName': '@e89bf8d8897fb7fdb04f5a5038b36354', 'NickName': '大侠', 'AttrStatus': 108711, 'PYInitial': '', 'PYQuanPin': '', 'RemarkPYInitial': '', 'RemarkPYQuanPin': '', 'MemberStatus': 0, 'DisplayName': '杭州-交互-大侠', 'KeyWord': 'dx9'}>, <ChatroomMember: {'MemberList': <ContactList: []>, 'Uin': 0, 'UserName': '@0af88675329a41b51501156c7151c8957e28a407e508cc1f4e6360274aa7c30c', 'NickName': '胡姬', 'AttrStatus': 103741, 'PYInitial': '', 'PYQuanPin': '', 'RemarkPYInitial': '', 'RemarkPYQuanPin': '', 'MemberStatus': 0, 'DisplayName': '北京-交互-leadwhite', 'KeyWord': ''}>, <ChatroomMember: {'MemberList': <ContactList: []>, 'Uin': 0, 'UserName': '@2629b07187d763adae7b77579ab812bf', 'NickName': 'Milthon海', 'AttrStatus': 104487, 'PYInitial': '', 'PYQuanPin': '', 'RemarkPYInitial': '', 'RemarkPYQuanPin': '', 'MemberStatus': 0, 'DisplayName': '上海-PMD-Milthon', 'KeyWord': 'hai'}>, <ChatroomMember: {'MemberList': <ContactList: []>, 'Uin': 0, 'UserName': '@df8340ddc25d2c81c866c75786861bef', 'NickName': 'JU4ever', 'AttrStatus': 103103, 'PYInitial': '', 'PYQuanPin': '', 'RemarkPYInitial': '', 'RemarkPYQuanPin': '', 'MemberStatus': 0, 'DisplayName': '成都-pm-JU', 'KeyWord': 'JU4'}>, <ChatroomMember: {'MemberList': <ContactList: []>, 'Uin': 0, 'UserName': '@3841cd3e32173ab3354f1ec4409cb339', 'NickName': 'Marx', 'AttrStatus': 135743, 'PYInitial': '', 'PYQuanPin': '', 'RemarkPYInitial': '', 'RemarkPYQuanPin': '', 'MemberStatus': 0, 'DisplayName': '珠海-PPT定制设计师-Marx', 'KeyWord': 'hei'}>, <ChatroomMember: {'MemberList': <ContactList: []>, 'Uin': 0, 'UserName': '@85e55b3458d0bf26f3a0377ab70b47b7', 'NickName': 'Excited!🐶', 'AttrStatus': 33679397, 'PYInitial': '', 'PYQuanPin': '', 'RemarkPYInitial': '', 'RemarkPYQuanPin': '', 'MemberStatus': 0, 'DisplayName': '广州-广工-阿哲', 'KeyWord': 'liw'}>, <ChatroomMember: {'MemberList': <ContactList: []>, 'Uin': 0, 'UserName': '@a46b797bfbdd9d8656ad49f7dd935f5b', 'NickName': '照耀', 'AttrStatus': 235557, 'PYInitial': '', 'PYQuanPin': '', 'RemarkPYInitial': '', 'RemarkPYQuanPin': '', 'MemberStatus': 0, 'DisplayName': '南京-测试-照耀', 'KeyWord': 'zha'}>, <ChatroomMember: {'MemberList': <ContactList: []>, 'Uin': 0, 'UserName': '@f0769daf21365c2f6256d856ca21885d22a67f70489e47439e80f6b985c071bb', 'NickName': 'Emma', 'AttrStatus': 234277, 'PYInitial': '', 'PYQuanPin': '', 'RemarkPYInitial': '', 'RemarkPYQuanPin': '', 'MemberStatus': 0, 'DisplayName': '', 'KeyWord': ''}>, <ChatroomMember: {'MemberList': <ContactList: []>, 'Uin': 0, 'UserName': '@0681c7cc90a4a51978773b976802aba83125df71ec903115cb082e045d54c2c7', 'NickName': 'chokangwai', 'AttrStatus': 67607485, 'PYInitial': '', 'PYQuanPin': '', 'RemarkPYInitial': '', 'RemarkPYQuanPin': '', 'MemberStatus': 0, 'DisplayName': '广州-交互-ryanchoi', 'KeyWord': ''}>, <ChatroomMember: {'MemberList': <ContactList: []>, 'Uin': 0, 'UserName': '@911fd6389294c8cf9ad015d668ebf442', 'NickName': '猴子猫猫', 'AttrStatus': 237567, 'PYInitial': '', 'PYQuanPin': '', 'RemarkPYInitial': '', 'RemarkPYQuanPin': '', 'MemberStatus': 0, 'DisplayName': '杭州-交互-猴子猫猫', 'KeyWord': 'gao'}>, <ChatroomMember: {'MemberList': <ContactList: []>, 'Uin': 0, 'UserName': '@61bb6acc76ffa544bb5603eb741a6aee23fe5332c5a4abcca0eba541ffda473d', 'NickName': '菜头', 'AttrStatus': 102757, 'PYInitial': '', 'PYQuanPin': '', 'RemarkPYInitial': '', 'RemarkPYQuanPin': '', 'MemberStatus': 0, 'DisplayName': '北京-菜头', 'KeyWord': ''}>, <ChatroomMember: {'MemberList': <ContactList: []>, 'Uin': 0, 'UserName': '@d879d84f79de8eb4b5c65f542640f893', 'NickName': '江江江江', 'AttrStatus': 230911, 'PYInitial': '', 'PYQuanPin': '', 'RemarkPYInitial': '', 'RemarkPYQuanPin': '', 'MemberStatus': 0, 'DisplayName': '上海-交互-江江', 'KeyWord': 'Jia'}>, <ChatroomMember: {'MemberList': <ContactList: []>, 'Uin': 0, 'UserName': '@217d3a74ef590a1ff284e49e069f4e1e', 'NickName': 'mengzheng', 'AttrStatus': 71103, 'PYInitial': '', 'PYQuanPin': '', 'RemarkPYInitial': '', 'RemarkPYQuanPin': '', 'MemberStatus': 0, 'DisplayName': '杭州-产品-zheng', 'KeyWord': 'zhe'}>, <ChatroomMember: {'MemberList': <ContactList: []>, 'Uin': 0, 'UserName': '@32d7244438207597c8ca5b6ce2c2fc233856569ee1cb3221356a61a470a2bc78', 'NickName': 'lioulin', 'AttrStatus': 33624161, 'PYInitial': '', 'PYQuanPin': '', 'RemarkPYInitial': '', 'RemarkPYQuanPin': '', 'MemberStatus': 0, 'DisplayName': '深圳-求职-lioulin', 'KeyWord': ''}>, <ChatroomMember: {'MemberList': <ContactList: []>, 'Uin': 0, 'UserName': '@f88658b0d5d1d9dfb57bba3e02a831b2', 'NickName': 'Camille', 'AttrStatus': 250983, 'PYInitial': '', 'PYQuanPin': '', 'RemarkPYInitial': '', 'RemarkPYQuanPin': '', 'MemberStatus': 0, 'DisplayName': '广州－交互－leapane', 'KeyWord': 'yi5'}>, <ChatroomMember: {'MemberList': <ContactList: []>, 'Uin': 0, 'UserName': '@16a0b3a0156c0bbc5708bb11b3beba01', 'NickName': '凉', 'AttrStatus': 102847, 'PYInitial': '', 'PYQuanPin': '', 'RemarkPYInitial': '', 'RemarkPYQuanPin': '', 'MemberStatus': 0, 'DisplayName': '北京-UI-凉ryo', 'KeyWord': 'lim'}>, <ChatroomMember: {'MemberList': <ContactList: []>, 'Uin': 0, 'UserName': '@d400a07331fbfb66b2928ff67c520192', 'NickName': '夏凡凡凡凡🌀', 'AttrStatus': 2147591423, 'PYInitial': '', 'PYQuanPin': '', 'RemarkPYInitial': '', 'RemarkPYQuanPin': '', 'MemberStatus': 0, 'DisplayName': '北京-百度小凡', 'KeyWord': 'xia'}>, <ChatroomMember: {'MemberList': <ContactList: []>, 'Uin': 0, 'UserName': '@ff2eba11e0d08a8a101030572c2f1f09', 'NickName': 'Agen', 'AttrStatus': 123047, 'PYInitial': '', 'PYQuanPin': '', 'RemarkPYInitial': '', 'RemarkPYQuanPin': '', 'MemberStatus': 0, 'DisplayName': '杭州-交互-阿根', 'KeyWord': 'heg'}>, <ChatroomMember: {'MemberList': <ContactList: []>, 'Uin': 0, 'UserName': '@26edfaf39e06f4b551ea8e3e5e948d2cec6f26cd7dc06b883646f2b87a8ba7a4', 'NickName': '尖尾草', 'AttrStatus': 4197, 'PYInitial': '', 'PYQuanPin': '', 'RemarkPYInitial': '', 'RemarkPYQuanPin': '', 'MemberStatus': 0, 'DisplayName': '广州-交互-liguoyan330', 'KeyWord': ''}>, <ChatroomMember: {'MemberList': <ContactList: []>, 'Uin': 0, 'UserName': '@8db9538fc60a88e78b7437ff9d3e630537b5a6ece4a5028d762d8c14f574e558', 'NickName': 'Resin', 'AttrStatus': 65573, 'PYInitial': '', 'PYQuanPin': '', 'RemarkPYInitial': '', 'RemarkPYQuanPin': '', 'MemberStatus': 0, 'DisplayName': '北京-在校-Resin凝脂', 'KeyWord': ''}>, <ChatroomMember: {'MemberList': <ContactList: []>, 'Uin': 0, 'UserName': '@efd1307f5deb8493fb8e1e1d108ec439f37fa04436dcc47b077592d698f32557', 'NickName': '小雪', 'AttrStatus': 233509, 'PYInitial': '', 'PYQuanPin': '', 'RemarkPYInitial': '', 'RemarkPYQuanPin': '', 'MemberStatus': 0, 'DisplayName': '南京-交互- shirely', 'KeyWord': ''}>, <ChatroomMember: {'MemberList': <ContactList: []>, 'Uin': 0, 'UserName': '@138a1b2a65dc29d666cc6c55a0a81a2adfc6662e50a4d473a22ef21a42bae9ec', 'NickName': 'Sue', 'AttrStatus': 67749, 'PYInitial': '', 'PYQuanPin': '', 'RemarkPYInitial': '', 'RemarkPYQuanPin': '', 'MemberStatus': 0, 'DisplayName': '深圳-Sue', 'KeyWord': ''}>, <ChatroomMember: {'MemberList': <ContactList: []>, 'Uin': 0, 'UserName': '@74a623d7761778eb48eab334e869db38', 'NickName': 'Root', 'AttrStatus': 199359, 'PYInitial': '', 'PYQuanPin': '', 'RemarkPYInitial': '', 'RemarkPYQuanPin': '', 'MemberStatus': 0, 'DisplayName': '杭州-产品-白开水', 'KeyWord': 'q64'}>, <ChatroomMember: {'MemberList': <ContactList: []>, 'Uin': 0, 'UserName': '@c2298f698cb5f877ea23ae3d98c9579c', 'NickName': '你看起来很美味', 'AttrStatus': 33656871, 'PYInitial': '', 'PYQuanPin': '', 'RemarkPYInitial': '', 'RemarkPYQuanPin': '', 'MemberStatus': 0, 'DisplayName': '上海-视觉-等待戈多', 'KeyWord': 'che'}>, <ChatroomMember: {'MemberList': <ContactList: []>, 'Uin': 0, 'UserName': '@2748e518933565de7353b679389c96bf9121e4571ec706631c5f1ece80373ed1', 'NickName': 'Shirley胡晓芸', 'AttrStatus': 231525, 'PYInitial': '', 'PYQuanPin': '', 'RemarkPYInitial': '', 'RemarkPYQuanPin': '', 'MemberStatus': 0, 'DisplayName': '厦门-在校-胡晓芸Shirley~', 'KeyWord': ''}>, <ChatroomMember: {'MemberList': <ContactList: []>, 'Uin': 0, 'UserName': '@230df90dcdc39a101883d17ec07993e0', 'NickName': '谭妍', 'AttrStatus': 233509, 'PYInitial': '', 'PYQuanPin': '', 'RemarkPYInitial': '', 'RemarkPYQuanPin': '', 'MemberStatus': 0, 'DisplayName': '南京-UI-tanyan1215', 'KeyWord': 'a27'}>, <ChatroomMember: {'MemberList': <ContactList: []>, 'Uin': 0, 'UserName': '@d40bae93178d205ae143251b36d070d3', 'NickName': '阿泽', 'AttrStatus': 98343, 'PYInitial': '', 'PYQuanPin': '', 'RemarkPYInitial': '', 'RemarkPYQuanPin': '', 'MemberStatus': 0, 'DisplayName': '广州—网页—阿泽', 'KeyWord': 'qin'}>, <ChatroomMember: {'MemberList': <ContactList: []>, 'Uin': 0, 'UserName': '@fc4b350e7b50c0f7a950d9d2070c2f3d5646a089db651339fba258fdf6f28e51', 'NickName': 'Mufly', 'AttrStatus': 50434469, 'PYInitial': '', 'PYQuanPin': '', 'RemarkPYInitial': '', 'RemarkPYQuanPin': '', 'MemberStatus': 0, 'DisplayName': '深圳-交互-Mufly', 'KeyWord': ''}>, <ChatroomMember: {'MemberList': <ContactList: []>, 'Uin': 0, 'UserName': '@5866624abf739450fddbb71e71941514', 'NickName': '金贝贝💊', 'AttrStatus': 213095, 'PYInitial': '', 'PYQuanPin': '', 'RemarkPYInitial': '', 'RemarkPYQuanPin': '', 'MemberStatus': 0, 'DisplayName': '杭州-金贝贝', 'KeyWord': 'jin'}>, <ChatroomMember: {'MemberList': <ContactList: []>, 'Uin': 0, 'UserName': '@55c001355d0cc9a6ae57ca975d74384c', 'NickName': '编号9527', 'AttrStatus': 50471807, 'PYInitial': '', 'PYQuanPin': '', 'RemarkPYInitial': '', 'RemarkPYQuanPin': '', 'MemberStatus': 0, 'DisplayName': '广州-alex', 'KeyWord': 'aur'}>, <ChatroomMember: {'MemberList': <ContactList: []>, 'Uin': 0, 'UserName': '@79e13abfd867df0c86dc3c3bdf0aa822', 'NickName': '糖豆先生', 'AttrStatus': 4296775, 'PYInitial': '', 'PYQuanPin': '', 'RemarkPYInitial': '', 'RemarkPYQuanPin': '', 'MemberStatus': 0, 'DisplayName': '学生-交互-糖豆先生', 'KeyWord': 'TY7'}>, <ChatroomMember: {'MemberList': <ContactList: []>, 'Uin': 0, 'UserName': '@e371c9a0782df313c4c3f309f34a7b7993e6fb74d1edd279806924948befcdd4', 'NickName': '扁舟', 'AttrStatus': 102501, 'PYInitial': '', 'PYQuanPin': '', 'RemarkPYInitial': '', 'RemarkPYQuanPin': '', 'MemberStatus': 0, 'DisplayName': '北京－视觉－木木', 'KeyWord': ''}>, <ChatroomMember: {'MemberList': <ContactList: []>, 'Uin': 0, 'UserName': '@842f3559c95aee8417c1223a38749a3824e74a858ee3b3ca502c7dca7f3a9c0f', 'NickName': '凯特•艾斯吉诶奇', 'AttrStatus': 98341, 'PYInitial': '', 'PYQuanPin': '', 'RemarkPYInitial': '', 'RemarkPYQuanPin': '', 'MemberStatus': 0, 'DisplayName': '上海-待业-catszh', 'KeyWord': ''}>, <ChatroomMember: {'MemberList': <ContactList: []>, 'Uin': 0, 'UserName': '@351ed84d521ddbb05ff97aeded088622', 'NickName': 'Penn', 'AttrStatus': 242023, 'PYInitial': '', 'PYQuanPin': '', 'RemarkPYInitial': '', 'RemarkPYQuanPin': '', 'MemberStatus': 0, 'DisplayName': '深圳-UI-Deeeep', 'KeyWord': 'den'}>, <ChatroomMember: {'MemberList': <ContactList: []>, 'Uin': 0, 'UserName': '@6b40c4dcdabf4f60cd64470f350cc8d3', 'NickName': 'Tan', 'AttrStatus': 33762813, 'PYInitial': '', 'PYQuanPin': '', 'RemarkPYInitial': '', 'RemarkPYQuanPin': '', 'MemberStatus': 0, 'DisplayName': '', 'KeyWord': 'Tan'}>, <ChatroomMember: {'MemberList': <ContactList: []>, 'Uin': 0, 'UserName': '@3345c4bdcffb1e6781dc999da4d3a198', 'NickName': 'roywen', 'AttrStatus': 33636839, 'PYInitial': '', 'PYQuanPin': '', 'RemarkPYInitial': '', 'RemarkPYQuanPin': '', 'MemberStatus': 0, 'DisplayName': '成都-ui-roywen', 'KeyWord': 'wen'}>, <ChatroomMember: {'MemberList': <ContactList: []>, 'Uin': 0, 'UserName': '@2e0390200359fe1d45644edc7cdcd124', 'NickName': 'J', 'AttrStatus': 2147719295, 'PYInitial': '', 'PYQuanPin': '', 'RemarkPYInitial': '', 'RemarkPYQuanPin': '', 'MemberStatus': 0, 'DisplayName': '杭州-运营-不吃蘑菇', 'KeyWord': 'jin'}>, <ChatroomMember: {'MemberList': <ContactList: []>, 'Uin': 0, 'UserName': '@8313f6bc9121d1c434c68dc2e6cfc1721ebf32a14a3d9c3ad01dfe89487f2338', 'NickName': '王小花', 'AttrStatus': 103527, 'PYInitial': '', 'PYQuanPin': '', 'RemarkPYInitial': '', 'RemarkPYQuanPin': '', 'MemberStatus': 0, 'DisplayName': '上海-交互-王小花', 'KeyWord': 'wan'}>, <ChatroomMember: {'MemberList': <ContactList: []>, 'Uin': 0, 'UserName': '@4785947a77d59986b80d7b12e28d6567', 'NickName': '火折子', 'AttrStatus': 33675967, 'PYInitial': '', 'PYQuanPin': '', 'RemarkPYInitial': '', 'RemarkPYQuanPin': '', 'MemberStatus': 0, 'DisplayName': '天津-学生-火折子', 'KeyWord': 'man'}>, <ChatroomMember: {'MemberList': <ContactList: []>, 'Uin': 0, 'UserName': '@646b332983885d3db87a46e9f81a7832', 'NickName': '项菁', 'AttrStatus': 105511, 'PYInitial': '', 'PYQuanPin': '', 'RemarkPYInitial': '', 'RemarkPYQuanPin': '', 'MemberStatus': 0, 'DisplayName': '杭州-平面-八个爪', 'KeyWord': 'Ivy'}>, <ChatroomMember: {'MemberList': <ContactList: []>, 'Uin': 0, 'UserName': '@3efdbe761020f50ff3480c5efcdad140', 'NickName': '局外人', 'AttrStatus': 33660991, 'PYInitial': '', 'PYQuanPin': '', 'RemarkPYInitial': '', 'RemarkPYQuanPin': '', 'MemberStatus': 0, 'DisplayName': '杭州-产品-蓝羽殇', 'KeyWord': 'l70'}>, <ChatroomMember: {'MemberList': <ContactList: []>, 'Uin': 0, 'UserName': '@100291ed5d85342398004c059fe3da55', 'NickName': '王奋斗', 'AttrStatus': 109605, 'PYInitial': '', 'PYQuanPin': '', 'RemarkPYInitial': '', 'RemarkPYQuanPin': '', 'MemberStatus': 0, 'DisplayName': '杭州-产品-痴熊', 'KeyWord': 'wrq'}>, <ChatroomMember: {'MemberList': <ContactList: []>, 'Uin': 0, 'UserName': '@4e09a85f7fa48da8daf00bdb3631aa03', 'NickName': '星星XD', 'AttrStatus': 67211199, 'PYInitial': '', 'PYQuanPin': '', 'RemarkPYInitial': '', 'RemarkPYQuanPin': '', 'MemberStatus': 0, 'DisplayName': '海口-视觉-阿生', 'KeyWord': 'fan'}>, <ChatroomMember: {'MemberList': <ContactList: []>, 'Uin': 0, 'UserName': '@b425f331e97a4c2f2517104acd033f47786e9c4597b885c6a3cac63f589b0684', 'NickName': '高英达', 'AttrStatus': 98493, 'PYInitial': '', 'PYQuanPin': '', 'RemarkPYInitial': '', 'RemarkPYQuanPin': '', 'MemberStatus': 0, 'DisplayName': '北京-考研-达子', 'KeyWord': ''}>, <ChatroomMember: {'MemberList': <ContactList: []>, 'Uin': 0, 'UserName': '@6d2ad97311da336a9d3250cb2f34503a', 'NickName': '惠子🐳.psd', 'AttrStatus': 199679, 'PYInitial': '', 'PYQuanPin': '', 'RemarkPYInitial': '', 'RemarkPYQuanPin': '', 'MemberStatus': 0, 'DisplayName': '合肥_产品交互_Miao妮可', 'KeyWord': 'hui'}>, <ChatroomMember: {'MemberList': <ContactList: []>, 'Uin': 0, 'UserName': '@bcb4178a22dfc38db5e54061d0e92c09b4f2a1d442c3105fa9a197abc02465e1', 'NickName': 'henan', 'AttrStatus': 114689, 'PYInitial': '', 'PYQuanPin': '', 'RemarkPYInitial': '', 'RemarkPYQuanPin': '', 'MemberStatus': 0, 'DisplayName': '深圳-视觉-Ubuay', 'KeyWord': ''}>, <ChatroomMember: {'MemberList': <ContactList: []>, 'Uin': 0, 'UserName': '@08594510e45dfb2dcfaf1b0c26ce31d42cab4a499b574e4957cde4660e393685', 'NickName': 'saga🐶jeanne', 'AttrStatus': 2147582053, 'PYInitial': '', 'PYQuanPin': '', 'RemarkPYInitial': '', 'RemarkPYQuanPin': '', 'MemberStatus': 0, 'DisplayName': '', 'KeyWord': ''}>, <ChatroomMember: {'MemberList': <ContactList: []>, 'Uin': 0, 'UserName': '@5e61b1724028ee896b7a74740ad80546', 'NickName': '黄小明', 'AttrStatus': 99871, 'PYInitial': '', 'PYQuanPin': '', 'RemarkPYInitial': '', 'RemarkPYQuanPin': '', 'MemberStatus': 0, 'DisplayName': '厦门-产品-黄小明', 'KeyWord': 'sma'}>, <ChatroomMember: {'MemberList': <ContactList: []>, 'Uin': 0, 'UserName': '@5938056861ec158325d74a2f388f6cf9', 'NickName': '懒萌萌🌀', 'AttrStatus': 235623, 'PYInitial': '', 'PYQuanPin': '', 'RemarkPYInitial': '', 'RemarkPYQuanPin': '', 'MemberStatus': 0, 'DisplayName': '深圳-交互-懒萌萌🌀', 'KeyWord': 'sun'}>, <ChatroomMember: {'MemberList': <ContactList: []>, 'Uin': 0, 'UserName': '@c7892951d6a1e0435ca8277ae29b6dfa', 'NickName': 'AragornY', 'AttrStatus': 67217511, 'PYInitial': '', 'PYQuanPin': '', 'RemarkPYInitial': '', 'RemarkPYQuanPin': '', 'MemberStatus': 0, 'DisplayName': '上海-开发-AragornYang', 'KeyWord': 'ara'}>, <ChatroomMember: {'MemberList': <ContactList: []>, 'Uin': 0, 'UserName': '@d7e2f50d413a6408ce741c296a64f595632e8b46e02535de20f42fed68d74da1', 'NickName': '冮余始', 'AttrStatus': 2147618853, 'PYInitial': '', 'PYQuanPin': '', 'RemarkPYInitial': '', 'RemarkPYQuanPin': '', 'MemberStatus': 0, 'DisplayName': '俞妍丽', 'KeyWord': ''}>, <ChatroomMember: {'MemberList': <ContactList: []>, 'Uin': 0, 'UserName': '@c96c6afb6d911ae9d9eac93289c2bdc707bf2cfe8f3850b2236e68fbc2d3ca2d', 'NickName': '夜空', 'AttrStatus': 231973, 'PYInitial': '', 'PYQuanPin': '', 'RemarkPYInitial': '', 'RemarkPYQuanPin': '', 'MemberStatus': 0, 'DisplayName': '杭州_产品_ sundaylynn', 'KeyWord': ''}>, <ChatroomMember: {'MemberList': <ContactList: []>, 'Uin': 0, 'UserName': '@43fe003382a1575574de521e99897441ed78c346fadf934390d11cacd5c96986', 'NickName': 'すす', 'AttrStatus': 102437, 'PYInitial': '', 'PYQuanPin': '', 'RemarkPYInitial': '', 'RemarkPYQuanPin': '', 'MemberStatus': 0, 'DisplayName': '北京-UI-四四404', 'KeyWord': ''}>, <ChatroomMember: {'MemberList': <ContactList: []>, 'Uin': 0, 'UserName': '@d9e7c844dfbb6fdd79b313c280f5bd5c', 'NickName': 'Bosco', 'AttrStatus': 105405, 'PYInitial': '', 'PYQuanPin': '', 'RemarkPYInitial': '', 'RemarkPYQuanPin': '', 'MemberStatus': 0, 'DisplayName': '杭州-交互-Bosco', 'KeyWord': 'Bos'}>, <ChatroomMember: {'MemberList': <ContactList: []>, 'Uin': 0, 'UserName': '@64a62773267b5b5caa9b287981cb96c0e2b5656cea4429c90ba2d2fe58ad58b7', 'NickName': 'du', 'AttrStatus': 2147584125, 'PYInitial': '', 'PYQuanPin': '', 'RemarkPYInitial': '', 'RemarkPYQuanPin': '', 'MemberStatus': 0, 'DisplayName': '武汉-交互-小du1', 'KeyWord': ''}>, <ChatroomMember: {'MemberList': <ContactList: []>, 'Uin': 0, 'UserName': '@4fb03689c6a0a250d89ecd0a2c55d594', 'NickName': '小莲🍬', 'AttrStatus': 2147583079, 'PYInitial': '', 'PYQuanPin': '', 'RemarkPYInitial': '', 'RemarkPYQuanPin': '', 'MemberStatus': 0, 'DisplayName': '广州-交互-Amy_zou', 'KeyWord': 'Amy'}>, <ChatroomMember: {'MemberList': <ContactList: []>, 'Uin': 0, 'UserName': '@1bc6f62c900b68d4419a4f726e0f2c4d1e6bffd9da50d1e8f433f6920bbbbc6b', 'NickName': '押押小尾六🌸', 'AttrStatus': 235877, 'PYInitial': '', 'PYQuanPin': '', 'RemarkPYInitial': '', 'RemarkPYQuanPin': '', 'MemberStatus': 0, 'DisplayName': '上海，交互，小六', 'KeyWord': ''}>, <ChatroomMember: {'MemberList': <ContactList: []>, 'Uin': 0, 'UserName': '@0cbc3ddd83605844533c2cd900f6a396ee9868607c9eb139b1d8c05945ba0ca1', 'NickName': 'Daruma', 'AttrStatus': 136063, 'PYInitial': '', 'PYQuanPin': '', 'RemarkPYInitial': '', 'RemarkPYQuanPin': '', 'MemberStatus': 0, 'DisplayName': '', 'KeyWord': ''}>, <ChatroomMember: {'MemberList': <ContactList: []>, 'Uin': 0, 'UserName': '@609a80cfb0b4a100675efcefe2b4667c', 'NickName': '梦梦', 'AttrStatus': 67601191, 'PYInitial': '', 'PYQuanPin': '', 'RemarkPYInitial': '', 'RemarkPYQuanPin': '', 'MemberStatus': 0, 'DisplayName': '福州-待业-梦梦', 'KeyWord': 'gtx'}>, <ChatroomMember: {'MemberList': <ContactList: []>, 'Uin': 0, 'UserName': '@abddc67c7131085ff3d6aa4eccdee31da010c112757eccabab0c68922f713860', 'NickName': '暖暖', 'AttrStatus': 33656445, 'PYInitial': '', 'PYQuanPin': '', 'RemarkPYInitial': '', 'RemarkPYQuanPin': '', 'MemberStatus': 0, 'DisplayName': '福州-Gwerz', 'KeyWord': ''}>, <ChatroomMember: {'MemberList': <ContactList: []>, 'Uin': 0, 'UserName': '@88f8261284a1af911dcc598dce750c10293536123582b20950f7ba536240926a', 'NickName': 'Sean.JX', 'AttrStatus': 67471293, 'PYInitial': '', 'PYQuanPin': '', 'RemarkPYInitial': '', 'RemarkPYQuanPin': '', 'MemberStatus': 0, 'DisplayName': '武汉-PM-Sean.JX', 'KeyWord': ''}>, <ChatroomMember: {'MemberList': <ContactList: []>, 'Uin': 0, 'UserName': '@7e79f9f464dbce408f8cd18d603a4ca8', 'NickName': '荣威~小曾18929333690', 'AttrStatus': 102503, 'PYInitial': '', 'PYQuanPin': '', 'RemarkPYInitial': '', 'RemarkPYQuanPin': '', 'MemberStatus': 0, 'DisplayName': '深圳，待业，Jovie•Zeng', 'KeyWord': 'zzw'}>, <ChatroomMember: {'MemberList': <ContactList: []>, 'Uin': 0, 'UserName': '@6e2bca316cb84914e558f2a5eacc964231850c383954a7a16a681155edcef654', 'NickName': 'Jeremiah', 'AttrStatus': 33784831, 'PYInitial': '', 'PYQuanPin': '', 'RemarkPYInitial': '', 'RemarkPYQuanPin': '', 'MemberStatus': 0, 'DisplayName': '杭州-在校-沛洋', 'KeyWord': 'zho'}>, <ChatroomMember: {'MemberList': <ContactList: []>, 'Uin': 0, 'UserName': '@dd53d225cb12b90c55ff8cd431ad7e94', 'NickName': 'Joann', 'AttrStatus': 33805181, 'PYInitial': '', 'PYQuanPin': '', 'RemarkPYInitial': '', 'RemarkPYQuanPin': '', 'MemberStatus': 0, 'DisplayName': '', 'KeyWord': 'lyn'}>, <ChatroomMember: {'MemberList': <ContactList: []>, 'Uin': 0, 'UserName': '@550d81347ee26147d15c4c00fa6167a3', 'NickName': '郑亦莹', 'AttrStatus': 2147719653, 'PYInitial': '', 'PYQuanPin': '', 'RemarkPYInitial': '', 'RemarkPYQuanPin': '', 'MemberStatus': 0, 'DisplayName': '杭州-交互-我的名字叫YY', 'KeyWord': 'zhe'}>, <ChatroomMember: {'MemberList': <ContactList: []>, 'Uin': 0, 'UserName': '@b16d233915914cfa02916c5a12083a9cec87edb9d2af764ac744bacc95069db8', 'NickName': 'magic～wind(立夫)', 'AttrStatus': 33655141, 'PYInitial': '', 'PYQuanPin': '', 'RemarkPYInitial': '', 'RemarkPYQuanPin': '', 'MemberStatus': 0, 'DisplayName': '北京～交互～leo', 'KeyWord': ''}>, <ChatroomMember: {'MemberList': <ContactList: []>, 'Uin': 0, 'UserName': '@b86142f3d1aa5958aeb3b5e40dcde7f5', 'NickName': '耐kE先生💱🇬🇧', 'AttrStatus': 328637, 'PYInitial': '', 'PYQuanPin': '', 'RemarkPYInitial': '', 'RemarkPYQuanPin': '', 'MemberStatus': 0, 'DisplayName': '广州-PM-王耐', 'KeyWord': 'nik'}>, <ChatroomMember: {'MemberList': <ContactList: []>, 'Uin': 0, 'UserName': '@b5508d148bb5e7fea72eba4d913f6b24', 'NickName': 'Nina🐈', 'AttrStatus': 100415, 'PYInitial': '', 'PYQuanPin': '', 'RemarkPYInitial': '', 'RemarkPYQuanPin': '', 'MemberStatus': 0, 'DisplayName': '深圳-交互-Nina', 'KeyWord': 'fay'}>, <ChatroomMember: {'MemberList': <ContactList: []>, 'Uin': 0, 'UserName': '@b716dd112fc9f8bec0c7daf7082d3e852d7452263fab31736e2cb451c4005221', 'NickName': '佳康', 'AttrStatus': 102437, 'PYInitial': '', 'PYQuanPin': '', 'RemarkPYInitial': '', 'RemarkPYQuanPin': '', 'MemberStatus': 0, 'DisplayName': '', 'KeyWord': ''}>, <ChatroomMember: {'MemberList': <ContactList: []>, 'Uin': 0, 'UserName': '@60230b970d2c105da56dfbd879902457', 'NickName': '山', 'AttrStatus': 100863, 'PYInitial': '', 'PYQuanPin': '', 'RemarkPYInitial': '', 'RemarkPYQuanPin': '', 'MemberStatus': 0, 'DisplayName': '北京-产品-月亮不是圆的', 'KeyWord': 'shy'}>, <ChatroomMember: {'MemberList': <ContactList: []>, 'Uin': 0, 'UserName': '@e579e4d72277b2a2a1e24e6b364e7b8cbcb7f47a574f63c81ebf46257b17a9c8', 'NickName': 'Utopia', 'AttrStatus': 103037, 'PYInitial': '', 'PYQuanPin': '', 'RemarkPYInitial': '', 'RemarkPYQuanPin': '', 'MemberStatus': 0, 'DisplayName': '深圳-UI-东方明珠', 'KeyWord': ''}>, <ChatroomMember: {'MemberList': <ContactList: []>, 'Uin': 0, 'UserName': '@643e26fd763dd405a3fc66715bd5030d', 'NickName': 'Tina', 'AttrStatus': 99751, 'PYInitial': '', 'PYQuanPin': '', 'RemarkPYInitial': '', 'RemarkPYQuanPin': '', 'MemberStatus': 0, 'DisplayName': '杭州-交互-小牙美', 'KeyWord': 'But'}>, <ChatroomMember: {'MemberList': <ContactList: []>, 'Uin': 0, 'UserName': '@ad0eda9b891a6ed57719393c9981f399ceb683dbf4e89d8e7df4395d6c6bda2d', 'NickName': 'Destiny', 'AttrStatus': 197439, 'PYInitial': '', 'PYQuanPin': '', 'RemarkPYInitial': '', 'RemarkPYQuanPin': '', 'MemberStatus': 0, 'DisplayName': '厦门-交互-澈桑', 'KeyWord': ''}>, <ChatroomMember: {'MemberList': <ContactList: []>, 'Uin': 0, 'UserName': '@efb46b31a1ed9ad5726fce46f86bba95', 'NickName': '青槿', 'AttrStatus': 37829543, 'PYInitial': '', 'PYQuanPin': '', 'RemarkPYInitial': '', 'RemarkPYQuanPin': '', 'MemberStatus': 0, 'DisplayName': '', 'KeyWord': 'sev'}>, <ChatroomMember: {'MemberList': <ContactList: []>, 'Uin': 0, 'UserName': '@913afbfd2400889ed834e636e643d2602039dedc0ea63e0ed5e61aee6ad94835', 'NickName': '杨超 Sundy', 'AttrStatus': 245925, 'PYInitial': '', 'PYQuanPin': '', 'RemarkPYInitial': '', 'RemarkPYQuanPin': '', 'MemberStatus': 0, 'DisplayName': '杭州 交互 Sundy', 'KeyWord': ''}>, <ChatroomMember: {'MemberList': <ContactList: []>, 'Uin': 0, 'UserName': '@56c4020c9bea4f6a09b94aa6d3379caaad37ab2632c071b868d5c9cc81a44c18', 'NickName': '逐梦之心', 'AttrStatus': 37982309, 'PYInitial': '', 'PYQuanPin': '', 'RemarkPYInitial': '', 'RemarkPYQuanPin': '', 'MemberStatus': 0, 'DisplayName': '杭州-交互-逐梦之心', 'KeyWord': ''}>, <ChatroomMember: {'MemberList': <ContactList: []>, 'Uin': 0, 'UserName': '@96e5486f897883a268c349b74009c3b8', 'NickName': '小狸玄', 'AttrStatus': 2147583999, 'PYInitial': '', 'PYQuanPin': '', 'RemarkPYInitial': '', 'RemarkPYQuanPin': '', 'MemberStatus': 0, 'DisplayName': '杭州-PM-海狸', 'KeyWord': 'her'}>, <ChatroomMember: {'MemberList': <ContactList: []>, 'Uin': 0, 'UserName': '@45053340fdec6eb9094827fff4d8f87e604fce1b05379c2f9ea878fd669e5af5', 'NickName': 'richlerlee', 'AttrStatus': 102437, 'PYInitial': '', 'PYQuanPin': '', 'RemarkPYInitial': '', 'RemarkPYQuanPin': '', 'MemberStatus': 0, 'DisplayName': '深圳-UE-李无花', 'KeyWord': ''}>, <ChatroomMember: {'MemberList': <ContactList: []>, 'Uin': 0, 'UserName': '@60d897a04b5ed99c5680a06c836bac82', 'NickName': '孙鹏程', 'AttrStatus': 106599, 'PYInitial': '', 'PYQuanPin': '', 'RemarkPYInitial': '', 'RemarkPYQuanPin': '', 'MemberStatus': 0, 'DisplayName': '', 'KeyWord': 'leo'}>, <ChatroomMember: {'MemberList': <ContactList: []>, 'Uin': 0, 'UserName': '@b769fcec9b402eab696bac548405cd07122d1701d01af79e240db49ae30868b0', 'NickName': 'OK.Fearless', 'AttrStatus': 33655077, 'PYInitial': '', 'PYQuanPin': '', 'RemarkPYInitial': '', 'RemarkPYQuanPin': '', 'MemberStatus': 0, 'DisplayName': '', 'KeyWord': ''}>, <ChatroomMember: {'MemberList': <ContactList: []>, 'Uin': 0, 'UserName': '@a89dbebda8e7f805f4c2ebbf07215952', 'NickName': '给我一张二向箔', 'AttrStatus': 2147583615, 'PYInitial': '', 'PYQuanPin': '', 'RemarkPYInitial': '', 'RemarkPYQuanPin': '', 'MemberStatus': 0, 'DisplayName': '杭州-交互-echo', 'KeyWord': 'ech'}>, <ChatroomMember: {'MemberList': <ContactList: []>, 'Uin': 0, 'UserName': '@0c9f8a6eea5ab3d160762964320063c572787899f68f89052aa3b3c2986a5c73', 'NickName': 'cheng', 'AttrStatus': 2151911525, 'PYInitial': '', 'PYQuanPin': '', 'RemarkPYInitial': '', 'RemarkPYQuanPin': '', 'MemberStatus': 0, 'DisplayName': '广州-产品，小兵', 'KeyWord': ''}>, <ChatroomMember: {'MemberList': <ContactList: []>, 'Uin': 0, 'UserName': '@3a61cd27172dcdf6c8aa13d267655a36', 'NickName': 'Lee', 'AttrStatus': 102439, 'PYInitial': '', 'PYQuanPin': '', 'RemarkPYInitial': '', 'RemarkPYQuanPin': '', 'MemberStatus': 0, 'DisplayName': '深圳＿交互＿leo', 'KeyWord': 'lwt'}>, <ChatroomMember: {'MemberList': <ContactList: []>, 'Uin': 0, 'UserName': '@c7dd7eb62dbdac2e0dc943b2a54fc2f22791e96297f7350498cdcac41c2e297d', 'NickName': '奔跑的王小青', 'AttrStatus': 233957, 'PYInitial': '', 'PYQuanPin': '', 'RemarkPYInitial': '', 'RemarkPYQuanPin': '', 'MemberStatus': 0, 'DisplayName': '', 'KeyWord': ''}>, <ChatroomMember: {'MemberList': <ContactList: []>, 'Uin': 0, 'UserName': '@6344ded34c0442554db4222af98f8153179b62afcfe217640cfac73ad91225be', 'NickName': 'Alice ', 'AttrStatus': 103293, 'PYInitial': '', 'PYQuanPin': '', 'RemarkPYInitial': '', 'RemarkPYQuanPin': '', 'MemberStatus': 0, 'DisplayName': '西安-UI-Alice', 'KeyWord': ''}>, <ChatroomMember: {'MemberList': <ContactList: []>, 'Uin': 0, 'UserName': '@471f9f83a12a3328c2ddee9eca9e7ddf', 'NickName': '舰长大人', 'AttrStatus': 99239, 'PYInitial': '', 'PYQuanPin': '', 'RemarkPYInitial': '', 'RemarkPYQuanPin': '', 'MemberStatus': 0, 'DisplayName': '', 'KeyWord': 'ten'}>, <ChatroomMember: {'MemberList': <ContactList: []>, 'Uin': 0, 'UserName': '@22a5abc3c1b79d748c448a327fdb8e7559f0704eed47d56a13bd5f0551ef02b1', 'NickName': 'Daisy', 'AttrStatus': 104125, 'PYInitial': '', 'PYQuanPin': '', 'RemarkPYInitial': '', 'RemarkPYQuanPin': '', 'MemberStatus': 0, 'DisplayName': '北京-产品-lotus', 'KeyWord': ''}>, <ChatroomMember: {'MemberList': <ContactList: []>, 'Uin': 0, 'UserName': '@39f81ef0033c6c20373fa90612bc680c', 'NickName': 'ziqinnnnnnnn💓', 'AttrStatus': 229823, 'PYInitial': '', 'PYQuanPin': '', 'RemarkPYInitial': '', 'RemarkPYQuanPin': '', 'MemberStatus': 0, 'DisplayName': '杭州-UI-芹菜', 'KeyWord': 'fzi'}>, <ChatroomMember: {'MemberList': <ContactList: []>, 'Uin': 0, 'UserName': '@42bf0a417f96f46d8c660b3564136c47', 'NickName': 'C文丽', 'AttrStatus': 104631, 'PYInitial': '', 'PYQuanPin': '', 'RemarkPYInitial': '', 'RemarkPYQuanPin': '', 'MemberStatus': 0, 'DisplayName': '杭州-设计-文丽', 'KeyWord': 'che'}>, <ChatroomMember: {'MemberList': <ContactList: []>, 'Uin': 0, 'UserName': '@7b22cf0899462c42844250ac52d41749b8bb405915db768ef85c70bd2ff0df56', 'NickName': '💋Yennis-美辰', 'AttrStatus': 33787133, 'PYInitial': '', 'PYQuanPin': '', 'RemarkPYInitial': '', 'RemarkPYQuanPin': '', 'MemberStatus': 0, 'DisplayName': '广州-运营-Yennis', 'KeyWord': ''}>, <ChatroomMember: {'MemberList': <ContactList: []>, 'Uin': 0, 'UserName': '@66d51475ea0e9b075545fbec119ec2655663e42966cada73d98b61a8df02c3f4', 'NickName': '阿～鑫', 'AttrStatus': 4197, 'PYInitial': '', 'PYQuanPin': '', 'RemarkPYInitial': '', 'RemarkPYQuanPin': '', 'MemberStatus': 0, 'DisplayName': '杭州-产品-阿～鑫', 'KeyWord': ''}>, <ChatroomMember: {'MemberList': <ContactList: []>, 'Uin': 0, 'UserName': '@c255342e58a3eca73c3b4d25bd6e833ea43b01367b63e10c0420fe65c71261ba', 'NickName': 'Moledy心夜', 'AttrStatus': 233509, 'PYInitial': '', 'PYQuanPin': '', 'RemarkPYInitial': '', 'RemarkPYQuanPin': '', 'MemberStatus': 0, 'DisplayName': '', 'KeyWord': ''}>, <ChatroomMember: {'MemberList': <ContactList: []>, 'Uin': 0, 'UserName': '@d71a9e584d421b536e668a5549459b6671a85e7ff45ff62f7106f9dd03271b63', 'NickName': '王魏东', 'AttrStatus': 33665125, 'PYInitial': '', 'PYQuanPin': '', 'RemarkPYInitial': '', 'RemarkPYQuanPin': '', 'MemberStatus': 0, 'DisplayName': '荆州-学生(心理)-包子不好吃', 'KeyWord': ''}>]>, 'Uin': 0, 'UserName': '@@3f60e9f5e59e38ac569e4d2d5d65a552e63d268d22e9a8d01950cb2e9013f135', 'NickName': '网易交互初代面基群', 'HeadImgUrl': '/cgi-bin/mmwebwx-bin/webwxgetheadimg?seq=691876015&username=@@3f60e9f5e59e38ac569e4d2d5d65a552e63d268d22e9a8d01950cb2e9013f135&skey=', 'ContactFlag': 2, 'MemberCount': 102, 'RemarkName': '', 'HideInputBarFlag': 0, 'Sex': 0, 'Signature': '', 'VerifyFlag': 0, 'OwnerUin': 0, 'PYInitial': 'WYJHCDMJQ', 'PYQuanPin': 'wangyijiaohuchudaimianjiqun', 'RemarkPYInitial': '', 'RemarkPYQuanPin': '', 'StarFriend': 0, 'AppAccountFlag': 0, 'Statues': 0, 'AttrStatus': 0, 'Province': '', 'City': '', 'Alias': '', 'SnsFlag': 0, 'UniFriend': 0, 'DisplayName': '', 'ChatRoomId': 0, 'KeyWord': '', 'EncryChatRoomId': '@798484d9c8a20e1029015da71af4fee6', 'IsOwner': 0, 'IsAdmin': None, 'Self': <ChatroomMember: {'MemberList': <ContactList: []>, 'Uin': 0, 'UserName': '@85e55b3458d0bf26f3a0377ab70b47b7', 'NickName': 'Excited!🐶', 'AttrStatus': 33679397, 'PYInitial': '', 'PYQuanPin': '', 'RemarkPYInitial': '', 'RemarkPYQuanPin': '', 'MemberStatus': 0, 'DisplayName': '广州-广工-阿哲', 'KeyWord': 'liw'}>}>,\n",
       " <Chatroom: {'MemberList': <ContactList: []>, 'Uin': 0, 'UserName': '@@a1cd6531ed2b5a095eb9ee07c478c33088ff424bda721daee284e790930d0434', 'NickName': '思影2', 'HeadImgUrl': '/cgi-bin/mmwebwx-bin/webwxgetheadimg?seq=0&username=@@a1cd6531ed2b5a095eb9ee07c478c33088ff424bda721daee284e790930d0434&skey=@crypt_e5fa4716_c7ecc4b9880fc662d28c35f0c1cc5ddd', 'ContactFlag': 0, 'MemberCount': 495, 'RemarkName': '', 'HideInputBarFlag': 0, 'Sex': 0, 'Signature': '', 'VerifyFlag': 0, 'OwnerUin': 0, 'PYInitial': '', 'PYQuanPin': '', 'RemarkPYInitial': '', 'RemarkPYQuanPin': '', 'StarFriend': 0, 'AppAccountFlag': 0, 'Statues': 0, 'AttrStatus': 0, 'Province': '', 'City': '', 'Alias': '', 'SnsFlag': 0, 'UniFriend': 0, 'DisplayName': '', 'ChatRoomId': 0, 'KeyWord': '', 'EncryChatRoomId': '', 'IsOwner': 0, 'IsAdmin': None, 'Self': <User: {'MemberList': <ContactList: []>, 'UserName': '@85e55b3458d0bf26f3a0377ab70b47b7', 'City': '', 'DisplayName': '', 'PYQuanPin': '', 'RemarkPYInitial': '', 'Province': '', 'KeyWord': '', 'RemarkName': '', 'PYInitial': '', 'EncryChatRoomId': '', 'Alias': '', 'Signature': '想多做些微小的工作，谢谢大家！', 'NickName': 'Excited!🐶', 'RemarkPYQuanPin': '', 'HeadImgUrl': '/cgi-bin/mmwebwx-bin/webwxgeticon?seq=1689139453&username=@85e55b3458d0bf26f3a0377ab70b47b7&skey=@crypt_e5fa4716_c7ecc4b9880fc662d28c35f0c1cc5ddd', 'UniFriend': 0, 'Sex': 1, 'AppAccountFlag': 0, 'VerifyFlag': 0, 'ChatRoomId': 0, 'HideInputBarFlag': 0, 'AttrStatus': 0, 'SnsFlag': 145, 'MemberCount': 0, 'OwnerUin': 0, 'ContactFlag': 0, 'Uin': 113102200, 'StarFriend': 0, 'Statues': 0, 'WebWxPluginSwitch': 0, 'HeadImgFlag': 1}>}>]"
      ]
     },
     "execution_count": 53,
     "metadata": {},
     "output_type": "execute_result"
    }
   ],
   "source": [
    "chats = itchat.get_chatrooms(update=True)[1:4]\n",
    "chats"
   ]
  },
  {
   "cell_type": "code",
   "execution_count": 51,
   "metadata": {},
   "outputs": [
    {
     "ename": "AttributeError",
     "evalue": "'list' object has no attribute 'values'",
     "output_type": "error",
     "traceback": [
      "\u001b[1;31m---------------------------------------------------------------------------\u001b[0m",
      "\u001b[1;31mAttributeError\u001b[0m                            Traceback (most recent call last)",
      "\u001b[1;32m<ipython-input-51-2c3dfa777bd0>\u001b[0m in \u001b[0;36m<module>\u001b[1;34m()\u001b[0m\n\u001b[0;32m      4\u001b[0m     \u001b[0mwriter\u001b[0m\u001b[1;33m.\u001b[0m\u001b[0mwriterow\u001b[0m\u001b[1;33m(\u001b[0m\u001b[0mchats\u001b[0m\u001b[1;33m[\u001b[0m\u001b[1;36m0\u001b[0m\u001b[1;33m]\u001b[0m\u001b[1;33m.\u001b[0m\u001b[0mkeys\u001b[0m\u001b[1;33m(\u001b[0m\u001b[1;33m)\u001b[0m\u001b[1;33m)\u001b[0m\u001b[1;33m\u001b[0m\u001b[0m\n\u001b[0;32m      5\u001b[0m     \u001b[1;32mfor\u001b[0m \u001b[0mchat\u001b[0m \u001b[1;32min\u001b[0m \u001b[0mchats\u001b[0m\u001b[1;33m:\u001b[0m\u001b[1;33m\u001b[0m\u001b[0m\n\u001b[1;32m----> 6\u001b[1;33m         \u001b[0mwriter\u001b[0m\u001b[1;33m.\u001b[0m\u001b[0mwriterow\u001b[0m\u001b[1;33m(\u001b[0m\u001b[0mchats\u001b[0m\u001b[1;33m.\u001b[0m\u001b[0mvalues\u001b[0m\u001b[1;33m(\u001b[0m\u001b[1;33m)\u001b[0m\u001b[1;33m)\u001b[0m\u001b[1;33m\u001b[0m\u001b[0m\n\u001b[0m\u001b[0;32m      7\u001b[0m \u001b[0mf\u001b[0m\u001b[1;33m.\u001b[0m\u001b[0mclose\u001b[0m\u001b[1;33m(\u001b[0m\u001b[1;33m)\u001b[0m\u001b[1;33m\u001b[0m\u001b[0m\n",
      "\u001b[1;31mAttributeError\u001b[0m: 'list' object has no attribute 'values'"
     ]
    }
   ],
   "source": [
    "chats = itchat.get_chatrooms(update=True)[1:]\n",
    "with open(\"chats.csv\", 'w', newline='', encoding='utf-8') as f:    #newline防止空行\n",
    "    writer = csv.writer(f)\n",
    "    writer.writerow(chats[0].keys())\n",
    "    for chat in chats:\n",
    "        writer.writerow(chats.values())    \n",
    "f.close()"
   ]
  },
  {
   "cell_type": "markdown",
   "metadata": {},
   "source": [
    "## 退出登录"
   ]
  },
  {
   "cell_type": "code",
   "execution_count": 4,
   "metadata": {},
   "outputs": [
    {
     "name": "stderr",
     "output_type": "stream",
     "text": [
      "LOG OUT!\n"
     ]
    },
    {
     "data": {
      "text/plain": [
       "<ItchatReturnValue: {'BaseResponse': {'ErrMsg': '请求成功', 'Ret': 0, 'RawMsg': 'logout successfully.'}}>"
      ]
     },
     "execution_count": 4,
     "metadata": {},
     "output_type": "execute_result"
    }
   ],
   "source": [
    "time.sleep(3)\n",
    "itchat.logout()"
   ]
  }
 ],
 "metadata": {
  "kernelspec": {
   "display_name": "Python 3",
   "language": "python",
   "name": "python3"
  },
  "language_info": {
   "codemirror_mode": {
    "name": "ipython",
    "version": 3
   },
   "file_extension": ".py",
   "mimetype": "text/x-python",
   "name": "python",
   "nbconvert_exporter": "python",
   "pygments_lexer": "ipython3",
   "version": "3.6.6"
  }
 },
 "nbformat": 4,
 "nbformat_minor": 2
}
