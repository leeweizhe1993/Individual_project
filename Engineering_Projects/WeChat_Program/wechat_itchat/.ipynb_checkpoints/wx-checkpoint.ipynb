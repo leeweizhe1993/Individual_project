{
 "cells": [
  {
   "cell_type": "code",
   "execution_count": 4,
   "metadata": {},
   "outputs": [
    {
     "data": {
      "text/plain": [
       "('0.3.9.8', '1.2.48')"
      ]
     },
     "execution_count": 4,
     "metadata": {},
     "output_type": "execute_result"
    }
   ],
   "source": [
    "import wxpy, yagmail, time\n",
    "import os, sys\n",
    "import tushare as ts\n",
    "import numpy as np\n",
    "import pandas as pd\n",
    "import binascii\n",
    "from PIL import Image\n",
    "wxpy.__version__, ts.__version__"
   ]
  },
  {
   "cell_type": "code",
   "execution_count": 3,
   "metadata": {},
   "outputs": [
    {
     "name": "stderr",
     "output_type": "stream",
     "text": [
      "Getting uuid of QR code.\n",
      "Downloading QR code.\n"
     ]
    },
    {
     "name": "stdout",
     "output_type": "stream",
     "text": [
      "                                                                              \n",
      "  ██████████████    ██████  ████        ████      ██  ██      ██████████████  \n",
      "  ██          ██    ██  ████            ██    ██    ██        ██          ██  \n",
      "  ██  ██████  ██  ████████    ██████  ██            ██  ████  ██  ██████  ██  \n",
      "  ██  ██████  ██  ██  ████    ████  ██    ██  ██    ████████  ██  ██████  ██  \n",
      "  ██  ██████  ██    ██    ████    ██  ████    ████  ████      ██  ██████  ██  \n",
      "  ██          ██      ████      ██  ██  ████  ████    ██      ██          ██  \n",
      "  ██████████████  ██  ██  ██  ██  ██  ██  ██  ██  ██  ██  ██  ██████████████  \n",
      "                    ██    ██████████      ██      ████  ████                  \n",
      "        ████  ████  ████    ██                  ██                  ████      \n",
      "    ██  ██  ██  ██████        ██    ██    ██████  ████  ██████  ████  ████    \n",
      "    ██    ██  ██  ████  ████  ██      ██    ██████  ██  ████████          ██  \n",
      "    ██  ██      ██  ██  ██  ██    ████████  ██    ██  ████  ████  ██████  ██  \n",
      "  ██  ██████████████    ██          ██  ████    ██      ████  ████  ████████  \n",
      "            ██  ██████  ██████  ██████  ████  ██      ████████    ██  ██      \n",
      "      ██  ██  ████    ████    ██  ██  ██  ████      ██  ██  ████  ██████████  \n",
      "  ██      ████    ██████  ██    ████████  ██  ██████    ██  ██    ████████    \n",
      "        ██    ██████████    ████      ██    ██████  ██    ██  ████    ██  ██  \n",
      "    ██████      ██  ██  ██    ████    ████  ██  ██████  ██  ██  ██      ██    \n",
      "      ██  ██  ████████  ██  ██████  ████    ██    ██    ██      ██    ██  ██  \n",
      "  ████  ██      ██████  ██      ██  ████████  ██  ████      ██      ██        \n",
      "    ██  ██  ████  ██████    ██  ████    ██████  ████████  ██████  ████        \n",
      "    ██            ██████    ██  ████          ██  ████  ████    ████  ████    \n",
      "  ██████  ██  ████  ██  ████  ████      ████  ██  ██    ██    ██  ██    ████  \n",
      "    ██████████  ██████      ██  ████        ████████  ██████  ████    ████    \n",
      "      ██    ████          ██          ██  ██████    ████  ██  ████  ██  ██    \n",
      "  ████    ██      ████████    ████      ██████    ██  ██████████  ██    ██    \n",
      "  ████      ██████  ██      ██  ██████  ████  ██    ████████  ██████    ████  \n",
      "  ██  ██                  ██          ██    ████  ██  ████  ██    ██████      \n",
      "  ██  ██    ██████████████    ██    ██  ████  ████████  ████████████          \n",
      "                  ██████████      ████      ██  ██  ██    ██      ████████    \n",
      "  ██████████████  ████  ████  ██████████        ████      ██  ██  ██████  ██  \n",
      "  ██          ██      ██    ██████████      ██  ████████  ██      ████  ██    \n",
      "  ██  ██████  ██  ██  ██    ████████  ██          ██    ████████████    ██    \n",
      "  ██  ██████  ██  ██        ██      ██                ██████  ██    ██        \n",
      "  ██  ██████  ██    ██  ████████  ████  ██        ██  ██  ██    ████████████  \n",
      "  ██          ██      ██  ██          ██  ██████      ██      ██  ██  ██████  \n",
      "  ██████████████    ██  ██        ████  ████  ██  ██      ██  ██    ██    ██  \n",
      "                                                                              \n"
     ]
    },
    {
     "name": "stderr",
     "output_type": "stream",
     "text": [
      "Please scan the QR code to log in.\n",
      "Please press confirm on your phone.\n",
      "Loading the contact, this may take a little while.\n"
     ]
    },
    {
     "ename": "KeyError",
     "evalue": "'pass_ticket'",
     "output_type": "error",
     "traceback": [
      "\u001b[0;31m---------------------------------------------------------------------------\u001b[0m",
      "\u001b[0;31mKeyError\u001b[0m                                  Traceback (most recent call last)",
      "\u001b[0;32m<ipython-input-3-837a09736798>\u001b[0m in \u001b[0;36m<module>\u001b[0;34m\u001b[0m\n\u001b[0;32m----> 1\u001b[0;31m \u001b[0mbot\u001b[0m \u001b[0;34m=\u001b[0m \u001b[0mwxpy\u001b[0m\u001b[0;34m.\u001b[0m\u001b[0mBot\u001b[0m\u001b[0;34m(\u001b[0m\u001b[0mconsole_qr\u001b[0m \u001b[0;34m=\u001b[0m \u001b[0;34m-\u001b[0m\u001b[0;36m2\u001b[0m\u001b[0;34m)\u001b[0m\u001b[0;34m\u001b[0m\u001b[0;34m\u001b[0m\u001b[0m\n\u001b[0m",
      "\u001b[0;32m~/opt/miniconda3/lib/python3.7/site-packages/wxpy/api/bot.py\u001b[0m in \u001b[0;36m__init__\u001b[0;34m(self, cache_path, console_qr, qr_path, qr_callback, login_callback, logout_callback)\u001b[0m\n\u001b[1;32m     84\u001b[0m                 \u001b[0mhotReload\u001b[0m\u001b[0;34m=\u001b[0m\u001b[0mbool\u001b[0m\u001b[0;34m(\u001b[0m\u001b[0mcache_path\u001b[0m\u001b[0;34m)\u001b[0m\u001b[0;34m,\u001b[0m \u001b[0mstatusStorageDir\u001b[0m\u001b[0;34m=\u001b[0m\u001b[0mcache_path\u001b[0m\u001b[0;34m,\u001b[0m\u001b[0;34m\u001b[0m\u001b[0;34m\u001b[0m\u001b[0m\n\u001b[1;32m     85\u001b[0m                 \u001b[0menableCmdQR\u001b[0m\u001b[0;34m=\u001b[0m\u001b[0mconsole_qr\u001b[0m\u001b[0;34m,\u001b[0m \u001b[0mpicDir\u001b[0m\u001b[0;34m=\u001b[0m\u001b[0mqr_path\u001b[0m\u001b[0;34m,\u001b[0m \u001b[0mqrCallback\u001b[0m\u001b[0;34m=\u001b[0m\u001b[0mqr_callback\u001b[0m\u001b[0;34m,\u001b[0m\u001b[0;34m\u001b[0m\u001b[0;34m\u001b[0m\u001b[0m\n\u001b[0;32m---> 86\u001b[0;31m                 \u001b[0mloginCallback\u001b[0m\u001b[0;34m=\u001b[0m\u001b[0mlogin_callback\u001b[0m\u001b[0;34m,\u001b[0m \u001b[0mexitCallback\u001b[0m\u001b[0;34m=\u001b[0m\u001b[0mlogout_callback\u001b[0m\u001b[0;34m\u001b[0m\u001b[0;34m\u001b[0m\u001b[0m\n\u001b[0m\u001b[1;32m     87\u001b[0m             )\n\u001b[1;32m     88\u001b[0m         \u001b[0;32mexcept\u001b[0m \u001b[0mFileNotFoundError\u001b[0m \u001b[0;32mas\u001b[0m \u001b[0me\u001b[0m\u001b[0;34m:\u001b[0m\u001b[0;34m\u001b[0m\u001b[0;34m\u001b[0m\u001b[0m\n",
      "\u001b[0;32m~/opt/miniconda3/lib/python3.7/site-packages/itchat/components/register.py\u001b[0m in \u001b[0;36mauto_login\u001b[0;34m(self, hotReload, statusStorageDir, enableCmdQR, picDir, qrCallback, loginCallback, exitCallback)\u001b[0m\n\u001b[1;32m     33\u001b[0m     \u001b[0;32melse\u001b[0m\u001b[0;34m:\u001b[0m\u001b[0;34m\u001b[0m\u001b[0;34m\u001b[0m\u001b[0m\n\u001b[1;32m     34\u001b[0m         self.login(enableCmdQR=enableCmdQR, picDir=picDir, qrCallback=qrCallback,\n\u001b[0;32m---> 35\u001b[0;31m             loginCallback=loginCallback, exitCallback=exitCallback)\n\u001b[0m\u001b[1;32m     36\u001b[0m \u001b[0;34m\u001b[0m\u001b[0m\n\u001b[1;32m     37\u001b[0m \u001b[0;32mdef\u001b[0m \u001b[0mconfigured_reply\u001b[0m\u001b[0;34m(\u001b[0m\u001b[0mself\u001b[0m\u001b[0;34m)\u001b[0m\u001b[0;34m:\u001b[0m\u001b[0;34m\u001b[0m\u001b[0;34m\u001b[0m\u001b[0m\n",
      "\u001b[0;32m~/opt/miniconda3/lib/python3.7/site-packages/itchat/components/login.py\u001b[0m in \u001b[0;36mlogin\u001b[0;34m(self, enableCmdQR, picDir, qrCallback, loginCallback, exitCallback)\u001b[0m\n\u001b[1;32m     64\u001b[0m     \u001b[0mlogger\u001b[0m\u001b[0;34m.\u001b[0m\u001b[0minfo\u001b[0m\u001b[0;34m(\u001b[0m\u001b[0;34m'Loading the contact, this may take a little while.'\u001b[0m\u001b[0;34m)\u001b[0m\u001b[0;34m\u001b[0m\u001b[0;34m\u001b[0m\u001b[0m\n\u001b[1;32m     65\u001b[0m     \u001b[0mself\u001b[0m\u001b[0;34m.\u001b[0m\u001b[0mweb_init\u001b[0m\u001b[0;34m(\u001b[0m\u001b[0;34m)\u001b[0m\u001b[0;34m\u001b[0m\u001b[0;34m\u001b[0m\u001b[0m\n\u001b[0;32m---> 66\u001b[0;31m     \u001b[0mself\u001b[0m\u001b[0;34m.\u001b[0m\u001b[0mshow_mobile_login\u001b[0m\u001b[0;34m(\u001b[0m\u001b[0;34m)\u001b[0m\u001b[0;34m\u001b[0m\u001b[0;34m\u001b[0m\u001b[0m\n\u001b[0m\u001b[1;32m     67\u001b[0m     \u001b[0mself\u001b[0m\u001b[0;34m.\u001b[0m\u001b[0mget_contact\u001b[0m\u001b[0;34m(\u001b[0m\u001b[0;32mTrue\u001b[0m\u001b[0;34m)\u001b[0m\u001b[0;34m\u001b[0m\u001b[0;34m\u001b[0m\u001b[0m\n\u001b[1;32m     68\u001b[0m     \u001b[0;32mif\u001b[0m \u001b[0mhasattr\u001b[0m\u001b[0;34m(\u001b[0m\u001b[0mloginCallback\u001b[0m\u001b[0;34m,\u001b[0m \u001b[0;34m'__call__'\u001b[0m\u001b[0;34m)\u001b[0m\u001b[0;34m:\u001b[0m\u001b[0;34m\u001b[0m\u001b[0;34m\u001b[0m\u001b[0m\n",
      "\u001b[0;32m~/opt/miniconda3/lib/python3.7/site-packages/itchat/components/login.py\u001b[0m in \u001b[0;36mshow_mobile_login\u001b[0;34m(self)\u001b[0m\n\u001b[1;32m    210\u001b[0m \u001b[0;32mdef\u001b[0m \u001b[0mshow_mobile_login\u001b[0m\u001b[0;34m(\u001b[0m\u001b[0mself\u001b[0m\u001b[0;34m)\u001b[0m\u001b[0;34m:\u001b[0m\u001b[0;34m\u001b[0m\u001b[0;34m\u001b[0m\u001b[0m\n\u001b[1;32m    211\u001b[0m     url = '%s/webwxstatusnotify?lang=zh_CN&pass_ticket=%s' % (\n\u001b[0;32m--> 212\u001b[0;31m         self.loginInfo['url'], self.loginInfo['pass_ticket'])\n\u001b[0m\u001b[1;32m    213\u001b[0m     data = {\n\u001b[1;32m    214\u001b[0m         \u001b[0;34m'BaseRequest'\u001b[0m  \u001b[0;34m:\u001b[0m \u001b[0mself\u001b[0m\u001b[0;34m.\u001b[0m\u001b[0mloginInfo\u001b[0m\u001b[0;34m[\u001b[0m\u001b[0;34m'BaseRequest'\u001b[0m\u001b[0;34m]\u001b[0m\u001b[0;34m,\u001b[0m\u001b[0;34m\u001b[0m\u001b[0;34m\u001b[0m\u001b[0m\n",
      "\u001b[0;31mKeyError\u001b[0m: 'pass_ticket'"
     ]
    }
   ],
   "source": [
    "bot = wxpy.Bot(console_qr = -2)"
   ]
  },
  {
   "cell_type": "code",
   "execution_count": 7,
   "metadata": {},
   "outputs": [
    {
     "ename": "NameError",
     "evalue": "name 'bot' is not defined",
     "output_type": "error",
     "traceback": [
      "\u001b[0;31m---------------------------------------------------------------------------\u001b[0m",
      "\u001b[0;31mNameError\u001b[0m                                 Traceback (most recent call last)",
      "\u001b[0;32m<ipython-input-7-07116a4f4fb0>\u001b[0m in \u001b[0;36m<module>\u001b[0;34m\u001b[0m\n\u001b[0;32m----> 1\u001b[0;31m \u001b[0mdisplay\u001b[0m\u001b[0;34m(\u001b[0m\u001b[0mbot\u001b[0m\u001b[0;34m.\u001b[0m\u001b[0mgroups\u001b[0m\u001b[0;34m(\u001b[0m\u001b[0;34m)\u001b[0m\u001b[0;34m)\u001b[0m\u001b[0;34m\u001b[0m\u001b[0;34m\u001b[0m\u001b[0m\n\u001b[0m\u001b[1;32m      2\u001b[0m \u001b[0mbot\u001b[0m\u001b[0;34m.\u001b[0m\u001b[0mfriends\u001b[0m\u001b[0;34m(\u001b[0m\u001b[0;34m)\u001b[0m\u001b[0;34m.\u001b[0m\u001b[0msearch\u001b[0m\u001b[0;34m(\u001b[0m\u001b[0;34m\"李伟哲\"\u001b[0m\u001b[0;34m)\u001b[0m\u001b[0;34m\u001b[0m\u001b[0;34m\u001b[0m\u001b[0m\n",
      "\u001b[0;31mNameError\u001b[0m: name 'bot' is not defined"
     ]
    }
   ],
   "source": [
    "display(bot.groups())\n",
    "bot.friends().search(\"李伟哲\")"
   ]
  },
  {
   "cell_type": "code",
   "execution_count": 10,
   "metadata": {},
   "outputs": [
    {
     "data": {
      "text/plain": [
       "↪ Excited!🐶 : 666 (Text)"
      ]
     },
     "execution_count": 10,
     "metadata": {},
     "output_type": "execute_result"
    }
   ],
   "source": [
    "bot.self.send(\"666\")"
   ]
  },
  {
   "cell_type": "code",
   "execution_count": 11,
   "metadata": {},
   "outputs": [
    {
     "name": "stdout",
     "output_type": "stream",
     "text": [
      "2\n"
     ]
    },
    {
     "data": {
      "text/plain": [
       "'巧克力的麻烦是：你把它吃了，它就没了。'"
      ]
     },
     "execution_count": 11,
     "metadata": {},
     "output_type": "execute_result"
    }
   ],
   "source": [
    "print(bot.friends()[1].raw.get('Sex'))\n",
    "bot.friends()[1].raw.get('Signature')"
   ]
  },
  {
   "cell_type": "code",
   "execution_count": 12,
   "metadata": {},
   "outputs": [
    {
     "name": "stdout",
     "output_type": "stream",
     "text": [
      "Excited!🐶 共有 703 位微信好友\n",
      "\n",
      "男性: 387 (55.0%)\n",
      "女性: 275 (39.1%)\n",
      "\n",
      "TOP 15 省份\n",
      "广东: 215 (30.58%)\n",
      "湖南: 89 (12.66%)\n",
      "湖北: 45 (6.40%)\n",
      "北京: 37 (5.26%)\n",
      "安徽: 21 (2.99%)\n",
      "江苏: 20 (2.84%)\n",
      "浙江: 15 (2.13%)\n",
      "上海: 14 (1.99%)\n",
      "陕西: 9 (1.28%)\n",
      "河南: 7 (1.00%)\n",
      "四川: 7 (1.00%)\n",
      "重庆: 6 (0.85%)\n",
      "福建: 6 (0.85%)\n",
      "山东: 6 (0.85%)\n",
      "辽宁: 5 (0.71%)\n",
      "\n",
      "TOP 15 城市\n",
      "广州: 151 (21.48%)\n",
      "湘潭: 43 (6.12%)\n",
      "武汉: 36 (5.12%)\n",
      "深圳: 30 (4.27%)\n",
      "长沙: 30 (4.27%)\n",
      "合肥: 13 (1.85%)\n",
      "海淀: 10 (1.42%)\n",
      "杭州: 10 (1.42%)\n",
      "朝阳: 8 (1.14%)\n",
      "南京: 7 (1.00%)\n",
      "苏州: 6 (0.85%)\n",
      "中山: 6 (0.85%)\n",
      "西安: 6 (0.85%)\n",
      "成都: 5 (0.71%)\n",
      "娄底: 5 (0.71%)\n",
      "\n",
      "\n"
     ]
    }
   ],
   "source": [
    "print(bot.friends().stats_text(top_provinces=15, top_cities=15))"
   ]
  },
  {
   "cell_type": "code",
   "execution_count": 20,
   "metadata": {},
   "outputs": [
    {
     "ename": "IndexError",
     "evalue": "list index out of range",
     "output_type": "error",
     "traceback": [
      "\u001b[0;31m---------------------------------------------------------------------------\u001b[0m",
      "\u001b[0;31mIndexError\u001b[0m                                Traceback (most recent call last)",
      "\u001b[0;32m<ipython-input-20-4372fe06fe94>\u001b[0m in \u001b[0;36m<module>\u001b[0;34m\u001b[0m\n\u001b[0;32m----> 1\u001b[0;31m \u001b[0mbot\u001b[0m\u001b[0;34m.\u001b[0m\u001b[0mgroups\u001b[0m\u001b[0;34m(\u001b[0m\u001b[0;34m)\u001b[0m\u001b[0;34m.\u001b[0m\u001b[0msearch\u001b[0m\u001b[0;34m(\u001b[0m\u001b[0;34m\"徐\"\u001b[0m\u001b[0;34m)\u001b[0m\u001b[0;34m[\u001b[0m\u001b[0;36m0\u001b[0m\u001b[0;34m]\u001b[0m\u001b[0;34m.\u001b[0m\u001b[0msend\u001b[0m\u001b[0;34m(\u001b[0m\u001b[0;34m'666'\u001b[0m\u001b[0;34m)\u001b[0m\u001b[0;34m\u001b[0m\u001b[0;34m\u001b[0m\u001b[0m\n\u001b[0m",
      "\u001b[0;31mIndexError\u001b[0m: list index out of range"
     ]
    }
   ],
   "source": [
    "bot.groups().search(\"智慧化养老\")[0].send('https://docs.google.com/document/d/1NHgkAp5FdUkjgvc5oHabwWJW-saOnPnakbr-6RloYOw/edit?usp=sharing')"
   ]
  },
  {
   "cell_type": "code",
   "execution_count": 42,
   "metadata": {},
   "outputs": [
    {
     "data": {
      "text/plain": [
       "↪ 勃起 : 回了，在湘潭过年吗？ (Text)"
      ]
     },
     "execution_count": 42,
     "metadata": {},
     "output_type": "execute_result"
    }
   ],
   "source": [
    "bot.friends().search(\"勃起\")[0].send('回了，在湘潭过年吗？')"
   ]
  },
  {
   "cell_type": "code",
   "execution_count": 33,
   "metadata": {},
   "outputs": [
    {
     "data": {
      "text/html": [
       "<div>\n",
       "<style scoped>\n",
       "    .dataframe tbody tr th:only-of-type {\n",
       "        vertical-align: middle;\n",
       "    }\n",
       "\n",
       "    .dataframe tbody tr th {\n",
       "        vertical-align: top;\n",
       "    }\n",
       "\n",
       "    .dataframe thead th {\n",
       "        text-align: right;\n",
       "    }\n",
       "</style>\n",
       "<table border=\"1\" class=\"dataframe\">\n",
       "  <thead>\n",
       "    <tr style=\"text-align: right;\">\n",
       "      <th></th>\n",
       "      <th>exchange</th>\n",
       "      <th>cal_date</th>\n",
       "      <th>is_open</th>\n",
       "      <th>pretrade_date</th>\n",
       "    </tr>\n",
       "  </thead>\n",
       "  <tbody>\n",
       "    <tr>\n",
       "      <th>0</th>\n",
       "      <td>SSE</td>\n",
       "      <td>20180901</td>\n",
       "      <td>0</td>\n",
       "      <td>20180831</td>\n",
       "    </tr>\n",
       "    <tr>\n",
       "      <th>1</th>\n",
       "      <td>SSE</td>\n",
       "      <td>20180902</td>\n",
       "      <td>0</td>\n",
       "      <td>20180831</td>\n",
       "    </tr>\n",
       "    <tr>\n",
       "      <th>2</th>\n",
       "      <td>SSE</td>\n",
       "      <td>20180908</td>\n",
       "      <td>0</td>\n",
       "      <td>20180907</td>\n",
       "    </tr>\n",
       "    <tr>\n",
       "      <th>3</th>\n",
       "      <td>SSE</td>\n",
       "      <td>20180909</td>\n",
       "      <td>0</td>\n",
       "      <td>20180907</td>\n",
       "    </tr>\n",
       "    <tr>\n",
       "      <th>4</th>\n",
       "      <td>SSE</td>\n",
       "      <td>20180915</td>\n",
       "      <td>0</td>\n",
       "      <td>20180914</td>\n",
       "    </tr>\n",
       "  </tbody>\n",
       "</table>\n",
       "</div>"
      ],
      "text/plain": [
       "  exchange  cal_date  is_open pretrade_date\n",
       "0      SSE  20180901        0      20180831\n",
       "1      SSE  20180902        0      20180831\n",
       "2      SSE  20180908        0      20180907\n",
       "3      SSE  20180909        0      20180907\n",
       "4      SSE  20180915        0      20180914"
      ]
     },
     "execution_count": 33,
     "metadata": {},
     "output_type": "execute_result"
    }
   ],
   "source": [
    "pro = ts.pro_api('0262076a34b2515f383530b177145381f3a717c99c657717186f8321')\n",
    "df = pro.trade_cal(exchange='', start_date='20180901', end_date='20181001', fields='exchange,cal_date,is_open,pretrade_date', is_open='0')\n",
    "df.head()"
   ]
  },
  {
   "cell_type": "markdown",
   "metadata": {},
   "source": [
    "新年快乐，福从天降！！"
   ]
  },
  {
   "cell_type": "markdown",
   "metadata": {},
   "source": [
    "### 发送新年祝福"
   ]
  },
  {
   "cell_type": "code",
   "execution_count": 130,
   "metadata": {},
   "outputs": [],
   "source": [
    "word_set = [\"！身体健康！事业顺利！心想事成！收获多多！福从天降！！[福][福]\",\n",
    "           \"！精神百倍！喜气洋洋！工作顺心！收获满满！福从天降！！[福][福]\",\n",
    "           \"！身体健康！工作顺利！生活美满！事业丰收！福从天降！！[福][福]\"]"
   ]
  },
  {
   "cell_type": "code",
   "execution_count": null,
   "metadata": {},
   "outputs": [],
   "source": [
    "for i in range(len(bot.friends())):\n",
    "    time.sleep(2)\n",
    "    print(bot.friends()[i].send('2018即将离去，我谨' + '祝' + str(bot.friends()[i])[9:-1] + \"2019年新年快乐\" + word_set[i % 3]))"
   ]
  },
  {
   "cell_type": "markdown",
   "metadata": {},
   "source": [
    "### 获取好友头像"
   ]
  },
  {
   "cell_type": "code",
   "execution_count": null,
   "metadata": {},
   "outputs": [],
   "source": [
    "for i in bot.friends():\n",
    "    print(\"Friends_Pic//\" + str(i)[9:-1] + \".jpg\")\n",
    "    i.get_avatar(\"Friends_Pic//\" + str(i)[9:-1] + \".jpg\")"
   ]
  },
  {
   "cell_type": "code",
   "execution_count": 3,
   "metadata": {},
   "outputs": [],
   "source": [
    "def head2char(workspace,outlist):\n",
    "\n",
    "    folder = workspace\n",
    "    #将工作路径转移至头像文件夹\n",
    "    os.chdir(folder)\n",
    "    #获取文件夹内头像列表\n",
    "    imgList = os.listdir()\n",
    "    #获取头像图片个数\n",
    "    numImages = len(imgList)\n",
    "    #设置头像裁剪后尺寸\n",
    "    eachSize = 100\n",
    "\n",
    "    #变量n用于循环遍历头像图片，即当所需图片大于头像总数时，循环使用头像图片\n",
    "    n=0\n",
    "\n",
    "    #变量count用于为最终生成的单字图片编号\n",
    "    count = 0\n",
    "\n",
    "    #img = Image.open(self)\n",
    "\n",
    "    #初始化颜色列表，用于背景着色：FFFACD黄色 #F0FFFF白  #BFEFFF 蓝  #b7facd青色 #ffe7cc浅橙色  #fbccff浅紫色 #d1ffb8淡绿 #febec0淡红 #E0EEE0灰\n",
    "    colorlist = ['#FFFACD','#F0FFFF','#BFEFFF','#b7facd','#ffe7cc','#fbccff','#d1ffb8','#febec0','#E0EEE0']\n",
    "    #index用来改变不同字的背景颜色\n",
    "    index = 0\n",
    "\n",
    "    #每个item对应不同字的点阵信息\n",
    "    for item in outlist:\n",
    "\n",
    "        #将工作路径转到头像所在文件夹\n",
    "#         os.chdir(folder)\n",
    "\n",
    "        #新建一个带有背景色的画布，16*16点阵，每个点处填充2*2张头像图片，故长为16*2*100\n",
    "        #如果想要白色背景，将colorlist[index]改为'#FFFFFF'\n",
    "        canvas = Image.new('RGB', (3200, 3200), colorlist[index])  # 新建一块画布\n",
    "        #index变换，用于变换背景颜色\n",
    "        index = (index+1)%9\n",
    "\n",
    "        count += 1\n",
    "\n",
    "        #每个16*16点阵中的点，用四张100*100的头像来填充\n",
    "        for i in range(16*16):\n",
    "            #点阵信息为1，即代表此处要显示头像来组字\n",
    "            if item[i] == \"1\":\n",
    "                #循环读取连续的四张头像图片\n",
    "                x1 = n % len(imgList)\n",
    "                x2 = (n+1) % len(imgList)\n",
    "                x3 = (n+2) % len(imgList)\n",
    "                x4 = (n+3) % len(imgList)\n",
    "\n",
    "                #以下四组try,将读取到的四张头像填充到画板上对应的一个点位置\n",
    "                #点阵处左上角图片1/4\n",
    "                try:\n",
    "                    img = Image.open(imgList[x1])  # 打开图片\n",
    "                except IOError:\n",
    "                    print(\"有1位朋友的头像读取失败，已使用本人头像替代\")  # 有些人没设置头像，就会有异常\n",
    "                    img = Image.open()\n",
    "                finally:\n",
    "                    img = img.resize((eachSize, eachSize), Image.ANTIALIAS)  # 缩小图片\n",
    "                    canvas.paste(img, ((i % 16) * 2 * eachSize, (i // 16) * 2 * eachSize))  # 拼接图片\n",
    "                # 点阵处右上角图片2/4\n",
    "                try:\n",
    "                    img = Image.open(imgList[x2])  # 打开图片\n",
    "                except IOError:\n",
    "                    print(\"有1位朋友的头像读取失败，已使用本人头像替代\")  # 有些人没设置头像，就会有异常\n",
    "                    img = Image.open()\n",
    "                finally:\n",
    "                    img = img.resize((eachSize, eachSize), Image.ANTIALIAS)  # 缩小图片\n",
    "                    canvas.paste(img, (((i % 16) * 2 + 1) * eachSize, (i // 16) * 2 * eachSize))  # 拼接图片\n",
    "                # 点阵处左下角图片3/4\n",
    "                try:\n",
    "                    img = Image.open(imgList[x3])  # 打开图片\n",
    "                except IOError:\n",
    "                    print(\"有1位朋友的头像读取失败，已使用本人头像替代\")  # 有些人没设置头像，就会有异常\n",
    "                    img = Image.open()\n",
    "                finally:\n",
    "                    img = img.resize((eachSize, eachSize), Image.ANTIALIAS)  # 缩小图片\n",
    "                    canvas.paste(img, ((i % 16) * 2 * eachSize, ((i // 16) * 2 + 1 ) * eachSize))  # 拼接图片\n",
    "                # 点阵处右下角图片4/4\n",
    "                try:\n",
    "                    img = Image.open(imgList[x4])  # 打开图片\n",
    "                except IOError:\n",
    "                    print(\"有1位朋友的头像读取失败，已使用本人头像替代\")  # 有些人没设置头像，就会有异常\n",
    "                    img = Image.open()\n",
    "                finally:\n",
    "                    img = img.resize((eachSize, eachSize), Image.ANTIALIAS)  # 缩小图片\n",
    "                    canvas.paste(img, (((i % 16) * 2 + 1) * eachSize, ((i // 16) * 2 + 1) * eachSize))  # 拼接图片\n",
    "                #调整n以读取后续图片\n",
    "                n= (n+4) % len(imgList)\n",
    "\n",
    "        os.chdir(workspace)\n",
    "        # 创建文件夹用于存储输出结果\n",
    "        if not os.path.exists('{}_output'.format(workspace)):\n",
    "            os.mkdir('{}_output'.format(workspace))\n",
    "        os.chdir('{}_output'.format(workspace))\n",
    "        #quality代表图片质量，1-100\n",
    "        canvas.save('result%d.jpg'% count, quality=100)\n"
   ]
  },
  {
   "cell_type": "code",
   "execution_count": null,
   "metadata": {},
   "outputs": [],
   "source": [
    "head2char('Friends_Pic',list(\"元宵节快乐\"))"
   ]
  },
  {
   "cell_type": "code",
   "execution_count": 166,
   "metadata": {},
   "outputs": [
    {
     "ename": "OSError",
     "evalue": "cannot identify image file 'Friends_Pic//中国龙.jpg'",
     "output_type": "error",
     "traceback": [
      "\u001b[0;31m---------------------------------------------------------------------------\u001b[0m",
      "\u001b[0;31mOSError\u001b[0m                                   Traceback (most recent call last)",
      "\u001b[0;32m<ipython-input-166-922f80fcd4ad>\u001b[0m in \u001b[0;36m<module>\u001b[0;34m\u001b[0m\n\u001b[1;32m      4\u001b[0m \u001b[0;32mfor\u001b[0m \u001b[0mi\u001b[0m \u001b[0;32min\u001b[0m \u001b[0mrange\u001b[0m\u001b[0;34m(\u001b[0m\u001b[0;36m16\u001b[0m\u001b[0;34m*\u001b[0m\u001b[0;36m16\u001b[0m\u001b[0;34m)\u001b[0m\u001b[0;34m:\u001b[0m\u001b[0;34m\u001b[0m\u001b[0;34m\u001b[0m\u001b[0m\n\u001b[1;32m      5\u001b[0m     \u001b[0;31m# 打开图片\u001b[0m\u001b[0;34m\u001b[0m\u001b[0;34m\u001b[0m\u001b[0;34m\u001b[0m\u001b[0m\n\u001b[0;32m----> 6\u001b[0;31m     \u001b[0mimg\u001b[0m \u001b[0;34m=\u001b[0m \u001b[0mImage\u001b[0m\u001b[0;34m.\u001b[0m\u001b[0mopen\u001b[0m\u001b[0;34m(\u001b[0m\u001b[0;34m\"Friends_Pic//\"\u001b[0m \u001b[0;34m+\u001b[0m \u001b[0mos\u001b[0m\u001b[0;34m.\u001b[0m\u001b[0mlistdir\u001b[0m\u001b[0;34m(\u001b[0m\u001b[0;34m\"Friends_Pic\"\u001b[0m\u001b[0;34m)\u001b[0m\u001b[0;34m[\u001b[0m\u001b[0mn\u001b[0m\u001b[0;34m]\u001b[0m\u001b[0;34m)\u001b[0m\u001b[0;34m\u001b[0m\u001b[0;34m\u001b[0m\u001b[0m\n\u001b[0m\u001b[1;32m      7\u001b[0m     \u001b[0;31m# 缩小图片\u001b[0m\u001b[0;34m\u001b[0m\u001b[0;34m\u001b[0m\u001b[0;34m\u001b[0m\u001b[0m\n\u001b[1;32m      8\u001b[0m     \u001b[0mimg\u001b[0m \u001b[0;34m=\u001b[0m \u001b[0mimg\u001b[0m\u001b[0;34m.\u001b[0m\u001b[0mresize\u001b[0m\u001b[0;34m(\u001b[0m\u001b[0;34m(\u001b[0m\u001b[0;36m100\u001b[0m\u001b[0;34m,\u001b[0m \u001b[0;36m100\u001b[0m\u001b[0;34m)\u001b[0m\u001b[0;34m,\u001b[0m \u001b[0mImage\u001b[0m\u001b[0;34m.\u001b[0m\u001b[0mANTIALIAS\u001b[0m\u001b[0;34m)\u001b[0m\u001b[0;34m\u001b[0m\u001b[0;34m\u001b[0m\u001b[0m\n",
      "\u001b[0;32m~/miniconda3/lib/python3.7/site-packages/PIL/Image.py\u001b[0m in \u001b[0;36mopen\u001b[0;34m(fp, mode)\u001b[0m\n\u001b[1;32m   2655\u001b[0m         \u001b[0mwarnings\u001b[0m\u001b[0;34m.\u001b[0m\u001b[0mwarn\u001b[0m\u001b[0;34m(\u001b[0m\u001b[0mmessage\u001b[0m\u001b[0;34m)\u001b[0m\u001b[0;34m\u001b[0m\u001b[0;34m\u001b[0m\u001b[0m\n\u001b[1;32m   2656\u001b[0m     raise IOError(\"cannot identify image file %r\"\n\u001b[0;32m-> 2657\u001b[0;31m                   % (filename if filename else fp))\n\u001b[0m\u001b[1;32m   2658\u001b[0m \u001b[0;34m\u001b[0m\u001b[0m\n\u001b[1;32m   2659\u001b[0m \u001b[0;31m#\u001b[0m\u001b[0;34m\u001b[0m\u001b[0;34m\u001b[0m\u001b[0;34m\u001b[0m\u001b[0m\n",
      "\u001b[0;31mOSError\u001b[0m: cannot identify image file 'Friends_Pic//中国龙.jpg'"
     ]
    }
   ],
   "source": [
    "#新建画布，16*16点阵，每个图片边长100\n",
    "canvas = Image.new('RGB', (1600, 1600), '#FFFFFF')\n",
    "n = 0\n",
    "for i in range(24*24):\n",
    "    # 打开图片\n",
    "    img = Image.open(\"Friends_Pic//\" + os.listdir(\"Friends_Pic\")[n])\n",
    "    # 缩小图片\n",
    "    img = img.resize((100, 100), Image.ANTIALIAS)\n",
    "    # 拼接图片\n",
    "    canvas.paste(img, ((i % 16) * 100, (i // 16) * 100))\n",
    "    n += 1"
   ]
  },
  {
   "cell_type": "code",
   "execution_count": 167,
   "metadata": {},
   "outputs": [
    {
     "name": "stderr",
     "output_type": "stream",
     "text": [
      "LOG OUT!\n"
     ]
    },
    {
     "data": {
      "text/plain": [
       "<ItchatReturnValue: {'BaseResponse': {'ErrMsg': '请求成功', 'Ret': 0, 'RawMsg': 'logout successfully.'}}>"
      ]
     },
     "execution_count": 167,
     "metadata": {},
     "output_type": "execute_result"
    }
   ],
   "source": [
    "bot.logout()"
   ]
  },
  {
   "cell_type": "code",
   "execution_count": null,
   "metadata": {},
   "outputs": [],
   "source": []
  }
 ],
 "metadata": {
  "kernelspec": {
   "display_name": "Python 3",
   "language": "python",
   "name": "python3"
  },
  "language_info": {
   "codemirror_mode": {
    "name": "ipython",
    "version": 3
   },
   "file_extension": ".py",
   "mimetype": "text/x-python",
   "name": "python",
   "nbconvert_exporter": "python",
   "pygments_lexer": "ipython3",
   "version": "3.7.6"
  }
 },
 "nbformat": 4,
 "nbformat_minor": 4
}
