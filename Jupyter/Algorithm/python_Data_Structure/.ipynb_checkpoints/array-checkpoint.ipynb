{
 "cells": [
  {
   "cell_type": "code",
   "execution_count": 7,
   "metadata": {},
   "outputs": [],
   "source": [
    "from array import array\n",
    "import IPython.core.display as di"
   ]
  },
  {
   "cell_type": "code",
   "execution_count": 8,
   "metadata": {},
   "outputs": [
    {
     "data": {
      "text/html": [
       "<script>jQuery(function() {if (jQuery(\"body.notebook_app\").length == 0) { jQuery(\".input_area\").toggle(); jQuery(\".prompt\").toggle();}});</script>"
      ]
     },
     "metadata": {},
     "output_type": "display_data"
    }
   ],
   "source": [
    "di.display_html('<script>jQuery(function() {if (jQuery(\"body.notebook_app\").length == 0) { jQuery(\".input_area\").toggle(); jQuery(\".prompt\").toggle();}});</script>', raw=True)"
   ]
  },
  {
   "cell_type": "markdown",
   "metadata": {},
   "source": [
    "#### python中array只能存同一类型数据(数值、字符)，推荐np.array"
   ]
  },
  {
   "cell_type": "code",
   "execution_count": 9,
   "metadata": {},
   "outputs": [
    {
     "data": {
      "text/plain": [
       "('a', 's')"
      ]
     },
     "execution_count": 9,
     "metadata": {},
     "output_type": "execute_result"
    }
   ],
   "source": [
    "arr = array('u', 'asdf')\n",
    "arr[0],arr[1]"
   ]
  },
  {
   "cell_type": "markdown",
   "metadata": {},
   "source": [
    "## 实现定长array"
   ]
  },
  {
   "cell_type": "code",
   "execution_count": 21,
   "metadata": {},
   "outputs": [],
   "source": [
    "class Array(object):\n",
    "    \n",
    "    def __init__(self, size = 32):\n",
    "        self._size = size\n",
    "        self._items = [None] * size\n",
    "        \n",
    "    def __getitem__(self, index):\n",
    "        return self._items[index]\n",
    "    \n",
    "    def __setitem__(self, index, value):\n",
    "        self._items[index] = value\n",
    "        \n",
    "    def __len__(self):\n",
    "        return self._size\n",
    "    \n",
    "    def clear(self, value = None):\n",
    "        for i in range(len(self._items)):\n",
    "            self._items[i] = value\n",
    "            \n",
    "    def __iter__(self):\n",
    "        for item in self._items:\n",
    "            yield item\n",
    "            \n",
    "def test_array():\n",
    "    size = 10\n",
    "    a = Array(size)\n",
    "    a[0] = 1\n",
    "    assert a[0] == 1\n",
    "    \n",
    "    a.clear()\n",
    "    assert a[0] == None\n",
    "    \n",
    "test_array()"
   ]
  },
  {
   "cell_type": "markdown",
   "metadata": {},
   "source": [
    "## 链表"
   ]
  },
  {
   "cell_type": "code",
   "execution_count": null,
   "metadata": {},
   "outputs": [],
   "source": []
  }
 ],
 "metadata": {
  "kernelspec": {
   "display_name": "Python 3",
   "language": "python",
   "name": "python3"
  },
  "language_info": {
   "codemirror_mode": {
    "name": "ipython",
    "version": 3
   },
   "file_extension": ".py",
   "mimetype": "text/x-python",
   "name": "python",
   "nbconvert_exporter": "python",
   "pygments_lexer": "ipython3",
   "version": "3.6.5"
  }
 },
 "nbformat": 4,
 "nbformat_minor": 2
}
