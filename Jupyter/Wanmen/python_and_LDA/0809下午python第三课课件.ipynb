{
 "cells": [
  {
   "cell_type": "markdown",
   "metadata": {},
   "source": [
    "    人生苦短，我用python\n",
    "# python第三课"
   ]
  },
  {
   "cell_type": "markdown",
   "metadata": {
    "collapsed": true
   },
   "source": [
    "### 推荐一个python数据结构可视化工具：http://www.pythontutor.com/"
   ]
  },
  {
   "cell_type": "markdown",
   "metadata": {},
   "source": [
    "### 课表"
   ]
  },
  {
   "cell_type": "markdown",
   "metadata": {},
   "source": [
    "    - Mysql数据库的基本操作\n",
    "    - 用python操作数据库\n",
    "    - 编写python爬虫并保存到数据库"
   ]
  },
  {
   "cell_type": "markdown",
   "metadata": {},
   "source": [
    "### 数据库"
   ]
  },
  {
   "cell_type": "markdown",
   "metadata": {},
   "source": [
    "    我们平时说到的数据库，指的是 数据库管理系统"
   ]
  },
  {
   "cell_type": "markdown",
   "metadata": {},
   "source": [
    "### mysql数据库"
   ]
  },
  {
   "cell_type": "markdown",
   "metadata": {},
   "source": [
    "    MariaDB： MariaDB的目的是完全兼容MySQL，包括API和命令行，使之能轻松成为MySQL的代替品"
   ]
  },
  {
   "cell_type": "markdown",
   "metadata": {},
   "source": [
    "### 关系型数据库"
   ]
  },
  {
   "cell_type": "markdown",
   "metadata": {},
   "source": [
    "    另外一种类型的数据库是：非关系型数据库。 比较流行的是：Mongodb, redis"
   ]
  },
  {
   "cell_type": "code",
   "execution_count": 46,
   "metadata": {},
   "outputs": [
    {
     "name": "stdout",
     "output_type": "stream",
     "text": [
      "{'a': 100, 'b': 200}\n"
     ]
    }
   ],
   "source": [
    "import json\n",
    "\n",
    "data_1 = \"{'a': 1, 'b': 2, 'c': 3}\"\n",
    "data_2 = '{\"a\": 1, \"b\": 2, \"c\": 3}'\n",
    "\n",
    "j_data = json.loads(data_2)\n",
    "type(j_data)\n",
    "\n",
    "with open('/Users/wangyujie/Desktop/data.json', 'r') as f:\n",
    "    j_data = json.load(f)\n",
    "    print(j_data)"
   ]
  },
  {
   "cell_type": "markdown",
   "metadata": {},
   "source": [
    "    json格式"
   ]
  },
  {
   "cell_type": "markdown",
   "metadata": {},
   "source": [
    "### mysql数据库基本操作"
   ]
  },
  {
   "cell_type": "markdown",
   "metadata": {},
   "source": [
    "### 命令行操作"
   ]
  },
  {
   "cell_type": "code",
   "execution_count": 20,
   "metadata": {},
   "outputs": [
    {
     "ename": "SyntaxError",
     "evalue": "invalid syntax (<ipython-input-20-947601b7eca7>, line 2)",
     "output_type": "error",
     "traceback": [
      "\u001b[0;36m  File \u001b[0;32m\"<ipython-input-20-947601b7eca7>\"\u001b[0;36m, line \u001b[0;32m2\u001b[0m\n\u001b[0;31m    mysql -u root -p\u001b[0m\n\u001b[0m                ^\u001b[0m\n\u001b[0;31mSyntaxError\u001b[0m\u001b[0;31m:\u001b[0m invalid syntax\n"
     ]
    }
   ],
   "source": [
    "# 链接数据库? \n",
    "mysql -u root -p \n",
    "# u 是用户名 p: 需要用密码登录数据库\n",
    "\n",
    "# 查看数据库\n",
    "show databases;\n",
    "\n",
    "# 选择数据库\n",
    "use database_name;\n",
    "\n",
    "# 查看数据库中的table表\n",
    "show tables;\n",
    "\n",
    "# 查看表格的结构\n",
    "desc tables;\n",
    "\n",
    "# 查看表中的数据\n",
    "select * from table_name;\n",
    "\n",
    "# 查看数据并限制数量\n",
    "select * from table_name limit 10;"
   ]
  },
  {
   "cell_type": "markdown",
   "metadata": {},
   "source": [
    "### 数据库管理工具"
   ]
  },
  {
   "cell_type": "markdown",
   "metadata": {},
   "source": [
    "sequelpro  链接：http://www.sequelpro.com/"
   ]
  },
  {
   "cell_type": "markdown",
   "metadata": {},
   "source": [
    "### mysql与Excel的不同"
   ]
  },
  {
   "cell_type": "markdown",
   "metadata": {},
   "source": [
    "| 姓名 | 性别 | 年龄 | 班级 | 考试 | 语文 | 数学 | 英语 | 物理 | 化学 | 生物 | \n",
    "| --- | --- | --- | --- | --- | --- | --- | --- | --- | --- | --- |\n",
    "| 高海 | 男 | 18 | 高三一班 | 第一次模拟 | 90 | 126 | 119 | 75 | 59 | 89 |\n",
    "| 高海 | 男 | 18 | 高三一班 | 第二次模拟 | 80 | 120 | 123 | 85 | 78 | 87 |\n",
    "| 秦佳艺 | 女 | 18 | 高三二班 | 第一次模拟 | 78 | 118 | 140 | 89 | 80 | 78 |\n",
    "| 秦佳艺 | 女 | 18 | 高三二班 | 第二次模拟 | 79 | 120 | 140 | 83 | 78 | 82 |"
   ]
  },
  {
   "cell_type": "markdown",
   "metadata": {},
   "source": [
    "### 命令行操作数据库"
   ]
  },
  {
   "cell_type": "markdown",
   "metadata": {},
   "source": [
    "### 创建数据库\n",
    "    create database Examination_copy;\n",
    "### 删除数据库\n",
    "    drop database Examination_coopy;\n",
    "### 指定字符集和校对集，创建数据库\n",
    "    create database Examination_copy default charset utf8mb4 collate utf8mb4_general_ci;\n",
    "    \n",
    "### 创建表格\n",
    "CREATE TABLE `class` (\n",
    "  `id` int(11) unsigned NOT NULL AUTO_INCREMENT,\n",
    "  `name` varchar(80) NOT NULL,\n",
    "  PRIMARY KEY (`id`)\n",
    ");"
   ]
  },
  {
   "cell_type": "markdown",
   "metadata": {},
   "source": [
    "### 小数转二进制"
   ]
  },
  {
   "cell_type": "code",
   "execution_count": null,
   "metadata": {
    "collapsed": true
   },
   "outputs": [],
   "source": [
    "3 转换为二进制 11 整数部分\n",
    "\n",
    "0.4 转换为二进制 0.5*0 + 0.25*1 + 0.125*1 \n",
    "                    0 1 1 1 1 0 1"
   ]
  },
  {
   "cell_type": "markdown",
   "metadata": {},
   "source": [
    "### mysql数据类型    http://www.runoob.com/mysql/mysql-data-types.html"
   ]
  },
  {
   "cell_type": "markdown",
   "metadata": {},
   "source": [
    "### 插入数据"
   ]
  },
  {
   "cell_type": "code",
   "execution_count": null,
   "metadata": {
    "collapsed": true
   },
   "outputs": [],
   "source": [
    "insert into `class`(`id`, `name`) \n",
    "values(1, '高一三班');"
   ]
  },
  {
   "cell_type": "markdown",
   "metadata": {},
   "source": [
    "### 修改数据"
   ]
  },
  {
   "cell_type": "code",
   "execution_count": null,
   "metadata": {
    "collapsed": true
   },
   "outputs": [],
   "source": [
    "update `class` set `name` = '高一五班'\n",
    "where `name` = '高一三班';"
   ]
  },
  {
   "cell_type": "markdown",
   "metadata": {},
   "source": [
    "### 删除操作"
   ]
  },
  {
   "cell_type": "code",
   "execution_count": null,
   "metadata": {
    "collapsed": true
   },
   "outputs": [],
   "source": [
    "delete from `class`\n",
    "where `id` = 6;"
   ]
  },
  {
   "cell_type": "markdown",
   "metadata": {},
   "source": [
    "## 使用python去操作数据库"
   ]
  },
  {
   "cell_type": "markdown",
   "metadata": {},
   "source": [
    "### python 安装第三方库\n",
    "    1、 pip ; 举例： pip install pymysql\n",
    "    2、 conda; 举例： conda install pymysql"
   ]
  },
  {
   "cell_type": "code",
   "execution_count": 48,
   "metadata": {
    "collapsed": true
   },
   "outputs": [],
   "source": [
    "import MySQLdb"
   ]
  },
  {
   "cell_type": "code",
   "execution_count": 58,
   "metadata": {
    "collapsed": true
   },
   "outputs": [],
   "source": [
    "DATABASE = {\n",
    "    'host': '127.0.0.1', # 如果是远程数据库，此处为远程服务器的ip地址\n",
    "    'database': 'Examination',\n",
    "    'user': 'root',\n",
    "    'password': 'wangwei',\n",
    "    'charset': 'utf8mb4'\n",
    "}\n",
    "\n",
    "db = MySQLdb.connect(host='localhost', user='root', password='wangwei', db='Examination')\n",
    "# 等价于\n",
    "db = MySQLdb.connect('localhost', 'root', 'wangwei', 'Examination')\n",
    "# 等价于\n",
    "db = MySQLdb.connect(**DATABASE)\n",
    "\n",
    "# db就代表是我们的数据库"
   ]
  },
  {
   "cell_type": "markdown",
   "metadata": {},
   "source": [
    "### 游标"
   ]
  },
  {
   "cell_type": "code",
   "execution_count": 59,
   "metadata": {
    "collapsed": true
   },
   "outputs": [],
   "source": [
    "cursor = db.cursor()"
   ]
  },
  {
   "cell_type": "markdown",
   "metadata": {},
   "source": [
    "### 查询"
   ]
  },
  {
   "cell_type": "code",
   "execution_count": 65,
   "metadata": {
    "scrolled": true
   },
   "outputs": [
    {
     "name": "stdout",
     "output_type": "stream",
     "text": [
      "(1, 0, '男', '凌榭辉')\n",
      "(2, 0, '男', '高海')\n",
      "(3, 0, '男', '潘锦乐')\n",
      "(4, 0, '男', '邹新宇')\n"
     ]
    }
   ],
   "source": [
    "sql = \"select * from student where id <= 20 limit 4\"\n",
    "cursor.execute(sql)\n",
    "results = cursor.fetchall()\n",
    "for row in results:\n",
    "    print(row)"
   ]
  },
  {
   "cell_type": "markdown",
   "metadata": {},
   "source": [
    "### 插入操作"
   ]
  },
  {
   "cell_type": "code",
   "execution_count": 68,
   "metadata": {
    "collapsed": true
   },
   "outputs": [],
   "source": [
    "sql = \"insert into `class`(`name`) values('高一五班');\"\n",
    "cursor = db.cursor()\n",
    "cursor.execute(sql)\n",
    "cursor.execute(sql)\n",
    "db.commit()"
   ]
  },
  {
   "cell_type": "markdown",
   "metadata": {},
   "source": [
    "### 删除操作"
   ]
  },
  {
   "cell_type": "code",
   "execution_count": 69,
   "metadata": {
    "collapsed": true
   },
   "outputs": [],
   "source": [
    "sql = \"delete from `class` where `name`='高一五班'\"\n",
    "cursor = db.cursor()\n",
    "cursor.execute(sql)\n",
    "db.commit()"
   ]
  },
  {
   "cell_type": "markdown",
   "metadata": {},
   "source": [
    "### 更新操作"
   ]
  },
  {
   "cell_type": "code",
   "execution_count": 70,
   "metadata": {
    "collapsed": true
   },
   "outputs": [],
   "source": [
    "sql = \"update `class` set `name`='高一十四班' where `id`=4;\"\n",
    "cursor = db.cursor()\n",
    "cursor.execute(sql)\n",
    "db.commit()"
   ]
  },
  {
   "cell_type": "markdown",
   "metadata": {},
   "source": [
    "### 捕捉异常"
   ]
  },
  {
   "cell_type": "code",
   "execution_count": 73,
   "metadata": {},
   "outputs": [
    {
     "ename": "TypeError",
     "evalue": "unsupported operand type(s) for +: 'int' and 'str'",
     "output_type": "error",
     "traceback": [
      "\u001b[0;31m---------------------------------------------------------------------------\u001b[0m",
      "\u001b[0;31mTypeError\u001b[0m                                 Traceback (most recent call last)",
      "\u001b[0;32m<ipython-input-73-ce8b6729d737>\u001b[0m in \u001b[0;36m<module>\u001b[0;34m()\u001b[0m\n\u001b[1;32m      1\u001b[0m \u001b[0ma\u001b[0m \u001b[0;34m=\u001b[0m \u001b[0;36m10\u001b[0m\u001b[0;34m\u001b[0m\u001b[0m\n\u001b[0;32m----> 2\u001b[0;31m \u001b[0mb\u001b[0m \u001b[0;34m=\u001b[0m \u001b[0ma\u001b[0m \u001b[0;34m+\u001b[0m \u001b[0;34m'hello'\u001b[0m\u001b[0;34m\u001b[0m\u001b[0m\n\u001b[0m",
      "\u001b[0;31mTypeError\u001b[0m: unsupported operand type(s) for +: 'int' and 'str'"
     ]
    }
   ],
   "source": [
    "a = 10\n",
    "b = a + 'hello'"
   ]
  },
  {
   "cell_type": "code",
   "execution_count": 74,
   "metadata": {
    "scrolled": true
   },
   "outputs": [
    {
     "name": "stdout",
     "output_type": "stream",
     "text": [
      "unsupported operand type(s) for +: 'int' and 'str'\n"
     ]
    }
   ],
   "source": [
    "try:\n",
    "    a = 10\n",
    "    b = a + 'hello'\n",
    "except TypeError as e:\n",
    "    print(e)"
   ]
  },
  {
   "cell_type": "markdown",
   "metadata": {},
   "source": [
    "### 遗留问题： 数据库回滚操作失败"
   ]
  },
  {
   "cell_type": "code",
   "execution_count": 80,
   "metadata": {},
   "outputs": [
    {
     "name": "stdout",
     "output_type": "stream",
     "text": [
      "unsupported operand type(s) for +: 'int' and 'str'\n"
     ]
    }
   ],
   "source": [
    "try:\n",
    "    sql = \"insert into `class`(`name`) values('高一十六班')\"\n",
    "    cursor = db.cursor()\n",
    "    cursor.execute(sql)\n",
    "    error = 10 + 'sdfsdf'\n",
    "    db.commit()\n",
    "except Exception as e:\n",
    "    print(e)\n",
    "    db.rollback()\n",
    "  "
   ]
  },
  {
   "cell_type": "markdown",
   "metadata": {},
   "source": [
    "# 爬虫"
   ]
  },
  {
   "cell_type": "markdown",
   "metadata": {},
   "source": [
    "### python库"
   ]
  },
  {
   "cell_type": "markdown",
   "metadata": {},
   "source": [
    "    1、requests 用来获取页面内容\n",
    "    2、BeautifulSoup"
   ]
  },
  {
   "cell_type": "markdown",
   "metadata": {},
   "source": [
    "### 安装\n",
    "    pip install reqeusts\n",
    "    pip install bs4"
   ]
  },
  {
   "cell_type": "code",
   "execution_count": 160,
   "metadata": {
    "collapsed": true
   },
   "outputs": [],
   "source": [
    "import time\n",
    "import MySQLdb\n",
    "import requests\n",
    "\n",
    "from bs4 import BeautifulSoup"
   ]
  },
  {
   "cell_type": "code",
   "execution_count": 168,
   "metadata": {
    "collapsed": true
   },
   "outputs": [],
   "source": [
    "# 此处为数据库配置文件，每个人的配置不同，因此需要同学们自己配置\n",
    "\n",
    "DATABASE = {\n",
    "    'host': '127.0.0.1', # 如果是远程数据库，此处为远程服务器的ip地址\n",
    "    'database': '',\n",
    "    'user': '',\n",
    "    'password': '',\n",
    "    'charset': 'utf8mb4'\n",
    "}"
   ]
  },
  {
   "cell_type": "code",
   "execution_count": 164,
   "metadata": {
    "collapsed": true
   },
   "outputs": [],
   "source": [
    "# 获取url下的页面内容，返回soup对象\n",
    "def get_page(url):\n",
    "    responce = requests.get(url)\n",
    "    soup = BeautifulSoup(responce.text, 'lxml')\n",
    "    return soup\n",
    "\n",
    "# 封装成函数，作用是获取列表页下面的所有租房页面的链接，返回一个链接列表\n",
    "def get_links(link_url):\n",
    "    soup = get_page(link_url)\n",
    "    links_div = soup.find_all('div', class_=\"pic-panel\")\n",
    "    links = [div.a.get('href') for div in links_div]\n",
    "    return links\n",
    "\n",
    "def get_house_info(house_url):\n",
    "    soup = get_page(house_url)\n",
    "    price = soup.find('span', class_='total').text\n",
    "    unit = soup.find('span', class_='unit').text.strip()\n",
    "    house_info = soup.find_all('p')\n",
    "    area = house_info[0].text[3:]\n",
    "    layout = house_info[1].text[5:]\n",
    "    floor = house_info[2].text[3:]\n",
    "    direction = house_info[3].text[5:]\n",
    "    subway = house_info[4].text[3:]\n",
    "    community = house_info[5].text[3:]\n",
    "    location = house_info[6].text[3:]\n",
    "    create_time = house_info[7].text[3:]\n",
    "    agent = soup.find('a', class_='name LOGCLICK')\n",
    "    agent_name = agent.text\n",
    "    agent_id = agent.get('data-el')\n",
    "    evaluate = soup.find('div', class_='evaluate')\n",
    "    score, number = evaluate.find('span', class_='rate').text.split('/')\n",
    "    times = evaluate.find('span', class_='time').text[5:-1]\n",
    "    info = {\n",
    "            '价格': price,\n",
    "            '单位': unit,\n",
    "            '面积': area,\n",
    "            '户型': layout,\n",
    "            '楼层': floor,\n",
    "            '朝向': direction,\n",
    "            '发布时间': create_time,\n",
    "            '地铁': subway,\n",
    "            '小区': community,\n",
    "            '位置': location,\n",
    "            '经纪人名字': agent_name,\n",
    "            '经纪人id': agent_id\n",
    "    }\n",
    "    return info\n",
    "\n",
    "def get_db(setting):\n",
    "    return MySQLdb.connect(**setting)\n",
    "\n",
    "def insert(db, house):\n",
    "    values = \"'{}',\"* 10 + \"'{}'\"\n",
    "    sql_values = values.format(house['价格'],house['单位'],house['面积'],house['户型'],\n",
    "                              house['楼层'],house['朝向'],house['地铁'],house['小区'],\n",
    "                              house['位置'],house['经纪人名字'],house['经纪人id'])\n",
    "    sql = \"\"\"\n",
    "        insert into `house`(`price`, `unit`, `area`, `layout`, `floor`, `direction`,\n",
    "        `subway`, `community`, `location`, `agent_name`, `agent_id`)\n",
    "        values({})\n",
    "    \"\"\".format(sql_values)\n",
    "    print(sql)\n",
    "    cursor = db.cursor()\n",
    "    cursor.execute(sql)\n",
    "    db.commit()"
   ]
  },
  {
   "cell_type": "code",
   "execution_count": 167,
   "metadata": {
    "collapsed": true
   },
   "outputs": [],
   "source": [
    "db = get_db(DATABASE)\n",
    "links = get_links('https://bj.lianjia.com/zufang/')\n",
    "for link in links:\n",
    "    time.sleep(2)\n",
    "    print('获取一个房子信息成功')\n",
    "    house = get_house_info(link)\n",
    "    insert(db, house)"
   ]
  }
 ],
 "metadata": {
  "kernelspec": {
   "display_name": "Python 3",
   "language": "python",
   "name": "python3"
  },
  "language_info": {
   "codemirror_mode": {
    "name": "ipython",
    "version": 3
   },
   "file_extension": ".py",
   "mimetype": "text/x-python",
   "name": "python",
   "nbconvert_exporter": "python",
   "pygments_lexer": "ipython3",
   "version": "3.6.1"
  }
 },
 "nbformat": 4,
 "nbformat_minor": 2
}
