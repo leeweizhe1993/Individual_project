{
 "cells": [
  {
   "cell_type": "code",
   "execution_count": 11,
   "metadata": {},
   "outputs": [
    {
     "name": "stdout",
     "output_type": "stream",
     "text": [
      "14.5 µs ± 568 ns per loop (mean ± std. dev. of 7 runs, 100000 loops each)\n"
     ]
    }
   ],
   "source": [
    "def loop(size):\n",
    "    for i in range(size):\n",
    "        pass\n",
    "    \n",
    "%timeit loop(1000)"
   ]
  },
  {
   "cell_type": "code",
   "execution_count": 3,
   "metadata": {},
   "outputs": [],
   "source": [
    "%load_ext cython"
   ]
  },
  {
   "cell_type": "code",
   "execution_count": 9,
   "metadata": {},
   "outputs": [],
   "source": [
    "%%cython\n",
    "cpdef void noop_loop(int size):\n",
    "    for i in range(size):\n",
    "        pass"
   ]
  },
  {
   "cell_type": "code",
   "execution_count": 10,
   "metadata": {},
   "outputs": [
    {
     "name": "stdout",
     "output_type": "stream",
     "text": [
      "27.4 ns ± 0.144 ns per loop (mean ± std. dev. of 7 runs, 10000000 loops each)\n"
     ]
    }
   ],
   "source": [
    "%timeit noop_loop(1000)"
   ]
  },
  {
   "cell_type": "code",
   "execution_count": 4,
   "metadata": {},
   "outputs": [
    {
     "data": {
      "text/plain": [
       "\u001b[0;31mDocstring:\u001b[0m\n",
       "::\n",
       "\n",
       "  %cython [-a] [-+] [-3] [-2] [-f] [-c COMPILE_ARGS]\n",
       "              [--link-args LINK_ARGS] [-l LIB] [-n NAME] [-L dir] [-I INCLUDE]\n",
       "              [-S SRC] [--pgo] [--verbose]\n",
       "\n",
       "Compile and import everything from a Cython code cell.\n",
       "\n",
       "The contents of the cell are written to a `.pyx` file in the\n",
       "directory `IPYTHONDIR/cython` using a filename with the hash of the\n",
       "code. This file is then cythonized and compiled. The resulting module\n",
       "is imported and all of its symbols are injected into the user's\n",
       "namespace. The usage is similar to that of `%%cython_pyximport` but\n",
       "you don't have to pass a module name::\n",
       "\n",
       "    %%cython\n",
       "    def f(x):\n",
       "        return 2.0*x\n",
       "\n",
       "To compile OpenMP codes, pass the required  `--compile-args`\n",
       "and `--link-args`.  For example with gcc::\n",
       "\n",
       "    %%cython --compile-args=-fopenmp --link-args=-fopenmp\n",
       "    ...\n",
       "\n",
       "To enable profile guided optimisation, pass the ``--pgo`` option.\n",
       "Note that the cell itself needs to take care of establishing a suitable\n",
       "profile when executed. This can be done by implementing the functions to\n",
       "optimise, and then calling them directly in the same cell on some realistic\n",
       "training data like this::\n",
       "\n",
       "    %%cython --pgo\n",
       "    def critical_function(data):\n",
       "        for item in data:\n",
       "            ...\n",
       "\n",
       "    # execute function several times to build profile\n",
       "    from somewhere import some_typical_data\n",
       "    for _ in range(100):\n",
       "        critical_function(some_typical_data)\n",
       "\n",
       "In Python 3.5 and later, you can distinguish between the profile and\n",
       "non-profile runs as follows::\n",
       "\n",
       "    if \"_pgo_\" in __name__:\n",
       "        ...  # execute critical code here\n",
       "\n",
       "optional arguments:\n",
       "  -a, --annotate        Produce a colorized HTML version of the source.\n",
       "  -+, --cplus           Output a C++ rather than C file.\n",
       "  -3                    Select Python 3 syntax.\n",
       "  -2                    Select Python 2 syntax.\n",
       "  -f, --force           Force the compilation of a new module, even if the\n",
       "                        source has been previously compiled.\n",
       "  -c COMPILE_ARGS, --compile-args COMPILE_ARGS\n",
       "                        Extra flags to pass to compiler via the\n",
       "                        `extra_compile_args` Extension flag (can be specified\n",
       "                        multiple times).\n",
       "  --link-args LINK_ARGS\n",
       "                        Extra flags to pass to linker via the\n",
       "                        `extra_link_args` Extension flag (can be specified\n",
       "                        multiple times).\n",
       "  -l LIB, --lib LIB     Add a library to link the extension against (can be\n",
       "                        specified multiple times).\n",
       "  -n NAME, --name NAME  Specify a name for the Cython module.\n",
       "  -L dir                Add a path to the list of library directories (can be\n",
       "                        specified multiple times).\n",
       "  -I INCLUDE, --include INCLUDE\n",
       "                        Add a path to the list of include directories (can be\n",
       "                        specified multiple times).\n",
       "  -S SRC, --src SRC     Add a path to the list of src files (can be specified\n",
       "                        multiple times).\n",
       "  --pgo                 Enable profile guided optimisation in the C compiler.\n",
       "                        Compiles the cell twice and executes it in between to\n",
       "                        generate a runtime profile.\n",
       "  --verbose             Print debug information like generated .c/.cpp file\n",
       "                        location and exact gcc/g++ command invoked.\n",
       "\u001b[0;31mFile:\u001b[0m      ~/anaconda3/lib/python3.6/site-packages/Cython/Build/IpythonMagic.py\n"
      ]
     },
     "metadata": {},
     "output_type": "display_data"
    }
   ],
   "source": [
    "%%cython?"
   ]
  },
  {
   "cell_type": "code",
   "execution_count": null,
   "metadata": {},
   "outputs": [],
   "source": []
  }
 ],
 "metadata": {
  "kernelspec": {
   "display_name": "Python 3",
   "language": "python",
   "name": "python3"
  },
  "language_info": {
   "codemirror_mode": {
    "name": "ipython",
    "version": 3
   },
   "file_extension": ".py",
   "mimetype": "text/x-python",
   "name": "python",
   "nbconvert_exporter": "python",
   "pygments_lexer": "ipython3",
   "version": "3.6.6"
  }
 },
 "nbformat": 4,
 "nbformat_minor": 2
}
