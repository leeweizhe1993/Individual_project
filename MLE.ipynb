{
 "cells": [
  {
   "cell_type": "code",
   "execution_count": 24,
   "metadata": {},
   "outputs": [],
   "source": [
    "from scipy.stats import norm\n",
    "from sympy import symbols, pi, exp, log, diff, simplify, solve"
   ]
  },
  {
   "cell_type": "code",
   "execution_count": 3,
   "metadata": {},
   "outputs": [
    {
     "data": {
      "text/plain": [
       "0.24197072451914337"
      ]
     },
     "execution_count": 3,
     "metadata": {},
     "output_type": "execute_result"
    }
   ],
   "source": [
    "norm.pdf(1, 2)"
   ]
  },
  {
   "cell_type": "code",
   "execution_count": 8,
   "metadata": {},
   "outputs": [
    {
     "data": {
      "text/latex": [
       "$\\displaystyle \\log{\\left(\\frac{0.707106781186547 e^{- \\frac{\\left(- m + x\\right)^{2}}{2 s^{2}}}}{\\pi^{0.5} s} \\right)}$"
      ],
      "text/plain": [
       "log(0.707106781186547*pi**(-0.5)*exp(-(-m + x)**2/(2*s**2))/s)"
      ]
     },
     "execution_count": 8,
     "metadata": {},
     "output_type": "execute_result"
    }
   ],
   "source": [
    "x = symbols('x')\n",
    "# 总体 mu 和 sigma\n",
    "m, s = symbols('m s')\n",
    "# logpdf = log(norm.pdf(m, s))\n",
    "pdf = 1/ (s * (2*pi)**0.5)*exp( -(x-m)**2 / (2*s**2) )\n",
    "logpdf = log(pdf)\n",
    "logpdf   #对分布取对数"
   ]
  },
  {
   "cell_type": "code",
   "execution_count": 9,
   "metadata": {},
   "outputs": [
    {
     "data": {
      "text/latex": [
       "$\\displaystyle \\log{\\left(\\frac{0.707106781186547 e^{- \\frac{\\left(1 - m\\right)^{2}}{2 s^{2}}}}{\\pi^{0.5} s} \\right)} + 2 \\log{\\left(\\frac{0.707106781186547 e^{- \\frac{\\left(2 - m\\right)^{2}}{2 s^{2}}}}{\\pi^{0.5} s} \\right)} + 2 \\log{\\left(\\frac{0.707106781186547 e^{- \\frac{\\left(3 - m\\right)^{2}}{2 s^{2}}}}{\\pi^{0.5} s} \\right)} + 2 \\log{\\left(\\frac{0.707106781186547 e^{- \\frac{\\left(4 - m\\right)^{2}}{2 s^{2}}}}{\\pi^{0.5} s} \\right)} + 2 \\log{\\left(\\frac{0.707106781186547 e^{- \\frac{\\left(5 - m\\right)^{2}}{2 s^{2}}}}{\\pi^{0.5} s} \\right)} + \\log{\\left(\\frac{0.707106781186547 e^{- \\frac{\\left(6 - m\\right)^{2}}{2 s^{2}}}}{\\pi^{0.5} s} \\right)}$"
      ],
      "text/plain": [
       "log(0.707106781186547*pi**(-0.5)*exp(-(1 - m)**2/(2*s**2))/s) + 2*log(0.707106781186547*pi**(-0.5)*exp(-(2 - m)**2/(2*s**2))/s) + 2*log(0.707106781186547*pi**(-0.5)*exp(-(3 - m)**2/(2*s**2))/s) + 2*log(0.707106781186547*pi**(-0.5)*exp(-(4 - m)**2/(2*s**2))/s) + 2*log(0.707106781186547*pi**(-0.5)*exp(-(5 - m)**2/(2*s**2))/s) + log(0.707106781186547*pi**(-0.5)*exp(-(6 - m)**2/(2*s**2))/s)"
      ]
     },
     "execution_count": 9,
     "metadata": {},
     "output_type": "execute_result"
    }
   ],
   "source": [
    "X = [1,2,3,4,5,3,4,2,5,6]\n",
    "logP = 0\n",
    "for xi in X:\n",
    "    '''定义似然函数'''\n",
    "    logP += logpdf.subs({x: xi})\n",
    "logP"
   ]
  },
  {
   "cell_type": "code",
   "execution_count": 21,
   "metadata": {},
   "outputs": [
    {
     "name": "stdout",
     "output_type": "stream",
     "text": [
      "mu偏导: (35.0 - 10.0*m)/s**2\n",
      "sigma偏导: (10.0*m**2 - 70.0*m - 10.0*s**2 + 145.0)/s**3\n"
     ]
    }
   ],
   "source": [
    "logp_diff_m = diff(logP, m)\n",
    "logp_diff_s = diff(logP, s)\n",
    "\n",
    "print('mu偏导:', simplify(logp_diff_m))\n",
    "print('sigma偏导:', simplify(logp_diff_s))"
   ]
  },
  {
   "cell_type": "code",
   "execution_count": 25,
   "metadata": {},
   "outputs": [
    {
     "data": {
      "text/plain": [
       "[(3.50000000000000, -1.50000000000000), (3.50000000000000, 1.50000000000000)]"
      ]
     },
     "execution_count": 25,
     "metadata": {},
     "output_type": "execute_result"
    }
   ],
   "source": [
    "funcs = [logp_diff_m, logp_diff_s]\n",
    "solve(funcs, [m, s])"
   ]
  },
  {
   "cell_type": "markdown",
   "metadata": {},
   "source": [
    "得到了m和s的值, 有两组解, 但是我们知道s>0, 所以第二组解是对的"
   ]
  },
  {
   "cell_type": "code",
   "execution_count": null,
   "metadata": {},
   "outputs": [],
   "source": []
  }
 ],
 "metadata": {
  "kernelspec": {
   "display_name": "Python 3",
   "language": "python",
   "name": "python3"
  },
  "language_info": {
   "codemirror_mode": {
    "name": "ipython",
    "version": 3
   },
   "file_extension": ".py",
   "mimetype": "text/x-python",
   "name": "python",
   "nbconvert_exporter": "python",
   "pygments_lexer": "ipython3",
   "version": "3.7.3"
  }
 },
 "nbformat": 4,
 "nbformat_minor": 2
}
