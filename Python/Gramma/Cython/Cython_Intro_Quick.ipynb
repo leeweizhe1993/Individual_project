{
 "cells": [
  {
   "cell_type": "code",
   "execution_count": 7,
   "metadata": {},
   "outputs": [],
   "source": [
    "%load_ext cython"
   ]
  },
  {
   "cell_type": "code",
   "execution_count": 6,
   "metadata": {},
   "outputs": [
    {
     "name": "stdout",
     "output_type": "stream",
     "text": [
      "Python 3.6.6 final 0\n",
      "Cython 0.29\n"
     ]
    }
   ],
   "source": [
    "import sys\n",
    "import Cython\n",
    "print(\"Python %d.%d.%d %s %s\" % sys.version_info)\n",
    "print(\"Cython %s\" % Cython.__version__)"
   ]
  },
  {
   "cell_type": "markdown",
   "metadata": {},
   "source": [
    "# Static type declarations and Coercion"
   ]
  },
  {
   "cell_type": "code",
   "execution_count": 5,
   "metadata": {},
   "outputs": [
    {
     "name": "stderr",
     "output_type": "stream",
     "text": [
      "UsageError: Cell magic `%%cython` not found.\n"
     ]
    }
   ],
   "source": [
    "%%cython -a\n",
    "\n",
    "def add_one(x):\n",
    "    return x + 1\n",
    "\n",
    "def add_cint(x, int y):\n",
    "    return x + y\n",
    "\n",
    "cdef int A = 5\n",
    "\n",
    "def add_cints(int x):\n",
    "    return x + A"
   ]
  },
  {
   "cell_type": "code",
   "execution_count": 4,
   "metadata": {},
   "outputs": [
    {
     "data": {
      "text/plain": [
       "6"
      ]
     },
     "execution_count": 4,
     "metadata": {},
     "output_type": "execute_result"
    }
   ],
   "source": [
    "add_one(5)"
   ]
  },
  {
   "cell_type": "code",
   "execution_count": 5,
   "metadata": {},
   "outputs": [
    {
     "data": {
      "text/plain": [
       "6"
      ]
     },
     "execution_count": 5,
     "metadata": {},
     "output_type": "execute_result"
    }
   ],
   "source": [
    "add_cint(2, 4)"
   ]
  },
  {
   "cell_type": "code",
   "execution_count": 6,
   "metadata": {},
   "outputs": [
    {
     "data": {
      "text/plain": [
       "8"
      ]
     },
     "execution_count": 6,
     "metadata": {},
     "output_type": "execute_result"
    }
   ],
   "source": [
    "add_cints(3)"
   ]
  },
  {
   "cell_type": "markdown",
   "metadata": {},
   "source": [
    "# Functions"
   ]
  },
  {
   "cell_type": "code",
   "execution_count": 8,
   "metadata": {},
   "outputs": [],
   "source": [
    "%%cython\n",
    "\n",
    "def pyfunc(x):\n",
    "    return x + 1\n",
    "\n",
    "def cyfunc(int x):\n",
    "    return x + 1\n",
    "\n",
    "cdef int cfunc(int x):\n",
    "    return x + 1\n",
    "\n",
    "cpdef cypyfunc(int x):\n",
    "    y = cfunc(x + 1)\n",
    "    return y * 2"
   ]
  },
  {
   "cell_type": "code",
   "execution_count": 9,
   "metadata": {},
   "outputs": [
    {
     "data": {
      "text/plain": [
       "3"
      ]
     },
     "execution_count": 9,
     "metadata": {},
     "output_type": "execute_result"
    }
   ],
   "source": [
    "pyfunc(2)"
   ]
  },
  {
   "cell_type": "code",
   "execution_count": 10,
   "metadata": {},
   "outputs": [
    {
     "data": {
      "text/plain": [
       "3"
      ]
     },
     "execution_count": 10,
     "metadata": {},
     "output_type": "execute_result"
    }
   ],
   "source": [
    "cyfunc(2)"
   ]
  },
  {
   "cell_type": "code",
   "execution_count": null,
   "metadata": {},
   "outputs": [],
   "source": [
    "#cfunc(2)"
   ]
  },
  {
   "cell_type": "code",
   "execution_count": 11,
   "metadata": {},
   "outputs": [
    {
     "data": {
      "text/plain": [
       "8"
      ]
     },
     "execution_count": 11,
     "metadata": {},
     "output_type": "execute_result"
    }
   ],
   "source": [
    "cypyfunc(2)"
   ]
  },
  {
   "cell_type": "markdown",
   "metadata": {},
   "source": [
    "# Function \"JIT compiling\""
   ]
  },
  {
   "cell_type": "code",
   "execution_count": 12,
   "metadata": {
    "collapsed": true
   },
   "outputs": [],
   "source": [
    "# NOTE: Python code!\n",
    "\n",
    "import cython\n",
    "\n",
    "@cython.compile\n",
    "def calc(a, b):\n",
    "    for x in range(a):\n",
    "        b += x\n",
    "    return b\n",
    "    "
   ]
  },
  {
   "cell_type": "code",
   "execution_count": 13,
   "metadata": {},
   "outputs": [
    {
     "name": "stdout",
     "output_type": "stream",
     "text": [
      "Compiling /Users/lee_excited/Library/Caches/cython/inline/_cython_inline_74e7cfeb4fabd920a3f5180de961f1bb.pyx because it changed.\n",
      "[1/1] Cythonizing /Users/lee_excited/Library/Caches/cython/inline/_cython_inline_74e7cfeb4fabd920a3f5180de961f1bb.pyx\n"
     ]
    },
    {
     "name": "stderr",
     "output_type": "stream",
     "text": [
      "/Users/lee_excited/anaconda3/lib/python3.6/site-packages/Cython/Compiler/Main.py:367: FutureWarning: Cython directive 'language_level' not set, using 2 for now (Py2). This will change in a later release! File: /Users/lee_excited/Library/Caches/cython/inline/_cython_inline_74e7cfeb4fabd920a3f5180de961f1bb.pyx\n",
      "  tree = Parsing.p_module(s, pxd, full_module_name)\n",
      "warning: /Users/lee_excited/Library/Caches/cython/inline/_cython_inline_74e7cfeb4fabd920a3f5180de961f1bb.pyx:9:4: Unreachable code\n"
     ]
    },
    {
     "data": {
      "text/plain": [
       "65"
      ]
     },
     "execution_count": 13,
     "metadata": {},
     "output_type": "execute_result"
    }
   ],
   "source": [
    "calc(10, 20)"
   ]
  },
  {
   "cell_type": "code",
   "execution_count": 14,
   "metadata": {},
   "outputs": [
    {
     "data": {
      "text/plain": [
       "Cython.Build.Inline.RuntimeCompiledFunction"
      ]
     },
     "execution_count": 14,
     "metadata": {},
     "output_type": "execute_result"
    }
   ],
   "source": [
    "type(calc)"
   ]
  },
  {
   "cell_type": "markdown",
   "metadata": {},
   "source": [
    "# Calling C functions"
   ]
  },
  {
   "cell_type": "code",
   "execution_count": null,
   "metadata": {},
   "outputs": [],
   "source": [
    "%%cython -a\n",
    "# libc math functions\n",
    "from libc cimport math\n",
    "\n",
    "print( math.sin(math.M_PI / 2) )\n"
   ]
  },
  {
   "cell_type": "code",
   "execution_count": null,
   "metadata": {},
   "outputs": [],
   "source": [
    "%%cython\n",
    "# dynamic C memory allocation\n",
    "from libc.stdlib cimport malloc, free\n",
    "\n",
    "cdef int* cmem = <int*>malloc(22 * sizeof(int))\n",
    "if not cmem:\n",
    "    raise MemoryError()\n",
    "free(cmem)\n"
   ]
  },
  {
   "cell_type": "code",
   "execution_count": null,
   "metadata": {},
   "outputs": [],
   "source": [
    "%%cython\n",
    "# dynamic CPython heap memory allocation\n",
    "from cpython.mem cimport PyMem_Malloc, PyMem_Free\n",
    "\n",
    "cdef int* pymem = <int*>PyMem_Malloc(22 * sizeof(int))\n",
    "if not pymem:\n",
    "    raise MemoryError()\n",
    "    \n",
    "try:\n",
    "    pymem[:] = [1,2,3]\n",
    "    print( pymem[0] + pymem[2] )\n",
    "finally:\n",
    "    PyMem_Free(pymem)\n"
   ]
  },
  {
   "cell_type": "markdown",
   "metadata": {},
   "source": [
    "# Auto-wrapping C functions to Python"
   ]
  },
  {
   "cell_type": "code",
   "execution_count": null,
   "metadata": {},
   "outputs": [],
   "source": [
    "%%cython -a\n",
    "from libc cimport math, stdlib\n",
    "py_sin = math.sin\n",
    "py_atoi = stdlib.atoi"
   ]
  },
  {
   "cell_type": "code",
   "execution_count": null,
   "metadata": {},
   "outputs": [],
   "source": [
    "py_sin(1/2)"
   ]
  },
  {
   "cell_type": "code",
   "execution_count": null,
   "metadata": {},
   "outputs": [],
   "source": [
    "py_atoi(b'123')"
   ]
  },
  {
   "cell_type": "markdown",
   "metadata": {},
   "source": [
    "# External libraries"
   ]
  },
  {
   "cell_type": "code",
   "execution_count": null,
   "metadata": {},
   "outputs": [],
   "source": [
    "%%cython\n",
    "# distutils: include_dirs=/usr/include/luajit-2.0\n",
    "# distutils: libraries=luajit-5.1\n",
    "\n",
    "## distutils: include_dirs=/usr/include/lua5.1\n",
    "## distutils: libraries=lua5.1\n",
    "\n",
    "cdef extern from \"lua.h\":\n",
    "    ctypedef struct lua_State\n",
    "    lua_State *luaL_newstate ()\n",
    "    void lua_close (lua_State *L)\n",
    "    int luaL_loadbuffer (lua_State *L, char *buff, size_t sz, char *name)\n",
    "    void lua_settop (lua_State *L, int idx)\n",
    "    int lua_gettop (lua_State *L)\n",
    "    int lua_pcall (lua_State *L, int nargs, int nresults, int errfunc)\n",
    "    int lua_type (lua_State *L, int idx)\n",
    "    float lua_tonumber (lua_State *L, int idx)\n",
    "    enum:\n",
    "        LUA_TNUMBER\n",
    "        LUA_MULTRET\n",
    "\n",
    "\n",
    "def run_lua(code):\n",
    "    cdef int result_status\n",
    "    cdef float result\n",
    "\n",
    "    if isinstance(code, unicode):\n",
    "        code = code.encode('utf8')\n",
    "    elif not isinstance(code, bytes):\n",
    "        raise ValueError(\"code must be a string\")\n",
    "\n",
    "    # init Lua runtime\n",
    "    L = luaL_newstate()\n",
    "    if not L:\n",
    "        raise MemoryError()\n",
    "\n",
    "    try:\n",
    "        # compile Lua code\n",
    "        if luaL_loadbuffer(L, code, len(code), '<python>'):\n",
    "            raise SyntaxError()\n",
    "\n",
    "        # execute code\n",
    "        if lua_pcall(L, 0, LUA_MULTRET, 0):\n",
    "            raise RuntimeError()\n",
    "\n",
    "        # convert return value (Lua number == float)\n",
    "        assert lua_type(L, 1) == LUA_TNUMBER, \"not a numeric return value\"\n",
    "        return lua_tonumber(L, 1)\n",
    "    finally:\n",
    "        lua_settop(L, 0)\n",
    "        lua_close(L)\n"
   ]
  },
  {
   "cell_type": "code",
   "execution_count": null,
   "metadata": {},
   "outputs": [],
   "source": [
    "code = '''\n",
    "function fib(i)\n",
    "    if i > 2 then\n",
    "        return fib(i-1) + fib(i-2)\n",
    "    else\n",
    "        return 1\n",
    "    end\n",
    "end\n",
    "'''\n",
    "\n",
    "run_lua(code + \"return fib(10)\")"
   ]
  },
  {
   "cell_type": "code",
   "execution_count": null,
   "metadata": {},
   "outputs": [],
   "source": [
    "%%timeit bench = code + \"return fib(24)\"\n",
    "\n",
    "run_lua(bench)"
   ]
  },
  {
   "cell_type": "code",
   "execution_count": null,
   "metadata": {
    "collapsed": true
   },
   "outputs": [],
   "source": [
    "# distutils: include_dirs=/usr/include/luajit-2.0\n",
    "# distutils: libraries=luajit-5.1\n"
   ]
  },
  {
   "cell_type": "markdown",
   "metadata": {},
   "source": [
    "# C arrays"
   ]
  },
  {
   "cell_type": "code",
   "execution_count": null,
   "metadata": {},
   "outputs": [],
   "source": [
    "%%cython -a\n",
    "def carrays():\n",
    "    cdef int[10] a, b\n",
    "\n",
    "    a[:5] = [1,2,3,4,5]    # slice assignment\n",
    "    b = a                  # copy by value\n",
    "    b[5:] = [6,7,8,9,10]\n",
    "\n",
    "    for i in b[:3]:        # for-loop iteration\n",
    "        print(i+1)\n",
    "\n",
    "    return b"
   ]
  },
  {
   "cell_type": "code",
   "execution_count": null,
   "metadata": {},
   "outputs": [],
   "source": [
    "carrays()"
   ]
  },
  {
   "cell_type": "markdown",
   "metadata": {},
   "source": [
    "# C++"
   ]
  },
  {
   "cell_type": "code",
   "execution_count": null,
   "metadata": {},
   "outputs": [],
   "source": [
    "%%cython -a\n",
    "# distutils: language=c++\n",
    "\n",
    "from libcpp.vector cimport vector\n",
    "\n",
    "def use_cpp_vector(*values):\n",
    "    cdef vector[int] v = values\n",
    "\n",
    "    if values:\n",
    "        assert values[0] == v[0]\n",
    "\n",
    "    # \"validate\" the copy above in N^2 time :)\n",
    "    for c_value in v:\n",
    "        assert c_value in values\n",
    "\n",
    "    process_in_ext_cpp_func(v)\n",
    "\n",
    "    return v\n",
    "\n",
    "\n",
    "cdef void process_in_ext_cpp_func(vector[int] &v):\n",
    "    ...\n"
   ]
  },
  {
   "cell_type": "code",
   "execution_count": null,
   "metadata": {},
   "outputs": [],
   "source": [
    "use_cpp_vector(1, 4, 77)"
   ]
  }
 ],
 "metadata": {
  "kernelspec": {
   "display_name": "Python 3",
   "language": "python",
   "name": "python3"
  },
  "language_info": {
   "codemirror_mode": {
    "name": "ipython",
    "version": 3
   },
   "file_extension": ".py",
   "mimetype": "text/x-python",
   "name": "python",
   "nbconvert_exporter": "python",
   "pygments_lexer": "ipython3",
   "version": "3.6.6"
  }
 },
 "nbformat": 4,
 "nbformat_minor": 2
}
