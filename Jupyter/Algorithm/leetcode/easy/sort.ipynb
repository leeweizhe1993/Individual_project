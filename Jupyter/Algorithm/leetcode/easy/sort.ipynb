{
 "cells": [
  {
   "cell_type": "markdown",
   "metadata": {},
   "source": [
    "#### 1、给定两个有序整数数组 nums1 和 nums2，将 nums2 合并到 nums1 中，使得 num1 成为一个有序数组。"
   ]
  },
  {
   "cell_type": "code",
   "execution_count": 1,
   "metadata": {},
   "outputs": [],
   "source": [
    "def merge(nums1, m, nums2, n):\n",
    "    nums1[m:m + n] = nums2\n",
    "    return nums1.sort()"
   ]
  },
  {
   "cell_type": "markdown",
   "metadata": {},
   "source": [
    "#### 2、给定一个整数数组 nums ，找到一个具有最大和的连续子数组（子数组最少包含一个元素），返回其最大和。"
   ]
  },
  {
   "cell_type": "code",
   "execution_count": null,
   "metadata": {},
   "outputs": [],
   "source": [
    "def maxSubArray(nums):\n",
    "    sums = 0\n",
    "    max_str = nums[0]\n",
    "\n",
    "    for index in range(len(nums)):\n",
    "        if sums < 0:\n",
    "            sums = 0\n",
    "\n",
    "        sums += nums[index]\n",
    "\n",
    "        if sums > max_str:\n",
    "            max_str = sums\n",
    "\n",
    "    return max_str"
   ]
  },
  {
   "cell_type": "code",
   "execution_count": null,
   "metadata": {},
   "outputs": [],
   "source": [
    "def maxSubArray(nums):\n",
    "    result = []\n",
    "    sums = 0\n",
    "    for num in nums:\n",
    "        sums = sums + num if sums > 0 else num\n",
    "        result.append(sums)\n",
    "    return max(result)"
   ]
  },
  {
   "cell_type": "code",
   "execution_count": 12,
   "metadata": {},
   "outputs": [
    {
     "name": "stdout",
     "output_type": "stream",
     "text": [
      "(0, 1)\n",
      "(1, 2)\n",
      "(2, 3)\n",
      "(3, 7)\n",
      "(4, 9)\n"
     ]
    },
    {
     "data": {
      "text/plain": [
       "[2, 7, 9, 3, 1]"
      ]
     },
     "execution_count": 12,
     "metadata": {},
     "output_type": "execute_result"
    }
   ],
   "source": [
    "prices = [2,7,9,3,1]\n",
    "for i in enumerate(sorted(prices)):\n",
    "    print(i)\n",
    "prices"
   ]
  },
  {
   "cell_type": "code",
   "execution_count": 7,
   "metadata": {},
   "outputs": [
    {
     "name": "stdout",
     "output_type": "stream",
     "text": [
      "i = 2, last = 0, now = 2\n",
      "i = 7, last = 2, now = 7\n",
      "i = 9, last = 7, now = 11\n",
      "i = 3, last = 11, now = 11\n",
      "i = 1, last = 11, now = 12\n"
     ]
    },
    {
     "data": {
      "text/plain": [
       "12"
      ]
     },
     "execution_count": 7,
     "metadata": {},
     "output_type": "execute_result"
    }
   ],
   "source": [
    "def rob(nums):\n",
    "    now = last = 0\n",
    "    for i in nums:\n",
    "        last, now = now, max(i+last, now)\n",
    "        print(\"i = {}, last = {}, now = {}\".format(i, last, now))\n",
    "    return now\n",
    "price = [2,7,9,3,1]\n",
    "rob(price)"
   ]
  },
  {
   "cell_type": "code",
   "execution_count": null,
   "metadata": {},
   "outputs": [],
   "source": []
  }
 ],
 "metadata": {
  "kernelspec": {
   "display_name": "Python 3",
   "language": "python",
   "name": "python3"
  },
  "language_info": {
   "codemirror_mode": {
    "name": "ipython",
    "version": 3
   },
   "file_extension": ".py",
   "mimetype": "text/x-python",
   "name": "python",
   "nbconvert_exporter": "python",
   "pygments_lexer": "ipython3",
   "version": "3.6.5"
  }
 },
 "nbformat": 4,
 "nbformat_minor": 2
}
