{
 "cells": [
  {
   "cell_type": "code",
   "execution_count": 1,
   "metadata": {},
   "outputs": [],
   "source": [
    "import pandas as pd\n",
    "import numpy as np\n",
    "from sklearn.linear_model import LogisticRegressionCV\n",
    "from sklearn.ensemble import RandomForestClassifier\n",
    "from sklearn import metrics\n",
    "from sklearn.model_selection import train_test_split\n",
    "from sklearn.preprocessing import label_binarize\n",
    "import matplotlib as mpl\n",
    "import matplotlib.pyplot as plt"
   ]
  },
  {
   "cell_type": "code",
   "execution_count": 2,
   "metadata": {},
   "outputs": [
    {
     "name": "stdout",
     "output_type": "stream",
     "text": [
      "Wall time: 19.9 ms\n"
     ]
    }
   ],
   "source": [
    "%%time\n",
    "pd.set_option('display.width', 300)\n",
    "pd.set_option('display.max_columns', 300)\n",
    "\n",
    "data = pd.read_csv('D://Github//ML_Project//single_test//car.data', header = None)\n",
    "n_columns = len(data.columns)\n",
    "columns = ['buy', 'maintain', 'doors', 'persons', 'boot', 'saftey', 'accept']\n",
    "new_columns = dict(list(zip(np.arange(n_columns), columns)))\n",
    "data.rename(columns = new_columns, inplace = True)\n"
   ]
  },
  {
   "cell_type": "markdown",
   "metadata": {},
   "source": [
    "## one-hot编码"
   ]
  },
  {
   "cell_type": "code",
   "execution_count": 3,
   "metadata": {
    "scrolled": true
   },
   "outputs": [],
   "source": [
    "# one-hot编码\n",
    "x = pd.DataFrame()\n",
    "for col in columns[:-1]:\n",
    "    t = pd.get_dummies(data[col])\n",
    "    t = t.rename(columns=lambda x: col+'_'+str(x))\n",
    "    x = pd.concat((x, t), axis=1)\n",
    "\n",
    "y = pd.Categorical(data['accept']).codes"
   ]
  },
  {
   "cell_type": "markdown",
   "metadata": {},
   "source": [
    "## 拟合曲线"
   ]
  },
  {
   "cell_type": "code",
   "execution_count": 4,
   "metadata": {},
   "outputs": [
    {
     "name": "stdout",
     "output_type": "stream",
     "text": [
      "训练集精度： 0.96926713948\n",
      "测试集精度： 0.900826446281\n"
     ]
    }
   ],
   "source": [
    "x, x_test, y, y_test = train_test_split(x, y, test_size=0.3)\n",
    "clf = LogisticRegressionCV()\n",
    "clf.fit(x, y)\n",
    "x, x_test, y, y_test = train_test_split(x, y, test_size = 0.3)    #分割训练/测试集\n",
    "#使用交叉验证进行对数回归，惩罚项由lg(10^-3)~lg(10^4), 5折交叉\n",
    "#clf = LogisticRegressionCV(Cs = np.logspace(-3, 4, 8), cv = 5)\n",
    "clf = RandomForestClassifier(n_estimators = 50, max_depth = 7)\n",
    "clf.fit(x, y)\n",
    "\n",
    "y_hat = clf.predict(x)\n",
    "print('训练集精度：', metrics.accuracy_score(y, y_hat))\n",
    "y_test_hat = clf.predict(x_test)\n",
    "print('测试集精度：', metrics.accuracy_score(y_test, y_test_hat))\n",
    "n_class = len(np.unique(y))"
   ]
  },
  {
   "cell_type": "code",
   "execution_count": 5,
   "metadata": {},
   "outputs": [
    {
     "name": "stdout",
     "output_type": "stream",
     "text": [
      "Micro AUC:\t 0.988472250681\n"
     ]
    }
   ],
   "source": [
    "y_test_one_hot = label_binarize(y_test, classes = np.arange(n_class))\n",
    "y_test_one_hot_hat = clf.predict_proba(x_test)\n",
    "fpr, tpr, _ = metrics.roc_curve(y_test_one_hot.ravel(), y_test_one_hot_hat.ravel())\n",
    "print('Micro AUC:\\t', metrics.auc(fpr, tpr))"
   ]
  },
  {
   "cell_type": "code",
   "execution_count": 16,
   "metadata": {},
   "outputs": [],
   "source": [
    "from sklearn.preprocessing import OneHotEncoder"
   ]
  },
  {
   "cell_type": "code",
   "execution_count": 17,
   "metadata": {},
   "outputs": [
    {
     "data": {
      "text/plain": [
       "array([[ 0.,  1.,  0.,  0.,  1.,  0.,  1.,  0.],\n",
       "       [ 0.,  1.,  0.,  0.,  1.,  1.,  0.,  0.],\n",
       "       [ 0.,  0.,  1.,  1.,  0.,  0.,  0.,  1.],\n",
       "       [ 1.,  0.,  0.,  0.,  1.,  0.,  0.,  1.]])"
      ]
     },
     "execution_count": 17,
     "metadata": {},
     "output_type": "execute_result"
    }
   ],
   "source": [
    "ohe = OneHotEncoder( sparse = False)\n",
    "x = [[1, 2, 1],\n",
    "     [1, 2, 0],\n",
    "     [2, 0, 2],\n",
    "     [0, 2, 2]]\n",
    "x_onehot = ohe.fit_transform(x)\n",
    "x_onehot"
   ]
  }
 ],
 "metadata": {
  "kernelspec": {
   "display_name": "Python 3",
   "language": "python",
   "name": "python3"
  },
  "language_info": {
   "codemirror_mode": {
    "name": "ipython",
    "version": 3
   },
   "file_extension": ".py",
   "mimetype": "text/x-python",
   "name": "python",
   "nbconvert_exporter": "python",
   "pygments_lexer": "ipython3",
   "version": "3.6.3"
  }
 },
 "nbformat": 4,
 "nbformat_minor": 2
}
