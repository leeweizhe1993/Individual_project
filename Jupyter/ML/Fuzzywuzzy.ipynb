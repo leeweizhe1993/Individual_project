{
 "cells": [
  {
   "cell_type": "code",
   "execution_count": 44,
   "metadata": {
    "collapsed": true
   },
   "outputs": [],
   "source": [
    "import numpy as np\n",
    "import pandas as pd\n",
    "from fuzzywuzzy import fuzz\n",
    "from fuzzywuzzy import process"
   ]
  },
  {
   "cell_type": "code",
   "execution_count": 45,
   "metadata": {
    "collapsed": true
   },
   "outputs": [],
   "source": [
    "def enum_row(row):\n",
    "    print(row['state'])\n",
    "    \n",
    "def find_state_code(row):\n",
    "    if row['state'] != 0:\n",
    "        print(process.extractOne(row['state'], states, score_cutoff = 80))\n",
    "        \n",
    "def capital(str):\n",
    "    return str.capitalize()\n",
    "\n",
    "def correct_state(row):\n",
    "    if row['state'] != 0:\n",
    "        state = process.extractOne(row['state'], states, score_cutoff = 80)\n",
    "        \n",
    "def fill_state_code(row):\n",
    "    if row['state'] != 0:\n",
    "        state = process.extractOne(row['state'], states, score_cutoff = 80)\n",
    "        if state:\n",
    "            state_name = state[0]\n",
    "            return state_to_code[state_name]\n",
    "    return ''"
   ]
  },
  {
   "cell_type": "code",
   "execution_count": 46,
   "metadata": {},
   "outputs": [
    {
     "name": "stdout",
     "output_type": "stream",
     "text": [
      "=========================\n",
      "Jan      1462000\n",
      "Feb      1507000\n",
      "Mar       717000\n",
      "total    3686000\n",
      "dtype: int64\n",
      "             0\n",
      "Jan    1462000\n",
      "Feb    1507000\n",
      "Mar     717000\n",
      "total  3686000\n",
      "       Jan      Feb     Mar    total\n",
      "0  1462000  1507000  717000  3686000\n",
      "   account  name  street  city  state  postal-code      Jan      Feb     Mar    total\n",
      "0      NaN   NaN     NaN   NaN    NaN          NaN  1462000  1507000  717000  3686000\n",
      "   account  name  street  city  state  postal-code      Jan      Feb     Mar    total\n",
      "0        0     0       0     0      0            0  1462000  1507000  717000  3686000\n",
      "       account                          name                    street             city        state  postal-code      Jan      Feb     Mar    total\n",
      "11      231907                    Hahn-Moore  18115 Olivine Throughway    Norbertomouth  NorthDakota        31415   150000    10000  162000   322000\n",
      "12      242368  Frami, Anderson and Donnelly           182 Bertie Road      East Davian         Iowa        72686   162000   120000   35000   317000\n",
      "13      268755                   Walsh-Haley      2624 Beatty Parkways     Goodwinmouth  RhodeIsland        31919    55000   120000   35000   210000\n",
      "14      273274                 McDermott PLC     8917 Bergstrom Meadow  Kathryneborough     Delaware        27933   150000   120000   70000   340000\n",
      "Total        0                             0                         0                0            0            0  1462000  1507000  717000  3686000\n"
     ]
    }
   ],
   "source": [
    "pd.set_option('display.width', 200)    #展示长度限制为200\n",
    "data = pd.read_excel('D://Github//ML_Project//single_test//sales.xlsx',\n",
    "                     sheet_name = 'sheet1', header = 0)\n",
    "# print('data.head() = \\n', data.head())\n",
    "# print('data.tail() = \\n', data.tail())\n",
    "# print('data.dtypes = \\n', data.dtypes)\n",
    "# print('data.columns = \\n', data.columns)\n",
    "# for i in data.columns:\n",
    "#     print(i, end = ' ')    #每一循环输出列后用空格分隔，防止另起一行\n",
    "# print()\n",
    "data['total'] = data['Jan'] + data['Feb'] + data['Mar']\n",
    "# print(data.head())\n",
    "# print(data['Jan'].sum())\n",
    "# print(data['Jan'].min())\n",
    "# print(data['Jan'].max())\n",
    "# print(data['Jan'].mean())\n",
    "\n",
    "print('=========================')\n",
    "\n",
    "s1 = data[['Jan', 'Feb', 'Mar', 'total']].sum()\n",
    "print(s1)\n",
    "s2 = pd.DataFrame(data = s1)\n",
    "print(s2)\n",
    "print(s2.T)\n",
    "print(s2.T.reindex(columns = data.columns))\n",
    "\n",
    "s = pd.DataFrame(data = data[['Jan', 'Feb', 'Mar', 'total']].sum()).T\n",
    "s = s.reindex(columns = data.columns, fill_value = 0)\n",
    "print(s)\n",
    "data = data.append(s, ignore_index = True)\n",
    "data = data.rename(index = {15: 'Total'})\n",
    "print(data.tail())"
   ]
  },
  {
   "cell_type": "code",
   "execution_count": 47,
   "metadata": {},
   "outputs": [
    {
     "name": "stdout",
     "output_type": "stream",
     "text": [
      "===============apply的使用==================\n",
      "Texas\n",
      "NorthCarolina\n",
      "Iowa\n",
      "Maine\n",
      "California\n",
      "Arkansas\n",
      "Mississipi\n",
      "RhodeIsland\n",
      "Pennsylvania\n",
      "Idaho\n",
      "Tenessee\n",
      "NorthDakota\n",
      "Iowa\n",
      "RhodeIsland\n",
      "Delaware\n",
      "0\n",
      "96\n"
     ]
    }
   ],
   "source": [
    "print('===============apply的使用==================')\n",
    "\n",
    "data.apply(enum_row, axis = 1)\n",
    "\n",
    "state_to_code = {\"VERMONT\": \"VT\", \"GEORGIA\": \"GA\", \"IOWA\": \"IA\", \"Armed Forces Pacific\": \"AP\", \"GUAM\": \"GU\",\n",
    "                     \"KANSAS\": \"KS\", \"FLORIDA\": \"FL\", \"AMERICAN SAMOA\": \"AS\", \"NORTH CAROLINA\": \"NC\", \"HAWAII\": \"HI\",\n",
    "                     \"NEW YORK\": \"NY\", \"CALIFORNIA\": \"CA\", \"ALABAMA\": \"AL\", \"IDAHO\": \"ID\",\n",
    "                     \"FEDERATED STATES OF MICRONESIA\": \"FM\",\n",
    "                     \"Armed Forces Americas\": \"AA\", \"DELAWARE\": \"DE\", \"ALASKA\": \"AK\", \"ILLINOIS\": \"IL\",\n",
    "                     \"Armed Forces Africa\": \"AE\", \"SOUTH DAKOTA\": \"SD\", \"CONNECTICUT\": \"CT\", \"MONTANA\": \"MT\",\n",
    "                     \"MASSACHUSETTS\": \"MA\",\n",
    "                     \"PUERTO RICO\": \"PR\", \"Armed Forces Canada\": \"AE\", \"NEW HAMPSHIRE\": \"NH\", \"MARYLAND\": \"MD\",\n",
    "                     \"NEW MEXICO\": \"NM\",\n",
    "                     \"MISSISSIPPI\": \"MS\", \"TENNESSEE\": \"TN\", \"PALAU\": \"PW\", \"COLORADO\": \"CO\",\n",
    "                     \"Armed Forces Middle East\": \"AE\",\n",
    "                     \"NEW JERSEY\": \"NJ\", \"UTAH\": \"UT\", \"MICHIGAN\": \"MI\", \"WEST VIRGINIA\": \"WV\", \"WASHINGTON\": \"WA\",\n",
    "                     \"MINNESOTA\": \"MN\", \"OREGON\": \"OR\", \"VIRGINIA\": \"VA\", \"VIRGIN ISLANDS\": \"VI\",\n",
    "                     \"MARSHALL ISLANDS\": \"MH\",\n",
    "                     \"WYOMING\": \"WY\", \"OHIO\": \"OH\", \"SOUTH CAROLINA\": \"SC\", \"INDIANA\": \"IN\", \"NEVADA\": \"NV\",\n",
    "                     \"LOUISIANA\": \"LA\",\n",
    "                     \"NORTHERN MARIANA ISLANDS\": \"MP\", \"NEBRASKA\": \"NE\", \"ARIZONA\": \"AZ\", \"WISCONSIN\": \"WI\",\n",
    "                     \"NORTH DAKOTA\": \"ND\",\n",
    "                     \"Armed Forces Europe\": \"AE\", \"PENNSYLVANIA\": \"PA\", \"OKLAHOMA\": \"OK\", \"KENTUCKY\": \"KY\",\n",
    "                     \"RHODE ISLAND\": \"RI\",\n",
    "                     \"DISTRICT OF COLUMBIA\": \"DC\", \"ARKANSAS\": \"AR\", \"MISSOURI\": \"MO\", \"TEXAS\": \"TX\", \"MAINE\": \"ME\"}\n",
    "states = list(state_to_code.keys())\n",
    "print(fuzz.ratio('Python Package', 'PythonPackage'))"
   ]
  },
  {
   "cell_type": "code",
   "execution_count": 49,
   "metadata": {},
   "outputs": [
    {
     "name": "stdout",
     "output_type": "stream",
     "text": [
      "96\n",
      "[('MISSISSIPPI', 100), ('MISSOURI', 53), ('MASSACHUSETTS', 42), ('WISCONSIN', 40), ('VIRGIN ISLANDS', 38)]\n",
      "[('MISSISSIPPI', 95), ('MISSOURI', 56), ('MASSACHUSETTS', 43)]\n",
      "('MISSISSIPPI', 100)\n"
     ]
    }
   ],
   "source": [
    "print(fuzz.ratio('Python Package', 'PythonPackage'))\n",
    "print(process.extract('Mississippi', states))\n",
    "print(process.extract('Mississipi', states, limit = 3))\n",
    "print(process.extractOne('Mississippi', states))"
   ]
  },
  {
   "cell_type": "code",
   "execution_count": 37,
   "metadata": {},
   "outputs": [
    {
     "name": "stderr",
     "output_type": "stream",
     "text": [
      "WARNING:root:Applied processor reduces input query to empty string, all comparisons will have score 0. [Query: 'None']\n",
      "WARNING:root:Applied processor reduces input query to empty string, all comparisons will have score 0. [Query: 'None']\n",
      "WARNING:root:Applied processor reduces input query to empty string, all comparisons will have score 0. [Query: 'None']\n",
      "WARNING:root:Applied processor reduces input query to empty string, all comparisons will have score 0. [Query: 'None']\n",
      "WARNING:root:Applied processor reduces input query to empty string, all comparisons will have score 0. [Query: 'None']\n",
      "WARNING:root:Applied processor reduces input query to empty string, all comparisons will have score 0. [Query: 'None']\n",
      "WARNING:root:Applied processor reduces input query to empty string, all comparisons will have score 0. [Query: 'None']\n",
      "WARNING:root:Applied processor reduces input query to empty string, all comparisons will have score 0. [Query: 'None']\n",
      "WARNING:root:Applied processor reduces input query to empty string, all comparisons will have score 0. [Query: 'None']\n",
      "WARNING:root:Applied processor reduces input query to empty string, all comparisons will have score 0. [Query: 'None']\n",
      "WARNING:root:Applied processor reduces input query to empty string, all comparisons will have score 0. [Query: 'None']\n",
      "WARNING:root:Applied processor reduces input query to empty string, all comparisons will have score 0. [Query: 'None']\n",
      "WARNING:root:Applied processor reduces input query to empty string, all comparisons will have score 0. [Query: 'None']\n",
      "WARNING:root:Applied processor reduces input query to empty string, all comparisons will have score 0. [Query: 'None']\n",
      "WARNING:root:Applied processor reduces input query to empty string, all comparisons will have score 0. [Query: 'None']\n",
      "WARNING:root:Applied processor reduces input query to empty string, all comparisons will have score 0. [Query: 'None']\n"
     ]
    },
    {
     "name": "stdout",
     "output_type": "stream",
     "text": [
      "Before Correct State:\n",
      " 0        None\n",
      "1        None\n",
      "2        None\n",
      "3        None\n",
      "4        None\n",
      "5        None\n",
      "6        None\n",
      "7        None\n",
      "8        None\n",
      "9        None\n",
      "10       None\n",
      "11       None\n",
      "12       None\n",
      "13       None\n",
      "14       None\n",
      "Total    None\n",
      "Name: state, dtype: object\n",
      "After Correct State:\n",
      " 0        None\n",
      "1        None\n",
      "2        None\n",
      "3        None\n",
      "4        None\n",
      "5        None\n",
      "6        None\n",
      "7        None\n",
      "8        None\n",
      "9        None\n",
      "10       None\n",
      "11       None\n",
      "12       None\n",
      "13       None\n",
      "14       None\n",
      "Total    None\n",
      "Name: state, dtype: object\n"
     ]
    },
    {
     "ename": "ValueError",
     "evalue": "cannot insert State Code, already exists",
     "output_type": "error",
     "traceback": [
      "\u001b[1;31m---------------------------------------------------------------------------\u001b[0m",
      "\u001b[1;31mValueError\u001b[0m                                Traceback (most recent call last)",
      "\u001b[1;32m<ipython-input-37-b3169e59f4af>\u001b[0m in \u001b[0;36m<module>\u001b[1;34m()\u001b[0m\n\u001b[0;32m      2\u001b[0m \u001b[0mdata\u001b[0m\u001b[1;33m[\u001b[0m\u001b[1;34m'state'\u001b[0m\u001b[1;33m]\u001b[0m \u001b[1;33m=\u001b[0m \u001b[0mdata\u001b[0m\u001b[1;33m.\u001b[0m\u001b[0mapply\u001b[0m\u001b[1;33m(\u001b[0m\u001b[0mcorrect_state\u001b[0m\u001b[1;33m,\u001b[0m \u001b[0maxis\u001b[0m\u001b[1;33m=\u001b[0m\u001b[1;36m1\u001b[0m\u001b[1;33m)\u001b[0m\u001b[1;33m\u001b[0m\u001b[0m\n\u001b[0;32m      3\u001b[0m \u001b[0mprint\u001b[0m\u001b[1;33m(\u001b[0m\u001b[1;34m'After Correct State:\\n'\u001b[0m\u001b[1;33m,\u001b[0m \u001b[0mdata\u001b[0m\u001b[1;33m[\u001b[0m\u001b[1;34m'state'\u001b[0m\u001b[1;33m]\u001b[0m\u001b[1;33m)\u001b[0m\u001b[1;33m\u001b[0m\u001b[0m\n\u001b[1;32m----> 4\u001b[1;33m \u001b[0mdata\u001b[0m\u001b[1;33m.\u001b[0m\u001b[0minsert\u001b[0m\u001b[1;33m(\u001b[0m\u001b[1;36m5\u001b[0m\u001b[1;33m,\u001b[0m \u001b[1;34m'State Code'\u001b[0m\u001b[1;33m,\u001b[0m \u001b[0mnp\u001b[0m\u001b[1;33m.\u001b[0m\u001b[0mnan\u001b[0m\u001b[1;33m)\u001b[0m\u001b[1;33m\u001b[0m\u001b[0m\n\u001b[0m\u001b[0;32m      5\u001b[0m \u001b[0mdata\u001b[0m\u001b[1;33m[\u001b[0m\u001b[1;34m'State Code'\u001b[0m\u001b[1;33m]\u001b[0m \u001b[1;33m=\u001b[0m \u001b[0mdata\u001b[0m\u001b[1;33m.\u001b[0m\u001b[0mapply\u001b[0m\u001b[1;33m(\u001b[0m\u001b[0mfill_state_code\u001b[0m\u001b[1;33m,\u001b[0m \u001b[0maxis\u001b[0m\u001b[1;33m=\u001b[0m\u001b[1;36m1\u001b[0m\u001b[1;33m)\u001b[0m\u001b[1;33m\u001b[0m\u001b[0m\n\u001b[0;32m      6\u001b[0m \u001b[0mprint\u001b[0m\u001b[1;33m(\u001b[0m\u001b[0mdata\u001b[0m\u001b[1;33m)\u001b[0m\u001b[1;33m\u001b[0m\u001b[0m\n",
      "\u001b[1;32mD:\\Anaconda\\lib\\site-packages\\pandas\\core\\frame.py\u001b[0m in \u001b[0;36minsert\u001b[1;34m(self, loc, column, value, allow_duplicates)\u001b[0m\n\u001b[0;32m   2611\u001b[0m         \u001b[0mvalue\u001b[0m \u001b[1;33m=\u001b[0m \u001b[0mself\u001b[0m\u001b[1;33m.\u001b[0m\u001b[0m_sanitize_column\u001b[0m\u001b[1;33m(\u001b[0m\u001b[0mcolumn\u001b[0m\u001b[1;33m,\u001b[0m \u001b[0mvalue\u001b[0m\u001b[1;33m,\u001b[0m \u001b[0mbroadcast\u001b[0m\u001b[1;33m=\u001b[0m\u001b[1;32mFalse\u001b[0m\u001b[1;33m)\u001b[0m\u001b[1;33m\u001b[0m\u001b[0m\n\u001b[0;32m   2612\u001b[0m         self._data.insert(loc, column, value,\n\u001b[1;32m-> 2613\u001b[1;33m                           allow_duplicates=allow_duplicates)\n\u001b[0m\u001b[0;32m   2614\u001b[0m \u001b[1;33m\u001b[0m\u001b[0m\n\u001b[0;32m   2615\u001b[0m     \u001b[1;32mdef\u001b[0m \u001b[0massign\u001b[0m\u001b[1;33m(\u001b[0m\u001b[0mself\u001b[0m\u001b[1;33m,\u001b[0m \u001b[1;33m**\u001b[0m\u001b[0mkwargs\u001b[0m\u001b[1;33m)\u001b[0m\u001b[1;33m:\u001b[0m\u001b[1;33m\u001b[0m\u001b[0m\n",
      "\u001b[1;32mD:\\Anaconda\\lib\\site-packages\\pandas\\core\\internals.py\u001b[0m in \u001b[0;36minsert\u001b[1;34m(self, loc, item, value, allow_duplicates)\u001b[0m\n\u001b[0;32m   4061\u001b[0m         \u001b[1;32mif\u001b[0m \u001b[1;32mnot\u001b[0m \u001b[0mallow_duplicates\u001b[0m \u001b[1;32mand\u001b[0m \u001b[0mitem\u001b[0m \u001b[1;32min\u001b[0m \u001b[0mself\u001b[0m\u001b[1;33m.\u001b[0m\u001b[0mitems\u001b[0m\u001b[1;33m:\u001b[0m\u001b[1;33m\u001b[0m\u001b[0m\n\u001b[0;32m   4062\u001b[0m             \u001b[1;31m# Should this be a different kind of error??\u001b[0m\u001b[1;33m\u001b[0m\u001b[1;33m\u001b[0m\u001b[0m\n\u001b[1;32m-> 4063\u001b[1;33m             \u001b[1;32mraise\u001b[0m \u001b[0mValueError\u001b[0m\u001b[1;33m(\u001b[0m\u001b[1;34m'cannot insert {}, already exists'\u001b[0m\u001b[1;33m.\u001b[0m\u001b[0mformat\u001b[0m\u001b[1;33m(\u001b[0m\u001b[0mitem\u001b[0m\u001b[1;33m)\u001b[0m\u001b[1;33m)\u001b[0m\u001b[1;33m\u001b[0m\u001b[0m\n\u001b[0m\u001b[0;32m   4064\u001b[0m \u001b[1;33m\u001b[0m\u001b[0m\n\u001b[0;32m   4065\u001b[0m         \u001b[1;32mif\u001b[0m \u001b[1;32mnot\u001b[0m \u001b[0misinstance\u001b[0m\u001b[1;33m(\u001b[0m\u001b[0mloc\u001b[0m\u001b[1;33m,\u001b[0m \u001b[0mint\u001b[0m\u001b[1;33m)\u001b[0m\u001b[1;33m:\u001b[0m\u001b[1;33m\u001b[0m\u001b[0m\n",
      "\u001b[1;31mValueError\u001b[0m: cannot insert State Code, already exists"
     ]
    }
   ],
   "source": [
    "print('Before Correct State:\\n', data['state'])\n",
    "data['state'] = data.apply(correct_state, axis=1)\n",
    "print('After Correct State:\\n', data['state'])\n",
    "data.insert(5, 'State Code', np.nan)\n",
    "data['State Code'] = data.apply(fill_state_code, axis=1)\n",
    "print(data)"
   ]
  },
  {
   "cell_type": "code",
   "execution_count": 40,
   "metadata": {},
   "outputs": [
    {
     "name": "stdout",
     "output_type": "stream",
     "text": [
      "================group by==================\n",
      "<pandas.core.groupby.DataFrameGroupBy object at 0x0000029443082978>\n",
      "All Columns:\n",
      "\n",
      "            account  postal-code      Jan      Feb      Mar    total\n",
      "State Code                                                          \n",
      "            3547642       696009  2924000  3014000  1434000  7372000\n",
      "Short Columns:\n",
      "\n",
      "                Jan      Feb      Mar    total\n",
      "State Code                                    \n",
      "            2924000  3014000  1434000  7372000\n"
     ]
    }
   ],
   "source": [
    "print('================group by==================')\n",
    "print(data.groupby('State Code'))\n",
    "print('All Columns:\\n')\n",
    "print(data.groupby('State Code').sum())\n",
    "print('Short Columns:\\n')\n",
    "print(data[['State Code', 'Jan', 'Feb', 'Mar', 'total']].groupby('State Code').sum())"
   ]
  },
  {
   "cell_type": "code",
   "execution_count": 42,
   "metadata": {},
   "outputs": [
    {
     "data": {
      "text/html": [
       "<div>\n",
       "<style scoped>\n",
       "    .dataframe tbody tr th:only-of-type {\n",
       "        vertical-align: middle;\n",
       "    }\n",
       "\n",
       "    .dataframe tbody tr th {\n",
       "        vertical-align: top;\n",
       "    }\n",
       "\n",
       "    .dataframe thead th {\n",
       "        text-align: right;\n",
       "    }\n",
       "</style>\n",
       "<table border=\"1\" class=\"dataframe\">\n",
       "  <thead>\n",
       "    <tr style=\"text-align: right;\">\n",
       "      <th></th>\n",
       "      <th>Jan</th>\n",
       "      <th>Feb</th>\n",
       "      <th>Mar</th>\n",
       "      <th>total</th>\n",
       "    </tr>\n",
       "    <tr>\n",
       "      <th>State Code</th>\n",
       "      <th></th>\n",
       "      <th></th>\n",
       "      <th></th>\n",
       "      <th></th>\n",
       "    </tr>\n",
       "  </thead>\n",
       "  <tbody>\n",
       "    <tr>\n",
       "      <th></th>\n",
       "      <td>2924000</td>\n",
       "      <td>3014000</td>\n",
       "      <td>1434000</td>\n",
       "      <td>7372000</td>\n",
       "    </tr>\n",
       "  </tbody>\n",
       "</table>\n",
       "</div>"
      ],
      "text/plain": [
       "                Jan      Feb      Mar    total\n",
       "State Code                                    \n",
       "            2924000  3014000  1434000  7372000"
      ]
     },
     "execution_count": 42,
     "metadata": {},
     "output_type": "execute_result"
    }
   ],
   "source": [
    "data[['State Code', 'Jan', 'Feb', 'Mar', 'total']].groupby('State Code').sum()"
   ]
  }
 ],
 "metadata": {
  "kernelspec": {
   "display_name": "Python 3",
   "language": "python",
   "name": "python3"
  },
  "language_info": {
   "codemirror_mode": {
    "name": "ipython",
    "version": 3
   },
   "file_extension": ".py",
   "mimetype": "text/x-python",
   "name": "python",
   "nbconvert_exporter": "python",
   "pygments_lexer": "ipython3",
   "version": "3.6.3"
  }
 },
 "nbformat": 4,
 "nbformat_minor": 2
}
