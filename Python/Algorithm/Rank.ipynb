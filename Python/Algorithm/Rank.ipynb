{
 "cells": [
  {
   "cell_type": "code",
   "execution_count": 25,
   "metadata": {},
   "outputs": [
    {
     "name": "stdout",
     "output_type": "stream",
     "text": [
      "Average Time used: 1.77539968019e-05\n"
     ]
    }
   ],
   "source": [
    "import time\n",
    "import numpy as np\n",
    "#选择排序法\n",
    "elapsed = []\n",
    "a = [49, 38, 65, 97, 76, 13, 27, 49,1245, 45, 124, 786, 234]\n",
    "for loop in range(10000):\n",
    "    start = time.clock() #耗时记录\n",
    "\n",
    "    '''主程序'''\n",
    "    #控制循环轮次为：列表元素数 - 1(只需比较n-1个)\n",
    "    for i in range(len(a) - 1):\n",
    "        min_num = i    #循环开始位置作为初始最小值\n",
    "\n",
    "        #从循环下位开始，一一比较与循环始位的大小\n",
    "        for j in range(i + 1, len(a)):\n",
    "            if a[j] < a[min_num]:\n",
    "                a[min_num], a[j] = a[j], a[min_num] \n",
    "    '''主程序'''\n",
    "\n",
    "    elapsed.append(time.clock() - start) #耗时记录\n",
    "\n",
    "print(\"Average Time used:\",np.mean(elapsed))"
   ]
  },
  {
   "cell_type": "code",
   "execution_count": 109,
   "metadata": {},
   "outputs": [
    {
     "name": "stdout",
     "output_type": "stream",
     "text": [
      "Average Time used: 6.37199562448e-07\n"
     ]
    }
   ],
   "source": [
    "elapsed = []\n",
    "for loop in range(10000):\n",
    "    start = time.clock()\n",
    "    sorted(a)\n",
    "    elapsed.append(time.clock() - start)\n",
    "print(\"Average Time used:\",np.mean(elapsed))"
   ]
  },
  {
   "cell_type": "code",
   "execution_count": 22,
   "metadata": {},
   "outputs": [
    {
     "name": "stdout",
     "output_type": "stream",
     "text": [
      "[13, 27, 38, 45, 49, 49, 65, 76, 97, 124, 234, 786, 1245]\n"
     ]
    }
   ],
   "source": [
    "#冒泡排序法\n",
    "a = [49, 38, 65, 97, 76, 13, 27, 49,1245, 45, 124, 786, 234]\n",
    "\n",
    "for i in range(len(a) - 1):\n",
    "    for j in range(len(a) - 1 - i):\n",
    "        if a[j] > a[j + 1]:\n",
    "            a[j], a[j + 1] = a[j + 1], a[j]\n",
    "print(a)"
   ]
  },
  {
   "cell_type": "code",
   "execution_count": 28,
   "metadata": {},
   "outputs": [
    {
     "name": "stdout",
     "output_type": "stream",
     "text": [
      "Average Time used: 6.76420646979e-06\n"
     ]
    }
   ],
   "source": [
    "for loop in range(10000):\n",
    "    start = time.clock()\n",
    "    for i in range(len(a) - 1):\n",
    "        flag = True\n",
    "        for j in range(len(a) - 1 - i):\n",
    "            if a[j] > a[j + 1]:\n",
    "                a[j], a[j + 1] = a[j + 1], a[j]\n",
    "                flag = False\n",
    "        if flag == True:\n",
    "            break\n",
    "    elapsed.append(time.clock() - start)\n",
    "print(\"Average Time used:\",np.mean(elapsed))"
   ]
  },
  {
   "cell_type": "code",
   "execution_count": 29,
   "metadata": {},
   "outputs": [
    {
     "name": "stdout",
     "output_type": "stream",
     "text": [
      "[27] [38] [27, 38]\n",
      "[13] [27, 38] [13, 27, 38]\n",
      "[49] [49] [49, 49]\n",
      "[45] [49, 49] [45, 49, 49]\n",
      "[13, 27, 38] [45, 49, 49] [13, 27, 38, 45, 49, 49]\n",
      "[76] [97] [76, 97]\n",
      "[65] [76, 97] [65, 76, 97]\n",
      "[124] [234] [124, 234]\n",
      "[786] [1245] [786, 1245]\n",
      "[124, 234] [786, 1245] [124, 234, 786, 1245]\n",
      "[65, 76, 97] [124, 234, 786, 1245] [65, 76, 97, 124, 234, 786, 1245]\n",
      "[13, 27, 38, 45, 49, 49] [65, 76, 97, 124, 234, 786, 1245] [13, 27, 38, 45, 49, 49, 65, 76, 97, 124, 234, 786, 1245]\n",
      "[13, 27, 38, 45, 49, 49, 65, 76, 97, 124, 234, 786, 1245]\n"
     ]
    }
   ],
   "source": [
    "#归并排序法\n",
    "def merge(left, right):\n",
    "    merged = []\n",
    "    i , j = 0, 0\n",
    "    left_len, right_len = len(left), len(right)\n",
    "    #循环取左右列表中的值添加到merged中\n",
    "    while i < left_len and j < right_len:\n",
    "        if left[i] <= right[j]:\n",
    "            merged.append(left[i])\n",
    "            i += 1\n",
    "        else:\n",
    "            merged.append(right[j])\n",
    "            j += 1\n",
    "    #归并列表剩余元素，保证较大列表中的元素也加入到merged中\n",
    "    merged.extend(left[i:])\n",
    "    merged.extend(right[j:])\n",
    "    return merged\n",
    "\n",
    "def mergeSort(a):\n",
    "    if len(a) <= 1:\n",
    "        return a\n",
    "    mid = len(a) // 2\n",
    "    left = mergeSort(a[:mid])\n",
    "    right = mergeSort(a[mid:])\n",
    "    return merge(left, right)\n",
    "\n",
    "new_a = mergeSort(a)\n",
    "print(new_a)"
   ]
  }
 ],
 "metadata": {
  "kernelspec": {
   "display_name": "Python 3",
   "language": "python",
   "name": "python3"
  },
  "language_info": {
   "codemirror_mode": {
    "name": "ipython",
    "version": 3
   },
   "file_extension": ".py",
   "mimetype": "text/x-python",
   "name": "python",
   "nbconvert_exporter": "python",
   "pygments_lexer": "ipython3",
   "version": "3.6.3"
  }
 },
 "nbformat": 4,
 "nbformat_minor": 2
}
