{
 "cells": [
  {
   "cell_type": "code",
   "execution_count": 7,
   "metadata": {},
   "outputs": [],
   "source": [
    "from array import array\n",
    "import IPython.core.display as di"
   ]
  },
  {
   "cell_type": "code",
   "execution_count": 8,
   "metadata": {},
   "outputs": [
    {
     "data": {
      "text/html": [
       "<script>jQuery(function() {if (jQuery(\"body.notebook_app\").length == 0) { jQuery(\".input_area\").toggle(); jQuery(\".prompt\").toggle();}});</script>"
      ]
     },
     "metadata": {},
     "output_type": "display_data"
    }
   ],
   "source": [
    "di.display_html('<script>jQuery(function() {if (jQuery(\"body.notebook_app\").length == 0) { jQuery(\".input_area\").toggle(); jQuery(\".prompt\").toggle();}});</script>', raw=True)"
   ]
  },
  {
   "cell_type": "markdown",
   "metadata": {},
   "source": [
    "#### python中array只能存同一类型数据(数值、字符)，推荐np.array"
   ]
  },
  {
   "cell_type": "code",
   "execution_count": 9,
   "metadata": {},
   "outputs": [
    {
     "data": {
      "text/plain": [
       "('a', 's')"
      ]
     },
     "execution_count": 9,
     "metadata": {},
     "output_type": "execute_result"
    }
   ],
   "source": [
    "arr = array('u', 'asdf')\n",
    "arr[0],arr[1]"
   ]
  },
  {
   "cell_type": "markdown",
   "metadata": {},
   "source": [
    "## 实现定长array"
   ]
  },
  {
   "cell_type": "code",
   "execution_count": 21,
   "metadata": {},
   "outputs": [],
   "source": [
    "class Array(object):\n",
    "    \n",
    "    def __init__(self, size = 32):\n",
    "        self._size = size\n",
    "        self._items = [None] * size\n",
    "        \n",
    "    def __getitem__(self, index):\n",
    "        return self._items[index]\n",
    "    \n",
    "    def __setitem__(self, index, value):\n",
    "        self._items[index] = value\n",
    "        \n",
    "    def __len__(self):\n",
    "        return self._size\n",
    "    \n",
    "    def clear(self, value = None):\n",
    "        for i in range(len(self._items)):\n",
    "            self._items[i] = value\n",
    "            \n",
    "    def __iter__(self):\n",
    "        for item in self._items:\n",
    "            yield item\n",
    "            \n",
    "def test_array():\n",
    "    size = 10\n",
    "    a = Array(size)\n",
    "    a[0] = 1\n",
    "    assert a[0] == 1\n",
    "    \n",
    "    a.clear()\n",
    "    assert a[0] == None\n",
    "    \n",
    "test_array()"
   ]
  },
  {
   "cell_type": "markdown",
   "metadata": {},
   "source": [
    "## 链表"
   ]
  },
  {
   "cell_type": "code",
   "execution_count": 4,
   "metadata": {},
   "outputs": [
    {
     "ename": "AssertionError",
     "evalue": "",
     "output_type": "error",
     "traceback": [
      "\u001b[1;31m---------------------------------------------------------------------------\u001b[0m",
      "\u001b[1;31mAssertionError\u001b[0m                            Traceback (most recent call last)",
      "\u001b[1;32m<ipython-input-4-9107129557bc>\u001b[0m in \u001b[0;36m<module>\u001b[1;34m()\u001b[0m\n\u001b[0;32m    107\u001b[0m     \u001b[1;32massert\u001b[0m \u001b[0mlen\u001b[0m\u001b[1;33m(\u001b[0m\u001b[0mll\u001b[0m\u001b[1;33m)\u001b[0m \u001b[1;33m==\u001b[0m \u001b[1;36m0\u001b[0m\u001b[1;33m\u001b[0m\u001b[0m\n\u001b[0;32m    108\u001b[0m \u001b[1;33m\u001b[0m\u001b[0m\n\u001b[1;32m--> 109\u001b[1;33m \u001b[0mtest_Linked_list\u001b[0m\u001b[1;33m(\u001b[0m\u001b[1;33m)\u001b[0m\u001b[1;33m\u001b[0m\u001b[0m\n\u001b[0m",
      "\u001b[1;32m<ipython-input-4-9107129557bc>\u001b[0m in \u001b[0;36mtest_Linked_list\u001b[1;34m()\u001b[0m\n\u001b[0;32m     97\u001b[0m     \u001b[0mll\u001b[0m\u001b[1;33m.\u001b[0m\u001b[0mappendleft\u001b[0m\u001b[1;33m(\u001b[0m\u001b[1;36m0\u001b[0m\u001b[1;33m)\u001b[0m\u001b[1;33m\u001b[0m\u001b[0m\n\u001b[0;32m     98\u001b[0m     \u001b[1;32massert\u001b[0m \u001b[0mlist\u001b[0m\u001b[1;33m(\u001b[0m\u001b[0mll\u001b[0m\u001b[1;33m)\u001b[0m \u001b[1;33m==\u001b[0m \u001b[1;33m[\u001b[0m\u001b[1;36m0\u001b[0m\u001b[1;33m,\u001b[0m \u001b[1;36m1\u001b[0m\u001b[1;33m,\u001b[0m \u001b[1;36m2\u001b[0m\u001b[1;33m]\u001b[0m\u001b[1;33m\u001b[0m\u001b[0m\n\u001b[1;32m---> 99\u001b[1;33m     \u001b[1;32massert\u001b[0m \u001b[0mlen\u001b[0m\u001b[1;33m(\u001b[0m\u001b[0mll\u001b[0m\u001b[1;33m)\u001b[0m \u001b[1;33m==\u001b[0m \u001b[1;36m3\u001b[0m\u001b[1;33m\u001b[0m\u001b[0m\n\u001b[0m\u001b[0;32m    100\u001b[0m \u001b[1;33m\u001b[0m\u001b[0m\n\u001b[0;32m    101\u001b[0m     \u001b[0mheadvalue\u001b[0m \u001b[1;33m=\u001b[0m \u001b[0mll\u001b[0m\u001b[1;33m.\u001b[0m\u001b[0mpopleft\u001b[0m\u001b[1;33m(\u001b[0m\u001b[1;33m)\u001b[0m\u001b[1;33m\u001b[0m\u001b[0m\n",
      "\u001b[1;31mAssertionError\u001b[0m: "
     ]
    }
   ],
   "source": [
    "class Node(object):    #定义node\n",
    "    \n",
    "    def __init__(self, value = None, next = None):    #值和指针\n",
    "        self.value, self.next = value, next\n",
    "        \n",
    "class LinkedList(object):\n",
    "    \n",
    "    def __init__(self, maxsize = None):\n",
    "        self.maxsize = maxsize\n",
    "        self.root = Node()   #root为链表头值\n",
    "        self.length = 0\n",
    "        self.tailnode = None\n",
    "        \n",
    "    def __len__(self):    #链表长度\n",
    "        return self.length\n",
    "    \n",
    "    def append(self, value):    #添加元素\n",
    "        if self.maxsize is not None and len(self) > self.maxsize:\n",
    "            raise Exception(\"Full\")\n",
    "        node = Node(value)\n",
    "        tailnode = self.tailnode\n",
    "        if tailnode is None:\n",
    "            self.root.next = node\n",
    "        else:\n",
    "            tailnode.next = node\n",
    "        self.tailnode = node\n",
    "        self.length += 1\n",
    "    \n",
    "    def appendleft(self, value):    #左侧添加\n",
    "        headnode = self.root.next\n",
    "        node = Node(value)\n",
    "        self.root.next = node\n",
    "        node.next = headnode\n",
    "        \n",
    "    def iter_node(self):    #迭代列表\n",
    "        curnode = self.root.next\n",
    "        while curnode is not self.tailnode:\n",
    "            yield curnode\n",
    "            curnode = curnode.next\n",
    "        yield curnode\n",
    "    \n",
    "    def __iter__(self):    #迭代方法\n",
    "        for node in self.iter_node():\n",
    "            yield node.value\n",
    "        \n",
    "    def remove(self, value):    #O(n)\n",
    "        prenode = self.root\n",
    "        curnode = self.root.next\n",
    "        while curnode.next is not None:\n",
    "            if curnode.value == value:\n",
    "                prenode.next = curnode.next\n",
    "                del curnode\n",
    "                self.length -= 1\n",
    "                return\n",
    "    \n",
    "    def find(self, value):    #O(n)\n",
    "        index = 0\n",
    "        for node in self.iter_node():\n",
    "            if node.value == value:\n",
    "                return index\n",
    "            index += 1\n",
    "        return -1    #未找到的元素返回-1\n",
    "    \n",
    "    def popleft(self): #O(1)\n",
    "        if self.root.next is None:\n",
    "            raise Exception(\"pop from empty LinkedList\")\n",
    "        headnode = self.root.next\n",
    "        self.root.next = headnode.next\n",
    "        self.length -= 1\n",
    "        value = headnode.value\n",
    "        del headnode\n",
    "        return value\n",
    "    \n",
    "    def clear(self):\n",
    "        for node in self.iter_node():\n",
    "            del node\n",
    "        self.root.next = None\n",
    "        self.length = 0\n",
    "        \n",
    "def test_Linked_list():\n",
    "    ll = LinkedList()\n",
    "    \n",
    "    ll.append(0)\n",
    "    ll.append(1)\n",
    "    ll.append(2)\n",
    "    \n",
    "    assert len(ll) == 3\n",
    "    assert ll.find(2) == 2\n",
    "    assert ll.find(3) == -1\n",
    "    \n",
    "    ll.remove(0)\n",
    "    assert len(ll) == 2\n",
    "    assert ll.find(0) == -1\n",
    "    \n",
    "    assert list(ll) == [1, 2]\n",
    "    \n",
    "    ll.appendleft(0)\n",
    "    assert list(ll) == [0, 1, 2]\n",
    "    assert len(ll) == 3\n",
    "    \n",
    "    headvalue = ll.popleft()\n",
    "    assert headvalue == 0\n",
    "    assert len(ll) == 2\n",
    "    assert list(ll) == [1, 2]\n",
    "    \n",
    "    ll.clear()\n",
    "    assert len(ll) == 0\n",
    "        \n",
    "test_Linked_list()"
   ]
  },
  {
   "cell_type": "code",
   "execution_count": null,
   "metadata": {},
   "outputs": [],
   "source": []
  }
 ],
 "metadata": {
  "kernelspec": {
   "display_name": "Python 3",
   "language": "python",
   "name": "python3"
  },
  "language_info": {
   "codemirror_mode": {
    "name": "ipython",
    "version": 3
   },
   "file_extension": ".py",
   "mimetype": "text/x-python",
   "name": "python",
   "nbconvert_exporter": "python",
   "pygments_lexer": "ipython3",
   "version": "3.6.5"
  }
 },
 "nbformat": 4,
 "nbformat_minor": 2
}
