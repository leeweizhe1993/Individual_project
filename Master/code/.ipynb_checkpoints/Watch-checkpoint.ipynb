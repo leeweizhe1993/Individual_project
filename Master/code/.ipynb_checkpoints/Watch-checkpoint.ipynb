{
 "cells": [
  {
   "cell_type": "code",
   "execution_count": null,
   "metadata": {},
   "outputs": [],
   "source": [
    "from pynput import keyboard\n",
    "import time\n",
    "\n",
    "def on_release(key):\n",
    "    if key == keyboard.Key.esc:\n",
    "        with open('listen.txt', 'w') as f:\n",
    "            f.write('esc')\n",
    "            f.close()\n",
    "        time.sleep(10)\n",
    "    \n",
    "with keyboard.Listener(on_release=on_release) as listener:\n",
    "        listener.join()"
   ]
  },
  {
   "cell_type": "code",
   "execution_count": null,
   "metadata": {},
   "outputs": [],
   "source": []
  }
 ],
 "metadata": {
  "kernelspec": {
   "display_name": "Python 3",
   "language": "python",
   "name": "python3"
  },
  "language_info": {
   "codemirror_mode": {
    "name": "ipython",
    "version": 3
   },
   "file_extension": ".py",
   "mimetype": "text/x-python",
   "name": "python",
   "nbconvert_exporter": "python",
   "pygments_lexer": "ipython3",
   "version": "3.6.8"
  }
 },
 "nbformat": 4,
 "nbformat_minor": 2
}
