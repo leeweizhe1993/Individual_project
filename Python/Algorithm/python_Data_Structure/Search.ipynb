{
 "cells": [
  {
   "cell_type": "markdown",
   "metadata": {},
   "source": [
    "## 线性查找"
   ]
  },
  {
   "cell_type": "code",
   "execution_count": 6,
   "metadata": {},
   "outputs": [
    {
     "data": {
      "text/plain": [
       "-1"
      ]
     },
     "execution_count": 6,
     "metadata": {},
     "output_type": "execute_result"
    }
   ],
   "source": [
    "def linear_search(value, itera):\n",
    "    for index, val in enumerate(itera):\n",
    "        if val == value:\n",
    "            return index\n",
    "    else:\n",
    "        return -1\n",
    "    \n",
    "nums = [x for x in range(10)]\n",
    "\n",
    "assert linear_search(10, nums) == -1\n",
    "\n",
    "linear_search(20, nums)"
   ]
  },
  {
   "cell_type": "code",
   "execution_count": 8,
   "metadata": {},
   "outputs": [],
   "source": [
    "def linear_search_v2(predicate, itera):\n",
    "    for index, val in enumerate(itera):\n",
    "        if predicate(val):\n",
    "            return index\n",
    "    else:\n",
    "        return -1\n",
    "    \n",
    "nums = [x for x in range(10)]\n",
    "\n",
    "assert linear_search_v2(lambda x: x == 5, nums) == 5"
   ]
  },
  {
   "cell_type": "code",
   "execution_count": 11,
   "metadata": {},
   "outputs": [
    {
     "name": "stdout",
     "output_type": "stream",
     "text": [
      "False\n",
      "False\n",
      "False\n",
      "False\n",
      "False\n",
      "True\n"
     ]
    }
   ],
   "source": [
    "predicate = lambda x: x == 5\n",
    "for i in range(6):\n",
    "    print(predicate(i))"
   ]
  },
  {
   "cell_type": "code",
   "execution_count": 15,
   "metadata": {},
   "outputs": [
    {
     "data": {
      "text/plain": [
       "7"
      ]
     },
     "execution_count": 15,
     "metadata": {},
     "output_type": "execute_result"
    }
   ],
   "source": [
    "'''递归查找'''\n",
    "def linear_search_recusive(array, value):\n",
    "    if len(array) == 0:\n",
    "        return -1\n",
    "    index = len(array) - 1\n",
    "    if array[index] == value:\n",
    "        return index\n",
    "    return linear_search_recusive(array[0 : index], value)\n",
    "\n",
    "nums = [x for x in range(10)]\n",
    "\n",
    "assert linear_search_recusive(nums, 5) == 5\n",
    "assert linear_search_recusive(nums, 18) == -1\n",
    "assert linear_search_recusive(nums, 7) == 7\n",
    "assert linear_search_recusive(nums, 0) == 0\n",
    "\n",
    "linear_search_recusive(nums, 7)"
   ]
  },
  {
   "cell_type": "markdown",
   "metadata": {},
   "source": [
    "## 二分查找"
   ]
  },
  {
   "cell_type": "code",
   "execution_count": 9,
   "metadata": {},
   "outputs": [
    {
     "name": "stdout",
     "output_type": "stream",
     "text": [
      "0\n",
      "1\n",
      "2\n",
      "3\n",
      "4\n",
      "5\n",
      "6\n",
      "7\n",
      "8\n",
      "9\n",
      "10\n",
      "11\n",
      "12\n",
      "13\n",
      "14\n",
      "15\n",
      "16\n",
      "17\n"
     ]
    },
    {
     "data": {
      "text/plain": [
       "17"
      ]
     },
     "execution_count": 9,
     "metadata": {},
     "output_type": "execute_result"
    }
   ],
   "source": [
    "def Binary_Search(lst, item):\n",
    "    start = 0\n",
    "    end = len(lst)\n",
    "    \n",
    "    while start <= end:\n",
    "        mid = int((start + end) / 2)\n",
    "        \n",
    "        if lst[mid] == item:\n",
    "            return mid\n",
    "        \n",
    "        if lst[mid] > item:\n",
    "            end = mid - 1\n",
    "        else:\n",
    "            start = mid + 1\n",
    "    return None\n",
    "\n",
    "my_list = [1, 3, 5, 7, 9, 10, 30, 50, 60, 67, 70, 75, 78, 89, 90, 92, 95, 98]\n",
    "\n",
    "for i in my_list:\n",
    "    print(Binary_Search(my_list,i))\n",
    "len(my_list) - 1"
   ]
  },
  {
   "cell_type": "code",
   "execution_count": 5,
   "metadata": {},
   "outputs": [],
   "source": [
    "def binary_search_recursive(sorted_array, beg, end, val):\n",
    "    if beg >= end:\n",
    "        return -1\n",
    "    mid = int((beg + end) / 2)  # beg + (end-beg)/2\n",
    "    if sorted_array[mid] == val:\n",
    "        return mid\n",
    "    elif sorted_array[mid] > val:\n",
    "        return binary_search_recursive(sorted_array, beg, mid, val)    # 注意我依然假设 beg, end 区间是左闭右开的\n",
    "    else:\n",
    "        return binary_search_recursive(sorted_array, mid+1, end, val)\n",
    "    \n",
    "def test_binary_search_recursive():\n",
    "    # 我们测试所有值和边界条件\n",
    "    a = list(range(10))\n",
    "    for i in a:\n",
    "        assert binary_search_recursive(a, 0, len(a), i) == i\n",
    "\n",
    "    assert binary_search_recursive(a, 0, len(a), -1) == -1\n",
    "    assert binary_search_recursive(a, 0, len(a), 10) == -1\n",
    "\n",
    "test_binary_search_recursive()"
   ]
  },
  {
   "cell_type": "code",
   "execution_count": null,
   "metadata": {},
   "outputs": [],
   "source": []
  }
 ],
 "metadata": {
  "kernelspec": {
   "display_name": "Python 3",
   "language": "python",
   "name": "python3"
  },
  "language_info": {
   "codemirror_mode": {
    "name": "ipython",
    "version": 3
   },
   "file_extension": ".py",
   "mimetype": "text/x-python",
   "name": "python",
   "nbconvert_exporter": "python",
   "pygments_lexer": "ipython3",
   "version": "3.6.5"
  }
 },
 "nbformat": 4,
 "nbformat_minor": 2
}
