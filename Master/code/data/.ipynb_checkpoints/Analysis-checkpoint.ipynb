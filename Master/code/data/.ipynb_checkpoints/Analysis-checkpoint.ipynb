{
 "cells": [
  {
   "cell_type": "markdown",
   "metadata": {
    "toc-hr-collapsed": false
   },
   "source": [
    "# 第一次数据"
   ]
  },
  {
   "cell_type": "code",
   "execution_count": 3,
   "metadata": {},
   "outputs": [
    {
     "name": "stderr",
     "output_type": "stream",
     "text": [
      "\n",
      "Attaching package: ‘psych’\n",
      "\n",
      "The following objects are masked from ‘package:ggplot2’:\n",
      "\n",
      "    %+%, alpha\n",
      "\n"
     ]
    }
   ],
   "source": [
    "library(psych)"
   ]
  },
  {
   "cell_type": "markdown",
   "metadata": {
    "toc-hr-collapsed": true
   },
   "source": [
    "## 问卷"
   ]
  },
  {
   "cell_type": "code",
   "execution_count": 17,
   "metadata": {},
   "outputs": [
    {
     "data": {
      "text/html": [
       "<table>\n",
       "<thead><tr><th scope=col>编号</th><th scope=col>我愿意频繁使用这个系统</th><th scope=col>我认为这个系统是简单的</th><th scope=col>我认为这个系统用起来很容易</th><th scope=col>我认为我不需要技术人员的帮助就能使用这个系统</th><th scope=col>我认为系统里的各项功能整合良好</th><th scope=col>我认为系统的交互具有良好的一致性</th><th scope=col>我想大多数人都能很快学会使用这个系统</th><th scope=col>这个系统的交互方式很直观</th><th scope=col>我对使用这个系统感到有信心</th><th scope=col>在使用这个系统前我不需要学习任何的新知识</th><th scope=col>这个系统在工作中非常有用</th><th scope=col>我发现这个系统很容易使用</th><th scope=col>您的性别是</th><th scope=col>到目前为止使用网购时间</th><th scope=col>专业</th></tr></thead>\n",
       "<tbody>\n",
       "\t<tr><td> 1                </td><td>4                 </td><td>4                 </td><td>4                 </td><td>5                 </td><td>3                 </td><td>3                 </td><td>4                 </td><td>5                 </td><td>4                 </td><td>5                 </td><td>4                 </td><td>4                 </td><td>1                 </td><td>C.3-7年（含7年）  </td><td>艺术设计          </td></tr>\n",
       "\t<tr><td> 2                </td><td>3                 </td><td>4                 </td><td>4                 </td><td>4                 </td><td>4                 </td><td>3                 </td><td>4                 </td><td>4                 </td><td>4                 </td><td>3                 </td><td>4                 </td><td>4                 </td><td>1                 </td><td>D.7-10年（含10年）</td><td>艺术设计          </td></tr>\n",
       "\t<tr><td> 3                </td><td>3                 </td><td>5                 </td><td>4                 </td><td>4                 </td><td>2                 </td><td>3                 </td><td>4                 </td><td>4                 </td><td>3                 </td><td>3                 </td><td>3                 </td><td>5                 </td><td>0                 </td><td>C.3-7年（含7年）  </td><td>艺术设计          </td></tr>\n",
       "\t<tr><td> 4                </td><td>4                 </td><td>4                 </td><td>3                 </td><td>5                 </td><td>2                 </td><td>2                 </td><td>5                 </td><td>5                 </td><td>4                 </td><td>5                 </td><td>4                 </td><td>4                 </td><td>0                 </td><td>B.1-3年（含3年）  </td><td>艺术设计          </td></tr>\n",
       "\t<tr><td> 5                </td><td>5                 </td><td>4                 </td><td>2                 </td><td>3                 </td><td>3                 </td><td>3                 </td><td>4                 </td><td>5                 </td><td>5                 </td><td>4                 </td><td>5                 </td><td>4                 </td><td>1                 </td><td>C.3-7年（含7年）  </td><td>艺术设计          </td></tr>\n",
       "\t<tr><td> 6                </td><td>2                 </td><td>4                 </td><td>3                 </td><td>1                 </td><td>2                 </td><td>3                 </td><td>4                 </td><td>4                 </td><td>3                 </td><td>4                 </td><td>3                 </td><td>2                 </td><td>1                 </td><td>D.7-10年（含10年）</td><td>工业设计          </td></tr>\n",
       "\t<tr><td> 7                </td><td>2                 </td><td>4                 </td><td>3                 </td><td>1                 </td><td>2                 </td><td>3                 </td><td>4                 </td><td>4                 </td><td>2                 </td><td>2                 </td><td>3                 </td><td>3                 </td><td>0                 </td><td>C.3-7年（含7年）  </td><td>艺术设计          </td></tr>\n",
       "\t<tr><td> 8                </td><td>2                 </td><td>4                 </td><td>2                 </td><td>5                 </td><td>3                 </td><td>4                 </td><td>5                 </td><td>5                 </td><td>2                 </td><td>3                 </td><td>5                 </td><td>5                 </td><td>0                 </td><td>C.3-7年（含7年）  </td><td>艺术设计          </td></tr>\n",
       "\t<tr><td> 9                </td><td>2                 </td><td>4                 </td><td>2                 </td><td>5                 </td><td>3                 </td><td>4                 </td><td>4                 </td><td>4                 </td><td>2                 </td><td>5                 </td><td>3                 </td><td>1                 </td><td>0                 </td><td>C.3-7年（含7年）  </td><td>艺术设计          </td></tr>\n",
       "\t<tr><td>10                </td><td>3                 </td><td>4                 </td><td>3                 </td><td>4                 </td><td>2                 </td><td>2                 </td><td>3                 </td><td>3                 </td><td>4                 </td><td>4                 </td><td>3                 </td><td>2                 </td><td>1                 </td><td>C.3-7年（含7年）  </td><td>艺术设计          </td></tr>\n",
       "</tbody>\n",
       "</table>\n"
      ],
      "text/latex": [
       "\\begin{tabular}{r|llllllllllllllll}\n",
       " 编号 & 我愿意频繁使用这个系统 & 我认为这个系统是简单的 & 我认为这个系统用起来很容易 & 我认为我不需要技术人员的帮助就能使用这个系统 & 我认为系统里的各项功能整合良好 & 我认为系统的交互具有良好的一致性 & 我想大多数人都能很快学会使用这个系统 & 这个系统的交互方式很直观 & 我对使用这个系统感到有信心 & 在使用这个系统前我不需要学习任何的新知识 & 这个系统在工作中非常有用 & 我发现这个系统很容易使用 & 您的性别是 & 到目前为止使用网购时间 & 专业\\\\\n",
       "\\hline\n",
       "\t  1                 & 4                  & 4                  & 4                  & 5                  & 3                  & 3                  & 4                  & 5                  & 4                  & 5                  & 4                  & 4                  & 1                  & C.3-7年（含7年）   & 艺术设计          \\\\\n",
       "\t  2                 & 3                  & 4                  & 4                  & 4                  & 4                  & 3                  & 4                  & 4                  & 4                  & 3                  & 4                  & 4                  & 1                  & D.7-10年（含10年） & 艺术设计          \\\\\n",
       "\t  3                 & 3                  & 5                  & 4                  & 4                  & 2                  & 3                  & 4                  & 4                  & 3                  & 3                  & 3                  & 5                  & 0                  & C.3-7年（含7年）   & 艺术设计          \\\\\n",
       "\t  4                 & 4                  & 4                  & 3                  & 5                  & 2                  & 2                  & 5                  & 5                  & 4                  & 5                  & 4                  & 4                  & 0                  & B.1-3年（含3年）   & 艺术设计          \\\\\n",
       "\t  5                 & 5                  & 4                  & 2                  & 3                  & 3                  & 3                  & 4                  & 5                  & 5                  & 4                  & 5                  & 4                  & 1                  & C.3-7年（含7年）   & 艺术设计          \\\\\n",
       "\t  6                 & 2                  & 4                  & 3                  & 1                  & 2                  & 3                  & 4                  & 4                  & 3                  & 4                  & 3                  & 2                  & 1                  & D.7-10年（含10年） & 工业设计          \\\\\n",
       "\t  7                 & 2                  & 4                  & 3                  & 1                  & 2                  & 3                  & 4                  & 4                  & 2                  & 2                  & 3                  & 3                  & 0                  & C.3-7年（含7年）   & 艺术设计          \\\\\n",
       "\t  8                 & 2                  & 4                  & 2                  & 5                  & 3                  & 4                  & 5                  & 5                  & 2                  & 3                  & 5                  & 5                  & 0                  & C.3-7年（含7年）   & 艺术设计          \\\\\n",
       "\t  9                 & 2                  & 4                  & 2                  & 5                  & 3                  & 4                  & 4                  & 4                  & 2                  & 5                  & 3                  & 1                  & 0                  & C.3-7年（含7年）   & 艺术设计          \\\\\n",
       "\t 10                 & 3                  & 4                  & 3                  & 4                  & 2                  & 2                  & 3                  & 3                  & 4                  & 4                  & 3                  & 2                  & 1                  & C.3-7年（含7年）   & 艺术设计          \\\\\n",
       "\\end{tabular}\n"
      ],
      "text/markdown": [
       "\n",
       "编号 | 我愿意频繁使用这个系统 | 我认为这个系统是简单的 | 我认为这个系统用起来很容易 | 我认为我不需要技术人员的帮助就能使用这个系统 | 我认为系统里的各项功能整合良好 | 我认为系统的交互具有良好的一致性 | 我想大多数人都能很快学会使用这个系统 | 这个系统的交互方式很直观 | 我对使用这个系统感到有信心 | 在使用这个系统前我不需要学习任何的新知识 | 这个系统在工作中非常有用 | 我发现这个系统很容易使用 | 您的性别是 | 到目前为止使用网购时间 | 专业 | \n",
       "|---|---|---|---|---|---|---|---|---|---|\n",
       "|  1                 | 4                  | 4                  | 4                  | 5                  | 3                  | 3                  | 4                  | 5                  | 4                  | 5                  | 4                  | 4                  | 1                  | C.3-7年（含7年）   | 艺术设计           | \n",
       "|  2                 | 3                  | 4                  | 4                  | 4                  | 4                  | 3                  | 4                  | 4                  | 4                  | 3                  | 4                  | 4                  | 1                  | D.7-10年（含10年） | 艺术设计           | \n",
       "|  3                 | 3                  | 5                  | 4                  | 4                  | 2                  | 3                  | 4                  | 4                  | 3                  | 3                  | 3                  | 5                  | 0                  | C.3-7年（含7年）   | 艺术设计           | \n",
       "|  4                 | 4                  | 4                  | 3                  | 5                  | 2                  | 2                  | 5                  | 5                  | 4                  | 5                  | 4                  | 4                  | 0                  | B.1-3年（含3年）   | 艺术设计           | \n",
       "|  5                 | 5                  | 4                  | 2                  | 3                  | 3                  | 3                  | 4                  | 5                  | 5                  | 4                  | 5                  | 4                  | 1                  | C.3-7年（含7年）   | 艺术设计           | \n",
       "|  6                 | 2                  | 4                  | 3                  | 1                  | 2                  | 3                  | 4                  | 4                  | 3                  | 4                  | 3                  | 2                  | 1                  | D.7-10年（含10年） | 工业设计           | \n",
       "|  7                 | 2                  | 4                  | 3                  | 1                  | 2                  | 3                  | 4                  | 4                  | 2                  | 2                  | 3                  | 3                  | 0                  | C.3-7年（含7年）   | 艺术设计           | \n",
       "|  8                 | 2                  | 4                  | 2                  | 5                  | 3                  | 4                  | 5                  | 5                  | 2                  | 3                  | 5                  | 5                  | 0                  | C.3-7年（含7年）   | 艺术设计           | \n",
       "|  9                 | 2                  | 4                  | 2                  | 5                  | 3                  | 4                  | 4                  | 4                  | 2                  | 5                  | 3                  | 1                  | 0                  | C.3-7年（含7年）   | 艺术设计           | \n",
       "| 10                 | 3                  | 4                  | 3                  | 4                  | 2                  | 2                  | 3                  | 3                  | 4                  | 4                  | 3                  | 2                  | 1                  | C.3-7年（含7年）   | 艺术设计           | \n",
       "\n",
       "\n"
      ],
      "text/plain": [
       "   编号 我愿意频繁使用这个系统 我认为这个系统是简单的\n",
       "1   1   4                      4                     \n",
       "2   2   3                      4                     \n",
       "3   3   3                      5                     \n",
       "4   4   4                      4                     \n",
       "5   5   5                      4                     \n",
       "6   6   2                      4                     \n",
       "7   7   2                      4                     \n",
       "8   8   2                      4                     \n",
       "9   9   2                      4                     \n",
       "10 10   3                      4                     \n",
       "   我认为这个系统用起来很容易 我认为我不需要技术人员的帮助就能使用这个系统\n",
       "1  4                          5                                           \n",
       "2  4                          4                                           \n",
       "3  4                          4                                           \n",
       "4  3                          5                                           \n",
       "5  2                          3                                           \n",
       "6  3                          1                                           \n",
       "7  3                          1                                           \n",
       "8  2                          5                                           \n",
       "9  2                          5                                           \n",
       "10 3                          4                                           \n",
       "   我认为系统里的各项功能整合良好 我认为系统的交互具有良好的一致性\n",
       "1  3                              3                               \n",
       "2  4                              3                               \n",
       "3  2                              3                               \n",
       "4  2                              2                               \n",
       "5  3                              3                               \n",
       "6  2                              3                               \n",
       "7  2                              3                               \n",
       "8  3                              4                               \n",
       "9  3                              4                               \n",
       "10 2                              2                               \n",
       "   我想大多数人都能很快学会使用这个系统 这个系统的交互方式很直观\n",
       "1  4                                    5                       \n",
       "2  4                                    4                       \n",
       "3  4                                    4                       \n",
       "4  5                                    5                       \n",
       "5  4                                    5                       \n",
       "6  4                                    4                       \n",
       "7  4                                    4                       \n",
       "8  5                                    5                       \n",
       "9  4                                    4                       \n",
       "10 3                                    3                       \n",
       "   我对使用这个系统感到有信心 在使用这个系统前我不需要学习任何的新知识\n",
       "1  4                          5                                       \n",
       "2  4                          3                                       \n",
       "3  3                          3                                       \n",
       "4  4                          5                                       \n",
       "5  5                          4                                       \n",
       "6  3                          4                                       \n",
       "7  2                          2                                       \n",
       "8  2                          3                                       \n",
       "9  2                          5                                       \n",
       "10 4                          4                                       \n",
       "   这个系统在工作中非常有用 我发现这个系统很容易使用 您的性别是\n",
       "1  4                        4                        1         \n",
       "2  4                        4                        1         \n",
       "3  3                        5                        0         \n",
       "4  4                        4                        0         \n",
       "5  5                        4                        1         \n",
       "6  3                        2                        1         \n",
       "7  3                        3                        0         \n",
       "8  5                        5                        0         \n",
       "9  3                        1                        0         \n",
       "10 3                        2                        1         \n",
       "   到目前为止使用网购时间 专业    \n",
       "1  C.3-7年（含7年）       艺术设计\n",
       "2  D.7-10年（含10年）     艺术设计\n",
       "3  C.3-7年（含7年）       艺术设计\n",
       "4  B.1-3年（含3年）       艺术设计\n",
       "5  C.3-7年（含7年）       艺术设计\n",
       "6  D.7-10年（含10年）     工业设计\n",
       "7  C.3-7年（含7年）       艺术设计\n",
       "8  C.3-7年（含7年）       艺术设计\n",
       "9  C.3-7年（含7年）       艺术设计\n",
       "10 C.3-7年（含7年）       艺术设计"
      ]
     },
     "metadata": {},
     "output_type": "display_data"
    }
   ],
   "source": [
    "eye_scale = read.csv('questionnaire1.csv')\n",
    "eye_scale"
   ]
  },
  {
   "cell_type": "markdown",
   "metadata": {},
   "source": [
    "### 被试信息"
   ]
  },
  {
   "cell_type": "code",
   "execution_count": 12,
   "metadata": {},
   "outputs": [
    {
     "name": "stdout",
     "output_type": "stream",
     "text": [
      "[1] 24.5\n",
      "[1] 1.080123\n"
     ]
    }
   ],
   "source": [
    "info = read.csv('eye-data//Aggregation.csv')[1]\n",
    "for (i in info){\n",
    "    age = as.numeric(substr(i, 6, 7))\n",
    "}\n",
    "print(mean(age))\n",
    "print(sd(age))"
   ]
  },
  {
   "cell_type": "markdown",
   "metadata": {},
   "source": [
    "### SUS"
   ]
  },
  {
   "cell_type": "code",
   "execution_count": 10,
   "metadata": {},
   "outputs": [
    {
     "name": "stdout",
     "output_type": "stream",
     "text": [
      "[1] 14.64629\n"
     ]
    },
    {
     "data": {
      "text/plain": [
       "\n",
       "\tOne Sample t-test\n",
       "\n",
       "data:  sus_list\n",
       "t = 13.44, df = 9, p-value = 2.916e-07\n",
       "alternative hypothesis: true mean is not equal to 0\n",
       "95 percent confidence interval:\n",
       " 51.77267 72.72733\n",
       "sample estimates:\n",
       "mean of x \n",
       "    62.25 \n"
      ]
     },
     "metadata": {},
     "output_type": "display_data"
    }
   ],
   "source": [
    "sus_list = c()\n",
    "for (i in eye_scale[2:11]){\n",
    "    sus_list[length(sus_list) + 1] = ((sum(i) - 10) * 2.5)\n",
    "}\n",
    "print(sd(sus_list))\n",
    "t.test(sus_list)"
   ]
  },
  {
   "cell_type": "markdown",
   "metadata": {},
   "source": [
    "### 计算α系数"
   ]
  },
  {
   "cell_type": "code",
   "execution_count": 5,
   "metadata": {},
   "outputs": [
    {
     "data": {
      "text/html": [
       "<table>\n",
       "<thead><tr><th scope=col>编号</th><th scope=col>我愿意频繁使用这个系统</th><th scope=col>我认为这个系统是简单的</th><th scope=col>我认为这个系统用起来很容易</th><th scope=col>我认为我不需要技术人员的帮助就能使用这个系统</th><th scope=col>我认为系统里的各项功能整合良好</th><th scope=col>我认为系统的交互具有良好的一致性</th><th scope=col>我想大多数人都能很快学会使用这个系统</th><th scope=col>这个系统的交互方式很直观</th><th scope=col>我对使用这个系统感到有信心</th><th scope=col>在使用这个系统前我不需要学习任何的新知识</th><th scope=col>这个系统在工作中非常有用</th><th scope=col>我发现这个系统很容易使用</th></tr></thead>\n",
       "<tbody>\n",
       "\t<tr><td> 1</td><td>4 </td><td>4 </td><td>4 </td><td>5 </td><td>3 </td><td>3 </td><td>4 </td><td>5 </td><td>4 </td><td>5 </td><td>4 </td><td>4 </td></tr>\n",
       "\t<tr><td> 2</td><td>3 </td><td>4 </td><td>4 </td><td>4 </td><td>4 </td><td>3 </td><td>4 </td><td>4 </td><td>4 </td><td>3 </td><td>4 </td><td>4 </td></tr>\n",
       "\t<tr><td> 3</td><td>3 </td><td>5 </td><td>4 </td><td>4 </td><td>2 </td><td>3 </td><td>4 </td><td>4 </td><td>3 </td><td>3 </td><td>3 </td><td>5 </td></tr>\n",
       "\t<tr><td> 4</td><td>4 </td><td>4 </td><td>3 </td><td>5 </td><td>2 </td><td>2 </td><td>5 </td><td>5 </td><td>4 </td><td>5 </td><td>4 </td><td>4 </td></tr>\n",
       "\t<tr><td> 5</td><td>5 </td><td>4 </td><td>2 </td><td>3 </td><td>3 </td><td>3 </td><td>4 </td><td>5 </td><td>5 </td><td>4 </td><td>5 </td><td>4 </td></tr>\n",
       "\t<tr><td> 6</td><td>2 </td><td>4 </td><td>3 </td><td>1 </td><td>2 </td><td>3 </td><td>4 </td><td>4 </td><td>3 </td><td>4 </td><td>3 </td><td>2 </td></tr>\n",
       "\t<tr><td> 7</td><td>2 </td><td>4 </td><td>3 </td><td>1 </td><td>2 </td><td>3 </td><td>4 </td><td>4 </td><td>2 </td><td>2 </td><td>3 </td><td>3 </td></tr>\n",
       "\t<tr><td> 8</td><td>2 </td><td>4 </td><td>2 </td><td>5 </td><td>3 </td><td>4 </td><td>5 </td><td>5 </td><td>2 </td><td>3 </td><td>5 </td><td>5 </td></tr>\n",
       "\t<tr><td> 9</td><td>2 </td><td>4 </td><td>2 </td><td>5 </td><td>3 </td><td>4 </td><td>4 </td><td>4 </td><td>2 </td><td>5 </td><td>3 </td><td>1 </td></tr>\n",
       "\t<tr><td>10</td><td>3 </td><td>4 </td><td>3 </td><td>4 </td><td>2 </td><td>2 </td><td>3 </td><td>3 </td><td>4 </td><td>4 </td><td>3 </td><td>2 </td></tr>\n",
       "</tbody>\n",
       "</table>\n"
      ],
      "text/latex": [
       "\\begin{tabular}{r|lllllllllllll}\n",
       " 编号 & 我愿意频繁使用这个系统 & 我认为这个系统是简单的 & 我认为这个系统用起来很容易 & 我认为我不需要技术人员的帮助就能使用这个系统 & 我认为系统里的各项功能整合良好 & 我认为系统的交互具有良好的一致性 & 我想大多数人都能很快学会使用这个系统 & 这个系统的交互方式很直观 & 我对使用这个系统感到有信心 & 在使用这个系统前我不需要学习任何的新知识 & 这个系统在工作中非常有用 & 我发现这个系统很容易使用\\\\\n",
       "\\hline\n",
       "\t  1 & 4  & 4  & 4  & 5  & 3  & 3  & 4  & 5  & 4  & 5  & 4  & 4 \\\\\n",
       "\t  2 & 3  & 4  & 4  & 4  & 4  & 3  & 4  & 4  & 4  & 3  & 4  & 4 \\\\\n",
       "\t  3 & 3  & 5  & 4  & 4  & 2  & 3  & 4  & 4  & 3  & 3  & 3  & 5 \\\\\n",
       "\t  4 & 4  & 4  & 3  & 5  & 2  & 2  & 5  & 5  & 4  & 5  & 4  & 4 \\\\\n",
       "\t  5 & 5  & 4  & 2  & 3  & 3  & 3  & 4  & 5  & 5  & 4  & 5  & 4 \\\\\n",
       "\t  6 & 2  & 4  & 3  & 1  & 2  & 3  & 4  & 4  & 3  & 4  & 3  & 2 \\\\\n",
       "\t  7 & 2  & 4  & 3  & 1  & 2  & 3  & 4  & 4  & 2  & 2  & 3  & 3 \\\\\n",
       "\t  8 & 2  & 4  & 2  & 5  & 3  & 4  & 5  & 5  & 2  & 3  & 5  & 5 \\\\\n",
       "\t  9 & 2  & 4  & 2  & 5  & 3  & 4  & 4  & 4  & 2  & 5  & 3  & 1 \\\\\n",
       "\t 10 & 3  & 4  & 3  & 4  & 2  & 2  & 3  & 3  & 4  & 4  & 3  & 2 \\\\\n",
       "\\end{tabular}\n"
      ],
      "text/markdown": [
       "\n",
       "编号 | 我愿意频繁使用这个系统 | 我认为这个系统是简单的 | 我认为这个系统用起来很容易 | 我认为我不需要技术人员的帮助就能使用这个系统 | 我认为系统里的各项功能整合良好 | 我认为系统的交互具有良好的一致性 | 我想大多数人都能很快学会使用这个系统 | 这个系统的交互方式很直观 | 我对使用这个系统感到有信心 | 在使用这个系统前我不需要学习任何的新知识 | 这个系统在工作中非常有用 | 我发现这个系统很容易使用 | \n",
       "|---|---|---|---|---|---|---|---|---|---|\n",
       "|  1 | 4  | 4  | 4  | 5  | 3  | 3  | 4  | 5  | 4  | 5  | 4  | 4  | \n",
       "|  2 | 3  | 4  | 4  | 4  | 4  | 3  | 4  | 4  | 4  | 3  | 4  | 4  | \n",
       "|  3 | 3  | 5  | 4  | 4  | 2  | 3  | 4  | 4  | 3  | 3  | 3  | 5  | \n",
       "|  4 | 4  | 4  | 3  | 5  | 2  | 2  | 5  | 5  | 4  | 5  | 4  | 4  | \n",
       "|  5 | 5  | 4  | 2  | 3  | 3  | 3  | 4  | 5  | 5  | 4  | 5  | 4  | \n",
       "|  6 | 2  | 4  | 3  | 1  | 2  | 3  | 4  | 4  | 3  | 4  | 3  | 2  | \n",
       "|  7 | 2  | 4  | 3  | 1  | 2  | 3  | 4  | 4  | 2  | 2  | 3  | 3  | \n",
       "|  8 | 2  | 4  | 2  | 5  | 3  | 4  | 5  | 5  | 2  | 3  | 5  | 5  | \n",
       "|  9 | 2  | 4  | 2  | 5  | 3  | 4  | 4  | 4  | 2  | 5  | 3  | 1  | \n",
       "| 10 | 3  | 4  | 3  | 4  | 2  | 2  | 3  | 3  | 4  | 4  | 3  | 2  | \n",
       "\n",
       "\n"
      ],
      "text/plain": [
       "   编号 我愿意频繁使用这个系统 我认为这个系统是简单的\n",
       "1   1   4                      4                     \n",
       "2   2   3                      4                     \n",
       "3   3   3                      5                     \n",
       "4   4   4                      4                     \n",
       "5   5   5                      4                     \n",
       "6   6   2                      4                     \n",
       "7   7   2                      4                     \n",
       "8   8   2                      4                     \n",
       "9   9   2                      4                     \n",
       "10 10   3                      4                     \n",
       "   我认为这个系统用起来很容易 我认为我不需要技术人员的帮助就能使用这个系统\n",
       "1  4                          5                                           \n",
       "2  4                          4                                           \n",
       "3  4                          4                                           \n",
       "4  3                          5                                           \n",
       "5  2                          3                                           \n",
       "6  3                          1                                           \n",
       "7  3                          1                                           \n",
       "8  2                          5                                           \n",
       "9  2                          5                                           \n",
       "10 3                          4                                           \n",
       "   我认为系统里的各项功能整合良好 我认为系统的交互具有良好的一致性\n",
       "1  3                              3                               \n",
       "2  4                              3                               \n",
       "3  2                              3                               \n",
       "4  2                              2                               \n",
       "5  3                              3                               \n",
       "6  2                              3                               \n",
       "7  2                              3                               \n",
       "8  3                              4                               \n",
       "9  3                              4                               \n",
       "10 2                              2                               \n",
       "   我想大多数人都能很快学会使用这个系统 这个系统的交互方式很直观\n",
       "1  4                                    5                       \n",
       "2  4                                    4                       \n",
       "3  4                                    4                       \n",
       "4  5                                    5                       \n",
       "5  4                                    5                       \n",
       "6  4                                    4                       \n",
       "7  4                                    4                       \n",
       "8  5                                    5                       \n",
       "9  4                                    4                       \n",
       "10 3                                    3                       \n",
       "   我对使用这个系统感到有信心 在使用这个系统前我不需要学习任何的新知识\n",
       "1  4                          5                                       \n",
       "2  4                          3                                       \n",
       "3  3                          3                                       \n",
       "4  4                          5                                       \n",
       "5  5                          4                                       \n",
       "6  3                          4                                       \n",
       "7  2                          2                                       \n",
       "8  2                          3                                       \n",
       "9  2                          5                                       \n",
       "10 4                          4                                       \n",
       "   这个系统在工作中非常有用 我发现这个系统很容易使用\n",
       "1  4                        4                       \n",
       "2  4                        4                       \n",
       "3  3                        5                       \n",
       "4  4                        4                       \n",
       "5  5                        4                       \n",
       "6  3                        2                       \n",
       "7  3                        3                       \n",
       "8  5                        5                       \n",
       "9  3                        1                       \n",
       "10 3                        2                       "
      ]
     },
     "metadata": {},
     "output_type": "display_data"
    }
   ],
   "source": [
    "eye_scale[,1:13]"
   ]
  },
  {
   "cell_type": "code",
   "execution_count": 53,
   "metadata": {},
   "outputs": [
    {
     "name": "stderr",
     "output_type": "stream",
     "text": [
      "Warning message in cor.smooth(r):\n",
      "“Matrix was not positive definite, smoothing was done”Warning message in alpha(eye_scale[, 2:13]):\n",
      "“Some items were negatively correlated with the total scale and probably \n",
      "should be reversed.  \n",
      "To do this, run the function again with the 'check.keys=TRUE' option”"
     ]
    },
    {
     "name": "stdout",
     "output_type": "stream",
     "text": [
      "Some items ( 我认为这个系统是简单的 我认为这个系统用起来很容易 ) were negatively correlated with the total scale and \n",
      "probably should be reversed.  \n",
      "To do this, run the function again with the 'check.keys=TRUE' option"
     ]
    },
    {
     "name": "stderr",
     "output_type": "stream",
     "text": [
      "Warning message in cor.smooth(R):\n",
      "“Matrix was not positive definite, smoothing was done”Warning message in cor.smooth(R):\n",
      "“Matrix was not positive definite, smoothing was done”Warning message in cor.smooth(R):\n",
      "“Matrix was not positive definite, smoothing was done”Warning message in cor.smooth(R):\n",
      "“Matrix was not positive definite, smoothing was done”Warning message in cor.smooth(R):\n",
      "“Matrix was not positive definite, smoothing was done”Warning message in cor.smooth(R):\n",
      "“Matrix was not positive definite, smoothing was done”Warning message in cor.smooth(R):\n",
      "“Matrix was not positive definite, smoothing was done”Warning message in cor.smooth(R):\n",
      "“Matrix was not positive definite, smoothing was done”Warning message in cor.smooth(R):\n",
      "“Matrix was not positive definite, smoothing was done”Warning message in cor.smooth(R):\n",
      "“Matrix was not positive definite, smoothing was done”Warning message in cor.smooth(R):\n",
      "“Matrix was not positive definite, smoothing was done”Warning message in cor.smooth(R):\n",
      "“Matrix was not positive definite, smoothing was done”Warning message in cor.smooth(R):\n",
      "“Matrix was not positive definite, smoothing was done”Warning message in cor.smooth(R):\n",
      "“Matrix was not positive definite, smoothing was done”"
     ]
    },
    {
     "data": {
      "text/plain": [
       "\n",
       "Reliability analysis   \n",
       "Call: alpha(x = eye_scale[, 2:13])\n",
       "\n",
       "  raw_alpha std.alpha G6(smc) average_r S/N  ase mean   sd median_r\n",
       "      0.72       0.7       1      0.16 2.3 0.12  3.5 0.47     0.18\n",
       "\n",
       " lower alpha upper     95% confidence boundaries\n",
       "0.48 0.72 0.95 \n",
       "\n",
       " Reliability if an item is dropped:\n",
       "                                             raw_alpha std.alpha G6(smc)\n",
       "我愿意频繁使用这个系统                            0.66      0.65       1\n",
       "我认为这个系统是简单的                            0.73      0.73       1\n",
       "我认为这个系统用起来很容易                        0.74      0.73       1\n",
       "我认为我不需要技术人员的帮助就能使用这个系统      0.68      0.65       1\n",
       "我认为系统里的各项功能整合良好                    0.69      0.67       1\n",
       "我认为系统的交互具有良好的一致性                  0.74      0.73       1\n",
       "我想大多数人都能很快学会使用这个系统              0.70      0.67       1\n",
       "这个系统的交互方式很直观                          0.67      0.62       1\n",
       "我对使用这个系统感到有信心                        0.69      0.68       1\n",
       "在使用这个系统前我不需要学习任何的新知识          0.72      0.70       1\n",
       "这个系统在工作中非常有用                          0.66      0.62       1\n",
       "我发现这个系统很容易使用                          0.67      0.63       1\n",
       "                                             average_r S/N var.r med.r\n",
       "我愿意频繁使用这个系统                            0.14 1.8 0.098  0.18\n",
       "我认为这个系统是简单的                            0.20 2.7 0.103  0.25\n",
       "我认为这个系统用起来很容易                        0.20 2.7 0.102  0.22\n",
       "我认为我不需要技术人员的帮助就能使用这个系统      0.14 1.8 0.117  0.17\n",
       "我认为系统里的各项功能整合良好                    0.15 2.0 0.113  0.20\n",
       "我认为系统的交互具有良好的一致性                  0.20 2.7 0.092  0.22\n",
       "我想大多数人都能很快学会使用这个系统              0.15 2.0 0.103  0.19\n",
       "这个系统的交互方式很直观                          0.13 1.6 0.098  0.13\n",
       "我对使用这个系统感到有信心                        0.16 2.1 0.096  0.19\n",
       "在使用这个系统前我不需要学习任何的新知识          0.18 2.4 0.106  0.20\n",
       "这个系统在工作中非常有用                          0.13 1.7 0.094  0.15\n",
       "我发现这个系统很容易使用                          0.13 1.7 0.105  0.13\n",
       "\n",
       " Item statistics \n",
       "                                              n raw.r std.r r.cor  r.drop mean\n",
       "我愿意频繁使用这个系统                       10 0.716  0.65  0.65  0.6025  3.0\n",
       "我认为这个系统是简单的                       10 0.063  0.13  0.13  0.0063  4.1\n",
       "我认为这个系统用起来很容易                   10 0.146  0.14  0.14  0.0000  3.0\n",
       "我认为我不需要技术人员的帮助就能使用这个系统 10 0.697  0.64  0.64  0.5023  3.7\n",
       "我认为系统里的各项功能整合良好               10 0.511  0.53  0.53  0.4097  2.6\n",
       "我认为系统的交互具有良好的一致性             10 0.000  0.11  0.11 -0.1183  3.0\n",
       "我想大多数人都能很快学会使用这个系统         10 0.455  0.53  0.53  0.3686  4.1\n",
       "这个系统的交互方式很直观                     10 0.735  0.79  0.79  0.6717  4.3\n",
       "我对使用这个系统感到有信心                   10 0.543  0.45  0.45  0.3887  3.3\n",
       "在使用这个系统前我不需要学习任何的新知识     10 0.384  0.31  0.31  0.2116  3.8\n",
       "这个系统在工作中非常有用                     10 0.747  0.76  0.76  0.6705  3.7\n",
       "我发现这个系统很容易使用                     10 0.676  0.73  0.73  0.5088  3.4\n",
       "                                               sd\n",
       "我愿意频繁使用这个系统                       1.05\n",
       "我认为这个系统是简单的                       0.32\n",
       "我认为这个系统用起来很容易                   0.82\n",
       "我认为我不需要技术人员的帮助就能使用这个系统 1.57\n",
       "我认为系统里的各项功能整合良好               0.70\n",
       "我认为系统的交互具有良好的一致性             0.67\n",
       "我想大多数人都能很快学会使用这个系统         0.57\n",
       "这个系统的交互方式很直观                     0.67\n",
       "我对使用这个系统感到有信心                   1.06\n",
       "在使用这个系统前我不需要学习任何的新知识     1.03\n",
       "这个系统在工作中非常有用                     0.82\n",
       "我发现这个系统很容易使用                     1.35\n",
       "\n",
       "Non missing response frequency for each item\n",
       "                                               1   2   3   4   5 miss\n",
       "我愿意频繁使用这个系统                       0.0 0.4 0.3 0.2 0.1    0\n",
       "我认为这个系统是简单的                       0.0 0.0 0.0 0.9 0.1    0\n",
       "我认为这个系统用起来很容易                   0.0 0.3 0.4 0.3 0.0    0\n",
       "我认为我不需要技术人员的帮助就能使用这个系统 0.2 0.0 0.1 0.3 0.4    0\n",
       "我认为系统里的各项功能整合良好               0.0 0.5 0.4 0.1 0.0    0\n",
       "我认为系统的交互具有良好的一致性             0.0 0.2 0.6 0.2 0.0    0\n",
       "我想大多数人都能很快学会使用这个系统         0.0 0.0 0.1 0.7 0.2    0\n",
       "这个系统的交互方式很直观                     0.0 0.0 0.1 0.5 0.4    0\n",
       "我对使用这个系统感到有信心                   0.0 0.3 0.2 0.4 0.1    0\n",
       "在使用这个系统前我不需要学习任何的新知识     0.0 0.1 0.3 0.3 0.3    0\n",
       "这个系统在工作中非常有用                     0.0 0.0 0.5 0.3 0.2    0\n",
       "我发现这个系统很容易使用                     0.1 0.2 0.1 0.4 0.2    0"
      ]
     },
     "metadata": {},
     "output_type": "display_data"
    }
   ],
   "source": [
    "alpha(eye_scale[,2:13])"
   ]
  },
  {
   "cell_type": "markdown",
   "metadata": {},
   "source": [
    "| total         | a list containing                                                                                                                                                                                   | 包含的列表                                                                                                                      |\n",
    "|---------------|-----------------------------------------------------------------------------------------------------------------------------------------------------------------------------------------------------|---------------------------------------------------------------------------------------------------------------------------------|\n",
    "| raw_alpha     | alpha based upon the covariances                                                                                                                                                                    | 基于协方差的alpha                                                                                                               |\n",
    "| std.alpha     | The standarized alpha based upon the correlations                                                                                                                                                   | 基于相关性的标准化alpha                                                                                                         |\n",
    "| G6(smc)       | Guttman’s Lambda 6 reliability                                                                                                                                                                      | Guttman的Lambda 6信度                                                                                                           |\n",
    "| average_r     | The average interitem correlation                                                                                                                                                                   | 条目间相关性均值                                                                                                                |\n",
    "| median_r      | The median interitem correlation                                                                                                                                                                    | 条目间相关性中值                                                                                                                |\n",
    "| mean          | For data matrices, the mean of the scale formed by averaging or summing the items (depending upon the cumulative option)                                                                            | 对于数据矩阵，通过对项求平均值或求和而形成的比例尺的平均值(取决于累积选项)                                                      |\n",
    "| sd            | For data matrices, the standard deviation of the total score                                                                                                                                        | 对于数据矩阵，总得分的标准差                                                                                                    |\n",
    "| alpha.drop    | A data frame with all of the above for the case of each item being removed one by one                                                                                                               | 一个包含上述所有内容的dataframe，用于逐个删除每个项                                                                             |\n",
    "| item.stats    | A data frame including                                                                                                                                                                              | 包含的dataFrame                                                                                                                 |\n",
    "| n             | number of complete cases for the item                                                                                                                                                               | 项目的完整用例数                                                                                                                |\n",
    "| raw.r         | The correlation of each item with the total score, not corrected for item overlap                                                                                                                   | 每个条目与总分的相关性，而不是对条目重叠的校正                                                                                  |\n",
    "| std.r         | The correlation of each item with the total score (not corrected for item overlap) if the items were all standardized                                                                               | 如果所有项目都标准化了，则每个项目与总分的相关性(不纠正项目重叠)                                                                |\n",
    "| r.cor         | Item whole correlation corrected for item overlap and scale reliability                                                                                                                             | 根据条目重叠和量表信度校正项目整体相关性                                                                                        |\n",
    "| r.drop        | Item whole correlation for this item against the scale without this item                                                                                                                            | 有与没有此条目量表的整体相关                                                                                                    |\n",
    "| mean          | for data matrices, the mean of each item                                                                                                                                                            | 对于数据矩阵，每个条目的平均值                                                                                                  |\n",
    "| sd            | For data matrices, the standard deviation of each item                                                                                                                                              | 对于数据矩阵，每个条目的标准偏差                                                                                                |\n",
    "| response.freq | For data matrices, the frequency of each item response (if less than 20)                                                                                                                            | 对于数据矩阵，每个条目响应的频率（如果小于20）                                                                                  |\n",
    "| scores        | Scores are by default simply the average response for all items that a participant took. If cumulative=TRUE, then these are sum scores. Note, this is dangerous if there are lots of missing values | 默认情况下，分数只是参与者对所有项目的平均反应。如果cumulative=TRUE，那么这些就是和分数。注意，如果有很多缺失的值，这是很危险的 |"
   ]
  },
  {
   "cell_type": "code",
   "execution_count": 36,
   "metadata": {},
   "outputs": [
    {
     "data": {
      "text/html": [
       "<table>\n",
       "<thead><tr><th></th><th scope=col>raw_alpha</th><th scope=col>std.alpha</th><th scope=col>G6(smc)</th><th scope=col>average_r</th><th scope=col>S/N</th><th scope=col>ase</th><th scope=col>mean</th><th scope=col>sd</th><th scope=col>median_r</th></tr></thead>\n",
       "<tbody>\n",
       "\t<tr><th scope=row></th><td>0.7172147</td><td>0.6956521</td><td>1        </td><td>0.1599999</td><td>2.285713 </td><td>0.1193622</td><td>3.5      </td><td>0.4664682</td><td>0.1841808</td></tr>\n",
       "</tbody>\n",
       "</table>\n"
      ],
      "text/latex": [
       "\\begin{tabular}{r|lllllllll}\n",
       "  & raw\\_alpha & std.alpha & G6(smc) & average\\_r & S/N & ase & mean & sd & median\\_r\\\\\n",
       "\\hline\n",
       "\t & 0.7172147 & 0.6956521 & 1         & 0.1599999 & 2.285713  & 0.1193622 & 3.5       & 0.4664682 & 0.1841808\\\\\n",
       "\\end{tabular}\n"
      ],
      "text/markdown": [
       "\n",
       "| <!--/--> | raw_alpha | std.alpha | G6(smc) | average_r | S/N | ase | mean | sd | median_r | \n",
       "|---|\n",
       "|  | 0.7172147 | 0.6956521 | 1         | 0.1599999 | 2.285713  | 0.1193622 | 3.5       | 0.4664682 | 0.1841808 | \n",
       "\n",
       "\n"
      ],
      "text/plain": [
       " raw_alpha std.alpha G6(smc) average_r S/N      ase       mean sd       \n",
       " 0.7172147 0.6956521 1       0.1599999 2.285713 0.1193622 3.5  0.4664682\n",
       " median_r \n",
       " 0.1841808"
      ]
     },
     "metadata": {},
     "output_type": "display_data"
    }
   ],
   "source": [
    "result$total #result[1]"
   ]
  },
  {
   "cell_type": "code",
   "execution_count": 30,
   "metadata": {},
   "outputs": [
    {
     "data": {
      "text/html": [
       "<ol class=list-inline>\n",
       "\t<li>4.08333333333333</li>\n",
       "\t<li>3.75</li>\n",
       "\t<li>3.58333333333333</li>\n",
       "\t<li>3.91666666666667</li>\n",
       "\t<li>3.91666666666667</li>\n",
       "\t<li>2.91666666666667</li>\n",
       "\t<li>2.75</li>\n",
       "\t<li>3.75</li>\n",
       "\t<li>3.25</li>\n",
       "\t<li>3.08333333333333</li>\n",
       "</ol>\n"
      ],
      "text/latex": [
       "\\begin{enumerate*}\n",
       "\\item 4.08333333333333\n",
       "\\item 3.75\n",
       "\\item 3.58333333333333\n",
       "\\item 3.91666666666667\n",
       "\\item 3.91666666666667\n",
       "\\item 2.91666666666667\n",
       "\\item 2.75\n",
       "\\item 3.75\n",
       "\\item 3.25\n",
       "\\item 3.08333333333333\n",
       "\\end{enumerate*}\n"
      ],
      "text/markdown": [
       "1. 4.08333333333333\n",
       "2. 3.75\n",
       "3. 3.58333333333333\n",
       "4. 3.91666666666667\n",
       "5. 3.91666666666667\n",
       "6. 2.91666666666667\n",
       "7. 2.75\n",
       "8. 3.75\n",
       "9. 3.25\n",
       "10. 3.08333333333333\n",
       "\n",
       "\n"
      ],
      "text/plain": [
       " [1] 4.083333 3.750000 3.583333 3.916667 3.916667 2.916667 2.750000 3.750000\n",
       " [9] 3.250000 3.083333"
      ]
     },
     "metadata": {},
     "output_type": "display_data"
    }
   ],
   "source": [
    "result$scores #result[6]"
   ]
  },
  {
   "cell_type": "code",
   "execution_count": 17,
   "metadata": {},
   "outputs": [
    {
     "data": {
      "text/html": [
       "<table>\n",
       "<thead><tr><th></th><th scope=col>raw_alpha</th><th scope=col>std.alpha</th><th scope=col>G6(smc)</th><th scope=col>average_r</th><th scope=col>S/N</th><th scope=col>var.r</th><th scope=col>med.r</th></tr></thead>\n",
       "<tbody>\n",
       "\t<tr><th scope=row>我愿意频繁使用这个系统</th><td>0.6589815 </td><td>0.6454726 </td><td>1         </td><td>0.1420096 </td><td>1.820656  </td><td>0.09815166</td><td>0.1800090 </td></tr>\n",
       "\t<tr><th scope=row>我认为这个系统是简单的</th><td>0.7252403 </td><td>0.7296509 </td><td>1         </td><td>0.1970171 </td><td>2.698921  </td><td>0.10293832</td><td>0.2469324 </td></tr>\n",
       "\t<tr><th scope=row>我认为这个系统用起来很容易</th><td>0.7389130 </td><td>0.7277649 </td><td>1         </td><td>0.1955121 </td><td>2.673295  </td><td>0.10177609</td><td>0.2175582 </td></tr>\n",
       "\t<tr><th scope=row>我认为我不需要技术人员的帮助就能使用这个系统</th><td>0.6777950 </td><td>0.6477824 </td><td>1         </td><td>0.1432457 </td><td>1.839154  </td><td>0.11731134</td><td>0.1709386 </td></tr>\n",
       "\t<tr><th scope=row>我认为系统里的各项功能整合良好</th><td>0.6949681 </td><td>0.6683061 </td><td>1         </td><td>0.1548102 </td><td>2.014827  </td><td>0.11274457</td><td>0.2024441 </td></tr>\n",
       "\t<tr><th scope=row>我认为系统的交互具有良好的一致性</th><td>0.7438462 </td><td>0.7312594 </td><td>1         </td><td>0.1983127 </td><td>2.721061  </td><td>0.09158351</td><td>0.2175582 </td></tr>\n",
       "\t<tr><th scope=row>我想大多数人都能很快学会使用这个系统</th><td>0.7018926 </td><td>0.6684478 </td><td>1         </td><td>0.1548938 </td><td>2.016116  </td><td>0.10264995</td><td>0.1883526 </td></tr>\n",
       "\t<tr><th scope=row>这个系统的交互方式很直观</th><td>0.6690385 </td><td>0.6175804 </td><td>1         </td><td>0.1280173 </td><td>1.614929  </td><td>0.09761711</td><td>0.1290994 </td></tr>\n",
       "\t<tr><th scope=row>我对使用这个系统感到有信心</th><td>0.6935498 </td><td>0.6811939 </td><td>1         </td><td>0.1626514 </td><td>2.136703  </td><td>0.09568652</td><td>0.1883526 </td></tr>\n",
       "\t<tr><th scope=row>在使用这个系统前我不需要学习任何的新知识</th><td>0.7196343 </td><td>0.7046308 </td><td>1         </td><td>0.1782210 </td><td>2.385594  </td><td>0.10637003</td><td>0.2024441 </td></tr>\n",
       "\t<tr><th scope=row>这个系统在工作中非常有用</th><td>0.6597081 </td><td>0.6241040 </td><td>1         </td><td>0.1311429 </td><td>1.660310  </td><td>0.09358952</td><td>0.1507557 </td></tr>\n",
       "\t<tr><th scope=row>我发现这个系统很容易使用</th><td>0.6725775 </td><td>0.6302463 </td><td>1         </td><td>0.1341653 </td><td>1.704503  </td><td>0.10505239</td><td>0.1290994 </td></tr>\n",
       "</tbody>\n",
       "</table>\n"
      ],
      "text/latex": [
       "\\begin{tabular}{r|lllllll}\n",
       "  & raw\\_alpha & std.alpha & G6(smc) & average\\_r & S/N & var.r & med.r\\\\\n",
       "\\hline\n",
       "\t我愿意频繁使用这个系统 & 0.6589815  & 0.6454726  & 1          & 0.1420096  & 1.820656   & 0.09815166 & 0.1800090 \\\\\n",
       "\t我认为这个系统是简单的 & 0.7252403  & 0.7296509  & 1          & 0.1970171  & 2.698921   & 0.10293832 & 0.2469324 \\\\\n",
       "\t我认为这个系统用起来很容易 & 0.7389130  & 0.7277649  & 1          & 0.1955121  & 2.673295   & 0.10177609 & 0.2175582 \\\\\n",
       "\t我认为我不需要技术人员的帮助就能使用这个系统 & 0.6777950  & 0.6477824  & 1          & 0.1432457  & 1.839154   & 0.11731134 & 0.1709386 \\\\\n",
       "\t我认为系统里的各项功能整合良好 & 0.6949681  & 0.6683061  & 1          & 0.1548102  & 2.014827   & 0.11274457 & 0.2024441 \\\\\n",
       "\t我认为系统的交互具有良好的一致性 & 0.7438462  & 0.7312594  & 1          & 0.1983127  & 2.721061   & 0.09158351 & 0.2175582 \\\\\n",
       "\t我想大多数人都能很快学会使用这个系统 & 0.7018926  & 0.6684478  & 1          & 0.1548938  & 2.016116   & 0.10264995 & 0.1883526 \\\\\n",
       "\t这个系统的交互方式很直观 & 0.6690385  & 0.6175804  & 1          & 0.1280173  & 1.614929   & 0.09761711 & 0.1290994 \\\\\n",
       "\t我对使用这个系统感到有信心 & 0.6935498  & 0.6811939  & 1          & 0.1626514  & 2.136703   & 0.09568652 & 0.1883526 \\\\\n",
       "\t在使用这个系统前我不需要学习任何的新知识 & 0.7196343  & 0.7046308  & 1          & 0.1782210  & 2.385594   & 0.10637003 & 0.2024441 \\\\\n",
       "\t这个系统在工作中非常有用 & 0.6597081  & 0.6241040  & 1          & 0.1311429  & 1.660310   & 0.09358952 & 0.1507557 \\\\\n",
       "\t我发现这个系统很容易使用 & 0.6725775  & 0.6302463  & 1          & 0.1341653  & 1.704503   & 0.10505239 & 0.1290994 \\\\\n",
       "\\end{tabular}\n"
      ],
      "text/markdown": [
       "\n",
       "| <!--/--> | raw_alpha | std.alpha | G6(smc) | average_r | S/N | var.r | med.r | \n",
       "|---|---|---|---|---|---|---|---|---|---|---|---|\n",
       "| 我愿意频繁使用这个系统 | 0.6589815  | 0.6454726  | 1          | 0.1420096  | 1.820656   | 0.09815166 | 0.1800090  | \n",
       "| 我认为这个系统是简单的 | 0.7252403  | 0.7296509  | 1          | 0.1970171  | 2.698921   | 0.10293832 | 0.2469324  | \n",
       "| 我认为这个系统用起来很容易 | 0.7389130  | 0.7277649  | 1          | 0.1955121  | 2.673295   | 0.10177609 | 0.2175582  | \n",
       "| 我认为我不需要技术人员的帮助就能使用这个系统 | 0.6777950  | 0.6477824  | 1          | 0.1432457  | 1.839154   | 0.11731134 | 0.1709386  | \n",
       "| 我认为系统里的各项功能整合良好 | 0.6949681  | 0.6683061  | 1          | 0.1548102  | 2.014827   | 0.11274457 | 0.2024441  | \n",
       "| 我认为系统的交互具有良好的一致性 | 0.7438462  | 0.7312594  | 1          | 0.1983127  | 2.721061   | 0.09158351 | 0.2175582  | \n",
       "| 我想大多数人都能很快学会使用这个系统 | 0.7018926  | 0.6684478  | 1          | 0.1548938  | 2.016116   | 0.10264995 | 0.1883526  | \n",
       "| 这个系统的交互方式很直观 | 0.6690385  | 0.6175804  | 1          | 0.1280173  | 1.614929   | 0.09761711 | 0.1290994  | \n",
       "| 我对使用这个系统感到有信心 | 0.6935498  | 0.6811939  | 1          | 0.1626514  | 2.136703   | 0.09568652 | 0.1883526  | \n",
       "| 在使用这个系统前我不需要学习任何的新知识 | 0.7196343  | 0.7046308  | 1          | 0.1782210  | 2.385594   | 0.10637003 | 0.2024441  | \n",
       "| 这个系统在工作中非常有用 | 0.6597081  | 0.6241040  | 1          | 0.1311429  | 1.660310   | 0.09358952 | 0.1507557  | \n",
       "| 我发现这个系统很容易使用 | 0.6725775  | 0.6302463  | 1          | 0.1341653  | 1.704503   | 0.10505239 | 0.1290994  | \n",
       "\n",
       "\n"
      ],
      "text/plain": [
       "                                             raw_alpha std.alpha G6(smc)\n",
       "我愿意频繁使用这个系统                       0.6589815 0.6454726 1      \n",
       "我认为这个系统是简单的                       0.7252403 0.7296509 1      \n",
       "我认为这个系统用起来很容易                   0.7389130 0.7277649 1      \n",
       "我认为我不需要技术人员的帮助就能使用这个系统 0.6777950 0.6477824 1      \n",
       "我认为系统里的各项功能整合良好               0.6949681 0.6683061 1      \n",
       "我认为系统的交互具有良好的一致性             0.7438462 0.7312594 1      \n",
       "我想大多数人都能很快学会使用这个系统         0.7018926 0.6684478 1      \n",
       "这个系统的交互方式很直观                     0.6690385 0.6175804 1      \n",
       "我对使用这个系统感到有信心                   0.6935498 0.6811939 1      \n",
       "在使用这个系统前我不需要学习任何的新知识     0.7196343 0.7046308 1      \n",
       "这个系统在工作中非常有用                     0.6597081 0.6241040 1      \n",
       "我发现这个系统很容易使用                     0.6725775 0.6302463 1      \n",
       "                                             average_r S/N      var.r     \n",
       "我愿意频繁使用这个系统                       0.1420096 1.820656 0.09815166\n",
       "我认为这个系统是简单的                       0.1970171 2.698921 0.10293832\n",
       "我认为这个系统用起来很容易                   0.1955121 2.673295 0.10177609\n",
       "我认为我不需要技术人员的帮助就能使用这个系统 0.1432457 1.839154 0.11731134\n",
       "我认为系统里的各项功能整合良好               0.1548102 2.014827 0.11274457\n",
       "我认为系统的交互具有良好的一致性             0.1983127 2.721061 0.09158351\n",
       "我想大多数人都能很快学会使用这个系统         0.1548938 2.016116 0.10264995\n",
       "这个系统的交互方式很直观                     0.1280173 1.614929 0.09761711\n",
       "我对使用这个系统感到有信心                   0.1626514 2.136703 0.09568652\n",
       "在使用这个系统前我不需要学习任何的新知识     0.1782210 2.385594 0.10637003\n",
       "这个系统在工作中非常有用                     0.1311429 1.660310 0.09358952\n",
       "我发现这个系统很容易使用                     0.1341653 1.704503 0.10505239\n",
       "                                             med.r    \n",
       "我愿意频繁使用这个系统                       0.1800090\n",
       "我认为这个系统是简单的                       0.2469324\n",
       "我认为这个系统用起来很容易                   0.2175582\n",
       "我认为我不需要技术人员的帮助就能使用这个系统 0.1709386\n",
       "我认为系统里的各项功能整合良好               0.2024441\n",
       "我认为系统的交互具有良好的一致性             0.2175582\n",
       "我想大多数人都能很快学会使用这个系统         0.1883526\n",
       "这个系统的交互方式很直观                     0.1290994\n",
       "我对使用这个系统感到有信心                   0.1883526\n",
       "在使用这个系统前我不需要学习任何的新知识     0.2024441\n",
       "这个系统在工作中非常有用                     0.1507557\n",
       "我发现这个系统很容易使用                     0.1290994"
      ]
     },
     "metadata": {},
     "output_type": "display_data"
    }
   ],
   "source": [
    "result$alpha.drop #result[2]"
   ]
  },
  {
   "cell_type": "code",
   "execution_count": 26,
   "metadata": {},
   "outputs": [
    {
     "data": {
      "text/html": [
       "<table>\n",
       "<thead><tr><th></th><th scope=col>n</th><th scope=col>raw.r</th><th scope=col>std.r</th><th scope=col>r.cor</th><th scope=col>r.drop</th><th scope=col>mean</th><th scope=col>sd</th></tr></thead>\n",
       "<tbody>\n",
       "\t<tr><th scope=row>我愿意频繁使用这个系统</th><td>10          </td><td>0.7155814   </td><td>0.6515151   </td><td>0.6515151   </td><td> 0.602464076</td><td>3.0         </td><td>1.0540926   </td></tr>\n",
       "\t<tr><th scope=row>我认为这个系统是简单的</th><td>10          </td><td>0.0627703   </td><td>0.1258136   </td><td>0.1258136   </td><td> 0.006289308</td><td>4.1         </td><td>0.3162278   </td></tr>\n",
       "\t<tr><th scope=row>我认为这个系统用起来很容易</th><td>10          </td><td>0.1458650   </td><td>0.1401959   </td><td>0.1401959   </td><td> 0.000000000</td><td>3.0         </td><td>0.8164966   </td></tr>\n",
       "\t<tr><th scope=row>我认为我不需要技术人员的帮助就能使用这个系统</th><td>10          </td><td>0.6966939   </td><td>0.6397016   </td><td>0.6397016   </td><td> 0.502327545</td><td>3.7         </td><td>1.5670212   </td></tr>\n",
       "\t<tr><th scope=row>我认为系统里的各项功能整合良好</th><td>10          </td><td>0.5110008   </td><td>0.5291813   </td><td>0.5291813   </td><td> 0.409727777</td><td>2.6         </td><td>0.6992059   </td></tr>\n",
       "\t<tr><th scope=row>我认为系统的交互具有良好的一致性</th><td>10          </td><td>0.0000000   </td><td>0.1134311   </td><td>0.1134311   </td><td>-0.118262479</td><td>3.0         </td><td>0.6666667   </td></tr>\n",
       "\t<tr><th scope=row>我想大多数人都能很快学会使用这个系统</th><td>10          </td><td>0.4545899   </td><td>0.5283814   </td><td>0.5283814   </td><td> 0.368600865</td><td>4.1         </td><td>0.5676462   </td></tr>\n",
       "\t<tr><th scope=row>这个系统的交互方式很直观</th><td>10          </td><td>0.7352305   </td><td>0.7852384   </td><td>0.7852384   </td><td> 0.671747972</td><td>4.3         </td><td>0.6749486   </td></tr>\n",
       "\t<tr><th scope=row>我对使用这个系统感到有信心</th><td>10          </td><td>0.5433914   </td><td>0.4542432   </td><td>0.4542432   </td><td> 0.388687353</td><td>3.3         </td><td>1.0593499   </td></tr>\n",
       "\t<tr><th scope=row>在使用这个系统前我不需要学习任何的新知识</th><td>10          </td><td>0.3843880   </td><td>0.3054460   </td><td>0.3054460   </td><td> 0.211613029</td><td>3.8         </td><td>1.0327956   </td></tr>\n",
       "\t<tr><th scope=row>这个系统在工作中非常有用</th><td>10          </td><td>0.7474329   </td><td>0.7553667   </td><td>0.7553667   </td><td> 0.670477408</td><td>3.7         </td><td>0.8232726   </td></tr>\n",
       "\t<tr><th scope=row>我发现这个系统很容易使用</th><td>10          </td><td>0.6764121   </td><td>0.7264826   </td><td>0.7264826   </td><td> 0.508762322</td><td>3.4         </td><td>1.3498971   </td></tr>\n",
       "</tbody>\n",
       "</table>\n"
      ],
      "text/latex": [
       "\\begin{tabular}{r|lllllll}\n",
       "  & n & raw.r & std.r & r.cor & r.drop & mean & sd\\\\\n",
       "\\hline\n",
       "\t我愿意频繁使用这个系统 & 10           & 0.7155814    & 0.6515151    & 0.6515151    &  0.602464076 & 3.0          & 1.0540926   \\\\\n",
       "\t我认为这个系统是简单的 & 10           & 0.0627703    & 0.1258136    & 0.1258136    &  0.006289308 & 4.1          & 0.3162278   \\\\\n",
       "\t我认为这个系统用起来很容易 & 10           & 0.1458650    & 0.1401959    & 0.1401959    &  0.000000000 & 3.0          & 0.8164966   \\\\\n",
       "\t我认为我不需要技术人员的帮助就能使用这个系统 & 10           & 0.6966939    & 0.6397016    & 0.6397016    &  0.502327545 & 3.7          & 1.5670212   \\\\\n",
       "\t我认为系统里的各项功能整合良好 & 10           & 0.5110008    & 0.5291813    & 0.5291813    &  0.409727777 & 2.6          & 0.6992059   \\\\\n",
       "\t我认为系统的交互具有良好的一致性 & 10           & 0.0000000    & 0.1134311    & 0.1134311    & -0.118262479 & 3.0          & 0.6666667   \\\\\n",
       "\t我想大多数人都能很快学会使用这个系统 & 10           & 0.4545899    & 0.5283814    & 0.5283814    &  0.368600865 & 4.1          & 0.5676462   \\\\\n",
       "\t这个系统的交互方式很直观 & 10           & 0.7352305    & 0.7852384    & 0.7852384    &  0.671747972 & 4.3          & 0.6749486   \\\\\n",
       "\t我对使用这个系统感到有信心 & 10           & 0.5433914    & 0.4542432    & 0.4542432    &  0.388687353 & 3.3          & 1.0593499   \\\\\n",
       "\t在使用这个系统前我不需要学习任何的新知识 & 10           & 0.3843880    & 0.3054460    & 0.3054460    &  0.211613029 & 3.8          & 1.0327956   \\\\\n",
       "\t这个系统在工作中非常有用 & 10           & 0.7474329    & 0.7553667    & 0.7553667    &  0.670477408 & 3.7          & 0.8232726   \\\\\n",
       "\t我发现这个系统很容易使用 & 10           & 0.6764121    & 0.7264826    & 0.7264826    &  0.508762322 & 3.4          & 1.3498971   \\\\\n",
       "\\end{tabular}\n"
      ],
      "text/markdown": [
       "\n",
       "| <!--/--> | n | raw.r | std.r | r.cor | r.drop | mean | sd | \n",
       "|---|---|---|---|---|---|---|---|---|---|---|---|\n",
       "| 我愿意频繁使用这个系统 | 10           | 0.7155814    | 0.6515151    | 0.6515151    |  0.602464076 | 3.0          | 1.0540926    | \n",
       "| 我认为这个系统是简单的 | 10           | 0.0627703    | 0.1258136    | 0.1258136    |  0.006289308 | 4.1          | 0.3162278    | \n",
       "| 我认为这个系统用起来很容易 | 10           | 0.1458650    | 0.1401959    | 0.1401959    |  0.000000000 | 3.0          | 0.8164966    | \n",
       "| 我认为我不需要技术人员的帮助就能使用这个系统 | 10           | 0.6966939    | 0.6397016    | 0.6397016    |  0.502327545 | 3.7          | 1.5670212    | \n",
       "| 我认为系统里的各项功能整合良好 | 10           | 0.5110008    | 0.5291813    | 0.5291813    |  0.409727777 | 2.6          | 0.6992059    | \n",
       "| 我认为系统的交互具有良好的一致性 | 10           | 0.0000000    | 0.1134311    | 0.1134311    | -0.118262479 | 3.0          | 0.6666667    | \n",
       "| 我想大多数人都能很快学会使用这个系统 | 10           | 0.4545899    | 0.5283814    | 0.5283814    |  0.368600865 | 4.1          | 0.5676462    | \n",
       "| 这个系统的交互方式很直观 | 10           | 0.7352305    | 0.7852384    | 0.7852384    |  0.671747972 | 4.3          | 0.6749486    | \n",
       "| 我对使用这个系统感到有信心 | 10           | 0.5433914    | 0.4542432    | 0.4542432    |  0.388687353 | 3.3          | 1.0593499    | \n",
       "| 在使用这个系统前我不需要学习任何的新知识 | 10           | 0.3843880    | 0.3054460    | 0.3054460    |  0.211613029 | 3.8          | 1.0327956    | \n",
       "| 这个系统在工作中非常有用 | 10           | 0.7474329    | 0.7553667    | 0.7553667    |  0.670477408 | 3.7          | 0.8232726    | \n",
       "| 我发现这个系统很容易使用 | 10           | 0.6764121    | 0.7264826    | 0.7264826    |  0.508762322 | 3.4          | 1.3498971    | \n",
       "\n",
       "\n"
      ],
      "text/plain": [
       "                                             n  raw.r     std.r     r.cor    \n",
       "我愿意频繁使用这个系统                       10 0.7155814 0.6515151 0.6515151\n",
       "我认为这个系统是简单的                       10 0.0627703 0.1258136 0.1258136\n",
       "我认为这个系统用起来很容易                   10 0.1458650 0.1401959 0.1401959\n",
       "我认为我不需要技术人员的帮助就能使用这个系统 10 0.6966939 0.6397016 0.6397016\n",
       "我认为系统里的各项功能整合良好               10 0.5110008 0.5291813 0.5291813\n",
       "我认为系统的交互具有良好的一致性             10 0.0000000 0.1134311 0.1134311\n",
       "我想大多数人都能很快学会使用这个系统         10 0.4545899 0.5283814 0.5283814\n",
       "这个系统的交互方式很直观                     10 0.7352305 0.7852384 0.7852384\n",
       "我对使用这个系统感到有信心                   10 0.5433914 0.4542432 0.4542432\n",
       "在使用这个系统前我不需要学习任何的新知识     10 0.3843880 0.3054460 0.3054460\n",
       "这个系统在工作中非常有用                     10 0.7474329 0.7553667 0.7553667\n",
       "我发现这个系统很容易使用                     10 0.6764121 0.7264826 0.7264826\n",
       "                                             r.drop       mean sd       \n",
       "我愿意频繁使用这个系统                        0.602464076 3.0  1.0540926\n",
       "我认为这个系统是简单的                        0.006289308 4.1  0.3162278\n",
       "我认为这个系统用起来很容易                    0.000000000 3.0  0.8164966\n",
       "我认为我不需要技术人员的帮助就能使用这个系统  0.502327545 3.7  1.5670212\n",
       "我认为系统里的各项功能整合良好                0.409727777 2.6  0.6992059\n",
       "我认为系统的交互具有良好的一致性             -0.118262479 3.0  0.6666667\n",
       "我想大多数人都能很快学会使用这个系统          0.368600865 4.1  0.5676462\n",
       "这个系统的交互方式很直观                      0.671747972 4.3  0.6749486\n",
       "我对使用这个系统感到有信心                    0.388687353 3.3  1.0593499\n",
       "在使用这个系统前我不需要学习任何的新知识      0.211613029 3.8  1.0327956\n",
       "这个系统在工作中非常有用                      0.670477408 3.7  0.8232726\n",
       "我发现这个系统很容易使用                      0.508762322 3.4  1.3498971"
      ]
     },
     "metadata": {},
     "output_type": "display_data"
    }
   ],
   "source": [
    "result$item.stats #result[3]"
   ]
  },
  {
   "cell_type": "code",
   "execution_count": 29,
   "metadata": {},
   "outputs": [
    {
     "data": {
      "text/html": [
       "<table>\n",
       "<thead><tr><th></th><th scope=col>1</th><th scope=col>2</th><th scope=col>3</th><th scope=col>4</th><th scope=col>5</th><th scope=col>miss</th></tr></thead>\n",
       "<tbody>\n",
       "\t<tr><th scope=row>我愿意频繁使用这个系统</th><td>0.0</td><td>0.4</td><td>0.3</td><td>0.2</td><td>0.1</td><td>0  </td></tr>\n",
       "\t<tr><th scope=row>我认为这个系统是简单的</th><td>0.0</td><td>0.0</td><td>0.0</td><td>0.9</td><td>0.1</td><td>0  </td></tr>\n",
       "\t<tr><th scope=row>我认为这个系统用起来很容易</th><td>0.0</td><td>0.3</td><td>0.4</td><td>0.3</td><td>0.0</td><td>0  </td></tr>\n",
       "\t<tr><th scope=row>我认为我不需要技术人员的帮助就能使用这个系统</th><td>0.2</td><td>0.0</td><td>0.1</td><td>0.3</td><td>0.4</td><td>0  </td></tr>\n",
       "\t<tr><th scope=row>我认为系统里的各项功能整合良好</th><td>0.0</td><td>0.5</td><td>0.4</td><td>0.1</td><td>0.0</td><td>0  </td></tr>\n",
       "\t<tr><th scope=row>我认为系统的交互具有良好的一致性</th><td>0.0</td><td>0.2</td><td>0.6</td><td>0.2</td><td>0.0</td><td>0  </td></tr>\n",
       "\t<tr><th scope=row>我想大多数人都能很快学会使用这个系统</th><td>0.0</td><td>0.0</td><td>0.1</td><td>0.7</td><td>0.2</td><td>0  </td></tr>\n",
       "\t<tr><th scope=row>这个系统的交互方式很直观</th><td>0.0</td><td>0.0</td><td>0.1</td><td>0.5</td><td>0.4</td><td>0  </td></tr>\n",
       "\t<tr><th scope=row>我对使用这个系统感到有信心</th><td>0.0</td><td>0.3</td><td>0.2</td><td>0.4</td><td>0.1</td><td>0  </td></tr>\n",
       "\t<tr><th scope=row>在使用这个系统前我不需要学习任何的新知识</th><td>0.0</td><td>0.1</td><td>0.3</td><td>0.3</td><td>0.3</td><td>0  </td></tr>\n",
       "\t<tr><th scope=row>这个系统在工作中非常有用</th><td>0.0</td><td>0.0</td><td>0.5</td><td>0.3</td><td>0.2</td><td>0  </td></tr>\n",
       "\t<tr><th scope=row>我发现这个系统很容易使用</th><td>0.1</td><td>0.2</td><td>0.1</td><td>0.4</td><td>0.2</td><td>0  </td></tr>\n",
       "</tbody>\n",
       "</table>\n"
      ],
      "text/latex": [
       "\\begin{tabular}{r|llllll}\n",
       "  & 1 & 2 & 3 & 4 & 5 & miss\\\\\n",
       "\\hline\n",
       "\t我愿意频繁使用这个系统 & 0.0 & 0.4 & 0.3 & 0.2 & 0.1 & 0  \\\\\n",
       "\t我认为这个系统是简单的 & 0.0 & 0.0 & 0.0 & 0.9 & 0.1 & 0  \\\\\n",
       "\t我认为这个系统用起来很容易 & 0.0 & 0.3 & 0.4 & 0.3 & 0.0 & 0  \\\\\n",
       "\t我认为我不需要技术人员的帮助就能使用这个系统 & 0.2 & 0.0 & 0.1 & 0.3 & 0.4 & 0  \\\\\n",
       "\t我认为系统里的各项功能整合良好 & 0.0 & 0.5 & 0.4 & 0.1 & 0.0 & 0  \\\\\n",
       "\t我认为系统的交互具有良好的一致性 & 0.0 & 0.2 & 0.6 & 0.2 & 0.0 & 0  \\\\\n",
       "\t我想大多数人都能很快学会使用这个系统 & 0.0 & 0.0 & 0.1 & 0.7 & 0.2 & 0  \\\\\n",
       "\t这个系统的交互方式很直观 & 0.0 & 0.0 & 0.1 & 0.5 & 0.4 & 0  \\\\\n",
       "\t我对使用这个系统感到有信心 & 0.0 & 0.3 & 0.2 & 0.4 & 0.1 & 0  \\\\\n",
       "\t在使用这个系统前我不需要学习任何的新知识 & 0.0 & 0.1 & 0.3 & 0.3 & 0.3 & 0  \\\\\n",
       "\t这个系统在工作中非常有用 & 0.0 & 0.0 & 0.5 & 0.3 & 0.2 & 0  \\\\\n",
       "\t我发现这个系统很容易使用 & 0.1 & 0.2 & 0.1 & 0.4 & 0.2 & 0  \\\\\n",
       "\\end{tabular}\n"
      ],
      "text/markdown": [
       "\n",
       "| <!--/--> | 1 | 2 | 3 | 4 | 5 | miss | \n",
       "|---|---|---|---|---|---|---|---|---|---|---|---|\n",
       "| 我愿意频繁使用这个系统 | 0.0 | 0.4 | 0.3 | 0.2 | 0.1 | 0   | \n",
       "| 我认为这个系统是简单的 | 0.0 | 0.0 | 0.0 | 0.9 | 0.1 | 0   | \n",
       "| 我认为这个系统用起来很容易 | 0.0 | 0.3 | 0.4 | 0.3 | 0.0 | 0   | \n",
       "| 我认为我不需要技术人员的帮助就能使用这个系统 | 0.2 | 0.0 | 0.1 | 0.3 | 0.4 | 0   | \n",
       "| 我认为系统里的各项功能整合良好 | 0.0 | 0.5 | 0.4 | 0.1 | 0.0 | 0   | \n",
       "| 我认为系统的交互具有良好的一致性 | 0.0 | 0.2 | 0.6 | 0.2 | 0.0 | 0   | \n",
       "| 我想大多数人都能很快学会使用这个系统 | 0.0 | 0.0 | 0.1 | 0.7 | 0.2 | 0   | \n",
       "| 这个系统的交互方式很直观 | 0.0 | 0.0 | 0.1 | 0.5 | 0.4 | 0   | \n",
       "| 我对使用这个系统感到有信心 | 0.0 | 0.3 | 0.2 | 0.4 | 0.1 | 0   | \n",
       "| 在使用这个系统前我不需要学习任何的新知识 | 0.0 | 0.1 | 0.3 | 0.3 | 0.3 | 0   | \n",
       "| 这个系统在工作中非常有用 | 0.0 | 0.0 | 0.5 | 0.3 | 0.2 | 0   | \n",
       "| 我发现这个系统很容易使用 | 0.1 | 0.2 | 0.1 | 0.4 | 0.2 | 0   | \n",
       "\n",
       "\n"
      ],
      "text/plain": [
       "                                             1   2   3   4   5   miss\n",
       "我愿意频繁使用这个系统                       0.0 0.4 0.3 0.2 0.1 0   \n",
       "我认为这个系统是简单的                       0.0 0.0 0.0 0.9 0.1 0   \n",
       "我认为这个系统用起来很容易                   0.0 0.3 0.4 0.3 0.0 0   \n",
       "我认为我不需要技术人员的帮助就能使用这个系统 0.2 0.0 0.1 0.3 0.4 0   \n",
       "我认为系统里的各项功能整合良好               0.0 0.5 0.4 0.1 0.0 0   \n",
       "我认为系统的交互具有良好的一致性             0.0 0.2 0.6 0.2 0.0 0   \n",
       "我想大多数人都能很快学会使用这个系统         0.0 0.0 0.1 0.7 0.2 0   \n",
       "这个系统的交互方式很直观                     0.0 0.0 0.1 0.5 0.4 0   \n",
       "我对使用这个系统感到有信心                   0.0 0.3 0.2 0.4 0.1 0   \n",
       "在使用这个系统前我不需要学习任何的新知识     0.0 0.1 0.3 0.3 0.3 0   \n",
       "这个系统在工作中非常有用                     0.0 0.0 0.5 0.3 0.2 0   \n",
       "我发现这个系统很容易使用                     0.1 0.2 0.1 0.4 0.2 0   "
      ]
     },
     "metadata": {},
     "output_type": "display_data"
    }
   ],
   "source": [
    "result$response.freq #result[4]"
   ]
  },
  {
   "cell_type": "markdown",
   "metadata": {
    "toc-hr-collapsed": true
   },
   "source": [
    "## 计算行为数据"
   ]
  },
  {
   "cell_type": "code",
   "execution_count": 18,
   "metadata": {},
   "outputs": [],
   "source": [
    "library(ggplot2)\n",
    "library(Rmisc)"
   ]
  },
  {
   "cell_type": "code",
   "execution_count": 19,
   "metadata": {},
   "outputs": [
    {
     "data": {
      "text/html": [
       "<table>\n",
       "<thead><tr><th scope=col>sub</th><th scope=col>trial</th><th scope=col>web</th><th scope=col>time</th><th scope=col>control</th><th scope=col>blink</th><th scope=col>fix</th><th scope=col>med_dur</th><th scope=col>med_sac</th></tr></thead>\n",
       "<tbody>\n",
       "\t<tr><td> 3  </td><td>c   </td><td>t   </td><td> 47 </td><td>18  </td><td>17  </td><td>134 </td><td>248 </td><td>2.16</td></tr>\n",
       "\t<tr><td> 2  </td><td>r   </td><td>j   </td><td> 64 </td><td>16  </td><td>10  </td><td>155 </td><td>264 </td><td>1.71</td></tr>\n",
       "\t<tr><td> 9  </td><td>c   </td><td>j   </td><td> 52 </td><td>12  </td><td>56  </td><td>347 </td><td>216 </td><td>2.13</td></tr>\n",
       "\t<tr><td>10  </td><td>r   </td><td>j   </td><td> 66 </td><td>10  </td><td>36  </td><td>272 </td><td>244 </td><td>1.26</td></tr>\n",
       "\t<tr><td> 8  </td><td>r   </td><td>t   </td><td> 72 </td><td> 9  </td><td>19  </td><td>116 </td><td>216 </td><td>2.46</td></tr>\n",
       "\t<tr><td> 1  </td><td>c   </td><td>t   </td><td>108 </td><td>27  </td><td>11  </td><td>190 </td><td>202 </td><td>3.34</td></tr>\n",
       "</tbody>\n",
       "</table>\n"
      ],
      "text/latex": [
       "\\begin{tabular}{r|lllllllll}\n",
       " sub & trial & web & time & control & blink & fix & med\\_dur & med\\_sac\\\\\n",
       "\\hline\n",
       "\t  3   & c    & t    &  47  & 18   & 17   & 134  & 248  & 2.16\\\\\n",
       "\t  2   & r    & j    &  64  & 16   & 10   & 155  & 264  & 1.71\\\\\n",
       "\t  9   & c    & j    &  52  & 12   & 56   & 347  & 216  & 2.13\\\\\n",
       "\t 10   & r    & j    &  66  & 10   & 36   & 272  & 244  & 1.26\\\\\n",
       "\t  8   & r    & t    &  72  &  9   & 19   & 116  & 216  & 2.46\\\\\n",
       "\t  1   & c    & t    & 108  & 27   & 11   & 190  & 202  & 3.34\\\\\n",
       "\\end{tabular}\n"
      ],
      "text/markdown": [
       "\n",
       "sub | trial | web | time | control | blink | fix | med_dur | med_sac | \n",
       "|---|---|---|---|---|---|\n",
       "|  3   | c    | t    |  47  | 18   | 17   | 134  | 248  | 2.16 | \n",
       "|  2   | r    | j    |  64  | 16   | 10   | 155  | 264  | 1.71 | \n",
       "|  9   | c    | j    |  52  | 12   | 56   | 347  | 216  | 2.13 | \n",
       "| 10   | r    | j    |  66  | 10   | 36   | 272  | 244  | 1.26 | \n",
       "|  8   | r    | t    |  72  |  9   | 19   | 116  | 216  | 2.46 | \n",
       "|  1   | c    | t    | 108  | 27   | 11   | 190  | 202  | 3.34 | \n",
       "\n",
       "\n"
      ],
      "text/plain": [
       "  sub trial web time control blink fix med_dur med_sac\n",
       "1  3  c     t    47  18      17    134 248     2.16   \n",
       "2  2  r     j    64  16      10    155 264     1.71   \n",
       "3  9  c     j    52  12      56    347 216     2.13   \n",
       "4 10  r     j    66  10      36    272 244     1.26   \n",
       "5  8  r     t    72   9      19    116 216     2.46   \n",
       "6  1  c     t   108  27      11    190 202     3.34   "
      ]
     },
     "metadata": {},
     "output_type": "display_data"
    }
   ],
   "source": [
    "stat = read.csv('behavior.csv')\n",
    "head(stat)"
   ]
  },
  {
   "cell_type": "markdown",
   "metadata": {},
   "source": [
    "### 时长"
   ]
  },
  {
   "cell_type": "code",
   "execution_count": 20,
   "metadata": {},
   "outputs": [
    {
     "data": {
      "text/html": [
       "<table>\n",
       "<thead><tr><th scope=col>Group.1</th><th scope=col>Group.2</th><th scope=col>x</th></tr></thead>\n",
       "<tbody>\n",
       "\t<tr><td>c   </td><td>j   </td><td>58.5</td></tr>\n",
       "\t<tr><td>r   </td><td>j   </td><td>92.1</td></tr>\n",
       "\t<tr><td>c   </td><td>t   </td><td>54.5</td></tr>\n",
       "\t<tr><td>r   </td><td>t   </td><td>76.6</td></tr>\n",
       "</tbody>\n",
       "</table>\n"
      ],
      "text/latex": [
       "\\begin{tabular}{r|lll}\n",
       " Group.1 & Group.2 & x\\\\\n",
       "\\hline\n",
       "\t c    & j    & 58.5\\\\\n",
       "\t r    & j    & 92.1\\\\\n",
       "\t c    & t    & 54.5\\\\\n",
       "\t r    & t    & 76.6\\\\\n",
       "\\end{tabular}\n"
      ],
      "text/markdown": [
       "\n",
       "Group.1 | Group.2 | x | \n",
       "|---|---|---|---|\n",
       "| c    | j    | 58.5 | \n",
       "| r    | j    | 92.1 | \n",
       "| c    | t    | 54.5 | \n",
       "| r    | t    | 76.6 | \n",
       "\n",
       "\n"
      ],
      "text/plain": [
       "  Group.1 Group.2 x   \n",
       "1 c       j       58.5\n",
       "2 r       j       92.1\n",
       "3 c       t       54.5\n",
       "4 r       t       76.6"
      ]
     },
     "metadata": {},
     "output_type": "display_data"
    },
    {
     "data": {
      "text/html": [
       "<table>\n",
       "<thead><tr><th scope=col>Group.1</th><th scope=col>Group.2</th><th scope=col>x</th></tr></thead>\n",
       "<tbody>\n",
       "\t<tr><td>c       </td><td>j       </td><td>23.32976</td></tr>\n",
       "\t<tr><td>r       </td><td>j       </td><td>45.60811</td></tr>\n",
       "\t<tr><td>c       </td><td>t       </td><td>20.95630</td></tr>\n",
       "\t<tr><td>r       </td><td>t       </td><td>36.16690</td></tr>\n",
       "</tbody>\n",
       "</table>\n"
      ],
      "text/latex": [
       "\\begin{tabular}{r|lll}\n",
       " Group.1 & Group.2 & x\\\\\n",
       "\\hline\n",
       "\t c        & j        & 23.32976\\\\\n",
       "\t r        & j        & 45.60811\\\\\n",
       "\t c        & t        & 20.95630\\\\\n",
       "\t r        & t        & 36.16690\\\\\n",
       "\\end{tabular}\n"
      ],
      "text/markdown": [
       "\n",
       "Group.1 | Group.2 | x | \n",
       "|---|---|---|---|\n",
       "| c        | j        | 23.32976 | \n",
       "| r        | j        | 45.60811 | \n",
       "| c        | t        | 20.95630 | \n",
       "| r        | t        | 36.16690 | \n",
       "\n",
       "\n"
      ],
      "text/plain": [
       "  Group.1 Group.2 x       \n",
       "1 c       j       23.32976\n",
       "2 r       j       45.60811\n",
       "3 c       t       20.95630\n",
       "4 r       t       36.16690"
      ]
     },
     "metadata": {},
     "output_type": "display_data"
    },
    {
     "data": {
      "text/plain": [
       "            Df Sum Sq Mean Sq F value Pr(>F)  \n",
       "trial        1   7756    7756   7.097 0.0115 *\n",
       "web          1    951     951   0.870 0.3572  \n",
       "trial:web    1    331     331   0.303 0.5857  \n",
       "Residuals   36  39344    1093                 \n",
       "---\n",
       "Signif. codes:  0 ‘***’ 0.001 ‘**’ 0.01 ‘*’ 0.05 ‘.’ 0.1 ‘ ’ 1"
      ]
     },
     "metadata": {},
     "output_type": "display_data"
    }
   ],
   "source": [
    "attach(stat)\n",
    "aggregate(time,by=list(trial,web),FUN=mean)\n",
    "aggregate(time,by=list(trial,web),FUN=sd)\n",
    "stat.time_aov = aov(time ~ trial * web)\n",
    "detach(stat)\n",
    "summary(stat.time_aov)"
   ]
  },
  {
   "cell_type": "code",
   "execution_count": 21,
   "metadata": {},
   "outputs": [
    {
     "data": {
      "text/html": [
       "<table>\n",
       "<thead><tr><th scope=col>trial</th><th scope=col>web</th><th scope=col>N</th><th scope=col>time</th><th scope=col>sd</th><th scope=col>se</th><th scope=col>ci</th></tr></thead>\n",
       "<tbody>\n",
       "\t<tr><td>c        </td><td>j        </td><td>10       </td><td>58.5     </td><td>23.32976 </td><td> 7.377518</td><td>16.68911 </td></tr>\n",
       "\t<tr><td>c        </td><td>t        </td><td>10       </td><td>54.5     </td><td>20.95630 </td><td> 6.626965</td><td>14.99124 </td></tr>\n",
       "\t<tr><td>r        </td><td>j        </td><td>10       </td><td>92.1     </td><td>45.60811 </td><td>14.422552</td><td>32.62608 </td></tr>\n",
       "\t<tr><td>r        </td><td>t        </td><td>10       </td><td>76.6     </td><td>36.16690 </td><td>11.436977</td><td>25.87224 </td></tr>\n",
       "</tbody>\n",
       "</table>\n"
      ],
      "text/latex": [
       "\\begin{tabular}{r|lllllll}\n",
       " trial & web & N & time & sd & se & ci\\\\\n",
       "\\hline\n",
       "\t c         & j         & 10        & 58.5      & 23.32976  &  7.377518 & 16.68911 \\\\\n",
       "\t c         & t         & 10        & 54.5      & 20.95630  &  6.626965 & 14.99124 \\\\\n",
       "\t r         & j         & 10        & 92.1      & 45.60811  & 14.422552 & 32.62608 \\\\\n",
       "\t r         & t         & 10        & 76.6      & 36.16690  & 11.436977 & 25.87224 \\\\\n",
       "\\end{tabular}\n"
      ],
      "text/markdown": [
       "\n",
       "trial | web | N | time | sd | se | ci | \n",
       "|---|---|---|---|\n",
       "| c         | j         | 10        | 58.5      | 23.32976  |  7.377518 | 16.68911  | \n",
       "| c         | t         | 10        | 54.5      | 20.95630  |  6.626965 | 14.99124  | \n",
       "| r         | j         | 10        | 92.1      | 45.60811  | 14.422552 | 32.62608  | \n",
       "| r         | t         | 10        | 76.6      | 36.16690  | 11.436977 | 25.87224  | \n",
       "\n",
       "\n"
      ],
      "text/plain": [
       "  trial web N  time sd       se        ci      \n",
       "1 c     j   10 58.5 23.32976  7.377518 16.68911\n",
       "2 c     t   10 54.5 20.95630  6.626965 14.99124\n",
       "3 r     j   10 92.1 45.60811 14.422552 32.62608\n",
       "4 r     t   10 76.6 36.16690 11.436977 25.87224"
      ]
     },
     "metadata": {},
     "output_type": "display_data"
    }
   ],
   "source": [
    "tastk_time = summarySE(stat, measurevar=\"time\", groupvars=c(\"trial\",\"web\"))\n",
    "tastk_time"
   ]
  },
  {
   "cell_type": "code",
   "execution_count": 22,
   "metadata": {},
   "outputs": [
    {
     "name": "stderr",
     "output_type": "stream",
     "text": [
      "geom_path: Each group consists of only one observation. Do you need to adjust\n",
      "the group aesthetic?\n"
     ]
    },
    {
     "data": {},
     "metadata": {},
     "output_type": "display_data"
    },
    {
     "data": {
      "image/png": "[encoded data removed]",
      "text/plain": [
       "plot without title"
      ]
     },
     "metadata": {},
     "output_type": "display_data",
     "source": "R display func"
    }
   ],
   "source": [
    "pd <- position_dodge(0.1)\n",
    "ggplot(tastk_time, aes(x=trial, y=time, colour=web)) + \n",
    "    geom_errorbar(aes(ymin=time-ci, ymax=time+ci), width=.1, position=pd) +\n",
    "    geom_line(position=pd) +\n",
    "    geom_point(position=pd)"
   ]
  },
  {
   "cell_type": "markdown",
   "metadata": {},
   "source": [
    "### 操作"
   ]
  },
  {
   "cell_type": "code",
   "execution_count": 15,
   "metadata": {},
   "outputs": [
    {
     "data": {
      "text/html": [
       "<table>\n",
       "<thead><tr><th scope=col>Group.1</th><th scope=col>Group.2</th><th scope=col>x</th></tr></thead>\n",
       "<tbody>\n",
       "\t<tr><td>c   </td><td>j   </td><td>16.1</td></tr>\n",
       "\t<tr><td>r   </td><td>j   </td><td>15.7</td></tr>\n",
       "\t<tr><td>c   </td><td>t   </td><td>15.2</td></tr>\n",
       "\t<tr><td>r   </td><td>t   </td><td>13.0</td></tr>\n",
       "</tbody>\n",
       "</table>\n"
      ],
      "text/latex": [
       "\\begin{tabular}{r|lll}\n",
       " Group.1 & Group.2 & x\\\\\n",
       "\\hline\n",
       "\t c    & j    & 16.1\\\\\n",
       "\t r    & j    & 15.7\\\\\n",
       "\t c    & t    & 15.2\\\\\n",
       "\t r    & t    & 13.0\\\\\n",
       "\\end{tabular}\n"
      ],
      "text/markdown": [
       "\n",
       "Group.1 | Group.2 | x | \n",
       "|---|---|---|---|\n",
       "| c    | j    | 16.1 | \n",
       "| r    | j    | 15.7 | \n",
       "| c    | t    | 15.2 | \n",
       "| r    | t    | 13.0 | \n",
       "\n",
       "\n"
      ],
      "text/plain": [
       "  Group.1 Group.2 x   \n",
       "1 c       j       16.1\n",
       "2 r       j       15.7\n",
       "3 c       t       15.2\n",
       "4 r       t       13.0"
      ]
     },
     "metadata": {},
     "output_type": "display_data"
    },
    {
     "data": {
      "text/html": [
       "<table>\n",
       "<thead><tr><th scope=col>Group.1</th><th scope=col>Group.2</th><th scope=col>x</th></tr></thead>\n",
       "<tbody>\n",
       "\t<tr><td>c       </td><td>j       </td><td>5.279941</td></tr>\n",
       "\t<tr><td>r       </td><td>j       </td><td>8.590046</td></tr>\n",
       "\t<tr><td>c       </td><td>t       </td><td>5.633235</td></tr>\n",
       "\t<tr><td>r       </td><td>t       </td><td>4.594683</td></tr>\n",
       "</tbody>\n",
       "</table>\n"
      ],
      "text/latex": [
       "\\begin{tabular}{r|lll}\n",
       " Group.1 & Group.2 & x\\\\\n",
       "\\hline\n",
       "\t c        & j        & 5.279941\\\\\n",
       "\t r        & j        & 8.590046\\\\\n",
       "\t c        & t        & 5.633235\\\\\n",
       "\t r        & t        & 4.594683\\\\\n",
       "\\end{tabular}\n"
      ],
      "text/markdown": [
       "\n",
       "Group.1 | Group.2 | x | \n",
       "|---|---|---|---|\n",
       "| c        | j        | 5.279941 | \n",
       "| r        | j        | 8.590046 | \n",
       "| c        | t        | 5.633235 | \n",
       "| r        | t        | 4.594683 | \n",
       "\n",
       "\n"
      ],
      "text/plain": [
       "  Group.1 Group.2 x       \n",
       "1 c       j       5.279941\n",
       "2 r       j       8.590046\n",
       "3 c       t       5.633235\n",
       "4 r       t       4.594683"
      ]
     },
     "metadata": {},
     "output_type": "display_data"
    },
    {
     "data": {
      "text/plain": [
       "            Df Sum Sq Mean Sq F value Pr(>F)\n",
       "trial        1   16.9   16.90   0.438  0.513\n",
       "web          1   32.4   32.40   0.839  0.366\n",
       "trial:web    1    8.1    8.10   0.210  0.650\n",
       "Residuals   36 1390.6   38.63               "
      ]
     },
     "metadata": {},
     "output_type": "display_data"
    }
   ],
   "source": [
    "attach(stat)\n",
    "aggregate(control,by=list(trial,web),FUN=mean)\n",
    "aggregate(control,by=list(trial,web),FUN=sd)\n",
    "stat.control_aov = aov(control ~ trial * web)\n",
    "detach(stat)\n",
    "summary(stat.control_aov)"
   ]
  },
  {
   "cell_type": "code",
   "execution_count": 16,
   "metadata": {},
   "outputs": [
    {
     "data": {
      "text/html": [
       "<table>\n",
       "<thead><tr><th scope=col>trial</th><th scope=col>web</th><th scope=col>N</th><th scope=col>control</th><th scope=col>sd</th><th scope=col>se</th><th scope=col>ci</th></tr></thead>\n",
       "<tbody>\n",
       "\t<tr><td>c       </td><td>j       </td><td>10      </td><td>16.1    </td><td>5.279941</td><td>1.669664</td><td>3.777042</td></tr>\n",
       "\t<tr><td>c       </td><td>t       </td><td>10      </td><td>15.2    </td><td>5.633235</td><td>1.781385</td><td>4.029773</td></tr>\n",
       "\t<tr><td>r       </td><td>j       </td><td>10      </td><td>15.7    </td><td>8.590046</td><td>2.716411</td><td>6.144949</td></tr>\n",
       "\t<tr><td>r       </td><td>t       </td><td>10      </td><td>13.0    </td><td>4.594683</td><td>1.452966</td><td>3.286838</td></tr>\n",
       "</tbody>\n",
       "</table>\n"
      ],
      "text/latex": [
       "\\begin{tabular}{r|lllllll}\n",
       " trial & web & N & control & sd & se & ci\\\\\n",
       "\\hline\n",
       "\t c        & j        & 10       & 16.1     & 5.279941 & 1.669664 & 3.777042\\\\\n",
       "\t c        & t        & 10       & 15.2     & 5.633235 & 1.781385 & 4.029773\\\\\n",
       "\t r        & j        & 10       & 15.7     & 8.590046 & 2.716411 & 6.144949\\\\\n",
       "\t r        & t        & 10       & 13.0     & 4.594683 & 1.452966 & 3.286838\\\\\n",
       "\\end{tabular}\n"
      ],
      "text/markdown": [
       "\n",
       "trial | web | N | control | sd | se | ci | \n",
       "|---|---|---|---|\n",
       "| c        | j        | 10       | 16.1     | 5.279941 | 1.669664 | 3.777042 | \n",
       "| c        | t        | 10       | 15.2     | 5.633235 | 1.781385 | 4.029773 | \n",
       "| r        | j        | 10       | 15.7     | 8.590046 | 2.716411 | 6.144949 | \n",
       "| r        | t        | 10       | 13.0     | 4.594683 | 1.452966 | 3.286838 | \n",
       "\n",
       "\n"
      ],
      "text/plain": [
       "  trial web N  control sd       se       ci      \n",
       "1 c     j   10 16.1    5.279941 1.669664 3.777042\n",
       "2 c     t   10 15.2    5.633235 1.781385 4.029773\n",
       "3 r     j   10 15.7    8.590046 2.716411 6.144949\n",
       "4 r     t   10 13.0    4.594683 1.452966 3.286838"
      ]
     },
     "metadata": {},
     "output_type": "display_data"
    }
   ],
   "source": [
    "tastk_control = summarySE(stat, measurevar=\"control\", groupvars=c(\"trial\",\"web\"))\n",
    "tastk_control"
   ]
  },
  {
   "cell_type": "code",
   "execution_count": 33,
   "metadata": {},
   "outputs": [
    {
     "name": "stderr",
     "output_type": "stream",
     "text": [
      "geom_path: Each group consists of only one observation. Do you need to adjust\n",
      "the group aesthetic?\n"
     ]
    },
    {
     "data": {},
     "metadata": {},
     "output_type": "display_data"
    },
    {
     "data": {
      "image/png": "[encoded data removed]",
      "text/plain": [
       "plot without title"
      ]
     },
     "metadata": {},
     "output_type": "display_data",
     "source": "R display func"
    }
   ],
   "source": [
    "pd <- position_dodge(0.1)\n",
    "ggplot(tastk_control, aes(x=trial, y=control, colour=web)) + \n",
    "    geom_errorbar(aes(ymin=control-ci, ymax=control+ci), width=.1, position=pd) +\n",
    "    geom_line(position=pd) +\n",
    "    geom_point(position=pd)"
   ]
  },
  {
   "cell_type": "markdown",
   "metadata": {
    "toc-hr-collapsed": false
   },
   "source": [
    "## 计算眼动数据"
   ]
  },
  {
   "cell_type": "markdown",
   "metadata": {},
   "source": [
    "### 注视次数"
   ]
  },
  {
   "cell_type": "code",
   "execution_count": 7,
   "metadata": {},
   "outputs": [
    {
     "data": {
      "text/html": [
       "<table>\n",
       "<thead><tr><th scope=col>Group.1</th><th scope=col>Group.2</th><th scope=col>x</th></tr></thead>\n",
       "<tbody>\n",
       "\t<tr><td>c    </td><td>j    </td><td>195.7</td></tr>\n",
       "\t<tr><td>r    </td><td>j    </td><td>213.0</td></tr>\n",
       "\t<tr><td>c    </td><td>t    </td><td>175.7</td></tr>\n",
       "\t<tr><td>r    </td><td>t    </td><td>189.0</td></tr>\n",
       "</tbody>\n",
       "</table>\n"
      ],
      "text/latex": [
       "\\begin{tabular}{r|lll}\n",
       " Group.1 & Group.2 & x\\\\\n",
       "\\hline\n",
       "\t c     & j     & 195.7\\\\\n",
       "\t r     & j     & 213.0\\\\\n",
       "\t c     & t     & 175.7\\\\\n",
       "\t r     & t     & 189.0\\\\\n",
       "\\end{tabular}\n"
      ],
      "text/markdown": [
       "\n",
       "Group.1 | Group.2 | x | \n",
       "|---|---|---|---|\n",
       "| c     | j     | 195.7 | \n",
       "| r     | j     | 213.0 | \n",
       "| c     | t     | 175.7 | \n",
       "| r     | t     | 189.0 | \n",
       "\n",
       "\n"
      ],
      "text/plain": [
       "  Group.1 Group.2 x    \n",
       "1 c       j       195.7\n",
       "2 r       j       213.0\n",
       "3 c       t       175.7\n",
       "4 r       t       189.0"
      ]
     },
     "metadata": {},
     "output_type": "display_data"
    },
    {
     "data": {
      "text/html": [
       "<table>\n",
       "<thead><tr><th scope=col>Group.1</th><th scope=col>Group.2</th><th scope=col>x</th></tr></thead>\n",
       "<tbody>\n",
       "\t<tr><td>c        </td><td>j        </td><td> 58.77084</td></tr>\n",
       "\t<tr><td>r        </td><td>j        </td><td>115.92047</td></tr>\n",
       "\t<tr><td>c        </td><td>t        </td><td> 73.27733</td></tr>\n",
       "\t<tr><td>r        </td><td>t        </td><td>103.70578</td></tr>\n",
       "</tbody>\n",
       "</table>\n"
      ],
      "text/latex": [
       "\\begin{tabular}{r|lll}\n",
       " Group.1 & Group.2 & x\\\\\n",
       "\\hline\n",
       "\t c         & j         &  58.77084\\\\\n",
       "\t r         & j         & 115.92047\\\\\n",
       "\t c         & t         &  73.27733\\\\\n",
       "\t r         & t         & 103.70578\\\\\n",
       "\\end{tabular}\n"
      ],
      "text/markdown": [
       "\n",
       "Group.1 | Group.2 | x | \n",
       "|---|---|---|---|\n",
       "| c         | j         |  58.77084 | \n",
       "| r         | j         | 115.92047 | \n",
       "| c         | t         |  73.27733 | \n",
       "| r         | t         | 103.70578 | \n",
       "\n",
       "\n"
      ],
      "text/plain": [
       "  Group.1 Group.2 x        \n",
       "1 c       j        58.77084\n",
       "2 r       j       115.92047\n",
       "3 c       t        73.27733\n",
       "4 r       t       103.70578"
      ]
     },
     "metadata": {},
     "output_type": "display_data"
    },
    {
     "data": {
      "text/plain": [
       "            Df Sum Sq Mean Sq F value Pr(>F)\n",
       "trial        1   2341    2341   0.284  0.598\n",
       "web          1   4840    4840   0.586  0.449\n",
       "trial:web    1     40      40   0.005  0.945\n",
       "Residuals   36 297144    8254               "
      ]
     },
     "metadata": {},
     "output_type": "display_data"
    }
   ],
   "source": [
    "attach(stat)\n",
    "aggregate(fix,by=list(trial,web),FUN=mean)\n",
    "aggregate(fix,,by=list(trial,web),FUN=sd)\n",
    "stat.fix_aov = aov(fix ~ trial * web)\n",
    "detach(stat)\n",
    "summary(stat.fix_aov)"
   ]
  },
  {
   "cell_type": "code",
   "execution_count": 10,
   "metadata": {},
   "outputs": [
    {
     "data": {
      "text/html": [
       "<table>\n",
       "<thead><tr><th scope=col>trial</th><th scope=col>web</th><th scope=col>N</th><th scope=col>fix</th><th scope=col>sd</th><th scope=col>se</th><th scope=col>ci</th></tr></thead>\n",
       "<tbody>\n",
       "\t<tr><td>c        </td><td>j        </td><td>10       </td><td>195.7    </td><td> 58.77084</td><td>18.58497 </td><td>42.04212 </td></tr>\n",
       "\t<tr><td>c        </td><td>t        </td><td>10       </td><td>175.7    </td><td> 73.27733</td><td>23.17233 </td><td>52.41944 </td></tr>\n",
       "\t<tr><td>r        </td><td>j        </td><td>10       </td><td>213.0    </td><td>115.92047</td><td>36.65727 </td><td>82.92451 </td></tr>\n",
       "\t<tr><td>r        </td><td>t        </td><td>10       </td><td>189.0    </td><td>103.70578</td><td>32.79465 </td><td>74.18665 </td></tr>\n",
       "</tbody>\n",
       "</table>\n"
      ],
      "text/latex": [
       "\\begin{tabular}{r|lllllll}\n",
       " trial & web & N & fix & sd & se & ci\\\\\n",
       "\\hline\n",
       "\t c         & j         & 10        & 195.7     &  58.77084 & 18.58497  & 42.04212 \\\\\n",
       "\t c         & t         & 10        & 175.7     &  73.27733 & 23.17233  & 52.41944 \\\\\n",
       "\t r         & j         & 10        & 213.0     & 115.92047 & 36.65727  & 82.92451 \\\\\n",
       "\t r         & t         & 10        & 189.0     & 103.70578 & 32.79465  & 74.18665 \\\\\n",
       "\\end{tabular}\n"
      ],
      "text/markdown": [
       "\n",
       "trial | web | N | fix | sd | se | ci | \n",
       "|---|---|---|---|\n",
       "| c         | j         | 10        | 195.7     |  58.77084 | 18.58497  | 42.04212  | \n",
       "| c         | t         | 10        | 175.7     |  73.27733 | 23.17233  | 52.41944  | \n",
       "| r         | j         | 10        | 213.0     | 115.92047 | 36.65727  | 82.92451  | \n",
       "| r         | t         | 10        | 189.0     | 103.70578 | 32.79465  | 74.18665  | \n",
       "\n",
       "\n"
      ],
      "text/plain": [
       "  trial web N  fix   sd        se       ci      \n",
       "1 c     j   10 195.7  58.77084 18.58497 42.04212\n",
       "2 c     t   10 175.7  73.27733 23.17233 52.41944\n",
       "3 r     j   10 213.0 115.92047 36.65727 82.92451\n",
       "4 r     t   10 189.0 103.70578 32.79465 74.18665"
      ]
     },
     "metadata": {},
     "output_type": "display_data"
    }
   ],
   "source": [
    "task_fix = summarySE(stat, measurevar=\"fix\", groupvars=c(\"trial\",\"web\"))\n",
    "task_fix"
   ]
  },
  {
   "cell_type": "code",
   "execution_count": 35,
   "metadata": {},
   "outputs": [
    {
     "name": "stderr",
     "output_type": "stream",
     "text": [
      "geom_path: Each group consists of only one observation. Do you need to adjust\n",
      "the group aesthetic?\n"
     ]
    },
    {
     "data": {},
     "metadata": {},
     "output_type": "display_data"
    },
    {
     "data": {
      "image/png": "[encoded data removed]",
      "text/plain": [
       "plot without title"
      ]
     },
     "metadata": {},
     "output_type": "display_data",
     "source": "R display func"
    }
   ],
   "source": [
    "pd <- position_dodge(0.1)\n",
    "ggplot(task_fix, aes(x=trial, y=fix, colour=web)) + \n",
    "    geom_errorbar(aes(ymin=fix-ci, ymax=fix+ci), width=.1, position=pd) +\n",
    "    geom_line(position=pd) +\n",
    "    geom_point(position=pd)"
   ]
  },
  {
   "cell_type": "markdown",
   "metadata": {},
   "source": [
    "### 眨眼"
   ]
  },
  {
   "cell_type": "code",
   "execution_count": 2,
   "metadata": {},
   "outputs": [
    {
     "data": {
      "text/html": [
       "<table>\n",
       "<thead><tr><th scope=col>Group.1</th><th scope=col>Group.2</th><th scope=col>x</th></tr></thead>\n",
       "<tbody>\n",
       "\t<tr><td>c   </td><td>j   </td><td>17.2</td></tr>\n",
       "\t<tr><td>r   </td><td>j   </td><td>36.3</td></tr>\n",
       "\t<tr><td>c   </td><td>t   </td><td>14.0</td></tr>\n",
       "\t<tr><td>r   </td><td>t   </td><td>33.2</td></tr>\n",
       "</tbody>\n",
       "</table>\n"
      ],
      "text/latex": [
       "\\begin{tabular}{r|lll}\n",
       " Group.1 & Group.2 & x\\\\\n",
       "\\hline\n",
       "\t c    & j    & 17.2\\\\\n",
       "\t r    & j    & 36.3\\\\\n",
       "\t c    & t    & 14.0\\\\\n",
       "\t r    & t    & 33.2\\\\\n",
       "\\end{tabular}\n"
      ],
      "text/markdown": [
       "\n",
       "Group.1 | Group.2 | x | \n",
       "|---|---|---|---|\n",
       "| c    | j    | 17.2 | \n",
       "| r    | j    | 36.3 | \n",
       "| c    | t    | 14.0 | \n",
       "| r    | t    | 33.2 | \n",
       "\n",
       "\n"
      ],
      "text/plain": [
       "  Group.1 Group.2 x   \n",
       "1 c       j       17.2\n",
       "2 r       j       36.3\n",
       "3 c       t       14.0\n",
       "4 r       t       33.2"
      ]
     },
     "metadata": {},
     "output_type": "display_data"
    },
    {
     "data": {
      "text/html": [
       "<table>\n",
       "<thead><tr><th scope=col>Group.1</th><th scope=col>Group.2</th><th scope=col>x</th></tr></thead>\n",
       "<tbody>\n",
       "\t<tr><td>c        </td><td>j        </td><td>14.558693</td></tr>\n",
       "\t<tr><td>r        </td><td>j        </td><td>24.032617</td></tr>\n",
       "\t<tr><td>c        </td><td>t        </td><td> 9.977753</td></tr>\n",
       "\t<tr><td>r        </td><td>t        </td><td>17.787636</td></tr>\n",
       "</tbody>\n",
       "</table>\n"
      ],
      "text/latex": [
       "\\begin{tabular}{r|lll}\n",
       " Group.1 & Group.2 & x\\\\\n",
       "\\hline\n",
       "\t c         & j         & 14.558693\\\\\n",
       "\t r         & j         & 24.032617\\\\\n",
       "\t c         & t         &  9.977753\\\\\n",
       "\t r         & t         & 17.787636\\\\\n",
       "\\end{tabular}\n"
      ],
      "text/markdown": [
       "\n",
       "Group.1 | Group.2 | x | \n",
       "|---|---|---|---|\n",
       "| c         | j         | 14.558693 | \n",
       "| r         | j         | 24.032617 | \n",
       "| c         | t         |  9.977753 | \n",
       "| r         | t         | 17.787636 | \n",
       "\n",
       "\n"
      ],
      "text/plain": [
       "  Group.1 Group.2 x        \n",
       "1 c       j       14.558693\n",
       "2 r       j       24.032617\n",
       "3 c       t        9.977753\n",
       "4 r       t       17.787636"
      ]
     },
     "metadata": {},
     "output_type": "display_data"
    },
    {
     "data": {
      "text/plain": [
       "            Df Sum Sq Mean Sq F value Pr(>F)   \n",
       "trial        1   3667    3667  12.169 0.0013 **\n",
       "web          1     99      99   0.329 0.5697   \n",
       "trial:web    1      0       0   0.000 0.9928   \n",
       "Residuals   36  10849     301                  \n",
       "---\n",
       "Signif. codes:  0 ‘***’ 0.001 ‘**’ 0.01 ‘*’ 0.05 ‘.’ 0.1 ‘ ’ 1"
      ]
     },
     "metadata": {},
     "output_type": "display_data"
    }
   ],
   "source": [
    "attach(stat)\n",
    "aggregate(blink,by=list(trial,web),FUN=mean)\n",
    "aggregate(blink,by=list(trial,web),FUN=sd)\n",
    "stat.blink_aov = aov(blink ~ trial * web)\n",
    "detach(stat)\n",
    "summary(stat.blink_aov)"
   ]
  },
  {
   "cell_type": "code",
   "execution_count": 5,
   "metadata": {},
   "outputs": [
    {
     "data": {
      "text/html": [
       "<table>\n",
       "<thead><tr><th scope=col>trial</th><th scope=col>web</th><th scope=col>N</th><th scope=col>blink</th><th scope=col>sd</th><th scope=col>se</th><th scope=col>ci</th></tr></thead>\n",
       "<tbody>\n",
       "\t<tr><td>c        </td><td>j        </td><td>10       </td><td>17.2     </td><td>14.558693</td><td>4.603863 </td><td>10.414662</td></tr>\n",
       "\t<tr><td>c        </td><td>t        </td><td>10       </td><td>14.0     </td><td> 9.977753</td><td>3.155243 </td><td> 7.137655</td></tr>\n",
       "\t<tr><td>r        </td><td>j        </td><td>10       </td><td>36.3     </td><td>24.032617</td><td>7.599781 </td><td>17.191898</td></tr>\n",
       "\t<tr><td>r        </td><td>t        </td><td>10       </td><td>33.2     </td><td>17.787636</td><td>5.624944 </td><td>12.724508</td></tr>\n",
       "</tbody>\n",
       "</table>\n"
      ],
      "text/latex": [
       "\\begin{tabular}{r|lllllll}\n",
       " trial & web & N & blink & sd & se & ci\\\\\n",
       "\\hline\n",
       "\t c         & j         & 10        & 17.2      & 14.558693 & 4.603863  & 10.414662\\\\\n",
       "\t c         & t         & 10        & 14.0      &  9.977753 & 3.155243  &  7.137655\\\\\n",
       "\t r         & j         & 10        & 36.3      & 24.032617 & 7.599781  & 17.191898\\\\\n",
       "\t r         & t         & 10        & 33.2      & 17.787636 & 5.624944  & 12.724508\\\\\n",
       "\\end{tabular}\n"
      ],
      "text/markdown": [
       "\n",
       "trial | web | N | blink | sd | se | ci | \n",
       "|---|---|---|---|\n",
       "| c         | j         | 10        | 17.2      | 14.558693 | 4.603863  | 10.414662 | \n",
       "| c         | t         | 10        | 14.0      |  9.977753 | 3.155243  |  7.137655 | \n",
       "| r         | j         | 10        | 36.3      | 24.032617 | 7.599781  | 17.191898 | \n",
       "| r         | t         | 10        | 33.2      | 17.787636 | 5.624944  | 12.724508 | \n",
       "\n",
       "\n"
      ],
      "text/plain": [
       "  trial web N  blink sd        se       ci       \n",
       "1 c     j   10 17.2  14.558693 4.603863 10.414662\n",
       "2 c     t   10 14.0   9.977753 3.155243  7.137655\n",
       "3 r     j   10 36.3  24.032617 7.599781 17.191898\n",
       "4 r     t   10 33.2  17.787636 5.624944 12.724508"
      ]
     },
     "metadata": {},
     "output_type": "display_data"
    }
   ],
   "source": [
    "task_blink = summarySE(stat, measurevar=\"blink\", groupvars=c(\"trial\",\"web\"))\n",
    "task_blink"
   ]
  },
  {
   "cell_type": "code",
   "execution_count": 34,
   "metadata": {},
   "outputs": [
    {
     "name": "stderr",
     "output_type": "stream",
     "text": [
      "geom_path: Each group consists of only one observation. Do you need to adjust\n",
      "the group aesthetic?\n"
     ]
    },
    {
     "data": {},
     "metadata": {},
     "output_type": "display_data"
    },
    {
     "data": {
      "image/png": "[encoded data removed]",
      "text/plain": [
       "plot without title"
      ]
     },
     "metadata": {},
     "output_type": "display_data",
     "source": "R display func"
    }
   ],
   "source": [
    "pd <- position_dodge(0.1)\n",
    "ggplot(task_blink, aes(x=trial, y=blink, colour=web)) + \n",
    "    geom_errorbar(aes(ymin=blink-ci, ymax=blink+ci), width=.1, position=pd) +\n",
    "    geom_line(position=pd) +\n",
    "    geom_point(position=pd)"
   ]
  },
  {
   "cell_type": "markdown",
   "metadata": {},
   "source": [
    "### 注视时长"
   ]
  },
  {
   "cell_type": "code",
   "execution_count": 23,
   "metadata": {},
   "outputs": [
    {
     "data": {
      "text/html": [
       "<table>\n",
       "<thead><tr><th scope=col>Group.1</th><th scope=col>Group.2</th><th scope=col>x</th></tr></thead>\n",
       "<tbody>\n",
       "\t<tr><td>c    </td><td>j    </td><td>222.4</td></tr>\n",
       "\t<tr><td>r    </td><td>j    </td><td>227.4</td></tr>\n",
       "\t<tr><td>c    </td><td>t    </td><td>228.4</td></tr>\n",
       "\t<tr><td>r    </td><td>t    </td><td>238.4</td></tr>\n",
       "</tbody>\n",
       "</table>\n"
      ],
      "text/latex": [
       "\\begin{tabular}{r|lll}\n",
       " Group.1 & Group.2 & x\\\\\n",
       "\\hline\n",
       "\t c     & j     & 222.4\\\\\n",
       "\t r     & j     & 227.4\\\\\n",
       "\t c     & t     & 228.4\\\\\n",
       "\t r     & t     & 238.4\\\\\n",
       "\\end{tabular}\n"
      ],
      "text/markdown": [
       "\n",
       "Group.1 | Group.2 | x | \n",
       "|---|---|---|---|\n",
       "| c     | j     | 222.4 | \n",
       "| r     | j     | 227.4 | \n",
       "| c     | t     | 228.4 | \n",
       "| r     | t     | 238.4 | \n",
       "\n",
       "\n"
      ],
      "text/plain": [
       "  Group.1 Group.2 x    \n",
       "1 c       j       222.4\n",
       "2 r       j       227.4\n",
       "3 c       t       228.4\n",
       "4 r       t       238.4"
      ]
     },
     "metadata": {},
     "output_type": "display_data"
    },
    {
     "data": {
      "text/html": [
       "<table>\n",
       "<thead><tr><th scope=col>Group.1</th><th scope=col>Group.2</th><th scope=col>x</th></tr></thead>\n",
       "<tbody>\n",
       "\t<tr><td>c       </td><td>j       </td><td>20.08427</td></tr>\n",
       "\t<tr><td>r       </td><td>j       </td><td>28.56649</td></tr>\n",
       "\t<tr><td>c       </td><td>t       </td><td>32.98215</td></tr>\n",
       "\t<tr><td>r       </td><td>t       </td><td>39.18957</td></tr>\n",
       "</tbody>\n",
       "</table>\n"
      ],
      "text/latex": [
       "\\begin{tabular}{r|lll}\n",
       " Group.1 & Group.2 & x\\\\\n",
       "\\hline\n",
       "\t c        & j        & 20.08427\\\\\n",
       "\t r        & j        & 28.56649\\\\\n",
       "\t c        & t        & 32.98215\\\\\n",
       "\t r        & t        & 39.18957\\\\\n",
       "\\end{tabular}\n"
      ],
      "text/markdown": [
       "\n",
       "Group.1 | Group.2 | x | \n",
       "|---|---|---|---|\n",
       "| c        | j        | 20.08427 | \n",
       "| r        | j        | 28.56649 | \n",
       "| c        | t        | 32.98215 | \n",
       "| r        | t        | 39.18957 | \n",
       "\n",
       "\n"
      ],
      "text/plain": [
       "  Group.1 Group.2 x       \n",
       "1 c       j       20.08427\n",
       "2 r       j       28.56649\n",
       "3 c       t       32.98215\n",
       "4 r       t       39.18957"
      ]
     },
     "metadata": {},
     "output_type": "display_data"
    },
    {
     "data": {
      "text/plain": [
       "            Df Sum Sq Mean Sq F value Pr(>F)\n",
       "trial        1    562   562.5   0.585  0.449\n",
       "web          1    723   722.5   0.752  0.392\n",
       "trial:web    1     62    62.5   0.065  0.800\n",
       "Residuals   36  34588   960.8               "
      ]
     },
     "metadata": {},
     "output_type": "display_data"
    }
   ],
   "source": [
    "attach(stat)\n",
    "aggregate(med_dur,by=list(trial,web),FUN=mean)\n",
    "aggregate(med_dur,by=list(trial,web),FUN=sd)\n",
    "stat.med_dur_aov = aov(med_dur ~ trial * web)\n",
    "detach(stat)\n",
    "summary(stat.med_dur_aov)"
   ]
  },
  {
   "cell_type": "code",
   "execution_count": 24,
   "metadata": {},
   "outputs": [
    {
     "data": {
      "text/html": [
       "<table>\n",
       "<thead><tr><th scope=col>trial</th><th scope=col>web</th><th scope=col>N</th><th scope=col>med_dur</th><th scope=col>sd</th><th scope=col>se</th><th scope=col>ci</th></tr></thead>\n",
       "<tbody>\n",
       "\t<tr><td>c        </td><td>j        </td><td>10       </td><td>222.4    </td><td>20.08427 </td><td> 6.351203</td><td>14.36742 </td></tr>\n",
       "\t<tr><td>c        </td><td>t        </td><td>10       </td><td>228.4    </td><td>32.98215 </td><td>10.429872</td><td>23.59401 </td></tr>\n",
       "\t<tr><td>r        </td><td>j        </td><td>10       </td><td>227.4    </td><td>28.56649 </td><td> 9.033518</td><td>20.43524 </td></tr>\n",
       "\t<tr><td>r        </td><td>t        </td><td>10       </td><td>238.4    </td><td>39.18957 </td><td>12.392829</td><td>28.03453 </td></tr>\n",
       "</tbody>\n",
       "</table>\n"
      ],
      "text/latex": [
       "\\begin{tabular}{r|lllllll}\n",
       " trial & web & N & med\\_dur & sd & se & ci\\\\\n",
       "\\hline\n",
       "\t c         & j         & 10        & 222.4     & 20.08427  &  6.351203 & 14.36742 \\\\\n",
       "\t c         & t         & 10        & 228.4     & 32.98215  & 10.429872 & 23.59401 \\\\\n",
       "\t r         & j         & 10        & 227.4     & 28.56649  &  9.033518 & 20.43524 \\\\\n",
       "\t r         & t         & 10        & 238.4     & 39.18957  & 12.392829 & 28.03453 \\\\\n",
       "\\end{tabular}\n"
      ],
      "text/markdown": [
       "\n",
       "trial | web | N | med_dur | sd | se | ci | \n",
       "|---|---|---|---|\n",
       "| c         | j         | 10        | 222.4     | 20.08427  |  6.351203 | 14.36742  | \n",
       "| c         | t         | 10        | 228.4     | 32.98215  | 10.429872 | 23.59401  | \n",
       "| r         | j         | 10        | 227.4     | 28.56649  |  9.033518 | 20.43524  | \n",
       "| r         | t         | 10        | 238.4     | 39.18957  | 12.392829 | 28.03453  | \n",
       "\n",
       "\n"
      ],
      "text/plain": [
       "  trial web N  med_dur sd       se        ci      \n",
       "1 c     j   10 222.4   20.08427  6.351203 14.36742\n",
       "2 c     t   10 228.4   32.98215 10.429872 23.59401\n",
       "3 r     j   10 227.4   28.56649  9.033518 20.43524\n",
       "4 r     t   10 238.4   39.18957 12.392829 28.03453"
      ]
     },
     "metadata": {},
     "output_type": "display_data"
    }
   ],
   "source": [
    "task_med_dur = summarySE(stat, measurevar=\"med_dur\", groupvars=c(\"trial\",\"web\"))\n",
    "task_med_dur"
   ]
  },
  {
   "cell_type": "code",
   "execution_count": 25,
   "metadata": {},
   "outputs": [
    {
     "name": "stderr",
     "output_type": "stream",
     "text": [
      "geom_path: Each group consists of only one observation. Do you need to adjust\n",
      "the group aesthetic?\n"
     ]
    },
    {
     "data": {},
     "metadata": {},
     "output_type": "display_data"
    },
    {
     "data": {
      "image/png": "[encoded data removed]",
      "text/plain": [
       "plot without title"
      ]
     },
     "metadata": {},
     "output_type": "display_data",
     "source": "R display func"
    }
   ],
   "source": [
    "pd <- position_dodge(0.1)\n",
    "ggplot(task_med_dur, aes(x=trial, y=med_dur, colour=web)) + \n",
    "    geom_errorbar(aes(ymin=med_dur-ci, ymax=med_dur+ci), width=.1, position=pd) +\n",
    "    geom_line(position=pd) +\n",
    "    geom_point(position=pd)"
   ]
  },
  {
   "cell_type": "markdown",
   "metadata": {
    "toc-hr-collapsed": true
   },
   "source": [
    "# 第二次数据"
   ]
  },
  {
   "cell_type": "markdown",
   "metadata": {
    "toc-hr-collapsed": true
   },
   "source": [
    "## 问卷"
   ]
  },
  {
   "cell_type": "code",
   "execution_count": 14,
   "metadata": {},
   "outputs": [],
   "source": [
    "library(psych)\n",
    "eye_scale = read.csv('questionnaire2.csv')"
   ]
  },
  {
   "cell_type": "markdown",
   "metadata": {},
   "source": [
    "### SUS"
   ]
  },
  {
   "cell_type": "code",
   "execution_count": 15,
   "metadata": {},
   "outputs": [],
   "source": [
    "eye_scale_1 = read.csv('questionnaire1.csv')"
   ]
  },
  {
   "cell_type": "code",
   "execution_count": 33,
   "metadata": {},
   "outputs": [
    {
     "name": "stdout",
     "output_type": "stream",
     "text": [
      "[1] 9.581771\n",
      "\n",
      "\tOne Sample t-test\n",
      "\n",
      "data:  sus_list\n",
      "t = 41.443, df = 29, p-value < 2.2e-16\n",
      "alternative hypothesis: true mean is not equal to 0\n",
      "95 percent confidence interval:\n",
      " 68.92211 76.07789\n",
      "sample estimates:\n",
      "mean of x \n",
      "     72.5 \n",
      "\n"
     ]
    },
    {
     "data": {
      "text/plain": [
       "\n",
       "\tPaired t-test\n",
       "\n",
       "data:  sus_list_1 and sus_list_2\n",
       "t = -3.5375, df = 9, p-value = 0.00317\n",
       "alternative hypothesis: true difference in means is less than 0\n",
       "99 percent confidence interval:\n",
       "      -Inf -2.074724\n",
       "sample estimates:\n",
       "mean of the differences \n",
       "                 -10.25 \n"
      ]
     },
     "metadata": {},
     "output_type": "display_data"
    }
   ],
   "source": [
    "sus_list_1 = c()\n",
    "sus_list_2 = c()\n",
    "\n",
    "for (i in eye_scale_1[2:11]){\n",
    "    sus_list_1[length(sus_list_1) + 1] = ((sum(i) - 10) * 2.5)\n",
    "}\n",
    "for (i in eye_scale[3:12]){\n",
    "    sus_list_2[length(sus_list_2) + 1] = ((sum(i) - 10) * 2.5)\n",
    "}\n",
    "\n",
    "print(sd(sus_list))\n",
    "print(t.test(sus_list))\n",
    "pair_t = t.test(sus_list_1,sus_list_2,paired=T, conf.level = .99, alternative = \"less\")\n",
    "pair_t"
   ]
  },
  {
   "cell_type": "code",
   "execution_count": 30,
   "metadata": {},
   "outputs": [
    {
     "data": {
      "text/plain": [
       "\n",
       "\tFligner-Killeen test of homogeneity of variances\n",
       "\n",
       "data:  sus_list_1 and sus_list_2\n",
       "Fligner-Killeen:med chi-squared = 5.0408, df = 7, p-value = 0.655\n"
      ]
     },
     "metadata": {},
     "output_type": "display_data"
    }
   ],
   "source": [
    "fligner.test(sus_list_1,sus_list_2)    #方差齐性检验"
   ]
  },
  {
   "cell_type": "code",
   "execution_count": 35,
   "metadata": {},
   "outputs": [
    {
     "data": {
      "text/html": [
       "<strong>t:</strong> 0.581660899653979"
      ],
      "text/latex": [
       "\\textbf{t:} 0.581660899653979"
      ],
      "text/markdown": [
       "**t:** 0.581660899653979"
      ],
      "text/plain": [
       "        t \n",
       "0.5816609 "
      ]
     },
     "metadata": {},
     "output_type": "display_data"
    }
   ],
   "source": [
    "r_sq = pair_t$statistic ^ 2 / (pair_t$statistic ^ 2 + pair_t$parameter)\n",
    "r_sq"
   ]
  },
  {
   "cell_type": "markdown",
   "metadata": {},
   "source": [
    "### 计算α系数"
   ]
  },
  {
   "cell_type": "code",
   "execution_count": 3,
   "metadata": {},
   "outputs": [
    {
     "data": {
      "text/html": [
       "<table>\n",
       "<thead><tr><th scope=col>编号</th><th scope=col>这个系统的使用体验相较上次出现了提升</th><th scope=col>我愿意频繁使用这个系统</th><th scope=col>我认为这个系统是简单的</th><th scope=col>我认为这个系统用起来很容易</th><th scope=col>我认为我不需要技术人员的帮助就能使用这个系统</th><th scope=col>我认为系统里的各项功能整合良好</th><th scope=col>我认为系统的交互具有良好的一致性</th><th scope=col>我想大多数人都能很快学会使用这个系统</th><th scope=col>这个系统的交互方式很直观</th><th scope=col>我对使用这个系统感到有信心</th><th scope=col>在使用这个系统前我不需要学习任何的新知识</th><th scope=col>这个系统在工作中非常有用</th><th scope=col>我发现这个系统很容易使用</th></tr></thead>\n",
       "<tbody>\n",
       "\t<tr><td> 1</td><td>2 </td><td>2 </td><td>4 </td><td>3 </td><td>3 </td><td>1 </td><td>4 </td><td>4 </td><td>4 </td><td>3 </td><td>4 </td><td>3 </td><td>2 </td></tr>\n",
       "\t<tr><td> 2</td><td>4 </td><td>4 </td><td>4 </td><td>4 </td><td>3 </td><td>4 </td><td>3 </td><td>4 </td><td>3 </td><td>4 </td><td>3 </td><td>4 </td><td>4 </td></tr>\n",
       "\t<tr><td> 3</td><td>4 </td><td>5 </td><td>4 </td><td>5 </td><td>3 </td><td>4 </td><td>3 </td><td>5 </td><td>5 </td><td>4 </td><td>5 </td><td>3 </td><td>4 </td></tr>\n",
       "\t<tr><td> 4</td><td>5 </td><td>4 </td><td>5 </td><td>4 </td><td>4 </td><td>4 </td><td>4 </td><td>5 </td><td>5 </td><td>5 </td><td>5 </td><td>5 </td><td>5 </td></tr>\n",
       "\t<tr><td> 5</td><td>3 </td><td>3 </td><td>3 </td><td>4 </td><td>4 </td><td>2 </td><td>3 </td><td>4 </td><td>3 </td><td>4 </td><td>4 </td><td>3 </td><td>3 </td></tr>\n",
       "\t<tr><td> 6</td><td>4 </td><td>4 </td><td>4 </td><td>3 </td><td>4 </td><td>4 </td><td>4 </td><td>4 </td><td>4 </td><td>4 </td><td>4 </td><td>4 </td><td>3 </td></tr>\n",
       "\t<tr><td> 7</td><td>4 </td><td>4 </td><td>4 </td><td>5 </td><td>5 </td><td>4 </td><td>4 </td><td>5 </td><td>4 </td><td>4 </td><td>3 </td><td>4 </td><td>4 </td></tr>\n",
       "\t<tr><td> 8</td><td>4 </td><td>4 </td><td>5 </td><td>4 </td><td>4 </td><td>3 </td><td>3 </td><td>5 </td><td>4 </td><td>4 </td><td>5 </td><td>2 </td><td>4 </td></tr>\n",
       "\t<tr><td> 9</td><td>4 </td><td>3 </td><td>3 </td><td>4 </td><td>4 </td><td>3 </td><td>2 </td><td>5 </td><td>5 </td><td>4 </td><td>5 </td><td>3 </td><td>4 </td></tr>\n",
       "\t<tr><td>10</td><td>4 </td><td>3 </td><td>5 </td><td>4 </td><td>4 </td><td>3 </td><td>4 </td><td>4 </td><td>4 </td><td>5 </td><td>4 </td><td>4 </td><td>3 </td></tr>\n",
       "</tbody>\n",
       "</table>\n"
      ],
      "text/latex": [
       "\\begin{tabular}{r|llllllllllllll}\n",
       " 编号 & 这个系统的使用体验相较上次出现了提升 & 我愿意频繁使用这个系统 & 我认为这个系统是简单的 & 我认为这个系统用起来很容易 & 我认为我不需要技术人员的帮助就能使用这个系统 & 我认为系统里的各项功能整合良好 & 我认为系统的交互具有良好的一致性 & 我想大多数人都能很快学会使用这个系统 & 这个系统的交互方式很直观 & 我对使用这个系统感到有信心 & 在使用这个系统前我不需要学习任何的新知识 & 这个系统在工作中非常有用 & 我发现这个系统很容易使用\\\\\n",
       "\\hline\n",
       "\t  1 & 2  & 2  & 4  & 3  & 3  & 1  & 4  & 4  & 4  & 3  & 4  & 3  & 2 \\\\\n",
       "\t  2 & 4  & 4  & 4  & 4  & 3  & 4  & 3  & 4  & 3  & 4  & 3  & 4  & 4 \\\\\n",
       "\t  3 & 4  & 5  & 4  & 5  & 3  & 4  & 3  & 5  & 5  & 4  & 5  & 3  & 4 \\\\\n",
       "\t  4 & 5  & 4  & 5  & 4  & 4  & 4  & 4  & 5  & 5  & 5  & 5  & 5  & 5 \\\\\n",
       "\t  5 & 3  & 3  & 3  & 4  & 4  & 2  & 3  & 4  & 3  & 4  & 4  & 3  & 3 \\\\\n",
       "\t  6 & 4  & 4  & 4  & 3  & 4  & 4  & 4  & 4  & 4  & 4  & 4  & 4  & 3 \\\\\n",
       "\t  7 & 4  & 4  & 4  & 5  & 5  & 4  & 4  & 5  & 4  & 4  & 3  & 4  & 4 \\\\\n",
       "\t  8 & 4  & 4  & 5  & 4  & 4  & 3  & 3  & 5  & 4  & 4  & 5  & 2  & 4 \\\\\n",
       "\t  9 & 4  & 3  & 3  & 4  & 4  & 3  & 2  & 5  & 5  & 4  & 5  & 3  & 4 \\\\\n",
       "\t 10 & 4  & 3  & 5  & 4  & 4  & 3  & 4  & 4  & 4  & 5  & 4  & 4  & 3 \\\\\n",
       "\\end{tabular}\n"
      ],
      "text/markdown": [
       "\n",
       "编号 | 这个系统的使用体验相较上次出现了提升 | 我愿意频繁使用这个系统 | 我认为这个系统是简单的 | 我认为这个系统用起来很容易 | 我认为我不需要技术人员的帮助就能使用这个系统 | 我认为系统里的各项功能整合良好 | 我认为系统的交互具有良好的一致性 | 我想大多数人都能很快学会使用这个系统 | 这个系统的交互方式很直观 | 我对使用这个系统感到有信心 | 在使用这个系统前我不需要学习任何的新知识 | 这个系统在工作中非常有用 | 我发现这个系统很容易使用 | \n",
       "|---|---|---|---|---|---|---|---|---|---|\n",
       "|  1 | 2  | 2  | 4  | 3  | 3  | 1  | 4  | 4  | 4  | 3  | 4  | 3  | 2  | \n",
       "|  2 | 4  | 4  | 4  | 4  | 3  | 4  | 3  | 4  | 3  | 4  | 3  | 4  | 4  | \n",
       "|  3 | 4  | 5  | 4  | 5  | 3  | 4  | 3  | 5  | 5  | 4  | 5  | 3  | 4  | \n",
       "|  4 | 5  | 4  | 5  | 4  | 4  | 4  | 4  | 5  | 5  | 5  | 5  | 5  | 5  | \n",
       "|  5 | 3  | 3  | 3  | 4  | 4  | 2  | 3  | 4  | 3  | 4  | 4  | 3  | 3  | \n",
       "|  6 | 4  | 4  | 4  | 3  | 4  | 4  | 4  | 4  | 4  | 4  | 4  | 4  | 3  | \n",
       "|  7 | 4  | 4  | 4  | 5  | 5  | 4  | 4  | 5  | 4  | 4  | 3  | 4  | 4  | \n",
       "|  8 | 4  | 4  | 5  | 4  | 4  | 3  | 3  | 5  | 4  | 4  | 5  | 2  | 4  | \n",
       "|  9 | 4  | 3  | 3  | 4  | 4  | 3  | 2  | 5  | 5  | 4  | 5  | 3  | 4  | \n",
       "| 10 | 4  | 3  | 5  | 4  | 4  | 3  | 4  | 4  | 4  | 5  | 4  | 4  | 3  | \n",
       "\n",
       "\n"
      ],
      "text/plain": [
       "   编号 这个系统的使用体验相较上次出现了提升 我愿意频繁使用这个系统\n",
       "1   1   2                                    2                     \n",
       "2   2   4                                    4                     \n",
       "3   3   4                                    5                     \n",
       "4   4   5                                    4                     \n",
       "5   5   3                                    3                     \n",
       "6   6   4                                    4                     \n",
       "7   7   4                                    4                     \n",
       "8   8   4                                    4                     \n",
       "9   9   4                                    3                     \n",
       "10 10   4                                    3                     \n",
       "   我认为这个系统是简单的 我认为这个系统用起来很容易\n",
       "1  4                      3                         \n",
       "2  4                      4                         \n",
       "3  4                      5                         \n",
       "4  5                      4                         \n",
       "5  3                      4                         \n",
       "6  4                      3                         \n",
       "7  4                      5                         \n",
       "8  5                      4                         \n",
       "9  3                      4                         \n",
       "10 5                      4                         \n",
       "   我认为我不需要技术人员的帮助就能使用这个系统 我认为系统里的各项功能整合良好\n",
       "1  3                                            1                             \n",
       "2  3                                            4                             \n",
       "3  3                                            4                             \n",
       "4  4                                            4                             \n",
       "5  4                                            2                             \n",
       "6  4                                            4                             \n",
       "7  5                                            4                             \n",
       "8  4                                            3                             \n",
       "9  4                                            3                             \n",
       "10 4                                            3                             \n",
       "   我认为系统的交互具有良好的一致性 我想大多数人都能很快学会使用这个系统\n",
       "1  4                                4                                   \n",
       "2  3                                4                                   \n",
       "3  3                                5                                   \n",
       "4  4                                5                                   \n",
       "5  3                                4                                   \n",
       "6  4                                4                                   \n",
       "7  4                                5                                   \n",
       "8  3                                5                                   \n",
       "9  2                                5                                   \n",
       "10 4                                4                                   \n",
       "   这个系统的交互方式很直观 我对使用这个系统感到有信心\n",
       "1  4                        3                         \n",
       "2  3                        4                         \n",
       "3  5                        4                         \n",
       "4  5                        5                         \n",
       "5  3                        4                         \n",
       "6  4                        4                         \n",
       "7  4                        4                         \n",
       "8  4                        4                         \n",
       "9  5                        4                         \n",
       "10 4                        5                         \n",
       "   在使用这个系统前我不需要学习任何的新知识 这个系统在工作中非常有用\n",
       "1  4                                        3                       \n",
       "2  3                                        4                       \n",
       "3  5                                        3                       \n",
       "4  5                                        5                       \n",
       "5  4                                        3                       \n",
       "6  4                                        4                       \n",
       "7  3                                        4                       \n",
       "8  5                                        2                       \n",
       "9  5                                        3                       \n",
       "10 4                                        4                       \n",
       "   我发现这个系统很容易使用\n",
       "1  2                       \n",
       "2  4                       \n",
       "3  4                       \n",
       "4  5                       \n",
       "5  3                       \n",
       "6  3                       \n",
       "7  4                       \n",
       "8  4                       \n",
       "9  4                       \n",
       "10 3                       "
      ]
     },
     "metadata": {},
     "output_type": "display_data"
    }
   ],
   "source": [
    "eye_scale[,1:14]"
   ]
  },
  {
   "cell_type": "code",
   "execution_count": 8,
   "metadata": {},
   "outputs": [
    {
     "name": "stderr",
     "output_type": "stream",
     "text": [
      "Warning message in cor.smooth(r):\n",
      "“Matrix was not positive definite, smoothing was done”Warning message in alpha(eye_scale[, 3:14]):\n",
      "“Some items were negatively correlated with the total scale and probably \n",
      "should be reversed.  \n",
      "To do this, run the function again with the 'check.keys=TRUE' option”"
     ]
    },
    {
     "name": "stdout",
     "output_type": "stream",
     "text": [
      "Some items ( 我认为系统的交互具有良好的一致性 ) were negatively correlated with the total scale and \n",
      "probably should be reversed.  \n",
      "To do this, run the function again with the 'check.keys=TRUE' option"
     ]
    },
    {
     "name": "stderr",
     "output_type": "stream",
     "text": [
      "Warning message in cor.smooth(R):\n",
      "“Matrix was not positive definite, smoothing was done”Warning message in cor.smooth(R):\n",
      "“Matrix was not positive definite, smoothing was done”Warning message in cor.smooth(R):\n",
      "“Matrix was not positive definite, smoothing was done”Warning message in cor.smooth(R):\n",
      "“Matrix was not positive definite, smoothing was done”Warning message in cor.smooth(R):\n",
      "“Matrix was not positive definite, smoothing was done”Warning message in cor.smooth(R):\n",
      "“Matrix was not positive definite, smoothing was done”Warning message in cor.smooth(R):\n",
      "“Matrix was not positive definite, smoothing was done”Warning message in cor.smooth(R):\n",
      "“Matrix was not positive definite, smoothing was done”Warning message in cor.smooth(R):\n",
      "“Matrix was not positive definite, smoothing was done”Warning message in cor.smooth(R):\n",
      "“Matrix was not positive definite, smoothing was done”Warning message in cor.smooth(R):\n",
      "“Matrix was not positive definite, smoothing was done”Warning message in cor.smooth(R):\n",
      "“Matrix was not positive definite, smoothing was done”Warning message in cor.smooth(R):\n",
      "“Matrix was not positive definite, smoothing was done”Warning message in cor.smooth(R):\n",
      "“Matrix was not positive definite, smoothing was done”"
     ]
    },
    {
     "data": {
      "text/plain": [
       "\n",
       "Reliability analysis   \n",
       "Call: alpha(x = eye_scale[, 3:14])\n",
       "\n",
       "  raw_alpha std.alpha G6(smc) average_r S/N   ase mean   sd median_r\n",
       "      0.81      0.81       1      0.26 4.2 0.087  3.8 0.43     0.25\n",
       "\n",
       " lower alpha upper     95% confidence boundaries\n",
       "0.64 0.81 0.98 \n",
       "\n",
       " Reliability if an item is dropped:\n",
       "                                             raw_alpha std.alpha G6(smc)\n",
       "我愿意频繁使用这个系统                            0.77      0.78       1\n",
       "我认为这个系统是简单的                            0.80      0.80       1\n",
       "我认为这个系统用起来很容易                        0.79      0.79       1\n",
       "我认为我不需要技术人员的帮助就能使用这个系统      0.81      0.81       1\n",
       "我认为系统里的各项功能整合良好                    0.76      0.77       1\n",
       "我认为系统的交互具有良好的一致性                  0.83      0.83       1\n",
       "我想大多数人都能很快学会使用这个系统              0.78      0.78       1\n",
       "这个系统的交互方式很直观                          0.79      0.79       1\n",
       "我对使用这个系统感到有信心                        0.78      0.78       1\n",
       "在使用这个系统前我不需要学习任何的新知识          0.82      0.82       1\n",
       "这个系统在工作中非常有用                          0.80      0.80       1\n",
       "我发现这个系统很容易使用                          0.76      0.76       1\n",
       "                                             average_r S/N var.r med.r\n",
       "我愿意频繁使用这个系统                            0.24 3.6 0.082  0.25\n",
       "我认为这个系统是简单的                            0.26 4.0 0.094  0.25\n",
       "我认为这个系统用起来很容易                        0.26 3.9 0.083  0.25\n",
       "我认为我不需要技术人员的帮助就能使用这个系统      0.28 4.2 0.093  0.26\n",
       "我认为系统里的各项功能整合良好                    0.23 3.4 0.081  0.24\n",
       "我认为系统的交互具有良好的一致性                  0.31 4.9 0.065  0.26\n",
       "我想大多数人都能很快学会使用这个系统              0.24 3.5 0.076  0.25\n",
       "这个系统的交互方式很直观                          0.26 3.8 0.087  0.25\n",
       "我对使用这个系统感到有信心                        0.24 3.5 0.092  0.25\n",
       "在使用这个系统前我不需要学习任何的新知识          0.29 4.5 0.072  0.26\n",
       "这个系统在工作中非常有用                          0.27 4.1 0.083  0.25\n",
       "我发现这个系统很容易使用                          0.23 3.3 0.076  0.23\n",
       "\n",
       " Item statistics \n",
       "                                              n raw.r std.r r.cor r.drop mean\n",
       "我愿意频繁使用这个系统                       10  0.73  0.69  0.69  0.637  3.6\n",
       "我认为这个系统是简单的                       10  0.53  0.53  0.53  0.409  4.1\n",
       "我认为这个系统用起来很容易                   10  0.55  0.57  0.57  0.452  4.0\n",
       "我认为我不需要技术人员的帮助就能使用这个系统 10  0.38  0.42  0.42  0.271  3.8\n",
       "我认为系统里的各项功能整合良好               10  0.81  0.78  0.78  0.725  3.2\n",
       "我认为系统的交互具有良好的一致性             10  0.17  0.18  0.18  0.038  3.4\n",
       "我想大多数人都能很快学会使用这个系统         10  0.68  0.70  0.70  0.616  4.5\n",
       "这个系统的交互方式很直观                     10  0.58  0.60  0.60  0.477  4.1\n",
       "我对使用这个系统感到有信心                   10  0.72  0.73  0.73  0.661  4.1\n",
       "在使用这个系统前我不需要学习任何的新知识     10  0.30  0.32  0.32  0.148  4.2\n",
       "这个系统在工作中非常有用                     10  0.50  0.47  0.47  0.357  3.5\n",
       "我发现这个系统很容易使用                     10  0.83  0.82  0.82  0.769  3.6\n",
       "                                               sd\n",
       "我愿意频繁使用这个系统                       0.84\n",
       "我认为这个系统是简单的                       0.74\n",
       "我认为这个系统用起来很容易                   0.67\n",
       "我认为我不需要技术人员的帮助就能使用这个系统 0.63\n",
       "我认为系统里的各项功能整合良好               1.03\n",
       "我认为系统的交互具有良好的一致性             0.70\n",
       "我想大多数人都能很快学会使用这个系统         0.53\n",
       "这个系统的交互方式很直观                     0.74\n",
       "我对使用这个系统感到有信心                   0.57\n",
       "在使用这个系统前我不需要学习任何的新知识     0.79\n",
       "这个系统在工作中非常有用                     0.85\n",
       "我发现这个系统很容易使用                     0.84\n",
       "\n",
       "Non missing response frequency for each item\n",
       "                                               1   2   3   4   5 miss\n",
       "我愿意频繁使用这个系统                       0.0 0.1 0.3 0.5 0.1    0\n",
       "我认为这个系统是简单的                       0.0 0.0 0.2 0.5 0.3    0\n",
       "我认为这个系统用起来很容易                   0.0 0.0 0.2 0.6 0.2    0\n",
       "我认为我不需要技术人员的帮助就能使用这个系统 0.0 0.0 0.3 0.6 0.1    0\n",
       "我认为系统里的各项功能整合良好               0.1 0.1 0.3 0.5 0.0    0\n",
       "我认为系统的交互具有良好的一致性             0.0 0.1 0.4 0.5 0.0    0\n",
       "我想大多数人都能很快学会使用这个系统         0.0 0.0 0.0 0.5 0.5    0\n",
       "这个系统的交互方式很直观                     0.0 0.0 0.2 0.5 0.3    0\n",
       "我对使用这个系统感到有信心                   0.0 0.0 0.1 0.7 0.2    0\n",
       "在使用这个系统前我不需要学习任何的新知识     0.0 0.0 0.2 0.4 0.4    0\n",
       "这个系统在工作中非常有用                     0.0 0.1 0.4 0.4 0.1    0\n",
       "我发现这个系统很容易使用                     0.0 0.1 0.3 0.5 0.1    0"
      ]
     },
     "metadata": {},
     "output_type": "display_data"
    }
   ],
   "source": [
    "alpha(eye_scale[,3:14])"
   ]
  },
  {
   "cell_type": "markdown",
   "metadata": {},
   "source": [
    "| total         | a list containing                                                                                                                                                                                   | 包含的列表                                                                                                                      |\n",
    "|---------------|-----------------------------------------------------------------------------------------------------------------------------------------------------------------------------------------------------|---------------------------------------------------------------------------------------------------------------------------------|\n",
    "| raw_alpha     | alpha based upon the covariances                                                                                                                                                                    | 基于协方差的alpha                                                                                                               |\n",
    "| std.alpha     | The standarized alpha based upon the correlations                                                                                                                                                   | 基于相关性的标准化alpha                                                                                                         |\n",
    "| G6(smc)       | Guttman’s Lambda 6 reliability                                                                                                                                                                      | Guttman的Lambda 6信度                                                                                                           |\n",
    "| average_r     | The average interitem correlation                                                                                                                                                                   | 条目间相关性均值                                                                                                                |\n",
    "| median_r      | The median interitem correlation                                                                                                                                                                    | 条目间相关性中值                                                                                                                |\n",
    "| mean          | For data matrices, the mean of the scale formed by averaging or summing the items (depending upon the cumulative option)                                                                            | 对于数据矩阵，通过对项求平均值或求和而形成的比例尺的平均值(取决于累积选项)                                                      |\n",
    "| sd            | For data matrices, the standard deviation of the total score                                                                                                                                        | 对于数据矩阵，总得分的标准差                                                                                                    |\n",
    "| alpha.drop    | A data frame with all of the above for the case of each item being removed one by one                                                                                                               | 一个包含上述所有内容的dataframe，用于逐个删除每个项                                                                             |\n",
    "| item.stats    | A data frame including                                                                                                                                                                              | 包含的dataFrame                                                                                                                 |\n",
    "| n             | number of complete cases for the item                                                                                                                                                               | 项目的完整用例数                                                                                                                |\n",
    "| raw.r         | The correlation of each item with the total score, not corrected for item overlap                                                                                                                   | 每个条目与总分的相关性，而不是对条目重叠的校正                                                                                  |\n",
    "| std.r         | The correlation of each item with the total score (not corrected for item overlap) if the items were all standardized                                                                               | 如果所有项目都标准化了，则每个项目与总分的相关性(不纠正项目重叠)                                                                |\n",
    "| r.cor         | Item whole correlation corrected for item overlap and scale reliability                                                                                                                             | 根据条目重叠和量表信度校正项目整体相关性                                                                                        |\n",
    "| r.drop        | Item whole correlation for this item against the scale without this item                                                                                                                            | 有与没有此条目量表的整体相关                                                                                                    |\n",
    "| mean          | for data matrices, the mean of each item                                                                                                                                                            | 对于数据矩阵，每个条目的平均值                                                                                                  |\n",
    "| sd            | For data matrices, the standard deviation of each item                                                                                                                                              | 对于数据矩阵，每个条目的标准偏差                                                                                                |\n",
    "| response.freq | For data matrices, the frequency of each item response (if less than 20)                                                                                                                            | 对于数据矩阵，每个条目响应的频率（如果小于20）                                                                                  |\n",
    "| scores        | Scores are by default simply the average response for all items that a participant took. If cumulative=TRUE, then these are sum scores. Note, this is dangerous if there are lots of missing values | 默认情况下，分数只是参与者对所有项目的平均反应。如果cumulative=TRUE，那么这些就是和分数。注意，如果有很多缺失的值，这是很危险的 |"
   ]
  },
  {
   "cell_type": "code",
   "execution_count": 9,
   "metadata": {},
   "outputs": [
    {
     "data": {
      "text/html": [
       "<table>\n",
       "<thead><tr><th></th><th scope=col>raw_alpha</th><th scope=col>std.alpha</th><th scope=col>G6(smc)</th><th scope=col>average_r</th><th scope=col>S/N</th><th scope=col>ase</th><th scope=col>mean</th><th scope=col>sd</th><th scope=col>median_r</th></tr></thead>\n",
       "<tbody>\n",
       "\t<tr><th scope=row></th><td>0.8067846 </td><td>0.8082527 </td><td>1         </td><td>0.2599535 </td><td>4.215198  </td><td>0.08720127</td><td>3.841667  </td><td>0.4275432 </td><td>0.25      </td></tr>\n",
       "</tbody>\n",
       "</table>\n"
      ],
      "text/latex": [
       "\\begin{tabular}{r|lllllllll}\n",
       "  & raw\\_alpha & std.alpha & G6(smc) & average\\_r & S/N & ase & mean & sd & median\\_r\\\\\n",
       "\\hline\n",
       "\t & 0.8067846  & 0.8082527  & 1          & 0.2599535  & 4.215198   & 0.08720127 & 3.841667   & 0.4275432  & 0.25      \\\\\n",
       "\\end{tabular}\n"
      ],
      "text/markdown": [
       "\n",
       "| <!--/--> | raw_alpha | std.alpha | G6(smc) | average_r | S/N | ase | mean | sd | median_r | \n",
       "|---|\n",
       "|  | 0.8067846  | 0.8082527  | 1          | 0.2599535  | 4.215198   | 0.08720127 | 3.841667   | 0.4275432  | 0.25       | \n",
       "\n",
       "\n"
      ],
      "text/plain": [
       " raw_alpha std.alpha G6(smc) average_r S/N      ase        mean     sd       \n",
       " 0.8067846 0.8082527 1       0.2599535 4.215198 0.08720127 3.841667 0.4275432\n",
       " median_r\n",
       " 0.25    "
      ]
     },
     "metadata": {},
     "output_type": "display_data"
    }
   ],
   "source": [
    "result$total #result[1]"
   ]
  },
  {
   "cell_type": "code",
   "execution_count": 10,
   "metadata": {},
   "outputs": [
    {
     "data": {
      "text/html": [
       "<ol class=list-inline>\n",
       "\t<li>3.08333333333333</li>\n",
       "\t<li>3.66666666666667</li>\n",
       "\t<li>4.16666666666667</li>\n",
       "\t<li>4.58333333333333</li>\n",
       "\t<li>3.33333333333333</li>\n",
       "\t<li>3.83333333333333</li>\n",
       "\t<li>4.16666666666667</li>\n",
       "\t<li>3.91666666666667</li>\n",
       "\t<li>3.75</li>\n",
       "\t<li>3.91666666666667</li>\n",
       "</ol>\n"
      ],
      "text/latex": [
       "\\begin{enumerate*}\n",
       "\\item 3.08333333333333\n",
       "\\item 3.66666666666667\n",
       "\\item 4.16666666666667\n",
       "\\item 4.58333333333333\n",
       "\\item 3.33333333333333\n",
       "\\item 3.83333333333333\n",
       "\\item 4.16666666666667\n",
       "\\item 3.91666666666667\n",
       "\\item 3.75\n",
       "\\item 3.91666666666667\n",
       "\\end{enumerate*}\n"
      ],
      "text/markdown": [
       "1. 3.08333333333333\n",
       "2. 3.66666666666667\n",
       "3. 4.16666666666667\n",
       "4. 4.58333333333333\n",
       "5. 3.33333333333333\n",
       "6. 3.83333333333333\n",
       "7. 4.16666666666667\n",
       "8. 3.91666666666667\n",
       "9. 3.75\n",
       "10. 3.91666666666667\n",
       "\n",
       "\n"
      ],
      "text/plain": [
       " [1] 3.083333 3.666667 4.166667 4.583333 3.333333 3.833333 4.166667 3.916667\n",
       " [9] 3.750000 3.916667"
      ]
     },
     "metadata": {},
     "output_type": "display_data"
    }
   ],
   "source": [
    "result$scores #result[6]"
   ]
  },
  {
   "cell_type": "code",
   "execution_count": 11,
   "metadata": {},
   "outputs": [
    {
     "data": {
      "text/html": [
       "<table>\n",
       "<thead><tr><th></th><th scope=col>raw_alpha</th><th scope=col>std.alpha</th><th scope=col>G6(smc)</th><th scope=col>average_r</th><th scope=col>S/N</th><th scope=col>var.r</th><th scope=col>med.r</th></tr></thead>\n",
       "<tbody>\n",
       "\t<tr><th scope=row>我愿意频繁使用这个系统</th><td>0.7738338 </td><td>0.7803854 </td><td>1         </td><td>0.2441645 </td><td>3.553432  </td><td>0.08184346</td><td>0.2500000 </td></tr>\n",
       "\t<tr><th scope=row>我认为这个系统是简单的</th><td>0.7966990 </td><td>0.7980714 </td><td>1         </td><td>0.2643245 </td><td>3.952245  </td><td>0.09353014</td><td>0.2500000 </td></tr>\n",
       "\t<tr><th scope=row>我认为这个系统用起来很容易</th><td>0.7932334 </td><td>0.7945965 </td><td>1         </td><td>0.2601792 </td><td>3.868466  </td><td>0.08298273</td><td>0.2500000 </td></tr>\n",
       "\t<tr><th scope=row>我认为我不需要技术人员的帮助就能使用这个系统</th><td>0.8069693 </td><td>0.8089882 </td><td>1         </td><td>0.2779916 </td><td>4.235279  </td><td>0.09277510</td><td>0.2624453 </td></tr>\n",
       "\t<tr><th scope=row>我认为系统里的各项功能整合良好</th><td>0.7606868 </td><td>0.7708521 </td><td>1         </td><td>0.2341962 </td><td>3.363993  </td><td>0.08057349</td><td>0.2387511 </td></tr>\n",
       "\t<tr><th scope=row>我认为系统的交互具有良好的一致性</th><td>0.8260756 </td><td>0.8306815 </td><td>1         </td><td>0.3084384 </td><td>4.906030  </td><td>0.06505707</td><td>0.2624453 </td></tr>\n",
       "\t<tr><th scope=row>我想大多数人都能很快学会使用这个系统</th><td>0.7844961 </td><td>0.7795734 </td><td>1         </td><td>0.2432924 </td><td>3.536659  </td><td>0.07596830</td><td>0.2500000 </td></tr>\n",
       "\t<tr><th scope=row>这个系统的交互方式很直观</th><td>0.7906931 </td><td>0.7909771 </td><td>1         </td><td>0.2559607 </td><td>3.784165  </td><td>0.08687076</td><td>0.2500000 </td></tr>\n",
       "\t<tr><th scope=row>我对使用这个系统感到有信心</th><td>0.7798020 </td><td>0.7766164 </td><td>1         </td><td>0.2401533 </td><td>3.476605  </td><td>0.09197632</td><td>0.2500000 </td></tr>\n",
       "\t<tr><th scope=row>在使用这个系统前我不需要学习任何的新知识</th><td>0.8206428 </td><td>0.8185229 </td><td>1         </td><td>0.2907955 </td><td>4.510336  </td><td>0.07239094</td><td>0.2624453 </td></tr>\n",
       "\t<tr><th scope=row>这个系统在工作中非常有用</th><td>0.8029354 </td><td>0.8040562 </td><td>1         </td><td>0.2716922 </td><td>4.103504  </td><td>0.08288728</td><td>0.2500000 </td></tr>\n",
       "\t<tr><th scope=row>我发现这个系统很容易使用</th><td>0.7592157 </td><td>0.7648936 </td><td>1         </td><td>0.2282539 </td><td>3.253393  </td><td>0.07648651</td><td>0.2258770 </td></tr>\n",
       "</tbody>\n",
       "</table>\n"
      ],
      "text/latex": [
       "\\begin{tabular}{r|lllllll}\n",
       "  & raw\\_alpha & std.alpha & G6(smc) & average\\_r & S/N & var.r & med.r\\\\\n",
       "\\hline\n",
       "\t我愿意频繁使用这个系统 & 0.7738338  & 0.7803854  & 1          & 0.2441645  & 3.553432   & 0.08184346 & 0.2500000 \\\\\n",
       "\t我认为这个系统是简单的 & 0.7966990  & 0.7980714  & 1          & 0.2643245  & 3.952245   & 0.09353014 & 0.2500000 \\\\\n",
       "\t我认为这个系统用起来很容易 & 0.7932334  & 0.7945965  & 1          & 0.2601792  & 3.868466   & 0.08298273 & 0.2500000 \\\\\n",
       "\t我认为我不需要技术人员的帮助就能使用这个系统 & 0.8069693  & 0.8089882  & 1          & 0.2779916  & 4.235279   & 0.09277510 & 0.2624453 \\\\\n",
       "\t我认为系统里的各项功能整合良好 & 0.7606868  & 0.7708521  & 1          & 0.2341962  & 3.363993   & 0.08057349 & 0.2387511 \\\\\n",
       "\t我认为系统的交互具有良好的一致性 & 0.8260756  & 0.8306815  & 1          & 0.3084384  & 4.906030   & 0.06505707 & 0.2624453 \\\\\n",
       "\t我想大多数人都能很快学会使用这个系统 & 0.7844961  & 0.7795734  & 1          & 0.2432924  & 3.536659   & 0.07596830 & 0.2500000 \\\\\n",
       "\t这个系统的交互方式很直观 & 0.7906931  & 0.7909771  & 1          & 0.2559607  & 3.784165   & 0.08687076 & 0.2500000 \\\\\n",
       "\t我对使用这个系统感到有信心 & 0.7798020  & 0.7766164  & 1          & 0.2401533  & 3.476605   & 0.09197632 & 0.2500000 \\\\\n",
       "\t在使用这个系统前我不需要学习任何的新知识 & 0.8206428  & 0.8185229  & 1          & 0.2907955  & 4.510336   & 0.07239094 & 0.2624453 \\\\\n",
       "\t这个系统在工作中非常有用 & 0.8029354  & 0.8040562  & 1          & 0.2716922  & 4.103504   & 0.08288728 & 0.2500000 \\\\\n",
       "\t我发现这个系统很容易使用 & 0.7592157  & 0.7648936  & 1          & 0.2282539  & 3.253393   & 0.07648651 & 0.2258770 \\\\\n",
       "\\end{tabular}\n"
      ],
      "text/markdown": [
       "\n",
       "| <!--/--> | raw_alpha | std.alpha | G6(smc) | average_r | S/N | var.r | med.r | \n",
       "|---|---|---|---|---|---|---|---|---|---|---|---|\n",
       "| 我愿意频繁使用这个系统 | 0.7738338  | 0.7803854  | 1          | 0.2441645  | 3.553432   | 0.08184346 | 0.2500000  | \n",
       "| 我认为这个系统是简单的 | 0.7966990  | 0.7980714  | 1          | 0.2643245  | 3.952245   | 0.09353014 | 0.2500000  | \n",
       "| 我认为这个系统用起来很容易 | 0.7932334  | 0.7945965  | 1          | 0.2601792  | 3.868466   | 0.08298273 | 0.2500000  | \n",
       "| 我认为我不需要技术人员的帮助就能使用这个系统 | 0.8069693  | 0.8089882  | 1          | 0.2779916  | 4.235279   | 0.09277510 | 0.2624453  | \n",
       "| 我认为系统里的各项功能整合良好 | 0.7606868  | 0.7708521  | 1          | 0.2341962  | 3.363993   | 0.08057349 | 0.2387511  | \n",
       "| 我认为系统的交互具有良好的一致性 | 0.8260756  | 0.8306815  | 1          | 0.3084384  | 4.906030   | 0.06505707 | 0.2624453  | \n",
       "| 我想大多数人都能很快学会使用这个系统 | 0.7844961  | 0.7795734  | 1          | 0.2432924  | 3.536659   | 0.07596830 | 0.2500000  | \n",
       "| 这个系统的交互方式很直观 | 0.7906931  | 0.7909771  | 1          | 0.2559607  | 3.784165   | 0.08687076 | 0.2500000  | \n",
       "| 我对使用这个系统感到有信心 | 0.7798020  | 0.7766164  | 1          | 0.2401533  | 3.476605   | 0.09197632 | 0.2500000  | \n",
       "| 在使用这个系统前我不需要学习任何的新知识 | 0.8206428  | 0.8185229  | 1          | 0.2907955  | 4.510336   | 0.07239094 | 0.2624453  | \n",
       "| 这个系统在工作中非常有用 | 0.8029354  | 0.8040562  | 1          | 0.2716922  | 4.103504   | 0.08288728 | 0.2500000  | \n",
       "| 我发现这个系统很容易使用 | 0.7592157  | 0.7648936  | 1          | 0.2282539  | 3.253393   | 0.07648651 | 0.2258770  | \n",
       "\n",
       "\n"
      ],
      "text/plain": [
       "                                             raw_alpha std.alpha G6(smc)\n",
       "我愿意频繁使用这个系统                       0.7738338 0.7803854 1      \n",
       "我认为这个系统是简单的                       0.7966990 0.7980714 1      \n",
       "我认为这个系统用起来很容易                   0.7932334 0.7945965 1      \n",
       "我认为我不需要技术人员的帮助就能使用这个系统 0.8069693 0.8089882 1      \n",
       "我认为系统里的各项功能整合良好               0.7606868 0.7708521 1      \n",
       "我认为系统的交互具有良好的一致性             0.8260756 0.8306815 1      \n",
       "我想大多数人都能很快学会使用这个系统         0.7844961 0.7795734 1      \n",
       "这个系统的交互方式很直观                     0.7906931 0.7909771 1      \n",
       "我对使用这个系统感到有信心                   0.7798020 0.7766164 1      \n",
       "在使用这个系统前我不需要学习任何的新知识     0.8206428 0.8185229 1      \n",
       "这个系统在工作中非常有用                     0.8029354 0.8040562 1      \n",
       "我发现这个系统很容易使用                     0.7592157 0.7648936 1      \n",
       "                                             average_r S/N      var.r     \n",
       "我愿意频繁使用这个系统                       0.2441645 3.553432 0.08184346\n",
       "我认为这个系统是简单的                       0.2643245 3.952245 0.09353014\n",
       "我认为这个系统用起来很容易                   0.2601792 3.868466 0.08298273\n",
       "我认为我不需要技术人员的帮助就能使用这个系统 0.2779916 4.235279 0.09277510\n",
       "我认为系统里的各项功能整合良好               0.2341962 3.363993 0.08057349\n",
       "我认为系统的交互具有良好的一致性             0.3084384 4.906030 0.06505707\n",
       "我想大多数人都能很快学会使用这个系统         0.2432924 3.536659 0.07596830\n",
       "这个系统的交互方式很直观                     0.2559607 3.784165 0.08687076\n",
       "我对使用这个系统感到有信心                   0.2401533 3.476605 0.09197632\n",
       "在使用这个系统前我不需要学习任何的新知识     0.2907955 4.510336 0.07239094\n",
       "这个系统在工作中非常有用                     0.2716922 4.103504 0.08288728\n",
       "我发现这个系统很容易使用                     0.2282539 3.253393 0.07648651\n",
       "                                             med.r    \n",
       "我愿意频繁使用这个系统                       0.2500000\n",
       "我认为这个系统是简单的                       0.2500000\n",
       "我认为这个系统用起来很容易                   0.2500000\n",
       "我认为我不需要技术人员的帮助就能使用这个系统 0.2624453\n",
       "我认为系统里的各项功能整合良好               0.2387511\n",
       "我认为系统的交互具有良好的一致性             0.2624453\n",
       "我想大多数人都能很快学会使用这个系统         0.2500000\n",
       "这个系统的交互方式很直观                     0.2500000\n",
       "我对使用这个系统感到有信心                   0.2500000\n",
       "在使用这个系统前我不需要学习任何的新知识     0.2624453\n",
       "这个系统在工作中非常有用                     0.2500000\n",
       "我发现这个系统很容易使用                     0.2258770"
      ]
     },
     "metadata": {},
     "output_type": "display_data"
    }
   ],
   "source": [
    "result$alpha.drop #result[2]"
   ]
  },
  {
   "cell_type": "code",
   "execution_count": 12,
   "metadata": {},
   "outputs": [
    {
     "data": {
      "text/html": [
       "<table>\n",
       "<thead><tr><th></th><th scope=col>n</th><th scope=col>raw.r</th><th scope=col>std.r</th><th scope=col>r.cor</th><th scope=col>r.drop</th><th scope=col>mean</th><th scope=col>sd</th></tr></thead>\n",
       "<tbody>\n",
       "\t<tr><th scope=row>我愿意频繁使用这个系统</th><td>10        </td><td>0.7293665 </td><td>0.6947224 </td><td>0.6947224 </td><td>0.63678566</td><td>3.6       </td><td>0.8432740 </td></tr>\n",
       "\t<tr><th scope=row>我认为这个系统是简单的</th><td>10        </td><td>0.5253787 </td><td>0.5317937 </td><td>0.5317937 </td><td>0.40917746</td><td>4.1       </td><td>0.7378648 </td></tr>\n",
       "\t<tr><th scope=row>我认为这个系统用起来很容易</th><td>10        </td><td>0.5522509 </td><td>0.5652953 </td><td>0.5652953 </td><td>0.45189040</td><td>4.0       </td><td>0.6666667 </td></tr>\n",
       "\t<tr><th scope=row>我认为我不需要技术人员的帮助就能使用这个系统</th><td>10        </td><td>0.3835167 </td><td>0.4213398 </td><td>0.4213398 </td><td>0.27122799</td><td>3.8       </td><td>0.6324555 </td></tr>\n",
       "\t<tr><th scope=row>我认为系统里的各项功能整合良好</th><td>10        </td><td>0.8136049 </td><td>0.7752841 </td><td>0.7752841 </td><td>0.72515761</td><td>3.2       </td><td>1.0327956 </td></tr>\n",
       "\t<tr><th scope=row>我认为系统的交互具有良好的一致性</th><td>10        </td><td>0.1734519 </td><td>0.1752751 </td><td>0.1752751 </td><td>0.03771348</td><td>3.4       </td><td>0.6992059 </td></tr>\n",
       "\t<tr><th scope=row>我想大多数人都能很快学会使用这个系统</th><td>10        </td><td>0.6780027 </td><td>0.7017708 </td><td>0.7017708 </td><td>0.61631563</td><td>4.5       </td><td>0.5270463 </td></tr>\n",
       "\t<tr><th scope=row>这个系统的交互方式很直观</th><td>10        </td><td>0.5840802 </td><td>0.5993886 </td><td>0.5993886 </td><td>0.47677946</td><td>4.1       </td><td>0.7378648 </td></tr>\n",
       "\t<tr><th scope=row>我对使用这个系统感到有信心</th><td>10        </td><td>0.7210747 </td><td>0.7271401 </td><td>0.7271401 </td><td>0.66106673</td><td>4.1       </td><td>0.5676462 </td></tr>\n",
       "\t<tr><th scope=row>在使用这个系统前我不需要学习任何的新知识</th><td>10        </td><td>0.2965154 </td><td>0.3178610 </td><td>0.3178610 </td><td>0.14784664</td><td>4.2       </td><td>0.7888106 </td></tr>\n",
       "\t<tr><th scope=row>这个系统在工作中非常有用</th><td>10        </td><td>0.4969302 </td><td>0.4722498 </td><td>0.4722498 </td><td>0.35665328</td><td>3.5       </td><td>0.8498366 </td></tr>\n",
       "\t<tr><th scope=row>我发现这个系统很容易使用</th><td>10        </td><td>0.8320942 </td><td>0.8233085 </td><td>0.8233085 </td><td>0.76924424</td><td>3.6       </td><td>0.8432740 </td></tr>\n",
       "</tbody>\n",
       "</table>\n"
      ],
      "text/latex": [
       "\\begin{tabular}{r|lllllll}\n",
       "  & n & raw.r & std.r & r.cor & r.drop & mean & sd\\\\\n",
       "\\hline\n",
       "\t我愿意频繁使用这个系统 & 10         & 0.7293665  & 0.6947224  & 0.6947224  & 0.63678566 & 3.6        & 0.8432740 \\\\\n",
       "\t我认为这个系统是简单的 & 10         & 0.5253787  & 0.5317937  & 0.5317937  & 0.40917746 & 4.1        & 0.7378648 \\\\\n",
       "\t我认为这个系统用起来很容易 & 10         & 0.5522509  & 0.5652953  & 0.5652953  & 0.45189040 & 4.0        & 0.6666667 \\\\\n",
       "\t我认为我不需要技术人员的帮助就能使用这个系统 & 10         & 0.3835167  & 0.4213398  & 0.4213398  & 0.27122799 & 3.8        & 0.6324555 \\\\\n",
       "\t我认为系统里的各项功能整合良好 & 10         & 0.8136049  & 0.7752841  & 0.7752841  & 0.72515761 & 3.2        & 1.0327956 \\\\\n",
       "\t我认为系统的交互具有良好的一致性 & 10         & 0.1734519  & 0.1752751  & 0.1752751  & 0.03771348 & 3.4        & 0.6992059 \\\\\n",
       "\t我想大多数人都能很快学会使用这个系统 & 10         & 0.6780027  & 0.7017708  & 0.7017708  & 0.61631563 & 4.5        & 0.5270463 \\\\\n",
       "\t这个系统的交互方式很直观 & 10         & 0.5840802  & 0.5993886  & 0.5993886  & 0.47677946 & 4.1        & 0.7378648 \\\\\n",
       "\t我对使用这个系统感到有信心 & 10         & 0.7210747  & 0.7271401  & 0.7271401  & 0.66106673 & 4.1        & 0.5676462 \\\\\n",
       "\t在使用这个系统前我不需要学习任何的新知识 & 10         & 0.2965154  & 0.3178610  & 0.3178610  & 0.14784664 & 4.2        & 0.7888106 \\\\\n",
       "\t这个系统在工作中非常有用 & 10         & 0.4969302  & 0.4722498  & 0.4722498  & 0.35665328 & 3.5        & 0.8498366 \\\\\n",
       "\t我发现这个系统很容易使用 & 10         & 0.8320942  & 0.8233085  & 0.8233085  & 0.76924424 & 3.6        & 0.8432740 \\\\\n",
       "\\end{tabular}\n"
      ],
      "text/markdown": [
       "\n",
       "| <!--/--> | n | raw.r | std.r | r.cor | r.drop | mean | sd | \n",
       "|---|---|---|---|---|---|---|---|---|---|---|---|\n",
       "| 我愿意频繁使用这个系统 | 10         | 0.7293665  | 0.6947224  | 0.6947224  | 0.63678566 | 3.6        | 0.8432740  | \n",
       "| 我认为这个系统是简单的 | 10         | 0.5253787  | 0.5317937  | 0.5317937  | 0.40917746 | 4.1        | 0.7378648  | \n",
       "| 我认为这个系统用起来很容易 | 10         | 0.5522509  | 0.5652953  | 0.5652953  | 0.45189040 | 4.0        | 0.6666667  | \n",
       "| 我认为我不需要技术人员的帮助就能使用这个系统 | 10         | 0.3835167  | 0.4213398  | 0.4213398  | 0.27122799 | 3.8        | 0.6324555  | \n",
       "| 我认为系统里的各项功能整合良好 | 10         | 0.8136049  | 0.7752841  | 0.7752841  | 0.72515761 | 3.2        | 1.0327956  | \n",
       "| 我认为系统的交互具有良好的一致性 | 10         | 0.1734519  | 0.1752751  | 0.1752751  | 0.03771348 | 3.4        | 0.6992059  | \n",
       "| 我想大多数人都能很快学会使用这个系统 | 10         | 0.6780027  | 0.7017708  | 0.7017708  | 0.61631563 | 4.5        | 0.5270463  | \n",
       "| 这个系统的交互方式很直观 | 10         | 0.5840802  | 0.5993886  | 0.5993886  | 0.47677946 | 4.1        | 0.7378648  | \n",
       "| 我对使用这个系统感到有信心 | 10         | 0.7210747  | 0.7271401  | 0.7271401  | 0.66106673 | 4.1        | 0.5676462  | \n",
       "| 在使用这个系统前我不需要学习任何的新知识 | 10         | 0.2965154  | 0.3178610  | 0.3178610  | 0.14784664 | 4.2        | 0.7888106  | \n",
       "| 这个系统在工作中非常有用 | 10         | 0.4969302  | 0.4722498  | 0.4722498  | 0.35665328 | 3.5        | 0.8498366  | \n",
       "| 我发现这个系统很容易使用 | 10         | 0.8320942  | 0.8233085  | 0.8233085  | 0.76924424 | 3.6        | 0.8432740  | \n",
       "\n",
       "\n"
      ],
      "text/plain": [
       "                                             n  raw.r     std.r     r.cor    \n",
       "我愿意频繁使用这个系统                       10 0.7293665 0.6947224 0.6947224\n",
       "我认为这个系统是简单的                       10 0.5253787 0.5317937 0.5317937\n",
       "我认为这个系统用起来很容易                   10 0.5522509 0.5652953 0.5652953\n",
       "我认为我不需要技术人员的帮助就能使用这个系统 10 0.3835167 0.4213398 0.4213398\n",
       "我认为系统里的各项功能整合良好               10 0.8136049 0.7752841 0.7752841\n",
       "我认为系统的交互具有良好的一致性             10 0.1734519 0.1752751 0.1752751\n",
       "我想大多数人都能很快学会使用这个系统         10 0.6780027 0.7017708 0.7017708\n",
       "这个系统的交互方式很直观                     10 0.5840802 0.5993886 0.5993886\n",
       "我对使用这个系统感到有信心                   10 0.7210747 0.7271401 0.7271401\n",
       "在使用这个系统前我不需要学习任何的新知识     10 0.2965154 0.3178610 0.3178610\n",
       "这个系统在工作中非常有用                     10 0.4969302 0.4722498 0.4722498\n",
       "我发现这个系统很容易使用                     10 0.8320942 0.8233085 0.8233085\n",
       "                                             r.drop     mean sd       \n",
       "我愿意频繁使用这个系统                       0.63678566 3.6  0.8432740\n",
       "我认为这个系统是简单的                       0.40917746 4.1  0.7378648\n",
       "我认为这个系统用起来很容易                   0.45189040 4.0  0.6666667\n",
       "我认为我不需要技术人员的帮助就能使用这个系统 0.27122799 3.8  0.6324555\n",
       "我认为系统里的各项功能整合良好               0.72515761 3.2  1.0327956\n",
       "我认为系统的交互具有良好的一致性             0.03771348 3.4  0.6992059\n",
       "我想大多数人都能很快学会使用这个系统         0.61631563 4.5  0.5270463\n",
       "这个系统的交互方式很直观                     0.47677946 4.1  0.7378648\n",
       "我对使用这个系统感到有信心                   0.66106673 4.1  0.5676462\n",
       "在使用这个系统前我不需要学习任何的新知识     0.14784664 4.2  0.7888106\n",
       "这个系统在工作中非常有用                     0.35665328 3.5  0.8498366\n",
       "我发现这个系统很容易使用                     0.76924424 3.6  0.8432740"
      ]
     },
     "metadata": {},
     "output_type": "display_data"
    }
   ],
   "source": [
    "result$item.stats #result[3]"
   ]
  },
  {
   "cell_type": "code",
   "execution_count": 43,
   "metadata": {},
   "outputs": [
    {
     "data": {
      "text/html": [
       "<table>\n",
       "<thead><tr><th></th><th scope=col>1</th><th scope=col>2</th><th scope=col>3</th><th scope=col>4</th><th scope=col>5</th><th scope=col>miss</th></tr></thead>\n",
       "<tbody>\n",
       "\t<tr><th scope=row>我愿意频繁使用这个系统</th><td>0.0</td><td>0.1</td><td>0.3</td><td>0.5</td><td>0.1</td><td>0  </td></tr>\n",
       "\t<tr><th scope=row>我认为这个系统是简单的</th><td>0.0</td><td>0.0</td><td>0.2</td><td>0.5</td><td>0.3</td><td>0  </td></tr>\n",
       "\t<tr><th scope=row>我认为这个系统用起来很容易</th><td>0.0</td><td>0.0</td><td>0.2</td><td>0.6</td><td>0.2</td><td>0  </td></tr>\n",
       "\t<tr><th scope=row>我认为我不需要技术人员的帮助就能使用这个系统</th><td>0.0</td><td>0.0</td><td>0.3</td><td>0.6</td><td>0.1</td><td>0  </td></tr>\n",
       "\t<tr><th scope=row>我认为系统里的各项功能整合良好</th><td>0.1</td><td>0.1</td><td>0.3</td><td>0.5</td><td>0.0</td><td>0  </td></tr>\n",
       "\t<tr><th scope=row>我认为系统的交互具有良好的一致性</th><td>0.0</td><td>0.1</td><td>0.4</td><td>0.5</td><td>0.0</td><td>0  </td></tr>\n",
       "\t<tr><th scope=row>我想大多数人都能很快学会使用这个系统</th><td>0.0</td><td>0.0</td><td>0.0</td><td>0.5</td><td>0.5</td><td>0  </td></tr>\n",
       "\t<tr><th scope=row>这个系统的交互方式很直观</th><td>0.0</td><td>0.0</td><td>0.2</td><td>0.5</td><td>0.3</td><td>0  </td></tr>\n",
       "\t<tr><th scope=row>我对使用这个系统感到有信心</th><td>0.0</td><td>0.0</td><td>0.1</td><td>0.7</td><td>0.2</td><td>0  </td></tr>\n",
       "\t<tr><th scope=row>在使用这个系统前我不需要学习任何的新知识</th><td>0.0</td><td>0.0</td><td>0.2</td><td>0.4</td><td>0.4</td><td>0  </td></tr>\n",
       "\t<tr><th scope=row>这个系统在工作中非常有用</th><td>0.0</td><td>0.1</td><td>0.4</td><td>0.4</td><td>0.1</td><td>0  </td></tr>\n",
       "\t<tr><th scope=row>我发现这个系统很容易使用</th><td>0.0</td><td>0.1</td><td>0.3</td><td>0.5</td><td>0.1</td><td>0  </td></tr>\n",
       "</tbody>\n",
       "</table>\n"
      ],
      "text/latex": [
       "\\begin{tabular}{r|llllll}\n",
       "  & 1 & 2 & 3 & 4 & 5 & miss\\\\\n",
       "\\hline\n",
       "\t我愿意频繁使用这个系统 & 0.0 & 0.1 & 0.3 & 0.5 & 0.1 & 0  \\\\\n",
       "\t我认为这个系统是简单的 & 0.0 & 0.0 & 0.2 & 0.5 & 0.3 & 0  \\\\\n",
       "\t我认为这个系统用起来很容易 & 0.0 & 0.0 & 0.2 & 0.6 & 0.2 & 0  \\\\\n",
       "\t我认为我不需要技术人员的帮助就能使用这个系统 & 0.0 & 0.0 & 0.3 & 0.6 & 0.1 & 0  \\\\\n",
       "\t我认为系统里的各项功能整合良好 & 0.1 & 0.1 & 0.3 & 0.5 & 0.0 & 0  \\\\\n",
       "\t我认为系统的交互具有良好的一致性 & 0.0 & 0.1 & 0.4 & 0.5 & 0.0 & 0  \\\\\n",
       "\t我想大多数人都能很快学会使用这个系统 & 0.0 & 0.0 & 0.0 & 0.5 & 0.5 & 0  \\\\\n",
       "\t这个系统的交互方式很直观 & 0.0 & 0.0 & 0.2 & 0.5 & 0.3 & 0  \\\\\n",
       "\t我对使用这个系统感到有信心 & 0.0 & 0.0 & 0.1 & 0.7 & 0.2 & 0  \\\\\n",
       "\t在使用这个系统前我不需要学习任何的新知识 & 0.0 & 0.0 & 0.2 & 0.4 & 0.4 & 0  \\\\\n",
       "\t这个系统在工作中非常有用 & 0.0 & 0.1 & 0.4 & 0.4 & 0.1 & 0  \\\\\n",
       "\t我发现这个系统很容易使用 & 0.0 & 0.1 & 0.3 & 0.5 & 0.1 & 0  \\\\\n",
       "\\end{tabular}\n"
      ],
      "text/markdown": [
       "\n",
       "| <!--/--> | 1 | 2 | 3 | 4 | 5 | miss | \n",
       "|---|---|---|---|---|---|---|---|---|---|---|---|\n",
       "| 我愿意频繁使用这个系统 | 0.0 | 0.1 | 0.3 | 0.5 | 0.1 | 0   | \n",
       "| 我认为这个系统是简单的 | 0.0 | 0.0 | 0.2 | 0.5 | 0.3 | 0   | \n",
       "| 我认为这个系统用起来很容易 | 0.0 | 0.0 | 0.2 | 0.6 | 0.2 | 0   | \n",
       "| 我认为我不需要技术人员的帮助就能使用这个系统 | 0.0 | 0.0 | 0.3 | 0.6 | 0.1 | 0   | \n",
       "| 我认为系统里的各项功能整合良好 | 0.1 | 0.1 | 0.3 | 0.5 | 0.0 | 0   | \n",
       "| 我认为系统的交互具有良好的一致性 | 0.0 | 0.1 | 0.4 | 0.5 | 0.0 | 0   | \n",
       "| 我想大多数人都能很快学会使用这个系统 | 0.0 | 0.0 | 0.0 | 0.5 | 0.5 | 0   | \n",
       "| 这个系统的交互方式很直观 | 0.0 | 0.0 | 0.2 | 0.5 | 0.3 | 0   | \n",
       "| 我对使用这个系统感到有信心 | 0.0 | 0.0 | 0.1 | 0.7 | 0.2 | 0   | \n",
       "| 在使用这个系统前我不需要学习任何的新知识 | 0.0 | 0.0 | 0.2 | 0.4 | 0.4 | 0   | \n",
       "| 这个系统在工作中非常有用 | 0.0 | 0.1 | 0.4 | 0.4 | 0.1 | 0   | \n",
       "| 我发现这个系统很容易使用 | 0.0 | 0.1 | 0.3 | 0.5 | 0.1 | 0   | \n",
       "\n",
       "\n"
      ],
      "text/plain": [
       "                                             1   2   3   4   5   miss\n",
       "我愿意频繁使用这个系统                       0.0 0.1 0.3 0.5 0.1 0   \n",
       "我认为这个系统是简单的                       0.0 0.0 0.2 0.5 0.3 0   \n",
       "我认为这个系统用起来很容易                   0.0 0.0 0.2 0.6 0.2 0   \n",
       "我认为我不需要技术人员的帮助就能使用这个系统 0.0 0.0 0.3 0.6 0.1 0   \n",
       "我认为系统里的各项功能整合良好               0.1 0.1 0.3 0.5 0.0 0   \n",
       "我认为系统的交互具有良好的一致性             0.0 0.1 0.4 0.5 0.0 0   \n",
       "我想大多数人都能很快学会使用这个系统         0.0 0.0 0.0 0.5 0.5 0   \n",
       "这个系统的交互方式很直观                     0.0 0.0 0.2 0.5 0.3 0   \n",
       "我对使用这个系统感到有信心                   0.0 0.0 0.1 0.7 0.2 0   \n",
       "在使用这个系统前我不需要学习任何的新知识     0.0 0.0 0.2 0.4 0.4 0   \n",
       "这个系统在工作中非常有用                     0.0 0.1 0.4 0.4 0.1 0   \n",
       "我发现这个系统很容易使用                     0.0 0.1 0.3 0.5 0.1 0   "
      ]
     },
     "metadata": {},
     "output_type": "display_data"
    }
   ],
   "source": [
    "result$response.freq #result[4]"
   ]
  },
  {
   "cell_type": "markdown",
   "metadata": {
    "toc-hr-collapsed": true
   },
   "source": [
    "## 计算行为数据"
   ]
  },
  {
   "cell_type": "code",
   "execution_count": 14,
   "metadata": {},
   "outputs": [
    {
     "name": "stderr",
     "output_type": "stream",
     "text": [
      "\n",
      "Attaching package: ‘ggplot2’\n",
      "\n",
      "The following objects are masked from ‘package:psych’:\n",
      "\n",
      "    %+%, alpha\n",
      "\n",
      "Loading required package: lattice\n",
      "Loading required package: plyr\n"
     ]
    }
   ],
   "source": [
    "library(ggplot2)\n",
    "library(Rmisc)"
   ]
  },
  {
   "cell_type": "code",
   "execution_count": 15,
   "metadata": {},
   "outputs": [
    {
     "data": {
      "text/html": [
       "<table>\n",
       "<thead><tr><th scope=col>sub</th><th scope=col>trial</th><th scope=col>web</th><th scope=col>time</th><th scope=col>control</th><th scope=col>blink</th><th scope=col>fix</th><th scope=col>med_dur</th><th scope=col>med_sac</th></tr></thead>\n",
       "<tbody>\n",
       "\t<tr><td> 3  </td><td>c   </td><td>t   </td><td> 47 </td><td>18  </td><td>17  </td><td>134 </td><td>248 </td><td>2.16</td></tr>\n",
       "\t<tr><td> 2  </td><td>r   </td><td>j   </td><td> 43 </td><td>11  </td><td> 5  </td><td>124 </td><td>238 </td><td>1.96</td></tr>\n",
       "\t<tr><td> 9  </td><td>c   </td><td>j   </td><td> 52 </td><td>12  </td><td>56  </td><td>347 </td><td>216 </td><td>2.13</td></tr>\n",
       "\t<tr><td>10  </td><td>r   </td><td>j   </td><td> 37 </td><td>19  </td><td> 6  </td><td>109 </td><td>252 </td><td>2.75</td></tr>\n",
       "\t<tr><td> 8  </td><td>r   </td><td>t   </td><td> 31 </td><td>13  </td><td> 5  </td><td> 79 </td><td>232 </td><td>3.13</td></tr>\n",
       "\t<tr><td> 1  </td><td>c   </td><td>t   </td><td>108 </td><td>27  </td><td>11  </td><td>190 </td><td>202 </td><td>3.34</td></tr>\n",
       "</tbody>\n",
       "</table>\n"
      ],
      "text/latex": [
       "\\begin{tabular}{r|lllllllll}\n",
       " sub & trial & web & time & control & blink & fix & med\\_dur & med\\_sac\\\\\n",
       "\\hline\n",
       "\t  3   & c    & t    &  47  & 18   & 17   & 134  & 248  & 2.16\\\\\n",
       "\t  2   & r    & j    &  43  & 11   &  5   & 124  & 238  & 1.96\\\\\n",
       "\t  9   & c    & j    &  52  & 12   & 56   & 347  & 216  & 2.13\\\\\n",
       "\t 10   & r    & j    &  37  & 19   &  6   & 109  & 252  & 2.75\\\\\n",
       "\t  8   & r    & t    &  31  & 13   &  5   &  79  & 232  & 3.13\\\\\n",
       "\t  1   & c    & t    & 108  & 27   & 11   & 190  & 202  & 3.34\\\\\n",
       "\\end{tabular}\n"
      ],
      "text/markdown": [
       "\n",
       "sub | trial | web | time | control | blink | fix | med_dur | med_sac | \n",
       "|---|---|---|---|---|---|\n",
       "|  3   | c    | t    |  47  | 18   | 17   | 134  | 248  | 2.16 | \n",
       "|  2   | r    | j    |  43  | 11   |  5   | 124  | 238  | 1.96 | \n",
       "|  9   | c    | j    |  52  | 12   | 56   | 347  | 216  | 2.13 | \n",
       "| 10   | r    | j    |  37  | 19   |  6   | 109  | 252  | 2.75 | \n",
       "|  8   | r    | t    |  31  | 13   |  5   |  79  | 232  | 3.13 | \n",
       "|  1   | c    | t    | 108  | 27   | 11   | 190  | 202  | 3.34 | \n",
       "\n",
       "\n"
      ],
      "text/plain": [
       "  sub trial web time control blink fix med_dur med_sac\n",
       "1  3  c     t    47  18      17    134 248     2.16   \n",
       "2  2  r     j    43  11       5    124 238     1.96   \n",
       "3  9  c     j    52  12      56    347 216     2.13   \n",
       "4 10  r     j    37  19       6    109 252     2.75   \n",
       "5  8  r     t    31  13       5     79 232     3.13   \n",
       "6  1  c     t   108  27      11    190 202     3.34   "
      ]
     },
     "metadata": {},
     "output_type": "display_data"
    }
   ],
   "source": [
    "stat = read.csv('behavior2.csv')\n",
    "head(stat)"
   ]
  },
  {
   "cell_type": "markdown",
   "metadata": {},
   "source": [
    "### 时长"
   ]
  },
  {
   "cell_type": "code",
   "execution_count": 16,
   "metadata": {},
   "outputs": [
    {
     "data": {
      "text/html": [
       "<table>\n",
       "<thead><tr><th scope=col>Group.1</th><th scope=col>Group.2</th><th scope=col>x</th></tr></thead>\n",
       "<tbody>\n",
       "\t<tr><td>c   </td><td>j   </td><td>58.5</td></tr>\n",
       "\t<tr><td>r   </td><td>j   </td><td>42.6</td></tr>\n",
       "\t<tr><td>c   </td><td>t   </td><td>54.5</td></tr>\n",
       "\t<tr><td>r   </td><td>t   </td><td>35.1</td></tr>\n",
       "</tbody>\n",
       "</table>\n"
      ],
      "text/latex": [
       "\\begin{tabular}{r|lll}\n",
       " Group.1 & Group.2 & x\\\\\n",
       "\\hline\n",
       "\t c    & j    & 58.5\\\\\n",
       "\t r    & j    & 42.6\\\\\n",
       "\t c    & t    & 54.5\\\\\n",
       "\t r    & t    & 35.1\\\\\n",
       "\\end{tabular}\n"
      ],
      "text/markdown": [
       "\n",
       "Group.1 | Group.2 | x | \n",
       "|---|---|---|---|\n",
       "| c    | j    | 58.5 | \n",
       "| r    | j    | 42.6 | \n",
       "| c    | t    | 54.5 | \n",
       "| r    | t    | 35.1 | \n",
       "\n",
       "\n"
      ],
      "text/plain": [
       "  Group.1 Group.2 x   \n",
       "1 c       j       58.5\n",
       "2 r       j       42.6\n",
       "3 c       t       54.5\n",
       "4 r       t       35.1"
      ]
     },
     "metadata": {},
     "output_type": "display_data"
    },
    {
     "data": {
      "text/html": [
       "<table>\n",
       "<thead><tr><th scope=col>Group.1</th><th scope=col>Group.2</th><th scope=col>x</th></tr></thead>\n",
       "<tbody>\n",
       "\t<tr><td>c        </td><td>j        </td><td>23.329762</td></tr>\n",
       "\t<tr><td>r        </td><td>j        </td><td> 9.311880</td></tr>\n",
       "\t<tr><td>c        </td><td>t        </td><td>20.956304</td></tr>\n",
       "\t<tr><td>r        </td><td>t        </td><td> 8.849984</td></tr>\n",
       "</tbody>\n",
       "</table>\n"
      ],
      "text/latex": [
       "\\begin{tabular}{r|lll}\n",
       " Group.1 & Group.2 & x\\\\\n",
       "\\hline\n",
       "\t c         & j         & 23.329762\\\\\n",
       "\t r         & j         &  9.311880\\\\\n",
       "\t c         & t         & 20.956304\\\\\n",
       "\t r         & t         &  8.849984\\\\\n",
       "\\end{tabular}\n"
      ],
      "text/markdown": [
       "\n",
       "Group.1 | Group.2 | x | \n",
       "|---|---|---|---|\n",
       "| c         | j         | 23.329762 | \n",
       "| r         | j         |  9.311880 | \n",
       "| c         | t         | 20.956304 | \n",
       "| r         | t         |  8.849984 | \n",
       "\n",
       "\n"
      ],
      "text/plain": [
       "  Group.1 Group.2 x        \n",
       "1 c       j       23.329762\n",
       "2 r       j        9.311880\n",
       "3 c       t       20.956304\n",
       "4 r       t        8.849984"
      ]
     },
     "metadata": {},
     "output_type": "display_data"
    },
    {
     "data": {
      "text/plain": [
       "            Df Sum Sq Mean Sq F value  Pr(>F)   \n",
       "trial        1   3115  3115.2  10.850 0.00222 **\n",
       "web          1    331   330.6   1.152 0.29037   \n",
       "trial:web    1     31    30.6   0.107 0.74587   \n",
       "Residuals   36  10336   287.1                   \n",
       "---\n",
       "Signif. codes:  0 ‘***’ 0.001 ‘**’ 0.01 ‘*’ 0.05 ‘.’ 0.1 ‘ ’ 1"
      ]
     },
     "metadata": {},
     "output_type": "display_data"
    }
   ],
   "source": [
    "attach(stat)\n",
    "aggregate(time,by=list(trial,web),FUN=mean)\n",
    "aggregate(time,by=list(trial,web),FUN=sd)\n",
    "stat.time_aov = aov(time ~ trial * web)\n",
    "detach(stat)\n",
    "summary(stat.time_aov)"
   ]
  },
  {
   "cell_type": "code",
   "execution_count": 17,
   "metadata": {},
   "outputs": [
    {
     "data": {
      "text/html": [
       "<table>\n",
       "<thead><tr><th scope=col>trial</th><th scope=col>web</th><th scope=col>N</th><th scope=col>time</th><th scope=col>sd</th><th scope=col>se</th><th scope=col>ci</th></tr></thead>\n",
       "<tbody>\n",
       "\t<tr><td>c        </td><td>j        </td><td>10       </td><td>58.5     </td><td>23.329762</td><td>7.377518 </td><td>16.689106</td></tr>\n",
       "\t<tr><td>c        </td><td>t        </td><td>10       </td><td>54.5     </td><td>20.956304</td><td>6.626965 </td><td>14.991237</td></tr>\n",
       "\t<tr><td>r        </td><td>j        </td><td>10       </td><td>42.6     </td><td> 9.311880</td><td>2.944675 </td><td> 6.661318</td></tr>\n",
       "\t<tr><td>r        </td><td>t        </td><td>10       </td><td>35.1     </td><td> 8.849984</td><td>2.798611 </td><td> 6.330897</td></tr>\n",
       "</tbody>\n",
       "</table>\n"
      ],
      "text/latex": [
       "\\begin{tabular}{r|lllllll}\n",
       " trial & web & N & time & sd & se & ci\\\\\n",
       "\\hline\n",
       "\t c         & j         & 10        & 58.5      & 23.329762 & 7.377518  & 16.689106\\\\\n",
       "\t c         & t         & 10        & 54.5      & 20.956304 & 6.626965  & 14.991237\\\\\n",
       "\t r         & j         & 10        & 42.6      &  9.311880 & 2.944675  &  6.661318\\\\\n",
       "\t r         & t         & 10        & 35.1      &  8.849984 & 2.798611  &  6.330897\\\\\n",
       "\\end{tabular}\n"
      ],
      "text/markdown": [
       "\n",
       "trial | web | N | time | sd | se | ci | \n",
       "|---|---|---|---|\n",
       "| c         | j         | 10        | 58.5      | 23.329762 | 7.377518  | 16.689106 | \n",
       "| c         | t         | 10        | 54.5      | 20.956304 | 6.626965  | 14.991237 | \n",
       "| r         | j         | 10        | 42.6      |  9.311880 | 2.944675  |  6.661318 | \n",
       "| r         | t         | 10        | 35.1      |  8.849984 | 2.798611  |  6.330897 | \n",
       "\n",
       "\n"
      ],
      "text/plain": [
       "  trial web N  time sd        se       ci       \n",
       "1 c     j   10 58.5 23.329762 7.377518 16.689106\n",
       "2 c     t   10 54.5 20.956304 6.626965 14.991237\n",
       "3 r     j   10 42.6  9.311880 2.944675  6.661318\n",
       "4 r     t   10 35.1  8.849984 2.798611  6.330897"
      ]
     },
     "metadata": {},
     "output_type": "display_data"
    }
   ],
   "source": [
    "tastk_time = summarySE(stat, measurevar=\"time\", groupvars=c(\"trial\",\"web\"))\n",
    "tastk_time"
   ]
  },
  {
   "cell_type": "code",
   "execution_count": 18,
   "metadata": {},
   "outputs": [
    {
     "name": "stderr",
     "output_type": "stream",
     "text": [
      "geom_path: Each group consists of only one observation. Do you need to adjust\n",
      "the group aesthetic?\n"
     ]
    },
    {
     "data": {},
     "metadata": {},
     "output_type": "display_data"
    },
    {
     "data": {
      "image/png": "[encoded data removed]",
      "text/plain": [
       "plot without title"
      ]
     },
     "metadata": {},
     "output_type": "display_data",
     "source": "R display func"
    }
   ],
   "source": [
    "pd <- position_dodge(0.1)\n",
    "ggplot(tastk_time, aes(x=trial, y=time, colour=web)) + \n",
    "    geom_errorbar(aes(ymin=time-ci, ymax=time+ci), width=.1, position=pd) +\n",
    "    geom_line(position=pd) +\n",
    "    geom_point(position=pd)"
   ]
  },
  {
   "cell_type": "markdown",
   "metadata": {},
   "source": [
    "### 操作"
   ]
  },
  {
   "cell_type": "code",
   "execution_count": 19,
   "metadata": {},
   "outputs": [
    {
     "data": {
      "text/html": [
       "<table>\n",
       "<thead><tr><th scope=col>Group.1</th><th scope=col>Group.2</th><th scope=col>x</th></tr></thead>\n",
       "<tbody>\n",
       "\t<tr><td>c   </td><td>j   </td><td>16.1</td></tr>\n",
       "\t<tr><td>r   </td><td>j   </td><td>15.0</td></tr>\n",
       "\t<tr><td>c   </td><td>t   </td><td>15.2</td></tr>\n",
       "\t<tr><td>r   </td><td>t   </td><td>12.0</td></tr>\n",
       "</tbody>\n",
       "</table>\n"
      ],
      "text/latex": [
       "\\begin{tabular}{r|lll}\n",
       " Group.1 & Group.2 & x\\\\\n",
       "\\hline\n",
       "\t c    & j    & 16.1\\\\\n",
       "\t r    & j    & 15.0\\\\\n",
       "\t c    & t    & 15.2\\\\\n",
       "\t r    & t    & 12.0\\\\\n",
       "\\end{tabular}\n"
      ],
      "text/markdown": [
       "\n",
       "Group.1 | Group.2 | x | \n",
       "|---|---|---|---|\n",
       "| c    | j    | 16.1 | \n",
       "| r    | j    | 15.0 | \n",
       "| c    | t    | 15.2 | \n",
       "| r    | t    | 12.0 | \n",
       "\n",
       "\n"
      ],
      "text/plain": [
       "  Group.1 Group.2 x   \n",
       "1 c       j       16.1\n",
       "2 r       j       15.0\n",
       "3 c       t       15.2\n",
       "4 r       t       12.0"
      ]
     },
     "metadata": {},
     "output_type": "display_data"
    },
    {
     "data": {
      "text/html": [
       "<table>\n",
       "<thead><tr><th scope=col>Group.1</th><th scope=col>Group.2</th><th scope=col>x</th></tr></thead>\n",
       "<tbody>\n",
       "\t<tr><td>c       </td><td>j       </td><td>5.279941</td></tr>\n",
       "\t<tr><td>r       </td><td>j       </td><td>3.091206</td></tr>\n",
       "\t<tr><td>c       </td><td>t       </td><td>5.633235</td></tr>\n",
       "\t<tr><td>r       </td><td>t       </td><td>1.943651</td></tr>\n",
       "</tbody>\n",
       "</table>\n"
      ],
      "text/latex": [
       "\\begin{tabular}{r|lll}\n",
       " Group.1 & Group.2 & x\\\\\n",
       "\\hline\n",
       "\t c        & j        & 5.279941\\\\\n",
       "\t r        & j        & 3.091206\\\\\n",
       "\t c        & t        & 5.633235\\\\\n",
       "\t r        & t        & 1.943651\\\\\n",
       "\\end{tabular}\n"
      ],
      "text/markdown": [
       "\n",
       "Group.1 | Group.2 | x | \n",
       "|---|---|---|---|\n",
       "| c        | j        | 5.279941 | \n",
       "| r        | j        | 3.091206 | \n",
       "| c        | t        | 5.633235 | \n",
       "| r        | t        | 1.943651 | \n",
       "\n",
       "\n"
      ],
      "text/plain": [
       "  Group.1 Group.2 x       \n",
       "1 c       j       5.279941\n",
       "2 r       j       3.091206\n",
       "3 c       t       5.633235\n",
       "4 r       t       1.943651"
      ]
     },
     "metadata": {},
     "output_type": "display_data"
    },
    {
     "data": {
      "text/plain": [
       "            Df Sum Sq Mean Sq F value Pr(>F)\n",
       "trial        1   46.2   46.22   2.535  0.120\n",
       "web          1   38.0   38.03   2.085  0.157\n",
       "trial:web    1   11.0   11.03   0.605  0.442\n",
       "Residuals   36  656.5   18.24               "
      ]
     },
     "metadata": {},
     "output_type": "display_data"
    }
   ],
   "source": [
    "attach(stat)\n",
    "aggregate(control,by=list(trial,web),FUN=mean)\n",
    "aggregate(control,by=list(trial,web),FUN=sd)\n",
    "stat.control_aov = aov(control ~ trial * web)\n",
    "detach(stat)\n",
    "summary(stat.control_aov)"
   ]
  },
  {
   "cell_type": "code",
   "execution_count": 20,
   "metadata": {},
   "outputs": [
    {
     "data": {
      "text/html": [
       "<table>\n",
       "<thead><tr><th scope=col>trial</th><th scope=col>web</th><th scope=col>N</th><th scope=col>control</th><th scope=col>sd</th><th scope=col>se</th><th scope=col>ci</th></tr></thead>\n",
       "<tbody>\n",
       "\t<tr><td>c        </td><td>j        </td><td>10       </td><td>16.1     </td><td>5.279941 </td><td>1.6696640</td><td>3.777042 </td></tr>\n",
       "\t<tr><td>c        </td><td>t        </td><td>10       </td><td>15.2     </td><td>5.633235 </td><td>1.7813852</td><td>4.029773 </td></tr>\n",
       "\t<tr><td>r        </td><td>j        </td><td>10       </td><td>15.0     </td><td>3.091206 </td><td>0.9775252</td><td>2.211316 </td></tr>\n",
       "\t<tr><td>r        </td><td>t        </td><td>10       </td><td>12.0     </td><td>1.943651 </td><td>0.6146363</td><td>1.390404 </td></tr>\n",
       "</tbody>\n",
       "</table>\n"
      ],
      "text/latex": [
       "\\begin{tabular}{r|lllllll}\n",
       " trial & web & N & control & sd & se & ci\\\\\n",
       "\\hline\n",
       "\t c         & j         & 10        & 16.1      & 5.279941  & 1.6696640 & 3.777042 \\\\\n",
       "\t c         & t         & 10        & 15.2      & 5.633235  & 1.7813852 & 4.029773 \\\\\n",
       "\t r         & j         & 10        & 15.0      & 3.091206  & 0.9775252 & 2.211316 \\\\\n",
       "\t r         & t         & 10        & 12.0      & 1.943651  & 0.6146363 & 1.390404 \\\\\n",
       "\\end{tabular}\n"
      ],
      "text/markdown": [
       "\n",
       "trial | web | N | control | sd | se | ci | \n",
       "|---|---|---|---|\n",
       "| c         | j         | 10        | 16.1      | 5.279941  | 1.6696640 | 3.777042  | \n",
       "| c         | t         | 10        | 15.2      | 5.633235  | 1.7813852 | 4.029773  | \n",
       "| r         | j         | 10        | 15.0      | 3.091206  | 0.9775252 | 2.211316  | \n",
       "| r         | t         | 10        | 12.0      | 1.943651  | 0.6146363 | 1.390404  | \n",
       "\n",
       "\n"
      ],
      "text/plain": [
       "  trial web N  control sd       se        ci      \n",
       "1 c     j   10 16.1    5.279941 1.6696640 3.777042\n",
       "2 c     t   10 15.2    5.633235 1.7813852 4.029773\n",
       "3 r     j   10 15.0    3.091206 0.9775252 2.211316\n",
       "4 r     t   10 12.0    1.943651 0.6146363 1.390404"
      ]
     },
     "metadata": {},
     "output_type": "display_data"
    }
   ],
   "source": [
    "tastk_control = summarySE(stat, measurevar=\"control\", groupvars=c(\"trial\",\"web\"))\n",
    "tastk_control"
   ]
  },
  {
   "cell_type": "code",
   "execution_count": 21,
   "metadata": {},
   "outputs": [
    {
     "name": "stderr",
     "output_type": "stream",
     "text": [
      "geom_path: Each group consists of only one observation. Do you need to adjust\n",
      "the group aesthetic?\n"
     ]
    },
    {
     "data": {},
     "metadata": {},
     "output_type": "display_data"
    },
    {
     "data": {
      "image/png": "[encoded data removed]",
      "text/plain": [
       "plot without title"
      ]
     },
     "metadata": {},
     "output_type": "display_data",
     "source": "R display func"
    }
   ],
   "source": [
    "pd <- position_dodge(0.1)\n",
    "ggplot(tastk_control, aes(x=trial, y=control, colour=web)) + \n",
    "    geom_errorbar(aes(ymin=control-ci, ymax=control+ci), width=.1, position=pd) +\n",
    "    geom_line(position=pd) +\n",
    "    geom_point(position=pd)"
   ]
  },
  {
   "cell_type": "markdown",
   "metadata": {
    "toc-hr-collapsed": true
   },
   "source": [
    "## 计算眼动数据"
   ]
  },
  {
   "cell_type": "markdown",
   "metadata": {},
   "source": [
    "### 注视次数"
   ]
  },
  {
   "cell_type": "code",
   "execution_count": 22,
   "metadata": {},
   "outputs": [
    {
     "data": {
      "text/html": [
       "<table>\n",
       "<thead><tr><th scope=col>Group.1</th><th scope=col>Group.2</th><th scope=col>x</th></tr></thead>\n",
       "<tbody>\n",
       "\t<tr><td>c    </td><td>j    </td><td>195.7</td></tr>\n",
       "\t<tr><td>r    </td><td>j    </td><td>111.3</td></tr>\n",
       "\t<tr><td>c    </td><td>t    </td><td>175.7</td></tr>\n",
       "\t<tr><td>r    </td><td>t    </td><td> 90.8</td></tr>\n",
       "</tbody>\n",
       "</table>\n"
      ],
      "text/latex": [
       "\\begin{tabular}{r|lll}\n",
       " Group.1 & Group.2 & x\\\\\n",
       "\\hline\n",
       "\t c     & j     & 195.7\\\\\n",
       "\t r     & j     & 111.3\\\\\n",
       "\t c     & t     & 175.7\\\\\n",
       "\t r     & t     &  90.8\\\\\n",
       "\\end{tabular}\n"
      ],
      "text/markdown": [
       "\n",
       "Group.1 | Group.2 | x | \n",
       "|---|---|---|---|\n",
       "| c     | j     | 195.7 | \n",
       "| r     | j     | 111.3 | \n",
       "| c     | t     | 175.7 | \n",
       "| r     | t     |  90.8 | \n",
       "\n",
       "\n"
      ],
      "text/plain": [
       "  Group.1 Group.2 x    \n",
       "1 c       j       195.7\n",
       "2 r       j       111.3\n",
       "3 c       t       175.7\n",
       "4 r       t        90.8"
      ]
     },
     "metadata": {},
     "output_type": "display_data"
    },
    {
     "data": {
      "text/html": [
       "<table>\n",
       "<thead><tr><th scope=col>Group.1</th><th scope=col>Group.2</th><th scope=col>x</th></tr></thead>\n",
       "<tbody>\n",
       "\t<tr><td>c       </td><td>j       </td><td>58.77084</td></tr>\n",
       "\t<tr><td>r       </td><td>j       </td><td>22.00025</td></tr>\n",
       "\t<tr><td>c       </td><td>t       </td><td>73.27733</td></tr>\n",
       "\t<tr><td>r       </td><td>t       </td><td>26.16104</td></tr>\n",
       "</tbody>\n",
       "</table>\n"
      ],
      "text/latex": [
       "\\begin{tabular}{r|lll}\n",
       " Group.1 & Group.2 & x\\\\\n",
       "\\hline\n",
       "\t c        & j        & 58.77084\\\\\n",
       "\t r        & j        & 22.00025\\\\\n",
       "\t c        & t        & 73.27733\\\\\n",
       "\t r        & t        & 26.16104\\\\\n",
       "\\end{tabular}\n"
      ],
      "text/markdown": [
       "\n",
       "Group.1 | Group.2 | x | \n",
       "|---|---|---|---|\n",
       "| c        | j        | 58.77084 | \n",
       "| r        | j        | 22.00025 | \n",
       "| c        | t        | 73.27733 | \n",
       "| r        | t        | 26.16104 | \n",
       "\n",
       "\n"
      ],
      "text/plain": [
       "  Group.1 Group.2 x       \n",
       "1 c       j       58.77084\n",
       "2 r       j       22.00025\n",
       "3 c       t       73.27733\n",
       "4 r       t       26.16104"
      ]
     },
     "metadata": {},
     "output_type": "display_data"
    },
    {
     "data": {
      "text/plain": [
       "            Df Sum Sq Mean Sq F value   Pr(>F)    \n",
       "trial        1  71656   71656  28.685 5.05e-06 ***\n",
       "web          1   4101    4101   1.642    0.208    \n",
       "trial:web    1      1       1   0.000    0.987    \n",
       "Residuals   36  89928    2498                     \n",
       "---\n",
       "Signif. codes:  0 ‘***’ 0.001 ‘**’ 0.01 ‘*’ 0.05 ‘.’ 0.1 ‘ ’ 1"
      ]
     },
     "metadata": {},
     "output_type": "display_data"
    }
   ],
   "source": [
    "attach(stat)\n",
    "aggregate(fix,by=list(trial,web),FUN=mean)\n",
    "aggregate(fix,,by=list(trial,web),FUN=sd)\n",
    "stat.fix_aov = aov(fix ~ trial * web)\n",
    "detach(stat)\n",
    "summary(stat.fix_aov)"
   ]
  },
  {
   "cell_type": "code",
   "execution_count": 23,
   "metadata": {},
   "outputs": [
    {
     "data": {
      "text/html": [
       "<table>\n",
       "<thead><tr><th scope=col>trial</th><th scope=col>web</th><th scope=col>N</th><th scope=col>fix</th><th scope=col>sd</th><th scope=col>se</th><th scope=col>ci</th></tr></thead>\n",
       "<tbody>\n",
       "\t<tr><td>c        </td><td>j        </td><td>10       </td><td>195.7    </td><td>58.77084 </td><td>18.584970</td><td>42.04212 </td></tr>\n",
       "\t<tr><td>c        </td><td>t        </td><td>10       </td><td>175.7    </td><td>73.27733 </td><td>23.172325</td><td>52.41944 </td></tr>\n",
       "\t<tr><td>r        </td><td>j        </td><td>10       </td><td>111.3    </td><td>22.00025 </td><td> 6.957091</td><td>15.73803 </td></tr>\n",
       "\t<tr><td>r        </td><td>t        </td><td>10       </td><td> 90.8    </td><td>26.16104 </td><td> 8.272847</td><td>18.71448 </td></tr>\n",
       "</tbody>\n",
       "</table>\n"
      ],
      "text/latex": [
       "\\begin{tabular}{r|lllllll}\n",
       " trial & web & N & fix & sd & se & ci\\\\\n",
       "\\hline\n",
       "\t c         & j         & 10        & 195.7     & 58.77084  & 18.584970 & 42.04212 \\\\\n",
       "\t c         & t         & 10        & 175.7     & 73.27733  & 23.172325 & 52.41944 \\\\\n",
       "\t r         & j         & 10        & 111.3     & 22.00025  &  6.957091 & 15.73803 \\\\\n",
       "\t r         & t         & 10        &  90.8     & 26.16104  &  8.272847 & 18.71448 \\\\\n",
       "\\end{tabular}\n"
      ],
      "text/markdown": [
       "\n",
       "trial | web | N | fix | sd | se | ci | \n",
       "|---|---|---|---|\n",
       "| c         | j         | 10        | 195.7     | 58.77084  | 18.584970 | 42.04212  | \n",
       "| c         | t         | 10        | 175.7     | 73.27733  | 23.172325 | 52.41944  | \n",
       "| r         | j         | 10        | 111.3     | 22.00025  |  6.957091 | 15.73803  | \n",
       "| r         | t         | 10        |  90.8     | 26.16104  |  8.272847 | 18.71448  | \n",
       "\n",
       "\n"
      ],
      "text/plain": [
       "  trial web N  fix   sd       se        ci      \n",
       "1 c     j   10 195.7 58.77084 18.584970 42.04212\n",
       "2 c     t   10 175.7 73.27733 23.172325 52.41944\n",
       "3 r     j   10 111.3 22.00025  6.957091 15.73803\n",
       "4 r     t   10  90.8 26.16104  8.272847 18.71448"
      ]
     },
     "metadata": {},
     "output_type": "display_data"
    }
   ],
   "source": [
    "task_fix = summarySE(stat, measurevar=\"fix\", groupvars=c(\"trial\",\"web\"))\n",
    "task_fix"
   ]
  },
  {
   "cell_type": "code",
   "execution_count": 24,
   "metadata": {},
   "outputs": [
    {
     "name": "stderr",
     "output_type": "stream",
     "text": [
      "geom_path: Each group consists of only one observation. Do you need to adjust\n",
      "the group aesthetic?\n"
     ]
    },
    {
     "data": {},
     "metadata": {},
     "output_type": "display_data"
    },
    {
     "data": {
      "image/png": "[encoded data removed]",
      "text/plain": [
       "plot without title"
      ]
     },
     "metadata": {},
     "output_type": "display_data",
     "source": "R display func"
    }
   ],
   "source": [
    "pd <- position_dodge(0.1)\n",
    "ggplot(task_fix, aes(x=trial, y=fix, colour=web)) + \n",
    "    geom_errorbar(aes(ymin=fix-ci, ymax=fix+ci), width=.1, position=pd) +\n",
    "    geom_line(position=pd) +\n",
    "    geom_point(position=pd)"
   ]
  },
  {
   "cell_type": "markdown",
   "metadata": {},
   "source": [
    "### 眨眼"
   ]
  },
  {
   "cell_type": "code",
   "execution_count": 25,
   "metadata": {},
   "outputs": [
    {
     "data": {
      "text/html": [
       "<table>\n",
       "<thead><tr><th scope=col>Group.1</th><th scope=col>Group.2</th><th scope=col>x</th></tr></thead>\n",
       "<tbody>\n",
       "\t<tr><td>c   </td><td>j   </td><td>17.2</td></tr>\n",
       "\t<tr><td>r   </td><td>j   </td><td> 8.3</td></tr>\n",
       "\t<tr><td>c   </td><td>t   </td><td>14.0</td></tr>\n",
       "\t<tr><td>r   </td><td>t   </td><td> 6.2</td></tr>\n",
       "</tbody>\n",
       "</table>\n"
      ],
      "text/latex": [
       "\\begin{tabular}{r|lll}\n",
       " Group.1 & Group.2 & x\\\\\n",
       "\\hline\n",
       "\t c    & j    & 17.2\\\\\n",
       "\t r    & j    &  8.3\\\\\n",
       "\t c    & t    & 14.0\\\\\n",
       "\t r    & t    &  6.2\\\\\n",
       "\\end{tabular}\n"
      ],
      "text/markdown": [
       "\n",
       "Group.1 | Group.2 | x | \n",
       "|---|---|---|---|\n",
       "| c    | j    | 17.2 | \n",
       "| r    | j    |  8.3 | \n",
       "| c    | t    | 14.0 | \n",
       "| r    | t    |  6.2 | \n",
       "\n",
       "\n"
      ],
      "text/plain": [
       "  Group.1 Group.2 x   \n",
       "1 c       j       17.2\n",
       "2 r       j        8.3\n",
       "3 c       t       14.0\n",
       "4 r       t        6.2"
      ]
     },
     "metadata": {},
     "output_type": "display_data"
    },
    {
     "data": {
      "text/html": [
       "<table>\n",
       "<thead><tr><th scope=col>Group.1</th><th scope=col>Group.2</th><th scope=col>x</th></tr></thead>\n",
       "<tbody>\n",
       "\t<tr><td>c        </td><td>j        </td><td>14.558693</td></tr>\n",
       "\t<tr><td>r        </td><td>j        </td><td> 2.983287</td></tr>\n",
       "\t<tr><td>c        </td><td>t        </td><td> 9.977753</td></tr>\n",
       "\t<tr><td>r        </td><td>t        </td><td> 2.394438</td></tr>\n",
       "</tbody>\n",
       "</table>\n"
      ],
      "text/latex": [
       "\\begin{tabular}{r|lll}\n",
       " Group.1 & Group.2 & x\\\\\n",
       "\\hline\n",
       "\t c         & j         & 14.558693\\\\\n",
       "\t r         & j         &  2.983287\\\\\n",
       "\t c         & t         &  9.977753\\\\\n",
       "\t r         & t         &  2.394438\\\\\n",
       "\\end{tabular}\n"
      ],
      "text/markdown": [
       "\n",
       "Group.1 | Group.2 | x | \n",
       "|---|---|---|---|\n",
       "| c         | j         | 14.558693 | \n",
       "| r         | j         |  2.983287 | \n",
       "| c         | t         |  9.977753 | \n",
       "| r         | t         |  2.394438 | \n",
       "\n",
       "\n"
      ],
      "text/plain": [
       "  Group.1 Group.2 x        \n",
       "1 c       j       14.558693\n",
       "2 r       j        2.983287\n",
       "3 c       t        9.977753\n",
       "4 r       t        2.394438"
      ]
     },
     "metadata": {},
     "output_type": "display_data"
    },
    {
     "data": {
      "text/plain": [
       "            Df Sum Sq Mean Sq F value  Pr(>F)   \n",
       "trial        1  697.2   697.2   8.551 0.00594 **\n",
       "web          1   70.2    70.2   0.861 0.35956   \n",
       "trial:web    1    3.0     3.0   0.037 0.84834   \n",
       "Residuals   36 2935.3    81.5                   \n",
       "---\n",
       "Signif. codes:  0 ‘***’ 0.001 ‘**’ 0.01 ‘*’ 0.05 ‘.’ 0.1 ‘ ’ 1"
      ]
     },
     "metadata": {},
     "output_type": "display_data"
    }
   ],
   "source": [
    "attach(stat)\n",
    "aggregate(blink,by=list(trial,web),FUN=mean)\n",
    "aggregate(blink,by=list(trial,web),FUN=sd)\n",
    "stat.blink_aov = aov(blink ~ trial * web)\n",
    "detach(stat)\n",
    "summary(stat.blink_aov)"
   ]
  },
  {
   "cell_type": "code",
   "execution_count": 26,
   "metadata": {},
   "outputs": [
    {
     "data": {
      "text/html": [
       "<table>\n",
       "<thead><tr><th scope=col>trial</th><th scope=col>web</th><th scope=col>N</th><th scope=col>blink</th><th scope=col>sd</th><th scope=col>se</th><th scope=col>ci</th></tr></thead>\n",
       "<tbody>\n",
       "\t<tr><td>c        </td><td>j        </td><td>10       </td><td>17.2     </td><td>14.558693</td><td>4.6038631</td><td>10.414662</td></tr>\n",
       "\t<tr><td>c        </td><td>t        </td><td>10       </td><td>14.0     </td><td> 9.977753</td><td>3.1552426</td><td> 7.137655</td></tr>\n",
       "\t<tr><td>r        </td><td>j        </td><td>10       </td><td> 8.3     </td><td> 2.983287</td><td>0.9433981</td><td> 2.134115</td></tr>\n",
       "\t<tr><td>r        </td><td>t        </td><td>10       </td><td> 6.2     </td><td> 2.394438</td><td>0.7571878</td><td> 1.712878</td></tr>\n",
       "</tbody>\n",
       "</table>\n"
      ],
      "text/latex": [
       "\\begin{tabular}{r|lllllll}\n",
       " trial & web & N & blink & sd & se & ci\\\\\n",
       "\\hline\n",
       "\t c         & j         & 10        & 17.2      & 14.558693 & 4.6038631 & 10.414662\\\\\n",
       "\t c         & t         & 10        & 14.0      &  9.977753 & 3.1552426 &  7.137655\\\\\n",
       "\t r         & j         & 10        &  8.3      &  2.983287 & 0.9433981 &  2.134115\\\\\n",
       "\t r         & t         & 10        &  6.2      &  2.394438 & 0.7571878 &  1.712878\\\\\n",
       "\\end{tabular}\n"
      ],
      "text/markdown": [
       "\n",
       "trial | web | N | blink | sd | se | ci | \n",
       "|---|---|---|---|\n",
       "| c         | j         | 10        | 17.2      | 14.558693 | 4.6038631 | 10.414662 | \n",
       "| c         | t         | 10        | 14.0      |  9.977753 | 3.1552426 |  7.137655 | \n",
       "| r         | j         | 10        |  8.3      |  2.983287 | 0.9433981 |  2.134115 | \n",
       "| r         | t         | 10        |  6.2      |  2.394438 | 0.7571878 |  1.712878 | \n",
       "\n",
       "\n"
      ],
      "text/plain": [
       "  trial web N  blink sd        se        ci       \n",
       "1 c     j   10 17.2  14.558693 4.6038631 10.414662\n",
       "2 c     t   10 14.0   9.977753 3.1552426  7.137655\n",
       "3 r     j   10  8.3   2.983287 0.9433981  2.134115\n",
       "4 r     t   10  6.2   2.394438 0.7571878  1.712878"
      ]
     },
     "metadata": {},
     "output_type": "display_data"
    }
   ],
   "source": [
    "task_blink = summarySE(stat, measurevar=\"blink\", groupvars=c(\"trial\",\"web\"))\n",
    "task_blink"
   ]
  },
  {
   "cell_type": "code",
   "execution_count": 27,
   "metadata": {},
   "outputs": [
    {
     "name": "stderr",
     "output_type": "stream",
     "text": [
      "geom_path: Each group consists of only one observation. Do you need to adjust\n",
      "the group aesthetic?\n"
     ]
    },
    {
     "data": {},
     "metadata": {},
     "output_type": "display_data"
    },
    {
     "data": {
      "image/png": "[encoded data removed]",
      "text/plain": [
       "plot without title"
      ]
     },
     "metadata": {},
     "output_type": "display_data",
     "source": "R display func"
    }
   ],
   "source": [
    "pd <- position_dodge(0.1)\n",
    "ggplot(task_blink, aes(x=trial, y=blink, colour=web)) + \n",
    "    geom_errorbar(aes(ymin=blink-ci, ymax=blink+ci), width=.1, position=pd) +\n",
    "    geom_line(position=pd) +\n",
    "    geom_point(position=pd)"
   ]
  },
  {
   "cell_type": "markdown",
   "metadata": {},
   "source": [
    "### 注视时长"
   ]
  },
  {
   "cell_type": "code",
   "execution_count": 28,
   "metadata": {},
   "outputs": [
    {
     "data": {
      "text/html": [
       "<table>\n",
       "<thead><tr><th scope=col>Group.1</th><th scope=col>Group.2</th><th scope=col>x</th></tr></thead>\n",
       "<tbody>\n",
       "\t<tr><td>c    </td><td>j    </td><td>222.4</td></tr>\n",
       "\t<tr><td>r    </td><td>j    </td><td>246.8</td></tr>\n",
       "\t<tr><td>c    </td><td>t    </td><td>228.4</td></tr>\n",
       "\t<tr><td>r    </td><td>t    </td><td>248.4</td></tr>\n",
       "</tbody>\n",
       "</table>\n"
      ],
      "text/latex": [
       "\\begin{tabular}{r|lll}\n",
       " Group.1 & Group.2 & x\\\\\n",
       "\\hline\n",
       "\t c     & j     & 222.4\\\\\n",
       "\t r     & j     & 246.8\\\\\n",
       "\t c     & t     & 228.4\\\\\n",
       "\t r     & t     & 248.4\\\\\n",
       "\\end{tabular}\n"
      ],
      "text/markdown": [
       "\n",
       "Group.1 | Group.2 | x | \n",
       "|---|---|---|---|\n",
       "| c     | j     | 222.4 | \n",
       "| r     | j     | 246.8 | \n",
       "| c     | t     | 228.4 | \n",
       "| r     | t     | 248.4 | \n",
       "\n",
       "\n"
      ],
      "text/plain": [
       "  Group.1 Group.2 x    \n",
       "1 c       j       222.4\n",
       "2 r       j       246.8\n",
       "3 c       t       228.4\n",
       "4 r       t       248.4"
      ]
     },
     "metadata": {},
     "output_type": "display_data"
    },
    {
     "data": {
      "text/html": [
       "<table>\n",
       "<thead><tr><th scope=col>Group.1</th><th scope=col>Group.2</th><th scope=col>x</th></tr></thead>\n",
       "<tbody>\n",
       "\t<tr><td>c       </td><td>j       </td><td>20.08427</td></tr>\n",
       "\t<tr><td>r       </td><td>j       </td><td>24.73324</td></tr>\n",
       "\t<tr><td>c       </td><td>t       </td><td>32.98215</td></tr>\n",
       "\t<tr><td>r       </td><td>t       </td><td>25.08297</td></tr>\n",
       "</tbody>\n",
       "</table>\n"
      ],
      "text/latex": [
       "\\begin{tabular}{r|lll}\n",
       " Group.1 & Group.2 & x\\\\\n",
       "\\hline\n",
       "\t c        & j        & 20.08427\\\\\n",
       "\t r        & j        & 24.73324\\\\\n",
       "\t c        & t        & 32.98215\\\\\n",
       "\t r        & t        & 25.08297\\\\\n",
       "\\end{tabular}\n"
      ],
      "text/markdown": [
       "\n",
       "Group.1 | Group.2 | x | \n",
       "|---|---|---|---|\n",
       "| c        | j        | 20.08427 | \n",
       "| r        | j        | 24.73324 | \n",
       "| c        | t        | 32.98215 | \n",
       "| r        | t        | 25.08297 | \n",
       "\n",
       "\n"
      ],
      "text/plain": [
       "  Group.1 Group.2 x       \n",
       "1 c       j       20.08427\n",
       "2 r       j       24.73324\n",
       "3 c       t       32.98215\n",
       "4 r       t       25.08297"
      ]
     },
     "metadata": {},
     "output_type": "display_data"
    },
    {
     "data": {
      "text/plain": [
       "            Df Sum Sq Mean Sq F value Pr(>F)  \n",
       "trial        1   4928    4928   7.216 0.0109 *\n",
       "web          1    144     144   0.211 0.6484  \n",
       "trial:web    1     48      48   0.071 0.7916  \n",
       "Residuals   36  24589     683                 \n",
       "---\n",
       "Signif. codes:  0 ‘***’ 0.001 ‘**’ 0.01 ‘*’ 0.05 ‘.’ 0.1 ‘ ’ 1"
      ]
     },
     "metadata": {},
     "output_type": "display_data"
    }
   ],
   "source": [
    "attach(stat)\n",
    "aggregate(med_dur,by=list(trial,web),FUN=mean)\n",
    "aggregate(med_dur,by=list(trial,web),FUN=sd)\n",
    "stat.med_dur_aov = aov(med_dur ~ trial * web)\n",
    "detach(stat)\n",
    "summary(stat.med_dur_aov)"
   ]
  },
  {
   "cell_type": "code",
   "execution_count": 29,
   "metadata": {},
   "outputs": [
    {
     "data": {
      "text/html": [
       "<table>\n",
       "<thead><tr><th scope=col>trial</th><th scope=col>web</th><th scope=col>N</th><th scope=col>med_dur</th><th scope=col>sd</th><th scope=col>se</th><th scope=col>ci</th></tr></thead>\n",
       "<tbody>\n",
       "\t<tr><td>c        </td><td>j        </td><td>10       </td><td>222.4    </td><td>20.08427 </td><td> 6.351203</td><td>14.36742 </td></tr>\n",
       "\t<tr><td>c        </td><td>t        </td><td>10       </td><td>228.4    </td><td>32.98215 </td><td>10.429872</td><td>23.59401 </td></tr>\n",
       "\t<tr><td>r        </td><td>j        </td><td>10       </td><td>246.8    </td><td>24.73324 </td><td> 7.821338</td><td>17.69310 </td></tr>\n",
       "\t<tr><td>r        </td><td>t        </td><td>10       </td><td>248.4    </td><td>25.08297 </td><td> 7.931933</td><td>17.94328 </td></tr>\n",
       "</tbody>\n",
       "</table>\n"
      ],
      "text/latex": [
       "\\begin{tabular}{r|lllllll}\n",
       " trial & web & N & med\\_dur & sd & se & ci\\\\\n",
       "\\hline\n",
       "\t c         & j         & 10        & 222.4     & 20.08427  &  6.351203 & 14.36742 \\\\\n",
       "\t c         & t         & 10        & 228.4     & 32.98215  & 10.429872 & 23.59401 \\\\\n",
       "\t r         & j         & 10        & 246.8     & 24.73324  &  7.821338 & 17.69310 \\\\\n",
       "\t r         & t         & 10        & 248.4     & 25.08297  &  7.931933 & 17.94328 \\\\\n",
       "\\end{tabular}\n"
      ],
      "text/markdown": [
       "\n",
       "trial | web | N | med_dur | sd | se | ci | \n",
       "|---|---|---|---|\n",
       "| c         | j         | 10        | 222.4     | 20.08427  |  6.351203 | 14.36742  | \n",
       "| c         | t         | 10        | 228.4     | 32.98215  | 10.429872 | 23.59401  | \n",
       "| r         | j         | 10        | 246.8     | 24.73324  |  7.821338 | 17.69310  | \n",
       "| r         | t         | 10        | 248.4     | 25.08297  |  7.931933 | 17.94328  | \n",
       "\n",
       "\n"
      ],
      "text/plain": [
       "  trial web N  med_dur sd       se        ci      \n",
       "1 c     j   10 222.4   20.08427  6.351203 14.36742\n",
       "2 c     t   10 228.4   32.98215 10.429872 23.59401\n",
       "3 r     j   10 246.8   24.73324  7.821338 17.69310\n",
       "4 r     t   10 248.4   25.08297  7.931933 17.94328"
      ]
     },
     "metadata": {},
     "output_type": "display_data"
    }
   ],
   "source": [
    "task_med_dur = summarySE(stat, measurevar=\"med_dur\", groupvars=c(\"trial\",\"web\"))\n",
    "task_med_dur"
   ]
  },
  {
   "cell_type": "code",
   "execution_count": 30,
   "metadata": {},
   "outputs": [
    {
     "name": "stderr",
     "output_type": "stream",
     "text": [
      "geom_path: Each group consists of only one observation. Do you need to adjust\n",
      "the group aesthetic?\n"
     ]
    },
    {
     "data": {},
     "metadata": {},
     "output_type": "display_data"
    },
    {
     "data": {
      "image/png": "[encoded data removed]",
      "text/plain": [
       "plot without title"
      ]
     },
     "metadata": {},
     "output_type": "display_data",
     "source": "R display func"
    }
   ],
   "source": [
    "pd <- position_dodge(0.1)\n",
    "ggplot(task_med_dur, aes(x=trial, y=med_dur, colour=web)) + \n",
    "    geom_errorbar(aes(ymin=med_dur-ci, ymax=med_dur+ci), width=.1, position=pd) +\n",
    "    geom_line(position=pd) +\n",
    "    geom_point(position=pd)"
   ]
  }
 ],
 "metadata": {
  "kernelspec": {
   "display_name": "R",
   "language": "R",
   "name": "ir"
  },
  "language_info": {
   "codemirror_mode": "r",
   "file_extension": ".r",
   "mimetype": "text/x-r-source",
   "name": "R",
   "pygments_lexer": "r",
   "version": "3.5.1"
  }
 },
 "nbformat": 4,
 "nbformat_minor": 2
}
