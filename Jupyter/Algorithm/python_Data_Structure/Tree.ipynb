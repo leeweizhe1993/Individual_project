{
 "cells": [
  {
   "cell_type": "code",
   "execution_count": 1,
   "metadata": {},
   "outputs": [
    {
     "name": "stdout",
     "output_type": "stream",
     "text": [
      "A\n",
      "B\n",
      "D\n",
      "E\n",
      "H\n",
      "C\n",
      "F\n",
      "G\n",
      "I\n",
      "J\n",
      "====我是华丽丽滴分割线=====\n",
      "A\n",
      "C\n",
      "G\n",
      "J\n",
      "I\n",
      "F\n",
      "B\n",
      "E\n",
      "H\n",
      "D\n"
     ]
    }
   ],
   "source": [
    "class BinTreeNode(object):\n",
    "    def __init__(self, data, left=None, right=None):\n",
    "        self.data, self.left, self.right = data, left, right\n",
    "\n",
    "\n",
    "class BinTree(object):\n",
    "    def __init__(self, root=None):\n",
    "        self.root = root\n",
    "\n",
    "    @classmethod\n",
    "    def build_from(cls, node_list):\n",
    "        \"\"\"build_from\n",
    "\n",
    "        :param node_list: {'data': 'A', 'left': None, 'right': None, 'is_root': False}\n",
    "        \"\"\"\n",
    "        node_dict = {}\n",
    "        for node_data in node_list:\n",
    "            data = node_data['data']\n",
    "            node_dict[data] = BinTreeNode(data)\n",
    "        for node_data in node_list:\n",
    "            data = node_data['data']\n",
    "            node = node_dict[data]\n",
    "            if node_data['is_root']:\n",
    "                root = node\n",
    "            node.left = node_dict.get(node_data['left'])\n",
    "            node.right = node_dict.get(node_data['right'])\n",
    "        return cls(root)\n",
    "\n",
    "    def preorder_trav(self, subtree):\n",
    "        if subtree is not None:\n",
    "            print(subtree.data)\n",
    "            self.preorder_trav(subtree.left)\n",
    "            self.preorder_trav(subtree.right)\n",
    "\n",
    "    def reverse(self, subtree):\n",
    "        if subtree is not None:\n",
    "            subtree.left, subtree.right = subtree.right, subtree.left\n",
    "            self.reverse(subtree.left)\n",
    "            self.reverse(subtree.right)\n",
    "\n",
    "\n",
    "node_list = [\n",
    "    {'data': 'A', 'left': 'B', 'right': 'C', 'is_root': True},\n",
    "    {'data': 'B', 'left': 'D', 'right': 'E', 'is_root': False},\n",
    "    {'data': 'D', 'left': None, 'right': None, 'is_root': False},\n",
    "    {'data': 'E', 'left': 'H', 'right': None, 'is_root': False},\n",
    "    {'data': 'H', 'left': None, 'right': None, 'is_root': False},\n",
    "    {'data': 'C', 'left': 'F', 'right': 'G', 'is_root': False},\n",
    "    {'data': 'F', 'left': None, 'right': None, 'is_root': False},\n",
    "    {'data': 'G', 'left': 'I', 'right': 'J', 'is_root': False},\n",
    "    {'data': 'I', 'left': None, 'right': None, 'is_root': False},\n",
    "    {'data': 'J', 'left': None, 'right': None, 'is_root': False},\n",
    "]\n",
    "\n",
    "\n",
    "btree = BinTree.build_from(node_list)\n",
    "btree.preorder_trav(btree.root)\n",
    "btree.reverse(btree.root)\n",
    "print('====我是华丽丽滴分割线=====')\n",
    "btree.preorder_trav(btree.root)\n"
   ]
  },
  {
   "cell_type": "code",
   "execution_count": null,
   "metadata": {},
   "outputs": [],
   "source": []
  }
 ],
 "metadata": {
  "kernelspec": {
   "display_name": "Python 3",
   "language": "python",
   "name": "python3"
  },
  "language_info": {
   "codemirror_mode": {
    "name": "ipython",
    "version": 3
   },
   "file_extension": ".py",
   "mimetype": "text/x-python",
   "name": "python",
   "nbconvert_exporter": "python",
   "pygments_lexer": "ipython3",
   "version": "3.7.0"
  }
 },
 "nbformat": 4,
 "nbformat_minor": 2
}
