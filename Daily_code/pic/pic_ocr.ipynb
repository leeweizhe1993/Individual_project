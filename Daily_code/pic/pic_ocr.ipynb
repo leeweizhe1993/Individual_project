{
 "cells": [
  {
   "cell_type": "code",
   "execution_count": 1,
   "metadata": {},
   "outputs": [
    {
     "ename": "ModuleNotFoundError",
     "evalue": "No module named 'urlparse'",
     "output_type": "error",
     "traceback": [
      "\u001b[0;31m---------------------------------------------------------------------------\u001b[0m",
      "\u001b[0;31mModuleNotFoundError\u001b[0m                       Traceback (most recent call last)",
      "\u001b[0;32m<ipython-input-1-e08dd2f63029>\u001b[0m in \u001b[0;36m<module>\u001b[0;34m\u001b[0m\n\u001b[1;32m      4\u001b[0m \u001b[0;32mimport\u001b[0m \u001b[0mjson\u001b[0m\u001b[0;34m\u001b[0m\u001b[0;34m\u001b[0m\u001b[0m\n\u001b[1;32m      5\u001b[0m \u001b[0;34m\u001b[0m\u001b[0m\n\u001b[0;32m----> 6\u001b[0;31m \u001b[0;32mfrom\u001b[0m \u001b[0murlparse\u001b[0m \u001b[0;32mimport\u001b[0m \u001b[0murlparse\u001b[0m\u001b[0;34m\u001b[0m\u001b[0;34m\u001b[0m\u001b[0m\n\u001b[0m\u001b[1;32m      7\u001b[0m \u001b[0;32mfrom\u001b[0m \u001b[0mcom\u001b[0m\u001b[0;34m.\u001b[0m\u001b[0maliyun\u001b[0m\u001b[0;34m.\u001b[0m\u001b[0mapi\u001b[0m\u001b[0;34m.\u001b[0m\u001b[0mgateway\u001b[0m\u001b[0;34m.\u001b[0m\u001b[0msdk\u001b[0m \u001b[0;32mimport\u001b[0m \u001b[0mclient\u001b[0m\u001b[0;34m\u001b[0m\u001b[0;34m\u001b[0m\u001b[0m\n\u001b[1;32m      8\u001b[0m \u001b[0;32mfrom\u001b[0m \u001b[0mcom\u001b[0m\u001b[0;34m.\u001b[0m\u001b[0maliyun\u001b[0m\u001b[0;34m.\u001b[0m\u001b[0mapi\u001b[0m\u001b[0;34m.\u001b[0m\u001b[0mgateway\u001b[0m\u001b[0;34m.\u001b[0m\u001b[0msdk\u001b[0m\u001b[0;34m.\u001b[0m\u001b[0mhttp\u001b[0m \u001b[0;32mimport\u001b[0m \u001b[0mrequest\u001b[0m\u001b[0;34m\u001b[0m\u001b[0;34m\u001b[0m\u001b[0m\n",
      "\u001b[0;31mModuleNotFoundError\u001b[0m: No module named 'urlparse'"
     ]
    }
   ],
   "source": [
    "import sys,os\n",
    "import base64\n",
    "import time\n",
    "import json\n",
    "\n",
    "from urlparse import urlparse\n",
    "from com.aliyun.api.gateway.sdk import client\n",
    "from com.aliyun.api.gateway.sdk.http import request\n",
    "from com.aliyun.api.gateway.sdk.common import constant\n",
    "import traceback\n",
    "import urllib2\n",
    "import base64"
   ]
  },
  {
   "cell_type": "code",
   "execution_count": null,
   "metadata": {},
   "outputs": [],
   "source": [
    "def get_img_base64(img_file):\n",
    "    with open(img_file, 'rb') as infile:\n",
    "        s = infile.read()\n",
    "        return base64.b64encode(s) \n",
    "\n",
    "\n",
    "def predict(url, appcode, img_base64, kv_config, old_format):\n",
    "        if not old_format:\n",
    "            param = {}\n",
    "            param['image'] = img_base64\n",
    "            if kv_config is not None:\n",
    "                param['configure'] = json.dumps(kv_config)\n",
    "            body = json.dumps(param)\n",
    "        else:\n",
    "            param = {}\n",
    "            pic = {}\n",
    "            pic['dataType'] = 50\n",
    "            pic['dataValue'] = img_base64\n",
    "            param['image'] = pic\n",
    "    \n",
    "            if kv_config is not None:\n",
    "                conf = {}\n",
    "                conf['dataType'] = 50\n",
    "                conf['dataValue'] = json.dumps(kv_config) \n",
    "                param['configure'] = conf\n",
    "\n",
    "    \n",
    "            inputs = { \"inputs\" : [param]}\n",
    "            body = json.dumps(inputs)\n",
    "\n",
    "\n",
    "        headers = {'Authorization' : 'APPCODE %s' % appcode}\n",
    "        request = urllib2.Request(url = url, headers = headers, data = body)\n",
    "        try:\n",
    "            response = urllib2.urlopen(request, timeout = 10)\n",
    "            return response.code, response.headers, response.read()\n",
    "        except urllib2.HTTPError as e:\n",
    "            return e.code, e.headers, e.read()\n",
    "\n",
    "\n",
    "def demo():\n",
    "    appcode = '2b853b328cfd451c90cc4b6a87b12be3'\n",
    "    url = 'https://form.market.alicloudapi.com/api/predict/ocr_table_parse'\n",
    "    img_file = '/Users/lee_excited/Desktop/fpsyg-06-00368-t001.jpg'\n",
    "    #如果输入带有inputs, 设置为True，否则设为False\n",
    "    is_old_format = False\n",
    "    config = {'format': 'html', 'finance': False, 'dir_assure': False}\n",
    "    #如果没有configure字段，config设为None\n",
    "    #config = None\n",
    "\n",
    "    img_base64data = get_img_base64(img_file)\n",
    "    stat, header, content = predict( url, appcode, img_base64data, config, is_old_format)\n",
    "    if stat != 200:\n",
    "        print 'Http status code: ', stat\n",
    "        print 'Error msg in header: ', header['x-ca-error-message'] if 'x-ca-error-message' in header else ''\n",
    "        print 'Error msg in body: ', content\n",
    "        exit()\n",
    "    if is_old_format:\n",
    "        result_str = json.loads(content)['outputs'][0]['outputValue']['dataValue']\n",
    "    else:\n",
    "        result_str = content\n",
    "\n",
    "    print result_str;\n",
    "    #result = json.loads(result_str)\n",
    "\n",
    "if __name__ == '__main__':\n",
    "    demo()"
   ]
  }
 ],
 "metadata": {
  "kernelspec": {
   "display_name": "Python 3",
   "language": "python",
   "name": "python3"
  },
  "language_info": {
   "codemirror_mode": {
    "name": "ipython",
    "version": 3
   },
   "file_extension": ".py",
   "mimetype": "text/x-python",
   "name": "python",
   "nbconvert_exporter": "python",
   "pygments_lexer": "ipython3",
   "version": "3.7.3"
  }
 },
 "nbformat": 4,
 "nbformat_minor": 2
}
