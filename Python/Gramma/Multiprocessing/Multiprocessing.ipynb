{
 "cells": [
  {
   "cell_type": "code",
   "execution_count": 1,
   "metadata": {},
   "outputs": [
    {
     "data": {
      "text/plain": [
       "8"
      ]
     },
     "execution_count": 1,
     "metadata": {},
     "output_type": "execute_result"
    }
   ],
   "source": [
    "import multiprocessing\n",
    "multiprocessing.cpu_count()"
   ]
  },
  {
   "cell_type": "code",
   "execution_count": 30,
   "metadata": {},
   "outputs": [],
   "source": [
    "from multiprocessing import Process, Queue, Pipe, Manager\n",
    "import os, sys, time\n",
    "from os import getpid\n",
    "from random import randint\n",
    "from time import time, sleep"
   ]
  },
  {
   "cell_type": "markdown",
   "metadata": {
    "toc-hr-collapsed": false
   },
   "source": [
    "# 进程"
   ]
  },
  {
   "cell_type": "markdown",
   "metadata": {},
   "source": [
    "## Multiprocessing\n",
    "Process进程对象的守护进程是通过设置daemon属性来完成的。"
   ]
  },
  {
   "cell_type": "code",
   "execution_count": 50,
   "metadata": {},
   "outputs": [
    {
     "name": "stdout",
     "output_type": "stream",
     "text": [
      "启动下载进程，进程号[78542].\n",
      "启动下载进程，进程号[78543].\n",
      "开始下载Python从入门到住院.pdf...\n",
      "开始下载Peking Hot.avi...\n",
      "Python从入门到住院.pdf下载完成! 耗费了6秒\n",
      "Peking Hot.avi下载完成! 耗费了8秒\n",
      "总共耗费了8.03秒.\n"
     ]
    }
   ],
   "source": [
    "def download_task(filename):\n",
    "    print('启动下载进程，进程号[%d].' % getpid())\n",
    "    print('开始下载%s...' % filename)\n",
    "    time_to_download = randint(5, 10)\n",
    "    sleep(time_to_download)\n",
    "    print('%s下载完成! 耗费了%d秒' % (filename, time_to_download))\n",
    "\n",
    "\n",
    "def main():\n",
    "    start = time()\n",
    "    p1 = Process(target = download_task, args = ('Python从入门到住院.pdf', ))\n",
    "    p1.start()\n",
    "    p2 = Process(target=download_task, args=('Peking Hot.avi', ))\n",
    "    p2.start()\n",
    "    p1.join()\n",
    "    p2.join()\n",
    "    end = time()\n",
    "    print('总共耗费了%.2f秒.' % (end - start))\n",
    "\n",
    "if __name__ == '__main__':\n",
    "    main()"
   ]
  },
  {
   "cell_type": "markdown",
   "metadata": {},
   "source": [
    "构造方法：  \n",
    "Process([group [, target [, name [, args [, kwargs]]]]])  \n",
    "group: 线程组   \n",
    "target: 要执行的方法  \n",
    "name: 进程名  \n",
    "args/kwargs: 要传入方法的参数  \n",
    "  \n",
    "实例方法：  \n",
    "is_alive()：返回进程是否在运行,bool类型。  \n",
    "join([timeout])：阻塞当前上下文环境的进程程，直到调用此方法的进程终止或到达指定的timeout（可选参数）。  \n",
    "start()：进程准备就绪，等待CPU调度  \n",
    "run()：strat()调用run方法，如果实例进程时未制定传入target，这star执行t默认run()方法。  \n",
    "terminate()：不管任务是否完成，立即停止工作进程  \n",
    "  \n",
    "属性：  \n",
    "daemon：和线程的setDeamon功能一样  \n",
    "name：进程名字  \n",
    "pid：进程号\n"
   ]
  },
  {
   "cell_type": "markdown",
   "metadata": {},
   "source": [
    "## Fork"
   ]
  },
  {
   "cell_type": "code",
   "execution_count": 24,
   "metadata": {},
   "outputs": [
    {
     "name": "stdout",
     "output_type": "stream",
     "text": [
      "Process (88293) start...\n",
      "我 (88293) 创建了子进程 (89135).\n",
      "子进程为 (89135) ，主进程为 88293\n"
     ]
    }
   ],
   "source": [
    "import os\n",
    "print(\"Process (%s) start...\" % os.getpid())    #获取当前进程的id\n",
    "pid = os.fork()\n",
    "if pid == 0:\n",
    "    print(\"子进程为 (%s) ，主进程为 %s\" % (os.getpid(), os.getppid()))\n",
    "else:\n",
    "    print('我 (%s) 创建了子进程 (%s).' % (os.getpid(), pid))"
   ]
  },
  {
   "cell_type": "markdown",
   "metadata": {},
   "source": [
    "## Pool"
   ]
  },
  {
   "cell_type": "code",
   "execution_count": 32,
   "metadata": {},
   "outputs": [
    {
     "name": "stdout",
     "output_type": "stream",
     "text": [
      "主进程 88293.\n",
      "启动下载进程，进程号[89209].\n",
      "启动下载进程，进程号[89210].\n",
      "启动下载进程，进程号[89212].\n",
      "启动下载进程，进程号[89214].\n",
      "启动下载进程，进程号[89211].\n",
      "启动下载进程，进程号[89213].\n",
      "开始下载任务3...\n",
      "启动下载进程，进程号[89215].\n",
      "开始下载任务1...\n",
      "开始下载任务0...\n",
      "启动下载进程，进程号[89216].\n",
      "开始下载任务2...\n",
      "开始下载任务4...\n",
      "开始下载任务6...\n",
      "开始下载任务5...\n",
      "开始下载任务7...\n",
      "任务5 执行时长为 0.07 seconds.\n",
      "等待所有子进程执行\n",
      "任务0 执行时长为 0.21 seconds.\n",
      "任务7 执行时长为 0.33 seconds.\n",
      "任务3 执行时长为 0.35 seconds.\n",
      "任务1 执行时长为 0.41 seconds.\n",
      "任务4 执行时长为 0.74 seconds.\n",
      "任务6 执行时长为 0.77 seconds.\n",
      "任务2 执行时长为 1.14 seconds.\n",
      "执行完毕\n"
     ]
    }
   ],
   "source": [
    "from multiprocessing import Pool\n",
    "import os, time, random\n",
    "\n",
    "def long_time_task(name):\n",
    "    print('启动下载进程，进程号[%d].' % getpid())\n",
    "    print('开始下载%s...' % name)\n",
    "    start = time.time()\n",
    "    time.sleep(random.random() * 2)\n",
    "    end = time.time()\n",
    "    print('%s 执行时长为 %0.2f seconds.' % (name, (end - start)))\n",
    "    \n",
    "if __name__=='__main__':\n",
    "    print(\"主进程 %s.\" % os.getpid())\n",
    "    p = Pool(8)    #pool默认大小是CPU核数\n",
    "    for i in range(8):\n",
    "        p.apply_async(long_time_task, args = (\"任务\" + str(i), ))\n",
    "    print(\"等待所有子进程执行\")\n",
    "    p.close()\n",
    "    p.join()           \n",
    "    '''对Pool对象调用join()方法会等待所有子进程执行完毕，\n",
    "       调用join()之前必须先调用close()，调用close()之后就不能继续添加新的Process了。'''\n",
    "    print(\"执行完毕\")"
   ]
  },
  {
   "cell_type": "markdown",
   "metadata": {},
   "source": [
    "## Queue\n",
    "Queue在多线程中也说到过，在生成者消费者模式中使用，是线程安全的，是生产者和消费者中间的数据管道，那在python多进程中，它其实就是进程之间的数据管道，实现进程通信。"
   ]
  },
  {
   "cell_type": "code",
   "execution_count": 33,
   "metadata": {},
   "outputs": [
    {
     "name": "stdout",
     "output_type": "stream",
     "text": [
      "子进程0 开始put数据\n",
      "子进程1 开始put数据\n",
      "子进程2 开始put数据\n",
      "主进程获取Queue数据\n",
      "我是0 通过Queue通信\n",
      "我是1 通过Queue通信\n",
      "我是2 通过Queue通信\n",
      "结束测试\n"
     ]
    }
   ],
   "source": [
    "def fun1(q,i):\n",
    "    print('子进程%s 开始put数据' %i)\n",
    "    q.put('我是%s 通过Queue通信' %i)\n",
    "\n",
    "if __name__ == '__main__':\n",
    "    q = Queue()\n",
    "\n",
    "    process_list = []\n",
    "    for i in range(3):\n",
    "        p = Process(target=fun1,args=(q,i,))  #注意args里面要把q对象传给我们要执行的方法，这样子进程才能和主进程用Queue来通信\n",
    "        p.start()\n",
    "        process_list.append(p)\n",
    "\n",
    "    for i in process_list:\n",
    "        p.join()\n",
    "\n",
    "    print('主进程获取Queue数据')\n",
    "    print(q.get())\n",
    "    print(q.get())\n",
    "    print(q.get())\n",
    "    print('结束测试')"
   ]
  },
  {
   "cell_type": "markdown",
   "metadata": {},
   "source": [
    "## Pipe\n",
    "管道Pipe和Queue的作用大致差不多，也是实现进程间的通信"
   ]
  },
  {
   "cell_type": "code",
   "execution_count": 34,
   "metadata": {},
   "outputs": [
    {
     "name": "stdout",
     "output_type": "stream",
     "text": [
      "子进程发送消息：\n",
      "子进程接受消息：\n",
      "你好子进程\n",
      "主进程接受消息：\n",
      "你好主进程\n",
      "主进程发送消息：\n",
      "结束测试\n"
     ]
    }
   ],
   "source": [
    "def fun1(conn):\n",
    "    print('子进程发送消息：')\n",
    "    conn.send('你好主进程')\n",
    "    print('子进程接受消息：')\n",
    "    print(conn.recv())\n",
    "    conn.close()\n",
    "\n",
    "if __name__ == '__main__':\n",
    "    conn1, conn2 = Pipe() #关键点，pipe实例化生成一个双向管\n",
    "    p = Process(target=fun1, args=(conn2,)) #conn2传给子进程\n",
    "    p.start()\n",
    "    print('主进程接受消息：')\n",
    "    print(conn1.recv())\n",
    "    print('主进程发送消息：')\n",
    "    conn1.send(\"你好子进程\")\n",
    "    p.join()\n",
    "    print('结束测试')"
   ]
  },
  {
   "cell_type": "markdown",
   "metadata": {},
   "source": [
    "## Manager\n",
    "实现数据共享，即一个进程去更改另一个进程的数据"
   ]
  },
  {
   "cell_type": "code",
   "execution_count": 78,
   "metadata": {},
   "outputs": [
    {
     "name": "stdout",
     "output_type": "stream",
     "text": [
      "{0: 'a', '2': 'b', 1: 'a', 2: 'a', 3: 'a', 4: 'a', 5: 'a', 6: 'a', 7: 'a', 8: 'a', 9: 'a'}\n",
      "[0, 1, 2, 3, 4, 0, 1, 2, 3, 4, 5, 6, 7, 8, 9]\n"
     ]
    }
   ],
   "source": [
    "def fun1(dic,lis,index):\n",
    "\n",
    "    dic[index] = 'a'\n",
    "    dic['2'] = 'b'    \n",
    "    lis.append(index)    #[0,1,2,3,4,0,1,2,3,4,5,6,7,8,9]\n",
    "    #print(l)\n",
    "\n",
    "if __name__ == '__main__':\n",
    "    with Manager() as manager:\n",
    "        dic = manager.dict()#注意字典的声明方式，不能直接通过{}来定义\n",
    "        l = manager.list(range(5))#[0,1,2,3,4]\n",
    "\n",
    "        process_list = []\n",
    "        for i in range(10):\n",
    "            p = Process(target=fun1, args=(dic,l,i))\n",
    "            p.start()\n",
    "            process_list.append(p)\n",
    "\n",
    "        for res in process_list:\n",
    "            res.join()\n",
    "        print(dic)\n",
    "        print(l)"
   ]
  },
  {
   "cell_type": "markdown",
   "metadata": {},
   "source": [
    "对`Pool`对象调用`join()`方法会等待所有子进程执行完毕，调用`join()`之前必须先调用`close()`，调用`close()`之后就不能继续添加新的`Process`了"
   ]
  },
  {
   "cell_type": "code",
   "execution_count": 35,
   "metadata": {},
   "outputs": [
    {
     "name": "stdout",
     "output_type": "stream",
     "text": [
      "Run task 2 (89339)...\n",
      "Run task 0 (89337)...\n",
      "Run task 3 (89340)...\n",
      "Run task 1 (89338)...\n",
      "Run task 4 (89341)...\n",
      "Task 0 runs 0.75 seconds.\n",
      "Run task 5 (89337)...\n",
      "Task 1 runs 1.10 seconds.\n",
      "Run task 6 (89338)...\n",
      "Task 2 runs 1.17 seconds.\n",
      "Run task 7 (89339)...\n",
      "Task 3 runs 1.36 seconds.\n",
      "Run task 8 (89340)...\n",
      "Task 5 runs 1.03 seconds.\n",
      "Run task 9 (89337)...\n",
      "Task 4 runs 2.37 seconds.\n",
      "Task 8 runs 1.38 seconds.\n",
      "Task 9 runs 1.70 seconds.\n",
      "Task 6 runs 2.49 seconds.\n",
      "Task 7 runs 2.63 seconds.\n",
      "结束测试\n"
     ]
    }
   ],
   "source": [
    "def fun1(name):\n",
    "    print('Run task %s (%s)...' % (name, os.getpid()))\n",
    "    start = time.time()\n",
    "    time.sleep(random.random() * 3)\n",
    "    end = time.time()\n",
    "    print('Task %s runs %0.2f seconds.' % (name, (end - start)))\n",
    "\n",
    "if __name__=='__main__':\n",
    "    pool = Pool(5) #创建一个5个进程的进程池\n",
    "\n",
    "    for i in range(10):\n",
    "        pool.apply_async(func=fun1, args=(i,))\n",
    "\n",
    "    pool.close()\n",
    "    pool.join()\n",
    "    print('结束测试')\n"
   ]
  },
  {
   "cell_type": "code",
   "execution_count": null,
   "metadata": {},
   "outputs": [],
   "source": []
  },
  {
   "cell_type": "markdown",
   "metadata": {},
   "source": [
    "## Subprocess"
   ]
  },
  {
   "cell_type": "code",
   "execution_count": 68,
   "metadata": {},
   "outputs": [
    {
     "name": "stdout",
     "output_type": "stream",
     "text": [
      "$ nslookup www.python.org\n",
      "Exit code: 0\n"
     ]
    }
   ],
   "source": [
    "import subprocess\n",
    "\n",
    "print(\"$ nslookup www.python.org\")\n",
    "r = subprocess.call(['nslookup', 'www.python.org'])\n",
    "print(\"Exit code:\", r)"
   ]
  },
  {
   "cell_type": "code",
   "execution_count": 69,
   "metadata": {},
   "outputs": [
    {
     "name": "stdout",
     "output_type": "stream",
     "text": [
      "$ nslookup\n",
      "Server:\t\t222.200.115.251\n",
      "Address:\t222.200.115.251#53\n",
      "\n",
      "Non-authoritative answer:\n",
      "python.org\tmail exchanger = 50 mail.python.org.\n",
      "\n",
      "Authoritative answers can be found from:\n",
      "python.org\tnameserver = ns4.p11.dynect.net.\n",
      "python.org\tnameserver = ns1.p11.dynect.net.\n",
      "python.org\tnameserver = ns2.p11.dynect.net.\n",
      "python.org\tnameserver = ns3.p11.dynect.net.\n",
      "mail.python.org\tinternet address = 188.166.95.178\n",
      "ns1.p11.dynect.net\tinternet address = 208.78.70.11\n",
      "ns2.p11.dynect.net\tinternet address = 204.13.250.11\n",
      "ns3.p11.dynect.net\tinternet address = 208.78.71.11\n",
      "ns4.p11.dynect.net\tinternet address = 204.13.251.11\n",
      "mail.python.org\thas AAAA address 2a03:b0c0:2:d0::71:1\n",
      "\n",
      "\n",
      "Exit code: 0\n"
     ]
    }
   ],
   "source": [
    "print('$ nslookup')\n",
    "p = subprocess.Popen(['nslookup'], stdin=subprocess.PIPE, stdout=subprocess.PIPE, stderr=subprocess.PIPE)\n",
    "output, err = p.communicate(b'set q=mx\\npython.org\\nexit\\n')\n",
    "print(output.decode('utf-8'))\n",
    "print('Exit code:', p.returncode)"
   ]
  },
  {
   "cell_type": "markdown",
   "metadata": {
    "toc-hr-collapsed": true
   },
   "source": [
    "# 线程(不适用计算密集型)\n",
    "![线程](pic/Threading.jpeg)"
   ]
  },
  {
   "cell_type": "code",
   "execution_count": 1,
   "metadata": {},
   "outputs": [],
   "source": [
    "import time, threading\n",
    "from queue import Queue"
   ]
  },
  {
   "cell_type": "code",
   "execution_count": 4,
   "metadata": {},
   "outputs": [
    {
     "name": "stdout",
     "output_type": "stream",
     "text": [
      "你好tony at Sun Dec 15 10:44:28 2019\n",
      "\n",
      "你好啊simon at Sun Dec 15 10:44:28 2019\n",
      "\n",
      "程序结束=====================\n",
      "结束tony at Sun Dec 15 10:44:30 2019\n",
      "\n",
      "结束咯simon at Sun Dec 15 10:44:32 2019\n"
     ]
    }
   ],
   "source": [
    "def say(name):\n",
    "    print('你好%s at %s\\n' %(name,time.ctime()))\n",
    "    time.sleep(2)\n",
    "    print(\"结束%s at %s\\n\" %(name,time.ctime()))\n",
    "\n",
    "def listen(name):\n",
    "    print('你好啊%s at %s' % (name,time.ctime()))\n",
    "    time.sleep(4)\n",
    "    print(\"结束咯%s at %s\" % (name,time.ctime()))\n",
    "\n",
    "if __name__ == '__main__':\n",
    "    t1 = threading.Thread(target=say,args=('tony',))  #Thread是一个类，实例化产生t1对象，这里就是创建了一个线程对象t1\n",
    "    t1.start() #线程执行\n",
    "    t2 = threading.Thread(target=listen, args=('simon',)) #这里就是创建了一个线程对象t2\n",
    "    t2.start()\n",
    "\n",
    "    print(\"\\n程序结束=====================\")"
   ]
  },
  {
   "cell_type": "markdown",
   "metadata": {},
   "source": [
    "## join\n",
    "如果子线程不加join，则主线程也会执行打印，但是主线程不会结束，还是需要待非守护子线程结束之后，主线程才结束"
   ]
  },
  {
   "cell_type": "code",
   "execution_count": 5,
   "metadata": {},
   "outputs": [
    {
     "name": "stdout",
     "output_type": "stream",
     "text": [
      "你好tony at Sun Dec 15 10:46:18 2019\n",
      "你好啊simon at Sun Dec 15 10:46:18 2019\n",
      "\n",
      "结束tony at Sun Dec 15 10:46:20 2019\n",
      "\n",
      "结束咯simon at Sun Dec 15 10:46:22 2019\n",
      "程序结束=====================\n"
     ]
    }
   ],
   "source": [
    "if __name__ == '__main__':\n",
    "    t1 = threading.Thread(target=say,args=('tony',))  #Thread是一个类，实例化产生t1对象，这里就是创建了一个线程对象t1\n",
    "    t1.start() #线程执行\n",
    "    t2 = threading.Thread(target=listen, args=('simon',)) #这里就是创建了一个线程对象t2\n",
    "    t2.start()\n",
    "\n",
    "    t1.join() #join等t1子线程结束，主线程打印并且结束\n",
    "    t2.join() #join等t2子线程结束，主线程打印并且结束\n",
    "    print(\"程序结束=====================\")"
   ]
  },
  {
   "cell_type": "markdown",
   "metadata": {},
   "source": [
    "## 守护线程\n",
    "如果某个子线程设置为守护线程，主线程其实就不用管这个子线程了，当所有其他非守护线程结束，主线程就会退出，而守护线程将和主线程一起退出，守护主线程，这就是守护线程的意思"
   ]
  },
  {
   "cell_type": "code",
   "execution_count": 6,
   "metadata": {},
   "outputs": [
    {
     "name": "stdout",
     "output_type": "stream",
     "text": [
      "你好tony at Sun Dec 15 10:51:58 2019\n",
      "\n",
      "你好啊simon at Sun Dec 15 10:51:58 2019\n",
      "程序结束=====================\n",
      "\n",
      "结束tony at Sun Dec 15 10:52:00 2019\n",
      "\n",
      "结束咯simon at Sun Dec 15 10:52:02 2019\n"
     ]
    }
   ],
   "source": [
    "if __name__ == '__main__':\n",
    "    t1 = threading.Thread(target=say,args=('tony',))  #Thread是一个类，实例化产生t1对象，这里就是创建了一个线程对象t1\n",
    "    t1.setDaemon(True)\n",
    "    t1.start() #线程执行\n",
    "    t2 = threading.Thread(target=listen, args=('simon',)) #这里就是创建了一个线程对象t2\n",
    "    t2.start()\n",
    "\n",
    "    print(\"\\n程序结束=====================\")"
   ]
  },
  {
   "cell_type": "code",
   "execution_count": 8,
   "metadata": {},
   "outputs": [
    {
     "name": "stdout",
     "output_type": "stream",
     "text": [
      "你好tony at Sun Dec 15 10:53:19 2019\n",
      "\n",
      "你好啊simon at Sun Dec 15 10:53:19 2019\n",
      "程序结束=====================\n",
      "\n",
      "结束tony at Sun Dec 15 10:53:21 2019\n",
      "\n",
      "结束咯simon at Sun Dec 15 10:53:23 2019\n"
     ]
    }
   ],
   "source": [
    "if __name__ == '__main__':\n",
    "    t1 = threading.Thread(target=say,args=('tony',))  #Thread是一个类，实例化产生t1对象，这里就是创建了一个线程对象t1\n",
    "    t1.start() #线程执行\n",
    "    t2 = threading.Thread(target=listen, args=('simon',)) #这里就是创建了一个线程对象t2\n",
    "    t2.setDaemon(True)\n",
    "    t2.start()\n",
    "    print(\"\\n程序结束=====================\")"
   ]
  },
  {
   "cell_type": "code",
   "execution_count": 8,
   "metadata": {},
   "outputs": [
    {
     "name": "stdout",
     "output_type": "stream",
     "text": [
      "thread MainThread is running...\n",
      "thread LoopThread is running...\n",
      "thread LoopThread >>> 1\n",
      "thread LoopThread >>> 2\n",
      "thread LoopThread >>> 3\n",
      "thread LoopThread >>> 4\n",
      "thread LoopThread >>> 5\n",
      "thread LoopThread ended.\n",
      "thread MainThread ended.\n"
     ]
    }
   ],
   "source": [
    "# 新线程执行的代码:\n",
    "def loop():\n",
    "    print(\"thread %s is running...\" % threading.current_thread().name)\n",
    "    n = 0\n",
    "    while n < 5:\n",
    "        n += 1\n",
    "        print(\"thread %s >>> %s\" % (threading.current_thread().name, n))\n",
    "        time.sleep(1)\n",
    "    print(\"thread %s ended.\" % threading.current_thread().name)\n",
    "    \n",
    "print(\"thread %s is running...\" % threading.current_thread().name)\n",
    "t = threading.Thread(target= loop, name = \"LoopThread\")\n",
    "t.start()\n",
    "t.join()\n",
    "print(\"thread %s ended.\" % threading.current_thread().name)"
   ]
  },
  {
   "cell_type": "markdown",
   "metadata": {
    "toc-hr-collapsed": true
   },
   "source": [
    "## 锁机制\n",
    "![锁](pic/locking.jpeg)"
   ]
  },
  {
   "cell_type": "code",
   "execution_count": null,
   "metadata": {},
   "outputs": [],
   "source": [
    "num = 100\n",
    "\n",
    "def fun_sub():\n",
    "    global num\n",
    "    # num -= 1\n",
    "    print('num=', num)\n",
    "    num2 = num\n",
    "    time.sleep(0.001)\n",
    "    num = num2-1\n",
    "    print('num=', num)\n",
    "\n",
    "if __name__ == '__main__':\n",
    "    print('开始测试同步锁 at %s' % time.ctime())\n",
    "\n",
    "    thread_list = []\n",
    "    for thread in range(100):\n",
    "        t = threading.Thread(target=fun_sub)\n",
    "        t.start()\n",
    "        thread_list.append(t)\n",
    "\n",
    "    for t in thread_list:\n",
    "        t.join()\n",
    "    print('num is %d' % num)\n",
    "    print('结束测试同步锁 at %s' % time.ctime())"
   ]
  },
  {
   "cell_type": "markdown",
   "metadata": {},
   "source": [
    "- 因为GIL，只有一个线程（假设线程1）拿到了num这个资源，然后把变量赋值给num2,sleep 0.001秒，这时候num=100\n",
    "- 当第一个线程sleep 0.001秒这个期间，这个线程会做yield操作，就是把cpu切换给别的线程执行（假设线程2拿到个GIL，获得cpu使用权），线程2也和线程1一样也拿到num,返回赋值给num2，然sleep,这时候，其实num还是=100.\n",
    "- 线程2 sleep时候，又要yield操作，假设线程3拿到num,执行上面的操作，其实num有可能还是100\n",
    "- 等到后面cpu重新切换给线程1，线程2，线程3上执行的时候，他们执行减1操作后，其实等到的num其实都是99，而不是顺序递减的。\n",
    "- 其他剩余的线程操作如上"
   ]
  },
  {
   "cell_type": "code",
   "execution_count": null,
   "metadata": {},
   "outputs": [],
   "source": [
    "num = 100\n",
    "def fun_sub():\n",
    "    global num\n",
    "    lock.acquire()\n",
    "    print('----加锁----')\n",
    "    print('现在操作共享资源的线程名字是:',t.name)\n",
    "    print('num=', num)\n",
    "    num2 = num\n",
    "    time.sleep(0.001)\n",
    "    num = num2-1\n",
    "    lock.release()\n",
    "    print('----释放锁----')\n",
    "    print('num=', num)\n",
    "\n",
    "if __name__ == '__main__':\n",
    "    print('开始测试同步锁 at %s' % time.ctime())\n",
    "\n",
    "    lock = threading.Lock() #创建一把同步锁\n",
    "\n",
    "    thread_list = []\n",
    "    for thread in range(100):\n",
    "        t = threading.Thread(target=fun_sub)\n",
    "        t.start()\n",
    "        thread_list.append(t)\n",
    "\n",
    "    for t in thread_list:\n",
    "        t.join()\n",
    "    print('num is %d' % num)\n",
    "    print('结束测试同步锁 at %s' % time.ctime())"
   ]
  },
  {
   "cell_type": "markdown",
   "metadata": {},
   "source": [
    "### 死锁"
   ]
  },
  {
   "cell_type": "code",
   "execution_count": 21,
   "metadata": {},
   "outputs": [
    {
     "name": "stdout",
     "output_type": "stream",
     "text": [
      "线程 Thread-1120 , 想拿: 苹果--Sun Dec 15 11:04:25 2019\n",
      "线程 Thread-1120 , 想拿: 香蕉--Sun Dec 15 11:04:25 2019\n",
      "线程 Thread-1120 , 想拿: 香蕉--Sun Dec 15 11:04:25 2019\n",
      "线程 Thread-1121 , 想拿: 苹果--Sun Dec 15 11:04:25 2019\n"
     ]
    }
   ],
   "source": [
    "lock_apple = threading.Lock()\n",
    "lock_banana = threading.Lock()\n",
    "\n",
    "class MyThread(threading.Thread):\n",
    "\n",
    "    def __init__(self):\n",
    "        threading.Thread.__init__(self)\n",
    "\n",
    "    def run(self):\n",
    "        self.fun1()\n",
    "        self.fun2()\n",
    "\n",
    "    def fun1(self):\n",
    "\n",
    "        lock_apple.acquire()  # 如果锁被占用,则阻塞在这里,等待锁的释放\n",
    "\n",
    "        print (\"线程 %s , 想拿: %s--%s\" %(self.name, \"苹果\",time.ctime()))\n",
    "\n",
    "        lock_banana.acquire()\n",
    "        print (\"线程 %s , 想拿: %s--%s\" %(self.name, \"香蕉\",time.ctime()))\n",
    "        lock_banana.release()\n",
    "        lock_apple.release()\n",
    "\n",
    "\n",
    "    def fun2(self):\n",
    "\n",
    "        lock_banana.acquire()\n",
    "        print (\"线程 %s , 想拿: %s--%s\" %(self.name, \"香蕉\",time.ctime()))\n",
    "        time.sleep(0.1)\n",
    "\n",
    "        lock_apple.acquire()\n",
    "        print (\"线程 %s , 想拿: %s--%s\" %(self.name, \"苹果\",time.ctime()))\n",
    "        lock_apple.release()\n",
    "\n",
    "        lock_banana.release()\n",
    "\n",
    "if __name__ == \"__main__\":\n",
    "    for i in range(0, 10):  #建立10个线程\n",
    "        my_thread = MyThread()  #类继承法是python多线程的另外一种实现方式\n",
    "        my_thread.start()"
   ]
  },
  {
   "cell_type": "markdown",
   "metadata": {},
   "source": [
    "#### RLock"
   ]
  },
  {
   "cell_type": "code",
   "execution_count": 22,
   "metadata": {},
   "outputs": [
    {
     "name": "stdout",
     "output_type": "stream",
     "text": [
      "线程 Thread-1130 , 想拿: 苹果--Sun Dec 15 11:05:15 2019\n",
      "线程 Thread-1130 , 想拿: 香蕉--Sun Dec 15 11:05:15 2019\n",
      "线程 Thread-1130 , 想拿: 香蕉--Sun Dec 15 11:05:15 2019\n",
      "线程 Thread-1130 , 想拿: 苹果--Sun Dec 15 11:05:15 2019\n",
      "线程 Thread-1131 , 想拿: 苹果--Sun Dec 15 11:05:15 2019\n",
      "线程 Thread-1131 , 想拿: 香蕉--Sun Dec 15 11:05:15 2019\n",
      "线程 Thread-1131 , 想拿: 香蕉--Sun Dec 15 11:05:15 2019\n",
      "线程 Thread-1131 , 想拿: 苹果--Sun Dec 15 11:05:15 2019\n",
      "线程 Thread-1133 , 想拿: 苹果--Sun Dec 15 11:05:15 2019\n",
      "线程 Thread-1133 , 想拿: 香蕉--Sun Dec 15 11:05:15 2019\n",
      "线程 Thread-1133 , 想拿: 香蕉--Sun Dec 15 11:05:15 2019\n",
      "线程 Thread-1133 , 想拿: 苹果--Sun Dec 15 11:05:15 2019\n",
      "线程 Thread-1135 , 想拿: 苹果--Sun Dec 15 11:05:15 2019\n",
      "线程 Thread-1135 , 想拿: 香蕉--Sun Dec 15 11:05:15 2019\n",
      "线程 Thread-1135 , 想拿: 香蕉--Sun Dec 15 11:05:15 2019\n",
      "线程 Thread-1135 , 想拿: 苹果--Sun Dec 15 11:05:15 2019\n",
      "线程 Thread-1137 , 想拿: 苹果--Sun Dec 15 11:05:15 2019\n",
      "线程 Thread-1137 , 想拿: 香蕉--Sun Dec 15 11:05:15 2019\n",
      "线程 Thread-1137 , 想拿: 香蕉--Sun Dec 15 11:05:15 2019\n",
      "线程 Thread-1137 , 想拿: 苹果--Sun Dec 15 11:05:15 2019\n",
      "线程 Thread-1139 , 想拿: 苹果--Sun Dec 15 11:05:15 2019\n",
      "线程 Thread-1139 , 想拿: 香蕉--Sun Dec 15 11:05:15 2019\n",
      "线程 Thread-1139 , 想拿: 香蕉--Sun Dec 15 11:05:15 2019\n",
      "线程 Thread-1139 , 想拿: 苹果--Sun Dec 15 11:05:15 2019\n",
      "线程 Thread-1134 , 想拿: 苹果--Sun Dec 15 11:05:15 2019\n",
      "线程 Thread-1134 , 想拿: 香蕉--Sun Dec 15 11:05:15 2019\n",
      "线程 Thread-1134 , 想拿: 香蕉--Sun Dec 15 11:05:15 2019\n",
      "线程 Thread-1134 , 想拿: 苹果--Sun Dec 15 11:05:15 2019\n",
      "线程 Thread-1138 , 想拿: 苹果--Sun Dec 15 11:05:15 2019\n",
      "线程 Thread-1138 , 想拿: 香蕉--Sun Dec 15 11:05:15 2019\n",
      "线程 Thread-1138 , 想拿: 香蕉--Sun Dec 15 11:05:15 2019\n",
      "线程 Thread-1138 , 想拿: 苹果--Sun Dec 15 11:05:15 2019\n",
      "线程 Thread-1136 , 想拿: 苹果--Sun Dec 15 11:05:15 2019\n",
      "线程 Thread-1136 , 想拿: 香蕉--Sun Dec 15 11:05:15 2019\n",
      "线程 Thread-1136 , 想拿: 香蕉--Sun Dec 15 11:05:15 2019\n",
      "线程 Thread-1136 , 想拿: 苹果--Sun Dec 15 11:05:16 2019\n",
      "线程 Thread-1132 , 想拿: 苹果--Sun Dec 15 11:05:16 2019\n",
      "线程 Thread-1132 , 想拿: 香蕉--Sun Dec 15 11:05:16 2019\n",
      "线程 Thread-1132 , 想拿: 香蕉--Sun Dec 15 11:05:16 2019\n",
      "线程 Thread-1132 , 想拿: 苹果--Sun Dec 15 11:05:16 2019\n"
     ]
    }
   ],
   "source": [
    "lock = threading.RLock()  #递归锁\n",
    "\n",
    "\n",
    "class MyThread(threading.Thread):\n",
    "\n",
    "    def __init__(self):\n",
    "        threading.Thread.__init__(self)\n",
    "\n",
    "    def run(self):\n",
    "        self.fun1()\n",
    "        self.fun2()\n",
    "\n",
    "    def fun1(self):\n",
    "\n",
    "        lock.acquire()  # 如果锁被占用,则阻塞在这里,等待锁的释放\n",
    "\n",
    "        print (\"线程 %s , 想拿: %s--%s\" %(self.name, \"苹果\",time.ctime()))\n",
    "\n",
    "        lock.acquire()\n",
    "        print (\"线程 %s , 想拿: %s--%s\" %(self.name, \"香蕉\",time.ctime()))\n",
    "        lock.release()\n",
    "        lock.release()\n",
    "\n",
    "\n",
    "    def fun2(self):\n",
    "\n",
    "        lock.acquire()\n",
    "        print (\"线程 %s , 想拿: %s--%s\" %(self.name, \"香蕉\",time.ctime()))\n",
    "        time.sleep(0.1)\n",
    "\n",
    "        lock.acquire()\n",
    "        print (\"线程 %s , 想拿: %s--%s\" %(self.name, \"苹果\",time.ctime()))\n",
    "        lock.release()\n",
    "\n",
    "        lock.release()\n",
    "\n",
    "if __name__ == \"__main__\":\n",
    "    for i in range(0, 10):  #建立10个线程\n",
    "        my_thread = MyThread()  #类继承法是python多线程的另外一种实现方式\n",
    "        my_thread.start()"
   ]
  },
  {
   "cell_type": "markdown",
   "metadata": {
    "toc-hr-collapsed": true
   },
   "source": [
    "### ThreadLocal"
   ]
  },
  {
   "cell_type": "code",
   "execution_count": 2,
   "metadata": {},
   "outputs": [
    {
     "name": "stdout",
     "output_type": "stream",
     "text": [
      "Hello, Alice (in Thread-A)\n",
      "Hello, Bob (in Thread-B)\n"
     ]
    }
   ],
   "source": [
    "import threading\n",
    "\n",
    "'''创建全局ThreadLocal对象'''\n",
    "local_school = threading.local()\n",
    "\n",
    "def process_student():\n",
    "    '''获取当前线程关联的student'''\n",
    "    std = local_school.student\n",
    "    print(\"Hello, %s (in %s)\" % (std, threading.current_thread().name))\n",
    "    \n",
    "def process_thread(name):\n",
    "    '''绑定ThreadLocal的的student'''\n",
    "    local_school.student = name\n",
    "    process_student()\n",
    "    \n",
    "t1 = threading.Thread(target = process_thread, args = (\"Alice\",), name = \"Thread-A\")\n",
    "t2 = threading.Thread(target = process_thread, args = (\"Bob\",), name = \"Thread-B\")\n",
    "t1.start()\n",
    "t2.start()\n",
    "t1.join()\n",
    "t2.join()"
   ]
  },
  {
   "cell_type": "markdown",
   "metadata": {},
   "source": [
    "#### 全局变量`local_school`就是一个`ThreadLocal`对象，每个`Thread`对它都可以读写`student`属性，但互不影响。你可以把`local_school`看成全局变量，但每个属性如`local_school.student`都是线程的局部变量，可以任意读写而互不干扰，也不用管理锁的问题，`ThreadLocal`内部会处理。\n",
    "\n",
    "#### 可以理解为全局变量`local_school`是一个`dict`，不但可以用`local_school.student`，还可以绑定其他变量，如`local_school.teacher`等等。\n",
    "\n",
    "#### `ThreadLocal`最常用的地方就是为每个线程绑定一个数据库连接，`HTTP`请求，用户身份信息等，这样一个线程的所有调用到的处理函数都可以非常方便地访问这些资源。"
   ]
  },
  {
   "cell_type": "code",
   "execution_count": 1,
   "metadata": {},
   "outputs": [
    {
     "name": "stdout",
     "output_type": "stream",
     "text": [
      "Thread-1: Sun Mar 17 14:40:29 2019\n",
      "Thread-2: Sun Mar 17 14:40:31 2019\n",
      "Thread-1: Sun Mar 17 14:40:31 2019\n",
      "Thread-1: Sun Mar 17 14:40:33 2019\n",
      "Thread-2: Sun Mar 17 14:40:35 2019\n",
      "Thread-1: Sun Mar 17 14:40:35 2019\n",
      "Thread-1: Sun Mar 17 14:40:37 2019\n",
      "Thread-2: Sun Mar 17 14:40:39 2019\n",
      "Thread-2: Sun Mar 17 14:40:43 2019\n",
      "Thread-2: Sun Mar 17 14:40:47 2019\n"
     ]
    },
    {
     "ename": "KeyboardInterrupt",
     "evalue": "",
     "output_type": "error",
     "traceback": [
      "\u001b[0;31m---------------------------------------------------------------------------\u001b[0m",
      "\u001b[0;31mKeyboardInterrupt\u001b[0m                         Traceback (most recent call last)",
      "\u001b[0;32m<ipython-input-1-3e1a0e222be7>\u001b[0m in \u001b[0;36m<module>\u001b[0;34m\u001b[0m\n\u001b[1;32m     16\u001b[0m \u001b[0;32mwhile\u001b[0m \u001b[0;36m1\u001b[0m\u001b[0;34m:\u001b[0m\u001b[0;34m\u001b[0m\u001b[0;34m\u001b[0m\u001b[0m\n\u001b[1;32m     17\u001b[0m     \u001b[0;31m# 让线程有足够的时间完成\u001b[0m\u001b[0;34m\u001b[0m\u001b[0;34m\u001b[0m\u001b[0;34m\u001b[0m\u001b[0m\n\u001b[0;32m---> 18\u001b[0;31m     \u001b[0;32mpass\u001b[0m\u001b[0;34m\u001b[0m\u001b[0;34m\u001b[0m\u001b[0m\n\u001b[0m",
      "\u001b[0;31mKeyboardInterrupt\u001b[0m: "
     ]
    }
   ],
   "source": [
    "import _thread, time\n",
    "# 定义线程函数\n",
    "def print_time(threadName, delay):\n",
    "    count = 0\n",
    "    while count < 5:\n",
    "        time.sleep(delay)\n",
    "        count += 1\n",
    "        # 返回当前时间的时间戳（1970纪元后经过的浮点秒数）, 并格式化输出\n",
    "        print(\"{}: {}\".format(threadName, time.ctime(time.time()) ))\n",
    "try:\n",
    "    _thread.start_new_thread( print_time, (\"Thread-1\", 2))\n",
    "    _thread.start_new_thread( print_time, (\"Thread-2\", 4))\n",
    "except:\n",
    "    print(\"Error\")\n",
    "\n",
    "while 1:\n",
    "    # 让线程有足够的时间完成\n",
    "    pass"
   ]
  },
  {
   "cell_type": "markdown",
   "metadata": {},
   "source": [
    "# 协程"
   ]
  },
  {
   "cell_type": "code",
   "execution_count": 8,
   "metadata": {},
   "outputs": [
    {
     "ename": "RuntimeError",
     "evalue": "This event loop is already running",
     "output_type": "error",
     "traceback": [
      "\u001b[0;31m---------------------------------------------------------------------------\u001b[0m",
      "\u001b[0;31mRuntimeError\u001b[0m                              Traceback (most recent call last)",
      "\u001b[0;32m<ipython-input-8-b2ba0dbc8d72>\u001b[0m in \u001b[0;36m<module>\u001b[0;34m\u001b[0m\n\u001b[1;32m     11\u001b[0m \u001b[0mloop\u001b[0m \u001b[0;34m=\u001b[0m \u001b[0masyncio\u001b[0m\u001b[0;34m.\u001b[0m\u001b[0mget_event_loop\u001b[0m\u001b[0;34m(\u001b[0m\u001b[0;34m)\u001b[0m\u001b[0;34m\u001b[0m\u001b[0;34m\u001b[0m\u001b[0m\n\u001b[1;32m     12\u001b[0m \u001b[0;31m# 执行coroutine\u001b[0m\u001b[0;34m\u001b[0m\u001b[0;34m\u001b[0m\u001b[0;34m\u001b[0m\u001b[0m\n\u001b[0;32m---> 13\u001b[0;31m \u001b[0mloop\u001b[0m\u001b[0;34m.\u001b[0m\u001b[0mrun_until_complete\u001b[0m\u001b[0;34m(\u001b[0m\u001b[0mhello\u001b[0m\u001b[0;34m(\u001b[0m\u001b[0;34m)\u001b[0m\u001b[0;34m)\u001b[0m\u001b[0;34m\u001b[0m\u001b[0;34m\u001b[0m\u001b[0m\n\u001b[0m\u001b[1;32m     14\u001b[0m \u001b[0mloop\u001b[0m\u001b[0;34m.\u001b[0m\u001b[0mclose\u001b[0m\u001b[0;34m(\u001b[0m\u001b[0;34m)\u001b[0m\u001b[0;34m\u001b[0m\u001b[0;34m\u001b[0m\u001b[0m\n",
      "\u001b[0;32m~/miniconda3/lib/python3.7/asyncio/base_events.py\u001b[0m in \u001b[0;36mrun_until_complete\u001b[0;34m(self, future)\u001b[0m\n\u001b[1;32m    569\u001b[0m         \u001b[0mfuture\u001b[0m\u001b[0;34m.\u001b[0m\u001b[0madd_done_callback\u001b[0m\u001b[0;34m(\u001b[0m\u001b[0m_run_until_complete_cb\u001b[0m\u001b[0;34m)\u001b[0m\u001b[0;34m\u001b[0m\u001b[0;34m\u001b[0m\u001b[0m\n\u001b[1;32m    570\u001b[0m         \u001b[0;32mtry\u001b[0m\u001b[0;34m:\u001b[0m\u001b[0;34m\u001b[0m\u001b[0;34m\u001b[0m\u001b[0m\n\u001b[0;32m--> 571\u001b[0;31m             \u001b[0mself\u001b[0m\u001b[0;34m.\u001b[0m\u001b[0mrun_forever\u001b[0m\u001b[0;34m(\u001b[0m\u001b[0;34m)\u001b[0m\u001b[0;34m\u001b[0m\u001b[0;34m\u001b[0m\u001b[0m\n\u001b[0m\u001b[1;32m    572\u001b[0m         \u001b[0;32mexcept\u001b[0m\u001b[0;34m:\u001b[0m\u001b[0;34m\u001b[0m\u001b[0;34m\u001b[0m\u001b[0m\n\u001b[1;32m    573\u001b[0m             \u001b[0;32mif\u001b[0m \u001b[0mnew_task\u001b[0m \u001b[0;32mand\u001b[0m \u001b[0mfuture\u001b[0m\u001b[0;34m.\u001b[0m\u001b[0mdone\u001b[0m\u001b[0;34m(\u001b[0m\u001b[0;34m)\u001b[0m \u001b[0;32mand\u001b[0m \u001b[0;32mnot\u001b[0m \u001b[0mfuture\u001b[0m\u001b[0;34m.\u001b[0m\u001b[0mcancelled\u001b[0m\u001b[0;34m(\u001b[0m\u001b[0;34m)\u001b[0m\u001b[0;34m:\u001b[0m\u001b[0;34m\u001b[0m\u001b[0;34m\u001b[0m\u001b[0m\n",
      "\u001b[0;32m~/miniconda3/lib/python3.7/asyncio/base_events.py\u001b[0m in \u001b[0;36mrun_forever\u001b[0;34m(self)\u001b[0m\n\u001b[1;32m    524\u001b[0m         \u001b[0mself\u001b[0m\u001b[0;34m.\u001b[0m\u001b[0m_check_closed\u001b[0m\u001b[0;34m(\u001b[0m\u001b[0;34m)\u001b[0m\u001b[0;34m\u001b[0m\u001b[0;34m\u001b[0m\u001b[0m\n\u001b[1;32m    525\u001b[0m         \u001b[0;32mif\u001b[0m \u001b[0mself\u001b[0m\u001b[0;34m.\u001b[0m\u001b[0mis_running\u001b[0m\u001b[0;34m(\u001b[0m\u001b[0;34m)\u001b[0m\u001b[0;34m:\u001b[0m\u001b[0;34m\u001b[0m\u001b[0;34m\u001b[0m\u001b[0m\n\u001b[0;32m--> 526\u001b[0;31m             \u001b[0;32mraise\u001b[0m \u001b[0mRuntimeError\u001b[0m\u001b[0;34m(\u001b[0m\u001b[0;34m'This event loop is already running'\u001b[0m\u001b[0;34m)\u001b[0m\u001b[0;34m\u001b[0m\u001b[0;34m\u001b[0m\u001b[0m\n\u001b[0m\u001b[1;32m    527\u001b[0m         \u001b[0;32mif\u001b[0m \u001b[0mevents\u001b[0m\u001b[0;34m.\u001b[0m\u001b[0m_get_running_loop\u001b[0m\u001b[0;34m(\u001b[0m\u001b[0;34m)\u001b[0m \u001b[0;32mis\u001b[0m \u001b[0;32mnot\u001b[0m \u001b[0;32mNone\u001b[0m\u001b[0;34m:\u001b[0m\u001b[0;34m\u001b[0m\u001b[0;34m\u001b[0m\u001b[0m\n\u001b[1;32m    528\u001b[0m             raise RuntimeError(\n",
      "\u001b[0;31mRuntimeError\u001b[0m: This event loop is already running"
     ]
    },
    {
     "name": "stdout",
     "output_type": "stream",
     "text": [
      "Hello world!\n",
      "Hello again!\n"
     ]
    }
   ],
   "source": [
    "import asyncio\n",
    "\n",
    "@asyncio.coroutine\n",
    "def hello():\n",
    "    print(\"Hello world!\")\n",
    "    # 异步调用asyncio.sleep(1):\n",
    "    r = yield from asyncio.sleep(1)\n",
    "    print(\"Hello again!\")\n",
    "\n",
    "# 获取EventLoop:\n",
    "loop = asyncio.get_event_loop()\n",
    "# 执行coroutine\n",
    "loop.run_until_complete(hello())\n",
    "loop.close()"
   ]
  },
  {
   "cell_type": "code",
   "execution_count": 6,
   "metadata": {},
   "outputs": [
    {
     "ename": "RuntimeError",
     "evalue": "This event loop is already running",
     "output_type": "error",
     "traceback": [
      "\u001b[0;31m---------------------------------------------------------------------------\u001b[0m",
      "\u001b[0;31mRuntimeError\u001b[0m                              Traceback (most recent call last)",
      "\u001b[0;32m<ipython-input-6-7b45663a1d07>\u001b[0m in \u001b[0;36m<module>\u001b[0;34m\u001b[0m\n\u001b[1;32m      7\u001b[0m \u001b[0mloop\u001b[0m \u001b[0;34m=\u001b[0m \u001b[0masyncio\u001b[0m\u001b[0;34m.\u001b[0m\u001b[0mget_event_loop\u001b[0m\u001b[0;34m(\u001b[0m\u001b[0;34m)\u001b[0m\u001b[0;34m\u001b[0m\u001b[0;34m\u001b[0m\u001b[0m\n\u001b[1;32m      8\u001b[0m \u001b[0mtasks\u001b[0m \u001b[0;34m=\u001b[0m \u001b[0;34m[\u001b[0m\u001b[0mhello\u001b[0m\u001b[0;34m(\u001b[0m\u001b[0;34m)\u001b[0m\u001b[0;34m,\u001b[0m \u001b[0mhello\u001b[0m\u001b[0;34m(\u001b[0m\u001b[0;34m)\u001b[0m\u001b[0;34m]\u001b[0m\u001b[0;34m\u001b[0m\u001b[0;34m\u001b[0m\u001b[0m\n\u001b[0;32m----> 9\u001b[0;31m \u001b[0mloop\u001b[0m\u001b[0;34m.\u001b[0m\u001b[0mrun_until_complete\u001b[0m\u001b[0;34m(\u001b[0m\u001b[0masyncio\u001b[0m\u001b[0;34m.\u001b[0m\u001b[0mwait\u001b[0m\u001b[0;34m(\u001b[0m\u001b[0mtasks\u001b[0m\u001b[0;34m)\u001b[0m\u001b[0;34m)\u001b[0m\u001b[0;34m\u001b[0m\u001b[0;34m\u001b[0m\u001b[0m\n\u001b[0m\u001b[1;32m     10\u001b[0m \u001b[0mloop\u001b[0m\u001b[0;34m.\u001b[0m\u001b[0mclose\u001b[0m\u001b[0;34m(\u001b[0m\u001b[0;34m)\u001b[0m\u001b[0;34m\u001b[0m\u001b[0;34m\u001b[0m\u001b[0m\n",
      "\u001b[0;32m~/miniconda3/lib/python3.7/asyncio/base_events.py\u001b[0m in \u001b[0;36mrun_until_complete\u001b[0;34m(self, future)\u001b[0m\n\u001b[1;32m    569\u001b[0m         \u001b[0mfuture\u001b[0m\u001b[0;34m.\u001b[0m\u001b[0madd_done_callback\u001b[0m\u001b[0;34m(\u001b[0m\u001b[0m_run_until_complete_cb\u001b[0m\u001b[0;34m)\u001b[0m\u001b[0;34m\u001b[0m\u001b[0;34m\u001b[0m\u001b[0m\n\u001b[1;32m    570\u001b[0m         \u001b[0;32mtry\u001b[0m\u001b[0;34m:\u001b[0m\u001b[0;34m\u001b[0m\u001b[0;34m\u001b[0m\u001b[0m\n\u001b[0;32m--> 571\u001b[0;31m             \u001b[0mself\u001b[0m\u001b[0;34m.\u001b[0m\u001b[0mrun_forever\u001b[0m\u001b[0;34m(\u001b[0m\u001b[0;34m)\u001b[0m\u001b[0;34m\u001b[0m\u001b[0;34m\u001b[0m\u001b[0m\n\u001b[0m\u001b[1;32m    572\u001b[0m         \u001b[0;32mexcept\u001b[0m\u001b[0;34m:\u001b[0m\u001b[0;34m\u001b[0m\u001b[0;34m\u001b[0m\u001b[0m\n\u001b[1;32m    573\u001b[0m             \u001b[0;32mif\u001b[0m \u001b[0mnew_task\u001b[0m \u001b[0;32mand\u001b[0m \u001b[0mfuture\u001b[0m\u001b[0;34m.\u001b[0m\u001b[0mdone\u001b[0m\u001b[0;34m(\u001b[0m\u001b[0;34m)\u001b[0m \u001b[0;32mand\u001b[0m \u001b[0;32mnot\u001b[0m \u001b[0mfuture\u001b[0m\u001b[0;34m.\u001b[0m\u001b[0mcancelled\u001b[0m\u001b[0;34m(\u001b[0m\u001b[0;34m)\u001b[0m\u001b[0;34m:\u001b[0m\u001b[0;34m\u001b[0m\u001b[0;34m\u001b[0m\u001b[0m\n",
      "\u001b[0;32m~/miniconda3/lib/python3.7/asyncio/base_events.py\u001b[0m in \u001b[0;36mrun_forever\u001b[0;34m(self)\u001b[0m\n\u001b[1;32m    524\u001b[0m         \u001b[0mself\u001b[0m\u001b[0;34m.\u001b[0m\u001b[0m_check_closed\u001b[0m\u001b[0;34m(\u001b[0m\u001b[0;34m)\u001b[0m\u001b[0;34m\u001b[0m\u001b[0;34m\u001b[0m\u001b[0m\n\u001b[1;32m    525\u001b[0m         \u001b[0;32mif\u001b[0m \u001b[0mself\u001b[0m\u001b[0;34m.\u001b[0m\u001b[0mis_running\u001b[0m\u001b[0;34m(\u001b[0m\u001b[0;34m)\u001b[0m\u001b[0;34m:\u001b[0m\u001b[0;34m\u001b[0m\u001b[0;34m\u001b[0m\u001b[0m\n\u001b[0;32m--> 526\u001b[0;31m             \u001b[0;32mraise\u001b[0m \u001b[0mRuntimeError\u001b[0m\u001b[0;34m(\u001b[0m\u001b[0;34m'This event loop is already running'\u001b[0m\u001b[0;34m)\u001b[0m\u001b[0;34m\u001b[0m\u001b[0;34m\u001b[0m\u001b[0m\n\u001b[0m\u001b[1;32m    527\u001b[0m         \u001b[0;32mif\u001b[0m \u001b[0mevents\u001b[0m\u001b[0;34m.\u001b[0m\u001b[0m_get_running_loop\u001b[0m\u001b[0;34m(\u001b[0m\u001b[0;34m)\u001b[0m \u001b[0;32mis\u001b[0m \u001b[0;32mnot\u001b[0m \u001b[0;32mNone\u001b[0m\u001b[0;34m:\u001b[0m\u001b[0;34m\u001b[0m\u001b[0;34m\u001b[0m\u001b[0m\n\u001b[1;32m    528\u001b[0m             raise RuntimeError(\n",
      "\u001b[0;31mRuntimeError\u001b[0m: This event loop is already running"
     ]
    },
    {
     "name": "stdout",
     "output_type": "stream",
     "text": [
      "Hello world! (<_MainThread(MainThread, started 4571387328)>)\n",
      "Hello world! (<_MainThread(MainThread, started 4571387328)>)\n",
      "Hello again! (<_MainThread(MainThread, started 4571387328)>)\n",
      "Hello again! (<_MainThread(MainThread, started 4571387328)>)\n"
     ]
    }
   ],
   "source": [
    "@asyncio.coroutine\n",
    "def hello():\n",
    "    print('Hello world! (%s)' % threading.currentThread())\n",
    "    yield from asyncio.sleep(1)\n",
    "    print('Hello again! (%s)' % threading.currentThread())\n",
    "\n",
    "loop = asyncio.get_event_loop()\n",
    "tasks = [hello(), hello()]\n",
    "loop.run_until_complete(asyncio.wait(tasks))\n",
    "loop.close()"
   ]
  },
  {
   "cell_type": "code",
   "execution_count": 7,
   "metadata": {},
   "outputs": [
    {
     "ename": "RuntimeError",
     "evalue": "This event loop is already running",
     "output_type": "error",
     "traceback": [
      "\u001b[0;31m---------------------------------------------------------------------------\u001b[0m",
      "\u001b[0;31mRuntimeError\u001b[0m                              Traceback (most recent call last)",
      "\u001b[0;32m<ipython-input-7-a62468b9859a>\u001b[0m in \u001b[0;36m<module>\u001b[0;34m\u001b[0m\n\u001b[1;32m     17\u001b[0m \u001b[0mloop\u001b[0m \u001b[0;34m=\u001b[0m \u001b[0masyncio\u001b[0m\u001b[0;34m.\u001b[0m\u001b[0mget_event_loop\u001b[0m\u001b[0;34m(\u001b[0m\u001b[0;34m)\u001b[0m\u001b[0;34m\u001b[0m\u001b[0;34m\u001b[0m\u001b[0m\n\u001b[1;32m     18\u001b[0m \u001b[0mtasks\u001b[0m \u001b[0;34m=\u001b[0m \u001b[0;34m[\u001b[0m\u001b[0mwget\u001b[0m\u001b[0;34m(\u001b[0m\u001b[0mhost\u001b[0m\u001b[0;34m)\u001b[0m \u001b[0;32mfor\u001b[0m \u001b[0mhost\u001b[0m \u001b[0;32min\u001b[0m \u001b[0;34m[\u001b[0m\u001b[0;34m'www.sina.com.cn'\u001b[0m\u001b[0;34m,\u001b[0m \u001b[0;34m'www.sohu.com'\u001b[0m\u001b[0;34m,\u001b[0m \u001b[0;34m'www.163.com'\u001b[0m\u001b[0;34m]\u001b[0m\u001b[0;34m]\u001b[0m\u001b[0;34m\u001b[0m\u001b[0;34m\u001b[0m\u001b[0m\n\u001b[0;32m---> 19\u001b[0;31m \u001b[0mloop\u001b[0m\u001b[0;34m.\u001b[0m\u001b[0mrun_until_complete\u001b[0m\u001b[0;34m(\u001b[0m\u001b[0masyncio\u001b[0m\u001b[0;34m.\u001b[0m\u001b[0mwait\u001b[0m\u001b[0;34m(\u001b[0m\u001b[0mtasks\u001b[0m\u001b[0;34m)\u001b[0m\u001b[0;34m)\u001b[0m\u001b[0;34m\u001b[0m\u001b[0;34m\u001b[0m\u001b[0m\n\u001b[0m\u001b[1;32m     20\u001b[0m \u001b[0mloop\u001b[0m\u001b[0;34m.\u001b[0m\u001b[0mclose\u001b[0m\u001b[0;34m(\u001b[0m\u001b[0;34m)\u001b[0m\u001b[0;34m\u001b[0m\u001b[0;34m\u001b[0m\u001b[0m\n",
      "\u001b[0;32m~/miniconda3/lib/python3.7/asyncio/base_events.py\u001b[0m in \u001b[0;36mrun_until_complete\u001b[0;34m(self, future)\u001b[0m\n\u001b[1;32m    569\u001b[0m         \u001b[0mfuture\u001b[0m\u001b[0;34m.\u001b[0m\u001b[0madd_done_callback\u001b[0m\u001b[0;34m(\u001b[0m\u001b[0m_run_until_complete_cb\u001b[0m\u001b[0;34m)\u001b[0m\u001b[0;34m\u001b[0m\u001b[0;34m\u001b[0m\u001b[0m\n\u001b[1;32m    570\u001b[0m         \u001b[0;32mtry\u001b[0m\u001b[0;34m:\u001b[0m\u001b[0;34m\u001b[0m\u001b[0;34m\u001b[0m\u001b[0m\n\u001b[0;32m--> 571\u001b[0;31m             \u001b[0mself\u001b[0m\u001b[0;34m.\u001b[0m\u001b[0mrun_forever\u001b[0m\u001b[0;34m(\u001b[0m\u001b[0;34m)\u001b[0m\u001b[0;34m\u001b[0m\u001b[0;34m\u001b[0m\u001b[0m\n\u001b[0m\u001b[1;32m    572\u001b[0m         \u001b[0;32mexcept\u001b[0m\u001b[0;34m:\u001b[0m\u001b[0;34m\u001b[0m\u001b[0;34m\u001b[0m\u001b[0m\n\u001b[1;32m    573\u001b[0m             \u001b[0;32mif\u001b[0m \u001b[0mnew_task\u001b[0m \u001b[0;32mand\u001b[0m \u001b[0mfuture\u001b[0m\u001b[0;34m.\u001b[0m\u001b[0mdone\u001b[0m\u001b[0;34m(\u001b[0m\u001b[0;34m)\u001b[0m \u001b[0;32mand\u001b[0m \u001b[0;32mnot\u001b[0m \u001b[0mfuture\u001b[0m\u001b[0;34m.\u001b[0m\u001b[0mcancelled\u001b[0m\u001b[0;34m(\u001b[0m\u001b[0;34m)\u001b[0m\u001b[0;34m:\u001b[0m\u001b[0;34m\u001b[0m\u001b[0;34m\u001b[0m\u001b[0m\n",
      "\u001b[0;32m~/miniconda3/lib/python3.7/asyncio/base_events.py\u001b[0m in \u001b[0;36mrun_forever\u001b[0;34m(self)\u001b[0m\n\u001b[1;32m    524\u001b[0m         \u001b[0mself\u001b[0m\u001b[0;34m.\u001b[0m\u001b[0m_check_closed\u001b[0m\u001b[0;34m(\u001b[0m\u001b[0;34m)\u001b[0m\u001b[0;34m\u001b[0m\u001b[0;34m\u001b[0m\u001b[0m\n\u001b[1;32m    525\u001b[0m         \u001b[0;32mif\u001b[0m \u001b[0mself\u001b[0m\u001b[0;34m.\u001b[0m\u001b[0mis_running\u001b[0m\u001b[0;34m(\u001b[0m\u001b[0;34m)\u001b[0m\u001b[0;34m:\u001b[0m\u001b[0;34m\u001b[0m\u001b[0;34m\u001b[0m\u001b[0m\n\u001b[0;32m--> 526\u001b[0;31m             \u001b[0;32mraise\u001b[0m \u001b[0mRuntimeError\u001b[0m\u001b[0;34m(\u001b[0m\u001b[0;34m'This event loop is already running'\u001b[0m\u001b[0;34m)\u001b[0m\u001b[0;34m\u001b[0m\u001b[0;34m\u001b[0m\u001b[0m\n\u001b[0m\u001b[1;32m    527\u001b[0m         \u001b[0;32mif\u001b[0m \u001b[0mevents\u001b[0m\u001b[0;34m.\u001b[0m\u001b[0m_get_running_loop\u001b[0m\u001b[0;34m(\u001b[0m\u001b[0;34m)\u001b[0m \u001b[0;32mis\u001b[0m \u001b[0;32mnot\u001b[0m \u001b[0;32mNone\u001b[0m\u001b[0;34m:\u001b[0m\u001b[0;34m\u001b[0m\u001b[0;34m\u001b[0m\u001b[0m\n\u001b[1;32m    528\u001b[0m             raise RuntimeError(\n",
      "\u001b[0;31mRuntimeError\u001b[0m: This event loop is already running"
     ]
    },
    {
     "name": "stdout",
     "output_type": "stream",
     "text": [
      "wget www.163.com...\n",
      "wget www.sohu.com...\n",
      "wget www.sina.com.cn...\n",
      "www.sohu.com header > HTTP/1.1 200 OK\n",
      "www.sohu.com header > Content-Type: text/html;charset=UTF-8\n",
      "www.sohu.com header > Connection: close\n",
      "www.sohu.com header > Server: nginx\n",
      "www.sohu.com header > Date: Thu, 16 May 2019 16:53:11 GMT\n",
      "www.sohu.com header > Cache-Control: max-age=60\n",
      "www.sohu.com header > X-From-Sohu: X-SRC-Cached\n",
      "www.sohu.com header > Content-Encoding: gzip\n",
      "www.sohu.com header > FSS-Cache: HIT from 3963534.5929624.5300396\n",
      "www.sohu.com header > FSS-Proxy: Powered by 2695201.3416107.4009004\n",
      "www.163.com header > HTTP/1.1 302 Moved Temporarily\n",
      "www.163.com header > Date: Thu, 16 May 2019 16:54:11 GMT\n",
      "www.163.com header > Content-Length: 0\n",
      "www.163.com header > Connection: close\n",
      "www.163.com header > Server: Cdn Cache Server V2.0\n",
      "www.163.com header > Location: http://www.163.com/special/0077jt/error_isp.html\n",
      "www.163.com header > X-Via: 1.0 PSgdzjdx6qe66:3 (Cdn Cache Server V2.0)\n",
      "www.sina.com.cn header > HTTP/1.1 302 Moved Temporarily\n",
      "www.sina.com.cn header > Server: nginx\n",
      "www.sina.com.cn header > Date: Thu, 16 May 2019 16:54:11 GMT\n",
      "www.sina.com.cn header > Content-Type: text/html\n",
      "www.sina.com.cn header > Content-Length: 154\n",
      "www.sina.com.cn header > Connection: close\n",
      "www.sina.com.cn header > Location: https://www.sina.com.cn/\n",
      "www.sina.com.cn header > X-Via-CDN: f=edge,s=ctc.xiamen.ha2ts4.41.nb.sinaedge.com,c=183.63.119.29;\n",
      "www.sina.com.cn header > X-Via-Edge: 15580256513201d773fb73cd64cde23e2c5d6\n"
     ]
    }
   ],
   "source": [
    "@asyncio.coroutine\n",
    "def wget(host):\n",
    "    print('wget %s...' % host)\n",
    "    connect = asyncio.open_connection(host, 80)\n",
    "    reader, writer = yield from connect\n",
    "    header = 'GET / HTTP/1.0\\r\\nHost: %s\\r\\n\\r\\n' % host\n",
    "    writer.write(header.encode('utf-8'))\n",
    "    yield from writer.drain()\n",
    "    while True:\n",
    "        line = yield from reader.readline()\n",
    "        if line == b'\\r\\n':\n",
    "            break\n",
    "        print('%s header > %s' % (host, line.decode('utf-8').rstrip()))\n",
    "    # Ignore the body, close the socket\n",
    "    writer.close()\n",
    "\n",
    "loop = asyncio.get_event_loop()\n",
    "tasks = [wget(host) for host in ['www.sina.com.cn', 'www.sohu.com', 'www.163.com']]\n",
    "loop.run_until_complete(asyncio.wait(tasks))\n",
    "loop.close()"
   ]
  },
  {
   "cell_type": "code",
   "execution_count": 23,
   "metadata": {},
   "outputs": [
    {
     "ename": "RuntimeError",
     "evalue": "asyncio.run() cannot be called from a running event loop",
     "output_type": "error",
     "traceback": [
      "\u001b[0;31m---------------------------------------------------------------------------\u001b[0m",
      "\u001b[0;31mRuntimeError\u001b[0m                              Traceback (most recent call last)",
      "\u001b[0;32m<ipython-input-23-43b4694fff3c>\u001b[0m in \u001b[0;36m<module>\u001b[0;34m\u001b[0m\n\u001b[1;32m      9\u001b[0m     \u001b[0;32mawait\u001b[0m \u001b[0masyncio\u001b[0m\u001b[0;34m.\u001b[0m\u001b[0mgather\u001b[0m\u001b[0;34m(\u001b[0m\u001b[0mcount\u001b[0m\u001b[0;34m(\u001b[0m\u001b[0;34m)\u001b[0m\u001b[0;34m,\u001b[0m \u001b[0mcount\u001b[0m\u001b[0;34m(\u001b[0m\u001b[0;34m)\u001b[0m\u001b[0;34m,\u001b[0m \u001b[0mcount\u001b[0m\u001b[0;34m(\u001b[0m\u001b[0;34m)\u001b[0m\u001b[0;34m)\u001b[0m\u001b[0;34m\u001b[0m\u001b[0;34m\u001b[0m\u001b[0m\n\u001b[1;32m     10\u001b[0m \u001b[0;34m\u001b[0m\u001b[0m\n\u001b[0;32m---> 11\u001b[0;31m \u001b[0masyncio\u001b[0m\u001b[0;34m.\u001b[0m\u001b[0mrun\u001b[0m\u001b[0;34m(\u001b[0m\u001b[0mmain\u001b[0m\u001b[0;34m(\u001b[0m\u001b[0;34m)\u001b[0m\u001b[0;34m)\u001b[0m\u001b[0;34m\u001b[0m\u001b[0;34m\u001b[0m\u001b[0m\n\u001b[0m",
      "\u001b[0;32m~/miniconda3/lib/python3.7/asyncio/runners.py\u001b[0m in \u001b[0;36mrun\u001b[0;34m(main, debug)\u001b[0m\n\u001b[1;32m     32\u001b[0m     \u001b[0;32mif\u001b[0m \u001b[0mevents\u001b[0m\u001b[0;34m.\u001b[0m\u001b[0m_get_running_loop\u001b[0m\u001b[0;34m(\u001b[0m\u001b[0;34m)\u001b[0m \u001b[0;32mis\u001b[0m \u001b[0;32mnot\u001b[0m \u001b[0;32mNone\u001b[0m\u001b[0;34m:\u001b[0m\u001b[0;34m\u001b[0m\u001b[0;34m\u001b[0m\u001b[0m\n\u001b[1;32m     33\u001b[0m         raise RuntimeError(\n\u001b[0;32m---> 34\u001b[0;31m             \"asyncio.run() cannot be called from a running event loop\")\n\u001b[0m\u001b[1;32m     35\u001b[0m \u001b[0;34m\u001b[0m\u001b[0m\n\u001b[1;32m     36\u001b[0m     \u001b[0;32mif\u001b[0m \u001b[0;32mnot\u001b[0m \u001b[0mcoroutines\u001b[0m\u001b[0;34m.\u001b[0m\u001b[0miscoroutine\u001b[0m\u001b[0;34m(\u001b[0m\u001b[0mmain\u001b[0m\u001b[0;34m)\u001b[0m\u001b[0;34m:\u001b[0m\u001b[0;34m\u001b[0m\u001b[0;34m\u001b[0m\u001b[0m\n",
      "\u001b[0;31mRuntimeError\u001b[0m: asyncio.run() cannot be called from a running event loop"
     ]
    }
   ],
   "source": [
    "import asyncio\n",
    "\n",
    "async def count():\n",
    "    print(\"One\")\n",
    "    await asyncio.sleep(1)\n",
    "    print(\"Two\")\n",
    "\n",
    "async def main():\n",
    "    await asyncio.gather(count(), count(), count())\n",
    "\n",
    "asyncio.run(main())"
   ]
  },
  {
   "cell_type": "code",
   "execution_count": null,
   "metadata": {},
   "outputs": [],
   "source": []
  }
 ],
 "metadata": {
  "kernelspec": {
   "display_name": "Python 3",
   "language": "python",
   "name": "python3"
  },
  "language_info": {
   "codemirror_mode": {
    "name": "ipython",
    "version": 3
   },
   "file_extension": ".py",
   "mimetype": "text/x-python",
   "name": "python",
   "nbconvert_exporter": "python",
   "pygments_lexer": "ipython3",
   "version": "3.7.5"
  }
 },
 "nbformat": 4,
 "nbformat_minor": 4
}
