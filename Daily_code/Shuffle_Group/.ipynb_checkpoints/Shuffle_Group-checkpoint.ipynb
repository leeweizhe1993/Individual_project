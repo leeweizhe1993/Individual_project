{
 "cells": [
  {
   "cell_type": "code",
   "execution_count": 24,
   "metadata": {},
   "outputs": [],
   "source": [
    "import random\n",
    "import pandas as pd\n",
    "from IPython.display import display\n",
    "from sklearn.utils import shuffle"
   ]
  },
  {
   "cell_type": "code",
   "execution_count": 71,
   "metadata": {},
   "outputs": [
    {
     "data": {
      "text/html": [
       "<div>\n",
       "<style scoped>\n",
       "    .dataframe tbody tr th:only-of-type {\n",
       "        vertical-align: middle;\n",
       "    }\n",
       "\n",
       "    .dataframe tbody tr th {\n",
       "        vertical-align: top;\n",
       "    }\n",
       "\n",
       "    .dataframe thead th {\n",
       "        text-align: right;\n",
       "    }\n",
       "</style>\n",
       "<table border=\"1\" class=\"dataframe\">\n",
       "  <thead>\n",
       "    <tr style=\"text-align: right;\">\n",
       "      <th></th>\n",
       "      <th>姓名</th>\n",
       "      <th>性别</th>\n",
       "      <th>导师</th>\n",
       "    </tr>\n",
       "  </thead>\n",
       "  <tbody>\n",
       "    <tr>\n",
       "      <th>0</th>\n",
       "      <td>李帅</td>\n",
       "      <td>男</td>\n",
       "      <td>胡</td>\n",
       "    </tr>\n",
       "    <tr>\n",
       "      <th>1</th>\n",
       "      <td>梁晨</td>\n",
       "      <td>女</td>\n",
       "      <td>胡</td>\n",
       "    </tr>\n",
       "    <tr>\n",
       "      <th>2</th>\n",
       "      <td>郭慧</td>\n",
       "      <td>女</td>\n",
       "      <td>胡</td>\n",
       "    </tr>\n",
       "    <tr>\n",
       "      <th>3</th>\n",
       "      <td>徐嘉晨</td>\n",
       "      <td>女</td>\n",
       "      <td>胡</td>\n",
       "    </tr>\n",
       "    <tr>\n",
       "      <th>4</th>\n",
       "      <td>时吉星</td>\n",
       "      <td>男</td>\n",
       "      <td>胡</td>\n",
       "    </tr>\n",
       "  </tbody>\n",
       "</table>\n",
       "</div>"
      ],
      "text/plain": [
       "    姓名 性别 导师\n",
       "0   李帅  男  胡\n",
       "1   梁晨  女  胡\n",
       "2   郭慧  女  胡\n",
       "3  徐嘉晨  女  胡\n",
       "4  时吉星  男  胡"
      ]
     },
     "metadata": {},
     "output_type": "display_data"
    },
    {
     "data": {
      "text/html": [
       "<div>\n",
       "<style scoped>\n",
       "    .dataframe tbody tr th:only-of-type {\n",
       "        vertical-align: middle;\n",
       "    }\n",
       "\n",
       "    .dataframe tbody tr th {\n",
       "        vertical-align: top;\n",
       "    }\n",
       "\n",
       "    .dataframe thead th {\n",
       "        text-align: right;\n",
       "    }\n",
       "</style>\n",
       "<table border=\"1\" class=\"dataframe\">\n",
       "  <thead>\n",
       "    <tr style=\"text-align: right;\">\n",
       "      <th></th>\n",
       "      <th>姓名</th>\n",
       "      <th>性别</th>\n",
       "      <th>导师</th>\n",
       "    </tr>\n",
       "  </thead>\n",
       "  <tbody>\n",
       "    <tr>\n",
       "      <th>0</th>\n",
       "      <td>薄新月</td>\n",
       "      <td>女</td>\n",
       "      <td>陆</td>\n",
       "    </tr>\n",
       "    <tr>\n",
       "      <th>1</th>\n",
       "      <td>黄加玮</td>\n",
       "      <td>男</td>\n",
       "      <td>陆</td>\n",
       "    </tr>\n",
       "    <tr>\n",
       "      <th>2</th>\n",
       "      <td>罗颖科</td>\n",
       "      <td>女</td>\n",
       "      <td>陆</td>\n",
       "    </tr>\n",
       "    <tr>\n",
       "      <th>3</th>\n",
       "      <td>刘宇晴</td>\n",
       "      <td>女</td>\n",
       "      <td>陆</td>\n",
       "    </tr>\n",
       "    <tr>\n",
       "      <th>4</th>\n",
       "      <td>邵晓旭</td>\n",
       "      <td>女</td>\n",
       "      <td>陆</td>\n",
       "    </tr>\n",
       "  </tbody>\n",
       "</table>\n",
       "</div>"
      ],
      "text/plain": [
       "    姓名 性别 导师\n",
       "0  薄新月  女  陆\n",
       "1  黄加玮  男  陆\n",
       "2  罗颖科  女  陆\n",
       "3  刘宇晴  女  陆\n",
       "4  邵晓旭  女  陆"
      ]
     },
     "metadata": {},
     "output_type": "display_data"
    }
   ],
   "source": [
    "hu = pd.read_csv(\"Hu.csv\", )\n",
    "lu = pd.read_csv(\"Lu.csv\")\n",
    "hu.drop(['序号'], axis = 1, inplace = True), lu.drop(['序号'], axis = 1, inplace = True)\n",
    "hu['导师'] = '胡'\n",
    "lu['导师'] = '陆'\n",
    "display(hu.head(), lu.head())"
   ]
  },
  {
   "cell_type": "code",
   "execution_count": 94,
   "metadata": {},
   "outputs": [],
   "source": [
    "total = shuffle(pd.concat([hu, lu], ignore_index=True))"
   ]
  },
  {
   "cell_type": "code",
   "execution_count": 95,
   "metadata": {},
   "outputs": [
    {
     "data": {
      "text/plain": [
       "女    40\n",
       "男    29\n",
       "Name: 性别, dtype: int64"
      ]
     },
     "execution_count": 95,
     "metadata": {},
     "output_type": "execute_result"
    }
   ],
   "source": [
    "total[\"性别\"].value_counts()"
   ]
  },
  {
   "cell_type": "code",
   "execution_count": 83,
   "metadata": {},
   "outputs": [
    {
     "data": {
      "text/plain": [
       "[0, 5, 10, 15, 20, 25, 30, 35, 40, 45, 50, 55, 60, 65]"
      ]
     },
     "execution_count": 83,
     "metadata": {},
     "output_type": "execute_result"
    }
   ],
   "source": [
    "[x for x in range(0, 70, 5)]"
   ]
  },
  {
   "cell_type": "code",
   "execution_count": 117,
   "metadata": {},
   "outputs": [
    {
     "ename": "SyntaxError",
     "evalue": "invalid syntax (<ipython-input-117-4aeda13bdf91>, line 5)",
     "output_type": "error",
     "traceback": [
      "\u001b[0;36m  File \u001b[0;32m\"<ipython-input-117-4aeda13bdf91>\"\u001b[0;36m, line \u001b[0;32m5\u001b[0m\n\u001b[0;31m    if '女' in display(list(names['性别'][i:i + 5]))\u001b[0m\n\u001b[0m                                                 ^\u001b[0m\n\u001b[0;31mSyntaxError\u001b[0m\u001b[0;31m:\u001b[0m invalid syntax\n"
     ]
    }
   ],
   "source": [
    "def shuffle_list(names):\n",
    "    names = shuffle(names)\n",
    "    first = [x for x in range(0, 70, 5)]\n",
    "    for i in first:\n",
    "        if '女' in display(names['性别'][i:i + 5])\n",
    "        print(1)\n",
    "\n",
    "\n",
    "shuffle_list(total)"
   ]
  },
  {
   "cell_type": "code",
   "execution_count": 116,
   "metadata": {},
   "outputs": [
    {
     "data": {
      "text/plain": [
       "25    男\n",
       "38    女\n",
       "1     男\n",
       "49    男\n",
       "60    男\n",
       "22    男\n",
       "56    男\n",
       "61    女\n",
       "48    女\n",
       "65    女\n",
       "64    女\n",
       "53    女\n",
       "51    女\n",
       "43    女\n",
       "57    女\n",
       "3     女\n",
       "21    男\n",
       "20    女\n",
       "4     男\n",
       "63    男\n",
       "55    女\n",
       "28    男\n",
       "8     男\n",
       "13    男\n",
       "54    女\n",
       "0     男\n",
       "33    男\n",
       "32    男\n",
       "66    女\n",
       "16    女\n",
       "     ..\n",
       "15    女\n",
       "18    男\n",
       "68    男\n",
       "31    女\n",
       "34    男\n",
       "23    男\n",
       "35    女\n",
       "47    男\n",
       "2     女\n",
       "44    男\n",
       "41    女\n",
       "17    男\n",
       "5     男\n",
       "29    女\n",
       "7     女\n",
       "58    女\n",
       "52    男\n",
       "24    女\n",
       "40    女\n",
       "42    女\n",
       "30    女\n",
       "39    女\n",
       "6     男\n",
       "12    女\n",
       "11    女\n",
       "50    男\n",
       "27    女\n",
       "67    女\n",
       "10    女\n",
       "46    女\n",
       "Name: 性别, Length: 69, dtype: object"
      ]
     },
     "execution_count": 116,
     "metadata": {},
     "output_type": "execute_result"
    }
   ],
   "source": [
    "total[\"性别\"]"
   ]
  },
  {
   "cell_type": "code",
   "execution_count": null,
   "metadata": {},
   "outputs": [],
   "source": []
  }
 ],
 "metadata": {
  "kernelspec": {
   "display_name": "Python 3",
   "language": "python",
   "name": "python3"
  },
  "language_info": {
   "codemirror_mode": {
    "name": "ipython",
    "version": 3
   },
   "file_extension": ".py",
   "mimetype": "text/x-python",
   "name": "python",
   "nbconvert_exporter": "python",
   "pygments_lexer": "ipython3",
   "version": "3.7.0"
  }
 },
 "nbformat": 4,
 "nbformat_minor": 2
}
