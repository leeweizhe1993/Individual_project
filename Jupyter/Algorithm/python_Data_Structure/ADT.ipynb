{
 "cells": [
  {
   "cell_type": "code",
   "execution_count": 9,
   "metadata": {},
   "outputs": [],
   "source": [
    "class Bag(object):\n",
    "    \n",
    "    def __init__(self, maxsize = 10):\n",
    "        self.maxsize = maxsize\n",
    "        self._items = list()\n",
    "    \n",
    "    def add(self, item):\n",
    "        if len(self) > self.maxsize:\n",
    "            raise Exception(\"Bag is Full\")\n",
    "        self._items.append(item)\n",
    "        \n",
    "    def remove(self, item):\n",
    "        self._items.remove(item)\n",
    "        \n",
    "    def __len__(self):\n",
    "        return len(self._items)\n",
    "    \n",
    "    def __iter__(self):\n",
    "        for item in self._items:\n",
    "            yield item"
   ]
  },
  {
   "cell_type": "code",
   "execution_count": 12,
   "metadata": {},
   "outputs": [
    {
     "name": "stdout",
     "output_type": "stream",
     "text": [
      "1\n",
      "2\n"
     ]
    }
   ],
   "source": [
    "def test_bag():\n",
    "    bag = Bag()\n",
    "    bag.add(1)\n",
    "    bag.add(2)\n",
    "    bag.add(3)\n",
    "    \n",
    "    assert len(bag) == 3\n",
    "    \n",
    "    bag.remove(3)\n",
    "    \n",
    "    assert len(bag) == 2\n",
    "    \n",
    "    for i in bag:\n",
    "        print(i)\n",
    "        \n",
    "test_bag()"
   ]
  },
  {
   "cell_type": "code",
   "execution_count": 5,
   "metadata": {},
   "outputs": [
    {
     "ename": "NameError",
     "evalue": "name 'py' is not defined",
     "output_type": "error",
     "traceback": [
      "\u001b[1;31m---------------------------------------------------------------------------\u001b[0m",
      "\u001b[1;31mNameError\u001b[0m                                 Traceback (most recent call last)",
      "\u001b[1;32m<ipython-input-5-5a7e5e8b939c>\u001b[0m in \u001b[0;36m<module>\u001b[1;34m()\u001b[0m\n\u001b[1;32m----> 1\u001b[1;33m \u001b[0mpy\u001b[0m\u001b[1;33m.\u001b[0m\u001b[0mtest\u001b[0m\u001b[1;33m\u001b[0m\u001b[0m\n\u001b[0m",
      "\u001b[1;31mNameError\u001b[0m: name 'py' is not defined"
     ]
    }
   ],
   "source": [
    "py.test"
   ]
  }
 ],
 "metadata": {
  "kernelspec": {
   "display_name": "Python 3",
   "language": "python",
   "name": "python3"
  },
  "language_info": {
   "codemirror_mode": {
    "name": "ipython",
    "version": 3
   },
   "file_extension": ".py",
   "mimetype": "text/x-python",
   "name": "python",
   "nbconvert_exporter": "python",
   "pygments_lexer": "ipython3",
   "version": "3.6.5"
  }
 },
 "nbformat": 4,
 "nbformat_minor": 2
}
