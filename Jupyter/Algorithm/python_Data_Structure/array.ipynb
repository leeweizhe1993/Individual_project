{
 "cells": [
  {
   "cell_type": "code",
   "execution_count": 1,
   "metadata": {},
   "outputs": [],
   "source": [
    "from array import array\n",
    "import IPython.core.display as di"
   ]
  },
  {
   "cell_type": "markdown",
   "metadata": {},
   "source": [
    "#### python中array只能存同一类型数据(数值、字符)，推荐np.array"
   ]
  },
  {
   "cell_type": "code",
   "execution_count": 6,
   "metadata": {},
   "outputs": [
    {
     "data": {
      "text/plain": [
       "('a', 's', 'd', 'f')"
      ]
     },
     "execution_count": 6,
     "metadata": {},
     "output_type": "execute_result"
    }
   ],
   "source": [
    "arr = array('u', 'asdf')\n",
    "arr[0], arr[1], arr[2], arr[3]"
   ]
  },
  {
   "cell_type": "code",
   "execution_count": 7,
   "metadata": {},
   "outputs": [
    {
     "data": {
      "text/plain": [
       "[None, None, None, None, None]"
      ]
     },
     "execution_count": 7,
     "metadata": {},
     "output_type": "execute_result"
    }
   ],
   "source": [
    "[None] * 5"
   ]
  },
  {
   "cell_type": "code",
   "execution_count": 5,
   "metadata": {},
   "outputs": [],
   "source": [
    "import base64"
   ]
  },
  {
   "cell_type": "code",
   "execution_count": 6,
   "metadata": {},
   "outputs": [
    {
     "name": "stdout",
     "output_type": "stream",
     "text": [
      "b'shatian@malong.com'\n"
     ]
    }
   ],
   "source": [
    "print(base64.b64decode('c2hhdGlhbkBtYWxvbmcuY29t'))"
   ]
  },
  {
   "cell_type": "markdown",
   "metadata": {},
   "source": [
    "## 实现定长array"
   ]
  },
  {
   "cell_type": "code",
   "execution_count": 9,
   "metadata": {},
   "outputs": [],
   "source": [
    "'''array是'''\n",
    "class Array(object):\n",
    "    \n",
    "    def __init__(self, size = 32):\n",
    "        self._size = size\n",
    "        self._items = [None] * size\n",
    "        \n",
    "    def __getitem__(self, index):    #返回序号\n",
    "        return self._items[index]\n",
    "    \n",
    "    def __setitem__(self, index, value):\n",
    "        self._items[index] = value\n",
    "        \n",
    "    def __len__(self):\n",
    "        return self._size\n",
    "    \n",
    "    def clear(self, value = None):\n",
    "        for i in range(len(sef.items)):\n",
    "            self._items[i] = value\n",
    "            \n",
    "    def __iter__(self):\n",
    "        for item in self._items:\n",
    "            yield item\n",
    "            \n",
    "def test_array():\n",
    "    size = 10\n",
    "    a = Array(size)\n",
    "    \n",
    "    a[0] = 1\n",
    "    assert a[0] == 1\n",
    "    assert len(a) == 10\n",
    "    \n",
    "test_array()"
   ]
  },
  {
   "cell_type": "markdown",
   "metadata": {},
   "source": [
    "## 单向链表"
   ]
  },
  {
   "cell_type": "markdown",
   "metadata": {},
   "source": [
    "<img src = \"https://images2015.cnblogs.com/blog/871366/201605/871366-20160505145921935-124469013.png\">"
   ]
  },
  {
   "cell_type": "code",
   "execution_count": null,
   "metadata": {},
   "outputs": [],
   "source": [
    "class Node(object):    #定义node\n",
    "    \n",
    "    def __init__(self, value = None, nxt = None):    #值与指针\n",
    "        self.value, self.next = value, nxt\n",
    "        \n",
    "class LinkedList(object):\n",
    "    \n",
    "    def __init__(self, maxsize = None):\n",
    "        \"\"\"\n",
    "        :param maxsize: int or None, 如果是 None，无限扩充\n",
    "        \"\"\"\n",
    "        self.maxsize = maxsize\n",
    "        self.root = Node\n",
    "        self.tailnode = None\n",
    "        self.length = 0\n",
    "    \n",
    "    def __len__(self):\n",
    "        return self.length\n",
    "    \n",
    "    def append(self, value):\n",
    "        if self.maxsize is not None and len(self) >= self.maxsize:\n",
    "            raise Exception(\"LinkedList is Full\")\n",
    "        node = Node(value)\n",
    "        self.root.next = node\n",
    "        node.next = headnode"
   ]
  },
  {
   "cell_type": "code",
   "execution_count": null,
   "metadata": {},
   "outputs": [],
   "source": [
    "class Node(object):    #定义node\n",
    "    \n",
    "    def __init__(self, value = None, nxt = None):    #值和指针\n",
    "        self.value, self.next = value, nxt\n",
    "        \n",
    "class LinkedList(object):\n",
    "    \"\"\" 链接表 ADT\n",
    "    [root] -> [node0] -> [node1] -> [node2]\n",
    "    \"\"\"\n",
    "    def __init__(self, maxsize = None):\n",
    "        \"\"\"\n",
    "        :param maxsize: int or None, 如果是 None，无限扩充\n",
    "        \"\"\"\n",
    "        self.maxsize = maxsize\n",
    "        self.root = Node()   #root为链表头值\n",
    "        self.length = 0\n",
    "        self.tailnode = None\n",
    "        \n",
    "    def __len__(self):    #链表长度\n",
    "        return self.length\n",
    "    \n",
    "    def append(self, value):    #添加元素\n",
    "        if self.maxsize is not None and len(self) > self.maxsize:\n",
    "            raise Exception(\"Full\")\n",
    "        node = Node(value)    #构造节点\n",
    "        tailnode = self.tailnode    \n",
    "        if tailnode is None:\n",
    "            self.root.next = node    # 还没有 append 过，length = 0， 追加到 root 后\n",
    "        else:\n",
    "            tailnode.next = node    # 否则追加到最后一个节点的后边，并更新最后一个节点是 append 的节点\n",
    "        self.tailnode = node\n",
    "        self.length += 1\n",
    "    \n",
    "    def appendleft(self, value):    #左侧添加\n",
    "        headnode = self.root.next\n",
    "        node = Node(value)\n",
    "        self.root.next = node\n",
    "        node.next = headnode\n",
    "        self.length += 1\n",
    "        \n",
    "    def iter_node(self):\n",
    "        \"\"\"遍历 从 head 节点到 tail 节点\"\"\"\n",
    "        curnode = self.root.next\n",
    "        while curnode is not self.tailnode:\n",
    "            yield curnode\n",
    "            curnode = curnode.next\n",
    "        yield curnode\n",
    "    \n",
    "    def __iter__(self):    #迭代方法\n",
    "        for node in self.iter_node():\n",
    "            yield node.value\n",
    "        \n",
    "    def remove(self, value):    #O(n)\n",
    "        \"\"\" 删除包含值的一个节点，将其前一个节点的 next 指向被查询节点的下一个即可\n",
    "\n",
    "        :param value:\n",
    "        \"\"\"\n",
    "        prevnode = self.root   \n",
    "        for curnode in self.iter_node():\n",
    "            if curnode.value == value:\n",
    "                prevnode.next = curnode.next\n",
    "                if curnode is self.tailnode:  # NOTE: 注意更新 tailnode\n",
    "                    self.tailnode = prevnode\n",
    "                del curnode\n",
    "                self.length -= 1\n",
    "                return 1  # 表明删除成功\n",
    "            else:\n",
    "                prevnode = curnode\n",
    "        return -1  # 表明删除失败\n",
    "    \n",
    "    def find(self, value):    #O(n)\n",
    "        index = 0\n",
    "        for node in self.iter_node():\n",
    "            if node.value == value:\n",
    "                return index\n",
    "            index += 1\n",
    "        return -1    #未找到的元素返回-1\n",
    "    \n",
    "    def popleft(self): #O(1)\n",
    "        if self.root.next is None:\n",
    "            raise Exception(\"pop from empty LinkedList\")\n",
    "        headnode = self.root.next\n",
    "        self.root.next = headnode.next\n",
    "        self.length -= 1\n",
    "        value = headnode.value\n",
    "        del headnode\n",
    "        return value\n",
    "    \n",
    "    def clear(self):\n",
    "        for node in self.iter_node():\n",
    "            del node\n",
    "        self.root.next = None\n",
    "        self.length = 0\n",
    "        \n",
    "        \n",
    "def test_Linked_list():\n",
    "    ll = LinkedList()\n",
    "    \n",
    "    ll.append(0)\n",
    "    ll.append(1)\n",
    "    ll.append(2)\n",
    "    \n",
    "    assert len(ll) == 3\n",
    "    assert ll.find(2) == 2\n",
    "    assert ll.find(3) == -1\n",
    "    \n",
    "    ll.remove(0)\n",
    "    assert len(ll) == 2\n",
    "    assert ll.find(0) == -1\n",
    "    assert list(ll) == [1, 2]\n",
    "    \n",
    "    ll.appendleft(0)\n",
    "    assert list(ll) == [0, 1, 2]\n",
    "    assert len(ll) == 3\n",
    "    \n",
    "    headvalue = ll.popleft()\n",
    "    assert headvalue == 0\n",
    "    assert len(ll) == 2\n",
    "    assert list(ll) == [1, 2]\n",
    "    \n",
    "    ll.clear()\n",
    "    assert len(ll) == 0\n",
    "        \n",
    "test_Linked_list()"
   ]
  },
  {
   "cell_type": "code",
   "execution_count": 14,
   "metadata": {},
   "outputs": [
    {
     "data": {
      "text/plain": [
       "[0, 0, 1, 2]"
      ]
     },
     "execution_count": 14,
     "metadata": {},
     "output_type": "execute_result"
    }
   ],
   "source": [
    "ll = LinkedList()\n",
    "    \n",
    "ll.append(0)\n",
    "ll.append(1)\n",
    "ll.append(2)\n",
    "\n",
    "ll.appendleft(0)\n",
    "list(ll)"
   ]
  },
  {
   "cell_type": "markdown",
   "metadata": {},
   "source": [
    "## 双链表"
   ]
  },
  {
   "cell_type": "code",
   "execution_count": 5,
   "metadata": {},
   "outputs": [
    {
     "ename": "AssertionError",
     "evalue": "",
     "output_type": "error",
     "traceback": [
      "\u001b[1;31m---------------------------------------------------------------------------\u001b[0m",
      "\u001b[1;31mAssertionError\u001b[0m                            Traceback (most recent call last)",
      "\u001b[1;32m<ipython-input-5-d9551624af05>\u001b[0m in \u001b[0;36m<module>\u001b[1;34m()\u001b[0m\n\u001b[0;32m    114\u001b[0m \u001b[1;33m\u001b[0m\u001b[0m\n\u001b[0;32m    115\u001b[0m \u001b[1;32mif\u001b[0m \u001b[0m__name__\u001b[0m \u001b[1;33m==\u001b[0m \u001b[1;34m'__main__'\u001b[0m\u001b[1;33m:\u001b[0m\u001b[1;33m\u001b[0m\u001b[0m\n\u001b[1;32m--> 116\u001b[1;33m     \u001b[0mtest_double_link_list\u001b[0m\u001b[1;33m(\u001b[0m\u001b[1;33m)\u001b[0m\u001b[1;33m\u001b[0m\u001b[0m\n\u001b[0m",
      "\u001b[1;32m<ipython-input-5-d9551624af05>\u001b[0m in \u001b[0;36mtest_double_link_list\u001b[1;34m()\u001b[0m\n\u001b[0;32m    102\u001b[0m \u001b[1;33m\u001b[0m\u001b[0m\n\u001b[0;32m    103\u001b[0m     \u001b[1;32massert\u001b[0m \u001b[1;33m[\u001b[0m\u001b[0mnode\u001b[0m\u001b[1;33m.\u001b[0m\u001b[0mvalue\u001b[0m \u001b[1;32mfor\u001b[0m \u001b[0mnode\u001b[0m \u001b[1;32min\u001b[0m \u001b[0mdll\u001b[0m\u001b[1;33m.\u001b[0m\u001b[0miter_node\u001b[0m\u001b[1;33m(\u001b[0m\u001b[1;33m)\u001b[0m\u001b[1;33m]\u001b[0m \u001b[1;33m==\u001b[0m \u001b[1;33m[\u001b[0m\u001b[1;36m0\u001b[0m\u001b[1;33m,\u001b[0m \u001b[1;36m1\u001b[0m\u001b[1;33m,\u001b[0m \u001b[1;36m2\u001b[0m\u001b[1;33m]\u001b[0m\u001b[1;33m\u001b[0m\u001b[0m\n\u001b[1;32m--> 104\u001b[1;33m     \u001b[1;32massert\u001b[0m \u001b[1;33m[\u001b[0m\u001b[0mnode\u001b[0m\u001b[1;33m.\u001b[0m\u001b[0mvalue\u001b[0m \u001b[1;32mfor\u001b[0m \u001b[0mnode\u001b[0m \u001b[1;32min\u001b[0m \u001b[0mdll\u001b[0m\u001b[1;33m.\u001b[0m\u001b[0mreverse_iter\u001b[0m\u001b[1;33m(\u001b[0m\u001b[1;33m)\u001b[0m\u001b[1;33m]\u001b[0m \u001b[1;33m==\u001b[0m \u001b[1;33m[\u001b[0m\u001b[1;36m2\u001b[0m\u001b[1;33m,\u001b[0m \u001b[1;36m1\u001b[0m\u001b[1;33m,\u001b[0m \u001b[1;36m1\u001b[0m\u001b[1;33m]\u001b[0m\u001b[1;33m\u001b[0m\u001b[0m\n\u001b[0m\u001b[0;32m    105\u001b[0m \u001b[1;33m\u001b[0m\u001b[0m\n\u001b[0;32m    106\u001b[0m     \u001b[0mheadnode\u001b[0m \u001b[1;33m=\u001b[0m \u001b[0mdll\u001b[0m\u001b[1;33m.\u001b[0m\u001b[0mheadnode\u001b[0m\u001b[1;33m(\u001b[0m\u001b[1;33m)\u001b[0m\u001b[1;33m\u001b[0m\u001b[0m\n",
      "\u001b[1;31mAssertionError\u001b[0m: "
     ]
    }
   ],
   "source": [
    "class Node(object):    #定义node\n",
    "    \n",
    "    def __init__(self, value = None, pre = None, nxt = None):    #值和指针\n",
    "        self.value, self.pre, self.next = value, pre, nxt\n",
    "        \n",
    "class CircularDoubleLinkedList(object):\n",
    "    \"\"\"循环双端链表 ADT\n",
    "    多了个循环其实就是把 root 的 pre 指向 tail 节点，串起来\n",
    "    \"\"\"\n",
    "    \n",
    "    def __init__(self, maxsize = None):\n",
    "        self.maxsize = maxsize\n",
    "        node = Node()\n",
    "        node.next, node.pre = node, node    #指向自己实现闭环\n",
    "        self.root = node\n",
    "        self.length = 0\n",
    "        \n",
    "    def __len__(self):\n",
    "        return self.length\n",
    "    \n",
    "    def headnode(self):\n",
    "        return self.root.next\n",
    "    \n",
    "    def tailnode(self):\n",
    "        return self.root.pre    #循环列表，root节点的pre指向尾节点\n",
    "    \n",
    "    def append(self, value):\n",
    "        if self.maxsize is not None and len(self) > self.maxsize:\n",
    "            raise Exception(\"full\")\n",
    "        node = Node(value = value)    #新建一个节点\n",
    "        tailnode = self.tailnode()\n",
    "        \n",
    "        tailnode.next = node    #append的节点增添至尾节点后\n",
    "        node.pre = tailnode    #之前的tialnode作为pre节点\n",
    "        node.next = self.root    #append节点后为root节点\n",
    "        self.root.pre = node    #更新root节点的pre\n",
    "        \n",
    "        self.length += 1\n",
    "        \n",
    "    def appendleft(self, value):\n",
    "        if self.maxsize is not None and len(self) > self.maxsize:\n",
    "            raise Exception(\"full\")\n",
    "        node = Node(value = value)\n",
    "        \n",
    "        if self.root.next is self.root:    #空链表\n",
    "            node.pre = self.root\n",
    "            node.next = self.root\n",
    "            self.root.pre = node\n",
    "            selg.root.next = node\n",
    "        else:\n",
    "            node.pre = self.root\n",
    "            headnode = self.root.next\n",
    "            node.next = headnode\n",
    "            headnode.pre = node\n",
    "            self.root.next = node\n",
    "        self.length += 1\n",
    "        \n",
    "    def remove(self, node):    # O(1)，传入node 而不是 value 就能实现 O(1) 删除\n",
    "        \"\"\"remove\n",
    "        :param node  # 在 lru_cache 里实际上根据key 保存了整个node:\n",
    "        \"\"\"\n",
    "        if node is self.root:\n",
    "            return\n",
    "        else:\n",
    "            node.pre.next = node.next #将前一节点与后一节点相连\n",
    "            node.next.pre = node.pre\n",
    "        self.length -= 1\n",
    "        return node\n",
    "    \n",
    "    def iter_node(self):\n",
    "        if self.root.next is self.root:\n",
    "            return\n",
    "        curnode = self.root.next\n",
    "        while curnode.next is not self.root:\n",
    "            yield curnode\n",
    "            curnode = curnode.next\n",
    "        yield curnode\n",
    "        \n",
    "    def __iter__(self):\n",
    "        for node in self.iter_node():\n",
    "            yield node.value\n",
    "            \n",
    "    def reverse_iter(self):\n",
    "        '''相比单链表独有的反序遍历'''\n",
    "        if self.root.pre is self.root:\n",
    "            return\n",
    "        curnode = self.root.pre\n",
    "        while curnode.pre is not self.root:\n",
    "            yield curnode\n",
    "            curnode = curnode.pre\n",
    "        yield curnode\n",
    "        \n",
    "def test_double_link_list():\n",
    "    dll = CircularDoubleLinkedList()\n",
    "    assert len(dll) == 0\n",
    "    \n",
    "    dll.append(0)\n",
    "    dll.append(1)\n",
    "    dll.append(2)\n",
    "    \n",
    "    assert list(dll) == [0, 1, 2]\n",
    "    \n",
    "    assert [node.value for node in dll.iter_node()] == [0, 1, 2]\n",
    "    assert [node.value for node in dll.reverse_iter()] == [2, 1, 1]\n",
    "    \n",
    "    headnode = dll.headnode()\n",
    "    assert headnode.value == 0\n",
    "    dll.remove(headnode)\n",
    "    assert len(dll) == 2\n",
    "    assert [node.value for node in dll.iter_node()] == [1, 2]\n",
    "    \n",
    "    dll.appendleft(0)\n",
    "    assert [node.value for node in dll.iter_node()] == [0, 1, 2]\n",
    "    \n",
    "if __name__ == '__main__':\n",
    "    test_double_link_list()"
   ]
  }
 ],
 "metadata": {
  "kernelspec": {
   "display_name": "Python 3",
   "language": "python",
   "name": "python3"
  },
  "language_info": {
   "codemirror_mode": {
    "name": "ipython",
    "version": 3
   },
   "file_extension": ".py",
   "mimetype": "text/x-python",
   "name": "python",
   "nbconvert_exporter": "python",
   "pygments_lexer": "ipython3",
   "version": "3.6.5"
  }
 },
 "nbformat": 4,
 "nbformat_minor": 2
}
