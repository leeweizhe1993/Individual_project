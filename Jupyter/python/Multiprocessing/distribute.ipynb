{
 "cells": [
  {
   "cell_type": "code",
   "execution_count": null,
   "metadata": {},
   "outputs": [],
   "source": [
    "import random, time, queue\n",
    "from multiprocessing.managers import BaseManager\n",
    "\n",
    "# 发送任务的队列:\n",
    "task_queue = queue.Queue()\n",
    "# 接收结果的队列:\n",
    "result_queue = queue.Queue()\n",
    "\n",
    "# 从BaseManager继承的QueueManager:\n",
    "class QueueManager(BaseManager):\n",
    "    pass\n",
    "\n",
    "# 把两个Queue都注册到网络上, callable参数关联了Queue对象:\n",
    "QueueManager.register('get_task_queue', callable=lambda: task_queue)\n",
    "QueueManager.register('get_result_queue', callable=lambda: result_queue)\n",
    "# 绑定端口5000, 设置验证码'abc':\n",
    "manager = QueueManager(address=('', 5000), authkey=b'abc')\n",
    "# 启动Queue:\n",
    "manager.start()\n",
    "# 获得通过网络访问的Queue对象:\n",
    "task = manager.get_task_queue()\n",
    "result = manager.get_result_queue()\n",
    "# 放几个任务进去:\n",
    "for i in range(10):\n",
    "    n = random.randint(0, 10000)\n",
    "    print('Put task %d...' % n)\n",
    "    task.put(n)\n",
    "# 从result队列读取结果:\n",
    "print('Try get results...')\n",
    "for i in range(10):\n",
    "    r = result.get(timeout=10)\n",
    "    print('Result: %s' % r)\n",
    "# 关闭:\n",
    "manager.shutdown()\n",
    "print('master exit.')"
   ]
  },
  {
   "cell_type": "code",
   "execution_count": null,
   "metadata": {},
   "outputs": [],
   "source": []
  }
 ],
 "metadata": {
  "kernelspec": {
   "display_name": "Python 3",
   "language": "python",
   "name": "python3"
  },
  "language_info": {
   "codemirror_mode": {
    "name": "ipython",
    "version": 3
   },
   "file_extension": ".py",
   "mimetype": "text/x-python",
   "name": "python",
   "nbconvert_exporter": "python",
   "pygments_lexer": "ipython3",
   "version": "3.6.6"
  }
 },
 "nbformat": 4,
 "nbformat_minor": 2
}
