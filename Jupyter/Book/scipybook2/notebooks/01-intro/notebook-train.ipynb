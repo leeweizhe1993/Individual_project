{
 "cells": [
  {
   "cell_type": "markdown",
   "metadata": {},
   "source": [
    "# IPython Notebook操作练习"
   ]
  },
  {
   "cell_type": "markdown",
   "metadata": {},
   "source": [
    "## 切换单元格类型"
   ]
  },
  {
   "cell_type": "markdown",
   "metadata": {},
   "source": [
    "本节练习命令模式下的单元格操作，如果单元格的边框为绿色，请按ESC键，退回到命令模式。在命令模式下被选中的单元采用灰色边框显示。按**上下方向键**可以移动选择框。"
   ]
  },
  {
   "cell_type": "markdown",
   "metadata": {},
   "source": [
    "在命令模式下按下面的按键，切换单元格类型：\n",
    "\n",
    "* 数字键：将单元格变为标题类型，数字越大标题越小\n",
    "* m：将单元格变为markdown类型，在markdown类型的单元格内可以编写文档\n",
    "* y: 将单元格变为代码类型，在代码类型的单元格中输入Python代码\n",
    "\n",
    "注：将代码类型改为标题类型和markdown类型之后，按Ctrl+Enter对其进行格式化显示。以下单元格均为代码类型，请将其修改为正确的类型。"
   ]
  },
  {
   "cell_type": "code",
   "execution_count": null,
   "metadata": {
    "collapsed": false
   },
   "outputs": [],
   "source": [
    "请将我变为一级标题，然后按Ctrl+Enter"
   ]
  },
  {
   "cell_type": "code",
   "execution_count": null,
   "metadata": {
    "collapsed": false
   },
   "outputs": [],
   "source": [
    "请将我变为二级标题"
   ]
  },
  {
   "cell_type": "code",
   "execution_count": null,
   "metadata": {
    "collapsed": false
   },
   "outputs": [],
   "source": [
    "请将我变为三级标题"
   ]
  },
  {
   "cell_type": "code",
   "execution_count": null,
   "metadata": {
    "collapsed": false
   },
   "outputs": [],
   "source": [
    "请将我变为markdown类型，在markdown类型的单元中可以编辑**文档**。例如：\n",
    "\n",
    "* 我是一个无序号列表\n",
    "* 我是列表的第二项\n",
    "\n",
    "markdown中可以使用**$$**嵌入LaTeX数学公式，例如：\n",
    "\n",
    "$$ \\sqrt{x^2 + y^2} $$"
   ]
  },
  {
   "cell_type": "markdown",
   "metadata": {},
   "source": [
    "#### 请将我变为code类型，然后按Ctrl+Enter运行下面的代码\n",
    "print \"hello world!\""
   ]
  },
  {
   "cell_type": "markdown",
   "metadata": {},
   "source": [
    "## 增删单元格"
   ]
  },
  {
   "cell_type": "markdown",
   "metadata": {},
   "source": [
    "在命令模式下通过下面的命令增删单元格：\n",
    "\n",
    "* d: 按两下d按键删除单元格\n",
    "* z: 撤销最后删除单元格操作\n",
    "* a: 在当前单元格之上创建一个新的单元格\n",
    "* b: 在当前单元格之下创建一个新的单元格"
   ]
  },
  {
   "cell_type": "markdown",
   "metadata": {},
   "source": [
    "请按两下d按键删除我"
   ]
  },
  {
   "cell_type": "markdown",
   "metadata": {},
   "source": [
    "请按z键恢复刚才删除的单元"
   ]
  },
  {
   "cell_type": "markdown",
   "metadata": {},
   "source": [
    "请按a按键在我上面创建一个新的单元格"
   ]
  },
  {
   "cell_type": "markdown",
   "metadata": {},
   "source": [
    "请按b按键在我下面创建一个新的单元格"
   ]
  },
  {
   "cell_type": "markdown",
   "metadata": {},
   "source": [
    "* x: 剪切当前单元格\n",
    "* c: 复制当前单元格\n",
    "* v: 在当前单元格之下粘贴剪切板中的单元格"
   ]
  },
  {
   "cell_type": "markdown",
   "metadata": {},
   "source": [
    "**A** 请将我复制一份，粘贴到B的下面"
   ]
  },
  {
   "cell_type": "markdown",
   "metadata": {},
   "source": [
    "**B** 请将我剪切-粘贴到C的下面"
   ]
  },
  {
   "cell_type": "markdown",
   "metadata": {},
   "source": [
    "**C** 请不要动我"
   ]
  },
  {
   "cell_type": "markdown",
   "metadata": {},
   "source": [
    "## 移动单元"
   ]
  },
  {
   "cell_type": "markdown",
   "metadata": {},
   "source": [
    "* ctrl+k: 将当前单元格上移\n",
    "* ctrl+j: 将当前单元格下移\n",
    "\n",
    "请使用上述快捷键将下面的单元格按照从小到大排序："
   ]
  },
  {
   "cell_type": "markdown",
   "metadata": {},
   "source": [
    "**C**"
   ]
  },
  {
   "cell_type": "markdown",
   "metadata": {},
   "source": [
    "**D**"
   ]
  },
  {
   "cell_type": "markdown",
   "metadata": {},
   "source": [
    "**B**"
   ]
  },
  {
   "cell_type": "markdown",
   "metadata": {},
   "source": [
    "**A**"
   ]
  },
  {
   "cell_type": "markdown",
   "metadata": {},
   "source": [
    "## 合并单元"
   ]
  },
  {
   "cell_type": "markdown",
   "metadata": {},
   "source": [
    "* shift+m:与下面的单元合并\n",
    "\n",
    "请将下面三个单元合并，然后按**ctrl+Enter**运行"
   ]
  },
  {
   "cell_type": "code",
   "execution_count": null,
   "metadata": {
    "collapsed": false
   },
   "outputs": [],
   "source": [
    "n = 4"
   ]
  },
  {
   "cell_type": "code",
   "execution_count": null,
   "metadata": {
    "collapsed": false
   },
   "outputs": [],
   "source": [
    "for i in range(n):"
   ]
  },
  {
   "cell_type": "code",
   "execution_count": null,
   "metadata": {
    "collapsed": false
   },
   "outputs": [],
   "source": [
    "    print i"
   ]
  },
  {
   "cell_type": "markdown",
   "metadata": {},
   "source": [
    "## 编辑和运行"
   ]
  },
  {
   "cell_type": "markdown",
   "metadata": {},
   "source": [
    "在编辑模式下，单元使用绿色边框显示。在命令模式下按Enter即可进入编辑模式。编辑完成之后按Ctrl+Enter即可结束编辑：\n",
    "\n",
    "* 对于代码单元将运行其中的代码\n",
    "* 对于标题单元和markdown单元将格式化显示\n",
    "\n",
    "也可以按ESC退出编辑模式，此时不会执行代码或进行格式化显示。"
   ]
  },
  {
   "cell_type": "markdown",
   "metadata": {},
   "source": [
    "**晴**修改这句话中的**错别字**，并格式化显示。"
   ]
  },
  {
   "cell_type": "code",
   "execution_count": null,
   "metadata": {
    "collapsed": false
   },
   "outputs": [],
   "source": [
    "#请修改本代码中的错误，并运行。提示：将prnt修改为print\n",
    "n = 4\n",
    "for i in range(n):\n",
    "    prnt i"
   ]
  },
  {
   "cell_type": "markdown",
   "metadata": {},
   "source": [
    "在运行代码时，经常需要顺序运行多个单元中的代码。此时可以按Shift+Enter运行当前选择的代码单元，并自动选择下一个单元。请连续按Shift+Enter，运行下面三个单元中的代码。"
   ]
  },
  {
   "cell_type": "code",
   "execution_count": 13,
   "metadata": {
    "collapsed": false
   },
   "outputs": [],
   "source": [
    "a = \"hello\""
   ]
  },
  {
   "cell_type": "code",
   "execution_count": 14,
   "metadata": {
    "collapsed": false
   },
   "outputs": [],
   "source": [
    "b = \"world\""
   ]
  },
  {
   "cell_type": "code",
   "execution_count": null,
   "metadata": {
    "collapsed": false
   },
   "outputs": [],
   "source": [
    "print a + \" \" + b + \"!\""
   ]
  },
  {
   "cell_type": "markdown",
   "metadata": {},
   "source": [
    "按Alt+Enter可以运行当前的代码并在下面插入新的单元。请按Alt+Enter运行下面的单元，然后在新插入的单元中输入`print x**2`："
   ]
  },
  {
   "cell_type": "code",
   "execution_count": 15,
   "metadata": {
    "collapsed": false
   },
   "outputs": [],
   "source": [
    "x = 0xffff"
   ]
  },
  {
   "cell_type": "markdown",
   "metadata": {},
   "source": [
    "## Markdown扫盲教程"
   ]
  },
  {
   "cell_type": "markdown",
   "metadata": {},
   "source": [
    "Notebook采用markdown对文本进行格式化标注。关于markdown的详细信息请阅读下面的教程：\n",
    "\n",
    "http://www.jianshu.com/p/1e402922ee32\n",
    "\n",
    "在命令模式下按Enter键进入编辑模式即可查看本段文字的Markdown代码。\n",
    "\n",
    "**无序列表**\n",
    "\n",
    "* 无序列表第一行\n",
    "* 无序列表第二行\n",
    "\n",
    "**序号列表**\n",
    "\n",
    "1. 有序列表第一行\n",
    "1. 有序列表第二行\n",
    "1. 有序列表第三行"
   ]
  },
  {
   "cell_type": "markdown",
   "metadata": {},
   "source": [
    "**请仿照上面单元的markdown文本在本单元中创建一个无序列表和序号列表**"
   ]
  },
  {
   "cell_type": "markdown",
   "metadata": {},
   "source": [
    "在行内的数学公式使用单个\\$括起，例如：$x = y^z$。单独占一行的数学公式使用$$括起，例如：\n",
    "\n",
    "$$ c^2 = a^2 + b^2 $$\n",
    "\n",
    "数学公式采用LaTeX格式编写，可以使用下面的在线编辑器编写LaTeX数学公式：\n",
    "\n",
    "http://www.codecogs.com/latex/eqneditor.php?lang=zh-cn"
   ]
  },
  {
   "cell_type": "markdown",
   "metadata": {},
   "source": [
    "**请点击上面的连接打开在线编辑器，并点击该页面右上方的例子按钮，从例子公式中选择一个公式添加进本单元**"
   ]
  },
  {
   "cell_type": "markdown",
   "metadata": {},
   "source": [
    "一些其他的格式：\n",
    "\n",
    "**粗体**, *斜体* \n",
    "\n",
    "下面是分割线\n",
    "\n",
    "***\n",
    "\n",
    "下面是引用块\n",
    "\n",
    "> 在引用块中可以引用一段文字。"
   ]
  },
  {
   "cell_type": "markdown",
   "metadata": {},
   "source": [
    "## 操作运算核"
   ]
  },
  {
   "cell_type": "markdown",
   "metadata": {},
   "source": [
    "如果进入了Python的死循环，可以在命令模式下按两下i按键终止循环。\n",
    "\n",
    "请在下面的单元上按Ctrl+Enter进入死循环，注意右上角图标从<i class=\"kernel_idle_icon\"></i>变为<i class=\"kernel_busy_icon\"></i>，表示运算核正在工作，无法执行新的代码。\n",
    "\n",
    "请按两下i按键终止循环，注意右上角的图标变回<i class=\"kernel_idle_icon\"></i>。"
   ]
  },
  {
   "cell_type": "code",
   "execution_count": 17,
   "metadata": {
    "collapsed": false
   },
   "outputs": [
    {
     "ename": "KeyboardInterrupt",
     "evalue": "",
     "output_type": "error",
     "traceback": [
      "\u001b[1;31m---------------------------------------------------------------------------\u001b[0m\n\u001b[1;31mKeyboardInterrupt\u001b[0m                         Traceback (most recent call last)",
      "\u001b[1;32m<ipython-input-17-ba59e3a881f3>\u001b[0m in \u001b[0;36m<module>\u001b[1;34m()\u001b[0m\n\u001b[0;32m      1\u001b[0m \u001b[0mcount\u001b[0m \u001b[1;33m=\u001b[0m \u001b[1;36m0\u001b[0m\u001b[1;33m\u001b[0m\u001b[0m\n\u001b[1;32m----> 2\u001b[1;33m \u001b[1;32mwhile\u001b[0m \u001b[0mTrue\u001b[0m\u001b[1;33m:\u001b[0m\u001b[1;33m\u001b[0m\u001b[0m\n\u001b[0m\u001b[0;32m      3\u001b[0m     \u001b[0mcount\u001b[0m \u001b[1;33m+=\u001b[0m \u001b[1;36m1\u001b[0m\u001b[1;33m\u001b[0m\u001b[0m\n",
      "\u001b[1;31mKeyboardInterrupt\u001b[0m: "
     ]
    }
   ],
   "source": [
    "count = 0\n",
    "while True:\n",
    "    count += 1"
   ]
  },
  {
   "cell_type": "markdown",
   "metadata": {},
   "source": [
    "请在下面输入代码查看`count`变量的值："
   ]
  },
  {
   "cell_type": "code",
   "execution_count": null,
   "metadata": {
    "collapsed": false
   },
   "outputs": [],
   "source": []
  },
  {
   "cell_type": "markdown",
   "metadata": {},
   "source": [
    "i按键不能终止编译代码中的死循环，如果出现这种情况，可以按两次0按键重新启动运算核心，当前运行环境中的所有对象都将消失。\n",
    "\n",
    "首先执行下面的单元："
   ]
  },
  {
   "cell_type": "code",
   "execution_count": 2,
   "metadata": {
    "collapsed": false
   },
   "outputs": [],
   "source": [
    "%load_ext cython"
   ]
  },
  {
   "cell_type": "markdown",
   "metadata": {},
   "source": [
    "下面的代码采用Cython编写，它会编译成扩展库运行，我们在代码中加入死循环。由于该代码不由Python虚拟机执行，因此运行程序之后，运算进程将处于无法中断的状态。请按两次0按键终止循环："
   ]
  },
  {
   "cell_type": "code",
   "execution_count": null,
   "metadata": {
    "collapsed": false
   },
   "outputs": [],
   "source": [
    "%%cython\n",
    "count = 0\n",
    "while True:\n",
    "    count += 1"
   ]
  },
  {
   "cell_type": "markdown",
   "metadata": {},
   "source": [
    "下面看看运算进程的自动重启功能，执行下面的代码将会使运算进程异常终止，当服务器检查到运算进程异常终止之后，会弹出标题为“Kernel Restarting”的对话框，按OK按钮之后将自动重新启动新的运算进程。如果运算核始终处于忙状态，请按两下0按键重启运算核。"
   ]
  },
  {
   "cell_type": "code",
   "execution_count": null,
   "metadata": {
    "collapsed": false
   },
   "outputs": [],
   "source": [
    "import ctypes\n",
    "a = ctypes.cast(1, ctypes.POINTER(ctypes.c_int))\n",
    "a[0] = 100"
   ]
  },
  {
   "cell_type": "markdown",
   "metadata": {},
   "source": [
    "## 在线帮助和自动完成"
   ]
  },
  {
   "cell_type": "markdown",
   "metadata": {},
   "source": [
    "Notebook支持显示函数和方法的文档和源代码，以及自动完成对象的属性。在输入代码时，按[TAB]键可以显示自动完成提示框。自动完成支持当前执行环境中已知的模块名、变量名、对象的属性名，以及文件和目录名。请在下面每行未完成的语句最后按[TAB]键查看相应的自动完成提示框。"
   ]
  },
  {
   "cell_type": "code",
   "execution_count": null,
   "metadata": {
    "collapsed": false
   },
   "outputs": [],
   "source": [
    "#模块名\n",
    "from scipy.integ\n",
    "#模块中的对象名\n",
    "from scipy.integrate import \n",
    "#文件名\n",
    "fn = \"intr\n",
    "#属性名\n",
    "int."
   ]
  },
  {
   "cell_type": "markdown",
   "metadata": {},
   "source": [
    "对于当前环境中已知的对象，可以在其后面添加问号查看相应的说明信息和文档，添加两个问号可以查看对象对应的源程序。请运行下面两个单元练习查看帮助文档："
   ]
  },
  {
   "cell_type": "code",
   "execution_count": null,
   "metadata": {
    "collapsed": false
   },
   "outputs": [],
   "source": [
    "list?"
   ]
  },
  {
   "cell_type": "code",
   "execution_count": null,
   "metadata": {
    "collapsed": false
   },
   "outputs": [],
   "source": [
    "get_ipython??"
   ]
  },
  {
   "cell_type": "markdown",
   "metadata": {},
   "source": [
    "在调用函数时，可以按[shift+tab]组合键显示函数的调用参数和说明文档，按一次组合键显示基本信息，两次显示详细信息，三次延时停留信息框，四次则将信息显示在下方的滑动窗口中。\n",
    "\n",
    "请运行下面的代码："
   ]
  },
  {
   "cell_type": "code",
   "execution_count": 1,
   "metadata": {
    "collapsed": false
   },
   "outputs": [],
   "source": [
    "import numpy as np"
   ]
  },
  {
   "cell_type": "markdown",
   "metadata": {},
   "source": [
    "请在下面的左括号之后多次按[shift+tab]组合键查看函数的提示信息："
   ]
  },
  {
   "cell_type": "code",
   "execution_count": null,
   "metadata": {
    "collapsed": false
   },
   "outputs": [],
   "source": [
    "np.searchsorted("
   ]
  }
 ],
 "metadata": {
  "kernelspec": {
   "display_name": "Python 2",
   "language": "python",
   "name": "python2"
  },
  "language_info": {
   "codemirror_mode": {
    "name": "ipython",
    "version": 2
   },
   "file_extension": ".py",
   "mimetype": "text/x-python",
   "name": "python",
   "nbconvert_exporter": "python",
   "pygments_lexer": "ipython2",
   "version": "2.7.9"
  }
 },
 "nbformat": 4,
 "nbformat_minor": 0
}
