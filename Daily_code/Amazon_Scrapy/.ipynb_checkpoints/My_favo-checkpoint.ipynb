{
 "cells": [
  {
   "cell_type": "code",
   "execution_count": 1,
   "metadata": {},
   "outputs": [],
   "source": [
    "import requests\n",
    "from bs4 import BeautifulSoup\n",
    "import lxml"
   ]
  },
  {
   "cell_type": "code",
   "execution_count": null,
   "metadata": {},
   "outputs": [],
   "source": [
    "path = \"https://www.amazon.cn/gp/registry/wishlist/3OYPXXDLPVYWS/ref=nav_wishlist_lists_1\"\n",
    "requests.get(path)\n",
    "my_favo = requests.post(path).text\n",
    "soup = BeautifulSoup(my_favo,'lxml')\n",
    "soup"
   ]
  },
  {
   "cell_type": "code",
   "execution_count": null,
   "metadata": {},
   "outputs": [],
   "source": [
    "cokkie = \"ession-id=460-4720087-2775234; ubid-acbcn=462-3710794-7122163; lc-acbcn=zh_CN; x-wl-uid=12xpjk158hAQqvhEriGwb66HlklWHF5XgjEiOLwkR3DLe8gwyXrzApK5jRB7uBOz2fDd/QXKcLvge5FwH26Go+FvZn1vEh9qriGZPbrCpeQNV6WOa7YvVyKZRhzQyX5NToj7I5oBXQM0=; x-acbcn=\"H384wQ7ENOfsd6sLaMWPQC42Xkbu4jX?Uj6Pwz@avnhZvY1ZITifJeEuFusLL9A1\"; at-main=Atza|IwEBIH4uB3v2fS537KL6j731VU4N_bXEA8bA5nFh2dqRmZWTHEScqBCjmArFsTZJiuz_Z044DRumtEVpu-amYJvkJ4dwYyPisEIai3jlNWpvc6f7dVegx5EtoMZ0Nfc_AQ3mX5Sfu8xIlXF1-UR3otLVcaZHDEXcwc8-wBZLctit_yqPMhXewRxDK_WV7g_5cX6_-lJ0hFUxIik0bKYi6yhMKn9srS3aJZ28Zga7__VX9VITD8o4NZx5S61sqXXx1DSVrrlOd3fZS4UP-khU8Jb7exdpch8HcUPgTZ4c8OyYhslLKP17zaxjg3brFpv_PvlYM4kl9Cduo-iBLd1Sq7ESOhSHy0Q6fBDCJqBb_uiAr3naF909gKlHpA_FKkgpkW-tkf6ugYM3rJAGv-52OyEPUX2m; sess-at-main=\"dkrjygXoeJG0hRRNzJt8NbEuUgBZtJYKd4WX7FZOIUQ=\"; sst-main=Sst1|PQEEd0kyItGgvWB4hp4vBcVQC751zomL4yNSiH4uz7QSJjz1LdUd4dFBld4Jw5542He9rTi2GGlchOGGKieVojE-k8augVCGhUCuG5h88wrbtVMjPBPYGD2UkJdi_M8N6Cq1iiHKI-5sn85f4b8TjA4g5y1EFY5SFbF5nk3bx4zK9epy5y3LqQP-mXTNbvbcATu2LUn-if2WqTL49kTTmppqChRk6rPfTKZSssOqinX3QM7qu_aSGsVUrpthc_EWR1MzbgSQFpeR1zOmcrRXhWZ9upGlRv5COs3GimE65udbtcuYpTLEc--1dMxU_WnUsSLpeeyFaoA9dedn0hJjoA8r9g; session-token=\"Y+o/g/ELV6SCN0jbIcO3qSsc0/mtmwKLrkKkgD8To4+XLBWKI4j4R+P0QWqX5sdFY284a/lX3rMvR6stLLgZVRinVrNKq/uwwryMAkCJGOU/zqKtV3PM6VTqGicvucnZdIF0DxR1zvXl1fvjtVEpaiFsUvJaCEgGWZZHXXpsoo3iWQ1W6UQanjvtN9MI2qv1NVrOUOPyL3jfwICQ3ooLg84AK3Ynf3sQj8RQExYe+kb9GItP1wFcIJuKykcUkUYVEMqrDUzbej4=\"; s_cc=true; s_vnum=1945440077735%26vn%3D4; s_invisit=true; s_dslv_s=More%20than%2030%20days; s_c27=202009870; s_sq=%5B%5BB%5D%5D; s_ppv=85; s_nr=1529976222851-Repeat; s_dslv=1529976222853; session-id-time=2082729601l; csm-hit=tb:TQCBMX7P8DGT8ZDNP3VJ+s-AZXAZQNHR24BP0XDC6FH|1529976765650&adb:adblk_yes\""
   ]
  }
 ],
 "metadata": {
  "kernelspec": {
   "display_name": "Python 3",
   "language": "python",
   "name": "python3"
  },
  "language_info": {
   "codemirror_mode": {
    "name": "ipython",
    "version": 3
   },
   "file_extension": ".py",
   "mimetype": "text/x-python",
   "name": "python",
   "nbconvert_exporter": "python",
   "pygments_lexer": "ipython3",
   "version": "3.6.5"
  }
 },
 "nbformat": 4,
 "nbformat_minor": 2
}
