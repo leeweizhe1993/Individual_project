{
 "cells": [
  {
   "cell_type": "code",
   "execution_count": 11,
   "metadata": {},
   "outputs": [],
   "source": [
    "import os, time, shutil"
   ]
  },
  {
   "cell_type": "markdown",
   "metadata": {},
   "source": [
    "### 模拟解锁"
   ]
  },
  {
   "cell_type": "code",
   "execution_count": 20,
   "metadata": {},
   "outputs": [
    {
     "data": {
      "text/plain": [
       "0"
      ]
     },
     "execution_count": 20,
     "metadata": {},
     "output_type": "execute_result"
    }
   ],
   "source": [
    "os.system('adb shell input keyevent 26')    #按电源键\n",
    "time.sleep(0.5)\n",
    "os.system('adb shell input swipe 300 1500 300 500')\n",
    "time.sleep(0.5)\n",
    "os.system(\"adb shell input text 112358\")"
   ]
  },
  {
   "cell_type": "markdown",
   "metadata": {},
   "source": [
    "### 翻页-截图-转存"
   ]
  },
  {
   "cell_type": "code",
   "execution_count": 16,
   "metadata": {},
   "outputs": [],
   "source": [
    "for i in range(1, 267):\n",
    "    os.system('adb shell screencap -p /sdcard/Pictures/Screenshots/page' + str(i) + \".png\")    #截图\n",
    "    time.sleep(0.5)\n",
    "    os.system('adb pull /sdcard/Pictures/Screenshots/page' + str(i) + \".png\")    #转存至PC\n",
    "    time.sleep(0.5)\n",
    "    shutil.move('page' + str(i) + \".png\", \"total\")    #剪切\n",
    "    os.system('adb shell rm /sdcard/Pictures/Screenshots/page' + str(i) + \".png\")    #删除图片\n",
    "    os.system('adb shell input swipe 900 1000 200 1000')    #翻页"
   ]
  },
  {
   "cell_type": "markdown",
   "metadata": {},
   "source": [
    "### 切边"
   ]
  },
  {
   "cell_type": "code",
   "execution_count": null,
   "metadata": {},
   "outputs": [],
   "source": [
    "from PIL import Image\n",
    "import os\n",
    "\n",
    "for i in range(1, 267):\n",
    "    img = Image.open(\"D://Github//Individual_project//Android_adb//total//page\" + str(i) + \".png\")\n",
    "    img2 = img.crop((0, 213, 1600, 2346))\n",
    "    os.remove(\"D://Github//Individual_project//Android_adb//total//page\" + str(i) + \".png\")\n",
    "    img2.save(\"D://Github//Individual_project//Android_adb//total//page\" + str(i) + \".png\")"
   ]
  },
  {
   "cell_type": "markdown",
   "metadata": {},
   "source": [
    "### 合成png为pdf-使用软件"
   ]
  },
  {
   "cell_type": "code",
   "execution_count": null,
   "metadata": {},
   "outputs": [],
   "source": []
  }
 ],
 "metadata": {
  "kernelspec": {
   "display_name": "Python 3",
   "language": "python",
   "name": "python3"
  },
  "language_info": {
   "codemirror_mode": {
    "name": "ipython",
    "version": 3
   },
   "file_extension": ".py",
   "mimetype": "text/x-python",
   "name": "python",
   "nbconvert_exporter": "python",
   "pygments_lexer": "ipython3",
   "version": "3.6.5"
  }
 },
 "nbformat": 4,
 "nbformat_minor": 2
}
