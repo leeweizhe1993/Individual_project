{
 "cells": [
  {
   "cell_type": "markdown",
   "metadata": {},
   "source": [
    "# FOSDEM 2018, Bruxelles, Stefan Behnel"
   ]
  },
  {
   "cell_type": "markdown",
   "metadata": {},
   "source": [
    "See http://consulting.behnel.de/"
   ]
  },
  {
   "cell_type": "code",
   "execution_count": null,
   "metadata": {},
   "outputs": [],
   "source": [
    "%load_ext cython"
   ]
  },
  {
   "cell_type": "code",
   "execution_count": null,
   "metadata": {},
   "outputs": [],
   "source": [
    "import sys\n",
    "import Cython\n",
    "import numpy as np\n",
    "import matplotlib\n",
    "import subprocess, os\n",
    "print(\"Python %d.%d.%d %s %s\" % sys.version_info)\n",
    "print(\"Cython %s\" % Cython.__version__)\n",
    "print(\"NumPy  %s\" % np.__version__)\n",
    "print(\"Matplotlib  %s\" % matplotlib.__version__)\n",
    "print(subprocess.check_output([os.environ.get('CC', 'cc'), \"--version\"]).decode().splitlines()[0])\n",
    "print([line for line in subprocess.check_output([os.environ.get('CC', 'cc'), \"--version\", \"-v\"],\n",
    "                                                stderr=subprocess.STDOUT).decode().splitlines()\n",
    "       if ' version ' in line][0])"
   ]
  },
  {
   "cell_type": "code",
   "execution_count": null,
   "metadata": {},
   "outputs": [],
   "source": [
    "%matplotlib inline"
   ]
  },
  {
   "cell_type": "markdown",
   "metadata": {},
   "source": [
    "## Cython Intro"
   ]
  },
  {
   "cell_type": "code",
   "execution_count": null,
   "metadata": {},
   "outputs": [],
   "source": [
    "from math import sin\n",
    "sin(5)"
   ]
  },
  {
   "cell_type": "code",
   "execution_count": null,
   "metadata": {},
   "outputs": [],
   "source": [
    "%%cython\n",
    "from math import sin\n",
    "print(sin(5))"
   ]
  },
  {
   "cell_type": "code",
   "execution_count": null,
   "metadata": {},
   "outputs": [],
   "source": [
    "%%cython\n",
    "cimport libc.math\n",
    "sin_func = libc.math.sin"
   ]
  },
  {
   "cell_type": "code",
   "execution_count": null,
   "metadata": {},
   "outputs": [],
   "source": [
    "sin_func(5)"
   ]
  },
  {
   "cell_type": "code",
   "execution_count": null,
   "metadata": {},
   "outputs": [],
   "source": [
    "%%cython\n",
    "cimport libc.math\n",
    "\n",
    "def csin(double x):\n",
    "    return libc.math.sin(x)"
   ]
  },
  {
   "cell_type": "code",
   "execution_count": null,
   "metadata": {},
   "outputs": [],
   "source": [
    "csin(5)"
   ]
  },
  {
   "cell_type": "code",
   "execution_count": null,
   "metadata": {},
   "outputs": [],
   "source": [
    "%%cython -a\n",
    "cimport libc.math\n",
    "\n",
    "def csin(double x):\n",
    "    return libc.math.sin(x)"
   ]
  },
  {
   "cell_type": "code",
   "execution_count": null,
   "metadata": {},
   "outputs": [],
   "source": [
    "%%cython\n",
    "cimport libc.math\n",
    "\n",
    "def square_sin(double x):\n",
    "    cdef double x_square = x * x\n",
    "    return libc.math.sin(x_square)"
   ]
  },
  {
   "cell_type": "code",
   "execution_count": null,
   "metadata": {},
   "outputs": [],
   "source": [
    "square_sin(5)"
   ]
  },
  {
   "cell_type": "markdown",
   "metadata": {},
   "source": [
    "## A bit of C memory handling"
   ]
  },
  {
   "cell_type": "code",
   "execution_count": null,
   "metadata": {},
   "outputs": [],
   "source": [
    "%%cython\n",
    "# dynamic C memory allocation\n",
    "from libc.stdlib cimport malloc, free\n",
    "\n",
    "cdef int* cmem = <int*>malloc(22 * sizeof(int))\n",
    "if not cmem:\n",
    "    raise MemoryError()\n",
    "try:\n",
    "    cmem[:2] = [42, 21]\n",
    "    print(cmem[1])\n",
    "finally:\n",
    "    free(cmem)"
   ]
  },
  {
   "cell_type": "markdown",
   "metadata": {},
   "source": [
    "## Using native third-party libraries"
   ]
  },
  {
   "cell_type": "code",
   "execution_count": null,
   "metadata": {},
   "outputs": [],
   "source": [
    "%%cython\n",
    "# distutils: include_dirs=/usr/include/luajit-2.0\n",
    "# distutils: libraries=luajit-5.1\n",
    "\n",
    "## distutils: include_dirs=/usr/include/lua5.1\n",
    "## distutils: libraries=lua5.1\n",
    "\n",
    "cdef extern from \"lua.h\":\n",
    "    ctypedef struct lua_State\n",
    "    lua_State *luaL_newstate ()\n",
    "    void lua_close (lua_State *L)\n",
    "    int luaL_loadbuffer (lua_State *L, char *buff, size_t sz, char *name)\n",
    "    void lua_settop (lua_State *L, int idx)\n",
    "    int lua_gettop (lua_State *L)\n",
    "    int lua_pcall (lua_State *L, int nargs, int nresults, int errfunc)\n",
    "    int lua_type (lua_State *L, int idx)\n",
    "    float lua_tonumber (lua_State *L, int idx)\n",
    "    enum:\n",
    "        LUA_TNUMBER\n",
    "        LUA_MULTRET\n",
    "\n",
    "\n",
    "def run_lua(code):\n",
    "    cdef int result_status\n",
    "    cdef float result\n",
    "\n",
    "    if isinstance(code, unicode):\n",
    "        code = code.encode('utf8')\n",
    "    elif not isinstance(code, bytes):\n",
    "        raise ValueError(\"code must be a string\")\n",
    "\n",
    "    # init Lua runtime\n",
    "    L = luaL_newstate()\n",
    "    if not L:\n",
    "        raise MemoryError()\n",
    "\n",
    "    try:\n",
    "        # compile Lua code\n",
    "        if luaL_loadbuffer(L, code, len(code), '<python>'):\n",
    "            raise SyntaxError()\n",
    "\n",
    "        # execute code\n",
    "        if lua_pcall(L, 0, LUA_MULTRET, 0):\n",
    "            raise RuntimeError()\n",
    "\n",
    "        # convert return value (Lua number == float)\n",
    "        assert lua_type(L, 1) == LUA_TNUMBER, \"not a numeric return value\"\n",
    "        return lua_tonumber(L, 1)\n",
    "    finally:\n",
    "        lua_settop(L, 0)\n",
    "        lua_close(L)"
   ]
  },
  {
   "cell_type": "code",
   "execution_count": null,
   "metadata": {},
   "outputs": [],
   "source": [
    "code = '''\n",
    "function fib(i)\n",
    "    if i > 2 then\n",
    "        return fib(i-1) + fib(i-2)\n",
    "    else\n",
    "        return 1\n",
    "    end\n",
    "end\n",
    "'''\n",
    "\n",
    "run_lua(code + \"return fib(10)\")"
   ]
  },
  {
   "cell_type": "code",
   "execution_count": null,
   "metadata": {},
   "outputs": [],
   "source": [
    "%%timeit bench = code + \"return fib(24)\"\n",
    "\n",
    "run_lua(bench)"
   ]
  },
  {
   "cell_type": "markdown",
   "metadata": {},
   "source": [
    "## Everyone likes taxes !"
   ]
  },
  {
   "cell_type": "markdown",
   "metadata": {},
   "source": [
    "Idea borrowed from Caleb Hattingh, PyCon-AU 2015,\n",
    "http://pyvideo.org/pycon-au-2015/easy-wins-with-cython-fast-and-multi-core.html"
   ]
  },
  {
   "cell_type": "code",
   "execution_count": null,
   "metadata": {},
   "outputs": [],
   "source": [
    "PEOPLE = 44_000_000\n",
    "AVERAGE = 3703*12\n",
    "print(\"Average income of {:,d} earners, Deutschland 2016: {:,d} €\".format(PEOPLE, AVERAGE))"
   ]
  },
  {
   "cell_type": "code",
   "execution_count": null,
   "metadata": {},
   "outputs": [],
   "source": [
    "# lacking offical data, let's create some alternative facts\n",
    "import numpy as np\n",
    "mu, sigma = 10.64, .35\n",
    "s = np.random.lognormal(mu, sigma, PEOPLE // 20)\n",
    "['{:,.2f} €'.format(x) for x in (np.min(s), np.mean(s), np.max(s))]"
   ]
  },
  {
   "cell_type": "code",
   "execution_count": null,
   "metadata": {},
   "outputs": [],
   "source": [
    "import matplotlib.pyplot as plt\n",
    "count, bins, ignored = plt.hist(s[s < 110000], 100, normed=True, align='mid')\n",
    "x = np.linspace(min(bins), max(bins), 101)\n",
    "pdf = (np.exp(-(np.log(x) - mu)**2 / (2 * sigma**2))\n",
    "       / (x * sigma * np.sqrt(2 * np.pi)))\n",
    "plt.plot(bins, pdf, linewidth=2, color='r')\n",
    "plt.axis('tight')\n",
    "plt.show()"
   ]
  },
  {
   "cell_type": "markdown",
   "metadata": {},
   "source": [
    "## Let's calculate everyone's taxes"
   ]
  },
  {
   "cell_type": "markdown",
   "metadata": {},
   "source": [
    "https://de.wikipedia.org/wiki/Einkommensteuer_%28Deutschland%29#Tarif_2017"
   ]
  },
  {
   "cell_type": "code",
   "execution_count": null,
   "metadata": {},
   "outputs": [],
   "source": [
    "# from Wikipedia:\n",
    "# =WENN(A1>256303; A1*0,45-16164,53;\n",
    "#  WENN(A1>54057; A1*0,42-8475,44;\n",
    "#  WENN(A1>13769; (A1-13769)*((A1-13769)*0,0000022376+0,2397)+939,57;\n",
    "#  WENN(A1>8820; (A1-8820)*((A1-8820)*0,0000100727+0,14); 0))))\n",
    "\n",
    "def calculate_tax(income):\n",
    "    if income > 256303:\n",
    "        return income * 0.45 - 16164.53\n",
    "    elif income > 54057:\n",
    "        return income * 0.42 - 8475.44\n",
    "    elif income > 13769:\n",
    "        return (income - 13769) * ((income - 13769) * 0.0000022376 + 0.2397) + 939.57\n",
    "    elif income > 8820:\n",
    "        return (income - 8820) * ((income - 8820) * 0.0000100727 + 0.14)\n",
    "    else:\n",
    "        return 0\n",
    "\n",
    "def average_income(incomes):\n",
    "    return sum(incomes) / len(incomes)\n",
    "\n",
    "def average_tax_rate(incomes):\n",
    "    return sum(calculate_tax(x) for x in incomes) / sum(incomes)"
   ]
  },
  {
   "cell_type": "code",
   "execution_count": null,
   "metadata": {},
   "outputs": [],
   "source": [
    "AVERAGE, calculate_tax(AVERAGE)"
   ]
  },
  {
   "cell_type": "code",
   "execution_count": null,
   "metadata": {},
   "outputs": [],
   "source": [
    "incomes_np = s\n",
    "incomes = list(s)"
   ]
  },
  {
   "cell_type": "code",
   "execution_count": null,
   "metadata": {},
   "outputs": [],
   "source": [
    "avg_in, avg_tax = average_income(incomes), average_tax_rate(incomes)\n",
    "avg_in, avg_tax"
   ]
  },
  {
   "cell_type": "code",
   "execution_count": null,
   "metadata": {},
   "outputs": [],
   "source": [
    "%%timeit\n",
    "# NOTE: don't forget to disable Energy Management on laptops to get better timings!\n",
    "average_tax_rate(incomes)"
   ]
  },
  {
   "cell_type": "code",
   "execution_count": null,
   "metadata": {},
   "outputs": [],
   "source": [
    "Tpython = 1"
   ]
  },
  {
   "cell_type": "markdown",
   "metadata": {},
   "source": [
    "## Making things comparable"
   ]
  },
  {
   "cell_type": "code",
   "execution_count": null,
   "metadata": {},
   "outputs": [],
   "source": [
    "import operator\n",
    "\n",
    "timings = {}\n",
    "\n",
    "def ratios(**new):\n",
    "    assert len(new) == 1\n",
    "    timings.update(**new)\n",
    "    last = list(new.values())[0]\n",
    "    print('\\n'.join('%10s: %7.2f' % (name, t / last)\n",
    "                    for name, t in sorted(timings.items(), key=operator.itemgetter(1))))\n",
    "\n",
    "ratios(python=Tpython)"
   ]
  },
  {
   "cell_type": "markdown",
   "metadata": {},
   "source": [
    "## NumPy slicing"
   ]
  },
  {
   "cell_type": "code",
   "execution_count": null,
   "metadata": {},
   "outputs": [],
   "source": [
    "# from Wikipedia:\n",
    "# =WENN(A1>256303; A1*0,45-16164,53;\n",
    "#  WENN(A1>54057; A1*0,42-8475,44;\n",
    "#  WENN(A1>13769; (A1-13769)*((A1-13769)*0,0000022376+0,2397)+939,57;\n",
    "#  WENN(A1>8820; (A1-8820)*((A1-8820)*0,0000100727+0,14); 0))))\n",
    "\n",
    "def calculate_tax_numpy_segments(d):\n",
    "    tax_seg1 = d[(d > 256303)] * 0.45 - 16164.53\n",
    "    tax_seg2 = d[(d > 54057) & (d <= 256303)] * 0.42 - 8475.44\n",
    "    seg3 = d[(d > 13769) & (d <= 54057)] - 13769\n",
    "    seg4 = d[(d > 8820) & (d <= 13769)] - 8820\n",
    "    prog_seg3 = seg3 * 0.0000022376 + 0.2397\n",
    "    prog_seg4 = seg4 * 0.0000100727 + 0.14\n",
    "    return (\n",
    "        tax_seg1.sum() +\n",
    "        tax_seg2.sum() +\n",
    "        (seg3 * prog_seg3 + 939.57).sum() +\n",
    "        (seg4 * prog_seg4).sum()\n",
    "    ) / d.sum()\n"
   ]
  },
  {
   "cell_type": "code",
   "execution_count": null,
   "metadata": {},
   "outputs": [],
   "source": [
    "incomes_np.mean(), calculate_tax_numpy_segments(incomes_np)"
   ]
  },
  {
   "cell_type": "code",
   "execution_count": null,
   "metadata": {},
   "outputs": [],
   "source": [
    "%%timeit\n",
    "calculate_tax_numpy_segments(incomes_np)"
   ]
  },
  {
   "cell_type": "code",
   "execution_count": null,
   "metadata": {},
   "outputs": [],
   "source": [
    "ratios(numpy=1)"
   ]
  },
  {
   "cell_type": "markdown",
   "metadata": {},
   "source": [
    "## NumPy ufunc"
   ]
  },
  {
   "cell_type": "code",
   "execution_count": null,
   "metadata": {},
   "outputs": [],
   "source": [
    "calculate_tax_numpy = np.frompyfunc(calculate_tax, 1, 1)"
   ]
  },
  {
   "cell_type": "code",
   "execution_count": null,
   "metadata": {},
   "outputs": [],
   "source": [
    "calculate_tax_numpy(incomes_np).sum() / incomes_np.sum()"
   ]
  },
  {
   "cell_type": "code",
   "execution_count": null,
   "metadata": {},
   "outputs": [],
   "source": [
    "%%timeit\n",
    "calculate_tax_numpy(incomes_np).sum() / incomes_np.sum()"
   ]
  },
  {
   "cell_type": "code",
   "execution_count": null,
   "metadata": {},
   "outputs": [],
   "source": [
    "ratios(ufunc=1)"
   ]
  },
  {
   "cell_type": "markdown",
   "metadata": {},
   "source": [
    "## Cython"
   ]
  },
  {
   "cell_type": "code",
   "execution_count": null,
   "metadata": {},
   "outputs": [],
   "source": [
    "%%cython\n",
    "# plain copy from Python code above, only renamed functions\n",
    "\n",
    "def calculate_tax_cy(income):\n",
    "    if income > 256303:\n",
    "        return income * 0.45 - 16164.53\n",
    "    elif income > 54057:\n",
    "        return income * 0.42 - 8475.44\n",
    "    elif income > 13769:\n",
    "        return (income - 13769) * ((income - 13769) * 0.0000022376 + 0.2397) + 939.57\n",
    "    elif income > 8820:\n",
    "        return (income - 8820) * ((income - 8820) * 0.0000100727 + 0.14)\n",
    "    else:\n",
    "        return 0\n",
    "\n",
    "def average_income_cy(incomes):\n",
    "    return sum(incomes) / len(incomes)\n",
    "\n",
    "def average_tax_rate_cy(incomes):\n",
    "    return sum(calculate_tax_cy(x) for x in incomes) / sum(incomes)"
   ]
  },
  {
   "cell_type": "code",
   "execution_count": null,
   "metadata": {},
   "outputs": [],
   "source": [
    "average_income_cy(incomes), average_tax_rate_cy(incomes)"
   ]
  },
  {
   "cell_type": "code",
   "execution_count": null,
   "metadata": {},
   "outputs": [],
   "source": [
    "%%timeit\n",
    "average_tax_rate_cy(incomes)"
   ]
  },
  {
   "cell_type": "code",
   "execution_count": null,
   "metadata": {},
   "outputs": [],
   "source": [
    "ratios(compiled=1)"
   ]
  },
  {
   "cell_type": "markdown",
   "metadata": {},
   "source": [
    "## Faster Cython: static types"
   ]
  },
  {
   "cell_type": "code",
   "execution_count": null,
   "metadata": {},
   "outputs": [],
   "source": [
    "%%cython -a\n",
    "\n",
    "def calculate_tax_cy(income):\n",
    "    if income > 256303:\n",
    "        return income * 0.45 - 16164.53\n",
    "    elif income > 54057:\n",
    "        return income * 0.42 - 8475.44\n",
    "    elif income > 13769:\n",
    "        return (income - 13769) * ((income - 13769) * 0.0000022376 + 0.2397) + 939.57\n",
    "    elif income > 8820:\n",
    "        return (income - 8820) * ((income - 8820) * 0.0000100727 + 0.14)\n",
    "    else:\n",
    "        return 0\n",
    "\n",
    "def average_income(incomes):\n",
    "    return sum(incomes) / len(incomes)\n",
    "\n",
    "def average_tax_rate_cy(incomes):\n",
    "    return sum(calculate_tax_cy(x) for x in incomes) / sum(incomes)"
   ]
  },
  {
   "cell_type": "code",
   "execution_count": null,
   "metadata": {},
   "outputs": [],
   "source": [
    "average_tax_rate_cy(incomes)"
   ]
  },
  {
   "cell_type": "code",
   "execution_count": null,
   "metadata": {},
   "outputs": [],
   "source": [
    "%%timeit\n",
    "average_tax_rate_cy(incomes)"
   ]
  },
  {
   "cell_type": "code",
   "execution_count": null,
   "metadata": {
    "scrolled": true
   },
   "outputs": [],
   "source": [
    "ratios(typed=1)"
   ]
  },
  {
   "cell_type": "code",
   "execution_count": null,
   "metadata": {},
   "outputs": [],
   "source": [
    "%%cython -a\n",
    "\n",
    "# SOLUTION\n",
    "\n",
    "cpdef double calculate_tax_cy(double income):\n",
    "    if income > 256303:\n",
    "        return income * 0.45 - 16164.53\n",
    "    elif income > 54057:\n",
    "        return income * 0.42 - 8475.44\n",
    "    elif income > 13769:\n",
    "        return (income - 13769) * ((income - 13769) * 0.0000022376 + 0.2397) + 939.57\n",
    "    elif income > 8820:\n",
    "        return (income - 8820) * ((income - 8820) * 0.0000100727 + 0.14)\n",
    "    else:\n",
    "        return 0\n",
    "\n",
    "def average_tax_rate_cy(incomes):\n",
    "    # return sum(calculate_tax_cy(x) for x in incomes) / sum(incomes)\n",
    "    cdef double tax = 0, income = 0, x\n",
    "    for x in incomes:\n",
    "        income += x\n",
    "        tax += calculate_tax_cy(x)\n",
    "    return tax / income\n"
   ]
  },
  {
   "cell_type": "code",
   "execution_count": null,
   "metadata": {},
   "outputs": [],
   "source": [
    "average_tax_rate_cy(incomes)"
   ]
  },
  {
   "cell_type": "code",
   "execution_count": null,
   "metadata": {},
   "outputs": [],
   "source": [
    "%%timeit\n",
    "average_tax_rate_cy(incomes)"
   ]
  },
  {
   "cell_type": "code",
   "execution_count": null,
   "metadata": {
    "scrolled": true
   },
   "outputs": [],
   "source": [
    "ratios(typed=1)"
   ]
  },
  {
   "cell_type": "markdown",
   "metadata": {},
   "source": [
    "## Faster Cython: processing memory views"
   ]
  },
  {
   "cell_type": "code",
   "execution_count": null,
   "metadata": {},
   "outputs": [],
   "source": [
    "%%cython\n",
    "\n",
    "cimport cython\n",
    "\n",
    "cpdef double calculate_tax_cy(double income):\n",
    "    if income > 256303:\n",
    "        return income * 0.45 - 16164.53\n",
    "    elif income > 54057:\n",
    "        return income * 0.42 - 8475.44\n",
    "    elif income > 13769:\n",
    "        return (income - 13769) * ((income - 13769) * 0.0000022376 + 0.2397) + 939.57\n",
    "    elif income > 8820:\n",
    "        return (income - 8820) * ((income - 8820) * 0.0000100727 + 0.14)\n",
    "    else:\n",
    "        return 0\n",
    "\n",
    "def average_tax_rate_memview(incomes):\n",
    "    # return sum(calculate_tax_cy(x) for x in incomes) / sum(incomes)\n",
    "    cdef double tax = 0, income = 0, x\n",
    "    for x in incomes:\n",
    "        income += x\n",
    "        tax += calculate_tax_cy(x)\n",
    "    return tax / income"
   ]
  },
  {
   "cell_type": "code",
   "execution_count": null,
   "metadata": {},
   "outputs": [],
   "source": [
    "average_tax_rate_memview(incomes_np)"
   ]
  },
  {
   "cell_type": "code",
   "execution_count": null,
   "metadata": {},
   "outputs": [],
   "source": [
    "%%timeit\n",
    "average_tax_rate_memview(incomes_np)"
   ]
  },
  {
   "cell_type": "code",
   "execution_count": null,
   "metadata": {},
   "outputs": [],
   "source": [
    "ratios(mviews=1)"
   ]
  },
  {
   "cell_type": "code",
   "execution_count": null,
   "metadata": {},
   "outputs": [],
   "source": [
    "%%cython\n",
    "\n",
    "# SOLUTION\n",
    "\n",
    "cpdef double calculate_tax_cy(double income):\n",
    "    if income > 256303:\n",
    "        return income * 0.45 - 16164.53\n",
    "    elif income > 54057:\n",
    "        return income * 0.42 - 8475.44\n",
    "    elif income > 13769:\n",
    "        return (income - 13769) * ((income - 13769) * 0.0000022376 + 0.2397) + 939.57\n",
    "    elif income > 8820:\n",
    "        return (income - 8820) * ((income - 8820) * 0.0000100727 + 0.14)\n",
    "    else:\n",
    "        return 0\n",
    "\n",
    "def average_tax_rate_cy(incomes):\n",
    "    # return sum(calculate_tax_cy(x) for x in incomes) / sum(incomes)\n",
    "    cdef double tax = 0, income = 0, x\n",
    "    for x in incomes:\n",
    "        income += x\n",
    "        tax += calculate_tax_cy(x)\n",
    "    return tax / income\n",
    "\n",
    "\n",
    "cimport cython\n",
    "\n",
    "@cython.boundscheck(False)\n",
    "def average_tax_rate_memview(double[:] incomes):\n",
    "    cdef unsigned long i\n",
    "    cdef double tax = 0, income = 0, x\n",
    "    for i in range(incomes.shape[0]):\n",
    "        x = incomes[i]\n",
    "        income += x\n",
    "        tax += calculate_tax_cy(x)\n",
    "    return tax / income\n"
   ]
  },
  {
   "cell_type": "code",
   "execution_count": null,
   "metadata": {},
   "outputs": [],
   "source": [
    "average_tax_rate_memview(incomes_np)"
   ]
  },
  {
   "cell_type": "code",
   "execution_count": null,
   "metadata": {},
   "outputs": [],
   "source": [
    "%%timeit\n",
    "average_tax_rate_memview(incomes_np)"
   ]
  },
  {
   "cell_type": "code",
   "execution_count": null,
   "metadata": {
    "scrolled": true
   },
   "outputs": [],
   "source": [
    "ratios(mviews=1)"
   ]
  },
  {
   "cell_type": "markdown",
   "metadata": {},
   "source": [
    "## Faster Cython: prange"
   ]
  },
  {
   "cell_type": "code",
   "execution_count": null,
   "metadata": {},
   "outputs": [],
   "source": [
    "%%cython\n",
    "# cython: auto_pickle=False\n",
    "# distutils: extra_compile_args=-fopenmp\n",
    "# distutils: extra_link_args=-fopenmp\n",
    "\n",
    "cpdef double calculate_tax_cy(double income) nogil:\n",
    "    if income > 256303:\n",
    "        return income * 0.45 - 16164.53\n",
    "    elif income > 54057:\n",
    "        return income * 0.42 - 8475.44\n",
    "    elif income > 13769:\n",
    "        return (income - 13769) * ((income - 13769) * 0.0000022376 + 0.2397) + 939.57\n",
    "    elif income > 8820:\n",
    "        return (income - 8820) * ((income - 8820) * 0.0000100727 + 0.14)\n",
    "    else:\n",
    "        return 0\n",
    "\n",
    "cimport cython\n",
    "#from cython.parallel cimport prange\n",
    "\n",
    "@cython.boundscheck(False)\n",
    "def average_tax_rate_prange(double[:] incomes):\n",
    "    cdef unsigned long i\n",
    "    cdef double tax = 0, income = 0, x\n",
    "    for i in range(len(incomes)):\n",
    "        x = incomes[i]\n",
    "        income += x\n",
    "        tax += calculate_tax_cy(x)\n",
    "    return tax / income\n"
   ]
  },
  {
   "cell_type": "code",
   "execution_count": null,
   "metadata": {
    "scrolled": true
   },
   "outputs": [],
   "source": [
    "average_tax_rate_prange(incomes_np)"
   ]
  },
  {
   "cell_type": "code",
   "execution_count": null,
   "metadata": {},
   "outputs": [],
   "source": [
    "%%timeit\n",
    "average_tax_rate_prange(incomes_np)"
   ]
  },
  {
   "cell_type": "code",
   "execution_count": null,
   "metadata": {
    "scrolled": true
   },
   "outputs": [],
   "source": [
    "ratios(prange=1)"
   ]
  },
  {
   "cell_type": "code",
   "execution_count": null,
   "metadata": {},
   "outputs": [],
   "source": [
    "%%cython\n",
    "# distutils: extra_compile_args=-fopenmp\n",
    "# distutils: extra_link_args=-fopenmp\n",
    "\n",
    "# SOLUTION\n",
    "\n",
    "cpdef double calculate_tax_cy(double income) nogil:\n",
    "    if income > 256303:\n",
    "        return income * 0.45 - 16164.53\n",
    "    elif income > 54057:\n",
    "        return income * 0.42 - 8475.44\n",
    "    elif income > 13769:\n",
    "        return (income - 13769) * ((income - 13769) * 0.0000022376 + 0.2397) + 939.57\n",
    "    elif income > 8820:\n",
    "        return (income - 8820) * ((income - 8820) * 0.0000100727 + 0.14)\n",
    "    else:\n",
    "        return 0\n",
    "\n",
    "cimport cython\n",
    "from cython.parallel cimport prange\n",
    "\n",
    "@cython.boundscheck(False)\n",
    "def average_tax_rate_prange(double[:] incomes):\n",
    "    cdef unsigned long i\n",
    "    cdef double tax = 0, income = 0, x\n",
    "    for i in prange(incomes.shape[0], nogil=True, num_threads=4):\n",
    "        x = incomes[i]\n",
    "        income += x\n",
    "        tax += calculate_tax_cy(x)\n",
    "    return tax / income\n"
   ]
  },
  {
   "cell_type": "code",
   "execution_count": null,
   "metadata": {
    "scrolled": true
   },
   "outputs": [],
   "source": [
    "average_tax_rate_prange(incomes_np)"
   ]
  },
  {
   "cell_type": "code",
   "execution_count": null,
   "metadata": {},
   "outputs": [],
   "source": [
    "%%timeit\n",
    "average_tax_rate_prange(incomes_np)"
   ]
  },
  {
   "cell_type": "code",
   "execution_count": null,
   "metadata": {},
   "outputs": [],
   "source": [
    "ratios(prange=1)"
   ]
  },
  {
   "cell_type": "markdown",
   "metadata": {},
   "source": [
    "## Pythran integration"
   ]
  },
  {
   "cell_type": "code",
   "execution_count": null,
   "metadata": {},
   "outputs": [],
   "source": [
    "%%cython -a --verbose\n",
    "# cython: np_pythran=True\n",
    "\n",
    "import numpy as np\n",
    "cimport numpy as cnp\n",
    "\n",
    "def calculate_tax_numpy_segments(cnp.ndarray[double, ndim=1] d):\n",
    "    tax_seg1 = d[(d > 256303)] * 0.45 - 16164.53\n",
    "    tax_seg2 = d[(d > 54057) & (d <= 256303)] * 0.42 - 8475.44\n",
    "    seg3 = d[(d > 13769) & (d <= 54057)] - 13769\n",
    "    seg4 = d[(d > 8820) & (d <= 13769)] - 8820\n",
    "    prog_seg3 = seg3 * 0.0000022376 + 0.2397\n",
    "    prog_seg4 = seg4 * 0.0000100727 + 0.14\n",
    "    return (\n",
    "        np.sum(tax_seg1) +\n",
    "        np.sum(tax_seg2) +\n",
    "        np.sum(seg3 * prog_seg3 + 939.57) +\n",
    "        np.sum(seg4 * prog_seg4)\n",
    "    ) / np.sum(d)\n"
   ]
  }
 ],
 "metadata": {
  "kernelspec": {
   "display_name": "Python 3",
   "language": "python",
   "name": "python3"
  },
  "language_info": {
   "codemirror_mode": {
    "name": "ipython",
    "version": 3
   },
   "file_extension": ".py",
   "mimetype": "text/x-python",
   "name": "python",
   "nbconvert_exporter": "python",
   "pygments_lexer": "ipython3",
   "version": "3.6.6"
  }
 },
 "nbformat": 4,
 "nbformat_minor": 2
}
