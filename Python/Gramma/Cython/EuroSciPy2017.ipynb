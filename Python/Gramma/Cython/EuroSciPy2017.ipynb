{
 "cells": [
  {
   "cell_type": "markdown",
   "metadata": {},
   "source": [
    "# EuroSciPy 2017, Stefan Behnel"
   ]
  },
  {
   "cell_type": "markdown",
   "metadata": {},
   "source": [
    "See http://consulting.behnel.de/"
   ]
  },
  {
   "cell_type": "code",
   "execution_count": 1,
   "metadata": {
    "collapsed": true
   },
   "outputs": [],
   "source": [
    "%load_ext cython"
   ]
  },
  {
   "cell_type": "code",
   "execution_count": 2,
   "metadata": {},
   "outputs": [
    {
     "name": "stdout",
     "output_type": "stream",
     "text": [
      "Python 3.6.6 final 0\n",
      "Cython 0.29\n",
      "NumPy  1.15.4\n",
      "clang version 4.0.1 (tags/RELEASE_401/final)\n",
      "clang version 4.0.1 (tags/RELEASE_401/final)\n"
     ]
    }
   ],
   "source": [
    "import sys\n",
    "import Cython\n",
    "import numpy as np\n",
    "import subprocess, os\n",
    "print(\"Python %d.%d.%d %s %s\" % sys.version_info)\n",
    "print(\"Cython %s\" % Cython.__version__)\n",
    "print(\"NumPy  %s\" % np.__version__)\n",
    "print(subprocess.check_output([os.environ.get('CC', 'cc'), \"--version\"]).decode().splitlines()[0])\n",
    "print([line for line in subprocess.check_output([os.environ.get('CC', 'cc'), \"--version\", \"-v\"],\n",
    "                                                stderr=subprocess.STDOUT).decode().splitlines()\n",
    "       if ' version ' in line][0])"
   ]
  },
  {
   "cell_type": "markdown",
   "metadata": {},
   "source": [
    "## Cython Intro"
   ]
  },
  {
   "cell_type": "code",
   "execution_count": 7,
   "metadata": {},
   "outputs": [
    {
     "data": {
      "text/plain": [
       "-0.9589242746631385"
      ]
     },
     "execution_count": 7,
     "metadata": {},
     "output_type": "execute_result"
    }
   ],
   "source": [
    "from math import sin\n",
    "sin(5)"
   ]
  },
  {
   "cell_type": "code",
   "execution_count": 10,
   "metadata": {
    "collapsed": true
   },
   "outputs": [],
   "source": [
    "%%cython\n",
    "from math import sin\n",
    "sin(5)"
   ]
  },
  {
   "cell_type": "code",
   "execution_count": 11,
   "metadata": {},
   "outputs": [],
   "source": [
    "%%cython\n",
    "cimport libc.math\n",
    "sin_func = libc.math.sin"
   ]
  },
  {
   "cell_type": "code",
   "execution_count": 13,
   "metadata": {},
   "outputs": [
    {
     "data": {
      "text/plain": [
       "-0.9589242746631385"
      ]
     },
     "execution_count": 13,
     "metadata": {},
     "output_type": "execute_result"
    }
   ],
   "source": [
    "sin_func(5)"
   ]
  },
  {
   "cell_type": "code",
   "execution_count": null,
   "metadata": {},
   "outputs": [],
   "source": [
    "%%cython\n",
    "cimport libc.math\n",
    "\n",
    "def csin(double x):\n",
    "    return libc.math.sin(x)"
   ]
  },
  {
   "cell_type": "code",
   "execution_count": null,
   "metadata": {},
   "outputs": [],
   "source": [
    "csin(5)"
   ]
  },
  {
   "cell_type": "code",
   "execution_count": null,
   "metadata": {},
   "outputs": [],
   "source": [
    "%%cython -a\n",
    "cimport libc.math\n",
    "\n",
    "def csin(double x):\n",
    "    return libc.math.sin(x)"
   ]
  },
  {
   "cell_type": "code",
   "execution_count": null,
   "metadata": {},
   "outputs": [],
   "source": [
    "%%cython\n",
    "cimport libc.math\n",
    "\n",
    "def square_sin(double x):\n",
    "    cdef double x_square = x * x\n",
    "    return libc.math.sin(x_square)"
   ]
  },
  {
   "cell_type": "code",
   "execution_count": null,
   "metadata": {},
   "outputs": [],
   "source": [
    "square_sin(5)"
   ]
  },
  {
   "cell_type": "markdown",
   "metadata": {},
   "source": [
    "## Everyone likes taxes !"
   ]
  },
  {
   "cell_type": "markdown",
   "metadata": {},
   "source": [
    "Idea borrowed from Caleb Hattingh, PyCon-AU 2015,\n",
    "http://pyvideo.org/pycon-au-2015/easy-wins-with-cython-fast-and-multi-core.html"
   ]
  },
  {
   "cell_type": "code",
   "execution_count": null,
   "metadata": {},
   "outputs": [],
   "source": [
    "PEOPLE = 44_000_000\n",
    "AVERAGE = 3703*12\n",
    "print(\"Average income of {:,d} earners, Deutschland 2016: {:,d} €\".format(PEOPLE, AVERAGE))"
   ]
  },
  {
   "cell_type": "code",
   "execution_count": null,
   "metadata": {},
   "outputs": [],
   "source": [
    "# lacking offical data, let's create some alternative facts\n",
    "import numpy as np\n",
    "mu, sigma = 10.64, .35\n",
    "s = np.random.lognormal(mu, sigma, PEOPLE // 20)\n",
    "['{:,.2f} €'.format(x) for x in (np.min(s), np.mean(s), np.max(s))]"
   ]
  },
  {
   "cell_type": "code",
   "execution_count": null,
   "metadata": {},
   "outputs": [],
   "source": [
    "import matplotlib.pyplot as plt\n",
    "count, bins, ignored = plt.hist(s[s < 110000], 100, normed=True, align='mid')\n",
    "x = np.linspace(min(bins), max(bins), 101)\n",
    "pdf = (np.exp(-(np.log(x) - mu)**2 / (2 * sigma**2))\n",
    "       / (x * sigma * np.sqrt(2 * np.pi)))\n",
    "plt.plot(bins, pdf, linewidth=2, color='r')\n",
    "plt.axis('tight')\n",
    "plt.show()"
   ]
  },
  {
   "cell_type": "markdown",
   "metadata": {},
   "source": [
    "## Let's calculate everyone's taxes"
   ]
  },
  {
   "cell_type": "markdown",
   "metadata": {},
   "source": [
    "https://de.wikipedia.org/wiki/Einkommensteuer_%28Deutschland%29#Tarif_2017"
   ]
  },
  {
   "cell_type": "code",
   "execution_count": null,
   "metadata": {
    "collapsed": true
   },
   "outputs": [],
   "source": [
    "# from Wikipedia:\n",
    "# =WENN(A1>256303; A1*0,45-16164,53;\n",
    "#  WENN(A1>54057; A1*0,42-8475,44;\n",
    "#  WENN(A1>13769; (A1-13769)*((A1-13769)*0,0000022376+0,2397)+939,57;\n",
    "#  WENN(A1>8820; (A1-8820)*((A1-8820)*0,0000100727+0,14); 0))))\n",
    "\n",
    "def calculate_tax(income):\n",
    "    if income > 256303:\n",
    "        return income * 0.45 - 16164.53\n",
    "    elif income > 54057:\n",
    "        return income * 0.42 - 8475.44\n",
    "    elif income > 13769:\n",
    "        return (income - 13769) * ((income - 13769) * 0.0000022376 + 0.2397) + 939.57\n",
    "    elif income > 8820:\n",
    "        return (income - 8820) * ((income - 8820) * 0.0000100727 + 0.14)\n",
    "    else:\n",
    "        return 0\n",
    "\n",
    "def average_income(incomes):\n",
    "    return sum(incomes) / len(incomes)\n",
    "\n",
    "def average_tax_rate(incomes):\n",
    "    return sum(calculate_tax(x) for x in incomes) / sum(incomes)"
   ]
  },
  {
   "cell_type": "code",
   "execution_count": null,
   "metadata": {},
   "outputs": [],
   "source": [
    "AVERAGE, calculate_tax(AVERAGE)"
   ]
  },
  {
   "cell_type": "code",
   "execution_count": null,
   "metadata": {
    "collapsed": true
   },
   "outputs": [],
   "source": [
    "incomes_np = s\n",
    "incomes = list(s)"
   ]
  },
  {
   "cell_type": "code",
   "execution_count": null,
   "metadata": {},
   "outputs": [],
   "source": [
    "avg_in, avg_tax = average_income(incomes), average_tax_rate(incomes)\n",
    "avg_in, avg_tax"
   ]
  },
  {
   "cell_type": "code",
   "execution_count": null,
   "metadata": {},
   "outputs": [],
   "source": [
    "%%timeit\n",
    "average_tax_rate(incomes)"
   ]
  },
  {
   "cell_type": "code",
   "execution_count": null,
   "metadata": {
    "collapsed": true
   },
   "outputs": [],
   "source": [
    "Tpython = 1"
   ]
  },
  {
   "cell_type": "markdown",
   "metadata": {},
   "source": [
    "## Making things comparable"
   ]
  },
  {
   "cell_type": "code",
   "execution_count": null,
   "metadata": {},
   "outputs": [],
   "source": [
    "import operator\n",
    "\n",
    "timings = {}\n",
    "\n",
    "def ratios(**new):\n",
    "    assert len(new) == 1\n",
    "    timings.update(**new)\n",
    "    last = list(new.values())[0]\n",
    "    print('\\n'.join('%10s: %7.2f' % (name, t / last)\n",
    "                    for name, t in sorted(timings.items(), key=operator.itemgetter(1))))\n",
    "\n",
    "ratios(python=Tpython)"
   ]
  },
  {
   "cell_type": "markdown",
   "metadata": {},
   "source": [
    "## NumPy slicing"
   ]
  },
  {
   "cell_type": "code",
   "execution_count": null,
   "metadata": {
    "collapsed": true
   },
   "outputs": [],
   "source": [
    "# from Wikipedia:\n",
    "# =WENN(A1>256303; A1*0,45-16164,53;\n",
    "#  WENN(A1>54057; A1*0,42-8475,44;\n",
    "#  WENN(A1>13769; (A1-13769)*((A1-13769)*0,0000022376+0,2397)+939,57;\n",
    "#  WENN(A1>8820; (A1-8820)*((A1-8820)*0,0000100727+0,14); 0))))\n",
    "\n",
    "def calculate_tax_numpy_segments(d):\n",
    "    tax_seg1 = d[(d > 256303)] * 0.45 - 16164.53\n",
    "    tax_seg2 = d[(d > 54057) & (d <= 256303)] * 0.42 - 8475.44\n",
    "    seg3 = d[(d > 13769) & (d <= 54057)] - 13769\n",
    "    seg4 = d[(d > 8820) & (d <= 13769)] - 8820\n",
    "    prog_seg3 = seg3 * 0.0000022376 + 0.2397\n",
    "    prog_seg4 = seg4 * 0.0000100727 + 0.14\n",
    "    return (\n",
    "        tax_seg1.sum() +\n",
    "        tax_seg2.sum() +\n",
    "        (seg3 * prog_seg3 + 939.57).sum() +\n",
    "        (seg4 * prog_seg4).sum()\n",
    "    ) / d.sum()\n"
   ]
  },
  {
   "cell_type": "code",
   "execution_count": null,
   "metadata": {},
   "outputs": [],
   "source": [
    "incomes_np.mean(), calculate_tax_numpy_segments(incomes_np)"
   ]
  },
  {
   "cell_type": "code",
   "execution_count": null,
   "metadata": {},
   "outputs": [],
   "source": [
    "%%timeit\n",
    "calculate_tax_numpy_segments(incomes_np)"
   ]
  },
  {
   "cell_type": "code",
   "execution_count": null,
   "metadata": {},
   "outputs": [],
   "source": [
    "ratios(numpy=1)"
   ]
  },
  {
   "cell_type": "markdown",
   "metadata": {},
   "source": [
    "## NumPy ufunc"
   ]
  },
  {
   "cell_type": "code",
   "execution_count": null,
   "metadata": {
    "collapsed": true
   },
   "outputs": [],
   "source": [
    "calculate_tax_numpy = np.frompyfunc(calculate_tax, 1, 1)"
   ]
  },
  {
   "cell_type": "code",
   "execution_count": null,
   "metadata": {},
   "outputs": [],
   "source": [
    "calculate_tax_numpy(incomes_np).sum() / incomes_np.sum()"
   ]
  },
  {
   "cell_type": "code",
   "execution_count": null,
   "metadata": {},
   "outputs": [],
   "source": [
    "%%timeit\n",
    "calculate_tax_numpy(incomes_np).sum() / incomes_np.sum()"
   ]
  },
  {
   "cell_type": "code",
   "execution_count": null,
   "metadata": {},
   "outputs": [],
   "source": [
    "ratios(ufunc=1)"
   ]
  },
  {
   "cell_type": "markdown",
   "metadata": {},
   "source": [
    "## Cython"
   ]
  },
  {
   "cell_type": "code",
   "execution_count": null,
   "metadata": {
    "collapsed": true
   },
   "outputs": [],
   "source": [
    "%%cython\n",
    "# plain copy from Python code above, only renamed functions\n",
    "\n",
    "def calculate_tax_cy(income):\n",
    "    if income > 256303:\n",
    "        return income * 0.45 - 16164.53\n",
    "    elif income > 54057:\n",
    "        return income * 0.42 - 8475.44\n",
    "    elif income > 13769:\n",
    "        return (income - 13769) * ((income - 13769) * 0.0000022376 + 0.2397) + 939.57\n",
    "    elif income > 8820:\n",
    "        return (income - 8820) * ((income - 8820) * 0.0000100727 + 0.14)\n",
    "    else:\n",
    "        return 0\n",
    "\n",
    "def average_income_cy(incomes):\n",
    "    return sum(incomes) / len(incomes)\n",
    "\n",
    "def average_tax_rate_cy(incomes):\n",
    "    return sum(calculate_tax_cy(x) for x in incomes) / sum(incomes)"
   ]
  },
  {
   "cell_type": "code",
   "execution_count": null,
   "metadata": {},
   "outputs": [],
   "source": [
    "average_income_cy(incomes), average_tax_rate_cy(incomes)"
   ]
  },
  {
   "cell_type": "code",
   "execution_count": null,
   "metadata": {},
   "outputs": [],
   "source": [
    "%%timeit\n",
    "average_tax_rate_cy(incomes)"
   ]
  },
  {
   "cell_type": "code",
   "execution_count": null,
   "metadata": {},
   "outputs": [],
   "source": [
    "ratios(compiled=1)"
   ]
  },
  {
   "cell_type": "markdown",
   "metadata": {},
   "source": [
    "## Faster Cython: static types"
   ]
  },
  {
   "cell_type": "code",
   "execution_count": null,
   "metadata": {
    "collapsed": true
   },
   "outputs": [],
   "source": [
    "%%cython\n",
    "\n",
    "def calculate_tax_cy(income):\n",
    "    if income > 256303:\n",
    "        return income * 0.45 - 16164.53\n",
    "    elif income > 54057:\n",
    "        return income * 0.42 - 8475.44\n",
    "    elif income > 13769:\n",
    "        return (income - 13769) * ((income - 13769) * 0.0000022376 + 0.2397) + 939.57\n",
    "    elif income > 8820:\n",
    "        return (income - 8820) * ((income - 8820) * 0.0000100727 + 0.14)\n",
    "    else:\n",
    "        return 0\n",
    "\n",
    "def average_income_cy(incomes):\n",
    "    return sum(incomes) / len(incomes)\n",
    "\n",
    "def average_tax_rate_cy(incomes):\n",
    "    return sum(calculate_tax_cy(x) for x in incomes) / sum(incomes)"
   ]
  },
  {
   "cell_type": "code",
   "execution_count": null,
   "metadata": {},
   "outputs": [],
   "source": [
    "average_tax_rate_cy(incomes)"
   ]
  },
  {
   "cell_type": "code",
   "execution_count": null,
   "metadata": {},
   "outputs": [],
   "source": [
    "%%timeit\n",
    "average_tax_rate_cy(incomes)"
   ]
  },
  {
   "cell_type": "code",
   "execution_count": null,
   "metadata": {
    "scrolled": true
   },
   "outputs": [],
   "source": [
    "ratios(typed=1)"
   ]
  },
  {
   "cell_type": "code",
   "execution_count": null,
   "metadata": {},
   "outputs": [],
   "source": [
    "%%cython -a\n",
    "\n",
    "# SOLUTION\n",
    "\n",
    "cpdef double calculate_tax_cy(double income):\n",
    "    if income > 256303:\n",
    "        return income * 0.45 - 16164.53\n",
    "    elif income > 54057:\n",
    "        return income * 0.42 - 8475.44\n",
    "    elif income > 13769:\n",
    "        return (income - 13769) * ((income - 13769) * 0.0000022376 + 0.2397) + 939.57\n",
    "    elif income > 8820:\n",
    "        return (income - 8820) * ((income - 8820) * 0.0000100727 + 0.14)\n",
    "    else:\n",
    "        return 0\n",
    "\n",
    "def average_tax_rate_cy(incomes):\n",
    "    # return sum(calculate_tax_cy(x) for x in incomes) / sum(incomes)\n",
    "    cdef double tax = 0, income = 0, x\n",
    "    for x in incomes:\n",
    "        income += x\n",
    "        tax += calculate_tax_cy(x)\n",
    "    return tax / income\n"
   ]
  },
  {
   "cell_type": "code",
   "execution_count": null,
   "metadata": {},
   "outputs": [],
   "source": [
    "average_tax_rate_cy(incomes)"
   ]
  },
  {
   "cell_type": "code",
   "execution_count": null,
   "metadata": {},
   "outputs": [],
   "source": [
    "%%timeit\n",
    "average_tax_rate_cy(incomes)"
   ]
  },
  {
   "cell_type": "code",
   "execution_count": null,
   "metadata": {
    "scrolled": true
   },
   "outputs": [],
   "source": [
    "ratios(typed=1)"
   ]
  },
  {
   "cell_type": "markdown",
   "metadata": {},
   "source": [
    "## Exercise: static typing for speed"
   ]
  },
  {
   "cell_type": "code",
   "execution_count": null,
   "metadata": {
    "collapsed": true
   },
   "outputs": [],
   "source": [
    "import math\n",
    "\n",
    "def circular_distance(radius, lon1, lat1, lon2, lat2):\n",
    "    x = math.pi/180.0\n",
    "    a = (90.0-lat1) * x\n",
    "    b = (90.0-lat2) * x\n",
    "    theta = (lon2-lon1) * x\n",
    "    c = math.acos((math.cos(a)*math.cos(b)) + (math.sin(a)*math.sin(b)*math.cos(theta)))\n",
    "    return radius*c\n",
    "\n",
    "print(circular_distance(10, 1.2, 2, 2, 4.3))"
   ]
  },
  {
   "cell_type": "code",
   "execution_count": null,
   "metadata": {
    "collapsed": true
   },
   "outputs": [],
   "source": [
    "%%cython\n",
    "# copy and optimise ...\n",
    "# hint: use \"libc.math\" from C instead of \"math\" from Python"
   ]
  },
  {
   "cell_type": "code",
   "execution_count": null,
   "metadata": {
    "collapsed": true
   },
   "outputs": [],
   "source": [
    "%%timeit\n",
    "circular_distance(10, 1.2, 2, 2, 4.3)"
   ]
  },
  {
   "cell_type": "markdown",
   "metadata": {},
   "source": [
    "## Faster Cython: processing memory views"
   ]
  },
  {
   "cell_type": "code",
   "execution_count": null,
   "metadata": {
    "collapsed": true
   },
   "outputs": [],
   "source": [
    "%%cython\n",
    "\n",
    "cpdef double calculate_tax_cy(double income):\n",
    "    if income > 256303:\n",
    "        return income * 0.45 - 16164.53\n",
    "    elif income > 54057:\n",
    "        return income * 0.42 - 8475.44\n",
    "    elif income > 13769:\n",
    "        return (income - 13769) * ((income - 13769) * 0.0000022376 + 0.2397) + 939.57\n",
    "    elif income > 8820:\n",
    "        return (income - 8820) * ((income - 8820) * 0.0000100727 + 0.14)\n",
    "    else:\n",
    "        return 0\n",
    "\n",
    "def average_tax_rate_memview(incomes):\n",
    "    # return sum(calculate_tax_cy(x) for x in incomes) / sum(incomes)\n",
    "    cdef double tax = 0, income = 0, x\n",
    "    for x in incomes:\n",
    "        income += x\n",
    "        tax += calculate_tax_cy(x)\n",
    "    return tax / income"
   ]
  },
  {
   "cell_type": "code",
   "execution_count": null,
   "metadata": {},
   "outputs": [],
   "source": [
    "average_tax_rate_memview(incomes_np)"
   ]
  },
  {
   "cell_type": "code",
   "execution_count": null,
   "metadata": {},
   "outputs": [],
   "source": [
    "%%timeit\n",
    "average_tax_rate_memview(incomes_np)"
   ]
  },
  {
   "cell_type": "code",
   "execution_count": null,
   "metadata": {},
   "outputs": [],
   "source": [
    "ratios(mviews=1)"
   ]
  },
  {
   "cell_type": "code",
   "execution_count": null,
   "metadata": {
    "collapsed": true
   },
   "outputs": [],
   "source": [
    "%%cython\n",
    "\n",
    "# SOLUTION\n",
    "\n",
    "cpdef double calculate_tax_cy(double income):\n",
    "    if income > 256303:\n",
    "        return income * 0.45 - 16164.53\n",
    "    elif income > 54057:\n",
    "        return income * 0.42 - 8475.44\n",
    "    elif income > 13769:\n",
    "        return (income - 13769) * ((income - 13769) * 0.0000022376 + 0.2397) + 939.57\n",
    "    elif income > 8820:\n",
    "        return (income - 8820) * ((income - 8820) * 0.0000100727 + 0.14)\n",
    "    else:\n",
    "        return 0\n",
    "\n",
    "def average_tax_rate_cy(incomes):\n",
    "    # return sum(calculate_tax_cy(x) for x in incomes) / sum(incomes)\n",
    "    cdef double tax = 0, income = 0, x\n",
    "    for x in incomes:\n",
    "        income += x\n",
    "        tax += calculate_tax_cy(x)\n",
    "    return tax / income\n",
    "\n",
    "\n",
    "cimport cython\n",
    "\n",
    "@cython.boundscheck(False)\n",
    "def average_tax_rate_memview(double[:] incomes):\n",
    "    cdef unsigned long i\n",
    "    cdef double tax = 0, income = 0, x\n",
    "    for i in range(incomes.shape[0]):\n",
    "        x = incomes[i]\n",
    "        income += x\n",
    "        tax += calculate_tax_cy(x)\n",
    "    return tax / income\n"
   ]
  },
  {
   "cell_type": "code",
   "execution_count": null,
   "metadata": {},
   "outputs": [],
   "source": [
    "average_tax_rate_memview(incomes_np)"
   ]
  },
  {
   "cell_type": "code",
   "execution_count": null,
   "metadata": {},
   "outputs": [],
   "source": [
    "%%timeit\n",
    "average_tax_rate_memview(incomes_np)"
   ]
  },
  {
   "cell_type": "code",
   "execution_count": null,
   "metadata": {},
   "outputs": [],
   "source": [
    "ratios(mviews=1)"
   ]
  },
  {
   "cell_type": "markdown",
   "metadata": {},
   "source": [
    "## Exercise: calculate circular distance for NumPy array"
   ]
  },
  {
   "cell_type": "code",
   "execution_count": null,
   "metadata": {},
   "outputs": [],
   "source": [
    "data = 180.0 * np.random.rand(4, 1000) - 90.0\n",
    "a = data[:2]\n",
    "b = data[2:]\n",
    "\n",
    "# Points in a and b: [[longitudes], [latitudes]]\n",
    "a"
   ]
  },
  {
   "cell_type": "code",
   "execution_count": null,
   "metadata": {},
   "outputs": [],
   "source": [
    "for i in range(3):\n",
    "    longitude = a[0, i]\n",
    "    latitude = a[1, i]\n",
    "    print(\"Longitude: {:6.3f}, Latitude: {:6.3f}\".format(longitude, latitude))\n",
    "print(\"...\")"
   ]
  },
  {
   "cell_type": "code",
   "execution_count": null,
   "metadata": {
    "collapsed": true
   },
   "outputs": [],
   "source": [
    "%%cython\n",
    "# copy your Cython circular distance function here to allow for fast C calls\n",
    "# unpack \"points_a\" and \"points_b\" into memory views\n",
    "# hint: 2D memory views are spelled \"dtype[:,:]\", e.g. \"double[:,:]\"\n",
    "# make sure a and b have the same length in their second dimention\n",
    "# loop over the range of points in a and apply the function to the points taken from a and b\n",
    "\n",
    "def calculate_distances(radius, points_a, points_b, output):\n",
    "    ...\n",
    "    return output"
   ]
  },
  {
   "cell_type": "code",
   "execution_count": null,
   "metadata": {},
   "outputs": [],
   "source": [
    "output = np.empty(a.shape[1], dtype=np.double)\n",
    "calculate_distances(100, a, b, output)"
   ]
  },
  {
   "cell_type": "markdown",
   "metadata": {},
   "source": [
    "## Faster Cython: prange"
   ]
  },
  {
   "cell_type": "code",
   "execution_count": null,
   "metadata": {
    "collapsed": true
   },
   "outputs": [],
   "source": [
    "%%cython\n",
    "# cython: auto_pickle=False\n",
    "# distutils: extra_compile_args=-fopenmp\n",
    "# distutils: extra_link_args=-fopenmp\n",
    "\n",
    "cpdef double calculate_tax_cy(double income):\n",
    "    if income > 256303:\n",
    "        return income * 0.45 - 16164.53\n",
    "    elif income > 54057:\n",
    "        return income * 0.42 - 8475.44\n",
    "    elif income > 13769:\n",
    "        return (income - 13769) * ((income - 13769) * 0.0000022376 + 0.2397) + 939.57\n",
    "    elif income > 8820:\n",
    "        return (income - 8820) * ((income - 8820) * 0.0000100727 + 0.14)\n",
    "    else:\n",
    "        return 0\n",
    "\n",
    "cimport cython\n",
    "\n",
    "@cython.boundscheck(False)\n",
    "def average_tax_rate_prange(double[:] incomes):\n",
    "    cdef unsigned long i\n",
    "    cdef double tax = 0, income = 0, x\n",
    "    for i in range(incomes.shape[0]):\n",
    "        x = incomes[i]\n",
    "        income += x\n",
    "        tax += calculate_tax_cy(x)\n",
    "    return tax / income\n"
   ]
  },
  {
   "cell_type": "code",
   "execution_count": null,
   "metadata": {
    "scrolled": true
   },
   "outputs": [],
   "source": [
    "average_tax_rate_prange(incomes_np)"
   ]
  },
  {
   "cell_type": "code",
   "execution_count": null,
   "metadata": {},
   "outputs": [],
   "source": [
    "%%timeit\n",
    "average_tax_rate_prange(incomes_np)"
   ]
  },
  {
   "cell_type": "code",
   "execution_count": null,
   "metadata": {
    "scrolled": true
   },
   "outputs": [],
   "source": [
    "ratios(prange=1)"
   ]
  },
  {
   "cell_type": "code",
   "execution_count": null,
   "metadata": {
    "collapsed": true
   },
   "outputs": [],
   "source": [
    "%%cython\n",
    "# distutils: extra_compile_args=-fopenmp\n",
    "# distutils: extra_link_args=-fopenmp\n",
    "\n",
    "# SOLUTION\n",
    "\n",
    "cpdef double calculate_tax_cy(double income) nogil:\n",
    "    if income > 256303:\n",
    "        return income * 0.45 - 16164.53\n",
    "    elif income > 54057:\n",
    "        return income * 0.42 - 8475.44\n",
    "    elif income > 13769:\n",
    "        return (income - 13769) * ((income - 13769) * 0.0000022376 + 0.2397) + 939.57\n",
    "    elif income > 8820:\n",
    "        return (income - 8820) * ((income - 8820) * 0.0000100727 + 0.14)\n",
    "    else:\n",
    "        return 0\n",
    "\n",
    "cimport cython\n",
    "from cython.parallel cimport prange\n",
    "\n",
    "@cython.boundscheck(False)\n",
    "def average_tax_rate_prange(double[:] incomes):\n",
    "    cdef unsigned long i\n",
    "    cdef double tax = 0, income = 0, x\n",
    "    for i in prange(incomes.shape[0], nogil=True, num_threads=4):\n",
    "        x = incomes[i]\n",
    "        income += x\n",
    "        tax += calculate_tax_cy(x)\n",
    "    return tax / income\n"
   ]
  },
  {
   "cell_type": "code",
   "execution_count": null,
   "metadata": {
    "scrolled": true
   },
   "outputs": [],
   "source": [
    "average_tax_rate_prange(incomes_np)"
   ]
  },
  {
   "cell_type": "code",
   "execution_count": null,
   "metadata": {},
   "outputs": [],
   "source": [
    "%%timeit\n",
    "average_tax_rate_prange(incomes_np)"
   ]
  },
  {
   "cell_type": "code",
   "execution_count": null,
   "metadata": {},
   "outputs": [],
   "source": [
    "ratios(prange=1)"
   ]
  },
  {
   "cell_type": "markdown",
   "metadata": {},
   "source": [
    "## more ..."
   ]
  },
  {
   "cell_type": "code",
   "execution_count": null,
   "metadata": {},
   "outputs": [],
   "source": [
    "%%cython\n",
    "\n",
    "cpdef double calculate_tax_cy(double income):\n",
    "    if income > 256303:\n",
    "        return income * 0.45 - 16164.53\n",
    "    elif income > 54057:\n",
    "        return income * 0.42 - 8475.44\n",
    "    elif income > 13769:\n",
    "        return (income - 13769) * ((income - 13769) * 0.0000022376 + 0.2397) + 939.57\n",
    "    elif income > 8820:\n",
    "        return (income - 8820) * ((income - 8820) * 0.0000100727 + 0.14)\n",
    "    else:\n",
    "        return 0\n",
    "\n",
    "def average_tax_cy(incomes):\n",
    "    # return sum(calculate_tax_cy(x) for x in incomes) / sum(incomes)\n",
    "    cdef double tax = 0, income = 0, x\n",
    "    for x in incomes:\n",
    "        income += x\n",
    "        tax += calculate_tax_cy(x)\n",
    "    return tax / income\n",
    "\n",
    "\n",
    "cimport numpy as cnp\n",
    "\n",
    "def average_tax_numcy(cnp.ndarray[double, ndim=1] incomes):\n",
    "    cdef long i\n",
    "    cdef double tax = 0, income = 0, x\n",
    "    for i in range(incomes.shape[0]):\n",
    "        x = incomes[i]\n",
    "        income += x\n",
    "        tax += calculate_tax_cy(x)\n",
    "    return income / tax\n"
   ]
  },
  {
   "cell_type": "markdown",
   "metadata": {},
   "source": [
    "## Pythran integration"
   ]
  },
  {
   "cell_type": "code",
   "execution_count": null,
   "metadata": {},
   "outputs": [],
   "source": [
    "%%cython\n",
    "# cython: language=c++\n",
    "# cython: np_pythran=True\n",
    "# distutils: extra_compile_args=-std=c++11\n",
    "\n",
    "import numpy as np\n",
    "cimport numpy as cnp\n",
    "\n",
    "def calculate_tax_numpy_segments(cnp.ndarray[double, ndim=1] d):\n",
    "    tax_seg1 = d[(d > 256303)] * 0.45 - 16164.53\n",
    "    tax_seg2 = d[(d > 54057) & (d <= 256303)] * 0.42 - 8475.44\n",
    "    seg3 = d[(d > 13769) & (d <= 54057)] - 13769\n",
    "    seg4 = d[(d > 8820) & (d <= 13769)] - 8820\n",
    "    prog_seg3 = seg3 * 0.0000022376 + 0.2397\n",
    "    prog_seg4 = seg4 * 0.0000100727 + 0.14\n",
    "    return (\n",
    "        np.sum(tax_seg1) +\n",
    "        np.sum(tax_seg2) +\n",
    "        np.sum(seg3 * prog_seg3 + 939.57) +\n",
    "        np.sum(seg4 * prog_seg4)\n",
    "    ) / np.sum(d)\n"
   ]
  },
  {
   "cell_type": "code",
   "execution_count": null,
   "metadata": {
    "collapsed": true
   },
   "outputs": [],
   "source": []
  }
 ],
 "metadata": {
  "kernelspec": {
   "display_name": "Python 3",
   "language": "python",
   "name": "python3"
  },
  "language_info": {
   "codemirror_mode": {
    "name": "ipython",
    "version": 3
   },
   "file_extension": ".py",
   "mimetype": "text/x-python",
   "name": "python",
   "nbconvert_exporter": "python",
   "pygments_lexer": "ipython3",
   "version": "3.6.6"
  }
 },
 "nbformat": 4,
 "nbformat_minor": 2
}
