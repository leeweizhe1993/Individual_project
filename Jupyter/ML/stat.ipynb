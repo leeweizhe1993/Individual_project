{
 "cells": [
  {
   "cell_type": "code",
   "execution_count": 1,
   "metadata": {
    "collapsed": true
   },
   "outputs": [],
   "source": [
    "import numpy as np\n",
    "from scipy import stats\n",
    "import math\n",
    "import matplotlib as mpl\n",
    "import matplotlib.pyplot as plt\n",
    "from mpl_toolkits.mplot3d import Axes3D\n",
    "from matplotlib import cm\n",
    "import seaborn"
   ]
  },
  {
   "cell_type": "code",
   "execution_count": null,
   "metadata": {
    "collapsed": true
   },
   "outputs": [],
   "source": [
    "def calc_statistics(x):\n",
    "    n = x.shape[0]    #获取样本个数\n",
    "    \n",
    "    m1 = 0\n",
    "    m2 = 0\n",
    "    m3 = 0\n",
    "    m4 = 0\n",
    "    for t in x:\n",
    "        m1 += t\n",
    "        m2 += t ** 2\n",
    "        m3 += t ** 3\n",
    "        m4 += t ** 4\n",
    "    m1 /= n\n",
    "    m2 /= n\n",
    "    m3 /= n\n",
    "    m4 /= n\n",
    "    \n",
    "    mu = m1    #均值\n",
    "    sigma = np.sqrt(m2 - mu ** 2)    #标准差"
   ]
  }
 ],
 "metadata": {
  "kernelspec": {
   "display_name": "Python 3",
   "language": "python",
   "name": "python3"
  },
  "language_info": {
   "codemirror_mode": {
    "name": "ipython",
    "version": 3
   },
   "file_extension": ".py",
   "mimetype": "text/x-python",
   "name": "python",
   "nbconvert_exporter": "python",
   "pygments_lexer": "ipython3",
   "version": "3.6.3"
  }
 },
 "nbformat": 4,
 "nbformat_minor": 2
}
