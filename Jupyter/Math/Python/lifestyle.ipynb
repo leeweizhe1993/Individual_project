{
 "cells": [
  {
   "cell_type": "code",
   "execution_count": 50,
   "metadata": {},
   "outputs": [],
   "source": [
    "import numpy as np\n",
    "import pandas as pd\n",
    "import matplotlib.pyplot as plt\n",
    "from sympy import *\n",
    "from scipy import stats\n",
    "import math\n",
    "import re\n",
    "import csv"
   ]
  },
  {
   "cell_type": "markdown",
   "metadata": {},
   "source": [
    "## 导入数据并清洗"
   ]
  },
  {
   "cell_type": "code",
   "execution_count": 111,
   "metadata": {},
   "outputs": [
    {
     "data": {
      "text/html": [
       "<div>\n",
       "<style scoped>\n",
       "    .dataframe tbody tr th:only-of-type {\n",
       "        vertical-align: middle;\n",
       "    }\n",
       "\n",
       "    .dataframe tbody tr th {\n",
       "        vertical-align: top;\n",
       "    }\n",
       "\n",
       "    .dataframe thead th {\n",
       "        text-align: right;\n",
       "    }\n",
       "</style>\n",
       "<table border=\"1\" class=\"dataframe\">\n",
       "  <thead>\n",
       "    <tr style=\"text-align: right;\">\n",
       "      <th></th>\n",
       "      <th>start</th>\n",
       "      <th>last</th>\n",
       "      <th>delet1</th>\n",
       "      <th>type</th>\n",
       "      <th>delet2</th>\n",
       "      <th>content</th>\n",
       "      <th>remark</th>\n",
       "      <th>tag</th>\n",
       "      <th>state</th>\n",
       "    </tr>\n",
       "  </thead>\n",
       "  <tbody>\n",
       "    <tr>\n",
       "      <th>0</th>\n",
       "      <td>2017-02-09 00:00</td>\n",
       "      <td>450</td>\n",
       "      <td>未分类</td>\n",
       "      <td>睡觉</td>\n",
       "      <td>未分类</td>\n",
       "      <td>NaN</td>\n",
       "      <td>NaN</td>\n",
       "      <td>NaN</td>\n",
       "      <td>已完成</td>\n",
       "    </tr>\n",
       "    <tr>\n",
       "      <th>1</th>\n",
       "      <td>2017-02-09 07:30</td>\n",
       "      <td>30</td>\n",
       "      <td>未分类</td>\n",
       "      <td>杂事</td>\n",
       "      <td>未分类</td>\n",
       "      <td>吃饭</td>\n",
       "      <td>NaN</td>\n",
       "      <td>NaN</td>\n",
       "      <td>已完成</td>\n",
       "    </tr>\n",
       "    <tr>\n",
       "      <th>2</th>\n",
       "      <td>2017-02-09 08:00</td>\n",
       "      <td>240</td>\n",
       "      <td>未分类</td>\n",
       "      <td>工作</td>\n",
       "      <td>未分类</td>\n",
       "      <td>家教</td>\n",
       "      <td>NaN</td>\n",
       "      <td>NaN</td>\n",
       "      <td>已完成</td>\n",
       "    </tr>\n",
       "    <tr>\n",
       "      <th>3</th>\n",
       "      <td>2017-02-09 12:00</td>\n",
       "      <td>30</td>\n",
       "      <td>未分类</td>\n",
       "      <td>杂事</td>\n",
       "      <td>未分类</td>\n",
       "      <td>吃饭</td>\n",
       "      <td>NaN</td>\n",
       "      <td>NaN</td>\n",
       "      <td>已完成</td>\n",
       "    </tr>\n",
       "    <tr>\n",
       "      <th>4</th>\n",
       "      <td>2017-02-09 12:30</td>\n",
       "      <td>30</td>\n",
       "      <td>未分类</td>\n",
       "      <td>睡觉</td>\n",
       "      <td>未分类</td>\n",
       "      <td>午睡</td>\n",
       "      <td>NaN</td>\n",
       "      <td>NaN</td>\n",
       "      <td>已完成</td>\n",
       "    </tr>\n",
       "  </tbody>\n",
       "</table>\n",
       "</div>"
      ],
      "text/plain": [
       "              start  last delet1 type delet2 content remark  tag state\n",
       "0  2017-02-09 00:00   450    未分类   睡觉    未分类     NaN    NaN  NaN   已完成\n",
       "1  2017-02-09 07:30    30    未分类   杂事    未分类      吃饭    NaN  NaN   已完成\n",
       "2  2017-02-09 08:00   240    未分类   工作    未分类      家教    NaN  NaN   已完成\n",
       "3  2017-02-09 12:00    30    未分类   杂事    未分类      吃饭    NaN  NaN   已完成\n",
       "4  2017-02-09 12:30    30    未分类   睡觉    未分类      午睡    NaN  NaN   已完成"
      ]
     },
     "execution_count": 111,
     "metadata": {},
     "output_type": "execute_result"
    }
   ],
   "source": [
    "path = \"./export.csv\"\n",
    "names = ['start', 'last', 'delet1', 'type', 'delet2', 'content', 'remark', 'tag', 'state']\n",
    "data = pd.read_csv(path, names = names, skiprows = [0])\n",
    "data.head()"
   ]
  },
  {
   "cell_type": "code",
   "execution_count": 112,
   "metadata": {},
   "outputs": [
    {
     "name": "stdout",
     "output_type": "stream",
     "text": [
      "(6516, 5)\n"
     ]
    },
    {
     "data": {
      "text/html": [
       "<div>\n",
       "<style scoped>\n",
       "    .dataframe tbody tr th:only-of-type {\n",
       "        vertical-align: middle;\n",
       "    }\n",
       "\n",
       "    .dataframe tbody tr th {\n",
       "        vertical-align: top;\n",
       "    }\n",
       "\n",
       "    .dataframe thead th {\n",
       "        text-align: right;\n",
       "    }\n",
       "</style>\n",
       "<table border=\"1\" class=\"dataframe\">\n",
       "  <thead>\n",
       "    <tr style=\"text-align: right;\">\n",
       "      <th></th>\n",
       "      <th>start</th>\n",
       "      <th>last</th>\n",
       "      <th>type</th>\n",
       "      <th>content</th>\n",
       "      <th>remark</th>\n",
       "    </tr>\n",
       "  </thead>\n",
       "  <tbody>\n",
       "    <tr>\n",
       "      <th>0</th>\n",
       "      <td>2017-02-09 00:00</td>\n",
       "      <td>450</td>\n",
       "      <td>睡觉</td>\n",
       "      <td>NaN</td>\n",
       "      <td>NaN</td>\n",
       "    </tr>\n",
       "    <tr>\n",
       "      <th>1</th>\n",
       "      <td>2017-02-09 07:30</td>\n",
       "      <td>30</td>\n",
       "      <td>杂事</td>\n",
       "      <td>吃饭</td>\n",
       "      <td>NaN</td>\n",
       "    </tr>\n",
       "    <tr>\n",
       "      <th>2</th>\n",
       "      <td>2017-02-09 08:00</td>\n",
       "      <td>240</td>\n",
       "      <td>工作</td>\n",
       "      <td>家教</td>\n",
       "      <td>NaN</td>\n",
       "    </tr>\n",
       "    <tr>\n",
       "      <th>3</th>\n",
       "      <td>2017-02-09 12:00</td>\n",
       "      <td>30</td>\n",
       "      <td>杂事</td>\n",
       "      <td>吃饭</td>\n",
       "      <td>NaN</td>\n",
       "    </tr>\n",
       "    <tr>\n",
       "      <th>4</th>\n",
       "      <td>2017-02-09 12:30</td>\n",
       "      <td>30</td>\n",
       "      <td>睡觉</td>\n",
       "      <td>午睡</td>\n",
       "      <td>NaN</td>\n",
       "    </tr>\n",
       "  </tbody>\n",
       "</table>\n",
       "</div>"
      ],
      "text/plain": [
       "              start  last type content remark\n",
       "0  2017-02-09 00:00   450   睡觉     NaN    NaN\n",
       "1  2017-02-09 07:30    30   杂事      吃饭    NaN\n",
       "2  2017-02-09 08:00   240   工作      家教    NaN\n",
       "3  2017-02-09 12:00    30   杂事      吃饭    NaN\n",
       "4  2017-02-09 12:30    30   睡觉      午睡    NaN"
      ]
     },
     "execution_count": 112,
     "metadata": {},
     "output_type": "execute_result"
    }
   ],
   "source": [
    "df = pd.DataFrame(data)\n",
    "df = df.drop(['delet1', 'delet2', 'tag', 'state'], axis = 1)\n",
    "print(df.shape)\n",
    "df.head()"
   ]
  },
  {
   "cell_type": "code",
   "execution_count": 113,
   "metadata": {},
   "outputs": [
    {
     "name": "stdout",
     "output_type": "stream",
     "text": [
      "['2017-02-09', '2017-02-09', '2017-02-09', '2017-02-09', '2017-02-09'] ['00:00', '07:30', '08:00', '12:00', '12:30']\n"
     ]
    }
   ],
   "source": [
    "date = []\n",
    "start = []\n",
    "for i in range(df.shape[0]):\n",
    "    date.append(df['start'][i].split(' ')[0])\n",
    "    start.append(df['start'][i].split(' ')[1])\n",
    "print(date[:5], start[:5])"
   ]
  },
  {
   "cell_type": "code",
   "execution_count": 114,
   "metadata": {},
   "outputs": [
    {
     "name": "stdout",
     "output_type": "stream",
     "text": [
      "(6516, 2)\n"
     ]
    },
    {
     "data": {
      "text/html": [
       "<div>\n",
       "<style scoped>\n",
       "    .dataframe tbody tr th:only-of-type {\n",
       "        vertical-align: middle;\n",
       "    }\n",
       "\n",
       "    .dataframe tbody tr th {\n",
       "        vertical-align: top;\n",
       "    }\n",
       "\n",
       "    .dataframe thead th {\n",
       "        text-align: right;\n",
       "    }\n",
       "</style>\n",
       "<table border=\"1\" class=\"dataframe\">\n",
       "  <thead>\n",
       "    <tr style=\"text-align: right;\">\n",
       "      <th></th>\n",
       "      <th>date</th>\n",
       "      <th>start</th>\n",
       "    </tr>\n",
       "  </thead>\n",
       "  <tbody>\n",
       "    <tr>\n",
       "      <th>0</th>\n",
       "      <td>2017-02-09</td>\n",
       "      <td>00:00</td>\n",
       "    </tr>\n",
       "    <tr>\n",
       "      <th>1</th>\n",
       "      <td>2017-02-09</td>\n",
       "      <td>07:30</td>\n",
       "    </tr>\n",
       "    <tr>\n",
       "      <th>2</th>\n",
       "      <td>2017-02-09</td>\n",
       "      <td>08:00</td>\n",
       "    </tr>\n",
       "    <tr>\n",
       "      <th>3</th>\n",
       "      <td>2017-02-09</td>\n",
       "      <td>12:00</td>\n",
       "    </tr>\n",
       "    <tr>\n",
       "      <th>4</th>\n",
       "      <td>2017-02-09</td>\n",
       "      <td>12:30</td>\n",
       "    </tr>\n",
       "  </tbody>\n",
       "</table>\n",
       "</div>"
      ],
      "text/plain": [
       "         date  start\n",
       "0  2017-02-09  00:00\n",
       "1  2017-02-09  07:30\n",
       "2  2017-02-09  08:00\n",
       "3  2017-02-09  12:00\n",
       "4  2017-02-09  12:30"
      ]
     },
     "execution_count": 114,
     "metadata": {},
     "output_type": "execute_result"
    }
   ],
   "source": [
    "date_start = pd.DataFrame({'date': date, 'start': start})\n",
    "print(date_start.shape)\n",
    "date_start.head()"
   ]
  },
  {
   "cell_type": "code",
   "execution_count": 115,
   "metadata": {},
   "outputs": [
    {
     "name": "stdout",
     "output_type": "stream",
     "text": [
      "<class 'pandas.core.frame.DataFrame'>\n"
     ]
    },
    {
     "data": {
      "text/plain": [
       "(6516, 6)"
      ]
     },
     "execution_count": 115,
     "metadata": {},
     "output_type": "execute_result"
    }
   ],
   "source": [
    "df = date_start.join(df.drop(columns = 'start'))\n",
    "print(type(df))\n",
    "df.shape"
   ]
  },
  {
   "cell_type": "code",
   "execution_count": 117,
   "metadata": {},
   "outputs": [
    {
     "data": {
      "text/html": [
       "<div>\n",
       "<style scoped>\n",
       "    .dataframe tbody tr th:only-of-type {\n",
       "        vertical-align: middle;\n",
       "    }\n",
       "\n",
       "    .dataframe tbody tr th {\n",
       "        vertical-align: top;\n",
       "    }\n",
       "\n",
       "    .dataframe thead th {\n",
       "        text-align: right;\n",
       "    }\n",
       "</style>\n",
       "<table border=\"1\" class=\"dataframe\">\n",
       "  <thead>\n",
       "    <tr style=\"text-align: right;\">\n",
       "      <th></th>\n",
       "      <th>date</th>\n",
       "      <th>start</th>\n",
       "      <th>last</th>\n",
       "      <th>type</th>\n",
       "      <th>content</th>\n",
       "      <th>remark</th>\n",
       "    </tr>\n",
       "  </thead>\n",
       "  <tbody>\n",
       "    <tr>\n",
       "      <th>0</th>\n",
       "      <td>2017-02-09</td>\n",
       "      <td>00:00</td>\n",
       "      <td>450</td>\n",
       "      <td>睡觉</td>\n",
       "      <td>NaN</td>\n",
       "      <td>NaN</td>\n",
       "    </tr>\n",
       "    <tr>\n",
       "      <th>1</th>\n",
       "      <td>2017-02-09</td>\n",
       "      <td>07:30</td>\n",
       "      <td>30</td>\n",
       "      <td>杂事</td>\n",
       "      <td>吃饭</td>\n",
       "      <td>NaN</td>\n",
       "    </tr>\n",
       "    <tr>\n",
       "      <th>2</th>\n",
       "      <td>2017-02-09</td>\n",
       "      <td>08:00</td>\n",
       "      <td>240</td>\n",
       "      <td>工作</td>\n",
       "      <td>家教</td>\n",
       "      <td>NaN</td>\n",
       "    </tr>\n",
       "    <tr>\n",
       "      <th>3</th>\n",
       "      <td>2017-02-09</td>\n",
       "      <td>12:00</td>\n",
       "      <td>30</td>\n",
       "      <td>杂事</td>\n",
       "      <td>吃饭</td>\n",
       "      <td>NaN</td>\n",
       "    </tr>\n",
       "    <tr>\n",
       "      <th>4</th>\n",
       "      <td>2017-02-09</td>\n",
       "      <td>12:30</td>\n",
       "      <td>30</td>\n",
       "      <td>睡觉</td>\n",
       "      <td>午睡</td>\n",
       "      <td>NaN</td>\n",
       "    </tr>\n",
       "  </tbody>\n",
       "</table>\n",
       "</div>"
      ],
      "text/plain": [
       "         date  start  last type content remark\n",
       "0  2017-02-09  00:00   450   睡觉     NaN    NaN\n",
       "1  2017-02-09  07:30    30   杂事      吃饭    NaN\n",
       "2  2017-02-09  08:00   240   工作      家教    NaN\n",
       "3  2017-02-09  12:00    30   杂事      吃饭    NaN\n",
       "4  2017-02-09  12:30    30   睡觉      午睡    NaN"
      ]
     },
     "execution_count": 117,
     "metadata": {},
     "output_type": "execute_result"
    }
   ],
   "source": [
    "df.head()"
   ]
  },
  {
   "cell_type": "markdown",
   "metadata": {},
   "source": [
    "## 描述统计"
   ]
  },
  {
   "cell_type": "code",
   "execution_count": 128,
   "metadata": {},
   "outputs": [
    {
     "data": {
      "text/plain": [
       "count    6516.000000\n",
       "mean       95.232505\n",
       "std       106.216357\n",
       "min        15.000000\n",
       "25%        30.000000\n",
       "50%        60.000000\n",
       "75%       120.000000\n",
       "max       690.000000\n",
       "Name: last, dtype: float64"
      ]
     },
     "execution_count": 128,
     "metadata": {},
     "output_type": "execute_result"
    }
   ],
   "source": [
    "df['last'].describe()"
   ]
  },
  {
   "cell_type": "code",
   "execution_count": 133,
   "metadata": {},
   "outputs": [
    {
     "data": {
      "text/plain": [
       "4.1388311930885004"
      ]
     },
     "execution_count": 133,
     "metadata": {},
     "output_type": "execute_result"
    }
   ],
   "source": [
    "df['last'].kurt()"
   ]
  },
  {
   "cell_type": "code",
   "execution_count": null,
   "metadata": {},
   "outputs": [],
   "source": []
  }
 ],
 "metadata": {
  "kernelspec": {
   "display_name": "Python 3",
   "language": "python",
   "name": "python3"
  },
  "language_info": {
   "codemirror_mode": {
    "name": "ipython",
    "version": 3
   },
   "file_extension": ".py",
   "mimetype": "text/x-python",
   "name": "python",
   "nbconvert_exporter": "python",
   "pygments_lexer": "ipython3",
   "version": "3.6.5"
  }
 },
 "nbformat": 4,
 "nbformat_minor": 2
}
