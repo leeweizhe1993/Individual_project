{
 "cells": [
  {
   "cell_type": "code",
   "execution_count": 1,
   "metadata": {},
   "outputs": [],
   "source": [
    "import numpy as np\n",
    "from PIL import Image"
   ]
  },
  {
   "cell_type": "code",
   "execution_count": null,
   "metadata": {},
   "outputs": [],
   "source": [
    "image_path = 'C://Users//aa//Desktop//111.jpg'\n",
    "height = 300  #设置字符行数(set height)\n",
    "\n",
    "img = Image.open(image_path)    #打开图像\n",
    "#print('img =', img )\n",
    "img_width, img_height = img.size    #返回图片宽、高\n",
    "#print(img.size)\n",
    "width = 2 * height * img_width // img_height    \n",
    "    # 因像素是正方形，故得到宽度后实际与高度相等，\n",
    "    # 假定字符的高度是宽度的2倍，故宽度需行数乘以2\n",
    "#print(width)\n",
    "img = img.resize((width, height), Image.ANTIALIAS)    #反走样\n",
    "pixels = np.array(img.convert('L'))    #变为灰度图\n",
    "print(pixels.shape)\n",
    "print(pixels)\n",
    "chars = \"MNH$QOC?7>!;:-. \"    #给定不同复杂度的字符对应不同色彩值\n",
    "N = len(chars)\n",
    "step = 256 // N    #设置步长\n",
    "print(N)\n",
    "result = ''\n",
    "\n",
    "'''针对每一行每一列写入字符'''\n",
    "for i in range(height):\n",
    "    for j in range(width):\n",
    "        result += chars[pixels[i][j] // step]    \n",
    "            #取出灰度值除以步长，写入对应字符\n",
    "    result += '\\n'    #行末换行\n",
    "with open('C://Users//aa//Desktop//text.txt', 'w') as f:\n",
    "    f.write(result)\n",
    "    f.close()"
   ]
  }
 ],
 "metadata": {
  "kernelspec": {
   "display_name": "Python 3",
   "language": "python",
   "name": "python3"
  },
  "language_info": {
   "codemirror_mode": {
    "name": "ipython",
    "version": 3
   },
   "file_extension": ".py",
   "mimetype": "text/x-python",
   "name": "python",
   "nbconvert_exporter": "python",
   "pygments_lexer": "ipython3",
   "version": "3.6.5"
  }
 },
 "nbformat": 4,
 "nbformat_minor": 2
}
