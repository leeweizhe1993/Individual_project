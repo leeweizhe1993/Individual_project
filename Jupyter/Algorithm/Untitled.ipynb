{
 "cells": [
  {
   "cell_type": "code",
   "execution_count": 21,
   "metadata": {},
   "outputs": [
    {
     "name": "stdout",
     "output_type": "stream",
     "text": [
      "请输入三条边，用空格隔开，Enter确认：1 1 1.414\n",
      "等腰三角形\n"
     ]
    }
   ],
   "source": [
    "grade = []\n",
    "for i in range(5):\n",
    "    print(\"请输入学生{}的学号，Enter确认：\".format(i + 1))\n",
    "    num = input()\n",
    "    print(\"请输入学生{}的成绩，用空格隔开，Enter确认：\".format(i + 1))\n",
    "    a, b, c = input().split()\n",
    "    grade.append([int(num), float(a),float(b), float(c)])\n"
   ]
  },
  {
   "cell_type": "code",
   "execution_count": 40,
   "metadata": {},
   "outputs": [
    {
     "name": "stdout",
     "output_type": "stream",
     "text": [
      "请输入学生1的学号，Enter确认：\n",
      "1\n",
      "请输入学生1的成绩，用空格隔开，Enter确认：\n",
      "57 67 97\n",
      "请输入学生2的学号，Enter确认：\n",
      "2\n",
      "请输入学生2的成绩，用空格隔开，Enter确认：\n",
      "78 67 90\n",
      "请输入学生3的学号，Enter确认：\n",
      "3\n",
      "请输入学生3的成绩，用空格隔开，Enter确认：\n",
      "87 90 88\n",
      "请输入学生4的学号，Enter确认：\n",
      "4\n",
      "请输入学生4的成绩，用空格隔开，Enter确认：\n",
      "87 67 67\n",
      "请输入学生5的学号，Enter确认：\n",
      "5\n",
      "请输入学生5的成绩，用空格隔开，Enter确认：\n",
      "87 86 85\n",
      "总分最高的同学学号是：1\n",
      "三科成绩分别是：57.0，67.0，97.0，总分是221.0，平均分是73.67\n"
     ]
    }
   ],
   "source": [
    "grades = []\n",
    "\n",
    "for i in range(5):\n",
    "    print(\"请输入学生{}的学号，Enter确认：\".format(i + 1))\n",
    "    num = input()\n",
    "    print(\"请输入学生{}的成绩，用空格隔开，Enter确认：\".format(i + 1))\n",
    "    a, b, c = input().split()\n",
    "    #列表中子列表元素分别对应[学号，科目1，科目2，科目3，平均分，总分]\n",
    "    grades.append([int(num), float(a),float(b), float(c), (float(a) + float(b) + float(c)) / 3, float(a) + float(b) + float(c)])\n",
    "\n",
    "def getKey(item):\n",
    "    return item[-1]  #返回总分\n",
    "\n",
    "grades = sorted(grades,key = getKey, reverse = True)  #按总分倒序排列\n",
    "\n",
    "print(\"总分最高的同学学号是：{}\".format(grades[0][0]))\n",
    "print(\"三科成绩分别是：{}，{}，{}，总分是{}，平均分是{:.2f}\"\n",
    "      .format(grades[0][1], grades[0][2], grades[0][3], grades[0][-1], grades[0][4]))"
   ]
  },
  {
   "cell_type": "code",
   "execution_count": 43,
   "metadata": {
    "scrolled": true
   },
   "outputs": [],
   "source": [
    "def getKey(item):\n",
    "    return item[-1]\n",
    "grades = sorted(grades,key = getKey, reverse = True)"
   ]
  },
  {
   "cell_type": "code",
   "execution_count": 47,
   "metadata": {},
   "outputs": [
    {
     "name": "stdout",
     "output_type": "stream",
     "text": [
      "总分最高的同学学号是：3\n",
      "三科成绩分别是：87.0，90.0，88.0，总分是265.0，平均分是88.33\n"
     ]
    }
   ],
   "source": [
    "print(\"总分最高的同学学号是：{}\".format(grades[0][0]))\n",
    "print(\"三科成绩分别是：{}，{}，{}，总分是{}，平均分是{:.2f}\"\n",
    "      .format(grades[0][1], grades[0][2], grades[0][3], grades[0][-1], grades[0][4]))"
   ]
  },
  {
   "cell_type": "code",
   "execution_count": 7,
   "metadata": {},
   "outputs": [
    {
     "ename": "ImportError",
     "evalue": "cannot import name 'tobii_pro'",
     "output_type": "error",
     "traceback": [
      "\u001b[1;31m---------------------------------------------------------------------------\u001b[0m",
      "\u001b[1;31mImportError\u001b[0m                               Traceback (most recent call last)",
      "\u001b[1;32m<ipython-input-7-abd9665459a7>\u001b[0m in \u001b[0;36m<module>\u001b[1;34m()\u001b[0m\n\u001b[1;32m----> 1\u001b[1;33m \u001b[1;32mimport\u001b[0m \u001b[0mtobii_research\u001b[0m \u001b[1;32mas\u001b[0m \u001b[0mtr\u001b[0m\u001b[1;33m\u001b[0m\u001b[0m\n\u001b[0m",
      "\u001b[1;32mD:\\Anaconda\\lib\\site-packages\\tobii_research.py\u001b[0m in \u001b[0;36m<module>\u001b[1;34m()\u001b[0m\n\u001b[0;32m      1\u001b[0m \u001b[1;32mimport\u001b[0m \u001b[0mtobiiresearch\u001b[0m\u001b[1;33m.\u001b[0m\u001b[0mimplementation\u001b[0m\u001b[1;33m\u001b[0m\u001b[0m\n\u001b[1;32m----> 2\u001b[1;33m \u001b[1;32mfrom\u001b[0m \u001b[0mtobiiresearch\u001b[0m\u001b[1;33m.\u001b[0m\u001b[0minterop\u001b[0m \u001b[1;32mimport\u001b[0m \u001b[0mtobii_pro\u001b[0m\u001b[1;33m\u001b[0m\u001b[0m\n\u001b[0m\u001b[0;32m      3\u001b[0m \u001b[1;32mfrom\u001b[0m \u001b[0mimportlib\u001b[0m \u001b[1;32mimport\u001b[0m \u001b[0mimport_module\u001b[0m\u001b[1;33m\u001b[0m\u001b[0m\n\u001b[0;32m      4\u001b[0m \u001b[1;33m\u001b[0m\u001b[0m\n\u001b[0;32m      5\u001b[0m \u001b[1;33m\u001b[0m\u001b[0m\n",
      "\u001b[1;31mImportError\u001b[0m: cannot import name 'tobii_pro'"
     ]
    }
   ],
   "source": [
    "import tobii_research as tr\n"
   ]
  }
 ],
 "metadata": {
  "kernelspec": {
   "display_name": "Python 3",
   "language": "python",
   "name": "python3"
  },
  "language_info": {
   "codemirror_mode": {
    "name": "ipython",
    "version": 3
   },
   "file_extension": ".py",
   "mimetype": "text/x-python",
   "name": "python",
   "nbconvert_exporter": "python",
   "pygments_lexer": "ipython3",
   "version": "3.6.5"
  }
 },
 "nbformat": 4,
 "nbformat_minor": 2
}
