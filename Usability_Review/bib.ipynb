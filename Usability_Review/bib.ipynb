{
 "cells": [
  {
   "cell_type": "code",
   "execution_count": 1,
   "metadata": {},
   "outputs": [
    {
     "name": "stderr",
     "output_type": "stream",
     "text": [
      "To cite bibliometrix in publications, please use:\n",
      "\n",
      "Aria, M. & Cuccurullo, C. (2017) bibliometrix: An R-tool for comprehensive science mapping analysis, Journal of Informetrics, 11(4), pp 959-975, Elsevier.\n",
      "                        \n",
      "\n",
      "http:\\\\www.bibliometrix.org\n",
      "\n",
      "                        \n",
      "To start with the shiny web-interface, please digit:\n",
      "biblioshiny()\n",
      "\n",
      "\n"
     ]
    }
   ],
   "source": [
    "library(bibliometrix)"
   ]
  },
  {
   "cell_type": "code",
   "execution_count": 2,
   "metadata": {},
   "outputs": [
    {
     "name": "stderr",
     "output_type": "stream",
     "text": [
      "Loading required package: shiny\n",
      "\n",
      "\n",
      "Listening on http://127.0.0.1:4969\n",
      "\n",
      "Warning message:\n",
      "“Error in unzip: 无法打开文件'./Usability10.txt': Permission denied”\n",
      "Warning message:\n",
      "“Error in unzip: 无法打开文件'./Usability10.txt': Permission denied”\n",
      "Warning message:\n",
      "“Error in unzip: 无法打开文件'./Usability10.txt': Permission denied”\n",
      "Warning message:\n",
      "“Error in unzip: 无法打开文件'./Usability10.txt': Permission denied”\n",
      "Warning message:\n",
      "“Error in unzip: 无法打开文件'./Usability10.txt': Permission denied”\n",
      "Warning message:\n",
      "“Error in unzip: 无法打开文件'./Usability10.txt': Permission denied”\n",
      "Warning message:\n",
      "“Error in unzip: 无法打开文件'./Usability10.txt': Permission denied”\n",
      "Warning message:\n",
      "“Error in unzip: 无法打开文件'./Usability10.txt': Permission denied”\n",
      "Warning message:\n",
      "“Error in unzip: 无法打开文件'./Usability10.txt': Permission denied”\n",
      "Warning message:\n",
      "“Error in unzip: 无法打开文件'./Usability10.txt': Permission denied”\n",
      "Warning message:\n",
      "“Error in unzip: 无法打开文件'./Usability10.txt': Permission denied”\n",
      "Warning message:\n",
      "“Error in unzip: 无法打开文件'./Usability10.txt': Permission denied”\n",
      "Warning message:\n",
      "“Error in unzip: 无法打开文件'./Usability10.txt': Permission denied”\n",
      "Warning message:\n",
      "“Error in unzip: 无法打开文件'./Usability10.txt': Permission denied”\n",
      "Warning message:\n",
      "“Error in unzip: 无法打开文件'./Usability10.txt': Permission denied”\n",
      "Warning message:\n",
      "“Error in unzip: 无法打开文件'./Usability10.txt': Permission denied”\n",
      "Warning message:\n",
      "“Error in unzip: 无法打开文件'./Usability10.txt': Permission denied”\n"
     ]
    }
   ],
   "source": [
    "biblioshiny()"
   ]
  },
  {
   "cell_type": "code",
   "execution_count": null,
   "metadata": {},
   "outputs": [],
   "source": []
  }
 ],
 "metadata": {
  "kernelspec": {
   "display_name": "R",
   "language": "R",
   "name": "ir"
  },
  "language_info": {
   "codemirror_mode": "r",
   "file_extension": ".r",
   "mimetype": "text/x-r-source",
   "name": "R",
   "pygments_lexer": "r",
   "version": "4.0.2"
  }
 },
 "nbformat": 4,
 "nbformat_minor": 4
}
