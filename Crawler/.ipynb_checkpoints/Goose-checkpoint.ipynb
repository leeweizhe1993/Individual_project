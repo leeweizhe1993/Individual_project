{
 "cells": [
  {
   "cell_type": "code",
   "execution_count": 1,
   "metadata": {},
   "outputs": [
    {
     "name": "stderr",
     "output_type": "stream",
     "text": [
      "Building prefix dict from the default dictionary ...\n",
      "Dumping model to file cache /var/folders/05/cqptwrtn1_l8n2w5kcl_2pg80000gp/T/jieba.cache\n",
      "Loading model cost 0.643 seconds.\n",
      "Prefix dict has been built succesfully.\n"
     ]
    },
    {
     "name": "stdout",
     "output_type": "stream",
     "text": [
      "标题： 如何用Python抓抖音上的小姐姐\n",
      "爬虫的案例我们已讲得太多。不过几乎都是网页爬虫。即使有些手机才能访问的网站，我们也可以通过 Chrome 开发者工具的手机模拟功能来访问，以便于分析请求并抓取。（比如 3分钟破译朋友圈测试小游戏 文章里用的方法）\n",
      "\n",
      "但有些 App 根本就没有提供网页端，比如今年火得不行的抖音。（网上有些教程也是用网页手机模拟的方法，但此法现已失效。）\n",
      "\n",
      "手机 App 不像电脑上的网页能直接通过浏览器查看相关信息，在手机设备上也不方便使用工具一边流量一边调试。所以常用的方式就是通过在电脑上装一些“抓包”软件，将手机上的网络请求全部显示出来。\n",
      "\n",
      "那为什么电脑能看到手机上的网络请求？这里就要提下“代理”这个概念。我们之前的文章 听说你好不容易写了个爬虫，结果没抓几个就被封了？ 中也讲过代理。形象的解释就是字面的理解：所有你发出的请求不再是直接发到目的地，而是先发给这个代理，再由代理帮你发出。所以通过代理，可以实现隐藏 IP、进入专用网络、翻…咳咳那啥等功能，也包括我们今天说的：手机抓包。\n",
      "\n",
      "顺带说句，在公共场所别随便连不确定的免费 wifi，理论上来说，人家也可以抓你的包。\n",
      "\n",
      "这里，我们要用的工具是 Fiddler。它是一个较成熟的免费抓包工具。可以抓取网页、桌面软件、手机 App 的网络请求，并可以运行在 Windows、Mac、Linux 平台上，支持 iOS 和 Android。（虽说都支持，但强烈建议 Windows + Android，后面我会有吐槽）\n",
      "\n",
      "搜索一下 fiddler 很容易找到它们的官网 https://www.telerik.com/fiddler，点击 download 下载即可（有个表格随便填下）。\n",
      "\n",
      "Windows 下载后正常安装。如果是 Mac，还会有安装步骤提示，告诉你需要先安装一个叫做 Mono 的框架，以便可以执行 Fiddler.exe。另外 Mac 版还有几个小坑：\n",
      "\n",
      "3. 第一次正确运行时，程序会卡住很长时间，以至于我以为还是挂了，这时请耐心等待。（我要不是正好有事走开，回来发现成功了，可能就放弃尝试了）\n",
      "\n",
      "4. 即使正常运行了，Mac 上界面也会有各种显示的 bug，切记不要打开的弹窗的情况下切换程序，不然回来就找不到弹窗了……\n",
      "\n",
      "6. 在 iOS 上无法抓取 HTTPS 请求（这基本就是废了），需要额外创建一个证书，但这个证书工具只能在 Windows 下运行……\n",
      "\n",
      "所以可以的话，还是用 Windows 来做。Mac 上还有个比较知名的工具 Charles，有用过的可以留言评价下。\n",
      "\n",
      "设置允许抓取 HTTPS 信息包。打开下载好的 fiddler，找到 Tools -> Options，然后在 HTTPS 的工具栏下勾选 Decrpt HTTPS traffic，在新弹出的选项栏下勾选 Ignore server certificate errors。这样，fiddler 就会抓取到 HTTPS 的信息包。\n",
      "\n",
      "设置允许外部设备发送 HTTP/HTTPS 到 fiddler。设置端口号，并在 Connections 选项栏下勾选 Allow remote computers to connect。\n",
      "\n",
      "在抓包前，确保你的电脑和手机是在一个可以互访的局域网中。最简单的情况就是都连在同一个 wifi 上，特殊情况这里不展开讨论（有些商用 wifi 并不能互访）。\n",
      "\n",
      "打开软件，鼠标放在右上角的 Online 上可以看到本机的 IP。或者也可以通过命令行中的 ipconfig 命令（Mac/Linux 是 ifconfig）查看。（截图仅为演示，以你自己的 IP 为准）\n",
      "\n",
      "手机设置代理 IP。打开手机无线网络连接，选择已经连接的网络连接，点击一个小圆圈叹号进入可以看到下图（安卓也类似），选择配置代理，进入后把刚刚的 IP 地址输入进去，端口就是 fiddler 中设置的 8888。\n",
      "\n",
      "手机访问前面设置的电脑的 IP 地址加端口 8888 访问，比如图中例子是：http://192.168.23.1:8888\n",
      "\n",
      "开启 fiddler 的状态下，打开手机随便一个 APP，应对可以正常访问，并且在 fiddler 中看到所发出的网络请求。\n",
      "\n",
      "如果能访问但看不到请求，确认下有没有代理有没有生效。如果不能访问，检查下证书是否都下载并验证。还是不行则按照上述步骤再仔细配置一遍。\n",
      "\n",
      "完成这一步之后，接下来的事情就和网页爬虫没太大区别了。无非就是从这些请求中，找到我们需要的那几个。\n",
      "\n",
      "fiddler 里记录的是所有请求，比较多。在操作 App 前，记得清空已有请求，方便观察。然后再配合上 filter 筛选器，定义筛选规则，会较容易找你需要的内容。找到请求后，在软件里查看你要的信息，或者右键点击选择将请求导出。\n",
      "\n",
      "经过操作+观察，可以定位到获取用户上传视频列表的请求是\n",
      "\n",
      "从 WebForms 栏里可以查看请求的详细参数信息。返回值是一个组 JSON 数据，里面包含了视频的下载地址。\n",
      "\n",
      "这是一个需要经验积累的活儿，不同的网站/App，规则都不一样，但套路是相似的。对网页爬虫还不熟悉的话，先看看之前的文章 爬虫必备工具，掌握它就解决了一半的问题。\n",
      "\n",
      "得到地址之后，经过在浏览器和代码里的一番尝试，找到了此请求的正确解锁方式：\n",
      "\n",
      "1. 需要提供以下参数： ，其中 user_id 是你要抓取的用户 ID，其他参数都可以固定不用改。\n",
      "\n",
      "2. 需要使用手机的 User-Agent，最简单的就是\n",
      "\n",
      "uid 替换成你想抓的用户 ID。获取用户 ID 有个简单方法：在用户页面选择分享，链接发到微信上，从网页打开就可以看到 user_id。\n",
      "\n",
      "此方法截止国庆假期还是有效的，可以通过 Chrome 开发者工具进行模拟。之后能使用多久这就没法保证了，爬虫代码都不会是一劳永逸的。\n",
      "\n",
      "\n",
      "\n",
      "总结下，重点是 fiddler 的抓取，关键是 配置、代理、证书，难点是 对请求的分析。最终代码只有简单两步，获取视频列表、下载视频。\n",
      "\n",
      "所有代码其实就上面两段，也上传了，获取地址请在公众号（Crossin的编程教室）回复关键字 抖音\n",
      "\n",
      "想看其他十多个项目代码实例（电影票、招聘、贪吃蛇、代理池等），回复关键字 项目\n",
      "\n",
      "\n",
      "\n",
      "════\n",
      "\n",
      "其他文章及回答：\n",
      "\n",
      "如何自学Python | 新手引导 | 精选Python问答 | 如何debug？ | Python单词表 | 知乎下载器 | 人工智能 | 嘻哈 | 爬虫 | 我用Python | 高考 | requests | AI平台\n"
     ]
    }
   ],
   "source": [
    "from goose3 import Goose\n",
    "from goose3.text import StopWordsChinese\n",
    "# 初始化，设置中文分词\n",
    "g = Goose({'stopwords_class': StopWordsChinese})\n",
    "# 文章地址\n",
    "url = 'http://zhuanlan.zhihu.com/p/46396868'\n",
    "# 获取文章内容\n",
    "article = g.extract(url=url)\n",
    "# 标题\n",
    "print('标题：', article.title)\n",
    "# 显示正文\n",
    "print(article.cleaned_text)"
   ]
  },
  {
   "cell_type": "code",
   "execution_count": 4,
   "metadata": {},
   "outputs": [
    {
     "data": {
      "text/plain": [
       "(2715, str)"
      ]
     },
     "execution_count": 4,
     "metadata": {},
     "output_type": "execute_result"
    }
   ],
   "source": [
    "len(article.cleaned_text), type(article.cleaned_text)"
   ]
  }
 ],
 "metadata": {
  "kernelspec": {
   "display_name": "Python 3",
   "language": "python",
   "name": "python3"
  },
  "language_info": {
   "codemirror_mode": {
    "name": "ipython",
    "version": 3
   },
   "file_extension": ".py",
   "mimetype": "text/x-python",
   "name": "python",
   "nbconvert_exporter": "python",
   "pygments_lexer": "ipython3",
   "version": "3.6.6"
  }
 },
 "nbformat": 4,
 "nbformat_minor": 2
}
