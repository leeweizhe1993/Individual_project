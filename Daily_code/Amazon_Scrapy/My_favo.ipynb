{
 "cells": [
  {
   "cell_type": "code",
   "execution_count": 17,
   "metadata": {},
   "outputs": [],
   "source": [
    "import requests, time, pickle, os\n",
    "from bs4 import BeautifulSoup\n",
    "import re"
   ]
  },
  {
   "cell_type": "markdown",
   "metadata": {},
   "source": [
    "## 获取header信息"
   ]
  },
  {
   "cell_type": "code",
   "execution_count": null,
   "metadata": {},
   "outputs": [],
   "source": [
    "with open(\"headers.txt\", 'r') as f:\n",
    "    txt = f.read()\n",
    "    json = txt.split(\"\\n\")\n",
    "    headers = {}\n",
    "    for i in json:\n",
    "        headers[i.split(\":\")[0].strip()] = i.split(\":\")[1].strip()\n",
    "    f.close()\n",
    "headers"
   ]
  },
  {
   "cell_type": "markdown",
   "metadata": {},
   "source": [
    "## 添加书籍链接"
   ]
  },
  {
   "cell_type": "code",
   "execution_count": 84,
   "metadata": {},
   "outputs": [],
   "source": [
    "with open(\"book.pk\", \"rb\") as a:\n",
    "    urls = pickle.load(a)\n",
    "    a.close()\n",
    "    \n",
    "a = input(\"请输入书籍链接\")\n",
    "while a != \"ok\":\n",
    "    urls.append(a)\n",
    "    a = input(\"请输入书籍链接\")\n",
    "\n",
    "with open(\"book.pk\", \"wb\") as f:\n",
    "    pickle.dump(urls, f)\n",
    "    f.close()\n"
   ]
  },
  {
   "cell_type": "code",
   "execution_count": null,
   "metadata": {},
   "outputs": [],
   "source": [
    "def get_info():\n",
    "    book = []\n",
    "    price = []\n",
    "    for url in urls:\n",
    "        time.sleep(0.5)\n",
    "        r = requests.get(url, headers = headers)\n",
    "        txt = BeautifulSoup(r.text, 'lxml')\n",
    "        pattern1 = re.findall(r'roductTitle\".*<',str(txt))\n",
    "        book_name = re.findall(r\">(.*)<\", str(pattern1))\n",
    "        print(\"获取《\" + book_name[0] + \"》完成\")\n",
    "        pattern2 = re.compile(r'\\\"a\\-color\\-base\\\".*￥\\d{1,4}\\.\\d{2}|\\\"a\\-color\\-base\\\".*\\—', flags=re.DOTALL)\n",
    "        result2 = (pattern2.findall(str(txt)))\n",
    "        today_price = str(re.findall(r\"\\d{1,4}\\.\\d{2}|\\—\", result2[0])[0])\n",
    "        if today_price == '—':\n",
    "            today_price = 0\n",
    "        print(\"价格为：\" + today_price)\n",
    "        if book_name in book == True:\n",
    "            price[price.index(book_name)][1] = float(today_price.strip())\n",
    "        else:\n",
    "            book.append(book_name[0])\n",
    "            price.append([book_name[0], float(today_price.strip())])\n",
    "    write_to_history(price)\n",
    "\n",
    "def write_to_history(price):\n",
    "    if (\"yesterday.pk\" in os.listdir()) == False:\n",
    "        with open(\"yesterday.pk\", \"wb\") as f:\n",
    "            pickle.dump(price, f)\n",
    "            f.close()\n",
    "        with open(\"yesterday.pk\", \"rb\") as a:\n",
    "            yesterday = pickle.load(a)\n",
    "            a.close()\n",
    "    else:       \n",
    "        with open(\"yesterday.pk\", \"rb\") as a:\n",
    "            yesterday = pickle.load(a)\n",
    "            a.close()\n",
    "    with open(\"yesterday.pk\", \"wb\") as f:\n",
    "        pickle.dump(price, f)\n",
    "        f.close()\n",
    "    compare_book(price, yesterday)\n",
    "\n",
    "def compare_book(today, yesterday):\n",
    "    compare = today\n",
    "    for i in range(len(today)):\n",
    "        compare[i][1] = today[i][1] - yesterday[i][1]\n",
    "        print(compare[i][0],\"价格差为\", compare[i][1])\n",
    "\n",
    "get_info()"
   ]
  },
  {
   "cell_type": "code",
   "execution_count": null,
   "metadata": {},
   "outputs": [],
   "source": []
  }
 ],
 "metadata": {
  "kernelspec": {
   "display_name": "Python 3",
   "language": "python",
   "name": "python3"
  },
  "language_info": {
   "codemirror_mode": {
    "name": "ipython",
    "version": 3
   },
   "file_extension": ".py",
   "mimetype": "text/x-python",
   "name": "python",
   "nbconvert_exporter": "python",
   "pygments_lexer": "ipython3",
   "version": "3.6.6"
  }
 },
 "nbformat": 4,
 "nbformat_minor": 2
}
