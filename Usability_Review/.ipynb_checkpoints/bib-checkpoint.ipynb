{
 "cells": [
  {
   "cell_type": "code",
   "execution_count": 2,
   "metadata": {},
   "outputs": [
    {
     "name": "stderr",
     "output_type": "stream",
     "text": [
      "To cite bibliometrix in publications, please use:\n",
      "\n",
      "Aria, M. & Cuccurullo, C. (2017) bibliometrix: An R-tool for comprehensive science mapping analysis, Journal of Informetrics, 11(4), pp 959-975, Elsevier.\n",
      "                        \n",
      "\n",
      "http:\\\\www.bibliometrix.org\n",
      "\n",
      "                        \n",
      "To start with the shiny web-interface, please digit:\n",
      "biblioshiny()\n",
      "\n",
      "\n"
     ]
    }
   ],
   "source": [
    "library(bibliometrix)"
   ]
  },
  {
   "cell_type": "markdown",
   "metadata": {},
   "source": [
    "文献数据在`bib_source`文件夹中，直接通过`biblioshiny()`下的加载功能读取即可"
   ]
  },
  {
   "cell_type": "code",
   "execution_count": 3,
   "metadata": {},
   "outputs": [
    {
     "name": "stderr",
     "output_type": "stream",
     "text": [
      "Loading required package: shiny\n",
      "\n",
      "\n",
      "Listening on http://127.0.0.1:7551\n",
      "\n"
     ]
    }
   ],
   "source": [
    "biblioshiny()"
   ]
  },
  {
   "cell_type": "code",
   "execution_count": 6,
   "metadata": {},
   "outputs": [
    {
     "data": {
      "text/plain": [
       "R version 3.6.2 (2019-12-12)\n",
       "Platform: x86_64-apple-darwin15.6.0 (64-bit)\n",
       "Running under: macOS Catalina 10.15.3\n",
       "\n",
       "Matrix products: default\n",
       "BLAS:   /Library/Frameworks/R.framework/Versions/3.6/Resources/lib/libRblas.0.dylib\n",
       "LAPACK: /Library/Frameworks/R.framework/Versions/3.6/Resources/lib/libRlapack.dylib\n",
       "\n",
       "locale:\n",
       "[1] zh_CN.UTF-8/zh_CN.UTF-8/zh_CN.UTF-8/C/zh_CN.UTF-8/zh_CN.UTF-8\n",
       "\n",
       "attached base packages:\n",
       "[1] stats     graphics  grDevices utils     datasets  methods   base     \n",
       "\n",
       "other attached packages:\n",
       " [1] Matrix_1.2-18       plotly_4.9.2        visNetwork_2.0.9   \n",
       " [4] maps_3.3.0          ggmap_3.0.0         treemap_2.4-2      \n",
       " [7] colourpicker_1.0    wordcloud2_0.2.1    shinythemes_1.1.2  \n",
       "[10] shinycssloaders_0.3 ggplot2_3.3.0       DT_0.12            \n",
       "[13] rio_0.5.16          shiny_1.4.0.2       bibliometrix_2.3.2 \n",
       "[16] repr_1.1.0         \n",
       "\n",
       "loaded via a namespace (and not attached):\n",
       " [1] bitops_1.0-6         RColorBrewer_1.1-2   httr_1.4.1          \n",
       " [4] SnowballC_0.6.0      tools_3.6.2          R6_2.4.1            \n",
       " [7] lazyeval_0.2.2       colorspace_1.4-1     sp_1.4-1            \n",
       "[10] withr_2.1.2          tidyselect_1.0.0     gridExtra_2.3       \n",
       "[13] curl_4.3             compiler_3.6.2       RISmed_2.1.7        \n",
       "[16] factoextra_1.0.6     flashClust_1.01-2    scales_1.1.0        \n",
       "[19] pbdZMQ_0.3-3         stringr_1.4.0        digest_0.6.25       \n",
       "[22] foreign_0.8-76       stringdist_0.9.5.5   jpeg_0.1-8.1        \n",
       "[25] base64enc_0.1-3      pkgconfig_2.0.3      htmltools_0.4.0     \n",
       "[28] fastmap_1.0.1        FactoMineR_2.3       htmlwidgets_1.5.1   \n",
       "[31] rlang_0.4.5          readxl_1.3.1         farver_2.0.3        \n",
       "[34] rscopus_0.6.6        jsonlite_1.6.1       crosstalk_1.1.0.1   \n",
       "[37] dplyr_0.8.5          zip_2.0.4            magrittr_1.5        \n",
       "[40] leaps_3.1            Rcpp_1.0.3           IRkernel_1.1        \n",
       "[43] munsell_0.5.0        viridis_0.5.1        lifecycle_0.2.0     \n",
       "[46] yaml_2.2.1           scatterplot3d_0.3-41 stringi_1.4.6       \n",
       "[49] ggraph_2.0.1         MASS_7.3-51.5        plyr_1.8.6          \n",
       "[52] grid_3.6.2           parallel_3.6.2       promises_1.1.0      \n",
       "[55] ggrepel_0.8.2        forcats_0.5.0        crayon_1.3.4        \n",
       "[58] miniUI_0.1.1.1       lattice_0.20-40      IRdisplay_0.7.0     \n",
       "[61] graphlayouts_0.6.0   haven_2.2.0          hms_0.5.3           \n",
       "[64] pillar_1.4.3         igraph_1.2.4.2       uuid_0.1-4          \n",
       "[67] rjson_0.2.20         reshape2_1.4.3       glue_1.3.2          \n",
       "[70] evaluate_0.14        data.table_1.12.8    png_0.1-7           \n",
       "[73] vctrs_0.2.4          tweenr_1.0.1         httpuv_1.5.2        \n",
       "[76] RgoogleMaps_1.4.5.3  networkD3_0.4        cellranger_1.1.0    \n",
       "[79] gtable_0.3.0         purrr_0.3.3          polyclip_1.10-0     \n",
       "[82] tidyr_1.0.2          assertthat_0.2.1     gridBase_0.4-7      \n",
       "[85] ggforce_0.3.1        openxlsx_4.1.4       mime_0.9            \n",
       "[88] xtable_1.8-4         tidygraph_1.1.2      later_1.0.0         \n",
       "[91] viridisLite_0.3.0    tibble_2.1.3         cluster_2.1.0       "
      ]
     },
     "metadata": {},
     "output_type": "display_data"
    }
   ],
   "source": [
    "sessionInfo()"
   ]
  },
  {
   "cell_type": "code",
   "execution_count": null,
   "metadata": {},
   "outputs": [],
   "source": []
  }
 ],
 "metadata": {
  "kernelspec": {
   "display_name": "R",
   "language": "R",
   "name": "ir"
  },
  "language_info": {
   "codemirror_mode": "r",
   "file_extension": ".r",
   "mimetype": "text/x-r-source",
   "name": "R",
   "pygments_lexer": "r",
   "version": "3.6.2"
  }
 },
 "nbformat": 4,
 "nbformat_minor": 4
}
