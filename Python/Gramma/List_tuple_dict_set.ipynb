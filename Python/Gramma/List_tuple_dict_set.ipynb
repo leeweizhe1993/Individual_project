{
 "cells": [
  {
   "cell_type": "markdown",
   "metadata": {},
   "source": [
    "## 深浅拷贝"
   ]
  },
  {
   "cell_type": "code",
   "execution_count": 23,
   "metadata": {},
   "outputs": [
    {
     "name": "stdout",
     "output_type": "stream",
     "text": [
      "[10, 1, 2, 3, 20] [10, 1, 2, 3, 20] [10, 1, 2, 3, 20]\n"
     ]
    },
    {
     "data": {
      "text/plain": [
       "([4434015872, 4434015584, 4434015616, 4434015648, 4434016192],\n",
       " [4434015872, 4434015584, 4434015616, 4434015648, 4434016192],\n",
       " [4434015872, 4434015584, 4434015616, 4434015648, 4434016192])"
      ]
     },
     "execution_count": 23,
     "metadata": {},
     "output_type": "execute_result"
    }
   ],
   "source": [
    "a = [x for x in range(5)]\n",
    "b = a\n",
    "c = a\n",
    "b[0] = 10\n",
    "c[-1] = 20\n",
    "print(a, b, c)\n",
    "[id(x) for x in a], [id(y) for y in b], [id(z) for z in c]"
   ]
  },
  {
   "cell_type": "code",
   "execution_count": 24,
   "metadata": {},
   "outputs": [
    {
     "name": "stdout",
     "output_type": "stream",
     "text": [
      "[0, 1, 2, 3, 4] [10, 1, 2, 3, 4] [0, 1, 2, 3, 20]\n"
     ]
    },
    {
     "data": {
      "text/plain": [
       "([4434015552, 4434015584, 4434015616, 4434015648, 4434015680],\n",
       " [4434015872, 4434015584, 4434015616, 4434015648, 4434015680],\n",
       " [4434015552, 4434015584, 4434015616, 4434015648, 4434016192])"
      ]
     },
     "execution_count": 24,
     "metadata": {},
     "output_type": "execute_result"
    }
   ],
   "source": [
    "a = [x for x in range(5)]\n",
    "b = a[:]\n",
    "c = a[:]\n",
    "b[0] = 10\n",
    "c[-1] = 20\n",
    "print(a, b, c)\n",
    "[id(x) for x in a], [id(y) for y in b], [id(z) for z in c]"
   ]
  },
  {
   "cell_type": "code",
   "execution_count": 26,
   "metadata": {},
   "outputs": [
    {
     "name": "stdout",
     "output_type": "stream",
     "text": [
      "[0, 1, 2, 3, 4] [10, 1, 2, 3, 4] [0, 1, 2, 3, 20]\n"
     ]
    },
    {
     "data": {
      "text/plain": [
       "([4434015552, 4434015584, 4434015616, 4434015648, 4434015680],\n",
       " [4434015872, 4434015584, 4434015616, 4434015648, 4434015680],\n",
       " [4434015552, 4434015584, 4434015616, 4434015648, 4434016192])"
      ]
     },
     "execution_count": 26,
     "metadata": {},
     "output_type": "execute_result"
    }
   ],
   "source": [
    "a = [x for x in range(5)]\n",
    "b = a.copy()\n",
    "c = b.copy()\n",
    "b[0] = 10\n",
    "c[-1] = 20\n",
    "print(a, b, c)\n",
    "[id(x) for x in a], [id(y) for y in b], [id(z) for z in c]"
   ]
  },
  {
   "cell_type": "code",
   "execution_count": 29,
   "metadata": {},
   "outputs": [
    {
     "name": "stdout",
     "output_type": "stream",
     "text": [
      "[0, 1, 2, 3, 4] [10, 1, 2, 3, 4] [0, 1, 2, 3, 20]\n"
     ]
    },
    {
     "data": {
      "text/plain": [
       "([4434015552, 4434015584, 4434015616, 4434015648, 4434015680],\n",
       " [4434015872, 4434015584, 4434015616, 4434015648, 4434015680],\n",
       " [4434015552, 4434015584, 4434015616, 4434015648, 4434016192])"
      ]
     },
     "execution_count": 29,
     "metadata": {},
     "output_type": "execute_result"
    }
   ],
   "source": [
    "from copy import deepcopy\n",
    "a = [x for x in range(5)]\n",
    "b = deepcopy(a)\n",
    "c = deepcopy(a)\n",
    "b[0] = 10\n",
    "c[-1] = 20\n",
    "print(a, b, c)\n",
    "[id(x) for x in a], [id(y) for y in b], [id(z) for z in c]"
   ]
  },
  {
   "cell_type": "markdown",
   "metadata": {},
   "source": [
    "#### 获取最大最小值index"
   ]
  },
  {
   "cell_type": "code",
   "execution_count": 66,
   "metadata": {},
   "outputs": [
    {
     "data": {
      "text/plain": [
       "(4, 1)"
      ]
     },
     "execution_count": 66,
     "metadata": {},
     "output_type": "execute_result"
    }
   ],
   "source": [
    "lst = [1, 40, 20, 30, -1]\n",
    "lst.index(sorted(lst)[0]), lst.index(sorted(lst)[-1])"
   ]
  },
  {
   "cell_type": "markdown",
   "metadata": {},
   "source": [
    "## 字典get"
   ]
  },
  {
   "cell_type": "code",
   "execution_count": 39,
   "metadata": {},
   "outputs": [
    {
     "data": {
      "text/plain": [
       "(3, {'a': 1, 'b': 2})"
      ]
     },
     "execution_count": 39,
     "metadata": {},
     "output_type": "execute_result"
    }
   ],
   "source": [
    "d = {'a' : 1, 'b' : 2}\n",
    "d.get('c', 3), d"
   ]
  },
  {
   "cell_type": "markdown",
   "metadata": {},
   "source": [
    "#### 字典排序"
   ]
  },
  {
   "cell_type": "code",
   "execution_count": 48,
   "metadata": {},
   "outputs": [
    {
     "name": "stdout",
     "output_type": "stream",
     "text": [
      "[('tomato', 1), ('banana', 5), ('apple', 10), ('orange', 20)]\n",
      "[('tomato', 1), ('banana', 5), ('apple', 10), ('orange', 20)]\n",
      "['tomato', 'banana', 'apple', 'orange']\n"
     ]
    }
   ],
   "source": [
    "d = {'apple' : 10, 'orange' : 20, 'banana' : 5, 'tomato' : 1}\n",
    "print(sorted(d.items(), key = lambda x: x[1]))\n",
    "\n",
    "from operator import itemgetter\n",
    "print(sorted(d.items(), key = itemgetter(1)))\n",
    "\n",
    "print(sorted(d, key = d.get))"
   ]
  },
  {
   "cell_type": "markdown",
   "metadata": {},
   "source": [
    "#### 字典合并"
   ]
  },
  {
   "cell_type": "code",
   "execution_count": 61,
   "metadata": {},
   "outputs": [
    {
     "data": {
      "text/plain": [
       "({'a': 1, 'b': 3, 'c': 4}, {'b': 3, 'a': 1, 'c': 4})"
      ]
     },
     "execution_count": 61,
     "metadata": {},
     "output_type": "execute_result"
    }
   ],
   "source": [
    "d1, d2 = {'a': 1, 'b': 2}, {'b': 3, 'c': 4}\n",
    "{**d1, **d2}, dict(d1.items() | d2.items())"
   ]
  },
  {
   "cell_type": "code",
   "execution_count": 62,
   "metadata": {},
   "outputs": [
    {
     "data": {
      "text/plain": [
       "{'a': 1, 'b': 3, 'c': 4}"
      ]
     },
     "execution_count": 62,
     "metadata": {},
     "output_type": "execute_result"
    }
   ],
   "source": [
    "d1.update(d2)\n",
    "d1"
   ]
  },
  {
   "cell_type": "markdown",
   "metadata": {},
   "source": [
    "# Tuple"
   ]
  },
  {
   "cell_type": "code",
   "execution_count": 3,
   "metadata": {},
   "outputs": [
    {
     "data": {
      "text/plain": [
       "tuple"
      ]
     },
     "execution_count": 3,
     "metadata": {},
     "output_type": "execute_result"
    }
   ],
   "source": [
    "data = 2, 4, 6, 8, 8\n",
    "type(data)"
   ]
  },
  {
   "cell_type": "code",
   "execution_count": null,
   "metadata": {},
   "outputs": [],
   "source": []
  }
 ],
 "metadata": {
  "kernelspec": {
   "display_name": "Python 3",
   "language": "python",
   "name": "python3"
  },
  "language_info": {
   "codemirror_mode": {
    "name": "ipython",
    "version": 3
   },
   "file_extension": ".py",
   "mimetype": "text/x-python",
   "name": "python",
   "nbconvert_exporter": "python",
   "pygments_lexer": "ipython3",
   "version": "3.7.0"
  }
 },
 "nbformat": 4,
 "nbformat_minor": 2
}
