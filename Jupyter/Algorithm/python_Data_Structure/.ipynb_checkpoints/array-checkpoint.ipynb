{
 "cells": [
  {
   "cell_type": "code",
   "execution_count": 1,
   "metadata": {},
   "outputs": [],
   "source": [
    "from array import array\n",
    "import IPython.core.display as di"
   ]
  },
  {
   "cell_type": "markdown",
   "metadata": {},
   "source": [
    "#### python中array只能存同一类型数据(数值、字符)，推荐np.array"
   ]
  },
  {
   "cell_type": "code",
   "execution_count": 6,
   "metadata": {},
   "outputs": [
    {
     "data": {
      "text/plain": [
       "('a', 's', 'd', 'f')"
      ]
     },
     "execution_count": 6,
     "metadata": {},
     "output_type": "execute_result"
    }
   ],
   "source": [
    "arr = array('u', 'asdf')\n",
    "arr[0], arr[1], arr[2], arr[3]"
   ]
  },
  {
   "cell_type": "code",
   "execution_count": 7,
   "metadata": {},
   "outputs": [
    {
     "data": {
      "text/plain": [
       "[None, None, None, None, None]"
      ]
     },
     "execution_count": 7,
     "metadata": {},
     "output_type": "execute_result"
    }
   ],
   "source": [
    "[None] * 5"
   ]
  },
  {
   "cell_type": "code",
   "execution_count": 5,
   "metadata": {},
   "outputs": [],
   "source": [
    "import base64"
   ]
  },
  {
   "cell_type": "code",
   "execution_count": 6,
   "metadata": {},
   "outputs": [
    {
     "name": "stdout",
     "output_type": "stream",
     "text": [
      "b'shatian@malong.com'\n"
     ]
    }
   ],
   "source": [
    "print(base64.b64decode('c2hhdGlhbkBtYWxvbmcuY29t'))"
   ]
  },
  {
   "cell_type": "markdown",
   "metadata": {},
   "source": [
    "## 链表与数组的区别：\n",
    "#### 1.同时读取时链表效率高；随机读取时数组(下标)效率高\n",
    "#### 2.中间插入元素链表更好；数组则需要考虑空间限制"
   ]
  },
  {
   "cell_type": "markdown",
   "metadata": {},
   "source": [
    "![title](pic/array_list_com.png)"
   ]
  },
  {
   "cell_type": "markdown",
   "metadata": {},
   "source": [
    "## 实现定长array"
   ]
  },
  {
   "cell_type": "code",
   "execution_count": 9,
   "metadata": {},
   "outputs": [],
   "source": [
    "'''array是'''\n",
    "class Array(object):\n",
    "    \n",
    "    def __init__(self, size = 32):\n",
    "        self._size = size\n",
    "        self._items = [None] * size\n",
    "        \n",
    "    def __getitem__(self, index):    #返回序号\n",
    "        return self._items[index]\n",
    "    \n",
    "    def __setitem__(self, index, value):\n",
    "        self._items[index] = value\n",
    "        \n",
    "    def __len__(self):\n",
    "        return self._size\n",
    "    \n",
    "    def clear(self, value = None):\n",
    "        for i in range(len(sef.items)):\n",
    "            self._items[i] = value\n",
    "            \n",
    "    def __iter__(self):\n",
    "        for item in self._items:\n",
    "            yield item\n",
    "            \n",
    "def test_array():\n",
    "    size = 10\n",
    "    a = Array(size)\n",
    "    \n",
    "    a[0] = 1\n",
    "    assert a[0] == 1\n",
    "    assert len(a) == 10\n",
    "    \n",
    "test_array()"
   ]
  },
  {
   "cell_type": "markdown",
   "metadata": {},
   "source": [
    "## 单向链表"
   ]
  },
  {
   "cell_type": "markdown",
   "metadata": {},
   "source": [
    "![title](pic/linked_list.png)"
   ]
  },
  {
   "cell_type": "code",
   "execution_count": 18,
   "metadata": {},
   "outputs": [
    {
     "name": "stdout",
     "output_type": "stream",
     "text": [
      "[3, 4, 5, 6]\n"
     ]
    }
   ],
   "source": [
    "class Node(object):    #定义node\n",
    "    \n",
    "    def __init__(self, value = None, nxt = None):    #值与指针\n",
    "        self.value, self.next = value, nxt\n",
    "    \n",
    "    def __str__(self):\n",
    "        \"\"\"方便你打出来调试，复杂的代码可能需要断点调试\"\"\"\n",
    "        return '<Node: value: {}, next={}>'.format(self.value, self.next)\n",
    "\n",
    "    __repr__ = __str__\n",
    "        \n",
    "class LinkedList(object):\n",
    "    \n",
    "    def __init__(self, maxsize = None):\n",
    "        \"\"\"\n",
    "        :param maxsize: int or None, 如果是 None，无限扩充\n",
    "        \"\"\"\n",
    "        self.maxsize = maxsize\n",
    "        self.root = Node()    #根节点默认指向None\n",
    "        self.tailnode = None\n",
    "        self.length = 0\n",
    "    \n",
    "    def __len__(self):\n",
    "        return self.length\n",
    "    \n",
    "    def append(self, value):\n",
    "        if self.maxsize is not None and len(self) >= self.maxsize:\n",
    "            raise Exception(\"LinkedList is Full\")\n",
    "        node = Node(value)\n",
    "        tailnode = self.tailnode\n",
    "        if tailnode is None:         #为空则此时只有root节点\n",
    "            self.root.next = node    #将根节点指向当前节点\n",
    "        else:                        #否则追加到最后一个节点的后边\n",
    "            tailnode.next = node     #更新最后一个节点为append的节点\n",
    "        self.tailnode = node         #第一次赋值后tailnode由 None 变为 Node对象'''\n",
    "        self.length += 1\n",
    "        \n",
    "    def appendleft(self, value):\n",
    "        if self.maxsize is not None and len(self) >= self.maxsize:\n",
    "            raise Exception(\"LinkedList is Full\")\n",
    "        node = Node(value)\n",
    "        if self.tailnode is None:         #为空则此时只有root节点\n",
    "            self.tailnode = node \n",
    "\n",
    "        node.next = self.root.next\n",
    "        self.root.next = node\n",
    "        self.length += 1\n",
    "    \n",
    "    def __iter__(self):\n",
    "        for node in self.iter_node():\n",
    "            yield node.value\n",
    "\n",
    "    def iter_node(self):\n",
    "        \"\"\"遍历 从 head 节点到 tail 节点\"\"\"\n",
    "        curnode = self.root.next\n",
    "        while curnode is not self.tailnode:    # 从第一个节点开始遍历\n",
    "            yield curnode\n",
    "            curnode = curnode.next    # 移动到下一个节点\n",
    "        if curnode is not None:\n",
    "            yield curnode\n",
    "\n",
    "    def remove(self, value): #O(N)\n",
    "        prenode = self.root\n",
    "        for curnode in self.iter_node():\n",
    "            if curnode.value == value:\n",
    "                prenode.next = curnode.next\n",
    "                if curnode is self.tailnode:\n",
    "                    self.tailnode = prenode    #更新tailnode\n",
    "                del curnode\n",
    "                self.length -= 1\n",
    "                return 1\n",
    "            else:\n",
    "                prenode = curnode    #更新prenode\n",
    "        return -1    #删除失败\n",
    "    \n",
    "    def find(self, value):    #O(N)\n",
    "        index = 0\n",
    "        for node in self.iter_node():\n",
    "            if node.value == value:\n",
    "                return index\n",
    "            else:\n",
    "                index += 1\n",
    "        return -1    #未找到\n",
    "    \n",
    "    def popleft(self):\n",
    "        if self.root.next is None:\n",
    "            raise Exception(\"pop from empty LinkedList\")\n",
    "        headnode = self.root.next\n",
    "        self.root.next = headnode.next\n",
    "        self.length -= 1\n",
    "        value = headnode.value\n",
    "\n",
    "        if self.tailnode is headnode:   # 勘误：增加单节点删除 tailnode 处理\n",
    "            self.tailnode = None\n",
    "        del headnode\n",
    "        return value\n",
    "    \n",
    "    def clear(self):\n",
    "        for node in self.iter_node():\n",
    "            del node\n",
    "        self.root.next = None\n",
    "        self.length = 0\n",
    "        self.tailnode = None\n",
    "\n",
    "def test_linked_list():\n",
    "    ll = LinkedList()\n",
    "\n",
    "    ll.append(0)\n",
    "    ll.append(1)\n",
    "    ll.append(2)\n",
    "    ll.append(3)\n",
    "\n",
    "    assert len(ll) == 4\n",
    "    assert ll.find(2) == 2\n",
    "    assert ll.find(-1) == -1\n",
    "\n",
    "    assert ll.remove(0) == 1\n",
    "    assert ll.remove(10) == -1\n",
    "    assert ll.remove(2) == 1\n",
    "    assert len(ll) == 2\n",
    "    assert list(ll) == [1, 3]\n",
    "    assert ll.find(0) == -1\n",
    "\n",
    "    ll.appendleft(0)\n",
    "    assert list(ll) == [0, 1, 3]\n",
    "    assert len(ll) == 3\n",
    "\n",
    "    headvalue = ll.popleft()\n",
    "    assert headvalue == 0\n",
    "    assert len(ll) == 2\n",
    "    assert list(ll) == [1, 3]\n",
    "\n",
    "    assert ll.popleft() == 1\n",
    "    assert list(ll) == [3]\n",
    "    ll.popleft()\n",
    "    assert len(ll) == 0\n",
    "    assert ll.tailnode is None\n",
    "\n",
    "    ll.clear()\n",
    "    assert len(ll) == 0\n",
    "    assert list(ll) == []\n",
    "\n",
    "\n",
    "def test_linked_list():\n",
    "    ll = LinkedList()\n",
    "    ll.append(0)\n",
    "    ll.append(1)\n",
    "    ll.append(2)\n",
    "    ll.append(3)\n",
    "    \n",
    "    assert len(ll) == 4\n",
    "    assert ll.find(2) == 2\n",
    "    assert ll.find(-1) == -1\n",
    "    \n",
    "    assert ll.remove(0) == 1\n",
    "    assert ll.remove(10) == -1\n",
    "    assert ll.remove(2) == 1\n",
    "    assert len(ll) == 2\n",
    "    assert list(ll) == [1, 3]\n",
    "    assert ll.find(0) == -1\n",
    "    \n",
    "    ll.appendleft(0)\n",
    "    assert list(ll) == [0, 1, 3]\n",
    "    assert len(ll) == 3\n",
    "\n",
    "    headvalue = ll.popleft()\n",
    "    assert headvalue == 0\n",
    "    assert len(ll) == 2\n",
    "    assert list(ll) == [1, 3]\n",
    "\n",
    "    assert ll.popleft() == 1\n",
    "    assert list(ll) == [3]\n",
    "    ll.popleft()\n",
    "    assert len(ll) == 0\n",
    "    assert ll.tailnode is None\n",
    "\n",
    "    ll.clear()\n",
    "    assert len(ll) == 0\n",
    "    assert list(ll) == []\n",
    "\n",
    "\n",
    "def test_linked_list_remove():\n",
    "    ll = LinkedList()\n",
    "    ll.append(3)\n",
    "    ll.append(4)\n",
    "    ll.append(5)\n",
    "    ll.append(6)\n",
    "    ll.append(7)\n",
    "    ll.remove(7)\n",
    "    print(list(ll))\n",
    "\n",
    "def test_linked_list_append():\n",
    "    ll = LinkedList()\n",
    "    ll.appendleft(1)\n",
    "    ll.append(2)\n",
    "    assert list(ll) == [1, 2]\n",
    "\n",
    "\n",
    "if __name__ == '__main__':\n",
    "    test_linked_list()\n",
    "    test_linked_list_remove()\n",
    "    test_linked_list_append()"
   ]
  },
  {
   "cell_type": "code",
   "execution_count": 19,
   "metadata": {},
   "outputs": [
    {
     "data": {
      "text/plain": [
       "[0, 0, 1, 2]"
      ]
     },
     "execution_count": 19,
     "metadata": {},
     "output_type": "execute_result"
    }
   ],
   "source": [
    "ll = LinkedList()\n",
    "    \n",
    "ll.append(0)\n",
    "ll.append(1)\n",
    "ll.append(2)\n",
    "\n",
    "ll.appendleft(0)\n",
    "list(ll)"
   ]
  },
  {
   "cell_type": "markdown",
   "metadata": {},
   "source": [
    "## 循环双端链表"
   ]
  },
  {
   "cell_type": "markdown",
   "metadata": {},
   "source": [
    "![title](pic/circular_double_linked_list.png)"
   ]
  },
  {
   "cell_type": "code",
   "execution_count": null,
   "metadata": {},
   "outputs": [],
   "source": [
    "class Node(object):\n",
    "    def __init__(self, value = None, pre = None, nxt = None):\n",
    "        self.value, self.pre, self.next = value, pre, nxt\n",
    "        \n",
    "class CircularDoubleLinkedList(object):\n",
    "    \"\"\"循环双端链表 ADT\n",
    "    多了个循环其实就是把 root 的 pre 指向 tail 节点，串起来\n",
    "    \"\"\"\n",
    "    def __init__(self, maxsize = None):\n",
    "        self.maxsize = maxsize\n",
    "        node = Node()\n",
    "        node.next, node.pre = node, node    #初始化指向自己实现闭环\n",
    "        self.root = node\n",
    "        self.length = 0\n",
    "    \n",
    "    def __len__(self):\n",
    "        return self.length\n",
    "    \n",
    "    def headnode(self):\n",
    "        return self.root.next\n",
    "    \n",
    "    def tailnode(self):\n",
    "        return self.root.pre\n",
    "    \n",
    "    def append(self, value):\n",
    "        if self.maxsize is not None and len(self) >= self.maxsize:\n",
    "            raise Exception(\"LinkedList is Full\")\n",
    "        node = Node(value = value)\n",
    "        '''此处为tailnode()函数，首次迭代tailnode为root节点'''\n",
    "        tailnode = self.tailnode() or self.root\n",
    "        \n",
    "        tailnode.next = node    #原来最后一个节点指向当前节点\n",
    "        node.pre = tailnode\n",
    "        node.next = self.root   #当前节点下一节点为原来节点\n",
    "        self.root.pre = node\n",
    "        self.length += 1\n",
    "        \n",
    "    def appendleft(self, value):\n",
    "        if self.maxsize is not None and len(self) >= self.maxsize:\n",
    "            raise Exception(\"LinkedList is Full\")\n",
    "        node = Node(value = value)\n",
    "        if self.root.next is self.root:    #empty\n",
    "            node.next = self.root\n",
    "            node.pre = self.root\n",
    "            self.root.next = node\n",
    "            self.root.pre = node\n",
    "        else:\n",
    "            node.pre = self.root        #前一节点指向root\n",
    "            headnode = self.root.next\n",
    "            node.next = headnode        #下一节点指向headnode\n",
    "            headnode.pre = node\n",
    "            self.root.next = node\n",
    "        self.length += 1\n",
    "        \n",
    "    def remove(self, node):    # O(1)，传入node而不是value就能实现 O(1) 删除\n",
    "        if node is self.root:\n",
    "            return\n",
    "        else:\n",
    "            node.pre.next = node.next\n",
    "            node.next.pre = node.pre\n",
    "        self.length -= 1\n",
    "        return node\n",
    "    \n",
    "    def iter_node(self):\n",
    "        if self.root.next is self.root:\n",
    "            return\n",
    "        curnode = self.root.next\n",
    "        while curnode.next is not self.root:\n",
    "            yield curnode\n",
    "            curnode = curnode.next\n",
    "        yield curnode\n",
    "    \n",
    "    def __iter__(self):\n",
    "        for node in self.iter_node():    #对自身对象迭代\n",
    "            yield node.value\n",
    "            \n",
    "    def iter_node_reverse(self):\n",
    "        if self.root.pre is self.root:\n",
    "            return\n",
    "        curnode = self.root.pre\n",
    "        while curnode.pre is not self.root:\n",
    "            yield curnode\n",
    "            cuenode = curnode.pre\n",
    "        yield curnode\n",
    "        \n",
    "def test_double_link_list():\n",
    "    dll = CircularDoubleLinkedList()\n",
    "    assert len(dll) = 0\n",
    "    \n",
    "    dll.append(0)\n",
    "    dll.append(1)\n",
    "    dll.append(2)\n",
    "    \n",
    "    assert list(dll) == [0, 1, 2]\n",
    "    \n",
    "    assert [node.value for node in dll.iter_node()] == [0, 1, 2]\n",
    "    assert [node.value for node in dll.iter_node_reverse()] == [2, 1, 0]\n",
    "    \n",
    "    headnode = dll.headnode()\n",
    "    assert headnode == 0\n",
    "    dll.remove(headnode)    #移除headnode节点\n",
    "    assert len(dll) == 2\n",
    "    assert [node.value for node in dll.oter_node()] == [1, 2]\n",
    "    \n",
    "    dll.appendleft(0)\n",
    "    assert [node.value for node in dll.iter_node()] = [0, 1, 2]\n",
    "    \n",
    "\n",
    "\n",
    "if __name__ == '__main__':\n",
    "    test_double_link_list()\n"
   ]
  },
  {
   "cell_type": "code",
   "execution_count": null,
   "metadata": {},
   "outputs": [],
   "source": []
  }
 ],
 "metadata": {
  "kernelspec": {
   "display_name": "Python 3",
   "language": "python",
   "name": "python3"
  },
  "language_info": {
   "codemirror_mode": {
    "name": "ipython",
    "version": 3
   },
   "file_extension": ".py",
   "mimetype": "text/x-python",
   "name": "python",
   "nbconvert_exporter": "python",
   "pygments_lexer": "ipython3",
   "version": "3.6.6"
  }
 },
 "nbformat": 4,
 "nbformat_minor": 2
}
