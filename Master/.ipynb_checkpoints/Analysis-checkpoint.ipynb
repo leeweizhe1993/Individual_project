{
 "cells": [
  {
   "cell_type": "markdown",
   "metadata": {
    "toc-hr-collapsed": true
   },
   "source": [
    "# Questionnaire"
   ]
  },
  {
   "cell_type": "code",
   "execution_count": 20,
   "metadata": {},
   "outputs": [],
   "source": [
    "library(psych)"
   ]
  },
  {
   "cell_type": "markdown",
   "metadata": {},
   "source": [
    "## SUS"
   ]
  },
  {
   "cell_type": "code",
   "execution_count": 15,
   "metadata": {},
   "outputs": [],
   "source": [
    "eye_scale = read.csv('questionnaire.csv')"
   ]
  },
  {
   "cell_type": "code",
   "execution_count": 16,
   "metadata": {},
   "outputs": [
    {
     "data": {
      "text/html": [
       "<table>\n",
       "<thead><tr><th scope=col>I.think.that.I.would.like.to.use.the.system.frequently</th><th scope=col>I.found.the.system.to.be.simple</th><th scope=col>I.thought.the.system.was.easy.to.use</th><th scope=col>I.think.that.I.could.use.the.system.without.the.support.of.a.technical.person</th><th scope=col>I.found.the.various.functions.in.the.system.were.well.integrated</th><th scope=col>I.thought.there.was.a.lot.of.consistency.in.the.system</th><th scope=col>I.would.imagine.that.most.people.would.learn.to.use.the.system.very.quickly</th><th scope=col>I.found.the.system.very.intuitive</th><th scope=col>I.felt.very.confident.using.the.system</th><th scope=col>I.could.use.the.system.without.having.to.learn.anything.new</th></tr></thead>\n",
       "<tbody>\n",
       "\t<tr><td>2</td><td>4</td><td>3</td><td>3</td><td>1</td><td>4</td><td>4</td><td>4</td><td>3</td><td>4</td></tr>\n",
       "\t<tr><td>4</td><td>4</td><td>4</td><td>3</td><td>4</td><td>3</td><td>4</td><td>3</td><td>4</td><td>3</td></tr>\n",
       "\t<tr><td>5</td><td>4</td><td>5</td><td>3</td><td>4</td><td>3</td><td>5</td><td>5</td><td>4</td><td>5</td></tr>\n",
       "\t<tr><td>4</td><td>5</td><td>4</td><td>4</td><td>4</td><td>4</td><td>5</td><td>5</td><td>5</td><td>5</td></tr>\n",
       "\t<tr><td>3</td><td>3</td><td>4</td><td>4</td><td>2</td><td>3</td><td>4</td><td>3</td><td>4</td><td>4</td></tr>\n",
       "\t<tr><td>4</td><td>4</td><td>3</td><td>4</td><td>4</td><td>4</td><td>4</td><td>4</td><td>4</td><td>4</td></tr>\n",
       "\t<tr><td>4</td><td>4</td><td>5</td><td>5</td><td>4</td><td>4</td><td>5</td><td>4</td><td>4</td><td>3</td></tr>\n",
       "\t<tr><td>4</td><td>5</td><td>4</td><td>4</td><td>3</td><td>3</td><td>5</td><td>4</td><td>4</td><td>5</td></tr>\n",
       "\t<tr><td>3</td><td>3</td><td>4</td><td>4</td><td>3</td><td>2</td><td>5</td><td>5</td><td>4</td><td>5</td></tr>\n",
       "\t<tr><td>3</td><td>5</td><td>4</td><td>4</td><td>3</td><td>4</td><td>4</td><td>4</td><td>5</td><td>4</td></tr>\n",
       "</tbody>\n",
       "</table>\n"
      ],
      "text/latex": [
       "\\begin{tabular}{r|llllllllll}\n",
       " I.think.that.I.would.like.to.use.the.system.frequently & I.found.the.system.to.be.simple & I.thought.the.system.was.easy.to.use & I.think.that.I.could.use.the.system.without.the.support.of.a.technical.person & I.found.the.various.functions.in.the.system.were.well.integrated & I.thought.there.was.a.lot.of.consistency.in.the.system & I.would.imagine.that.most.people.would.learn.to.use.the.system.very.quickly & I.found.the.system.very.intuitive & I.felt.very.confident.using.the.system & I.could.use.the.system.without.having.to.learn.anything.new\\\\\n",
       "\\hline\n",
       "\t 2 & 4 & 3 & 3 & 1 & 4 & 4 & 4 & 3 & 4\\\\\n",
       "\t 4 & 4 & 4 & 3 & 4 & 3 & 4 & 3 & 4 & 3\\\\\n",
       "\t 5 & 4 & 5 & 3 & 4 & 3 & 5 & 5 & 4 & 5\\\\\n",
       "\t 4 & 5 & 4 & 4 & 4 & 4 & 5 & 5 & 5 & 5\\\\\n",
       "\t 3 & 3 & 4 & 4 & 2 & 3 & 4 & 3 & 4 & 4\\\\\n",
       "\t 4 & 4 & 3 & 4 & 4 & 4 & 4 & 4 & 4 & 4\\\\\n",
       "\t 4 & 4 & 5 & 5 & 4 & 4 & 5 & 4 & 4 & 3\\\\\n",
       "\t 4 & 5 & 4 & 4 & 3 & 3 & 5 & 4 & 4 & 5\\\\\n",
       "\t 3 & 3 & 4 & 4 & 3 & 2 & 5 & 5 & 4 & 5\\\\\n",
       "\t 3 & 5 & 4 & 4 & 3 & 4 & 4 & 4 & 5 & 4\\\\\n",
       "\\end{tabular}\n"
      ],
      "text/markdown": [
       "\n",
       "I.think.that.I.would.like.to.use.the.system.frequently | I.found.the.system.to.be.simple | I.thought.the.system.was.easy.to.use | I.think.that.I.could.use.the.system.without.the.support.of.a.technical.person | I.found.the.various.functions.in.the.system.were.well.integrated | I.thought.there.was.a.lot.of.consistency.in.the.system | I.would.imagine.that.most.people.would.learn.to.use.the.system.very.quickly | I.found.the.system.very.intuitive | I.felt.very.confident.using.the.system | I.could.use.the.system.without.having.to.learn.anything.new | \n",
       "|---|---|---|---|---|---|---|---|---|---|\n",
       "| 2 | 4 | 3 | 3 | 1 | 4 | 4 | 4 | 3 | 4 | \n",
       "| 4 | 4 | 4 | 3 | 4 | 3 | 4 | 3 | 4 | 3 | \n",
       "| 5 | 4 | 5 | 3 | 4 | 3 | 5 | 5 | 4 | 5 | \n",
       "| 4 | 5 | 4 | 4 | 4 | 4 | 5 | 5 | 5 | 5 | \n",
       "| 3 | 3 | 4 | 4 | 2 | 3 | 4 | 3 | 4 | 4 | \n",
       "| 4 | 4 | 3 | 4 | 4 | 4 | 4 | 4 | 4 | 4 | \n",
       "| 4 | 4 | 5 | 5 | 4 | 4 | 5 | 4 | 4 | 3 | \n",
       "| 4 | 5 | 4 | 4 | 3 | 3 | 5 | 4 | 4 | 5 | \n",
       "| 3 | 3 | 4 | 4 | 3 | 2 | 5 | 5 | 4 | 5 | \n",
       "| 3 | 5 | 4 | 4 | 3 | 4 | 4 | 4 | 5 | 4 | \n",
       "\n",
       "\n"
      ],
      "text/plain": [
       "   I.think.that.I.would.like.to.use.the.system.frequently\n",
       "1  2                                                     \n",
       "2  4                                                     \n",
       "3  5                                                     \n",
       "4  4                                                     \n",
       "5  3                                                     \n",
       "6  4                                                     \n",
       "7  4                                                     \n",
       "8  4                                                     \n",
       "9  3                                                     \n",
       "10 3                                                     \n",
       "   I.found.the.system.to.be.simple I.thought.the.system.was.easy.to.use\n",
       "1  4                               3                                   \n",
       "2  4                               4                                   \n",
       "3  4                               5                                   \n",
       "4  5                               4                                   \n",
       "5  3                               4                                   \n",
       "6  4                               3                                   \n",
       "7  4                               5                                   \n",
       "8  5                               4                                   \n",
       "9  3                               4                                   \n",
       "10 5                               4                                   \n",
       "   I.think.that.I.could.use.the.system.without.the.support.of.a.technical.person\n",
       "1  3                                                                            \n",
       "2  3                                                                            \n",
       "3  3                                                                            \n",
       "4  4                                                                            \n",
       "5  4                                                                            \n",
       "6  4                                                                            \n",
       "7  5                                                                            \n",
       "8  4                                                                            \n",
       "9  4                                                                            \n",
       "10 4                                                                            \n",
       "   I.found.the.various.functions.in.the.system.were.well.integrated\n",
       "1  1                                                               \n",
       "2  4                                                               \n",
       "3  4                                                               \n",
       "4  4                                                               \n",
       "5  2                                                               \n",
       "6  4                                                               \n",
       "7  4                                                               \n",
       "8  3                                                               \n",
       "9  3                                                               \n",
       "10 3                                                               \n",
       "   I.thought.there.was.a.lot.of.consistency.in.the.system\n",
       "1  4                                                     \n",
       "2  3                                                     \n",
       "3  3                                                     \n",
       "4  4                                                     \n",
       "5  3                                                     \n",
       "6  4                                                     \n",
       "7  4                                                     \n",
       "8  3                                                     \n",
       "9  2                                                     \n",
       "10 4                                                     \n",
       "   I.would.imagine.that.most.people.would.learn.to.use.the.system.very.quickly\n",
       "1  4                                                                          \n",
       "2  4                                                                          \n",
       "3  5                                                                          \n",
       "4  5                                                                          \n",
       "5  4                                                                          \n",
       "6  4                                                                          \n",
       "7  5                                                                          \n",
       "8  5                                                                          \n",
       "9  5                                                                          \n",
       "10 4                                                                          \n",
       "   I.found.the.system.very.intuitive I.felt.very.confident.using.the.system\n",
       "1  4                                 3                                     \n",
       "2  3                                 4                                     \n",
       "3  5                                 4                                     \n",
       "4  5                                 5                                     \n",
       "5  3                                 4                                     \n",
       "6  4                                 4                                     \n",
       "7  4                                 4                                     \n",
       "8  4                                 4                                     \n",
       "9  5                                 4                                     \n",
       "10 4                                 5                                     \n",
       "   I.could.use.the.system.without.having.to.learn.anything.new\n",
       "1  4                                                          \n",
       "2  3                                                          \n",
       "3  5                                                          \n",
       "4  5                                                          \n",
       "5  4                                                          \n",
       "6  4                                                          \n",
       "7  3                                                          \n",
       "8  5                                                          \n",
       "9  5                                                          \n",
       "10 4                                                          "
      ]
     },
     "metadata": {},
     "output_type": "display_data"
    }
   ],
   "source": [
    "eye_scale"
   ]
  },
  {
   "cell_type": "code",
   "execution_count": 17,
   "metadata": {},
   "outputs": [
    {
     "data": {
      "text/plain": [
       "\n",
       "\tOne Sample t-test\n",
       "\n",
       "data:  sus_list\n",
       "t = 23.087, df = 9, p-value = 2.551e-09\n",
       "alternative hypothesis: true mean is not equal to 0\n",
       "95 percent confidence interval:\n",
       " 65.39628 79.60372\n",
       "sample estimates:\n",
       "mean of x \n",
       "     72.5 \n"
      ]
     },
     "metadata": {},
     "output_type": "display_data"
    }
   ],
   "source": [
    "sus_list = c()\n",
    "\n",
    "for (i in eye_scale[1:10,1:10]){\n",
    "    sus_list[length(sus_list) + 1] = ((sum(i) - 10) * 2.5)\n",
    "}\n",
    "\n",
    "t.test(sus_list)"
   ]
  },
  {
   "cell_type": "markdown",
   "metadata": {},
   "source": [
    "## Cronbach's alpha"
   ]
  },
  {
   "cell_type": "code",
   "execution_count": 22,
   "metadata": {},
   "outputs": [
    {
     "data": {
      "text/html": [
       "<table>\n",
       "<thead><tr><th scope=col>I.think.that.I.would.like.to.use.the.system.frequently</th><th scope=col>I.found.the.system.to.be.simple</th><th scope=col>I.thought.the.system.was.easy.to.use</th><th scope=col>I.think.that.I.could.use.the.system.without.the.support.of.a.technical.person</th><th scope=col>I.found.the.various.functions.in.the.system.were.well.integrated</th><th scope=col>I.thought.there.was.a.lot.of.consistency.in.the.system</th><th scope=col>I.would.imagine.that.most.people.would.learn.to.use.the.system.very.quickly</th><th scope=col>I.found.the.system.very.intuitive</th><th scope=col>I.felt.very.confident.using.the.system</th><th scope=col>I.could.use.the.system.without.having.to.learn.anything.new</th></tr></thead>\n",
       "<tbody>\n",
       "\t<tr><td>2</td><td>4</td><td>3</td><td>3</td><td>1</td><td>4</td><td>4</td><td>4</td><td>3</td><td>4</td></tr>\n",
       "\t<tr><td>4</td><td>4</td><td>4</td><td>3</td><td>4</td><td>3</td><td>4</td><td>3</td><td>4</td><td>3</td></tr>\n",
       "\t<tr><td>5</td><td>4</td><td>5</td><td>3</td><td>4</td><td>3</td><td>5</td><td>5</td><td>4</td><td>5</td></tr>\n",
       "\t<tr><td>4</td><td>5</td><td>4</td><td>4</td><td>4</td><td>4</td><td>5</td><td>5</td><td>5</td><td>5</td></tr>\n",
       "\t<tr><td>3</td><td>3</td><td>4</td><td>4</td><td>2</td><td>3</td><td>4</td><td>3</td><td>4</td><td>4</td></tr>\n",
       "\t<tr><td>4</td><td>4</td><td>3</td><td>4</td><td>4</td><td>4</td><td>4</td><td>4</td><td>4</td><td>4</td></tr>\n",
       "\t<tr><td>4</td><td>4</td><td>5</td><td>5</td><td>4</td><td>4</td><td>5</td><td>4</td><td>4</td><td>3</td></tr>\n",
       "\t<tr><td>4</td><td>5</td><td>4</td><td>4</td><td>3</td><td>3</td><td>5</td><td>4</td><td>4</td><td>5</td></tr>\n",
       "\t<tr><td>3</td><td>3</td><td>4</td><td>4</td><td>3</td><td>2</td><td>5</td><td>5</td><td>4</td><td>5</td></tr>\n",
       "\t<tr><td>3</td><td>5</td><td>4</td><td>4</td><td>3</td><td>4</td><td>4</td><td>4</td><td>5</td><td>4</td></tr>\n",
       "</tbody>\n",
       "</table>\n"
      ],
      "text/latex": [
       "\\begin{tabular}{r|llllllllll}\n",
       " I.think.that.I.would.like.to.use.the.system.frequently & I.found.the.system.to.be.simple & I.thought.the.system.was.easy.to.use & I.think.that.I.could.use.the.system.without.the.support.of.a.technical.person & I.found.the.various.functions.in.the.system.were.well.integrated & I.thought.there.was.a.lot.of.consistency.in.the.system & I.would.imagine.that.most.people.would.learn.to.use.the.system.very.quickly & I.found.the.system.very.intuitive & I.felt.very.confident.using.the.system & I.could.use.the.system.without.having.to.learn.anything.new\\\\\n",
       "\\hline\n",
       "\t 2 & 4 & 3 & 3 & 1 & 4 & 4 & 4 & 3 & 4\\\\\n",
       "\t 4 & 4 & 4 & 3 & 4 & 3 & 4 & 3 & 4 & 3\\\\\n",
       "\t 5 & 4 & 5 & 3 & 4 & 3 & 5 & 5 & 4 & 5\\\\\n",
       "\t 4 & 5 & 4 & 4 & 4 & 4 & 5 & 5 & 5 & 5\\\\\n",
       "\t 3 & 3 & 4 & 4 & 2 & 3 & 4 & 3 & 4 & 4\\\\\n",
       "\t 4 & 4 & 3 & 4 & 4 & 4 & 4 & 4 & 4 & 4\\\\\n",
       "\t 4 & 4 & 5 & 5 & 4 & 4 & 5 & 4 & 4 & 3\\\\\n",
       "\t 4 & 5 & 4 & 4 & 3 & 3 & 5 & 4 & 4 & 5\\\\\n",
       "\t 3 & 3 & 4 & 4 & 3 & 2 & 5 & 5 & 4 & 5\\\\\n",
       "\t 3 & 5 & 4 & 4 & 3 & 4 & 4 & 4 & 5 & 4\\\\\n",
       "\\end{tabular}\n"
      ],
      "text/markdown": [
       "\n",
       "I.think.that.I.would.like.to.use.the.system.frequently | I.found.the.system.to.be.simple | I.thought.the.system.was.easy.to.use | I.think.that.I.could.use.the.system.without.the.support.of.a.technical.person | I.found.the.various.functions.in.the.system.were.well.integrated | I.thought.there.was.a.lot.of.consistency.in.the.system | I.would.imagine.that.most.people.would.learn.to.use.the.system.very.quickly | I.found.the.system.very.intuitive | I.felt.very.confident.using.the.system | I.could.use.the.system.without.having.to.learn.anything.new | \n",
       "|---|---|---|---|---|---|---|---|---|---|\n",
       "| 2 | 4 | 3 | 3 | 1 | 4 | 4 | 4 | 3 | 4 | \n",
       "| 4 | 4 | 4 | 3 | 4 | 3 | 4 | 3 | 4 | 3 | \n",
       "| 5 | 4 | 5 | 3 | 4 | 3 | 5 | 5 | 4 | 5 | \n",
       "| 4 | 5 | 4 | 4 | 4 | 4 | 5 | 5 | 5 | 5 | \n",
       "| 3 | 3 | 4 | 4 | 2 | 3 | 4 | 3 | 4 | 4 | \n",
       "| 4 | 4 | 3 | 4 | 4 | 4 | 4 | 4 | 4 | 4 | \n",
       "| 4 | 4 | 5 | 5 | 4 | 4 | 5 | 4 | 4 | 3 | \n",
       "| 4 | 5 | 4 | 4 | 3 | 3 | 5 | 4 | 4 | 5 | \n",
       "| 3 | 3 | 4 | 4 | 3 | 2 | 5 | 5 | 4 | 5 | \n",
       "| 3 | 5 | 4 | 4 | 3 | 4 | 4 | 4 | 5 | 4 | \n",
       "\n",
       "\n"
      ],
      "text/plain": [
       "   I.think.that.I.would.like.to.use.the.system.frequently\n",
       "1  2                                                     \n",
       "2  4                                                     \n",
       "3  5                                                     \n",
       "4  4                                                     \n",
       "5  3                                                     \n",
       "6  4                                                     \n",
       "7  4                                                     \n",
       "8  4                                                     \n",
       "9  3                                                     \n",
       "10 3                                                     \n",
       "   I.found.the.system.to.be.simple I.thought.the.system.was.easy.to.use\n",
       "1  4                               3                                   \n",
       "2  4                               4                                   \n",
       "3  4                               5                                   \n",
       "4  5                               4                                   \n",
       "5  3                               4                                   \n",
       "6  4                               3                                   \n",
       "7  4                               5                                   \n",
       "8  5                               4                                   \n",
       "9  3                               4                                   \n",
       "10 5                               4                                   \n",
       "   I.think.that.I.could.use.the.system.without.the.support.of.a.technical.person\n",
       "1  3                                                                            \n",
       "2  3                                                                            \n",
       "3  3                                                                            \n",
       "4  4                                                                            \n",
       "5  4                                                                            \n",
       "6  4                                                                            \n",
       "7  5                                                                            \n",
       "8  4                                                                            \n",
       "9  4                                                                            \n",
       "10 4                                                                            \n",
       "   I.found.the.various.functions.in.the.system.were.well.integrated\n",
       "1  1                                                               \n",
       "2  4                                                               \n",
       "3  4                                                               \n",
       "4  4                                                               \n",
       "5  2                                                               \n",
       "6  4                                                               \n",
       "7  4                                                               \n",
       "8  3                                                               \n",
       "9  3                                                               \n",
       "10 3                                                               \n",
       "   I.thought.there.was.a.lot.of.consistency.in.the.system\n",
       "1  4                                                     \n",
       "2  3                                                     \n",
       "3  3                                                     \n",
       "4  4                                                     \n",
       "5  3                                                     \n",
       "6  4                                                     \n",
       "7  4                                                     \n",
       "8  3                                                     \n",
       "9  2                                                     \n",
       "10 4                                                     \n",
       "   I.would.imagine.that.most.people.would.learn.to.use.the.system.very.quickly\n",
       "1  4                                                                          \n",
       "2  4                                                                          \n",
       "3  5                                                                          \n",
       "4  5                                                                          \n",
       "5  4                                                                          \n",
       "6  4                                                                          \n",
       "7  5                                                                          \n",
       "8  5                                                                          \n",
       "9  5                                                                          \n",
       "10 4                                                                          \n",
       "   I.found.the.system.very.intuitive I.felt.very.confident.using.the.system\n",
       "1  4                                 3                                     \n",
       "2  3                                 4                                     \n",
       "3  5                                 4                                     \n",
       "4  5                                 5                                     \n",
       "5  3                                 4                                     \n",
       "6  4                                 4                                     \n",
       "7  4                                 4                                     \n",
       "8  4                                 4                                     \n",
       "9  5                                 4                                     \n",
       "10 4                                 5                                     \n",
       "   I.could.use.the.system.without.having.to.learn.anything.new\n",
       "1  4                                                          \n",
       "2  3                                                          \n",
       "3  5                                                          \n",
       "4  5                                                          \n",
       "5  4                                                          \n",
       "6  4                                                          \n",
       "7  3                                                          \n",
       "8  5                                                          \n",
       "9  5                                                          \n",
       "10 4                                                          "
      ]
     },
     "metadata": {},
     "output_type": "display_data"
    }
   ],
   "source": [
    "eye_scale"
   ]
  },
  {
   "cell_type": "code",
   "execution_count": 23,
   "metadata": {},
   "outputs": [
    {
     "name": "stderr",
     "output_type": "stream",
     "text": [
      "Warning message in cor.smooth(r):\n",
      "“Matrix was not positive definite, smoothing was done”Warning message in alpha(eye_scale):\n",
      "“Some items were negatively correlated with the total scale and probably \n",
      "should be reversed.  \n",
      "To do this, run the function again with the 'check.keys=TRUE' option”"
     ]
    },
    {
     "name": "stdout",
     "output_type": "stream",
     "text": [
      "Some items ( I.thought.there.was.a.lot.of.consistency.in.the.system ) were negatively correlated with the total scale and \n",
      "probably should be reversed.  \n",
      "To do this, run the function again with the 'check.keys=TRUE' option"
     ]
    },
    {
     "name": "stderr",
     "output_type": "stream",
     "text": [
      "Warning message in cor.smooth(R):\n",
      "“Matrix was not positive definite, smoothing was done”Warning message in cor.smooth(R):\n",
      "“Matrix was not positive definite, smoothing was done”Warning message in cor.smooth(R):\n",
      "“Matrix was not positive definite, smoothing was done”"
     ]
    },
    {
     "data": {
      "text/plain": [
       "\n",
       "Reliability analysis   \n",
       "Call: alpha(x = eye_scale)\n",
       "\n",
       "  raw_alpha std.alpha G6(smc) average_r S/N  ase mean   sd median_r\n",
       "      0.75      0.76    0.99      0.24 3.1 0.12  3.9 0.41     0.24\n",
       "\n",
       " lower alpha upper     95% confidence boundaries\n",
       "0.52 0.75 0.98 \n",
       "\n",
       " Reliability if an item is dropped:\n",
       "                                                                              raw_alpha\n",
       "I.think.that.I.would.like.to.use.the.system.frequently                             0.69\n",
       "I.found.the.system.to.be.simple                                                    0.73\n",
       "I.thought.the.system.was.easy.to.use                                               0.72\n",
       "I.think.that.I.could.use.the.system.without.the.support.of.a.technical.person      0.75\n",
       "I.found.the.various.functions.in.the.system.were.well.integrated                   0.69\n",
       "I.thought.there.was.a.lot.of.consistency.in.the.system                             0.78\n",
       "I.would.imagine.that.most.people.would.learn.to.use.the.system.very.quickly        0.71\n",
       "I.found.the.system.very.intuitive                                                  0.72\n",
       "I.felt.very.confident.using.the.system                                             0.71\n",
       "I.could.use.the.system.without.having.to.learn.anything.new                        0.76\n",
       "                                                                              std.alpha\n",
       "I.think.that.I.would.like.to.use.the.system.frequently                             0.71\n",
       "I.found.the.system.to.be.simple                                                    0.74\n",
       "I.thought.the.system.was.easy.to.use                                               0.73\n",
       "I.think.that.I.could.use.the.system.without.the.support.of.a.technical.person      0.76\n",
       "I.found.the.various.functions.in.the.system.were.well.integrated                   0.71\n",
       "I.thought.there.was.a.lot.of.consistency.in.the.system                             0.79\n",
       "I.would.imagine.that.most.people.would.learn.to.use.the.system.very.quickly        0.70\n",
       "I.found.the.system.very.intuitive                                                  0.72\n",
       "I.felt.very.confident.using.the.system                                             0.71\n",
       "I.could.use.the.system.without.having.to.learn.anything.new                        0.76\n",
       "                                                                              G6(smc)\n",
       "I.think.that.I.would.like.to.use.the.system.frequently                           0.93\n",
       "I.found.the.system.to.be.simple                                                  1.00\n",
       "I.thought.the.system.was.easy.to.use                                             0.96\n",
       "I.think.that.I.could.use.the.system.without.the.support.of.a.technical.person    0.99\n",
       "I.found.the.various.functions.in.the.system.were.well.integrated                 0.92\n",
       "I.thought.there.was.a.lot.of.consistency.in.the.system                           0.97\n",
       "I.would.imagine.that.most.people.would.learn.to.use.the.system.very.quickly      0.99\n",
       "I.found.the.system.very.intuitive                                                0.95\n",
       "I.felt.very.confident.using.the.system                                           0.96\n",
       "I.could.use.the.system.without.having.to.learn.anything.new                      0.94\n",
       "                                                                              average_r\n",
       "I.think.that.I.would.like.to.use.the.system.frequently                             0.22\n",
       "I.found.the.system.to.be.simple                                                    0.24\n",
       "I.thought.the.system.was.easy.to.use                                               0.23\n",
       "I.think.that.I.could.use.the.system.without.the.support.of.a.technical.person      0.26\n",
       "I.found.the.various.functions.in.the.system.were.well.integrated                   0.21\n",
       "I.thought.there.was.a.lot.of.consistency.in.the.system                             0.30\n",
       "I.would.imagine.that.most.people.would.learn.to.use.the.system.very.quickly        0.21\n",
       "I.found.the.system.very.intuitive                                                  0.22\n",
       "I.felt.very.confident.using.the.system                                             0.22\n",
       "I.could.use.the.system.without.having.to.learn.anything.new                        0.26\n",
       "                                                                              S/N\n",
       "I.think.that.I.would.like.to.use.the.system.frequently                        2.5\n",
       "I.found.the.system.to.be.simple                                               2.8\n",
       "I.thought.the.system.was.easy.to.use                                          2.7\n",
       "I.think.that.I.could.use.the.system.without.the.support.of.a.technical.person 3.1\n",
       "I.found.the.various.functions.in.the.system.were.well.integrated              2.4\n",
       "I.thought.there.was.a.lot.of.consistency.in.the.system                        3.8\n",
       "I.would.imagine.that.most.people.would.learn.to.use.the.system.very.quickly   2.4\n",
       "I.found.the.system.very.intuitive                                             2.6\n",
       "I.felt.very.confident.using.the.system                                        2.5\n",
       "I.could.use.the.system.without.having.to.learn.anything.new                   3.2\n",
       "                                                                              var.r\n",
       "I.think.that.I.would.like.to.use.the.system.frequently                        0.073\n",
       "I.found.the.system.to.be.simple                                               0.086\n",
       "I.thought.the.system.was.easy.to.use                                          0.075\n",
       "I.think.that.I.could.use.the.system.without.the.support.of.a.technical.person 0.086\n",
       "I.found.the.various.functions.in.the.system.were.well.integrated              0.074\n",
       "I.thought.there.was.a.lot.of.consistency.in.the.system                        0.055\n",
       "I.would.imagine.that.most.people.would.learn.to.use.the.system.very.quickly   0.068\n",
       "I.found.the.system.very.intuitive                                             0.077\n",
       "I.felt.very.confident.using.the.system                                        0.088\n",
       "I.could.use.the.system.without.having.to.learn.anything.new                   0.066\n",
       "                                                                              med.r\n",
       "I.think.that.I.would.like.to.use.the.system.frequently                         0.21\n",
       "I.found.the.system.to.be.simple                                                0.24\n",
       "I.thought.the.system.was.easy.to.use                                           0.22\n",
       "I.think.that.I.could.use.the.system.without.the.support.of.a.technical.person  0.24\n",
       "I.found.the.various.functions.in.the.system.were.well.integrated               0.20\n",
       "I.thought.there.was.a.lot.of.consistency.in.the.system                         0.26\n",
       "I.would.imagine.that.most.people.would.learn.to.use.the.system.very.quickly    0.21\n",
       "I.found.the.system.very.intuitive                                              0.22\n",
       "I.felt.very.confident.using.the.system                                         0.21\n",
       "I.could.use.the.system.without.having.to.learn.anything.new                    0.25\n",
       "\n",
       " Item statistics \n",
       "                                                                               n\n",
       "I.think.that.I.would.like.to.use.the.system.frequently                        10\n",
       "I.found.the.system.to.be.simple                                               10\n",
       "I.thought.the.system.was.easy.to.use                                          10\n",
       "I.think.that.I.could.use.the.system.without.the.support.of.a.technical.person 10\n",
       "I.found.the.various.functions.in.the.system.were.well.integrated              10\n",
       "I.thought.there.was.a.lot.of.consistency.in.the.system                        10\n",
       "I.would.imagine.that.most.people.would.learn.to.use.the.system.very.quickly   10\n",
       "I.found.the.system.very.intuitive                                             10\n",
       "I.felt.very.confident.using.the.system                                        10\n",
       "I.could.use.the.system.without.having.to.learn.anything.new                   10\n",
       "                                                                              raw.r\n",
       "I.think.that.I.would.like.to.use.the.system.frequently                         0.74\n",
       "I.found.the.system.to.be.simple                                                0.55\n",
       "I.thought.the.system.was.easy.to.use                                           0.57\n",
       "I.think.that.I.could.use.the.system.without.the.support.of.a.technical.person  0.39\n",
       "I.found.the.various.functions.in.the.system.were.well.integrated               0.76\n",
       "I.thought.there.was.a.lot.of.consistency.in.the.system                         0.16\n",
       "I.would.imagine.that.most.people.would.learn.to.use.the.system.very.quickly    0.72\n",
       "I.found.the.system.very.intuitive                                              0.63\n",
       "I.felt.very.confident.using.the.system                                         0.67\n",
       "I.could.use.the.system.without.having.to.learn.anything.new                    0.38\n",
       "                                                                              std.r\n",
       "I.think.that.I.would.like.to.use.the.system.frequently                         0.69\n",
       "I.found.the.system.to.be.simple                                                0.55\n",
       "I.thought.the.system.was.easy.to.use                                           0.58\n",
       "I.think.that.I.could.use.the.system.without.the.support.of.a.technical.person  0.43\n",
       "I.found.the.various.functions.in.the.system.were.well.integrated               0.72\n",
       "I.thought.there.was.a.lot.of.consistency.in.the.system                         0.16\n",
       "I.would.imagine.that.most.people.would.learn.to.use.the.system.very.quickly    0.74\n",
       "I.found.the.system.very.intuitive                                              0.64\n",
       "I.felt.very.confident.using.the.system                                         0.68\n",
       "I.could.use.the.system.without.having.to.learn.anything.new                    0.39\n",
       "                                                                              r.cor\n",
       "I.think.that.I.would.like.to.use.the.system.frequently                         0.70\n",
       "I.found.the.system.to.be.simple                                                0.52\n",
       "I.thought.the.system.was.easy.to.use                                           0.58\n",
       "I.think.that.I.could.use.the.system.without.the.support.of.a.technical.person  0.43\n",
       "I.found.the.various.functions.in.the.system.were.well.integrated               0.72\n",
       "I.thought.there.was.a.lot.of.consistency.in.the.system                         0.16\n",
       "I.would.imagine.that.most.people.would.learn.to.use.the.system.very.quickly    0.74\n",
       "I.found.the.system.very.intuitive                                              0.64\n",
       "I.felt.very.confident.using.the.system                                         0.68\n",
       "I.could.use.the.system.without.having.to.learn.anything.new                    0.39\n",
       "                                                                              r.drop\n",
       "I.think.that.I.would.like.to.use.the.system.frequently                         0.625\n",
       "I.found.the.system.to.be.simple                                                0.408\n",
       "I.thought.the.system.was.easy.to.use                                           0.445\n",
       "I.think.that.I.could.use.the.system.without.the.support.of.a.technical.person  0.244\n",
       "I.found.the.various.functions.in.the.system.were.well.integrated               0.621\n",
       "I.thought.there.was.a.lot.of.consistency.in.the.system                        -0.016\n",
       "I.would.imagine.that.most.people.would.learn.to.use.the.system.very.quickly    0.652\n",
       "I.found.the.system.very.intuitive                                              0.497\n",
       "I.felt.very.confident.using.the.system                                         0.583\n",
       "I.could.use.the.system.without.having.to.learn.anything.new                    0.197\n",
       "                                                                              mean\n",
       "I.think.that.I.would.like.to.use.the.system.frequently                         3.6\n",
       "I.found.the.system.to.be.simple                                                4.1\n",
       "I.thought.the.system.was.easy.to.use                                           4.0\n",
       "I.think.that.I.could.use.the.system.without.the.support.of.a.technical.person  3.8\n",
       "I.found.the.various.functions.in.the.system.were.well.integrated               3.2\n",
       "I.thought.there.was.a.lot.of.consistency.in.the.system                         3.4\n",
       "I.would.imagine.that.most.people.would.learn.to.use.the.system.very.quickly    4.5\n",
       "I.found.the.system.very.intuitive                                              4.1\n",
       "I.felt.very.confident.using.the.system                                         4.1\n",
       "I.could.use.the.system.without.having.to.learn.anything.new                    4.2\n",
       "                                                                                sd\n",
       "I.think.that.I.would.like.to.use.the.system.frequently                        0.84\n",
       "I.found.the.system.to.be.simple                                               0.74\n",
       "I.thought.the.system.was.easy.to.use                                          0.67\n",
       "I.think.that.I.could.use.the.system.without.the.support.of.a.technical.person 0.63\n",
       "I.found.the.various.functions.in.the.system.were.well.integrated              1.03\n",
       "I.thought.there.was.a.lot.of.consistency.in.the.system                        0.70\n",
       "I.would.imagine.that.most.people.would.learn.to.use.the.system.very.quickly   0.53\n",
       "I.found.the.system.very.intuitive                                             0.74\n",
       "I.felt.very.confident.using.the.system                                        0.57\n",
       "I.could.use.the.system.without.having.to.learn.anything.new                   0.79\n",
       "\n",
       "Non missing response frequency for each item\n",
       "                                                                                1\n",
       "I.think.that.I.would.like.to.use.the.system.frequently                        0.0\n",
       "I.found.the.system.to.be.simple                                               0.0\n",
       "I.thought.the.system.was.easy.to.use                                          0.0\n",
       "I.think.that.I.could.use.the.system.without.the.support.of.a.technical.person 0.0\n",
       "I.found.the.various.functions.in.the.system.were.well.integrated              0.1\n",
       "I.thought.there.was.a.lot.of.consistency.in.the.system                        0.0\n",
       "I.would.imagine.that.most.people.would.learn.to.use.the.system.very.quickly   0.0\n",
       "I.found.the.system.very.intuitive                                             0.0\n",
       "I.felt.very.confident.using.the.system                                        0.0\n",
       "I.could.use.the.system.without.having.to.learn.anything.new                   0.0\n",
       "                                                                                2\n",
       "I.think.that.I.would.like.to.use.the.system.frequently                        0.1\n",
       "I.found.the.system.to.be.simple                                               0.0\n",
       "I.thought.the.system.was.easy.to.use                                          0.0\n",
       "I.think.that.I.could.use.the.system.without.the.support.of.a.technical.person 0.0\n",
       "I.found.the.various.functions.in.the.system.were.well.integrated              0.1\n",
       "I.thought.there.was.a.lot.of.consistency.in.the.system                        0.1\n",
       "I.would.imagine.that.most.people.would.learn.to.use.the.system.very.quickly   0.0\n",
       "I.found.the.system.very.intuitive                                             0.0\n",
       "I.felt.very.confident.using.the.system                                        0.0\n",
       "I.could.use.the.system.without.having.to.learn.anything.new                   0.0\n",
       "                                                                                3\n",
       "I.think.that.I.would.like.to.use.the.system.frequently                        0.3\n",
       "I.found.the.system.to.be.simple                                               0.2\n",
       "I.thought.the.system.was.easy.to.use                                          0.2\n",
       "I.think.that.I.could.use.the.system.without.the.support.of.a.technical.person 0.3\n",
       "I.found.the.various.functions.in.the.system.were.well.integrated              0.3\n",
       "I.thought.there.was.a.lot.of.consistency.in.the.system                        0.4\n",
       "I.would.imagine.that.most.people.would.learn.to.use.the.system.very.quickly   0.0\n",
       "I.found.the.system.very.intuitive                                             0.2\n",
       "I.felt.very.confident.using.the.system                                        0.1\n",
       "I.could.use.the.system.without.having.to.learn.anything.new                   0.2\n",
       "                                                                                4\n",
       "I.think.that.I.would.like.to.use.the.system.frequently                        0.5\n",
       "I.found.the.system.to.be.simple                                               0.5\n",
       "I.thought.the.system.was.easy.to.use                                          0.6\n",
       "I.think.that.I.could.use.the.system.without.the.support.of.a.technical.person 0.6\n",
       "I.found.the.various.functions.in.the.system.were.well.integrated              0.5\n",
       "I.thought.there.was.a.lot.of.consistency.in.the.system                        0.5\n",
       "I.would.imagine.that.most.people.would.learn.to.use.the.system.very.quickly   0.5\n",
       "I.found.the.system.very.intuitive                                             0.5\n",
       "I.felt.very.confident.using.the.system                                        0.7\n",
       "I.could.use.the.system.without.having.to.learn.anything.new                   0.4\n",
       "                                                                                5\n",
       "I.think.that.I.would.like.to.use.the.system.frequently                        0.1\n",
       "I.found.the.system.to.be.simple                                               0.3\n",
       "I.thought.the.system.was.easy.to.use                                          0.2\n",
       "I.think.that.I.could.use.the.system.without.the.support.of.a.technical.person 0.1\n",
       "I.found.the.various.functions.in.the.system.were.well.integrated              0.0\n",
       "I.thought.there.was.a.lot.of.consistency.in.the.system                        0.0\n",
       "I.would.imagine.that.most.people.would.learn.to.use.the.system.very.quickly   0.5\n",
       "I.found.the.system.very.intuitive                                             0.3\n",
       "I.felt.very.confident.using.the.system                                        0.2\n",
       "I.could.use.the.system.without.having.to.learn.anything.new                   0.4\n",
       "                                                                              miss\n",
       "I.think.that.I.would.like.to.use.the.system.frequently                           0\n",
       "I.found.the.system.to.be.simple                                                  0\n",
       "I.thought.the.system.was.easy.to.use                                             0\n",
       "I.think.that.I.could.use.the.system.without.the.support.of.a.technical.person    0\n",
       "I.found.the.various.functions.in.the.system.were.well.integrated                 0\n",
       "I.thought.there.was.a.lot.of.consistency.in.the.system                           0\n",
       "I.would.imagine.that.most.people.would.learn.to.use.the.system.very.quickly      0\n",
       "I.found.the.system.very.intuitive                                                0\n",
       "I.felt.very.confident.using.the.system                                           0\n",
       "I.could.use.the.system.without.having.to.learn.anything.new                      0"
      ]
     },
     "metadata": {},
     "output_type": "display_data"
    }
   ],
   "source": [
    "result = alpha(eye_scale)\n",
    "result"
   ]
  },
  {
   "cell_type": "markdown",
   "metadata": {},
   "source": [
    "\n",
    "| total         | a list containing                                                                                                                                                                                   | 包含的列表                                                                                                                      |\n",
    "|---------------|-----------------------------------------------------------------------------------------------------------------------------------------------------------------------------------------------------|---------------------------------------------------------------------------------------------------------------------------------|\n",
    "| raw_alpha     | alpha based upon the covariances                                                                                                                                                                    | 基于协方差的alpha                                                                                                               |\n",
    "| std.alpha     | The standarized alpha based upon the correlations                                                                                                                                                   | 基于相关性的标准化alpha                                                                                                         |\n",
    "| G6(smc)       | Guttman’s Lambda 6 reliability                                                                                                                                                                      | Guttman的Lambda 6信度                                                                                                           |\n",
    "| average_r     | The average interitem correlation                                                                                                                                                                   | 条目间相关性均值                                                                                                                |\n",
    "| median_r      | The median interitem correlation                                                                                                                                                                    | 条目间相关性中值                                                                                                                |\n",
    "| mean          | For data matrices, the mean of the scale formed by averaging or summing the items (depending upon the cumulative option)                                                                            | 对于数据矩阵，通过对项求平均值或求和而形成的比例尺的平均值(取决于累积选项)                                                      |\n",
    "| sd            | For data matrices, the standard deviation of the total score                                                                                                                                        | 对于数据矩阵，总得分的标准差                                                                                                    |\n",
    "| alpha.drop    | A data frame with all of the above for the case of each item being removed one by one                                                                                                               | 一个包含上述所有内容的dataframe，用于逐个删除每个项                                                                             |\n",
    "| item.stats    | A data frame including                                                                                                                                                                              | 包含的dataFrame                                                                                                                 |\n",
    "| n             | number of complete cases for the item                                                                                                                                                               | 项目的完整用例数                                                                                                                |\n",
    "| raw.r         | The correlation of each item with the total score, not corrected for item overlap                                                                                                                   | 每个条目与总分的相关性，而不是对条目重叠的校正                                                                                  |\n",
    "| std.r         | The correlation of each item with the total score (not corrected for item overlap) if the items were all standardized                                                                               | 如果所有项目都标准化了，则每个项目与总分的相关性(不纠正项目重叠)                                                                |\n",
    "| r.cor         | Item whole correlation corrected for item overlap and scale reliability                                                                                                                             | 根据条目重叠和量表信度校正项目整体相关性                                                                                        |\n",
    "| r.drop        | Item whole correlation for this item against the scale without this item                                                                                                                            | 有与没有此条目量表的整体相关                                                                                                    |\n",
    "| mean          | for data matrices, the mean of each item                                                                                                                                                            | 对于数据矩阵，每个条目的平均值                                                                                                  |\n",
    "| sd            | For data matrices, the standard deviation of each item                                                                                                                                              | 对于数据矩阵，每个条目的标准偏差                                                                                                |\n",
    "| response.freq | For data matrices, the frequency of each item response (if less than 20)                                                                                                                            | 对于数据矩阵，每个条目响应的频率（如果小于20）                                                                                  |\n",
    "| scores        | Scores are by default simply the average response for all items that a participant took. If cumulative=TRUE, then these are sum scores. Note, this is dangerous if there are lots of missing values | 默认情况下，分数只是参与者对所有项目的平均反应。如果cumulative=TRUE，那么这些就是和分数。注意，如果有很多缺失的值，这是很危险的 |"
   ]
  },
  {
   "cell_type": "code",
   "execution_count": 24,
   "metadata": {},
   "outputs": [
    {
     "data": {
      "text/html": [
       "<table>\n",
       "<thead><tr><th></th><th scope=col>raw_alpha</th><th scope=col>std.alpha</th><th scope=col>G6(smc)</th><th scope=col>average_r</th><th scope=col>S/N</th><th scope=col>ase</th><th scope=col>mean</th><th scope=col>sd</th><th scope=col>median_r</th></tr></thead>\n",
       "<tbody>\n",
       "\t<tr><th scope=row></th><td>0.7496296</td><td>0.7561278</td><td>0.9934799</td><td>0.2366709</td><td>3.100509 </td><td>0.1150886</td><td>3.9      </td><td>0.4082483</td><td>0.2381448</td></tr>\n",
       "</tbody>\n",
       "</table>\n"
      ],
      "text/latex": [
       "\\begin{tabular}{r|lllllllll}\n",
       "  & raw\\_alpha & std.alpha & G6(smc) & average\\_r & S/N & ase & mean & sd & median\\_r\\\\\n",
       "\\hline\n",
       "\t & 0.7496296 & 0.7561278 & 0.9934799 & 0.2366709 & 3.100509  & 0.1150886 & 3.9       & 0.4082483 & 0.2381448\\\\\n",
       "\\end{tabular}\n"
      ],
      "text/markdown": [
       "\n",
       "| <!--/--> | raw_alpha | std.alpha | G6(smc) | average_r | S/N | ase | mean | sd | median_r | \n",
       "|---|\n",
       "|  | 0.7496296 | 0.7561278 | 0.9934799 | 0.2366709 | 3.100509  | 0.1150886 | 3.9       | 0.4082483 | 0.2381448 | \n",
       "\n",
       "\n"
      ],
      "text/plain": [
       " raw_alpha std.alpha G6(smc)   average_r S/N      ase       mean sd       \n",
       " 0.7496296 0.7561278 0.9934799 0.2366709 3.100509 0.1150886 3.9  0.4082483\n",
       " median_r \n",
       " 0.2381448"
      ]
     },
     "metadata": {},
     "output_type": "display_data"
    }
   ],
   "source": [
    "result$total #result[1]"
   ]
  },
  {
   "cell_type": "code",
   "execution_count": 25,
   "metadata": {},
   "outputs": [
    {
     "data": {
      "text/html": [
       "<ol class=list-inline>\n",
       "\t<li>3.2</li>\n",
       "\t<li>3.6</li>\n",
       "\t<li>4.3</li>\n",
       "\t<li>4.5</li>\n",
       "\t<li>3.4</li>\n",
       "\t<li>3.9</li>\n",
       "\t<li>4.2</li>\n",
       "\t<li>4.1</li>\n",
       "\t<li>3.8</li>\n",
       "\t<li>4</li>\n",
       "</ol>\n"
      ],
      "text/latex": [
       "\\begin{enumerate*}\n",
       "\\item 3.2\n",
       "\\item 3.6\n",
       "\\item 4.3\n",
       "\\item 4.5\n",
       "\\item 3.4\n",
       "\\item 3.9\n",
       "\\item 4.2\n",
       "\\item 4.1\n",
       "\\item 3.8\n",
       "\\item 4\n",
       "\\end{enumerate*}\n"
      ],
      "text/markdown": [
       "1. 3.2\n",
       "2. 3.6\n",
       "3. 4.3\n",
       "4. 4.5\n",
       "5. 3.4\n",
       "6. 3.9\n",
       "7. 4.2\n",
       "8. 4.1\n",
       "9. 3.8\n",
       "10. 4\n",
       "\n",
       "\n"
      ],
      "text/plain": [
       " [1] 3.2 3.6 4.3 4.5 3.4 3.9 4.2 4.1 3.8 4.0"
      ]
     },
     "metadata": {},
     "output_type": "display_data"
    }
   ],
   "source": [
    "result$scores #result[6]"
   ]
  },
  {
   "cell_type": "code",
   "execution_count": 26,
   "metadata": {},
   "outputs": [
    {
     "data": {
      "text/html": [
       "<table>\n",
       "<thead><tr><th></th><th scope=col>raw_alpha</th><th scope=col>std.alpha</th><th scope=col>G6(smc)</th><th scope=col>average_r</th><th scope=col>S/N</th><th scope=col>var.r</th><th scope=col>med.r</th></tr></thead>\n",
       "<tbody>\n",
       "\t<tr><th scope=row>I.think.that.I.would.like.to.use.the.system.frequently</th><td>0.6929348 </td><td>0.7122350 </td><td>0.9257358 </td><td>0.2156902 </td><td>2.475058  </td><td>0.07250612</td><td>0.2134423 </td></tr>\n",
       "\t<tr><th scope=row>I.found.the.system.to.be.simple</th><td>0.7295837 </td><td>0.7369766 </td><td>1.0000000 </td><td>0.2374137 </td><td>2.801943  </td><td>0.08613453</td><td>0.2384480 </td></tr>\n",
       "\t<tr><th scope=row>I.thought.the.system.was.easy.to.use</th><td>0.7250000 </td><td>0.7324376 </td><td>0.9550688 </td><td>0.2332233 </td><td>2.737446  </td><td>0.07471377</td><td>0.2195762 </td></tr>\n",
       "\t<tr><th scope=row>I.think.that.I.could.use.the.system.without.the.support.of.a.technical.person</th><td>0.7500000 </td><td>0.7565372 </td><td>0.9912920 </td><td>0.2566532 </td><td>3.107404  </td><td>0.08604223</td><td>0.2443756 </td></tr>\n",
       "\t<tr><th scope=row>I.found.the.various.functions.in.the.system.were.well.integrated</th><td>0.6909449 </td><td>0.7073147 </td><td>0.9156230 </td><td>0.2116769 </td><td>2.416639  </td><td>0.07359598</td><td>0.1997621 </td></tr>\n",
       "\t<tr><th scope=row>I.thought.there.was.a.lot.of.consistency.in.the.system</th><td>0.7838115 </td><td>0.7931310 </td><td>0.9721812 </td><td>0.2987365 </td><td>3.833977  </td><td>0.05526756</td><td>0.2562227 </td></tr>\n",
       "\t<tr><th scope=row>I.would.imagine.that.most.people.would.learn.to.use.the.system.very.quickly</th><td>0.7066265 </td><td>0.7031357 </td><td>0.9866134 </td><td>0.2083418 </td><td>2.368542  </td><td>0.06829826</td><td>0.2134423 </td></tr>\n",
       "\t<tr><th scope=row>I.found.the.system.very.intuitive</th><td>0.7165012 </td><td>0.7228396 </td><td>0.9526054 </td><td>0.2246739 </td><td>2.608019  </td><td>0.07674493</td><td>0.2195762 </td></tr>\n",
       "\t<tr><th scope=row>I.felt.very.confident.using.the.system</th><td>0.7115693 </td><td>0.7145689 </td><td>0.9576282 </td><td>0.2176276 </td><td>2.503473  </td><td>0.08837241</td><td>0.2134423 </td></tr>\n",
       "\t<tr><th scope=row>I.could.use.the.system.without.having.to.learn.anything.new</th><td>0.7612275 </td><td>0.7622575 </td><td>0.9403224 </td><td>0.2626717 </td><td>3.206232  </td><td>0.06553773</td><td>0.2500000 </td></tr>\n",
       "</tbody>\n",
       "</table>\n"
      ],
      "text/latex": [
       "\\begin{tabular}{r|lllllll}\n",
       "  & raw\\_alpha & std.alpha & G6(smc) & average\\_r & S/N & var.r & med.r\\\\\n",
       "\\hline\n",
       "\tI.think.that.I.would.like.to.use.the.system.frequently & 0.6929348  & 0.7122350  & 0.9257358  & 0.2156902  & 2.475058   & 0.07250612 & 0.2134423 \\\\\n",
       "\tI.found.the.system.to.be.simple & 0.7295837  & 0.7369766  & 1.0000000  & 0.2374137  & 2.801943   & 0.08613453 & 0.2384480 \\\\\n",
       "\tI.thought.the.system.was.easy.to.use & 0.7250000  & 0.7324376  & 0.9550688  & 0.2332233  & 2.737446   & 0.07471377 & 0.2195762 \\\\\n",
       "\tI.think.that.I.could.use.the.system.without.the.support.of.a.technical.person & 0.7500000  & 0.7565372  & 0.9912920  & 0.2566532  & 3.107404   & 0.08604223 & 0.2443756 \\\\\n",
       "\tI.found.the.various.functions.in.the.system.were.well.integrated & 0.6909449  & 0.7073147  & 0.9156230  & 0.2116769  & 2.416639   & 0.07359598 & 0.1997621 \\\\\n",
       "\tI.thought.there.was.a.lot.of.consistency.in.the.system & 0.7838115  & 0.7931310  & 0.9721812  & 0.2987365  & 3.833977   & 0.05526756 & 0.2562227 \\\\\n",
       "\tI.would.imagine.that.most.people.would.learn.to.use.the.system.very.quickly & 0.7066265  & 0.7031357  & 0.9866134  & 0.2083418  & 2.368542   & 0.06829826 & 0.2134423 \\\\\n",
       "\tI.found.the.system.very.intuitive & 0.7165012  & 0.7228396  & 0.9526054  & 0.2246739  & 2.608019   & 0.07674493 & 0.2195762 \\\\\n",
       "\tI.felt.very.confident.using.the.system & 0.7115693  & 0.7145689  & 0.9576282  & 0.2176276  & 2.503473   & 0.08837241 & 0.2134423 \\\\\n",
       "\tI.could.use.the.system.without.having.to.learn.anything.new & 0.7612275  & 0.7622575  & 0.9403224  & 0.2626717  & 3.206232   & 0.06553773 & 0.2500000 \\\\\n",
       "\\end{tabular}\n"
      ],
      "text/markdown": [
       "\n",
       "| <!--/--> | raw_alpha | std.alpha | G6(smc) | average_r | S/N | var.r | med.r | \n",
       "|---|---|---|---|---|---|---|---|---|---|\n",
       "| I.think.that.I.would.like.to.use.the.system.frequently | 0.6929348  | 0.7122350  | 0.9257358  | 0.2156902  | 2.475058   | 0.07250612 | 0.2134423  | \n",
       "| I.found.the.system.to.be.simple | 0.7295837  | 0.7369766  | 1.0000000  | 0.2374137  | 2.801943   | 0.08613453 | 0.2384480  | \n",
       "| I.thought.the.system.was.easy.to.use | 0.7250000  | 0.7324376  | 0.9550688  | 0.2332233  | 2.737446   | 0.07471377 | 0.2195762  | \n",
       "| I.think.that.I.could.use.the.system.without.the.support.of.a.technical.person | 0.7500000  | 0.7565372  | 0.9912920  | 0.2566532  | 3.107404   | 0.08604223 | 0.2443756  | \n",
       "| I.found.the.various.functions.in.the.system.were.well.integrated | 0.6909449  | 0.7073147  | 0.9156230  | 0.2116769  | 2.416639   | 0.07359598 | 0.1997621  | \n",
       "| I.thought.there.was.a.lot.of.consistency.in.the.system | 0.7838115  | 0.7931310  | 0.9721812  | 0.2987365  | 3.833977   | 0.05526756 | 0.2562227  | \n",
       "| I.would.imagine.that.most.people.would.learn.to.use.the.system.very.quickly | 0.7066265  | 0.7031357  | 0.9866134  | 0.2083418  | 2.368542   | 0.06829826 | 0.2134423  | \n",
       "| I.found.the.system.very.intuitive | 0.7165012  | 0.7228396  | 0.9526054  | 0.2246739  | 2.608019   | 0.07674493 | 0.2195762  | \n",
       "| I.felt.very.confident.using.the.system | 0.7115693  | 0.7145689  | 0.9576282  | 0.2176276  | 2.503473   | 0.08837241 | 0.2134423  | \n",
       "| I.could.use.the.system.without.having.to.learn.anything.new | 0.7612275  | 0.7622575  | 0.9403224  | 0.2626717  | 3.206232   | 0.06553773 | 0.2500000  | \n",
       "\n",
       "\n"
      ],
      "text/plain": [
       "                                                                              raw_alpha\n",
       "I.think.that.I.would.like.to.use.the.system.frequently                        0.6929348\n",
       "I.found.the.system.to.be.simple                                               0.7295837\n",
       "I.thought.the.system.was.easy.to.use                                          0.7250000\n",
       "I.think.that.I.could.use.the.system.without.the.support.of.a.technical.person 0.7500000\n",
       "I.found.the.various.functions.in.the.system.were.well.integrated              0.6909449\n",
       "I.thought.there.was.a.lot.of.consistency.in.the.system                        0.7838115\n",
       "I.would.imagine.that.most.people.would.learn.to.use.the.system.very.quickly   0.7066265\n",
       "I.found.the.system.very.intuitive                                             0.7165012\n",
       "I.felt.very.confident.using.the.system                                        0.7115693\n",
       "I.could.use.the.system.without.having.to.learn.anything.new                   0.7612275\n",
       "                                                                              std.alpha\n",
       "I.think.that.I.would.like.to.use.the.system.frequently                        0.7122350\n",
       "I.found.the.system.to.be.simple                                               0.7369766\n",
       "I.thought.the.system.was.easy.to.use                                          0.7324376\n",
       "I.think.that.I.could.use.the.system.without.the.support.of.a.technical.person 0.7565372\n",
       "I.found.the.various.functions.in.the.system.were.well.integrated              0.7073147\n",
       "I.thought.there.was.a.lot.of.consistency.in.the.system                        0.7931310\n",
       "I.would.imagine.that.most.people.would.learn.to.use.the.system.very.quickly   0.7031357\n",
       "I.found.the.system.very.intuitive                                             0.7228396\n",
       "I.felt.very.confident.using.the.system                                        0.7145689\n",
       "I.could.use.the.system.without.having.to.learn.anything.new                   0.7622575\n",
       "                                                                              G6(smc)  \n",
       "I.think.that.I.would.like.to.use.the.system.frequently                        0.9257358\n",
       "I.found.the.system.to.be.simple                                               1.0000000\n",
       "I.thought.the.system.was.easy.to.use                                          0.9550688\n",
       "I.think.that.I.could.use.the.system.without.the.support.of.a.technical.person 0.9912920\n",
       "I.found.the.various.functions.in.the.system.were.well.integrated              0.9156230\n",
       "I.thought.there.was.a.lot.of.consistency.in.the.system                        0.9721812\n",
       "I.would.imagine.that.most.people.would.learn.to.use.the.system.very.quickly   0.9866134\n",
       "I.found.the.system.very.intuitive                                             0.9526054\n",
       "I.felt.very.confident.using.the.system                                        0.9576282\n",
       "I.could.use.the.system.without.having.to.learn.anything.new                   0.9403224\n",
       "                                                                              average_r\n",
       "I.think.that.I.would.like.to.use.the.system.frequently                        0.2156902\n",
       "I.found.the.system.to.be.simple                                               0.2374137\n",
       "I.thought.the.system.was.easy.to.use                                          0.2332233\n",
       "I.think.that.I.could.use.the.system.without.the.support.of.a.technical.person 0.2566532\n",
       "I.found.the.various.functions.in.the.system.were.well.integrated              0.2116769\n",
       "I.thought.there.was.a.lot.of.consistency.in.the.system                        0.2987365\n",
       "I.would.imagine.that.most.people.would.learn.to.use.the.system.very.quickly   0.2083418\n",
       "I.found.the.system.very.intuitive                                             0.2246739\n",
       "I.felt.very.confident.using.the.system                                        0.2176276\n",
       "I.could.use.the.system.without.having.to.learn.anything.new                   0.2626717\n",
       "                                                                              S/N     \n",
       "I.think.that.I.would.like.to.use.the.system.frequently                        2.475058\n",
       "I.found.the.system.to.be.simple                                               2.801943\n",
       "I.thought.the.system.was.easy.to.use                                          2.737446\n",
       "I.think.that.I.could.use.the.system.without.the.support.of.a.technical.person 3.107404\n",
       "I.found.the.various.functions.in.the.system.were.well.integrated              2.416639\n",
       "I.thought.there.was.a.lot.of.consistency.in.the.system                        3.833977\n",
       "I.would.imagine.that.most.people.would.learn.to.use.the.system.very.quickly   2.368542\n",
       "I.found.the.system.very.intuitive                                             2.608019\n",
       "I.felt.very.confident.using.the.system                                        2.503473\n",
       "I.could.use.the.system.without.having.to.learn.anything.new                   3.206232\n",
       "                                                                              var.r     \n",
       "I.think.that.I.would.like.to.use.the.system.frequently                        0.07250612\n",
       "I.found.the.system.to.be.simple                                               0.08613453\n",
       "I.thought.the.system.was.easy.to.use                                          0.07471377\n",
       "I.think.that.I.could.use.the.system.without.the.support.of.a.technical.person 0.08604223\n",
       "I.found.the.various.functions.in.the.system.were.well.integrated              0.07359598\n",
       "I.thought.there.was.a.lot.of.consistency.in.the.system                        0.05526756\n",
       "I.would.imagine.that.most.people.would.learn.to.use.the.system.very.quickly   0.06829826\n",
       "I.found.the.system.very.intuitive                                             0.07674493\n",
       "I.felt.very.confident.using.the.system                                        0.08837241\n",
       "I.could.use.the.system.without.having.to.learn.anything.new                   0.06553773\n",
       "                                                                              med.r    \n",
       "I.think.that.I.would.like.to.use.the.system.frequently                        0.2134423\n",
       "I.found.the.system.to.be.simple                                               0.2384480\n",
       "I.thought.the.system.was.easy.to.use                                          0.2195762\n",
       "I.think.that.I.could.use.the.system.without.the.support.of.a.technical.person 0.2443756\n",
       "I.found.the.various.functions.in.the.system.were.well.integrated              0.1997621\n",
       "I.thought.there.was.a.lot.of.consistency.in.the.system                        0.2562227\n",
       "I.would.imagine.that.most.people.would.learn.to.use.the.system.very.quickly   0.2134423\n",
       "I.found.the.system.very.intuitive                                             0.2195762\n",
       "I.felt.very.confident.using.the.system                                        0.2134423\n",
       "I.could.use.the.system.without.having.to.learn.anything.new                   0.2500000"
      ]
     },
     "metadata": {},
     "output_type": "display_data"
    }
   ],
   "source": [
    "result$alpha.drop #result[2]"
   ]
  },
  {
   "cell_type": "code",
   "execution_count": 27,
   "metadata": {},
   "outputs": [
    {
     "data": {
      "text/html": [
       "<table>\n",
       "<thead><tr><th></th><th scope=col>n</th><th scope=col>raw.r</th><th scope=col>std.r</th><th scope=col>r.cor</th><th scope=col>r.drop</th><th scope=col>mean</th><th scope=col>sd</th></tr></thead>\n",
       "<tbody>\n",
       "\t<tr><th scope=row>I.think.that.I.would.like.to.use.the.system.frequently</th><td>10         </td><td>0.7423218  </td><td>0.6944714  </td><td>0.6967465  </td><td> 0.62450161</td><td>3.6        </td><td>0.8432740  </td></tr>\n",
       "\t<tr><th scope=row>I.found.the.system.to.be.simple</th><td>10         </td><td>0.5532833  </td><td>0.5546874  </td><td>0.5199073  </td><td> 0.40826497</td><td>4.1        </td><td>0.7378648  </td></tr>\n",
       "\t<tr><th scope=row>I.thought.the.system.was.easy.to.use</th><td>10         </td><td>0.5715476  </td><td>0.5816514  </td><td>0.5835569  </td><td> 0.44543540</td><td>4.0        </td><td>0.6666667  </td></tr>\n",
       "\t<tr><th scope=row>I.think.that.I.could.use.the.system.without.the.support.of.a.technical.person</th><td>10         </td><td>0.3872983  </td><td>0.4308872  </td><td>0.4322988  </td><td> 0.24440645</td><td>3.8        </td><td>0.6324555  </td></tr>\n",
       "\t<tr><th scope=row>I.found.the.various.functions.in.the.system.were.well.integrated</th><td>10         </td><td>0.7642171  </td><td>0.7202960  </td><td>0.7226557  </td><td> 0.62118257</td><td>3.2        </td><td>1.0327956  </td></tr>\n",
       "\t<tr><th scope=row>I.thought.there.was.a.lot.of.consistency.in.the.system</th><td>10         </td><td>0.1556998  </td><td>0.1600945  </td><td>0.1606190  </td><td>-0.01576025</td><td>3.4        </td><td>0.6992059  </td></tr>\n",
       "\t<tr><th scope=row>I.would.imagine.that.most.people.would.learn.to.use.the.system.very.quickly</th><td>10         </td><td>0.7229569  </td><td>0.7417566  </td><td>0.7441866  </td><td> 0.65184323</td><td>4.5        </td><td>0.5270463  </td></tr>\n",
       "\t<tr><th scope=row>I.found.the.system.very.intuitive</th><td>10         </td><td>0.6270544  </td><td>0.6366642  </td><td>0.6387500  </td><td> 0.49713482</td><td>4.1        </td><td>0.7378648  </td></tr>\n",
       "\t<tr><th scope=row>I.felt.very.confident.using.the.system</th><td>10         </td><td>0.6712486  </td><td>0.6820053  </td><td>0.6842396  </td><td> 0.58323390</td><td>4.1        </td><td>0.5676462  </td></tr>\n",
       "\t<tr><th scope=row>I.could.use.the.system.without.having.to.learn.anything.new</th><td>10         </td><td>0.3795361  </td><td>0.3921602  </td><td>0.3934449  </td><td> 0.19742244</td><td>4.2        </td><td>0.7888106  </td></tr>\n",
       "</tbody>\n",
       "</table>\n"
      ],
      "text/latex": [
       "\\begin{tabular}{r|lllllll}\n",
       "  & n & raw.r & std.r & r.cor & r.drop & mean & sd\\\\\n",
       "\\hline\n",
       "\tI.think.that.I.would.like.to.use.the.system.frequently & 10          & 0.7423218   & 0.6944714   & 0.6967465   &  0.62450161 & 3.6         & 0.8432740  \\\\\n",
       "\tI.found.the.system.to.be.simple & 10          & 0.5532833   & 0.5546874   & 0.5199073   &  0.40826497 & 4.1         & 0.7378648  \\\\\n",
       "\tI.thought.the.system.was.easy.to.use & 10          & 0.5715476   & 0.5816514   & 0.5835569   &  0.44543540 & 4.0         & 0.6666667  \\\\\n",
       "\tI.think.that.I.could.use.the.system.without.the.support.of.a.technical.person & 10          & 0.3872983   & 0.4308872   & 0.4322988   &  0.24440645 & 3.8         & 0.6324555  \\\\\n",
       "\tI.found.the.various.functions.in.the.system.were.well.integrated & 10          & 0.7642171   & 0.7202960   & 0.7226557   &  0.62118257 & 3.2         & 1.0327956  \\\\\n",
       "\tI.thought.there.was.a.lot.of.consistency.in.the.system & 10          & 0.1556998   & 0.1600945   & 0.1606190   & -0.01576025 & 3.4         & 0.6992059  \\\\\n",
       "\tI.would.imagine.that.most.people.would.learn.to.use.the.system.very.quickly & 10          & 0.7229569   & 0.7417566   & 0.7441866   &  0.65184323 & 4.5         & 0.5270463  \\\\\n",
       "\tI.found.the.system.very.intuitive & 10          & 0.6270544   & 0.6366642   & 0.6387500   &  0.49713482 & 4.1         & 0.7378648  \\\\\n",
       "\tI.felt.very.confident.using.the.system & 10          & 0.6712486   & 0.6820053   & 0.6842396   &  0.58323390 & 4.1         & 0.5676462  \\\\\n",
       "\tI.could.use.the.system.without.having.to.learn.anything.new & 10          & 0.3795361   & 0.3921602   & 0.3934449   &  0.19742244 & 4.2         & 0.7888106  \\\\\n",
       "\\end{tabular}\n"
      ],
      "text/markdown": [
       "\n",
       "| <!--/--> | n | raw.r | std.r | r.cor | r.drop | mean | sd | \n",
       "|---|---|---|---|---|---|---|---|---|---|\n",
       "| I.think.that.I.would.like.to.use.the.system.frequently | 10          | 0.7423218   | 0.6944714   | 0.6967465   |  0.62450161 | 3.6         | 0.8432740   | \n",
       "| I.found.the.system.to.be.simple | 10          | 0.5532833   | 0.5546874   | 0.5199073   |  0.40826497 | 4.1         | 0.7378648   | \n",
       "| I.thought.the.system.was.easy.to.use | 10          | 0.5715476   | 0.5816514   | 0.5835569   |  0.44543540 | 4.0         | 0.6666667   | \n",
       "| I.think.that.I.could.use.the.system.without.the.support.of.a.technical.person | 10          | 0.3872983   | 0.4308872   | 0.4322988   |  0.24440645 | 3.8         | 0.6324555   | \n",
       "| I.found.the.various.functions.in.the.system.were.well.integrated | 10          | 0.7642171   | 0.7202960   | 0.7226557   |  0.62118257 | 3.2         | 1.0327956   | \n",
       "| I.thought.there.was.a.lot.of.consistency.in.the.system | 10          | 0.1556998   | 0.1600945   | 0.1606190   | -0.01576025 | 3.4         | 0.6992059   | \n",
       "| I.would.imagine.that.most.people.would.learn.to.use.the.system.very.quickly | 10          | 0.7229569   | 0.7417566   | 0.7441866   |  0.65184323 | 4.5         | 0.5270463   | \n",
       "| I.found.the.system.very.intuitive | 10          | 0.6270544   | 0.6366642   | 0.6387500   |  0.49713482 | 4.1         | 0.7378648   | \n",
       "| I.felt.very.confident.using.the.system | 10          | 0.6712486   | 0.6820053   | 0.6842396   |  0.58323390 | 4.1         | 0.5676462   | \n",
       "| I.could.use.the.system.without.having.to.learn.anything.new | 10          | 0.3795361   | 0.3921602   | 0.3934449   |  0.19742244 | 4.2         | 0.7888106   | \n",
       "\n",
       "\n"
      ],
      "text/plain": [
       "                                                                              n \n",
       "I.think.that.I.would.like.to.use.the.system.frequently                        10\n",
       "I.found.the.system.to.be.simple                                               10\n",
       "I.thought.the.system.was.easy.to.use                                          10\n",
       "I.think.that.I.could.use.the.system.without.the.support.of.a.technical.person 10\n",
       "I.found.the.various.functions.in.the.system.were.well.integrated              10\n",
       "I.thought.there.was.a.lot.of.consistency.in.the.system                        10\n",
       "I.would.imagine.that.most.people.would.learn.to.use.the.system.very.quickly   10\n",
       "I.found.the.system.very.intuitive                                             10\n",
       "I.felt.very.confident.using.the.system                                        10\n",
       "I.could.use.the.system.without.having.to.learn.anything.new                   10\n",
       "                                                                              raw.r    \n",
       "I.think.that.I.would.like.to.use.the.system.frequently                        0.7423218\n",
       "I.found.the.system.to.be.simple                                               0.5532833\n",
       "I.thought.the.system.was.easy.to.use                                          0.5715476\n",
       "I.think.that.I.could.use.the.system.without.the.support.of.a.technical.person 0.3872983\n",
       "I.found.the.various.functions.in.the.system.were.well.integrated              0.7642171\n",
       "I.thought.there.was.a.lot.of.consistency.in.the.system                        0.1556998\n",
       "I.would.imagine.that.most.people.would.learn.to.use.the.system.very.quickly   0.7229569\n",
       "I.found.the.system.very.intuitive                                             0.6270544\n",
       "I.felt.very.confident.using.the.system                                        0.6712486\n",
       "I.could.use.the.system.without.having.to.learn.anything.new                   0.3795361\n",
       "                                                                              std.r    \n",
       "I.think.that.I.would.like.to.use.the.system.frequently                        0.6944714\n",
       "I.found.the.system.to.be.simple                                               0.5546874\n",
       "I.thought.the.system.was.easy.to.use                                          0.5816514\n",
       "I.think.that.I.could.use.the.system.without.the.support.of.a.technical.person 0.4308872\n",
       "I.found.the.various.functions.in.the.system.were.well.integrated              0.7202960\n",
       "I.thought.there.was.a.lot.of.consistency.in.the.system                        0.1600945\n",
       "I.would.imagine.that.most.people.would.learn.to.use.the.system.very.quickly   0.7417566\n",
       "I.found.the.system.very.intuitive                                             0.6366642\n",
       "I.felt.very.confident.using.the.system                                        0.6820053\n",
       "I.could.use.the.system.without.having.to.learn.anything.new                   0.3921602\n",
       "                                                                              r.cor    \n",
       "I.think.that.I.would.like.to.use.the.system.frequently                        0.6967465\n",
       "I.found.the.system.to.be.simple                                               0.5199073\n",
       "I.thought.the.system.was.easy.to.use                                          0.5835569\n",
       "I.think.that.I.could.use.the.system.without.the.support.of.a.technical.person 0.4322988\n",
       "I.found.the.various.functions.in.the.system.were.well.integrated              0.7226557\n",
       "I.thought.there.was.a.lot.of.consistency.in.the.system                        0.1606190\n",
       "I.would.imagine.that.most.people.would.learn.to.use.the.system.very.quickly   0.7441866\n",
       "I.found.the.system.very.intuitive                                             0.6387500\n",
       "I.felt.very.confident.using.the.system                                        0.6842396\n",
       "I.could.use.the.system.without.having.to.learn.anything.new                   0.3934449\n",
       "                                                                              r.drop     \n",
       "I.think.that.I.would.like.to.use.the.system.frequently                         0.62450161\n",
       "I.found.the.system.to.be.simple                                                0.40826497\n",
       "I.thought.the.system.was.easy.to.use                                           0.44543540\n",
       "I.think.that.I.could.use.the.system.without.the.support.of.a.technical.person  0.24440645\n",
       "I.found.the.various.functions.in.the.system.were.well.integrated               0.62118257\n",
       "I.thought.there.was.a.lot.of.consistency.in.the.system                        -0.01576025\n",
       "I.would.imagine.that.most.people.would.learn.to.use.the.system.very.quickly    0.65184323\n",
       "I.found.the.system.very.intuitive                                              0.49713482\n",
       "I.felt.very.confident.using.the.system                                         0.58323390\n",
       "I.could.use.the.system.without.having.to.learn.anything.new                    0.19742244\n",
       "                                                                              mean\n",
       "I.think.that.I.would.like.to.use.the.system.frequently                        3.6 \n",
       "I.found.the.system.to.be.simple                                               4.1 \n",
       "I.thought.the.system.was.easy.to.use                                          4.0 \n",
       "I.think.that.I.could.use.the.system.without.the.support.of.a.technical.person 3.8 \n",
       "I.found.the.various.functions.in.the.system.were.well.integrated              3.2 \n",
       "I.thought.there.was.a.lot.of.consistency.in.the.system                        3.4 \n",
       "I.would.imagine.that.most.people.would.learn.to.use.the.system.very.quickly   4.5 \n",
       "I.found.the.system.very.intuitive                                             4.1 \n",
       "I.felt.very.confident.using.the.system                                        4.1 \n",
       "I.could.use.the.system.without.having.to.learn.anything.new                   4.2 \n",
       "                                                                              sd       \n",
       "I.think.that.I.would.like.to.use.the.system.frequently                        0.8432740\n",
       "I.found.the.system.to.be.simple                                               0.7378648\n",
       "I.thought.the.system.was.easy.to.use                                          0.6666667\n",
       "I.think.that.I.could.use.the.system.without.the.support.of.a.technical.person 0.6324555\n",
       "I.found.the.various.functions.in.the.system.were.well.integrated              1.0327956\n",
       "I.thought.there.was.a.lot.of.consistency.in.the.system                        0.6992059\n",
       "I.would.imagine.that.most.people.would.learn.to.use.the.system.very.quickly   0.5270463\n",
       "I.found.the.system.very.intuitive                                             0.7378648\n",
       "I.felt.very.confident.using.the.system                                        0.5676462\n",
       "I.could.use.the.system.without.having.to.learn.anything.new                   0.7888106"
      ]
     },
     "metadata": {},
     "output_type": "display_data"
    }
   ],
   "source": [
    "result$item.stats #result[3]"
   ]
  },
  {
   "cell_type": "code",
   "execution_count": 28,
   "metadata": {},
   "outputs": [
    {
     "data": {
      "text/html": [
       "<table>\n",
       "<thead><tr><th></th><th scope=col>1</th><th scope=col>2</th><th scope=col>3</th><th scope=col>4</th><th scope=col>5</th><th scope=col>miss</th></tr></thead>\n",
       "<tbody>\n",
       "\t<tr><th scope=row>I.think.that.I.would.like.to.use.the.system.frequently</th><td>0.0</td><td>0.1</td><td>0.3</td><td>0.5</td><td>0.1</td><td>0  </td></tr>\n",
       "\t<tr><th scope=row>I.found.the.system.to.be.simple</th><td>0.0</td><td>0.0</td><td>0.2</td><td>0.5</td><td>0.3</td><td>0  </td></tr>\n",
       "\t<tr><th scope=row>I.thought.the.system.was.easy.to.use</th><td>0.0</td><td>0.0</td><td>0.2</td><td>0.6</td><td>0.2</td><td>0  </td></tr>\n",
       "\t<tr><th scope=row>I.think.that.I.could.use.the.system.without.the.support.of.a.technical.person</th><td>0.0</td><td>0.0</td><td>0.3</td><td>0.6</td><td>0.1</td><td>0  </td></tr>\n",
       "\t<tr><th scope=row>I.found.the.various.functions.in.the.system.were.well.integrated</th><td>0.1</td><td>0.1</td><td>0.3</td><td>0.5</td><td>0.0</td><td>0  </td></tr>\n",
       "\t<tr><th scope=row>I.thought.there.was.a.lot.of.consistency.in.the.system</th><td>0.0</td><td>0.1</td><td>0.4</td><td>0.5</td><td>0.0</td><td>0  </td></tr>\n",
       "\t<tr><th scope=row>I.would.imagine.that.most.people.would.learn.to.use.the.system.very.quickly</th><td>0.0</td><td>0.0</td><td>0.0</td><td>0.5</td><td>0.5</td><td>0  </td></tr>\n",
       "\t<tr><th scope=row>I.found.the.system.very.intuitive</th><td>0.0</td><td>0.0</td><td>0.2</td><td>0.5</td><td>0.3</td><td>0  </td></tr>\n",
       "\t<tr><th scope=row>I.felt.very.confident.using.the.system</th><td>0.0</td><td>0.0</td><td>0.1</td><td>0.7</td><td>0.2</td><td>0  </td></tr>\n",
       "\t<tr><th scope=row>I.could.use.the.system.without.having.to.learn.anything.new</th><td>0.0</td><td>0.0</td><td>0.2</td><td>0.4</td><td>0.4</td><td>0  </td></tr>\n",
       "</tbody>\n",
       "</table>\n"
      ],
      "text/latex": [
       "\\begin{tabular}{r|llllll}\n",
       "  & 1 & 2 & 3 & 4 & 5 & miss\\\\\n",
       "\\hline\n",
       "\tI.think.that.I.would.like.to.use.the.system.frequently & 0.0 & 0.1 & 0.3 & 0.5 & 0.1 & 0  \\\\\n",
       "\tI.found.the.system.to.be.simple & 0.0 & 0.0 & 0.2 & 0.5 & 0.3 & 0  \\\\\n",
       "\tI.thought.the.system.was.easy.to.use & 0.0 & 0.0 & 0.2 & 0.6 & 0.2 & 0  \\\\\n",
       "\tI.think.that.I.could.use.the.system.without.the.support.of.a.technical.person & 0.0 & 0.0 & 0.3 & 0.6 & 0.1 & 0  \\\\\n",
       "\tI.found.the.various.functions.in.the.system.were.well.integrated & 0.1 & 0.1 & 0.3 & 0.5 & 0.0 & 0  \\\\\n",
       "\tI.thought.there.was.a.lot.of.consistency.in.the.system & 0.0 & 0.1 & 0.4 & 0.5 & 0.0 & 0  \\\\\n",
       "\tI.would.imagine.that.most.people.would.learn.to.use.the.system.very.quickly & 0.0 & 0.0 & 0.0 & 0.5 & 0.5 & 0  \\\\\n",
       "\tI.found.the.system.very.intuitive & 0.0 & 0.0 & 0.2 & 0.5 & 0.3 & 0  \\\\\n",
       "\tI.felt.very.confident.using.the.system & 0.0 & 0.0 & 0.1 & 0.7 & 0.2 & 0  \\\\\n",
       "\tI.could.use.the.system.without.having.to.learn.anything.new & 0.0 & 0.0 & 0.2 & 0.4 & 0.4 & 0  \\\\\n",
       "\\end{tabular}\n"
      ],
      "text/markdown": [
       "\n",
       "| <!--/--> | 1 | 2 | 3 | 4 | 5 | miss | \n",
       "|---|---|---|---|---|---|---|---|---|---|\n",
       "| I.think.that.I.would.like.to.use.the.system.frequently | 0.0 | 0.1 | 0.3 | 0.5 | 0.1 | 0   | \n",
       "| I.found.the.system.to.be.simple | 0.0 | 0.0 | 0.2 | 0.5 | 0.3 | 0   | \n",
       "| I.thought.the.system.was.easy.to.use | 0.0 | 0.0 | 0.2 | 0.6 | 0.2 | 0   | \n",
       "| I.think.that.I.could.use.the.system.without.the.support.of.a.technical.person | 0.0 | 0.0 | 0.3 | 0.6 | 0.1 | 0   | \n",
       "| I.found.the.various.functions.in.the.system.were.well.integrated | 0.1 | 0.1 | 0.3 | 0.5 | 0.0 | 0   | \n",
       "| I.thought.there.was.a.lot.of.consistency.in.the.system | 0.0 | 0.1 | 0.4 | 0.5 | 0.0 | 0   | \n",
       "| I.would.imagine.that.most.people.would.learn.to.use.the.system.very.quickly | 0.0 | 0.0 | 0.0 | 0.5 | 0.5 | 0   | \n",
       "| I.found.the.system.very.intuitive | 0.0 | 0.0 | 0.2 | 0.5 | 0.3 | 0   | \n",
       "| I.felt.very.confident.using.the.system | 0.0 | 0.0 | 0.1 | 0.7 | 0.2 | 0   | \n",
       "| I.could.use.the.system.without.having.to.learn.anything.new | 0.0 | 0.0 | 0.2 | 0.4 | 0.4 | 0   | \n",
       "\n",
       "\n"
      ],
      "text/plain": [
       "                                                                              1  \n",
       "I.think.that.I.would.like.to.use.the.system.frequently                        0.0\n",
       "I.found.the.system.to.be.simple                                               0.0\n",
       "I.thought.the.system.was.easy.to.use                                          0.0\n",
       "I.think.that.I.could.use.the.system.without.the.support.of.a.technical.person 0.0\n",
       "I.found.the.various.functions.in.the.system.were.well.integrated              0.1\n",
       "I.thought.there.was.a.lot.of.consistency.in.the.system                        0.0\n",
       "I.would.imagine.that.most.people.would.learn.to.use.the.system.very.quickly   0.0\n",
       "I.found.the.system.very.intuitive                                             0.0\n",
       "I.felt.very.confident.using.the.system                                        0.0\n",
       "I.could.use.the.system.without.having.to.learn.anything.new                   0.0\n",
       "                                                                              2  \n",
       "I.think.that.I.would.like.to.use.the.system.frequently                        0.1\n",
       "I.found.the.system.to.be.simple                                               0.0\n",
       "I.thought.the.system.was.easy.to.use                                          0.0\n",
       "I.think.that.I.could.use.the.system.without.the.support.of.a.technical.person 0.0\n",
       "I.found.the.various.functions.in.the.system.were.well.integrated              0.1\n",
       "I.thought.there.was.a.lot.of.consistency.in.the.system                        0.1\n",
       "I.would.imagine.that.most.people.would.learn.to.use.the.system.very.quickly   0.0\n",
       "I.found.the.system.very.intuitive                                             0.0\n",
       "I.felt.very.confident.using.the.system                                        0.0\n",
       "I.could.use.the.system.without.having.to.learn.anything.new                   0.0\n",
       "                                                                              3  \n",
       "I.think.that.I.would.like.to.use.the.system.frequently                        0.3\n",
       "I.found.the.system.to.be.simple                                               0.2\n",
       "I.thought.the.system.was.easy.to.use                                          0.2\n",
       "I.think.that.I.could.use.the.system.without.the.support.of.a.technical.person 0.3\n",
       "I.found.the.various.functions.in.the.system.were.well.integrated              0.3\n",
       "I.thought.there.was.a.lot.of.consistency.in.the.system                        0.4\n",
       "I.would.imagine.that.most.people.would.learn.to.use.the.system.very.quickly   0.0\n",
       "I.found.the.system.very.intuitive                                             0.2\n",
       "I.felt.very.confident.using.the.system                                        0.1\n",
       "I.could.use.the.system.without.having.to.learn.anything.new                   0.2\n",
       "                                                                              4  \n",
       "I.think.that.I.would.like.to.use.the.system.frequently                        0.5\n",
       "I.found.the.system.to.be.simple                                               0.5\n",
       "I.thought.the.system.was.easy.to.use                                          0.6\n",
       "I.think.that.I.could.use.the.system.without.the.support.of.a.technical.person 0.6\n",
       "I.found.the.various.functions.in.the.system.were.well.integrated              0.5\n",
       "I.thought.there.was.a.lot.of.consistency.in.the.system                        0.5\n",
       "I.would.imagine.that.most.people.would.learn.to.use.the.system.very.quickly   0.5\n",
       "I.found.the.system.very.intuitive                                             0.5\n",
       "I.felt.very.confident.using.the.system                                        0.7\n",
       "I.could.use.the.system.without.having.to.learn.anything.new                   0.4\n",
       "                                                                              5  \n",
       "I.think.that.I.would.like.to.use.the.system.frequently                        0.1\n",
       "I.found.the.system.to.be.simple                                               0.3\n",
       "I.thought.the.system.was.easy.to.use                                          0.2\n",
       "I.think.that.I.could.use.the.system.without.the.support.of.a.technical.person 0.1\n",
       "I.found.the.various.functions.in.the.system.were.well.integrated              0.0\n",
       "I.thought.there.was.a.lot.of.consistency.in.the.system                        0.0\n",
       "I.would.imagine.that.most.people.would.learn.to.use.the.system.very.quickly   0.5\n",
       "I.found.the.system.very.intuitive                                             0.3\n",
       "I.felt.very.confident.using.the.system                                        0.2\n",
       "I.could.use.the.system.without.having.to.learn.anything.new                   0.4\n",
       "                                                                              miss\n",
       "I.think.that.I.would.like.to.use.the.system.frequently                        0   \n",
       "I.found.the.system.to.be.simple                                               0   \n",
       "I.thought.the.system.was.easy.to.use                                          0   \n",
       "I.think.that.I.could.use.the.system.without.the.support.of.a.technical.person 0   \n",
       "I.found.the.various.functions.in.the.system.were.well.integrated              0   \n",
       "I.thought.there.was.a.lot.of.consistency.in.the.system                        0   \n",
       "I.would.imagine.that.most.people.would.learn.to.use.the.system.very.quickly   0   \n",
       "I.found.the.system.very.intuitive                                             0   \n",
       "I.felt.very.confident.using.the.system                                        0   \n",
       "I.could.use.the.system.without.having.to.learn.anything.new                   0   "
      ]
     },
     "metadata": {},
     "output_type": "display_data"
    }
   ],
   "source": [
    "result$response.freq #result[4]"
   ]
  },
  {
   "cell_type": "markdown",
   "metadata": {
    "toc-hr-collapsed": false
   },
   "source": [
    "# Behavioral data"
   ]
  },
  {
   "cell_type": "code",
   "execution_count": 1,
   "metadata": {},
   "outputs": [
    {
     "name": "stderr",
     "output_type": "stream",
     "text": [
      "Loading required package: lattice\n",
      "Loading required package: plyr\n"
     ]
    }
   ],
   "source": [
    "library(sjstats)\n",
    "library(ggplot2)\n",
    "library(Rmisc)"
   ]
  },
  {
   "cell_type": "code",
   "execution_count": 2,
   "metadata": {},
   "outputs": [
    {
     "data": {
      "text/html": [
       "<table>\n",
       "<thead><tr><th scope=col>sub</th><th scope=col>trial</th><th scope=col>website</th><th scope=col>duration</th><th scope=col>operation</th><th scope=col>blink</th><th scope=col>fixation</th><th scope=col>blink_interval</th><th scope=col>fixation_count</th></tr></thead>\n",
       "<tbody>\n",
       "\t<tr><td> 3   </td><td>Ctl  </td><td>Tmall</td><td> 47  </td><td>18   </td><td>17   </td><td>134  </td><td>2.76 </td><td>2.85 </td></tr>\n",
       "\t<tr><td> 2   </td><td>Exp  </td><td>JD   </td><td> 43  </td><td>11   </td><td> 5   </td><td>124  </td><td>8.60 </td><td>2.88 </td></tr>\n",
       "\t<tr><td> 9   </td><td>Ctl  </td><td>JD   </td><td> 52  </td><td>12   </td><td>26   </td><td>347  </td><td>2.00 </td><td>6.67 </td></tr>\n",
       "\t<tr><td>10   </td><td>Exp  </td><td>JD   </td><td> 37  </td><td>19   </td><td> 6   </td><td>109  </td><td>6.17 </td><td>2.95 </td></tr>\n",
       "\t<tr><td> 8   </td><td>Exp  </td><td>Tmall</td><td> 31  </td><td>13   </td><td> 5   </td><td> 79  </td><td>6.20 </td><td>2.55 </td></tr>\n",
       "\t<tr><td> 1   </td><td>Ctl  </td><td>Tmall</td><td>108  </td><td>27   </td><td>23   </td><td>190  </td><td>4.70 </td><td>1.76 </td></tr>\n",
       "</tbody>\n",
       "</table>\n"
      ],
      "text/latex": [
       "\\begin{tabular}{r|lllllllll}\n",
       " sub & trial & website & duration & operation & blink & fixation & blink\\_interval & fixation\\_count\\\\\n",
       "\\hline\n",
       "\t  3    & Ctl   & Tmall &  47   & 18    & 17    & 134   & 2.76  & 2.85 \\\\\n",
       "\t  2    & Exp   & JD    &  43   & 11    &  5    & 124   & 8.60  & 2.88 \\\\\n",
       "\t  9    & Ctl   & JD    &  52   & 12    & 26    & 347   & 2.00  & 6.67 \\\\\n",
       "\t 10    & Exp   & JD    &  37   & 19    &  6    & 109   & 6.17  & 2.95 \\\\\n",
       "\t  8    & Exp   & Tmall &  31   & 13    &  5    &  79   & 6.20  & 2.55 \\\\\n",
       "\t  1    & Ctl   & Tmall & 108   & 27    & 23    & 190   & 4.70  & 1.76 \\\\\n",
       "\\end{tabular}\n"
      ],
      "text/markdown": [
       "\n",
       "sub | trial | website | duration | operation | blink | fixation | blink_interval | fixation_count | \n",
       "|---|---|---|---|---|---|\n",
       "|  3    | Ctl   | Tmall |  47   | 18    | 17    | 134   | 2.76  | 2.85  | \n",
       "|  2    | Exp   | JD    |  43   | 11    |  5    | 124   | 8.60  | 2.88  | \n",
       "|  9    | Ctl   | JD    |  52   | 12    | 26    | 347   | 2.00  | 6.67  | \n",
       "| 10    | Exp   | JD    |  37   | 19    |  6    | 109   | 6.17  | 2.95  | \n",
       "|  8    | Exp   | Tmall |  31   | 13    |  5    |  79   | 6.20  | 2.55  | \n",
       "|  1    | Ctl   | Tmall | 108   | 27    | 23    | 190   | 4.70  | 1.76  | \n",
       "\n",
       "\n"
      ],
      "text/plain": [
       "  sub trial website duration operation blink fixation blink_interval\n",
       "1  3  Ctl   Tmall    47      18        17    134      2.76          \n",
       "2  2  Exp   JD       43      11         5    124      8.60          \n",
       "3  9  Ctl   JD       52      12        26    347      2.00          \n",
       "4 10  Exp   JD       37      19         6    109      6.17          \n",
       "5  8  Exp   Tmall    31      13         5     79      6.20          \n",
       "6  1  Ctl   Tmall   108      27        23    190      4.70          \n",
       "  fixation_count\n",
       "1 2.85          \n",
       "2 2.88          \n",
       "3 6.67          \n",
       "4 2.95          \n",
       "5 2.55          \n",
       "6 1.76          "
      ]
     },
     "metadata": {},
     "output_type": "display_data"
    }
   ],
   "source": [
    "stat = read.csv('behavior.csv')\n",
    "head(stat)"
   ]
  },
  {
   "cell_type": "markdown",
   "metadata": {},
   "source": [
    "### Duration"
   ]
  },
  {
   "cell_type": "code",
   "execution_count": 76,
   "metadata": {},
   "outputs": [
    {
     "data": {
      "text/html": [
       "<table>\n",
       "<thead><tr><th scope=col>Group.1</th><th scope=col>Group.2</th><th scope=col>x</th></tr></thead>\n",
       "<tbody>\n",
       "\t<tr><td>Ctl  </td><td>JD   </td><td>58.5 </td></tr>\n",
       "\t<tr><td>Exp  </td><td>JD   </td><td>42.6 </td></tr>\n",
       "\t<tr><td>Ctl  </td><td>Tmall</td><td>54.5 </td></tr>\n",
       "\t<tr><td>Exp  </td><td>Tmall</td><td>35.1 </td></tr>\n",
       "</tbody>\n",
       "</table>\n"
      ],
      "text/latex": [
       "\\begin{tabular}{r|lll}\n",
       " Group.1 & Group.2 & x\\\\\n",
       "\\hline\n",
       "\t Ctl   & JD    & 58.5 \\\\\n",
       "\t Exp   & JD    & 42.6 \\\\\n",
       "\t Ctl   & Tmall & 54.5 \\\\\n",
       "\t Exp   & Tmall & 35.1 \\\\\n",
       "\\end{tabular}\n"
      ],
      "text/markdown": [
       "\n",
       "Group.1 | Group.2 | x | \n",
       "|---|---|---|---|\n",
       "| Ctl   | JD    | 58.5  | \n",
       "| Exp   | JD    | 42.6  | \n",
       "| Ctl   | Tmall | 54.5  | \n",
       "| Exp   | Tmall | 35.1  | \n",
       "\n",
       "\n"
      ],
      "text/plain": [
       "  Group.1 Group.2 x   \n",
       "1 Ctl     JD      58.5\n",
       "2 Exp     JD      42.6\n",
       "3 Ctl     Tmall   54.5\n",
       "4 Exp     Tmall   35.1"
      ]
     },
     "metadata": {},
     "output_type": "display_data"
    },
    {
     "data": {
      "text/html": [
       "<table>\n",
       "<thead><tr><th scope=col>Group.1</th><th scope=col>Group.2</th><th scope=col>x</th></tr></thead>\n",
       "<tbody>\n",
       "\t<tr><td>Ctl      </td><td>JD       </td><td>23.329762</td></tr>\n",
       "\t<tr><td>Exp      </td><td>JD       </td><td> 9.311880</td></tr>\n",
       "\t<tr><td>Ctl      </td><td>Tmall    </td><td>20.956304</td></tr>\n",
       "\t<tr><td>Exp      </td><td>Tmall    </td><td> 8.849984</td></tr>\n",
       "</tbody>\n",
       "</table>\n"
      ],
      "text/latex": [
       "\\begin{tabular}{r|lll}\n",
       " Group.1 & Group.2 & x\\\\\n",
       "\\hline\n",
       "\t Ctl       & JD        & 23.329762\\\\\n",
       "\t Exp       & JD        &  9.311880\\\\\n",
       "\t Ctl       & Tmall     & 20.956304\\\\\n",
       "\t Exp       & Tmall     &  8.849984\\\\\n",
       "\\end{tabular}\n"
      ],
      "text/markdown": [
       "\n",
       "Group.1 | Group.2 | x | \n",
       "|---|---|---|---|\n",
       "| Ctl       | JD        | 23.329762 | \n",
       "| Exp       | JD        |  9.311880 | \n",
       "| Ctl       | Tmall     | 20.956304 | \n",
       "| Exp       | Tmall     |  8.849984 | \n",
       "\n",
       "\n"
      ],
      "text/plain": [
       "  Group.1 Group.2 x        \n",
       "1 Ctl     JD      23.329762\n",
       "2 Exp     JD       9.311880\n",
       "3 Ctl     Tmall   20.956304\n",
       "4 Exp     Tmall    8.849984"
      ]
     },
     "metadata": {},
     "output_type": "display_data"
    },
    {
     "data": {
      "text/plain": [
       "              Df Sum Sq Mean Sq F value  Pr(>F)   \n",
       "trial          1   3115  3115.2  10.850 0.00222 **\n",
       "website        1    331   330.6   1.152 0.29037   \n",
       "trial:website  1     31    30.6   0.107 0.74587   \n",
       "Residuals     36  10336   287.1                   \n",
       "---\n",
       "Signif. codes:  0 ‘***’ 0.001 ‘**’ 0.01 ‘*’ 0.05 ‘.’ 0.1 ‘ ’ 1"
      ]
     },
     "metadata": {},
     "output_type": "display_data"
    }
   ],
   "source": [
    "attach(stat)\n",
    "aggregate(duration,by=list(trial,website),FUN=mean)\n",
    "aggregate(duration,by=list(trial,website),FUN=sd)\n",
    "stat.duration_aov = aov(duration ~ trial * website)\n",
    "detach(stat)\n",
    "summary(stat.duration_aov)"
   ]
  },
  {
   "cell_type": "code",
   "execution_count": 77,
   "metadata": {},
   "outputs": [
    {
     "data": {
      "text/html": [
       "<table>\n",
       "<thead><tr><th scope=col>term</th><th scope=col>df</th><th scope=col>sumsq</th><th scope=col>meansq</th><th scope=col>statistic</th><th scope=col>p.value</th><th scope=col>etasq</th><th scope=col>partial.etasq</th><th scope=col>omegasq</th><th scope=col>partial.omegasq</th><th scope=col>cohens.f</th><th scope=col>power</th></tr></thead>\n",
       "<tbody>\n",
       "\t<tr><td>trial        </td><td> 1           </td><td> 3115.225    </td><td>3115.225     </td><td>10.850       </td><td>0.002        </td><td>0.226        </td><td>0.232        </td><td> 0.201       </td><td> 0.198       </td><td>0.549        </td><td>0.909        </td></tr>\n",
       "\t<tr><td>website      </td><td> 1           </td><td>  330.625    </td><td> 330.625     </td><td> 1.152       </td><td>0.290        </td><td>0.024        </td><td>0.031        </td><td> 0.003       </td><td> 0.004       </td><td>0.179        </td><td>0.189        </td></tr>\n",
       "\t<tr><td>trial:website</td><td> 1           </td><td>   30.625    </td><td>  30.625     </td><td> 0.107       </td><td>0.746        </td><td>0.002        </td><td>0.003        </td><td>-0.018       </td><td>-0.023       </td><td>0.054        </td><td>0.062        </td></tr>\n",
       "\t<tr><td>Residuals    </td><td>36           </td><td>10336.300    </td><td> 287.119     </td><td>    NA       </td><td>   NA        </td><td>   NA        </td><td>   NA        </td><td>    NA       </td><td>    NA       </td><td>   NA        </td><td>   NA        </td></tr>\n",
       "</tbody>\n",
       "</table>\n"
      ],
      "text/latex": [
       "\\begin{tabular}{r|llllllllllll}\n",
       " term & df & sumsq & meansq & statistic & p.value & etasq & partial.etasq & omegasq & partial.omegasq & cohens.f & power\\\\\n",
       "\\hline\n",
       "\t trial         &  1            &  3115.225     & 3115.225      & 10.850        & 0.002         & 0.226         & 0.232         &  0.201        &  0.198        & 0.549         & 0.909        \\\\\n",
       "\t website       &  1            &   330.625     &  330.625      &  1.152        & 0.290         & 0.024         & 0.031         &  0.003        &  0.004        & 0.179         & 0.189        \\\\\n",
       "\t trial:website &  1            &    30.625     &   30.625      &  0.107        & 0.746         & 0.002         & 0.003         & -0.018        & -0.023        & 0.054         & 0.062        \\\\\n",
       "\t Residuals     & 36            & 10336.300     &  287.119      &     NA        &    NA         &    NA         &    NA         &     NA        &     NA        &    NA         &    NA        \\\\\n",
       "\\end{tabular}\n"
      ],
      "text/markdown": [
       "\n",
       "term | df | sumsq | meansq | statistic | p.value | etasq | partial.etasq | omegasq | partial.omegasq | cohens.f | power | \n",
       "|---|---|---|---|\n",
       "| trial         |  1            |  3115.225     | 3115.225      | 10.850        | 0.002         | 0.226         | 0.232         |  0.201        |  0.198        | 0.549         | 0.909         | \n",
       "| website       |  1            |   330.625     |  330.625      |  1.152        | 0.290         | 0.024         | 0.031         |  0.003        |  0.004        | 0.179         | 0.189         | \n",
       "| trial:website |  1            |    30.625     |   30.625      |  0.107        | 0.746         | 0.002         | 0.003         | -0.018        | -0.023        | 0.054         | 0.062         | \n",
       "| Residuals     | 36            | 10336.300     |  287.119      |     NA        |    NA         |    NA         |    NA         |     NA        |     NA        |    NA         |    NA         | \n",
       "\n",
       "\n"
      ],
      "text/plain": [
       "  term          df sumsq     meansq   statistic p.value etasq partial.etasq\n",
       "1 trial          1  3115.225 3115.225 10.850    0.002   0.226 0.232        \n",
       "2 website        1   330.625  330.625  1.152    0.290   0.024 0.031        \n",
       "3 trial:website  1    30.625   30.625  0.107    0.746   0.002 0.003        \n",
       "4 Residuals     36 10336.300  287.119     NA       NA      NA    NA        \n",
       "  omegasq partial.omegasq cohens.f power\n",
       "1  0.201   0.198          0.549    0.909\n",
       "2  0.003   0.004          0.179    0.189\n",
       "3 -0.018  -0.023          0.054    0.062\n",
       "4     NA      NA             NA       NA"
      ]
     },
     "metadata": {},
     "output_type": "display_data"
    }
   ],
   "source": [
    "anova_stats(stat.duration_aov)    #counting effect size"
   ]
  },
  {
   "cell_type": "code",
   "execution_count": 78,
   "metadata": {},
   "outputs": [
    {
     "data": {
      "text/html": [
       "<table>\n",
       "<thead><tr><th scope=col>term</th><th scope=col>etasq</th></tr></thead>\n",
       "<tbody>\n",
       "\t<tr><td>trial        </td><td>0.22553216   </td></tr>\n",
       "\t<tr><td>website      </td><td>0.02393618   </td></tr>\n",
       "\t<tr><td>trial:website</td><td>0.00221715   </td></tr>\n",
       "</tbody>\n",
       "</table>\n"
      ],
      "text/latex": [
       "\\begin{tabular}{r|ll}\n",
       " term & etasq\\\\\n",
       "\\hline\n",
       "\t trial         & 0.22553216   \\\\\n",
       "\t website       & 0.02393618   \\\\\n",
       "\t trial:website & 0.00221715   \\\\\n",
       "\\end{tabular}\n"
      ],
      "text/markdown": [
       "\n",
       "term | etasq | \n",
       "|---|---|---|\n",
       "| trial         | 0.22553216    | \n",
       "| website       | 0.02393618    | \n",
       "| trial:website | 0.00221715    | \n",
       "\n",
       "\n"
      ],
      "text/plain": [
       "  term          etasq     \n",
       "1 trial         0.22553216\n",
       "2 website       0.02393618\n",
       "3 trial:website 0.00221715"
      ]
     },
     "metadata": {},
     "output_type": "display_data"
    }
   ],
   "source": [
    "eta_sq(stat.duration_aov)"
   ]
  },
  {
   "cell_type": "code",
   "execution_count": 79,
   "metadata": {},
   "outputs": [
    {
     "data": {
      "text/html": [
       "<table>\n",
       "<thead><tr><th scope=col>trial</th><th scope=col>website</th><th scope=col>N</th><th scope=col>duration</th><th scope=col>sd</th><th scope=col>se</th><th scope=col>ci</th></tr></thead>\n",
       "<tbody>\n",
       "\t<tr><td>Ctl      </td><td>JD       </td><td>10       </td><td>58.5     </td><td>23.329762</td><td>7.377518 </td><td>16.689106</td></tr>\n",
       "\t<tr><td>Ctl      </td><td>Tmall    </td><td>10       </td><td>54.5     </td><td>20.956304</td><td>6.626965 </td><td>14.991237</td></tr>\n",
       "\t<tr><td>Exp      </td><td>JD       </td><td>10       </td><td>42.6     </td><td> 9.311880</td><td>2.944675 </td><td> 6.661318</td></tr>\n",
       "\t<tr><td>Exp      </td><td>Tmall    </td><td>10       </td><td>35.1     </td><td> 8.849984</td><td>2.798611 </td><td> 6.330897</td></tr>\n",
       "</tbody>\n",
       "</table>\n"
      ],
      "text/latex": [
       "\\begin{tabular}{r|lllllll}\n",
       " trial & website & N & duration & sd & se & ci\\\\\n",
       "\\hline\n",
       "\t Ctl       & JD        & 10        & 58.5      & 23.329762 & 7.377518  & 16.689106\\\\\n",
       "\t Ctl       & Tmall     & 10        & 54.5      & 20.956304 & 6.626965  & 14.991237\\\\\n",
       "\t Exp       & JD        & 10        & 42.6      &  9.311880 & 2.944675  &  6.661318\\\\\n",
       "\t Exp       & Tmall     & 10        & 35.1      &  8.849984 & 2.798611  &  6.330897\\\\\n",
       "\\end{tabular}\n"
      ],
      "text/markdown": [
       "\n",
       "trial | website | N | duration | sd | se | ci | \n",
       "|---|---|---|---|\n",
       "| Ctl       | JD        | 10        | 58.5      | 23.329762 | 7.377518  | 16.689106 | \n",
       "| Ctl       | Tmall     | 10        | 54.5      | 20.956304 | 6.626965  | 14.991237 | \n",
       "| Exp       | JD        | 10        | 42.6      |  9.311880 | 2.944675  |  6.661318 | \n",
       "| Exp       | Tmall     | 10        | 35.1      |  8.849984 | 2.798611  |  6.330897 | \n",
       "\n",
       "\n"
      ],
      "text/plain": [
       "  trial website N  duration sd        se       ci       \n",
       "1 Ctl   JD      10 58.5     23.329762 7.377518 16.689106\n",
       "2 Ctl   Tmall   10 54.5     20.956304 6.626965 14.991237\n",
       "3 Exp   JD      10 42.6      9.311880 2.944675  6.661318\n",
       "4 Exp   Tmall   10 35.1      8.849984 2.798611  6.330897"
      ]
     },
     "metadata": {},
     "output_type": "display_data"
    }
   ],
   "source": [
    "tastk_duration = summarySE(stat, measurevar=\"duration\", groupvars=c(\"trial\",\"website\"))\n",
    "tastk_duration"
   ]
  },
  {
   "cell_type": "code",
   "execution_count": 102,
   "metadata": {},
   "outputs": [
    {
     "name": "stderr",
     "output_type": "stream",
     "text": [
      "geom_path: Each group consists of only one observation. Do you need to adjust\n",
      "the group aesthetic?\n"
     ]
    },
    {
     "data": {},
     "metadata": {},
     "output_type": "display_data"
    },
    {
     "name": "stderr",
     "output_type": "stream",
     "text": [
      "geom_path: Each group consists of only one observation. Do you need to adjust\n",
      "the group aesthetic?\n"
     ]
    },
    {
     "data": {
      "image/png": "[encoded data removed]",
      "text/plain": [
       "plot without title"
      ]
     },
     "metadata": {},
     "output_type": "display_data",
     "source": "R display func"
    }
   ],
   "source": [
    "pd <- position_dodge(0.1)\n",
    "ggplot(tastk_duration, aes(x=trial, y=duration, colour=website)) + \n",
    "    geom_errorbar(aes(ymin=duration-ci, ymax=duration+ci), width=.1, position=pd) +\n",
    "    geom_line(position=pd) +\n",
    "    geom_point(position=pd)\n",
    "ggsave( file = \"pic//duration.png\", width = 5, height = 5, type = \"cairo\", dpi = 1200)"
   ]
  },
  {
   "cell_type": "markdown",
   "metadata": {},
   "source": [
    "### Operation"
   ]
  },
  {
   "cell_type": "code",
   "execution_count": 3,
   "metadata": {},
   "outputs": [
    {
     "data": {
      "text/html": [
       "<table>\n",
       "<thead><tr><th scope=col>Group.1</th><th scope=col>Group.2</th><th scope=col>x</th></tr></thead>\n",
       "<tbody>\n",
       "\t<tr><td>Ctl  </td><td>JD   </td><td>16.1 </td></tr>\n",
       "\t<tr><td>Exp  </td><td>JD   </td><td>15.0 </td></tr>\n",
       "\t<tr><td>Ctl  </td><td>Tmall</td><td>15.2 </td></tr>\n",
       "\t<tr><td>Exp  </td><td>Tmall</td><td>12.0 </td></tr>\n",
       "</tbody>\n",
       "</table>\n"
      ],
      "text/latex": [
       "\\begin{tabular}{r|lll}\n",
       " Group.1 & Group.2 & x\\\\\n",
       "\\hline\n",
       "\t Ctl   & JD    & 16.1 \\\\\n",
       "\t Exp   & JD    & 15.0 \\\\\n",
       "\t Ctl   & Tmall & 15.2 \\\\\n",
       "\t Exp   & Tmall & 12.0 \\\\\n",
       "\\end{tabular}\n"
      ],
      "text/markdown": [
       "\n",
       "Group.1 | Group.2 | x | \n",
       "|---|---|---|---|\n",
       "| Ctl   | JD    | 16.1  | \n",
       "| Exp   | JD    | 15.0  | \n",
       "| Ctl   | Tmall | 15.2  | \n",
       "| Exp   | Tmall | 12.0  | \n",
       "\n",
       "\n"
      ],
      "text/plain": [
       "  Group.1 Group.2 x   \n",
       "1 Ctl     JD      16.1\n",
       "2 Exp     JD      15.0\n",
       "3 Ctl     Tmall   15.2\n",
       "4 Exp     Tmall   12.0"
      ]
     },
     "metadata": {},
     "output_type": "display_data"
    },
    {
     "data": {
      "text/html": [
       "<table>\n",
       "<thead><tr><th scope=col>Group.1</th><th scope=col>Group.2</th><th scope=col>x</th></tr></thead>\n",
       "<tbody>\n",
       "\t<tr><td>Ctl     </td><td>JD      </td><td>5.279941</td></tr>\n",
       "\t<tr><td>Exp     </td><td>JD      </td><td>3.091206</td></tr>\n",
       "\t<tr><td>Ctl     </td><td>Tmall   </td><td>5.633235</td></tr>\n",
       "\t<tr><td>Exp     </td><td>Tmall   </td><td>1.943651</td></tr>\n",
       "</tbody>\n",
       "</table>\n"
      ],
      "text/latex": [
       "\\begin{tabular}{r|lll}\n",
       " Group.1 & Group.2 & x\\\\\n",
       "\\hline\n",
       "\t Ctl      & JD       & 5.279941\\\\\n",
       "\t Exp      & JD       & 3.091206\\\\\n",
       "\t Ctl      & Tmall    & 5.633235\\\\\n",
       "\t Exp      & Tmall    & 1.943651\\\\\n",
       "\\end{tabular}\n"
      ],
      "text/markdown": [
       "\n",
       "Group.1 | Group.2 | x | \n",
       "|---|---|---|---|\n",
       "| Ctl      | JD       | 5.279941 | \n",
       "| Exp      | JD       | 3.091206 | \n",
       "| Ctl      | Tmall    | 5.633235 | \n",
       "| Exp      | Tmall    | 1.943651 | \n",
       "\n",
       "\n"
      ],
      "text/plain": [
       "  Group.1 Group.2 x       \n",
       "1 Ctl     JD      5.279941\n",
       "2 Exp     JD      3.091206\n",
       "3 Ctl     Tmall   5.633235\n",
       "4 Exp     Tmall   1.943651"
      ]
     },
     "metadata": {},
     "output_type": "display_data"
    },
    {
     "data": {
      "text/plain": [
       "              Df Sum Sq Mean Sq F value Pr(>F)\n",
       "trial          1   46.2   46.22   2.535  0.120\n",
       "website        1   38.0   38.03   2.085  0.157\n",
       "trial:website  1   11.0   11.03   0.605  0.442\n",
       "Residuals     36  656.5   18.24               "
      ]
     },
     "metadata": {},
     "output_type": "display_data"
    }
   ],
   "source": [
    "attach(stat)\n",
    "aggregate(operation,by=list(trial,website),FUN=mean)\n",
    "aggregate(operation,by=list(trial,website),FUN=sd)\n",
    "stat.operation_aov = aov(operation ~ trial * website)\n",
    "detach(stat)\n",
    "summary(stat.operation_aov)"
   ]
  },
  {
   "cell_type": "code",
   "execution_count": 4,
   "metadata": {},
   "outputs": [
    {
     "data": {
      "text/html": [
       "<table>\n",
       "<thead><tr><th scope=col>term</th><th scope=col>df</th><th scope=col>sumsq</th><th scope=col>meansq</th><th scope=col>statistic</th><th scope=col>p.value</th><th scope=col>etasq</th><th scope=col>partial.etasq</th><th scope=col>omegasq</th><th scope=col>partial.omegasq</th><th scope=col>cohens.f</th><th scope=col>power</th></tr></thead>\n",
       "<tbody>\n",
       "\t<tr><td>trial        </td><td> 1           </td><td> 46.225      </td><td>46.225       </td><td>2.535        </td><td>0.120        </td><td>0.061        </td><td>0.066        </td><td> 0.036       </td><td> 0.037       </td><td>0.265        </td><td>0.357        </td></tr>\n",
       "\t<tr><td>website      </td><td> 1           </td><td> 38.025      </td><td>38.025       </td><td>2.085        </td><td>0.157        </td><td>0.051        </td><td>0.055        </td><td> 0.026       </td><td> 0.026       </td><td>0.241        </td><td>0.303        </td></tr>\n",
       "\t<tr><td>trial:website</td><td> 1           </td><td> 11.025      </td><td>11.025       </td><td>0.605        </td><td>0.442        </td><td>0.015        </td><td>0.017        </td><td>-0.009       </td><td>-0.010       </td><td>0.130        </td><td>0.122        </td></tr>\n",
       "\t<tr><td>Residuals    </td><td>36           </td><td>656.500      </td><td>18.236       </td><td>   NA        </td><td>   NA        </td><td>   NA        </td><td>   NA        </td><td>    NA       </td><td>    NA       </td><td>   NA        </td><td>   NA        </td></tr>\n",
       "</tbody>\n",
       "</table>\n"
      ],
      "text/latex": [
       "\\begin{tabular}{r|llllllllllll}\n",
       " term & df & sumsq & meansq & statistic & p.value & etasq & partial.etasq & omegasq & partial.omegasq & cohens.f & power\\\\\n",
       "\\hline\n",
       "\t trial         &  1            &  46.225       & 46.225        & 2.535         & 0.120         & 0.061         & 0.066         &  0.036        &  0.037        & 0.265         & 0.357        \\\\\n",
       "\t website       &  1            &  38.025       & 38.025        & 2.085         & 0.157         & 0.051         & 0.055         &  0.026        &  0.026        & 0.241         & 0.303        \\\\\n",
       "\t trial:website &  1            &  11.025       & 11.025        & 0.605         & 0.442         & 0.015         & 0.017         & -0.009        & -0.010        & 0.130         & 0.122        \\\\\n",
       "\t Residuals     & 36            & 656.500       & 18.236        &    NA         &    NA         &    NA         &    NA         &     NA        &     NA        &    NA         &    NA        \\\\\n",
       "\\end{tabular}\n"
      ],
      "text/markdown": [
       "\n",
       "term | df | sumsq | meansq | statistic | p.value | etasq | partial.etasq | omegasq | partial.omegasq | cohens.f | power | \n",
       "|---|---|---|---|\n",
       "| trial         |  1            |  46.225       | 46.225        | 2.535         | 0.120         | 0.061         | 0.066         |  0.036        |  0.037        | 0.265         | 0.357         | \n",
       "| website       |  1            |  38.025       | 38.025        | 2.085         | 0.157         | 0.051         | 0.055         |  0.026        |  0.026        | 0.241         | 0.303         | \n",
       "| trial:website |  1            |  11.025       | 11.025        | 0.605         | 0.442         | 0.015         | 0.017         | -0.009        | -0.010        | 0.130         | 0.122         | \n",
       "| Residuals     | 36            | 656.500       | 18.236        |    NA         |    NA         |    NA         |    NA         |     NA        |     NA        |    NA         |    NA         | \n",
       "\n",
       "\n"
      ],
      "text/plain": [
       "  term          df sumsq   meansq statistic p.value etasq partial.etasq omegasq\n",
       "1 trial          1  46.225 46.225 2.535     0.120   0.061 0.066          0.036 \n",
       "2 website        1  38.025 38.025 2.085     0.157   0.051 0.055          0.026 \n",
       "3 trial:website  1  11.025 11.025 0.605     0.442   0.015 0.017         -0.009 \n",
       "4 Residuals     36 656.500 18.236    NA        NA      NA    NA             NA \n",
       "  partial.omegasq cohens.f power\n",
       "1  0.037          0.265    0.357\n",
       "2  0.026          0.241    0.303\n",
       "3 -0.010          0.130    0.122\n",
       "4     NA             NA       NA"
      ]
     },
     "metadata": {},
     "output_type": "display_data"
    }
   ],
   "source": [
    "anova_stats(stat.operation_aov)    #counting effect size"
   ]
  },
  {
   "cell_type": "code",
   "execution_count": 5,
   "metadata": {},
   "outputs": [
    {
     "data": {
      "text/html": [
       "<table>\n",
       "<thead><tr><th scope=col>term</th><th scope=col>etasq</th></tr></thead>\n",
       "<tbody>\n",
       "\t<tr><td>trial        </td><td>0.06148781   </td></tr>\n",
       "\t<tr><td>website      </td><td>0.05058029   </td></tr>\n",
       "\t<tr><td>trial:website</td><td>0.01466529   </td></tr>\n",
       "</tbody>\n",
       "</table>\n"
      ],
      "text/latex": [
       "\\begin{tabular}{r|ll}\n",
       " term & etasq\\\\\n",
       "\\hline\n",
       "\t trial         & 0.06148781   \\\\\n",
       "\t website       & 0.05058029   \\\\\n",
       "\t trial:website & 0.01466529   \\\\\n",
       "\\end{tabular}\n"
      ],
      "text/markdown": [
       "\n",
       "term | etasq | \n",
       "|---|---|---|\n",
       "| trial         | 0.06148781    | \n",
       "| website       | 0.05058029    | \n",
       "| trial:website | 0.01466529    | \n",
       "\n",
       "\n"
      ],
      "text/plain": [
       "  term          etasq     \n",
       "1 trial         0.06148781\n",
       "2 website       0.05058029\n",
       "3 trial:website 0.01466529"
      ]
     },
     "metadata": {},
     "output_type": "display_data"
    }
   ],
   "source": [
    "eta_sq(stat.operation_aov)"
   ]
  },
  {
   "cell_type": "code",
   "execution_count": 6,
   "metadata": {},
   "outputs": [
    {
     "data": {
      "text/html": [
       "<table>\n",
       "<thead><tr><th scope=col>trial</th><th scope=col>website</th><th scope=col>N</th><th scope=col>operation</th><th scope=col>sd</th><th scope=col>se</th><th scope=col>ci</th></tr></thead>\n",
       "<tbody>\n",
       "\t<tr><td>Ctl      </td><td>JD       </td><td>10       </td><td>16.1     </td><td>5.279941 </td><td>1.6696640</td><td>3.777042 </td></tr>\n",
       "\t<tr><td>Ctl      </td><td>Tmall    </td><td>10       </td><td>15.2     </td><td>5.633235 </td><td>1.7813852</td><td>4.029773 </td></tr>\n",
       "\t<tr><td>Exp      </td><td>JD       </td><td>10       </td><td>15.0     </td><td>3.091206 </td><td>0.9775252</td><td>2.211316 </td></tr>\n",
       "\t<tr><td>Exp      </td><td>Tmall    </td><td>10       </td><td>12.0     </td><td>1.943651 </td><td>0.6146363</td><td>1.390404 </td></tr>\n",
       "</tbody>\n",
       "</table>\n"
      ],
      "text/latex": [
       "\\begin{tabular}{r|lllllll}\n",
       " trial & website & N & operation & sd & se & ci\\\\\n",
       "\\hline\n",
       "\t Ctl       & JD        & 10        & 16.1      & 5.279941  & 1.6696640 & 3.777042 \\\\\n",
       "\t Ctl       & Tmall     & 10        & 15.2      & 5.633235  & 1.7813852 & 4.029773 \\\\\n",
       "\t Exp       & JD        & 10        & 15.0      & 3.091206  & 0.9775252 & 2.211316 \\\\\n",
       "\t Exp       & Tmall     & 10        & 12.0      & 1.943651  & 0.6146363 & 1.390404 \\\\\n",
       "\\end{tabular}\n"
      ],
      "text/markdown": [
       "\n",
       "trial | website | N | operation | sd | se | ci | \n",
       "|---|---|---|---|\n",
       "| Ctl       | JD        | 10        | 16.1      | 5.279941  | 1.6696640 | 3.777042  | \n",
       "| Ctl       | Tmall     | 10        | 15.2      | 5.633235  | 1.7813852 | 4.029773  | \n",
       "| Exp       | JD        | 10        | 15.0      | 3.091206  | 0.9775252 | 2.211316  | \n",
       "| Exp       | Tmall     | 10        | 12.0      | 1.943651  | 0.6146363 | 1.390404  | \n",
       "\n",
       "\n"
      ],
      "text/plain": [
       "  trial website N  operation sd       se        ci      \n",
       "1 Ctl   JD      10 16.1      5.279941 1.6696640 3.777042\n",
       "2 Ctl   Tmall   10 15.2      5.633235 1.7813852 4.029773\n",
       "3 Exp   JD      10 15.0      3.091206 0.9775252 2.211316\n",
       "4 Exp   Tmall   10 12.0      1.943651 0.6146363 1.390404"
      ]
     },
     "metadata": {},
     "output_type": "display_data"
    }
   ],
   "source": [
    "tastk_operation = summarySE(stat, measurevar=\"operation\", groupvars=c(\"trial\",\"website\"))\n",
    "tastk_operation"
   ]
  },
  {
   "cell_type": "code",
   "execution_count": 7,
   "metadata": {},
   "outputs": [
    {
     "name": "stderr",
     "output_type": "stream",
     "text": [
      "geom_path: Each group consists of only one observation. Do you need to adjust\n",
      "the group aesthetic?\n"
     ]
    },
    {
     "data": {},
     "metadata": {},
     "output_type": "display_data"
    },
    {
     "name": "stderr",
     "output_type": "stream",
     "text": [
      "geom_path: Each group consists of only one observation. Do you need to adjust\n",
      "the group aesthetic?\n"
     ]
    },
    {
     "data": {
      "image/png": "[encoded data removed]",
      "text/plain": [
       "plot without title"
      ]
     },
     "metadata": {},
     "output_type": "display_data",
     "source": "R display func"
    }
   ],
   "source": [
    "pd <- position_dodge(0.1)\n",
    "ggplot(tastk_operation, aes(x=trial, y=operation, colour=website)) + \n",
    "    geom_errorbar(aes(ymin=operation-ci, ymax=operation+ci), width=.1, position=pd) +\n",
    "    geom_line(position=pd) +\n",
    "    geom_point(position=pd)\n",
    "ggsave( file = \"pic//operation.png\", width = 5, height = 5, type = \"cairo\", dpi = 1200)"
   ]
  },
  {
   "cell_type": "markdown",
   "metadata": {
    "toc-hr-collapsed": true
   },
   "source": [
    "# Eye-Tracking"
   ]
  },
  {
   "cell_type": "markdown",
   "metadata": {},
   "source": [
    "## Fixation"
   ]
  },
  {
   "cell_type": "code",
   "execution_count": 86,
   "metadata": {},
   "outputs": [
    {
     "data": {
      "text/html": [
       "<table>\n",
       "<thead><tr><th scope=col>Group.1</th><th scope=col>Group.2</th><th scope=col>x</th></tr></thead>\n",
       "<tbody>\n",
       "\t<tr><td>Ctl  </td><td>JD   </td><td>3.655</td></tr>\n",
       "\t<tr><td>Exp  </td><td>JD   </td><td>2.631</td></tr>\n",
       "\t<tr><td>Ctl  </td><td>Tmall</td><td>3.523</td></tr>\n",
       "\t<tr><td>Exp  </td><td>Tmall</td><td>2.580</td></tr>\n",
       "</tbody>\n",
       "</table>\n"
      ],
      "text/latex": [
       "\\begin{tabular}{r|lll}\n",
       " Group.1 & Group.2 & x\\\\\n",
       "\\hline\n",
       "\t Ctl   & JD    & 3.655\\\\\n",
       "\t Exp   & JD    & 2.631\\\\\n",
       "\t Ctl   & Tmall & 3.523\\\\\n",
       "\t Exp   & Tmall & 2.580\\\\\n",
       "\\end{tabular}\n"
      ],
      "text/markdown": [
       "\n",
       "Group.1 | Group.2 | x | \n",
       "|---|---|---|---|\n",
       "| Ctl   | JD    | 3.655 | \n",
       "| Exp   | JD    | 2.631 | \n",
       "| Ctl   | Tmall | 3.523 | \n",
       "| Exp   | Tmall | 2.580 | \n",
       "\n",
       "\n"
      ],
      "text/plain": [
       "  Group.1 Group.2 x    \n",
       "1 Ctl     JD      3.655\n",
       "2 Exp     JD      2.631\n",
       "3 Ctl     Tmall   3.523\n",
       "4 Exp     Tmall   2.580"
      ]
     },
     "metadata": {},
     "output_type": "display_data"
    },
    {
     "data": {
      "text/html": [
       "<table>\n",
       "<thead><tr><th scope=col>Group.1</th><th scope=col>Group.2</th><th scope=col>x</th></tr></thead>\n",
       "<tbody>\n",
       "\t<tr><td>Ctl      </td><td>JD       </td><td>1.4225896</td></tr>\n",
       "\t<tr><td>Exp      </td><td>JD       </td><td>0.2888464</td></tr>\n",
       "\t<tr><td>Ctl      </td><td>Tmall    </td><td>1.8318664</td></tr>\n",
       "\t<tr><td>Exp      </td><td>Tmall    </td><td>0.2419366</td></tr>\n",
       "</tbody>\n",
       "</table>\n"
      ],
      "text/latex": [
       "\\begin{tabular}{r|lll}\n",
       " Group.1 & Group.2 & x\\\\\n",
       "\\hline\n",
       "\t Ctl       & JD        & 1.4225896\\\\\n",
       "\t Exp       & JD        & 0.2888464\\\\\n",
       "\t Ctl       & Tmall     & 1.8318664\\\\\n",
       "\t Exp       & Tmall     & 0.2419366\\\\\n",
       "\\end{tabular}\n"
      ],
      "text/markdown": [
       "\n",
       "Group.1 | Group.2 | x | \n",
       "|---|---|---|---|\n",
       "| Ctl       | JD        | 1.4225896 | \n",
       "| Exp       | JD        | 0.2888464 | \n",
       "| Ctl       | Tmall     | 1.8318664 | \n",
       "| Exp       | Tmall     | 0.2419366 | \n",
       "\n",
       "\n"
      ],
      "text/plain": [
       "  Group.1 Group.2 x        \n",
       "1 Ctl     JD      1.4225896\n",
       "2 Exp     JD      0.2888464\n",
       "3 Ctl     Tmall   1.8318664\n",
       "4 Exp     Tmall   0.2419366"
      ]
     },
     "metadata": {},
     "output_type": "display_data"
    },
    {
     "data": {
      "text/plain": [
       "              Df Sum Sq Mean Sq F value Pr(>F)  \n",
       "trial          1   9.67   9.673   7.007  0.012 *\n",
       "website        1   0.08   0.084   0.061  0.807  \n",
       "trial:website  1   0.02   0.016   0.012  0.914  \n",
       "Residuals     36  49.69   1.380                 \n",
       "---\n",
       "Signif. codes:  0 ‘***’ 0.001 ‘**’ 0.01 ‘*’ 0.05 ‘.’ 0.1 ‘ ’ 1"
      ]
     },
     "metadata": {},
     "output_type": "display_data"
    }
   ],
   "source": [
    "attach(stat)\n",
    "aggregate(fixation_count,by=list(trial,website),FUN=mean)\n",
    "aggregate(fixation_count,by=list(trial,website),FUN=sd)\n",
    "stat.fixation_aov = aov(fixation_count ~ trial * website)\n",
    "detach(stat)\n",
    "summary(stat.fixation_aov)"
   ]
  },
  {
   "cell_type": "code",
   "execution_count": 87,
   "metadata": {},
   "outputs": [
    {
     "data": {
      "text/html": [
       "<table>\n",
       "<thead><tr><th scope=col>term</th><th scope=col>df</th><th scope=col>sumsq</th><th scope=col>meansq</th><th scope=col>statistic</th><th scope=col>p.value</th><th scope=col>etasq</th><th scope=col>partial.etasq</th><th scope=col>omegasq</th><th scope=col>partial.omegasq</th><th scope=col>cohens.f</th><th scope=col>power</th></tr></thead>\n",
       "<tbody>\n",
       "\t<tr><td>trial        </td><td> 1           </td><td> 9.673       </td><td>9.673        </td><td>7.007        </td><td>0.012        </td><td>0.163        </td><td>0.163        </td><td> 0.136       </td><td> 0.131       </td><td>0.441        </td><td>0.754        </td></tr>\n",
       "\t<tr><td>website      </td><td> 1           </td><td> 0.084       </td><td>0.084        </td><td>0.061        </td><td>0.807        </td><td>0.001        </td><td>0.002        </td><td>-0.021       </td><td>-0.024       </td><td>0.041        </td><td>0.057        </td></tr>\n",
       "\t<tr><td>trial:website</td><td> 1           </td><td> 0.016       </td><td>0.016        </td><td>0.012        </td><td>0.914        </td><td>0.000        </td><td>0.000        </td><td>-0.022       </td><td>-0.025       </td><td>0.018        </td><td>0.051        </td></tr>\n",
       "\t<tr><td>Residuals    </td><td>36           </td><td>49.693       </td><td>1.380        </td><td>   NA        </td><td>   NA        </td><td>   NA        </td><td>   NA        </td><td>    NA       </td><td>    NA       </td><td>   NA        </td><td>   NA        </td></tr>\n",
       "</tbody>\n",
       "</table>\n"
      ],
      "text/latex": [
       "\\begin{tabular}{r|llllllllllll}\n",
       " term & df & sumsq & meansq & statistic & p.value & etasq & partial.etasq & omegasq & partial.omegasq & cohens.f & power\\\\\n",
       "\\hline\n",
       "\t trial         &  1            &  9.673        & 9.673         & 7.007         & 0.012         & 0.163         & 0.163         &  0.136        &  0.131        & 0.441         & 0.754        \\\\\n",
       "\t website       &  1            &  0.084        & 0.084         & 0.061         & 0.807         & 0.001         & 0.002         & -0.021        & -0.024        & 0.041         & 0.057        \\\\\n",
       "\t trial:website &  1            &  0.016        & 0.016         & 0.012         & 0.914         & 0.000         & 0.000         & -0.022        & -0.025        & 0.018         & 0.051        \\\\\n",
       "\t Residuals     & 36            & 49.693        & 1.380         &    NA         &    NA         &    NA         &    NA         &     NA        &     NA        &    NA         &    NA        \\\\\n",
       "\\end{tabular}\n"
      ],
      "text/markdown": [
       "\n",
       "term | df | sumsq | meansq | statistic | p.value | etasq | partial.etasq | omegasq | partial.omegasq | cohens.f | power | \n",
       "|---|---|---|---|\n",
       "| trial         |  1            |  9.673        | 9.673         | 7.007         | 0.012         | 0.163         | 0.163         |  0.136        |  0.131        | 0.441         | 0.754         | \n",
       "| website       |  1            |  0.084        | 0.084         | 0.061         | 0.807         | 0.001         | 0.002         | -0.021        | -0.024        | 0.041         | 0.057         | \n",
       "| trial:website |  1            |  0.016        | 0.016         | 0.012         | 0.914         | 0.000         | 0.000         | -0.022        | -0.025        | 0.018         | 0.051         | \n",
       "| Residuals     | 36            | 49.693        | 1.380         |    NA         |    NA         |    NA         |    NA         |     NA        |     NA        |    NA         |    NA         | \n",
       "\n",
       "\n"
      ],
      "text/plain": [
       "  term          df sumsq  meansq statistic p.value etasq partial.etasq omegasq\n",
       "1 trial          1  9.673 9.673  7.007     0.012   0.163 0.163          0.136 \n",
       "2 website        1  0.084 0.084  0.061     0.807   0.001 0.002         -0.021 \n",
       "3 trial:website  1  0.016 0.016  0.012     0.914   0.000 0.000         -0.022 \n",
       "4 Residuals     36 49.693 1.380     NA        NA      NA    NA             NA \n",
       "  partial.omegasq cohens.f power\n",
       "1  0.131          0.441    0.754\n",
       "2 -0.024          0.041    0.057\n",
       "3 -0.025          0.018    0.051\n",
       "4     NA             NA       NA"
      ]
     },
     "metadata": {},
     "output_type": "display_data"
    }
   ],
   "source": [
    "anova_stats(stat.fixation_aov)    #counting effect size"
   ]
  },
  {
   "cell_type": "code",
   "execution_count": 88,
   "metadata": {},
   "outputs": [
    {
     "data": {
      "text/html": [
       "<table>\n",
       "<thead><tr><th scope=col>term</th><th scope=col>etasq</th></tr></thead>\n",
       "<tbody>\n",
       "\t<tr><td>trial        </td><td>0.1626597200 </td></tr>\n",
       "\t<tr><td>website      </td><td>0.0014079054 </td></tr>\n",
       "\t<tr><td>trial:website</td><td>0.0002758299 </td></tr>\n",
       "</tbody>\n",
       "</table>\n"
      ],
      "text/latex": [
       "\\begin{tabular}{r|ll}\n",
       " term & etasq\\\\\n",
       "\\hline\n",
       "\t trial         & 0.1626597200 \\\\\n",
       "\t website       & 0.0014079054 \\\\\n",
       "\t trial:website & 0.0002758299 \\\\\n",
       "\\end{tabular}\n"
      ],
      "text/markdown": [
       "\n",
       "term | etasq | \n",
       "|---|---|---|\n",
       "| trial         | 0.1626597200  | \n",
       "| website       | 0.0014079054  | \n",
       "| trial:website | 0.0002758299  | \n",
       "\n",
       "\n"
      ],
      "text/plain": [
       "  term          etasq       \n",
       "1 trial         0.1626597200\n",
       "2 website       0.0014079054\n",
       "3 trial:website 0.0002758299"
      ]
     },
     "metadata": {},
     "output_type": "display_data"
    }
   ],
   "source": [
    "eta_sq(stat.fixation_aov)"
   ]
  },
  {
   "cell_type": "code",
   "execution_count": 89,
   "metadata": {},
   "outputs": [
    {
     "data": {
      "text/html": [
       "<table>\n",
       "<thead><tr><th scope=col>trial</th><th scope=col>website</th><th scope=col>N</th><th scope=col>fixation_count</th><th scope=col>sd</th><th scope=col>se</th><th scope=col>ci</th></tr></thead>\n",
       "<tbody>\n",
       "\t<tr><td>Ctl       </td><td>JD        </td><td>10        </td><td>3.655     </td><td>1.4225896 </td><td>0.44986232</td><td>1.0176593 </td></tr>\n",
       "\t<tr><td>Ctl       </td><td>Tmall     </td><td>10        </td><td>3.523     </td><td>1.8318664 </td><td>0.57928701</td><td>1.3104383 </td></tr>\n",
       "\t<tr><td>Exp       </td><td>JD        </td><td>10        </td><td>2.631     </td><td>0.2888464 </td><td>0.09134124</td><td>0.2066282 </td></tr>\n",
       "\t<tr><td>Exp       </td><td>Tmall     </td><td>10        </td><td>2.580     </td><td>0.2419366 </td><td>0.07650708</td><td>0.1730710 </td></tr>\n",
       "</tbody>\n",
       "</table>\n"
      ],
      "text/latex": [
       "\\begin{tabular}{r|lllllll}\n",
       " trial & website & N & fixation\\_count & sd & se & ci\\\\\n",
       "\\hline\n",
       "\t Ctl        & JD         & 10         & 3.655      & 1.4225896  & 0.44986232 & 1.0176593 \\\\\n",
       "\t Ctl        & Tmall      & 10         & 3.523      & 1.8318664  & 0.57928701 & 1.3104383 \\\\\n",
       "\t Exp        & JD         & 10         & 2.631      & 0.2888464  & 0.09134124 & 0.2066282 \\\\\n",
       "\t Exp        & Tmall      & 10         & 2.580      & 0.2419366  & 0.07650708 & 0.1730710 \\\\\n",
       "\\end{tabular}\n"
      ],
      "text/markdown": [
       "\n",
       "trial | website | N | fixation_count | sd | se | ci | \n",
       "|---|---|---|---|\n",
       "| Ctl        | JD         | 10         | 3.655      | 1.4225896  | 0.44986232 | 1.0176593  | \n",
       "| Ctl        | Tmall      | 10         | 3.523      | 1.8318664  | 0.57928701 | 1.3104383  | \n",
       "| Exp        | JD         | 10         | 2.631      | 0.2888464  | 0.09134124 | 0.2066282  | \n",
       "| Exp        | Tmall      | 10         | 2.580      | 0.2419366  | 0.07650708 | 0.1730710  | \n",
       "\n",
       "\n"
      ],
      "text/plain": [
       "  trial website N  fixation_count sd        se         ci       \n",
       "1 Ctl   JD      10 3.655          1.4225896 0.44986232 1.0176593\n",
       "2 Ctl   Tmall   10 3.523          1.8318664 0.57928701 1.3104383\n",
       "3 Exp   JD      10 2.631          0.2888464 0.09134124 0.2066282\n",
       "4 Exp   Tmall   10 2.580          0.2419366 0.07650708 0.1730710"
      ]
     },
     "metadata": {},
     "output_type": "display_data"
    }
   ],
   "source": [
    "tastk_fixation = summarySE(stat, measurevar=\"fixation_count\", groupvars=c(\"trial\",\"website\"))\n",
    "tastk_fixation"
   ]
  },
  {
   "cell_type": "code",
   "execution_count": 104,
   "metadata": {},
   "outputs": [
    {
     "name": "stderr",
     "output_type": "stream",
     "text": [
      "geom_path: Each group consists of only one observation. Do you need to adjust\n",
      "the group aesthetic?\n"
     ]
    },
    {
     "data": {},
     "metadata": {},
     "output_type": "display_data"
    },
    {
     "name": "stderr",
     "output_type": "stream",
     "text": [
      "geom_path: Each group consists of only one observation. Do you need to adjust\n",
      "the group aesthetic?\n"
     ]
    },
    {
     "data": {
      "image/png": "[encoded data removed]",
      "text/plain": [
       "plot without title"
      ]
     },
     "metadata": {},
     "output_type": "display_data",
     "source": "R display func"
    }
   ],
   "source": [
    "pd <- position_dodge(0.1)\n",
    "ggplot(tastk_fixation, aes(x=trial, y=fixation_count, colour=website)) + \n",
    "    geom_errorbar(aes(ymin=fixation_count-ci, ymax=fixation_count+ci), width=.1, position=pd) +\n",
    "    geom_line(position=pd) +\n",
    "    geom_point(position=pd)\n",
    "ggsave( file = \"pic//fixation.png\", width = 5, height = 5, type = \"cairo\", dpi = 1200)"
   ]
  },
  {
   "cell_type": "markdown",
   "metadata": {},
   "source": [
    "## Blink"
   ]
  },
  {
   "cell_type": "code",
   "execution_count": 97,
   "metadata": {},
   "outputs": [
    {
     "data": {
      "text/html": [
       "<table>\n",
       "<thead><tr><th scope=col>Group.1</th><th scope=col>Group.2</th><th scope=col>x</th></tr></thead>\n",
       "<tbody>\n",
       "\t<tr><td>Ctl  </td><td>JD   </td><td>4.660</td></tr>\n",
       "\t<tr><td>Exp  </td><td>JD   </td><td>5.559</td></tr>\n",
       "\t<tr><td>Ctl  </td><td>Tmall</td><td>4.029</td></tr>\n",
       "\t<tr><td>Exp  </td><td>Tmall</td><td>6.190</td></tr>\n",
       "</tbody>\n",
       "</table>\n"
      ],
      "text/latex": [
       "\\begin{tabular}{r|lll}\n",
       " Group.1 & Group.2 & x\\\\\n",
       "\\hline\n",
       "\t Ctl   & JD    & 4.660\\\\\n",
       "\t Exp   & JD    & 5.559\\\\\n",
       "\t Ctl   & Tmall & 4.029\\\\\n",
       "\t Exp   & Tmall & 6.190\\\\\n",
       "\\end{tabular}\n"
      ],
      "text/markdown": [
       "\n",
       "Group.1 | Group.2 | x | \n",
       "|---|---|---|---|\n",
       "| Ctl   | JD    | 4.660 | \n",
       "| Exp   | JD    | 5.559 | \n",
       "| Ctl   | Tmall | 4.029 | \n",
       "| Exp   | Tmall | 6.190 | \n",
       "\n",
       "\n"
      ],
      "text/plain": [
       "  Group.1 Group.2 x    \n",
       "1 Ctl     JD      4.660\n",
       "2 Exp     JD      5.559\n",
       "3 Ctl     Tmall   4.029\n",
       "4 Exp     Tmall   6.190"
      ]
     },
     "metadata": {},
     "output_type": "display_data"
    },
    {
     "data": {
      "text/html": [
       "<table>\n",
       "<thead><tr><th scope=col>Group.1</th><th scope=col>Group.2</th><th scope=col>x</th></tr></thead>\n",
       "<tbody>\n",
       "\t<tr><td>Ctl     </td><td>JD      </td><td>2.473037</td></tr>\n",
       "\t<tr><td>Exp     </td><td>JD      </td><td>1.913580</td></tr>\n",
       "\t<tr><td>Ctl     </td><td>Tmall   </td><td>1.320399</td></tr>\n",
       "\t<tr><td>Exp     </td><td>Tmall   </td><td>2.233801</td></tr>\n",
       "</tbody>\n",
       "</table>\n"
      ],
      "text/latex": [
       "\\begin{tabular}{r|lll}\n",
       " Group.1 & Group.2 & x\\\\\n",
       "\\hline\n",
       "\t Ctl      & JD       & 2.473037\\\\\n",
       "\t Exp      & JD       & 1.913580\\\\\n",
       "\t Ctl      & Tmall    & 1.320399\\\\\n",
       "\t Exp      & Tmall    & 2.233801\\\\\n",
       "\\end{tabular}\n"
      ],
      "text/markdown": [
       "\n",
       "Group.1 | Group.2 | x | \n",
       "|---|---|---|---|\n",
       "| Ctl      | JD       | 2.473037 | \n",
       "| Exp      | JD       | 1.913580 | \n",
       "| Ctl      | Tmall    | 1.320399 | \n",
       "| Exp      | Tmall    | 2.233801 | \n",
       "\n",
       "\n"
      ],
      "text/plain": [
       "  Group.1 Group.2 x       \n",
       "1 Ctl     JD      2.473037\n",
       "2 Exp     JD      1.913580\n",
       "3 Ctl     Tmall   1.320399\n",
       "4 Exp     Tmall   2.233801"
      ]
     },
     "metadata": {},
     "output_type": "display_data"
    },
    {
     "data": {
      "text/plain": [
       "              Df Sum Sq Mean Sq F value Pr(>F)  \n",
       "trial          1  23.41  23.409   5.671 0.0227 *\n",
       "website        1   0.00   0.000   0.000 1.0000  \n",
       "trial:website  1   3.98   3.982   0.965 0.3326  \n",
       "Residuals     36 148.60   4.128                 \n",
       "---\n",
       "Signif. codes:  0 ‘***’ 0.001 ‘**’ 0.01 ‘*’ 0.05 ‘.’ 0.1 ‘ ’ 1"
      ]
     },
     "metadata": {},
     "output_type": "display_data"
    }
   ],
   "source": [
    "attach(stat)\n",
    "aggregate(blink_interval,by=list(trial,website),FUN=mean)\n",
    "aggregate(blink_interval,by=list(trial,website),FUN=sd)\n",
    "stat.blink_aov = aov(blink_interval ~ trial * website)\n",
    "detach(stat)\n",
    "summary(stat.blink_aov)"
   ]
  },
  {
   "cell_type": "code",
   "execution_count": 98,
   "metadata": {},
   "outputs": [
    {
     "data": {
      "text/html": [
       "<table>\n",
       "<thead><tr><th scope=col>term</th><th scope=col>df</th><th scope=col>sumsq</th><th scope=col>meansq</th><th scope=col>statistic</th><th scope=col>p.value</th><th scope=col>etasq</th><th scope=col>partial.etasq</th><th scope=col>omegasq</th><th scope=col>partial.omegasq</th><th scope=col>cohens.f</th><th scope=col>power</th></tr></thead>\n",
       "<tbody>\n",
       "\t<tr><td>trial        </td><td> 1           </td><td> 23.409      </td><td>23.409       </td><td>5.671        </td><td>0.023        </td><td>0.133        </td><td>0.136        </td><td> 0.107       </td><td> 0.105       </td><td>0.397        </td><td>0.663        </td></tr>\n",
       "\t<tr><td>website      </td><td> 1           </td><td>  0.000      </td><td> 0.000       </td><td>0.000        </td><td>1.000        </td><td>0.000        </td><td>0.000        </td><td>-0.023       </td><td>-0.026       </td><td>0.000        </td><td>0.050        </td></tr>\n",
       "\t<tr><td>trial:website</td><td> 1           </td><td>  3.982      </td><td> 3.982       </td><td>0.965        </td><td>0.333        </td><td>0.023        </td><td>0.026        </td><td>-0.001       </td><td>-0.001       </td><td>0.164        </td><td>0.166        </td></tr>\n",
       "\t<tr><td>Residuals    </td><td>36           </td><td>148.599      </td><td> 4.128       </td><td>   NA        </td><td>   NA        </td><td>   NA        </td><td>   NA        </td><td>    NA       </td><td>    NA       </td><td>   NA        </td><td>   NA        </td></tr>\n",
       "</tbody>\n",
       "</table>\n"
      ],
      "text/latex": [
       "\\begin{tabular}{r|llllllllllll}\n",
       " term & df & sumsq & meansq & statistic & p.value & etasq & partial.etasq & omegasq & partial.omegasq & cohens.f & power\\\\\n",
       "\\hline\n",
       "\t trial         &  1            &  23.409       & 23.409        & 5.671         & 0.023         & 0.133         & 0.136         &  0.107        &  0.105        & 0.397         & 0.663        \\\\\n",
       "\t website       &  1            &   0.000       &  0.000        & 0.000         & 1.000         & 0.000         & 0.000         & -0.023        & -0.026        & 0.000         & 0.050        \\\\\n",
       "\t trial:website &  1            &   3.982       &  3.982        & 0.965         & 0.333         & 0.023         & 0.026         & -0.001        & -0.001        & 0.164         & 0.166        \\\\\n",
       "\t Residuals     & 36            & 148.599       &  4.128        &    NA         &    NA         &    NA         &    NA         &     NA        &     NA        &    NA         &    NA        \\\\\n",
       "\\end{tabular}\n"
      ],
      "text/markdown": [
       "\n",
       "term | df | sumsq | meansq | statistic | p.value | etasq | partial.etasq | omegasq | partial.omegasq | cohens.f | power | \n",
       "|---|---|---|---|\n",
       "| trial         |  1            |  23.409       | 23.409        | 5.671         | 0.023         | 0.133         | 0.136         |  0.107        |  0.105        | 0.397         | 0.663         | \n",
       "| website       |  1            |   0.000       |  0.000        | 0.000         | 1.000         | 0.000         | 0.000         | -0.023        | -0.026        | 0.000         | 0.050         | \n",
       "| trial:website |  1            |   3.982       |  3.982        | 0.965         | 0.333         | 0.023         | 0.026         | -0.001        | -0.001        | 0.164         | 0.166         | \n",
       "| Residuals     | 36            | 148.599       |  4.128        |    NA         |    NA         |    NA         |    NA         |     NA        |     NA        |    NA         |    NA         | \n",
       "\n",
       "\n"
      ],
      "text/plain": [
       "  term          df sumsq   meansq statistic p.value etasq partial.etasq omegasq\n",
       "1 trial          1  23.409 23.409 5.671     0.023   0.133 0.136          0.107 \n",
       "2 website        1   0.000  0.000 0.000     1.000   0.000 0.000         -0.023 \n",
       "3 trial:website  1   3.982  3.982 0.965     0.333   0.023 0.026         -0.001 \n",
       "4 Residuals     36 148.599  4.128    NA        NA      NA    NA             NA \n",
       "  partial.omegasq cohens.f power\n",
       "1  0.105          0.397    0.663\n",
       "2 -0.026          0.000    0.050\n",
       "3 -0.001          0.164    0.166\n",
       "4     NA             NA       NA"
      ]
     },
     "metadata": {},
     "output_type": "display_data"
    }
   ],
   "source": [
    "anova_stats(stat.blink_aov)    #counting effect size"
   ]
  },
  {
   "cell_type": "code",
   "execution_count": 99,
   "metadata": {},
   "outputs": [
    {
     "data": {
      "text/html": [
       "<table>\n",
       "<thead><tr><th scope=col>term</th><th scope=col>etasq</th></tr></thead>\n",
       "<tbody>\n",
       "\t<tr><td>trial        </td><td>1.330134e-01 </td></tr>\n",
       "\t<tr><td>website      </td><td>3.142623e-34 </td></tr>\n",
       "\t<tr><td>trial:website</td><td>2.262410e-02 </td></tr>\n",
       "</tbody>\n",
       "</table>\n"
      ],
      "text/latex": [
       "\\begin{tabular}{r|ll}\n",
       " term & etasq\\\\\n",
       "\\hline\n",
       "\t trial         & 1.330134e-01 \\\\\n",
       "\t website       & 3.142623e-34 \\\\\n",
       "\t trial:website & 2.262410e-02 \\\\\n",
       "\\end{tabular}\n"
      ],
      "text/markdown": [
       "\n",
       "term | etasq | \n",
       "|---|---|---|\n",
       "| trial         | 1.330134e-01  | \n",
       "| website       | 3.142623e-34  | \n",
       "| trial:website | 2.262410e-02  | \n",
       "\n",
       "\n"
      ],
      "text/plain": [
       "  term          etasq       \n",
       "1 trial         1.330134e-01\n",
       "2 website       3.142623e-34\n",
       "3 trial:website 2.262410e-02"
      ]
     },
     "metadata": {},
     "output_type": "display_data"
    }
   ],
   "source": [
    "eta_sq(stat.blink_aov)"
   ]
  },
  {
   "cell_type": "code",
   "execution_count": 100,
   "metadata": {},
   "outputs": [
    {
     "data": {
      "text/html": [
       "<table>\n",
       "<thead><tr><th scope=col>trial</th><th scope=col>website</th><th scope=col>N</th><th scope=col>blink_interval</th><th scope=col>sd</th><th scope=col>se</th><th scope=col>ci</th></tr></thead>\n",
       "<tbody>\n",
       "\t<tr><td>Ctl      </td><td>JD       </td><td>10       </td><td>4.660    </td><td>2.473037 </td><td>0.7820429</td><td>1.7691040</td></tr>\n",
       "\t<tr><td>Ctl      </td><td>Tmall    </td><td>10       </td><td>4.029    </td><td>1.320399 </td><td>0.4175469</td><td>0.9445568</td></tr>\n",
       "\t<tr><td>Exp      </td><td>JD       </td><td>10       </td><td>5.559    </td><td>1.913580 </td><td>0.6051271</td><td>1.3688925</td></tr>\n",
       "\t<tr><td>Exp      </td><td>Tmall    </td><td>10       </td><td>6.190    </td><td>2.233801 </td><td>0.7063899</td><td>1.5979649</td></tr>\n",
       "</tbody>\n",
       "</table>\n"
      ],
      "text/latex": [
       "\\begin{tabular}{r|lllllll}\n",
       " trial & website & N & blink\\_interval & sd & se & ci\\\\\n",
       "\\hline\n",
       "\t Ctl       & JD        & 10        & 4.660     & 2.473037  & 0.7820429 & 1.7691040\\\\\n",
       "\t Ctl       & Tmall     & 10        & 4.029     & 1.320399  & 0.4175469 & 0.9445568\\\\\n",
       "\t Exp       & JD        & 10        & 5.559     & 1.913580  & 0.6051271 & 1.3688925\\\\\n",
       "\t Exp       & Tmall     & 10        & 6.190     & 2.233801  & 0.7063899 & 1.5979649\\\\\n",
       "\\end{tabular}\n"
      ],
      "text/markdown": [
       "\n",
       "trial | website | N | blink_interval | sd | se | ci | \n",
       "|---|---|---|---|\n",
       "| Ctl       | JD        | 10        | 4.660     | 2.473037  | 0.7820429 | 1.7691040 | \n",
       "| Ctl       | Tmall     | 10        | 4.029     | 1.320399  | 0.4175469 | 0.9445568 | \n",
       "| Exp       | JD        | 10        | 5.559     | 1.913580  | 0.6051271 | 1.3688925 | \n",
       "| Exp       | Tmall     | 10        | 6.190     | 2.233801  | 0.7063899 | 1.5979649 | \n",
       "\n",
       "\n"
      ],
      "text/plain": [
       "  trial website N  blink_interval sd       se        ci       \n",
       "1 Ctl   JD      10 4.660          2.473037 0.7820429 1.7691040\n",
       "2 Ctl   Tmall   10 4.029          1.320399 0.4175469 0.9445568\n",
       "3 Exp   JD      10 5.559          1.913580 0.6051271 1.3688925\n",
       "4 Exp   Tmall   10 6.190          2.233801 0.7063899 1.5979649"
      ]
     },
     "metadata": {},
     "output_type": "display_data"
    }
   ],
   "source": [
    "tastk_blink = summarySE(stat, measurevar=\"blink_interval\", groupvars=c(\"trial\",\"website\"))\n",
    "tastk_blink"
   ]
  },
  {
   "cell_type": "code",
   "execution_count": 105,
   "metadata": {},
   "outputs": [
    {
     "name": "stderr",
     "output_type": "stream",
     "text": [
      "geom_path: Each group consists of only one observation. Do you need to adjust\n",
      "the group aesthetic?\n"
     ]
    },
    {
     "data": {},
     "metadata": {},
     "output_type": "display_data"
    },
    {
     "name": "stderr",
     "output_type": "stream",
     "text": [
      "geom_path: Each group consists of only one observation. Do you need to adjust\n",
      "the group aesthetic?\n"
     ]
    },
    {
     "data": {
      "image/png": "[encoded data removed]",
      "text/plain": [
       "plot without title"
      ]
     },
     "metadata": {},
     "output_type": "display_data",
     "source": "R display func"
    }
   ],
   "source": [
    "pd <- position_dodge(0.1)\n",
    "ggplot(tastk_blink, aes(x=trial, y=blink_interval, colour=website)) + \n",
    "    geom_errorbar(aes(ymin=blink_interval-ci, ymax=blink_interval+ci), width=.1, position=pd) +\n",
    "    geom_line(position=pd) +\n",
    "    geom_point(position=pd)\n",
    "ggsave( file = \"pic//blink.png\", width = 5, height = 5, type = \"cairo\", dpi = 1200)"
   ]
  }
 ],
 "metadata": {
  "kernelspec": {
   "display_name": "R",
   "language": "R",
   "name": "ir"
  },
  "language_info": {
   "codemirror_mode": "r",
   "file_extension": ".r",
   "mimetype": "text/x-r-source",
   "name": "R",
   "pygments_lexer": "r",
   "version": "3.5.1"
  }
 },
 "nbformat": 4,
 "nbformat_minor": 2
}
