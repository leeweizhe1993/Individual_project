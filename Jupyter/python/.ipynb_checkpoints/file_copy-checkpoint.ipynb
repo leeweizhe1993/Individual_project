{
 "cells": [
  {
   "cell_type": "code",
   "execution_count": 28,
   "metadata": {},
   "outputs": [],
   "source": [
    "import sys, os, shutil, zipfile"
   ]
  },
  {
   "cell_type": "code",
   "execution_count": 25,
   "metadata": {},
   "outputs": [
    {
     "name": "stdout",
     "output_type": "stream",
     "text": [
      "['e2s1', 'e2s10', 'e2s11', 'e2s12', 'e2s13', 'e2s14', 'e2s15', 'e2s16', 'e2s17', 'e2s18', 'e2s19', 'e2s2', 'e2s20', 'e2s21', 'e2s3', 'e2s4', 'e2s5', 'e2s6', 'e2s7', 'e2s8', 'e2s9']\n",
      "e2s1.edf\n",
      "e2s10.edf\n",
      "e2s11.edf\n",
      "e2s12.edf\n",
      "e2s13.edf\n",
      "e2s14.edf\n",
      "e2s15.edf\n",
      "e2s16.edf\n",
      "e2s17.edf\n",
      "e2s18.edf\n",
      "e2s19.edf\n",
      "e2s2.edf\n",
      "e2s20.edf\n",
      "e2s21.edf\n",
      "e2s3.edf\n",
      "e2s4.edf\n",
      "e2s5.edf\n",
      "e2s6.edf\n",
      "e2s7.edf\n",
      "e2s8.edf\n",
      "e2s9.edf\n"
     ]
    }
   ],
   "source": [
    "path = \"C://Users//DELL//Desktop//eyelink_wj//exeexp2//exp2_deploy//results\"\n",
    "files = os.listdir(path)\n",
    "print(files)\n",
    "for file in files:\n",
    "    print(os.listdir(path + '//' + file)[1])"
   ]
  },
  {
   "cell_type": "code",
   "execution_count": 23,
   "metadata": {},
   "outputs": [
    {
     "name": "stdout",
     "output_type": "stream",
     "text": [
      "C://Users//DELL//Desktop//eyelink_wj//exeexp2//exp2_deploy//results//e2s1//e2s1.edf\n",
      "C://Users//DELL//Desktop//eyelink_wj//exeexp2//exp2_deploy//results//e2s10//e2s10.edf\n",
      "C://Users//DELL//Desktop//eyelink_wj//exeexp2//exp2_deploy//results//e2s11//e2s11.edf\n",
      "C://Users//DELL//Desktop//eyelink_wj//exeexp2//exp2_deploy//results//e2s12//e2s12.edf\n",
      "C://Users//DELL//Desktop//eyelink_wj//exeexp2//exp2_deploy//results//e2s13//e2s13.edf\n",
      "C://Users//DELL//Desktop//eyelink_wj//exeexp2//exp2_deploy//results//e2s14//e2s14.edf\n",
      "C://Users//DELL//Desktop//eyelink_wj//exeexp2//exp2_deploy//results//e2s15//e2s15.edf\n",
      "C://Users//DELL//Desktop//eyelink_wj//exeexp2//exp2_deploy//results//e2s16//e2s16.edf\n",
      "C://Users//DELL//Desktop//eyelink_wj//exeexp2//exp2_deploy//results//e2s17//e2s17.edf\n",
      "C://Users//DELL//Desktop//eyelink_wj//exeexp2//exp2_deploy//results//e2s18//e2s18.edf\n",
      "C://Users//DELL//Desktop//eyelink_wj//exeexp2//exp2_deploy//results//e2s19//e2s19.edf\n",
      "C://Users//DELL//Desktop//eyelink_wj//exeexp2//exp2_deploy//results//e2s2//e2s2.edf\n",
      "C://Users//DELL//Desktop//eyelink_wj//exeexp2//exp2_deploy//results//e2s20//e2s20.edf\n",
      "C://Users//DELL//Desktop//eyelink_wj//exeexp2//exp2_deploy//results//e2s21//e2s21.edf\n",
      "C://Users//DELL//Desktop//eyelink_wj//exeexp2//exp2_deploy//results//e2s3//e2s3.edf\n",
      "C://Users//DELL//Desktop//eyelink_wj//exeexp2//exp2_deploy//results//e2s4//e2s4.edf\n",
      "C://Users//DELL//Desktop//eyelink_wj//exeexp2//exp2_deploy//results//e2s5//e2s5.edf\n",
      "C://Users//DELL//Desktop//eyelink_wj//exeexp2//exp2_deploy//results//e2s6//e2s6.edf\n",
      "C://Users//DELL//Desktop//eyelink_wj//exeexp2//exp2_deploy//results//e2s7//e2s7.edf\n",
      "C://Users//DELL//Desktop//eyelink_wj//exeexp2//exp2_deploy//results//e2s8//e2s8.edf\n",
      "C://Users//DELL//Desktop//eyelink_wj//exeexp2//exp2_deploy//results//e2s9//e2s9.edf\n"
     ]
    }
   ],
   "source": [
    "for file in files:\n",
    "    print(path + '//' + file + '//' + os.listdir(path + '//' + file)[1])"
   ]
  },
  {
   "cell_type": "code",
   "execution_count": 27,
   "metadata": {},
   "outputs": [
    {
     "name": "stdout",
     "output_type": "stream",
     "text": [
      "Wall time: 466 ms\n"
     ]
    }
   ],
   "source": [
    "%%time\n",
    "for file in files:\n",
    "    shutil.copy(path + '//' + file + '//' + os.listdir(path + '//' + file)[1], 'C://Users//DELL//Desktop//result')"
   ]
  }
 ],
 "metadata": {
  "kernelspec": {
   "display_name": "Python 3",
   "language": "python",
   "name": "python3"
  },
  "language_info": {
   "codemirror_mode": {
    "name": "ipython",
    "version": 3
   },
   "file_extension": ".py",
   "mimetype": "text/x-python",
   "name": "python",
   "nbconvert_exporter": "python",
   "pygments_lexer": "ipython3",
   "version": "3.6.5"
  }
 },
 "nbformat": 4,
 "nbformat_minor": 2
}
