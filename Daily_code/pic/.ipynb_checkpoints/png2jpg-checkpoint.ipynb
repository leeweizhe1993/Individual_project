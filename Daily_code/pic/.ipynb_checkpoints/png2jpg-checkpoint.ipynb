{
 "cells": [
  {
   "cell_type": "code",
   "execution_count": 2,
   "metadata": {},
   "outputs": [],
   "source": [
    "from PIL import Image\n",
    "import os"
   ]
  },
  {
   "cell_type": "code",
   "execution_count": 20,
   "metadata": {},
   "outputs": [
    {
     "name": "stdout",
     "output_type": "stream",
     "text": [
      "微信图片_20180613164213.jpg\n",
      "微信图片_201806131642131.jpg\n",
      "微信图片_201806131642132.jpg\n",
      "微信图片_201806131642133.jpg\n"
     ]
    }
   ],
   "source": [
    "path = \"C:\\\\Users\\\\aa\\\\Desktop\\\\\"\n",
    "for filename in os.listdir(path):\n",
    "    if os.path.splitext(filename)[1] == '.png':\n",
    "        im = Image.open(path + filename)\n",
    "        im.save(path + os.path.splitext(filename)[0] + \".jpg\")\n",
    "        \n",
    "for filename in os.listdir(path):\n",
    "    if os.path.splitext(filename)[1] == '.jpg':\n",
    "        print(filename)"
   ]
  },
  {
   "cell_type": "code",
   "execution_count": null,
   "metadata": {},
   "outputs": [],
   "source": []
  }
 ],
 "metadata": {
  "kernelspec": {
   "display_name": "Python 3",
   "language": "python",
   "name": "python3"
  },
  "language_info": {
   "codemirror_mode": {
    "name": "ipython",
    "version": 3
   },
   "file_extension": ".py",
   "mimetype": "text/x-python",
   "name": "python",
   "nbconvert_exporter": "python",
   "pygments_lexer": "ipython3",
   "version": "3.6.5"
  }
 },
 "nbformat": 4,
 "nbformat_minor": 2
}
