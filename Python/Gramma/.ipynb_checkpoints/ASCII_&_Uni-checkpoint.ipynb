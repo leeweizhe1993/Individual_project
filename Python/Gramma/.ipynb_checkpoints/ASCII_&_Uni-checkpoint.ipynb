{
 "cells": [
  {
   "cell_type": "markdown",
   "metadata": {},
   "source": [
    "## ASCII转字符"
   ]
  },
  {
   "cell_type": "code",
   "execution_count": 12,
   "metadata": {},
   "outputs": [
    {
     "data": {
      "text/plain": [
       "'m'"
      ]
     },
     "execution_count": 12,
     "metadata": {},
     "output_type": "execute_result"
    }
   ],
   "source": [
    "a = 0b01101101    #二进制\n",
    "chr(a)"
   ]
  },
  {
   "cell_type": "code",
   "execution_count": 19,
   "metadata": {},
   "outputs": [
    {
     "data": {
      "text/plain": [
       "'m'"
      ]
     },
     "execution_count": 19,
     "metadata": {},
     "output_type": "execute_result"
    }
   ],
   "source": [
    "a = 109    #十进制\n",
    "chr(a)"
   ]
  },
  {
   "cell_type": "code",
   "execution_count": 29,
   "metadata": {},
   "outputs": [
    {
     "data": {
      "text/plain": [
       "'m'"
      ]
     },
     "execution_count": 29,
     "metadata": {},
     "output_type": "execute_result"
    }
   ],
   "source": [
    "a = int('0x6D', 16)   #十六进制\n",
    "chr(a)"
   ]
  },
  {
   "cell_type": "markdown",
   "metadata": {},
   "source": [
    "## 字符转ASCII"
   ]
  },
  {
   "cell_type": "code",
   "execution_count": 24,
   "metadata": {},
   "outputs": [
    {
     "data": {
      "text/plain": [
       "109"
      ]
     },
     "execution_count": 24,
     "metadata": {},
     "output_type": "execute_result"
    }
   ],
   "source": [
    "ord('m')"
   ]
  },
  {
   "cell_type": "code",
   "execution_count": 27,
   "metadata": {},
   "outputs": [
    {
     "data": {
      "text/plain": [
       "'0b1101101'"
      ]
     },
     "execution_count": 27,
     "metadata": {},
     "output_type": "execute_result"
    }
   ],
   "source": [
    "bin(ord('m'))"
   ]
  },
  {
   "cell_type": "code",
   "execution_count": 30,
   "metadata": {},
   "outputs": [
    {
     "data": {
      "text/plain": [
       "'0x6d'"
      ]
     },
     "execution_count": 30,
     "metadata": {},
     "output_type": "execute_result"
    }
   ],
   "source": [
    "hex(ord('m'))"
   ]
  },
  {
   "cell_type": "markdown",
   "metadata": {},
   "source": [
    "## string转ASCII"
   ]
  },
  {
   "cell_type": "code",
   "execution_count": 37,
   "metadata": {},
   "outputs": [
    {
     "name": "stdout",
     "output_type": "stream",
     "text": [
      "100010\n",
      "1010011\n",
      "1110100\n",
      "1101111\n",
      "1110000\n",
      "100001\n",
      "100010\n",
      "100000\n",
      "1000011\n",
      "1101000\n",
      "1100101\n",
      "1110010\n",
      "1111001\n",
      "1101100\n",
      "100000\n",
      "1110011\n",
      "1101000\n",
      "1101111\n",
      "1110101\n",
      "1110100\n",
      "1100101\n",
      "1100100\n",
      "101110\n",
      "Wall time: 0 ns\n"
     ]
    }
   ],
   "source": [
    "%%time\n",
    "a = '\"Stop!\" Cheryl shouted.'\n",
    "\n",
    "def string2asc(string):\n",
    "    for i in string:\n",
    "        print(bin(ord(i))[2:])\n",
    "        \n",
    "string2asc(a)"
   ]
  },
  {
   "cell_type": "code",
   "execution_count": 3,
   "metadata": {},
   "outputs": [
    {
     "data": {
      "text/plain": [
       "True"
      ]
     },
     "execution_count": 3,
     "metadata": {},
     "output_type": "execute_result"
    }
   ],
   "source": [
    "x = 0b00110011\n",
    "mask = 0b00001111\n",
    "x == 51 and x == 0x33    #2进制与10进制、16进制相等"
   ]
  },
  {
   "cell_type": "markdown",
   "metadata": {},
   "source": [
    "## 逻辑运算符 默认按10进制打印\n",
    "### 与 and/& \n",
    "### 或 or/| \n",
    "### 异或 ^\n",
    "### 按位取反 ~"
   ]
  },
  {
   "cell_type": "code",
   "execution_count": 8,
   "metadata": {},
   "outputs": [
    {
     "name": "stdout",
     "output_type": "stream",
     "text": [
      "1\n",
      "1\n",
      "0b1\n"
     ]
    }
   ],
   "source": [
    "print(0b00000101 ^ 0b00000100)\n",
    "print(5 ^ 4)\n",
    "print(bin(0b00000101 ^ 0b00000100))"
   ]
  },
  {
   "cell_type": "code",
   "execution_count": 6,
   "metadata": {},
   "outputs": [
    {
     "name": "stdout",
     "output_type": "stream",
     "text": [
      "5\n",
      "5\n"
     ]
    }
   ],
   "source": [
    "print(0b00000101 | 0b00000100)\n",
    "print(5 or 4)"
   ]
  },
  {
   "cell_type": "code",
   "execution_count": 7,
   "metadata": {},
   "outputs": [
    {
     "name": "stdout",
     "output_type": "stream",
     "text": [
      "4\n",
      "4\n"
     ]
    }
   ],
   "source": [
    "print(0b00000101 & 0b00000100)\n",
    "print(5 and 4)"
   ]
  },
  {
   "cell_type": "markdown",
   "metadata": {},
   "source": [
    "## 移位运算"
   ]
  },
  {
   "cell_type": "code",
   "execution_count": 12,
   "metadata": {},
   "outputs": [
    {
     "name": "stdout",
     "output_type": "stream",
     "text": [
      "60\n",
      "30\n",
      "120\n"
     ]
    }
   ],
   "source": [
    "print(0b00111100)\n",
    "print(0b00111100 >> 1)\n",
    "print(0b00111100 << 1)"
   ]
  },
  {
   "cell_type": "markdown",
   "metadata": {},
   "source": [
    "## 返回内存地址"
   ]
  },
  {
   "cell_type": "code",
   "execution_count": 2,
   "metadata": {},
   "outputs": [
    {
     "name": "stdout",
     "output_type": "stream",
     "text": [
      "序号：0，\t序号内存地址：1400400928\n",
      "值：2，\t值内存地址：1400400992，\n",
      "序号内存-值内存：-64\n",
      "序号：1，\t序号内存地址：1400400960\n",
      "值：23，\t值内存地址：1400401664，\n",
      "序号内存-值内存：-704\n",
      "序号：2，\t序号内存地址：1400400992\n",
      "值：43，\t值内存地址：1400402304，\n",
      "序号内存-值内存：-1312\n",
      "序号：3，\t序号内存地址：1400401024\n",
      "值：12，\t值内存地址：1400401312，\n",
      "序号内存-值内存：-288\n",
      "序号：4，\t序号内存地址：1400401056\n",
      "值：34，\t值内存地址：1400402016，\n",
      "序号内存-值内存：-960\n",
      "序号：5，\t序号内存地址：1400401088\n",
      "值：543，\t值内存地址：2692067539376，\n",
      "序号内存-值内存：-2690667138288\n",
      "序号：6，\t序号内存地址：1400401120\n",
      "值：5433，\t值内存地址：2692067539120，\n",
      "序号内存-值内存：-2690667138000\n"
     ]
    }
   ],
   "source": [
    "a = [2, 23, 43, 12, 34, 543, 5433]\n",
    "for index, value in enumerate(a):\n",
    "    print(\"序号：{0}，\\t序号内存地址：{1}\\n值：{2}，\\t值内存地址：{3}，\\n序号内存-值内存：{4}\"\n",
    "          .format(index, id(index), value, id(value), id(index) - id(value)))    #打印对应的内存地址"
   ]
  }
 ],
 "metadata": {
  "kernelspec": {
   "display_name": "Python 3",
   "language": "python",
   "name": "python3"
  },
  "language_info": {
   "codemirror_mode": {
    "name": "ipython",
    "version": 3
   },
   "file_extension": ".py",
   "mimetype": "text/x-python",
   "name": "python",
   "nbconvert_exporter": "python",
   "pygments_lexer": "ipython3",
   "version": "3.6.5"
  }
 },
 "nbformat": 4,
 "nbformat_minor": 2
}
