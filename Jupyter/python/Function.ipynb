{
 "cells": [
  {
   "cell_type": "markdown",
   "metadata": {},
   "source": [
    "## 参数\\*args(本质是tuple)与\\*kwargs(本质是dict)"
   ]
  },
  {
   "cell_type": "code",
   "execution_count": 11,
   "metadata": {},
   "outputs": [
    {
     "name": "stdout",
     "output_type": "stream",
     "text": [
      "sum of 1, 2, 3 is\n",
      "sum is 6\n"
     ]
    }
   ],
   "source": [
    "def sum_num(*args):    #“*”号是必须的\n",
    "    s = 0\n",
    "    for i in args:\n",
    "        s += i\n",
    "    print(\"sum is {}\".format(s))\n",
    "    \n",
    "print(\"sum of 1, 2, 3 is\")\n",
    "sum_num(1, 2, 3)"
   ]
  },
  {
   "cell_type": "code",
   "execution_count": 13,
   "metadata": {},
   "outputs": [
    {
     "name": "stdout",
     "output_type": "stream",
     "text": [
      "first normal arg: one\n",
      "next arg in *args is: 2\n",
      "next arg in *args is: 3\n",
      "next arg in *args is: four\n",
      "next arg in *args is: 5\n"
     ]
    }
   ],
   "source": [
    "def test_args(f_arg, *args):\n",
    "    print(\"first normal arg:\", f_arg)\n",
    "    for arg in args:\n",
    "        print(\"next arg in *args is:\", arg)\n",
    "        \n",
    "test_args(\"one\", 2, 3, \"four\", 5)"
   ]
  },
  {
   "cell_type": "code",
   "execution_count": 25,
   "metadata": {},
   "outputs": [
    {
     "name": "stdout",
     "output_type": "stream",
     "text": [
      "first normal arg: 1\n",
      "args= 2\n",
      "args= 3\n",
      "args= 4\n",
      "kwargs= A\n",
      "kwargs= B\n",
      "kwargs= C\n",
      "kwargs= D\n",
      "kwargs= {'A': 'a', 'B': 'b', 'C': 'c', 'D': 'd'}\n"
     ]
    }
   ],
   "source": [
    "def fun(f_arg, *args, **kwargs):\n",
    "    print(\"first normal arg:\", f_arg)\n",
    "    for i in args:\n",
    "        print('args=', i)\n",
    "    for j in kwargs:\n",
    "        print('kwargs=',j)\n",
    "    print('kwargs=',kwargs)\n",
    "\n",
    "fun(1,2,3,4,A='a',B='b',C='c',D='d')"
   ]
  },
  {
   "cell_type": "code",
   "execution_count": 28,
   "metadata": {},
   "outputs": [
    {
     "name": "stdout",
     "output_type": "stream",
     "text": [
      "arg1: 5\n",
      "arg2: two\n",
      "arg3: 3\n"
     ]
    }
   ],
   "source": [
    "def test_args_kwargs(arg1, arg2, arg3):\n",
    "    print(\"arg1:\", arg1)\n",
    "    print(\"arg2:\", arg2)\n",
    "    print(\"arg3:\", arg3)\n",
    "    \n",
    "kwargs = {\"arg3\": 3, \"arg2\": \"two\", \"arg1\": 5}\n",
    "test_args_kwargs(**kwargs)"
   ]
  },
  {
   "cell_type": "markdown",
   "metadata": {},
   "source": [
    "## 闭包"
   ]
  },
  {
   "cell_type": "code",
   "execution_count": 44,
   "metadata": {},
   "outputs": [],
   "source": [
    "def lazy_sum(*args):\n",
    "    def sum():\n",
    "        ax = 0\n",
    "        for n in args:\n",
    "            ax = ax + n\n",
    "        return ax\n",
    "    return sum\n",
    "\n",
    "f = lazy_sum(1, 3, 5, 7, 9)"
   ]
  },
  {
   "cell_type": "code",
   "execution_count": 45,
   "metadata": {},
   "outputs": [
    {
     "name": "stdout",
     "output_type": "stream",
     "text": [
      "<function lazy_sum.<locals>.sum at 0x000001498870B9D8>\n"
     ]
    },
    {
     "data": {
      "text/plain": [
       "25"
      ]
     },
     "execution_count": 45,
     "metadata": {},
     "output_type": "execute_result"
    }
   ],
   "source": [
    "print(f)    #调用lazy_sum时，返回求和函数\n",
    "f()"
   ]
  },
  {
   "cell_type": "code",
   "execution_count": 32,
   "metadata": {},
   "outputs": [
    {
     "name": "stdout",
     "output_type": "stream",
     "text": [
      "False\n",
      "True\n"
     ]
    }
   ],
   "source": [
    "f1 = lazy_sum(1, 3, 5, 7, 9)\n",
    "f2 = lazy_sum(1, 3, 5, 7, 9)\n",
    "print(f1 == f2)    #每次调用都会返回一个新的函数。即使传入相同参数\n",
    "print(f1() == f2())"
   ]
  },
  {
   "cell_type": "code",
   "execution_count": 41,
   "metadata": {},
   "outputs": [
    {
     "name": "stdout",
     "output_type": "stream",
     "text": [
      "<function maker.<locals>.action at 0x000001498870B510>\n",
      "24\n"
     ]
    }
   ],
   "source": [
    "def maker(n):\n",
    "    k = 8\n",
    "    def action(x):\n",
    "        return x ** n + k\n",
    "    return action\n",
    "\n",
    "f = maker(2)\n",
    "print(f)\n",
    "print(f(4))"
   ]
  },
  {
   "cell_type": "code",
   "execution_count": 42,
   "metadata": {},
   "outputs": [
    {
     "data": {
      "text/plain": [
       "24"
      ]
     },
     "execution_count": 42,
     "metadata": {},
     "output_type": "execute_result"
    }
   ],
   "source": [
    "f1 = maker(2)(4)\n",
    "f1"
   ]
  },
  {
   "cell_type": "markdown",
   "metadata": {},
   "source": [
    "### 使用nonlocal对嵌套作用域中变量进行修改"
   ]
  },
  {
   "cell_type": "code",
   "execution_count": 57,
   "metadata": {},
   "outputs": [
    {
     "name": "stdout",
     "output_type": "stream",
     "text": [
      "a 1\n",
      "None\n",
      "b 2\n",
      "None\n",
      "c 3\n",
      "None\n"
     ]
    }
   ],
   "source": [
    "def test(num):\n",
    "    in_num = num\n",
    "    def nested(label):\n",
    "        nonlocal in_num\n",
    "        in_num += 1\n",
    "        print(label, in_num)\n",
    "    return nested\n",
    "\n",
    "F = test(0)\n",
    "print(F('a'))\n",
    "print(F('b'))\n",
    "print(F('c'))"
   ]
  },
  {
   "cell_type": "markdown",
   "metadata": {},
   "source": [
    "## 匿名函数lambda"
   ]
  },
  {
   "cell_type": "code",
   "execution_count": 55,
   "metadata": {},
   "outputs": [
    {
     "data": {
      "text/plain": [
       "[2, 12, 10]"
      ]
     },
     "execution_count": 55,
     "metadata": {},
     "output_type": "execute_result"
    }
   ],
   "source": [
    "list(map(lambda x, y: x * y, [1, 4, 2],[2, 3, 5]))"
   ]
  },
  {
   "cell_type": "code",
   "execution_count": 56,
   "metadata": {},
   "outputs": [
    {
     "name": "stdout",
     "output_type": "stream",
     "text": [
      "(1, 2)\n",
      "(4, 3)\n",
      "(2, 45)\n"
     ]
    }
   ],
   "source": [
    "for i in zip([1, 4, 2],[2, 3, 45]):\n",
    "    print(i)"
   ]
  },
  {
   "cell_type": "code",
   "execution_count": null,
   "metadata": {},
   "outputs": [],
   "source": []
  }
 ],
 "metadata": {
  "kernelspec": {
   "display_name": "Python 3",
   "language": "python",
   "name": "python3"
  },
  "language_info": {
   "codemirror_mode": {
    "name": "ipython",
    "version": 3
   },
   "file_extension": ".py",
   "mimetype": "text/x-python",
   "name": "python",
   "nbconvert_exporter": "python",
   "pygments_lexer": "ipython3",
   "version": "3.6.5"
  }
 },
 "nbformat": 4,
 "nbformat_minor": 2
}
