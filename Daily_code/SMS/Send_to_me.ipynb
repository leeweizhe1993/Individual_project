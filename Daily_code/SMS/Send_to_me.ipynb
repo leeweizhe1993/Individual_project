{
 "cells": [
  {
   "cell_type": "code",
   "execution_count": 15,
   "metadata": {},
   "outputs": [],
   "source": [
    "from qcloudsms_py import SmsSingleSender\n",
    "from qcloudsms_py.httpclient import HTTPError"
   ]
  },
  {
   "cell_type": "code",
   "execution_count": 17,
   "metadata": {},
   "outputs": [
    {
     "name": "stdout",
     "output_type": "stream",
     "text": [
      "{'result': 1014, 'errmsg': '模版未审批或内容不匹配，错误详解见:https://cloud.tencent.com/document/product/382/9558#5-1004.E9.94.99.E8.AF.AF.E8.AF.A6.E8.A7.A3', 'ext': ''}\n"
     ]
    }
   ],
   "source": [
    "appid = 1400166173\n",
    "appkey = \"221345c91374c27a34015c7b020522e4\"\n",
    "phone_numbers = [\"13794371508\"]\n",
    "template_id = 238416\n",
    "sms_sign = \"默研小站\"\n",
    "\n",
    "\n",
    "sms_type = 0  # Enum{0: 普通短信, 1: 营销短信}\n",
    "ssender = SmsSingleSender(appid, appkey)\n",
    "\n",
    "for i in phone_numbers:\n",
    "    try:\n",
    "        result = ssender.send(sms_type, 86, i,\n",
    "            \"感谢您关注默研小站，祝您生活愉快！\", extend=\"\", ext=\"\")\n",
    "    except HTTPError as e:\n",
    "        print(e)\n",
    "    except Exception as e:\n",
    "        print(e)\n",
    "\n",
    "print(result)"
   ]
  },
  {
   "cell_type": "code",
   "execution_count": null,
   "metadata": {},
   "outputs": [],
   "source": [
    "from qcloudsms_py import SmsStatusPuller\n",
    "from qcloudsms_py.httpclient import HTTPError\n",
    "\n",
    "max_num = 10  # 单次拉取最大量\n",
    "spuller = SmsStatusPuller(appid, appkey)\n",
    "try:\n",
    "    # 拉取短信回执\n",
    "    callback_result = spuller.pull_callback(max_num)\n",
    "    # 拉取回复\n",
    "    reply_result = spuller.pull_reply(max_num)\n",
    "except HTTPError as e:\n",
    "    print(e)\n",
    "except Exception as e:\n",
    "    print(e)\n",
    "\n",
    "print(callback_result)\n",
    "print(reply_result)"
   ]
  }
 ],
 "metadata": {
  "kernelspec": {
   "display_name": "Python 3",
   "language": "python",
   "name": "python3"
  },
  "language_info": {
   "codemirror_mode": {
    "name": "ipython",
    "version": 3
   },
   "file_extension": ".py",
   "mimetype": "text/x-python",
   "name": "python",
   "nbconvert_exporter": "python",
   "pygments_lexer": "ipython3",
   "version": "3.7.0"
  }
 },
 "nbformat": 4,
 "nbformat_minor": 2
}
