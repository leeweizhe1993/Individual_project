{
 "cells": [
  {
   "cell_type": "code",
   "execution_count": 1,
   "metadata": {},
   "outputs": [],
   "source": [
    "from numpy import *\n",
    "from sympy import *\n",
    "import numpy as np\n",
    "import matplotlib.pyplot as plt\n",
    "%matplotlib inline\n",
    "init_printing(use_unicode=True)"
   ]
  },
  {
   "cell_type": "markdown",
   "metadata": {},
   "source": [
    "## np.linalg.solve求解线性方程组Ax=b"
   ]
  },
  {
   "cell_type": "markdown",
   "metadata": {},
   "source": [
    "$A=\\begin{bmatrix}1 & -3 \\\\3 & 5 \\end{bmatrix}\\\\b=\\begin{bmatrix}3 \\\\ 2 \\end{bmatrix}$"
   ]
  },
  {
   "cell_type": "code",
   "execution_count": 4,
   "metadata": {},
   "outputs": [
    {
     "data": {
      "text/plain": [
       "array([ 1.5, -0.5])"
      ]
     },
     "execution_count": 4,
     "metadata": {},
     "output_type": "execute_result"
    }
   ],
   "source": [
    "A = np.array([[1, -3], [3, 5]])    #无法求解含有自由变量的方程\n",
    "b = np.array([3, 2]).T\n",
    "x = np.linalg.solve(A, b)\n",
    "x"
   ]
  },
  {
   "cell_type": "code",
   "execution_count": 5,
   "metadata": {},
   "outputs": [
    {
     "data": {
      "text/plain": [
       "array([ 3.,  2.])"
      ]
     },
     "execution_count": 5,
     "metadata": {},
     "output_type": "execute_result"
    }
   ],
   "source": [
    "A.dot(x)"
   ]
  },
  {
   "cell_type": "code",
   "execution_count": 6,
   "metadata": {},
   "outputs": [
    {
     "data": {
      "text/plain": [
       "True"
      ]
     },
     "execution_count": 6,
     "metadata": {},
     "output_type": "execute_result"
    }
   ],
   "source": [
    "np.allclose(np.dot(A, x), b)"
   ]
  },
  {
   "cell_type": "markdown",
   "metadata": {},
   "source": [
    "## QR分解"
   ]
  },
  {
   "cell_type": "code",
   "execution_count": 50,
   "metadata": {},
   "outputs": [
    {
     "name": "stdout",
     "output_type": "stream",
     "text": [
      "[[-0.85714286  0.39428571  0.33142857]\n",
      " [-0.42857143 -0.90285714 -0.03428571]\n",
      " [ 0.28571429 -0.17142857  0.94285714]]\n",
      "[[ -14.  -21.   14.]\n",
      " [   0. -175.   70.]\n",
      " [   0.    0.  -35.]]\n",
      "Wall time: 3 ms\n"
     ]
    }
   ],
   "source": [
    "%%time\n",
    "A = Matrix([[12, -51, 4], [6, 167, -68], [-4, 24, -41]])\n",
    "q, r = linalg.qr(A)\n",
    "print(q)\n",
    "print(r)"
   ]
  },
  {
   "cell_type": "code",
   "execution_count": 51,
   "metadata": {},
   "outputs": [
    {
     "data": {
      "text/latex": [
       "$$\\left ( \\left[\\begin{matrix}\\frac{6}{7} & - \\frac{69}{175} & - \\frac{58}{175}\\\\\\frac{3}{7} & \\frac{158}{175} & \\frac{6}{175}\\\\- \\frac{2}{7} & \\frac{6}{35} & - \\frac{33}{35}\\end{matrix}\\right], \\quad \\left[\\begin{matrix}14 & 21 & -14\\\\0 & 175 & -70\\\\0 & 0 & 35\\end{matrix}\\right]\\right )$$"
      ],
      "text/plain": [
       "⎛⎡      -69   -58  ⎤                ⎞\n",
       "⎜⎢6/7   ────  ──── ⎥                ⎟\n",
       "⎜⎢      175   175  ⎥                ⎟\n",
       "⎜⎢                 ⎥  ⎡14  21   -14⎤⎟\n",
       "⎜⎢      158        ⎥  ⎢            ⎥⎟\n",
       "⎜⎢3/7   ───   6/175⎥, ⎢0   175  -70⎥⎟\n",
       "⎜⎢      175        ⎥  ⎢            ⎥⎟\n",
       "⎜⎢                 ⎥  ⎣0    0   35 ⎦⎟\n",
       "⎜⎢            -33  ⎥                ⎟\n",
       "⎜⎢-2/7  6/35  ──── ⎥                ⎟\n",
       "⎝⎣             35  ⎦                ⎠"
      ]
     },
     "execution_count": 51,
     "metadata": {},
     "output_type": "execute_result"
    }
   ],
   "source": [
    "Q, R = A.QRdecomposition()\n",
    "Q,R"
   ]
  },
  {
   "cell_type": "markdown",
   "metadata": {},
   "source": [
    "## LU分解"
   ]
  },
  {
   "cell_type": "code",
   "execution_count": 52,
   "metadata": {},
   "outputs": [
    {
     "data": {
      "text/latex": [
       "$$\\left ( \\left[\\begin{matrix}1 & 0 & 0\\\\\\frac{1}{2} & 1 & 0\\\\- \\frac{1}{3} & \\frac{2}{55} & 1\\end{matrix}\\right], \\quad \\left[\\begin{matrix}12 & -51 & 4\\\\0 & \\frac{385}{2} & -70\\\\0 & 0 & - \\frac{1225}{33}\\end{matrix}\\right], \\quad \\left [ \\right ]\\right )$$"
      ],
      "text/plain": [
       "⎛                 ⎡12   -51     4   ⎤    ⎞\n",
       "⎜⎡ 1     0    0⎤  ⎢                 ⎥    ⎟\n",
       "⎜⎢             ⎥  ⎢0   385/2   -70  ⎥    ⎟\n",
       "⎜⎢1/2    1    0⎥, ⎢                 ⎥, []⎟\n",
       "⎜⎢             ⎥  ⎢           -1225 ⎥    ⎟\n",
       "⎜⎣-1/3  2/55  1⎦  ⎢0     0    ──────⎥    ⎟\n",
       "⎝                 ⎣             33  ⎦    ⎠"
      ]
     },
     "execution_count": 52,
     "metadata": {},
     "output_type": "execute_result"
    }
   ],
   "source": [
    "L, U, _ = A.LUdecomposition()\n",
    "L, U, _"
   ]
  },
  {
   "cell_type": "markdown",
   "metadata": {},
   "source": [
    "## 2.点乘"
   ]
  },
  {
   "cell_type": "code",
   "execution_count": 24,
   "metadata": {},
   "outputs": [
    {
     "data": {
      "text/plain": [
       "(-13+0j)"
      ]
     },
     "execution_count": 24,
     "metadata": {},
     "output_type": "execute_result"
    }
   ],
   "source": [
    "np.dot([2j, 3j], [2j, 3j])"
   ]
  },
  {
   "cell_type": "code",
   "execution_count": 28,
   "metadata": {},
   "outputs": [
    {
     "data": {
      "text/plain": [
       "499128"
      ]
     },
     "execution_count": 28,
     "metadata": {},
     "output_type": "execute_result"
    }
   ],
   "source": [
    "a = np.arange(3*4*5*6).reshape((3,4,5,6))\n",
    "b = np.arange(3*4*5*6)[::-1].reshape((5,4,6,3))\n",
    "np.dot(a, b)[2,3,2,1,2,2]"
   ]
  },
  {
   "cell_type": "code",
   "execution_count": 43,
   "metadata": {},
   "outputs": [
    {
     "data": {
      "text/plain": [
       "array([[  5, -14,  13],\n",
       "       [ -9,  41, -38],\n",
       "       [ -2, -38,  38]])"
      ]
     },
     "execution_count": 43,
     "metadata": {},
     "output_type": "execute_result"
    }
   ],
   "source": [
    "a = np.array([[1, 0, -2], [-2, 1, 6], [3, -2, -5]])\n",
    "u = np.array([[-1, 7, -3], [-2, 1, 6], [3, -2, -5]]).T\n",
    "a.dot(u)"
   ]
  },
  {
   "cell_type": "code",
   "execution_count": 44,
   "metadata": {},
   "outputs": [
    {
     "data": {
      "text/plain": [
       "array([6, 4])"
      ]
     },
     "execution_count": 44,
     "metadata": {},
     "output_type": "execute_result"
    }
   ],
   "source": [
    "a = np.array([[4, -6], [1, 1]])\n",
    "u = np.array([3, 1]).T\n",
    "a.dot(u)"
   ]
  },
  {
   "cell_type": "markdown",
   "metadata": {},
   "source": [
    "## sympy中Matrix进行矩阵化简"
   ]
  },
  {
   "cell_type": "code",
   "execution_count": 8,
   "metadata": {},
   "outputs": [
    {
     "data": {
      "text/latex": [
       "$$\\left ( \\left[\\begin{matrix}1 & 0 & -1\\\\0 & 1 & 2\\\\0 & 0 & 0\\end{matrix}\\right], \\quad \\left ( 0, \\quad 1\\right )\\right )$$"
      ],
      "text/plain": [
       "⎛⎡1  0  -1⎤        ⎞\n",
       "⎜⎢        ⎥        ⎟\n",
       "⎜⎢0  1  2 ⎥, (0, 1)⎟\n",
       "⎜⎢        ⎥        ⎟\n",
       "⎝⎣0  0  0 ⎦        ⎠"
      ]
     },
     "execution_count": 8,
     "metadata": {},
     "output_type": "execute_result"
    }
   ],
   "source": [
    "A = Matrix([[1, 2, 3], [4, 5, 6], [7, 8, 9]])\n",
    "A.rref()"
   ]
  },
  {
   "cell_type": "code",
   "execution_count": 9,
   "metadata": {},
   "outputs": [
    {
     "data": {
      "text/latex": [
       "$$\\left ( \\left[\\begin{matrix}1 & 0 & 0 & 0.277223183614433\\\\0 & 1 & 0 & 0.391920861637007\\\\0 & 0 & 1 & 0.233230880491774\\end{matrix}\\right], \\quad \\left ( 0, \\quad 1, \\quad 2\\right )\\right )$$"
      ],
      "text/plain": [
       "⎛⎡1  0  0  0.277223183614433⎤           ⎞\n",
       "⎜⎢                          ⎥           ⎟\n",
       "⎜⎢0  1  0  0.391920861637007⎥, (0, 1, 2)⎟\n",
       "⎜⎢                          ⎥           ⎟\n",
       "⎝⎣0  0  1  0.233230880491774⎦           ⎠"
      ]
     },
     "execution_count": 9,
     "metadata": {},
     "output_type": "execute_result"
    }
   ],
   "source": [
    "Nu = Matrix([[36, 51, 13, 33], [52, 34, 74, 45], [0, 7, 1.1, 3]])\n",
    "Nu.rref()"
   ]
  },
  {
   "cell_type": "code",
   "execution_count": 35,
   "metadata": {},
   "outputs": [
    {
     "data": {
      "text/plain": [
       "array([[11,  0, 21],\n",
       "       [-1, 13, -9]])"
      ]
     },
     "execution_count": 35,
     "metadata": {},
     "output_type": "execute_result"
    }
   ],
   "source": [
    "A = np.array([[2, 3], [1, -5]])\n",
    "B = np.array([[4, 3, 6], [1, -2, 3]])\n",
    "A.dot(B)"
   ]
  },
  {
   "cell_type": "markdown",
   "metadata": {},
   "source": [
    "### 列昂惕夫投入产出模型，最终需求是制造业50单位，农业30单位，服务业20单位"
   ]
  },
  {
   "cell_type": "markdown",
   "metadata": {},
   "source": [
    "$C=\\begin{bmatrix}0.50 & 0.50 & 0.20 \\\\0.20 & 0.30 & 0.10 \\\\0.10 & 0.10 & 0.30 \\end{bmatrix}$"
   ]
  },
  {
   "cell_type": "code",
   "execution_count": 19,
   "metadata": {},
   "outputs": [
    {
     "data": {
      "text/latex": [
       "$$\\left[\\begin{matrix}0.5 & -0.4 & -0.2\\\\-0.2 & 0.7 & -0.1\\\\-0.1 & -0.1 & 0.7\\end{matrix}\\right]$$"
      ],
      "text/plain": [
       "⎡0.5   -0.4  -0.2⎤\n",
       "⎢                ⎥\n",
       "⎢-0.2  0.7   -0.1⎥\n",
       "⎢                ⎥\n",
       "⎣-0.1  -0.1  0.7 ⎦"
      ]
     },
     "execution_count": 19,
     "metadata": {},
     "output_type": "execute_result"
    }
   ],
   "source": [
    "C = Matrix([[0.50, 0.40, 0.20], [0.2, 0.3, 0.1], [0.1, 0.1, 0.3]])\n",
    "M = np.eye(3) - C\n",
    "M"
   ]
  },
  {
   "cell_type": "code",
   "execution_count": 20,
   "metadata": {},
   "outputs": [
    {
     "data": {
      "text/latex": [
       "$$\\left[\\begin{matrix}0.5 & -0.4 & -0.2 & 50\\\\-0.2 & 0.7 & -0.1 & 30\\\\-0.1 & -0.1 & 0.7 & 20\\end{matrix}\\right]$$"
      ],
      "text/plain": [
       "⎡0.5   -0.4  -0.2  50⎤\n",
       "⎢                    ⎥\n",
       "⎢-0.2  0.7   -0.1  30⎥\n",
       "⎢                    ⎥\n",
       "⎣-0.1  -0.1  0.7   20⎦"
      ]
     },
     "execution_count": 20,
     "metadata": {},
     "output_type": "execute_result"
    }
   ],
   "source": [
    "M.col_insert(3, Matrix([[50], [30], [20]]))    #调用col_insert构造增广阵"
   ]
  },
  {
   "cell_type": "code",
   "execution_count": 21,
   "metadata": {},
   "outputs": [
    {
     "data": {
      "text/latex": [
       "$$\\left ( \\left[\\begin{matrix}1 & 0 & 0 & 225.925925925926\\\\0 & 1 & 0 & 118.518518518519\\\\0 & 0 & 1 & 77.7777777777778\\end{matrix}\\right], \\quad \\left ( 0, \\quad 1, \\quad 2\\right )\\right )$$"
      ],
      "text/plain": [
       "⎛⎡1  0  0  225.925925925926⎤           ⎞\n",
       "⎜⎢                         ⎥           ⎟\n",
       "⎜⎢0  1  0  118.518518518519⎥, (0, 1, 2)⎟\n",
       "⎜⎢                         ⎥           ⎟\n",
       "⎝⎣0  0  1  77.7777777777778⎦           ⎠"
      ]
     },
     "execution_count": 21,
     "metadata": {},
     "output_type": "execute_result"
    }
   ],
   "source": [
    "M.col_insert(3, Matrix([[50], [30], [20]])).rref()"
   ]
  },
  {
   "cell_type": "code",
   "execution_count": 22,
   "metadata": {},
   "outputs": [
    {
     "data": {
      "text/latex": [
       "$$\\left ( \\left[\\begin{matrix}1 & -2 & 0 & -1 & 3 & 0\\\\0 & 0 & 1 & 2 & -2 & 0\\\\0 & 0 & 0 & 0 & 0 & 0\\end{matrix}\\right], \\quad \\left ( 0, \\quad 2\\right )\\right )$$"
      ],
      "text/plain": [
       "⎛⎡1  -2  0  -1  3   0⎤        ⎞\n",
       "⎜⎢                   ⎥        ⎟\n",
       "⎜⎢0  0   1  2   -2  0⎥, (0, 2)⎟\n",
       "⎜⎢                   ⎥        ⎟\n",
       "⎝⎣0  0   0  0   0   0⎦        ⎠"
      ]
     },
     "execution_count": 22,
     "metadata": {},
     "output_type": "execute_result"
    }
   ],
   "source": [
    "A = Matrix([[-3, 6, -1, 1, -7], [1, -2, 2, 3, -1], [2, -4, 5, 8, -4]])\n",
    "A_new = A.col_insert(5, Matrix([[0], [0], [0]])) \n",
    "A_new.rref()\n",
    "#  NulA维数是自由变量个数3，ColA维数是主元列个数2"
   ]
  },
  {
   "cell_type": "markdown",
   "metadata": {},
   "source": [
    "## 矩阵求逆"
   ]
  },
  {
   "cell_type": "code",
   "execution_count": 16,
   "metadata": {},
   "outputs": [
    {
     "ename": "LinAlgError",
     "evalue": "Singular matrix",
     "output_type": "error",
     "traceback": [
      "\u001b[1;31m---------------------------------------------------------------------------\u001b[0m",
      "\u001b[1;31mLinAlgError\u001b[0m                               Traceback (most recent call last)",
      "\u001b[1;32m<ipython-input-16-3146de9c0671>\u001b[0m in \u001b[0;36m<module>\u001b[1;34m()\u001b[0m\n\u001b[0;32m      1\u001b[0m \u001b[0mA\u001b[0m \u001b[1;33m=\u001b[0m \u001b[0mnp\u001b[0m\u001b[1;33m.\u001b[0m\u001b[0marray\u001b[0m\u001b[1;33m(\u001b[0m\u001b[1;33m[\u001b[0m\u001b[1;33m[\u001b[0m\u001b[1;36m1\u001b[0m\u001b[1;33m,\u001b[0m \u001b[1;33m-\u001b[0m\u001b[1;36m2\u001b[0m\u001b[1;33m,\u001b[0m \u001b[1;33m-\u001b[0m\u001b[1;36m1\u001b[0m\u001b[1;33m]\u001b[0m\u001b[1;33m,\u001b[0m \u001b[1;33m[\u001b[0m\u001b[1;33m-\u001b[0m\u001b[1;36m1\u001b[0m\u001b[1;33m,\u001b[0m \u001b[1;36m5\u001b[0m\u001b[1;33m,\u001b[0m \u001b[1;36m6\u001b[0m\u001b[1;33m]\u001b[0m\u001b[1;33m,\u001b[0m \u001b[1;33m[\u001b[0m\u001b[1;36m5\u001b[0m\u001b[1;33m,\u001b[0m \u001b[1;33m-\u001b[0m\u001b[1;36m4\u001b[0m\u001b[1;33m,\u001b[0m \u001b[1;36m5\u001b[0m\u001b[1;33m]\u001b[0m\u001b[1;33m]\u001b[0m\u001b[1;33m)\u001b[0m\u001b[1;33m\u001b[0m\u001b[0m\n\u001b[1;32m----> 2\u001b[1;33m \u001b[0mnp\u001b[0m\u001b[1;33m.\u001b[0m\u001b[0mlinalg\u001b[0m\u001b[1;33m.\u001b[0m\u001b[0minv\u001b[0m\u001b[1;33m(\u001b[0m\u001b[0mA\u001b[0m\u001b[1;33m)\u001b[0m\u001b[1;33m\u001b[0m\u001b[0m\n\u001b[0m",
      "\u001b[1;32mD:\\Anaconda\\lib\\site-packages\\numpy\\linalg\\linalg.py\u001b[0m in \u001b[0;36minv\u001b[1;34m(a)\u001b[0m\n\u001b[0;32m    524\u001b[0m     \u001b[0msignature\u001b[0m \u001b[1;33m=\u001b[0m \u001b[1;34m'D->D'\u001b[0m \u001b[1;32mif\u001b[0m \u001b[0misComplexType\u001b[0m\u001b[1;33m(\u001b[0m\u001b[0mt\u001b[0m\u001b[1;33m)\u001b[0m \u001b[1;32melse\u001b[0m \u001b[1;34m'd->d'\u001b[0m\u001b[1;33m\u001b[0m\u001b[0m\n\u001b[0;32m    525\u001b[0m     \u001b[0mextobj\u001b[0m \u001b[1;33m=\u001b[0m \u001b[0mget_linalg_error_extobj\u001b[0m\u001b[1;33m(\u001b[0m\u001b[0m_raise_linalgerror_singular\u001b[0m\u001b[1;33m)\u001b[0m\u001b[1;33m\u001b[0m\u001b[0m\n\u001b[1;32m--> 526\u001b[1;33m     \u001b[0mainv\u001b[0m \u001b[1;33m=\u001b[0m \u001b[0m_umath_linalg\u001b[0m\u001b[1;33m.\u001b[0m\u001b[0minv\u001b[0m\u001b[1;33m(\u001b[0m\u001b[0ma\u001b[0m\u001b[1;33m,\u001b[0m \u001b[0msignature\u001b[0m\u001b[1;33m=\u001b[0m\u001b[0msignature\u001b[0m\u001b[1;33m,\u001b[0m \u001b[0mextobj\u001b[0m\u001b[1;33m=\u001b[0m\u001b[0mextobj\u001b[0m\u001b[1;33m)\u001b[0m\u001b[1;33m\u001b[0m\u001b[0m\n\u001b[0m\u001b[0;32m    527\u001b[0m     \u001b[1;32mreturn\u001b[0m \u001b[0mwrap\u001b[0m\u001b[1;33m(\u001b[0m\u001b[0mainv\u001b[0m\u001b[1;33m.\u001b[0m\u001b[0mastype\u001b[0m\u001b[1;33m(\u001b[0m\u001b[0mresult_t\u001b[0m\u001b[1;33m,\u001b[0m \u001b[0mcopy\u001b[0m\u001b[1;33m=\u001b[0m\u001b[1;32mFalse\u001b[0m\u001b[1;33m)\u001b[0m\u001b[1;33m)\u001b[0m\u001b[1;33m\u001b[0m\u001b[0m\n\u001b[0;32m    528\u001b[0m \u001b[1;33m\u001b[0m\u001b[0m\n",
      "\u001b[1;32mD:\\Anaconda\\lib\\site-packages\\numpy\\linalg\\linalg.py\u001b[0m in \u001b[0;36m_raise_linalgerror_singular\u001b[1;34m(err, flag)\u001b[0m\n\u001b[0;32m     88\u001b[0m \u001b[1;33m\u001b[0m\u001b[0m\n\u001b[0;32m     89\u001b[0m \u001b[1;32mdef\u001b[0m \u001b[0m_raise_linalgerror_singular\u001b[0m\u001b[1;33m(\u001b[0m\u001b[0merr\u001b[0m\u001b[1;33m,\u001b[0m \u001b[0mflag\u001b[0m\u001b[1;33m)\u001b[0m\u001b[1;33m:\u001b[0m\u001b[1;33m\u001b[0m\u001b[0m\n\u001b[1;32m---> 90\u001b[1;33m     \u001b[1;32mraise\u001b[0m \u001b[0mLinAlgError\u001b[0m\u001b[1;33m(\u001b[0m\u001b[1;34m\"Singular matrix\"\u001b[0m\u001b[1;33m)\u001b[0m\u001b[1;33m\u001b[0m\u001b[0m\n\u001b[0m\u001b[0;32m     91\u001b[0m \u001b[1;33m\u001b[0m\u001b[0m\n\u001b[0;32m     92\u001b[0m \u001b[1;32mdef\u001b[0m \u001b[0m_raise_linalgerror_nonposdef\u001b[0m\u001b[1;33m(\u001b[0m\u001b[0merr\u001b[0m\u001b[1;33m,\u001b[0m \u001b[0mflag\u001b[0m\u001b[1;33m)\u001b[0m\u001b[1;33m:\u001b[0m\u001b[1;33m\u001b[0m\u001b[0m\n",
      "\u001b[1;31mLinAlgError\u001b[0m: Singular matrix"
     ]
    }
   ],
   "source": [
    "A = np.array([[1, -2, -1], [-1, 5, 6], [5, -4, 5]])\n",
    "np.linalg.inv(A)"
   ]
  },
  {
   "cell_type": "code",
   "execution_count": 20,
   "metadata": {},
   "outputs": [
    {
     "name": "stdout",
     "output_type": "stream",
     "text": [
      "Wall time: 0 ns\n"
     ]
    }
   ],
   "source": [
    "%%time\n",
    "from numpy.linalg import inv\n",
    "B = np.array([[4, -9], [0, 5]])\n",
    "inv(B)"
   ]
  },
  {
   "cell_type": "code",
   "execution_count": 31,
   "metadata": {},
   "outputs": [
    {
     "name": "stdout",
     "output_type": "stream",
     "text": [
      "Wall time: 0 ns\n"
     ]
    }
   ],
   "source": [
    "%%time\n",
    "B = Matrix([[4, -9], [0, 5]])\n",
    "B ** (-1)"
   ]
  },
  {
   "cell_type": "markdown",
   "metadata": {},
   "source": [
    "## 求行列式"
   ]
  },
  {
   "cell_type": "code",
   "execution_count": 42,
   "metadata": {},
   "outputs": [
    {
     "name": "stdout",
     "output_type": "stream",
     "text": [
      "20.0\n",
      "Wall time: 999 µs\n"
     ]
    }
   ],
   "source": [
    "%%time\n",
    "M = np.array([[5, -7, 2, 2], [0, 3, 0, -4], [-5, -8, 0, 3], [0, 5, 0, -6]])\n",
    "print(np.linalg.det(M))"
   ]
  },
  {
   "cell_type": "markdown",
   "metadata": {},
   "source": [
    "## 矩阵求秩 rank"
   ]
  },
  {
   "cell_type": "code",
   "execution_count": 24,
   "metadata": {},
   "outputs": [
    {
     "name": "stdout",
     "output_type": "stream",
     "text": [
      "[[ 1.  0.  0.  0.]\n",
      " [ 0.  1.  0.  0.]\n",
      " [ 0.  0.  1.  0.]\n",
      " [ 0.  0.  0.  1.]]\n"
     ]
    },
    {
     "data": {
      "text/plain": [
       "4"
      ]
     },
     "execution_count": 24,
     "metadata": {},
     "output_type": "execute_result"
    }
   ],
   "source": [
    "I=np.eye(4)\n",
    "print(I)\n",
    "np.linalg.matrix_rank(I)"
   ]
  },
  {
   "cell_type": "code",
   "execution_count": 25,
   "metadata": {},
   "outputs": [
    {
     "name": "stdout",
     "output_type": "stream",
     "text": [
      "[[ 1.  0.  0.  0.]\n",
      " [ 0.  1.  0.  0.]\n",
      " [ 0.  0.  1.  0.]\n",
      " [ 0.  0.  0.  0.]]\n"
     ]
    },
    {
     "data": {
      "text/plain": [
       "3"
      ]
     },
     "execution_count": 25,
     "metadata": {},
     "output_type": "execute_result"
    }
   ],
   "source": [
    "I[-1,-1] = 0.\n",
    "print(I)\n",
    "np.linalg.matrix_rank(I)"
   ]
  },
  {
   "cell_type": "markdown",
   "metadata": {},
   "source": [
    "## 求零空间 sympy"
   ]
  },
  {
   "cell_type": "code",
   "execution_count": 23,
   "metadata": {},
   "outputs": [
    {
     "data": {
      "text/latex": [
       "$$\\left [ \\left[\\begin{matrix}-15\\\\6\\\\1\\\\0\\\\0\\end{matrix}\\right], \\quad \\left[\\begin{matrix}0\\\\0\\\\0\\\\1\\\\0\\end{matrix}\\right], \\quad \\left[\\begin{matrix}1\\\\- \\frac{1}{2}\\\\0\\\\0\\\\1\\end{matrix}\\right]\\right ]$$"
      ],
      "text/plain": [
       "⎡⎡-15⎤  ⎡0⎤  ⎡ 1  ⎤⎤\n",
       "⎢⎢   ⎥  ⎢ ⎥  ⎢    ⎥⎥\n",
       "⎢⎢ 6 ⎥  ⎢0⎥  ⎢-1/2⎥⎥\n",
       "⎢⎢   ⎥  ⎢ ⎥  ⎢    ⎥⎥\n",
       "⎢⎢ 1 ⎥, ⎢0⎥, ⎢ 0  ⎥⎥\n",
       "⎢⎢   ⎥  ⎢ ⎥  ⎢    ⎥⎥\n",
       "⎢⎢ 0 ⎥  ⎢1⎥  ⎢ 0  ⎥⎥\n",
       "⎢⎢   ⎥  ⎢ ⎥  ⎢    ⎥⎥\n",
       "⎣⎣ 0 ⎦  ⎣0⎦  ⎣ 1  ⎦⎦"
      ]
     },
     "execution_count": 23,
     "metadata": {},
     "output_type": "execute_result"
    }
   ],
   "source": [
    "M = Matrix([[1, 2, 3, 0, 0], [4, 10, 0, 0, 1]])\n",
    "M.nullspace()"
   ]
  },
  {
   "cell_type": "markdown",
   "metadata": {},
   "source": [
    "## 求列空间 sympy"
   ]
  },
  {
   "cell_type": "code",
   "execution_count": 26,
   "metadata": {},
   "outputs": [
    {
     "data": {
      "text/latex": [
       "$$\\left [ \\left[\\begin{matrix}1\\\\2\\\\3\\end{matrix}\\right], \\quad \\left[\\begin{matrix}1\\\\1\\\\1\\end{matrix}\\right]\\right ]$$"
      ],
      "text/plain": [
       "⎡⎡1⎤  ⎡1⎤⎤\n",
       "⎢⎢ ⎥  ⎢ ⎥⎥\n",
       "⎢⎢2⎥, ⎢1⎥⎥\n",
       "⎢⎢ ⎥  ⎢ ⎥⎥\n",
       "⎣⎣3⎦  ⎣1⎦⎦"
      ]
     },
     "execution_count": 26,
     "metadata": {},
     "output_type": "execute_result"
    }
   ],
   "source": [
    "M = Matrix([[1, 1, 2], [2 ,1 , 3], [3 , 1, 4]])\n",
    "M.columnspace()"
   ]
  },
  {
   "cell_type": "markdown",
   "metadata": {},
   "source": [
    "## 矩阵求迹"
   ]
  },
  {
   "cell_type": "code",
   "execution_count": 10,
   "metadata": {},
   "outputs": [
    {
     "data": {
      "image/png": "[encoded data removed]",
      "text/latex": [
       "$$3.0$$"
      ],
      "text/plain": [
       "3.0"
      ]
     },
     "execution_count": 10,
     "metadata": {},
     "output_type": "execute_result"
    }
   ],
   "source": [
    "np.trace(np.eye(3))"
   ]
  },
  {
   "cell_type": "code",
   "execution_count": 45,
   "metadata": {},
   "outputs": [
    {
     "data": {
      "text/plain": [
       "array([[[0, 1],\n",
       "        [2, 3]],\n",
       "\n",
       "       [[4, 5],\n",
       "        [6, 7]]])"
      ]
     },
     "execution_count": 45,
     "metadata": {},
     "output_type": "execute_result"
    }
   ],
   "source": [
    "a = np.arange(8).reshape((2,2,2))\n",
    "a"
   ]
  },
  {
   "cell_type": "code",
   "execution_count": 46,
   "metadata": {},
   "outputs": [
    {
     "data": {
      "text/plain": [
       "array([6, 8])"
      ]
     },
     "execution_count": 46,
     "metadata": {},
     "output_type": "execute_result"
    }
   ],
   "source": [
    "np.trace(a)"
   ]
  },
  {
   "cell_type": "markdown",
   "metadata": {},
   "source": [
    "## 求马尔科夫过程稳态矩阵 sympy"
   ]
  },
  {
   "cell_type": "code",
   "execution_count": 47,
   "metadata": {},
   "outputs": [
    {
     "data": {
      "text/latex": [
       "$$\\left[\\begin{matrix}-0.4 & 0.2 & 0\\\\0.4 & -0.2 & 0\\end{matrix}\\right]$$"
      ],
      "text/plain": [
       "⎡-0.4  0.2   0⎤\n",
       "⎢             ⎥\n",
       "⎣0.4   -0.2  0⎦"
      ]
     },
     "execution_count": 47,
     "metadata": {},
     "output_type": "execute_result"
    }
   ],
   "source": [
    "P = Matrix([[0.6, 0.2], [0.4, 0.8]])\n",
    "P_I = P - np.eye(2)\n",
    "P_I.col_insert(2, Matrix([[0], [0]]))"
   ]
  },
  {
   "cell_type": "markdown",
   "metadata": {},
   "source": [
    "## 求取特征向量和特征值"
   ]
  },
  {
   "cell_type": "code",
   "execution_count": 67,
   "metadata": {},
   "outputs": [
    {
     "name": "stdout",
     "output_type": "stream",
     "text": [
      "(array([ 0.92,  1.  ]), array([[-0.70710678, -0.51449576],\n",
      "       [ 0.70710678, -0.85749293]]))\n"
     ]
    }
   ],
   "source": [
    "A = np.array([[0.95, 0.03], [0.05, 0.97]])\n",
    "print(np.linalg.eig(A))"
   ]
  },
  {
   "cell_type": "code",
   "execution_count": 64,
   "metadata": {},
   "outputs": [
    {
     "data": {
      "text/plain": [
       "tuple"
      ]
     },
     "execution_count": 64,
     "metadata": {},
     "output_type": "execute_result"
    }
   ],
   "source": [
    "type(np.linalg.eig(A))    #[0]为特征值，[1]为特征向量"
   ]
  },
  {
   "cell_type": "code",
   "execution_count": 56,
   "metadata": {},
   "outputs": [
    {
     "data": {
      "text/plain": [
       "array([ 0.4,  1. ])"
      ]
     },
     "execution_count": 56,
     "metadata": {},
     "output_type": "execute_result"
    }
   ],
   "source": [
    "np.linalg.eigvals(A)    #只要特征值"
   ]
  },
  {
   "cell_type": "code",
   "execution_count": 15,
   "metadata": {},
   "outputs": [
    {
     "data": {
      "text/plain": [
       "(array([ 1.,  2.,  3.]), array([[ 1.,  0.,  0.],\n",
       "        [ 0.,  1.,  0.],\n",
       "        [ 0.,  0.,  1.]]))"
      ]
     },
     "execution_count": 15,
     "metadata": {},
     "output_type": "execute_result"
    }
   ],
   "source": [
    "B = np.diag((1, 2, 3))\n",
    "np.linalg.eig(B)"
   ]
  },
  {
   "cell_type": "code",
   "execution_count": 6,
   "metadata": {},
   "outputs": [
    {
     "data": {
      "text/latex": [
       "$$\\left[\\begin{matrix}0.577350269189626 & 0.707106781186548 & -0.408248290463863\\\\0.577350269189626 & -0.707106781186547 & -0.408248290463863\\\\0.577350269189626 & -2.78349283580232 \\cdot 10^{-16} & 0.816496580927726\\end{matrix}\\right]$$"
      ],
      "text/plain": [
       "⎡0.577350269189626    0.707106781186548    -0.408248290463863⎤\n",
       "⎢                                                            ⎥\n",
       "⎢0.577350269189626   -0.707106781186547    -0.408248290463863⎥\n",
       "⎢                                                            ⎥\n",
       "⎣0.577350269189626  -2.78349283580232e-16  0.816496580927726 ⎦"
      ]
     },
     "execution_count": 6,
     "metadata": {},
     "output_type": "execute_result"
    }
   ],
   "source": [
    "M = np.array([[6, -2, -1], [-2, 6, -1], [-1, -1, 5]])\n",
    "cancel(Matrix(np.linalg.eig(M)[1]))"
   ]
  },
  {
   "cell_type": "markdown",
   "metadata": {},
   "source": [
    "### 复特征值的迭代展示"
   ]
  },
  {
   "cell_type": "code",
   "execution_count": 99,
   "metadata": {},
   "outputs": [
    {
     "data": {
      "image/png": "[encoded data removed]",
      "text/plain": [
       "<Figure size 432x288 with 1 Axes>"
      ]
     },
     "metadata": {},
     "output_type": "display_data"
    }
   ],
   "source": [
    "A = Matrix([[0.5, -0.6], [0.75, 1.1]])\n",
    "A_new = A.dot(Matrix([2, 0]))\n",
    "A_new_x = []\n",
    "A_new_y = []\n",
    "fig = plt.figure() \n",
    "for i in range(100):\n",
    "    A_new = A.dot(A_new)\n",
    "    A_new_x.append(A.dot(A_new)[0])\n",
    "    A_new_y.append(A.dot(A_new)[1])\n",
    "plt.plot(A_new_x,A_new_y, 'y.-')\n",
    "plt.grid(True)\n",
    "plt.show()"
   ]
  },
  {
   "cell_type": "markdown",
   "metadata": {},
   "source": [
    "## 动力系统绘制"
   ]
  },
  {
   "cell_type": "markdown",
   "metadata": {},
   "source": [
    "#### 吸引子"
   ]
  },
  {
   "cell_type": "code",
   "execution_count": 117,
   "metadata": {},
   "outputs": [
    {
     "data": {
      "image/png": "[encoded data removed]",
      "text/plain": [
       "<Figure size 432x288 with 1 Axes>"
      ]
     },
     "metadata": {},
     "output_type": "display_data"
    }
   ],
   "source": [
    "A = np.array([[0.8, 0], [0, 0.64]])\n",
    "diag_m = np.diag(linalg.eig(A)[0])    #特征值对角化\n",
    "def dynamic_sys(x, y):\n",
    "    A_new_x = []\n",
    "    A_new_y = []\n",
    "    g = (i for i in range(100))\n",
    "    for n in g:\n",
    "        A_new = np.array([x, y]).dot(diag_m ** n).dot(linalg.eig(A)[1])\n",
    "        plt.scatter(A_new[0], A_new[1], s = 5, c = 'r',alpha = 0.2)\n",
    "        \n",
    "def iterate():\n",
    "    g = ((x,y) for x in range(-3, 4) for y in (-3, 0, 3))\n",
    "    for n in g:\n",
    "        dynamic_sys(n[0], n[1])\n",
    "\n",
    "fig = plt.figure()\n",
    "iterate()\n",
    "plt.xlim((-3, 3))\n",
    "plt.ylim((-3, 3))\n",
    "plt.show()"
   ]
  },
  {
   "cell_type": "markdown",
   "metadata": {},
   "source": [
    "#### 排斥子"
   ]
  },
  {
   "cell_type": "code",
   "execution_count": 124,
   "metadata": {},
   "outputs": [
    {
     "data": {
      "image/png": "[encoded data removed]",
      "text/plain": [
       "<Figure size 432x288 with 1 Axes>"
      ]
     },
     "metadata": {},
     "output_type": "display_data"
    }
   ],
   "source": [
    "B = np.array([[1.44, 0], [0, 1.2]])\n",
    "diag_m = np.diag(linalg.eig(B)[0])    #特征值对角化\n",
    "def dynamic_sys(x, y):\n",
    "    B_new_x = []\n",
    "    B_new_y = []\n",
    "    g = (i for i in range(100))\n",
    "    for n in g:\n",
    "        B_new = np.array([x, y]).dot(diag_m ** n).dot(linalg.eig(B)[1])\n",
    "        plt.scatter(B_new[0], B_new[1], s = 20, c = 'r', alpha = 1 / (100 - n))\n",
    "        \n",
    "def iterate():\n",
    "    g = ((x,y) for y in range(-3, 4) for x in (-3, 0, 3))\n",
    "    for n in g:\n",
    "        dynamic_sys(n[0], n[1])\n",
    "\n",
    "fig = plt.figure()\n",
    "iterate()\n",
    "plt.show()"
   ]
  },
  {
   "cell_type": "markdown",
   "metadata": {},
   "source": [
    "#### 鞍点"
   ]
  },
  {
   "cell_type": "code",
   "execution_count": 131,
   "metadata": {},
   "outputs": [
    {
     "data": {
      "image/png": "[encoded data removed]",
      "text/plain": [
       "<Figure size 432x288 with 1 Axes>"
      ]
     },
     "metadata": {},
     "output_type": "display_data"
    }
   ],
   "source": [
    "C = np.array([[2, 0], [0, 0.5]])\n",
    "diag_m = np.diag(linalg.eig(C)[0])    #特征值对角化\n",
    "def dynamic_sys(x, y):\n",
    "    C_new_x = []\n",
    "    C_new_y = []\n",
    "    g = (i for i in range(50))\n",
    "    for n in g:\n",
    "        C_new = np.array([x, y]).dot(diag_m ** n).dot(linalg.eig(C)[1])\n",
    "        plt.scatter(C_new[0], C_new[1], s = 20, c = 'r')\n",
    "        \n",
    "def iterate():\n",
    "    g = ((x,y) for x in (-3, -1, 0, 1, 3) for y in (-3, -1, 0, 1, 3))\n",
    "    for n in g:\n",
    "        dynamic_sys(n[0], n[1])\n",
    "\n",
    "fig = plt.figure()\n",
    "iterate()\n",
    "plt.show()"
   ]
  },
  {
   "cell_type": "markdown",
   "metadata": {},
   "source": [
    "#### 复特征值对应旋转"
   ]
  },
  {
   "cell_type": "code",
   "execution_count": 137,
   "metadata": {},
   "outputs": [
    {
     "name": "stderr",
     "output_type": "stream",
     "text": [
      "D:\\Anaconda\\lib\\site-packages\\numpy\\core\\numeric.py:583: ComplexWarning: Casting complex values to real discards the imaginary part\n",
      "  return array(a, dtype, copy=False, order=order, subok=True)\n"
     ]
    },
    {
     "data": {
      "image/png": "[encoded data removed]",
      "text/plain": [
       "<Figure size 432x288 with 1 Axes>"
      ]
     },
     "metadata": {},
     "output_type": "display_data"
    }
   ],
   "source": [
    "C = np.array([[0.8, 0.5], [-0.1, 1.0]])\n",
    "diag_m = np.diag(linalg.eig(C)[0])    #特征值对角化\n",
    "def dynamic_sys(x, y):\n",
    "    C_new_x = []\n",
    "    C_new_y = []\n",
    "    g = (i for i in range(50))\n",
    "    for n in g:\n",
    "        C_new = np.array([x, y]).dot(diag_m ** n).dot(linalg.eig(C)[1])\n",
    "        plt.scatter(C_new[0], C_new[1], s = 20, c = 'r', alpha = 1 / (50 - n))\n",
    "        \n",
    "def iterate():\n",
    "    g = ((x,y) for x in range(-3, 4) for y in (-3, 0, 3))\n",
    "    for n in g:\n",
    "        dynamic_sys(n[0], n[1])\n",
    "\n",
    "fig = plt.figure()\n",
    "iterate()\n",
    "plt.xlim((-3, 3))\n",
    "plt.ylim((-3, 3))\n",
    "plt.show()"
   ]
  },
  {
   "cell_type": "markdown",
   "metadata": {},
   "source": [
    "## 对称矩阵求逆"
   ]
  },
  {
   "cell_type": "code",
   "execution_count": 27,
   "metadata": {},
   "outputs": [
    {
     "data": {
      "text/latex": [
       "$$\\left[\\begin{matrix}0.74535599249993 & -0.298142396999972 & 0.596284793999944\\\\-0.666666666666667 & -0.333333333333333 & 0.666666666666667\\\\-0.483717410333908 & 0.873975871018455 & -0.0467294748246803\\end{matrix}\\right]$$"
      ],
      "text/plain": [
       "⎡ 0.74535599249993   -0.298142396999972   0.596284793999944 ⎤\n",
       "⎢                                                           ⎥\n",
       "⎢-0.666666666666667  -0.333333333333333   0.666666666666667 ⎥\n",
       "⎢                                                           ⎥\n",
       "⎣-0.483717410333908  0.873975871018455   -0.0467294748246803⎦"
      ]
     },
     "execution_count": 27,
     "metadata": {},
     "output_type": "execute_result"
    }
   ],
   "source": [
    "A = np.array([[3, -2, 4], [-2, 6, 2], [4, 2, 3]])\n",
    "Matrix(np.linalg.eig(A)[1]).T"
   ]
  },
  {
   "cell_type": "code",
   "execution_count": 28,
   "metadata": {},
   "outputs": [
    {
     "data": {
      "text/latex": [
       "$$\\left[\\begin{matrix}0.74535599249993 & 0.464809063666639 & 0.977760524333249\\\\-0.666666666666667 & -0.333333333333334 & 0.666666666666667\\\\0.0 & 1.1756253362927 & 0.587812668146348\\end{matrix}\\right]$$"
      ],
      "text/plain": [
       "⎡ 0.74535599249993   0.464809063666639   0.977760524333249⎤\n",
       "⎢                                                         ⎥\n",
       "⎢-0.666666666666667  -0.333333333333334  0.666666666666667⎥\n",
       "⎢                                                         ⎥\n",
       "⎣       0.0           1.1756253362927    0.587812668146348⎦"
      ]
     },
     "execution_count": 28,
     "metadata": {},
     "output_type": "execute_result"
    }
   ],
   "source": [
    "Matrix(np.linalg.inv((np.linalg.eig(A)[1])))"
   ]
  },
  {
   "cell_type": "code",
   "execution_count": 30,
   "metadata": {},
   "outputs": [
    {
     "name": "stdout",
     "output_type": "stream",
     "text": [
      "Wall time: 2 ms\n"
     ]
    },
    {
     "data": {
      "text/plain": [
       "(array([ 49.,   4.,  49.]), array([[ 0.74535599, -0.66666667,  0.17626063],\n",
       "        [-0.2981424 , -0.33333333,  0.79855406],\n",
       "        [ 0.59628479,  0.66666667,  0.57553766]]))"
      ]
     },
     "execution_count": 30,
     "metadata": {},
     "output_type": "execute_result"
    }
   ],
   "source": [
    "%%time\n",
    "np.linalg.eig(A.T.dot(A))"
   ]
  }
 ],
 "metadata": {
  "kernelspec": {
   "display_name": "Python 3",
   "language": "python",
   "name": "python3"
  },
  "language_info": {
   "codemirror_mode": {
    "name": "ipython",
    "version": 3
   },
   "file_extension": ".py",
   "mimetype": "text/x-python",
   "name": "python",
   "nbconvert_exporter": "python",
   "pygments_lexer": "ipython3",
   "version": "3.6.5"
  }
 },
 "nbformat": 4,
 "nbformat_minor": 2
}
