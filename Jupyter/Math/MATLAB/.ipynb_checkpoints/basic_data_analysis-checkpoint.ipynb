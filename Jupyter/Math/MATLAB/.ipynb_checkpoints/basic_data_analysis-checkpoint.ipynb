{
 "cells": [
  {
   "cell_type": "markdown",
   "metadata": {},
   "source": [
    "## 平均值与中值平均值"
   ]
  },
  {
   "cell_type": "code",
   "execution_count": 2,
   "metadata": {},
   "outputs": [
    {
     "name": "stdout",
     "output_type": "stream",
     "text": [
      "\n",
      "A =\n",
      "\n",
      "     1     2     4     5\n",
      "     2     3     5     6\n",
      "     1     3     1     5\n",
      "\n",
      "\n",
      "ans =\n",
      "\n",
      "    1.3333    2.6667    3.3333    5.3333\n",
      "\n",
      "\n",
      "ans =\n",
      "\n",
      "    1.3333    2.6667    3.3333    5.3333\n",
      "\n",
      "\n",
      "ans =\n",
      "\n",
      "    3.0000\n",
      "    4.0000\n",
      "    2.5000\n",
      "\n",
      "\n"
     ]
    }
   ],
   "source": [
    "A=[1 2 4 5; 2 3 5 6; 1 3 1 5]\n",
    "mean(A)\n",
    "mean(A, 1)\n",
    "mean(A, 2)    %mean(A, dim)"
   ]
  },
  {
   "cell_type": "code",
   "execution_count": 3,
   "metadata": {},
   "outputs": [
    {
     "name": "stdout",
     "output_type": "stream",
     "text": [
      "\n",
      "A =\n",
      "\n",
      "     1     2     3\n",
      "     4     5     6\n",
      "     3     7     8\n",
      "\n",
      "\n",
      "ans =\n",
      "\n",
      "     1     2     3\n",
      "     3     5     6\n",
      "     4     7     8\n",
      "\n",
      "\n",
      "Y =\n",
      "\n",
      "     1     2     3\n",
      "     3     5     6\n",
      "     4     7     8\n",
      "\n",
      "\n",
      "I =\n",
      "\n",
      "     1     1     1\n",
      "     3     2     2\n",
      "     2     3     3\n",
      "\n",
      "\n"
     ]
    }
   ],
   "source": [
    "A = [1 2 3; 4 5 6; 3 7 8]\n",
    "sort(A)\n",
    "[Y, I] = sort(A)    %Y为排序结果，I中元素表示Y中对应元素在A中的位置"
   ]
  },
  {
   "cell_type": "code",
   "execution_count": null,
   "metadata": {},
   "outputs": [],
   "source": []
  }
 ],
 "metadata": {
  "kernelspec": {
   "display_name": "Matlab",
   "language": "matlab",
   "name": "matlab"
  },
  "language_info": {
   "codemirror_mode": "octave",
   "file_extension": ".m",
   "help_links": [
    {
     "text": "MetaKernel Magics",
     "url": "https://github.com/calysto/metakernel/blob/master/metakernel/magics/README.md"
    }
   ],
   "mimetype": "text/x-octave",
   "name": "matlab",
   "version": "0.15.0"
  }
 },
 "nbformat": 4,
 "nbformat_minor": 2
}
