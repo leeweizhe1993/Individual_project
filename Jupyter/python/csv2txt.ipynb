{
 "cells": [
  {
   "cell_type": "code",
   "execution_count": 2,
   "metadata": {},
   "outputs": [],
   "source": [
    "import os, re"
   ]
  },
  {
   "cell_type": "code",
   "execution_count": 6,
   "metadata": {},
   "outputs": [],
   "source": [
    "path = \"C://Users//aa//Desktop//edu\"\n",
    "\n",
    "with open(path + '//total.txt', 'w') as f:\n",
    "    for filename in os.listdir(path):\n",
    "        if os.path.splitext(filename)[0] == 'total':\n",
    "            f.close()\n",
    "            break\n",
    "        if os.path.splitext(filename)[1] == '.txt':\n",
    "            line = os.path.splitext(filename)[0]\n",
    "            ele = re.split(r'[,。，]',line)\n",
    "            f.writelines(ele[0] + '\\t' + ele[1] + '\\t' + ele[2] + '\\t' + ele[3])\n",
    "            f.write('\\n')"
   ]
  },
  {
   "cell_type": "code",
   "execution_count": 5,
   "metadata": {},
   "outputs": [
    {
     "data": {
      "text/plain": [
       "['we', 'f.eq', 'efq', 'w']"
      ]
     },
     "execution_count": 5,
     "metadata": {},
     "output_type": "execute_result"
    }
   ],
   "source": [
    "a = 'we。f.eq,efq，w'\n",
    "re.split(r'[,。，]',a)"
   ]
  },
  {
   "cell_type": "code",
   "execution_count": null,
   "metadata": {},
   "outputs": [],
   "source": []
  }
 ],
 "metadata": {
  "kernelspec": {
   "display_name": "Python 3",
   "language": "python",
   "name": "python3"
  },
  "language_info": {
   "codemirror_mode": {
    "name": "ipython",
    "version": 3
   },
   "file_extension": ".py",
   "mimetype": "text/x-python",
   "name": "python",
   "nbconvert_exporter": "python",
   "pygments_lexer": "ipython3",
   "version": "3.6.5"
  }
 },
 "nbformat": 4,
 "nbformat_minor": 2
}
