{
 "cells": [
  {
   "cell_type": "code",
   "execution_count": 157,
   "metadata": {},
   "outputs": [],
   "source": [
    "import requests, time, pickle\n",
    "import re"
   ]
  },
  {
   "cell_type": "code",
   "execution_count": 161,
   "metadata": {},
   "outputs": [
    {
     "data": {
      "text/plain": [
       "{'Accept': 'text/html,application/xhtml+xml,application/xml;q=0.9,image/webp,image/apng,*/*;q=0.8',\n",
       " 'Accept-Encoding': 'gzip, deflate, br',\n",
       " 'Accept-Language': 'zh-CN,zh;q=0.9,en-US;q=0.8,en;q=0.7',\n",
       " 'Connection': 'keep-alive',\n",
       " 'Cookie': 'session-id=458-7139635-7722003; ubid-acbcn=457-7601700-2275409; x-wl-uid=1uazbWRMMqIDl7FA/M73fUqrDsAJDGb0elhtoqU2Xw1fqoWATkJWOUuUFe8PvPBOJZco92rvYzU9CtctdO9Mivm+piINoFLU/JRdip8z6ShI76CeH8rm/U/ViNFtUN1OrzlRFsLt9kJA=; lc-acbcn=zh_CN; s_vnum=1956891884257%26vn%3D1; s_nr=1524891887178-New; s_dslv=1524891887179; x-acbcn=ed0tpQM7XJ16m4MAIPxNt5ets0EfWaN0RMsvWgE9jhe4mMiE5Hu0oThbGEImyIGq; at-main=Atza|IwEBIIV9VeGbCF6gJFBOEqh3NZbFTO1InWOUC3qfXhE0Oi_xTQFon4MZkw43QDFY8xHaBUMf4DhZabEyFt4VgZrI4SkGV2kFCuj5deqC9hAf3oY8lm6gQbRlXJVC0KSGr8--wWYLD_94kN2q9tSAjih_xdzJFSm8LoF_dAEAsHsnCkb8BoadUlIydji_XQh5qdxhnVExXBbSL2NbraiGROmFQrblwWfCWLGPzTuUw-MiEDi1bHy4rnsT_T27HhMieAtJ9YKJPrW-kDi23VXHZ6ZEOD7I35Ylge-SjSk4QDgHni0H95QTYvND8edNF1XVXIRg2kgbAKEQ9UrXWJ-ixzwzaO0Q3WKTyGv6cKq1UIs84UhHoQrMBCQyJVarTgWftH84Zxf5X_UpN2kutO2r5tHOgpBg; sess-at-main=\"7KU6YXC4UkYabUkN4VMrvRbWfNdPwCUjouWMJWx+pyo=\"; sst-main=Sst1|PQHCk_WcsaxdclKzESP6jFofC_YJ61xpwVuB7mgo3erEK49Mq4W9cGw1yC5meVnuQGyTO9tw9uciYFTuXLXM88cdRKpJi79IITw0UQorB9j46xh8tdN_auRskd31hIBCgXK9vS4TrZiiJCkAf1jrlfPEIQ9MG2bHjDJPKXINeLtCMjkSKj5jNB2l6sGFNJ2OHpzcxkiKpJelb2HP1BygLEVCesD3MVy6x22foPYEuAfdGJHe-S2xVgpVAZmVN0g9KmxHFPZ3ZI-JxBRdd2Temxwdm7BHiMgfYwFjkcgOlZdDdIz3B4nIQmD81Sidd-oWknX67ixzTWR5dAQQlnLf-tCKMA; session-token=\"5bC7aHwF9365DhGvppa3ckrtRGzMrMoweMdokEUKm4ZUj40dDeDxta5Mi+c2IUYWSeaXUocdT1mJ9cnugw00aHNQ7+yoabACr0ReUgXHHigtVjMk9W4dU7ns6a5UZfmeKvo6WSymuaThUBmijbZICDcsEr51f9J6rrwjaVptGpDKYX1vVDtvJzA5Sr7rOXTWAd0GsHUfQ95GCPdpUi7VVymbPoMH35pJ32lEuae0ibACYtVFa9PvRj4+pw5aQ8DZaN8KJAcMNXo=\"; session-id-time=2082729601l; csm-hit=tb',\n",
       " 'Host': 'www.amazon.cn',\n",
       " 'Upgrade-Insecure-Requests': '1',\n",
       " 'User-Agent': 'Mozilla/5.0 (Windows NT 10.0; WOW64) AppleWebKit/537.36 (KHTML, like Gecko) Chrome/68.0.3440.15 Safari/537.36'}"
      ]
     },
     "execution_count": 161,
     "metadata": {},
     "output_type": "execute_result"
    }
   ],
   "source": [
    "with open(\"headers.txt\", 'r') as f:\n",
    "    txt = f.read()\n",
    "    json = txt.split(\"\\n\")\n",
    "    headers = {}\n",
    "    for i in json:\n",
    "        headers[i.split(\":\")[0].strip()] = i.split(\":\")[1].strip()\n",
    "    f.close()\n",
    "headers"
   ]
  },
  {
   "cell_type": "code",
   "execution_count": 159,
   "metadata": {},
   "outputs": [],
   "source": [
    "urls = ['https://www.amazon.cn/dp/B00HNQ7I18/?coliid=I1T9Z4T81V739X&colid=3OYPXXDLPVYWS&psc=0&ref_=lv_ov_lig_dp_it',\n",
    " 'https://www.amazon.cn/dp/B00E37QBDG/?coliid=I2FVDURN4T06TE&colid=3OYPXXDLPVYWS&psc=0&ref_=lv_ov_lig_dp_it',\n",
    " 'https://www.amazon.cn/dp/B019C5Y1YO/?coliid=I3DQARI3U2ETYY&colid=3OYPXXDLPVYWS&psc=0&ref_=lv_ov_lig_dp_it',\n",
    " 'https://www.amazon.cn/dp/B0015BUZSU/?coliid=I2S7WQOB1CKTKJ&colid=3OYPXXDLPVYWS&psc=0&ref_=lv_ov_lig_dp_it',\n",
    " 'https://www.amazon.cn/dp/B01N4K7QQW/?coliid=I315PEDV9N0JFW&colid=3OYPXXDLPVYWS&psc=0&ref_=lv_ov_lig_dp_it',\n",
    " 'https://www.amazon.cn/dp/B01IEXW886/?coliid=I2EP7ZWPLIFY3T&colid=3OYPXXDLPVYWS&psc=0&ref_=lv_ov_lig_dp_it',\n",
    " 'https://www.amazon.cn/dp/B06XPFBG6G/?coliid=I266KSQT89IJLR&colid=3OYPXXDLPVYWS&psc=0&ref_=lv_ov_lig_dp_it',\n",
    " 'https://www.amazon.cn/dp/B00ZR3MOYK/?coliid=I2E8Y9WM57ADNM&colid=3OYPXXDLPVYWS&psc=0&ref_=lv_ov_lig_dp_it',\n",
    " 'https://www.amazon.cn/dp/B00H430SFS/?coliid=I12OKMRHHX2TA&colid=3OYPXXDLPVYWS&psc=0&ref_=lv_ov_lig_dp_it',\n",
    " 'https://www.amazon.cn/dp/B01N1MV8FT/?coliid=I2R29V5X7MWU2U&colid=3OYPXXDLPVYWS&psc=0&ref_=lv_ov_lig_dp_it',\n",
    " 'https://www.amazon.cn/dp/B075MD17MX/?coliid=I1PXS12WJ97C73&colid=3OYPXXDLPVYWS&psc=0&ref_=lv_ov_lig_dp_it',\n",
    " 'https://www.amazon.cn/dp/B0711Q56JF/?coliid=I2B1QMRFC4KZBU&colid=3OYPXXDLPVYWS&psc=0&ref_=lv_ov_lig_dp_it',\n",
    " 'https://www.amazon.cn/dp/B00HVSWERQ/?coliid=I3AUCJYCYXWH6X&colid=3OYPXXDLPVYWS&psc=0&ref_=lv_ov_lig_dp_it',\n",
    " 'https://www.amazon.cn/dp/B078NPR8C7/?coliid=I1Y4Z6FPHYC1DA&colid=3OYPXXDLPVYWS&psc=0&ref_=lv_ov_lig_dp_it',\n",
    " 'https://www.amazon.cn/dp/B00KW8A4CO/?coliid=IJIFGTS63PVIQ&colid=3OYPXXDLPVYWS&psc=0&ref_=lv_ov_lig_dp_it',\n",
    " 'https://www.amazon.cn/dp/B0083F4WTO/?coliid=I2JT8LY4X2OOIW&colid=3OYPXXDLPVYWS&psc=0&ref_=lv_ov_lig_dp_it',\n",
    " 'https://www.amazon.cn/dp/B078MBLZVS/?coliid=I1Q9Z6G63HH666&colid=3OYPXXDLPVYWS&psc=0&ref_=lv_ov_lig_dp_it',\n",
    " 'https://www.amazon.cn/dp/B00RG76M3Y/?coliid=IV1EZQVZAIT73&colid=3OYPXXDLPVYWS&psc=0&ref_=lv_ov_lig_dp_it',\n",
    " 'https://www.amazon.cn/dp/B01NCJAA12/?coliid=INOKQHJAGIXTT&colid=3OYPXXDLPVYWS&psc=0&ref_=lv_ov_lig_dp_it',\n",
    " 'https://www.amazon.cn/dp/B00MPIWA4Y/?coliid=IKZQ6DNOL1I2&colid=3OYPXXDLPVYWS&psc=0&ref_=lv_ov_lig_dp_it',\n",
    " 'https://www.amazon.cn/dp/B01742Y31S/?coliid=I20G9PHEG7FSTQ&colid=3OYPXXDLPVYWS&psc=0&ref_=lv_ov_lig_dp_it',\n",
    " 'https://www.amazon.cn/dp/B01CF2UAI2/?coliid=I9J0U44575ZPA&colid=3OYPXXDLPVYWS&psc=0&ref_=lv_ov_lig_dp_it',\n",
    " 'https://www.amazon.cn/dp/B007E7G9ZC/?coliid=I1MY9YBCPZNLRL&colid=3OYPXXDLPVYWS&psc=0&ref_=lv_ov_lig_dp_it',\n",
    " 'https://www.amazon.cn/dp/1101946598/?coliid=I1MNNZPAN9RHRD&colid=3OYPXXDLPVYWS&psc=0&ref_=lv_ov_lig_dp_it',\n",
    " 'https://www.amazon.cn/dp/0674023382/?coliid=I10PBP0E0E527J&colid=3OYPXXDLPVYWS&psc=0&ref_=lv_ov_lig_dp_it',\n",
    " 'https://www.amazon.cn/dp/B001LA1KLQ/?coliid=I1TN697T8WEF0D&colid=3OYPXXDLPVYWS&psc=0&ref_=lv_ov_lig_dp_it',\n",
    " 'https://www.amazon.cn/dp/B0011FA5LM/?coliid=I2FEZ63G9N06S2&colid=3OYPXXDLPVYWS&psc=0&ref_=lv_ov_lig_dp_it',\n",
    " 'https://www.amazon.cn/dp/B00EE5IAHW/?coliid=I19HZJ9CLLJH9A&colid=29F9RD6YIB38K&psc=0&ref_=lv_ov_lig_dp_it',\n",
    " 'https://www.amazon.cn/dp/B01K4FS4TE/?coliid=I1ED01074WC6L4&colid=29F9RD6YIB38K&psc=0&ref_=lv_ov_lig_dp_it',\n",
    " 'https://www.amazon.cn/dp/B071K88XPR/?coliid=ID762FIIYQ0J1&colid=29F9RD6YIB38K&psc=0&ref_=lv_ov_lig_dp_it',\n",
    " 'https://www.amazon.cn/dp/B0716WKH2J/?coliid=I2LW1DZX1F18KZ&colid=29F9RD6YIB38K&psc=0&ref_=lv_ov_lig_dp_it',\n",
    " 'https://www.amazon.cn/dp/B072K4CHFH/?coliid=I2UMTHR14RQA74&colid=29F9RD6YIB38K&psc=0&ref_=lv_ov_lig_dp_it',\n",
    " 'https://www.amazon.cn/dp/B076WQK5TW/?coliid=I1LH7RT3JQ6DBV&colid=29F9RD6YIB38K&psc=0&ref_=lv_ov_lig_dp_it',\n",
    " 'https://www.amazon.cn/dp/B071NZB41D/?coliid=I2WE244E2F20XO&colid=29F9RD6YIB38K&psc=0&ref_=lv_ov_lig_dp_it',\n",
    " 'https://www.amazon.cn/dp/B01M8MZ5DX/?coliid=I3CWEBVV0UO1EF&colid=29F9RD6YIB38K&psc=0&ref_=lv_ov_lig_dp_it',\n",
    " 'https://www.amazon.cn/dp/B074C2XWB4/?coliid=I4Z7DTHVDWKCK&colid=29F9RD6YIB38K&psc=0&ref_=lv_ov_lig_dp_it',\n",
    " 'https://www.amazon.cn/dp/B076DGNXP1/?coliid=IMTROU319MENW&colid=29F9RD6YIB38K&psc=0&ref_=lv_ov_lig_dp_it',\n",
    " 'https://www.amazon.cn/dp/B076WRJTMN/?coliid=I38L97JVM17RT7&colid=29F9RD6YIB38K&psc=0&ref_=lv_ov_lig_dp_it',\n",
    " 'https://www.amazon.cn/dp/B015QSNGLU/?coliid=I11APS13RBJG1H&colid=29F9RD6YIB38K&psc=0&ref_=lv_ov_lig_dp_it',\n",
    " 'https://www.amazon.cn/dp/B00DMS9990/?coliid=ITPBSP1KWV91P&colid=29F9RD6YIB38K&psc=0&ref_=lv_ov_lig_dp_it',\n",
    " 'https://www.amazon.cn/dp/B073LYQ7WG/?coliid=IPWM3R3A1YEMH&colid=29F9RD6YIB38K&psc=0&ref_=lv_ov_lig_dp_it',\n",
    " 'https://www.amazon.cn/dp/B075JDNR37/?coliid=I6L6P3WDZPSKT&colid=29F9RD6YIB38K&psc=0&ref_=lv_ov_lig_dp_it',\n",
    " 'https://www.amazon.cn/dp/B07BHK11WQ/ref=pd_cp_351_1?_encoding=UTF8&pd_rd_i=B07BHK11WQ&pd_rd_r=352a0d76-8689-11e8-bac7-df01cc25df45&pd_rd_w=FB2EB&pd_rd_wg=pv7cH&pf_rd_i=desktop-dp-sims&pf_rd_m=A1AJ19PSB66TGU&pf_rd_p=2731279874357502789&pf_rd_r=C9K67YHRDND2EHS61CZT&pf_rd_s=desktop-dp-sims&pf_rd_t=40701&psc=1&refRID=C9K67YHRDND2EHS61CZT',\n",
    " 'https://www.amazon.cn/dp/B00ICPHHVA/?coliid=I1CL6IVXINZBDW&colid=29F9RD6YIB38K&psc=0&ref_=lv_ov_lig_dp_it',\n",
    " 'https://www.amazon.cn/dp/B00C4OM7V0/?coliid=I3BIUA1C5U1SLQ&colid=29F9RD6YIB38K&psc=0&ref_=lv_ov_lig_dp_it',\n",
    " 'https://www.amazon.cn/dp/B004JZY9BI/?coliid=I1HV3GTTJOF01V&colid=29F9RD6YIB38K&psc=0&ref_=lv_ov_lig_dp_it']"
   ]
  },
  {
   "cell_type": "code",
   "execution_count": 213,
   "metadata": {},
   "outputs": [
    {
     "name": "stdout",
     "output_type": "stream",
     "text": [
      "获取逻辑学导论 (21世纪大学文科教材,复旦博学·哲学系列)完成\n"
     ]
    },
    {
     "ename": "IndexError",
     "evalue": "list index out of range",
     "output_type": "error",
     "traceback": [
      "\u001b[1;31m---------------------------------------------------------------------------\u001b[0m",
      "\u001b[1;31mIndexError\u001b[0m                                Traceback (most recent call last)",
      "\u001b[1;32m<ipython-input-213-7e1eea7a2f92>\u001b[0m in \u001b[0;36m<module>\u001b[1;34m()\u001b[0m\n\u001b[0;32m     36\u001b[0m         \u001b[0mprint\u001b[0m\u001b[1;33m(\u001b[0m\u001b[0mcompare\u001b[0m\u001b[1;33m[\u001b[0m\u001b[1;36m0\u001b[0m\u001b[1;33m]\u001b[0m\u001b[1;33m,\u001b[0m\u001b[1;34m\"价格差为\"\u001b[0m\u001b[1;33m,\u001b[0m \u001b[0mcompare\u001b[0m\u001b[1;33m[\u001b[0m\u001b[1;36m1\u001b[0m\u001b[1;33m]\u001b[0m\u001b[1;33m)\u001b[0m\u001b[1;33m\u001b[0m\u001b[0m\n\u001b[0;32m     37\u001b[0m \u001b[1;33m\u001b[0m\u001b[0m\n\u001b[1;32m---> 38\u001b[1;33m \u001b[0mget_info\u001b[0m\u001b[1;33m(\u001b[0m\u001b[1;33m)\u001b[0m\u001b[1;33m\u001b[0m\u001b[0m\n\u001b[0m",
      "\u001b[1;32m<ipython-input-213-7e1eea7a2f92>\u001b[0m in \u001b[0;36mget_info\u001b[1;34m()\u001b[0m\n\u001b[0;32m     11\u001b[0m         \u001b[0mpattern2\u001b[0m \u001b[1;33m=\u001b[0m \u001b[0mre\u001b[0m\u001b[1;33m.\u001b[0m\u001b[0mcompile\u001b[0m\u001b[1;33m(\u001b[0m\u001b[1;34mr'a-size-base a-color-price a-color-price\".*￥\\d{0,4}\\.\\d{2}'\u001b[0m\u001b[1;33m)\u001b[0m\u001b[1;33m\u001b[0m\u001b[0m\n\u001b[0;32m     12\u001b[0m         \u001b[0mresult2\u001b[0m \u001b[1;33m=\u001b[0m \u001b[0mstr\u001b[0m\u001b[1;33m(\u001b[0m\u001b[0mpattern2\u001b[0m\u001b[1;33m.\u001b[0m\u001b[0msearch\u001b[0m\u001b[1;33m(\u001b[0m\u001b[0mstr\u001b[0m\u001b[1;33m(\u001b[0m\u001b[0mtxt\u001b[0m\u001b[1;33m)\u001b[0m\u001b[1;33m)\u001b[0m\u001b[1;33m)\u001b[0m\u001b[1;33m\u001b[0m\u001b[0m\n\u001b[1;32m---> 13\u001b[1;33m         \u001b[0mtoday_price\u001b[0m \u001b[1;33m=\u001b[0m \u001b[0mfloat\u001b[0m\u001b[1;33m(\u001b[0m\u001b[0mre\u001b[0m\u001b[1;33m.\u001b[0m\u001b[0mfindall\u001b[0m\u001b[1;33m(\u001b[0m\u001b[1;34mr\"￥(.*)'\"\u001b[0m\u001b[1;33m,\u001b[0m \u001b[0mresult2\u001b[0m\u001b[1;33m)\u001b[0m\u001b[1;33m[\u001b[0m\u001b[1;36m0\u001b[0m\u001b[1;33m]\u001b[0m\u001b[1;33m)\u001b[0m\u001b[1;33m\u001b[0m\u001b[0m\n\u001b[0m\u001b[0;32m     14\u001b[0m         \u001b[0mprint\u001b[0m\u001b[1;33m(\u001b[0m\u001b[1;34m\"价格为：\"\u001b[0m \u001b[1;33m+\u001b[0m \u001b[0mstr\u001b[0m\u001b[1;33m(\u001b[0m\u001b[0mtoday_price\u001b[0m\u001b[1;33m)\u001b[0m\u001b[1;33m)\u001b[0m\u001b[1;33m\u001b[0m\u001b[0m\n\u001b[0;32m     15\u001b[0m         \u001b[1;32mif\u001b[0m \u001b[0mbook_name\u001b[0m \u001b[1;32min\u001b[0m \u001b[0mbook\u001b[0m \u001b[1;33m==\u001b[0m \u001b[1;32mTrue\u001b[0m\u001b[1;33m:\u001b[0m\u001b[1;33m\u001b[0m\u001b[0m\n",
      "\u001b[1;31mIndexError\u001b[0m: list index out of range"
     ]
    }
   ],
   "source": [
    "def get_info():\n",
    "    book = []\n",
    "    price = []\n",
    "    for url in urls:\n",
    "        time.sleep(0.5)\n",
    "        r = requests.get(url, headers = headers)\n",
    "        txt = BeautifulSoup(r.text, 'lxml')\n",
    "        pattern1 = re.findall(r'roductTitle\".*<',str(txt))\n",
    "        book_name = re.findall(r\">(.*)<\", str(pattern1))\n",
    "        print(\"获取\" + book_name[0] + \"完成\")\n",
    "        pattern2 = re.compile(r'a-size-base a-color-price a-color-price\".*￥\\d{0,4}\\.\\d{2}')\n",
    "        result2 = str(pattern2.search(str(txt)))\n",
    "        today_price = float(re.findall(r\"￥(.*)'\", result2)[0])\n",
    "        print(\"价格为：\" + str(today_price))\n",
    "        if book_name in book == True:\n",
    "            price[price.index(book_name)][1] = today_price\n",
    "        else:\n",
    "            book.append(book_name)\n",
    "            price.append([book_name, price])\n",
    "    write_to_history(price)\n",
    "\n",
    "def write_to_history(price):\n",
    "    with open(\"yesterday.pk\", \"rb\") as a:\n",
    "        yesterday = pickle.load(a)\n",
    "        a.close()\n",
    "    with open(\"yesterday.pk\", \"wb\") as f:\n",
    "        yesterday = dump.load(price, f)\n",
    "        f.close()\n",
    "    compare_book(price, yersterday)\n",
    "\n",
    "def compare_book(today, yersterday):\n",
    "    compare = today\n",
    "    for i, j in today, yersterday:\n",
    "        compare[compare.index(i)][1] = i[1] - j[1]\n",
    "    for i in compare:\n",
    "        print(compare[0],\"价格差为\", compare[1])\n",
    "\n",
    "get_info()"
   ]
  },
  {
   "cell_type": "code",
   "execution_count": 214,
   "metadata": {},
   "outputs": [
    {
     "ename": "NameError",
     "evalue": "name 'pattern2' is not defined",
     "output_type": "error",
     "traceback": [
      "\u001b[1;31m---------------------------------------------------------------------------\u001b[0m",
      "\u001b[1;31mNameError\u001b[0m                                 Traceback (most recent call last)",
      "\u001b[1;32m<ipython-input-214-37e8bac606a3>\u001b[0m in \u001b[0;36m<module>\u001b[1;34m()\u001b[0m\n\u001b[1;32m----> 1\u001b[1;33m \u001b[0mresult2\u001b[0m \u001b[1;33m=\u001b[0m \u001b[0mstr\u001b[0m\u001b[1;33m(\u001b[0m\u001b[0mpattern2\u001b[0m\u001b[1;33m.\u001b[0m\u001b[0msearch\u001b[0m\u001b[1;33m(\u001b[0m\u001b[0mstr\u001b[0m\u001b[1;33m(\u001b[0m\u001b[0mtxt\u001b[0m\u001b[1;33m)\u001b[0m\u001b[1;33m)\u001b[0m\u001b[1;33m)\u001b[0m\u001b[1;33m\u001b[0m\u001b[0m\n\u001b[0m",
      "\u001b[1;31mNameError\u001b[0m: name 'pattern2' is not defined"
     ]
    }
   ],
   "source": [
    "result2 = str(pattern2.search(str(txt)))"
   ]
  },
  {
   "cell_type": "code",
   "execution_count": null,
   "metadata": {},
   "outputs": [],
   "source": []
  }
 ],
 "metadata": {
  "kernelspec": {
   "display_name": "Python 3",
   "language": "python",
   "name": "python3"
  },
  "language_info": {
   "codemirror_mode": {
    "name": "ipython",
    "version": 3
   },
   "file_extension": ".py",
   "mimetype": "text/x-python",
   "name": "python",
   "nbconvert_exporter": "python",
   "pygments_lexer": "ipython3",
   "version": "3.6.6"
  }
 },
 "nbformat": 4,
 "nbformat_minor": 2
}
