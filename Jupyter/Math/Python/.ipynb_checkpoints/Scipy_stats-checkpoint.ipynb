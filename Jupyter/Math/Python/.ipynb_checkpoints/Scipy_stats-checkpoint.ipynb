{
 "cells": [
  {
   "cell_type": "code",
   "execution_count": 1,
   "metadata": {},
   "outputs": [],
   "source": [
    "import numpy as np\n",
    "import pandas as pd\n",
    "import matplotlib.pyplot as plt\n",
    "from sympy import *\n",
    "from scipy import stats\n",
    "import math\n",
    "import rpy2\n",
    "from rpy2.robjects import r, pandas2ri"
   ]
  },
  {
   "cell_type": "code",
   "execution_count": 2,
   "metadata": {},
   "outputs": [],
   "source": [
    "%matplotlib inline\n",
    "init_printing(use_unicode=True)\n",
    "pandas2ri.activate()"
   ]
  },
  {
   "cell_type": "markdown",
   "metadata": {},
   "source": [
    "## 1.  rv_continuous 代表连续型随机变量，rv_discrete 代表离散型随机变量"
   ]
  },
  {
   "cell_type": "code",
   "execution_count": 3,
   "metadata": {},
   "outputs": [
    {
     "name": "stdout",
     "output_type": "stream",
     "text": [
      "连续型：\t['ksone', 'kstwobign', 'norm', 'alpha', 'anglit', 'arcsine', 'beta', 'betaprime', 'bradford', 'burr', 'burr12', 'fisk', 'cauchy', 'chi', 'chi2', 'cosine', 'dgamma', 'dweibull', 'expon', 'exponnorm', 'exponweib', 'exponpow', 'fatiguelife', 'foldcauchy', 'f', 'foldnorm', 'weibull_min', 'weibull_max', 'frechet_r', 'frechet_l', 'genlogistic', 'genpareto', 'genexpon', 'genextreme', 'gamma', 'erlang', 'gengamma', 'genhalflogistic', 'gompertz', 'gumbel_r', 'gumbel_l', 'halfcauchy', 'halflogistic', 'halfnorm', 'hypsecant', 'gausshyper', 'invgamma', 'invgauss', 'invweibull', 'johnsonsb', 'johnsonsu', 'laplace', 'levy', 'levy_l', 'levy_stable', 'logistic', 'loggamma', 'loglaplace', 'lognorm', 'gilbrat', 'maxwell', 'mielke', 'kappa4', 'kappa3', 'nakagami', 'ncx2', 'ncf', 't', 'nct', 'pareto', 'lomax', 'pearson3', 'powerlaw', 'powerlognorm', 'powernorm', 'rdist', 'rayleigh', 'reciprocal', 'rice', 'recipinvgauss', 'semicircular', 'skewnorm', 'trapz', 'triang', 'truncexpon', 'truncnorm', 'tukeylambda', 'uniform', 'vonmises', 'vonmises_line', 'wald', 'wrapcauchy', 'gennorm', 'halfgennorm', 'crystalball', 'argus']\n",
      "离散型：\t['binom', 'bernoulli', 'nbinom', 'geom', 'hypergeom', 'logser', 'poisson', 'planck', 'boltzmann', 'randint', 'zipf', 'dlaplace', 'skellam']"
     ]
    }
   ],
   "source": [
    "print(\"连续型：\", [k for k, v in stats.__dict__.items() if isinstance(v, stats.rv_continuous)], sep = \"\\t\", end = \"\")\n",
    "print(\"\")\n",
    "print(\"离散型：\", [k for k, v in stats.__dict__.items() if isinstance(v, stats.rv_discrete)], sep = \"\\t\", end = \"\")"
   ]
  },
  {
   "cell_type": "code",
   "execution_count": 28,
   "metadata": {},
   "outputs": [
    {
     "data": {
      "text/plain": [
       "(array(1.), array(4.))"
      ]
     },
     "execution_count": 28,
     "metadata": {},
     "output_type": "execute_result"
    }
   ],
   "source": [
    "X = stats.norm(loc = 1.0, scale = 2.0)    ##µ = 1，σ = 2\n",
    "X.stats()"
   ]
  },
  {
   "cell_type": "code",
   "execution_count": 33,
   "metadata": {},
   "outputs": [
    {
     "name": "stdout",
     "output_type": "stream",
     "text": [
      "对μ=1，σ=2的总体取样1w次得样本：[ 0.51730975  1.55220676 -1.01756729 ...  1.08735124  0.655663\n",
      "  3.17025961]，均值：0.9857030111139947，方差：3.911267164469408\n"
     ]
    },
    {
     "data": {
      "text/plain": [
       "(10.387076877953072, -7.617745525839489)"
      ]
     },
     "execution_count": 33,
     "metadata": {},
     "output_type": "execute_result"
    }
   ],
   "source": [
    "x = X.rvs(size = 10000)    #对随机变量取10000个值\n",
    "print(\"对μ=1，σ=2的总体取样1w次得样本：{0}，均值：{1}，方差：{2}\".format(x, np.mean(x), np.var(x)))    #期望值与方差\n",
    "x.max(),x.min()"
   ]
  },
  {
   "cell_type": "code",
   "execution_count": 30,
   "metadata": {},
   "outputs": [
    {
     "data": {
      "text/plain": [
       "(1.0198506833318957, 2.0030892243669363)"
      ]
     },
     "execution_count": 30,
     "metadata": {},
     "output_type": "execute_result"
    }
   ],
   "source": [
    "stats.norm.fit(x)"
   ]
  },
  {
   "cell_type": "code",
   "execution_count": 31,
   "metadata": {},
   "outputs": [
    {
     "data": {
      "text/plain": [
       "(array([0.00060542, 0.        , 0.        , 0.        , 0.        ,\n",
       "        0.        , 0.        , 0.        , 0.00121084, 0.        ,\n",
       "        0.00060542, 0.00181626, 0.00060542, 0.00181626, 0.00060542,\n",
       "        0.        , 0.00060542, 0.        , 0.00242168, 0.00665963,\n",
       "        0.00181626, 0.00423795, 0.00544879, 0.01089758, 0.00787048,\n",
       "        0.011503  , 0.01210842, 0.02179516, 0.02482227, 0.02300601,\n",
       "        0.02603311, 0.03753612, 0.03693069, 0.03450901, 0.04782828,\n",
       "        0.04903912, 0.06720176, 0.0684126 , 0.08960234, 0.08475897,\n",
       "        0.10534329, 0.11503003, 0.1198734 , 0.12653304, 0.14166857,\n",
       "        0.14530109, 0.16527999, 0.16043662, 0.18344263, 0.17799384,\n",
       "        0.18586432, 0.18586432, 0.19434021, 0.188286  , 0.19494563,\n",
       "        0.188286  , 0.21310827, 0.22097875, 0.18949684, 0.18404805,\n",
       "        0.17315047, 0.15862036, 0.18525889, 0.14651194, 0.13803604,\n",
       "        0.14287941, 0.12411135, 0.1168463 , 0.09020776, 0.10655414,\n",
       "        0.07809934, 0.0768885 , 0.05388249, 0.06114754, 0.05872586,\n",
       "        0.04056322, 0.04359033, 0.03571985, 0.0284548 , 0.02361143,\n",
       "        0.01876806, 0.01634637, 0.01574095, 0.00908132, 0.01029216,\n",
       "        0.00544879, 0.00423795, 0.00363253, 0.00423795, 0.00423795,\n",
       "        0.00302711, 0.00181626, 0.00060542, 0.00181626, 0.00060542,\n",
       "        0.        , 0.00121084, 0.        , 0.00060542, 0.00121084]),\n",
       " array([-8.0013507 , -7.83617645, -7.67100219, -7.50582793, -7.34065368,\n",
       "        -7.17547942, -7.01030516, -6.84513091, -6.67995665, -6.5147824 ,\n",
       "        -6.34960814, -6.18443388, -6.01925963, -5.85408537, -5.68891112,\n",
       "        -5.52373686, -5.3585626 , -5.19338835, -5.02821409, -4.86303983,\n",
       "        -4.69786558, -4.53269132, -4.36751707, -4.20234281, -4.03716855,\n",
       "        -3.8719943 , -3.70682004, -3.54164578, -3.37647153, -3.21129727,\n",
       "        -3.04612302, -2.88094876, -2.7157745 , -2.55060025, -2.38542599,\n",
       "        -2.22025174, -2.05507748, -1.88990322, -1.72472897, -1.55955471,\n",
       "        -1.39438045, -1.2292062 , -1.06403194, -0.89885769, -0.73368343,\n",
       "        -0.56850917, -0.40333492, -0.23816066, -0.0729864 ,  0.09218785,\n",
       "         0.25736211,  0.42253636,  0.58771062,  0.75288488,  0.91805913,\n",
       "         1.08323339,  1.24840765,  1.4135819 ,  1.57875616,  1.74393041,\n",
       "         1.90910467,  2.07427893,  2.23945318,  2.40462744,  2.56980169,\n",
       "         2.73497595,  2.90015021,  3.06532446,  3.23049872,  3.39567298,\n",
       "         3.56084723,  3.72602149,  3.89119574,  4.05637   ,  4.22154426,\n",
       "         4.38671851,  4.55189277,  4.71706703,  4.88224128,  5.04741554,\n",
       "         5.21258979,  5.37776405,  5.54293831,  5.70811256,  5.87328682,\n",
       "         6.03846107,  6.20363533,  6.36880959,  6.53398384,  6.6991581 ,\n",
       "         6.86433236,  7.02950661,  7.19468087,  7.35985512,  7.52502938,\n",
       "         7.69020364,  7.85537789,  8.02055215,  8.18572641,  8.35090066,\n",
       "         8.51607492]))"
      ]
     },
     "execution_count": 31,
     "metadata": {},
     "output_type": "execute_result"
    }
   ],
   "source": [
    "pdf, t = np.histogram(x, bins = 100, normed = True)    #分为100个取样区间，pdf为对应区间频数\n",
    "pdf, t"
   ]
  },
  {
   "cell_type": "markdown",
   "metadata": {},
   "source": [
    "## 绘制分布直方图"
   ]
  },
  {
   "cell_type": "code",
   "execution_count": null,
   "metadata": {},
   "outputs": [],
   "source": [
    "pdf, t = np.histogram(x, bins = 100, normed = True)\n",
    "t = (t[])"
   ]
  },
  {
   "cell_type": "markdown",
   "metadata": {},
   "source": [
    "## 混合R编程"
   ]
  },
  {
   "cell_type": "code",
   "execution_count": 4,
   "metadata": {},
   "outputs": [
    {
     "data": {
      "text/plain": [
       "rpy2.robjects.vectors.StrVector"
      ]
     },
     "execution_count": 4,
     "metadata": {},
     "output_type": "execute_result"
    }
   ],
   "source": [
    "type(r.data('iris'))"
   ]
  },
  {
   "cell_type": "code",
   "execution_count": 5,
   "metadata": {},
   "outputs": [
    {
     "data": {
      "text/html": [
       "<div>\n",
       "<style scoped>\n",
       "    .dataframe tbody tr th:only-of-type {\n",
       "        vertical-align: middle;\n",
       "    }\n",
       "\n",
       "    .dataframe tbody tr th {\n",
       "        vertical-align: top;\n",
       "    }\n",
       "\n",
       "    .dataframe thead th {\n",
       "        text-align: right;\n",
       "    }\n",
       "</style>\n",
       "<table border=\"1\" class=\"dataframe\">\n",
       "  <thead>\n",
       "    <tr style=\"text-align: right;\">\n",
       "      <th></th>\n",
       "      <th>Sepal.Length</th>\n",
       "      <th>Sepal.Width</th>\n",
       "      <th>Petal.Length</th>\n",
       "      <th>Petal.Width</th>\n",
       "      <th>Species</th>\n",
       "    </tr>\n",
       "  </thead>\n",
       "  <tbody>\n",
       "    <tr>\n",
       "      <th>1</th>\n",
       "      <td>5.1</td>\n",
       "      <td>3.5</td>\n",
       "      <td>1.4</td>\n",
       "      <td>0.2</td>\n",
       "      <td>setosa</td>\n",
       "    </tr>\n",
       "    <tr>\n",
       "      <th>2</th>\n",
       "      <td>4.9</td>\n",
       "      <td>3.0</td>\n",
       "      <td>1.4</td>\n",
       "      <td>0.2</td>\n",
       "      <td>setosa</td>\n",
       "    </tr>\n",
       "    <tr>\n",
       "      <th>3</th>\n",
       "      <td>4.7</td>\n",
       "      <td>3.2</td>\n",
       "      <td>1.3</td>\n",
       "      <td>0.2</td>\n",
       "      <td>setosa</td>\n",
       "    </tr>\n",
       "    <tr>\n",
       "      <th>4</th>\n",
       "      <td>4.6</td>\n",
       "      <td>3.1</td>\n",
       "      <td>1.5</td>\n",
       "      <td>0.2</td>\n",
       "      <td>setosa</td>\n",
       "    </tr>\n",
       "    <tr>\n",
       "      <th>5</th>\n",
       "      <td>5.0</td>\n",
       "      <td>3.6</td>\n",
       "      <td>1.4</td>\n",
       "      <td>0.2</td>\n",
       "      <td>setosa</td>\n",
       "    </tr>\n",
       "  </tbody>\n",
       "</table>\n",
       "</div>"
      ],
      "text/plain": [
       "   Sepal.Length  Sepal.Width  Petal.Length  Petal.Width Species\n",
       "1           5.1          3.5           1.4          0.2  setosa\n",
       "2           4.9          3.0           1.4          0.2  setosa\n",
       "3           4.7          3.2           1.3          0.2  setosa\n",
       "4           4.6          3.1           1.5          0.2  setosa\n",
       "5           5.0          3.6           1.4          0.2  setosa"
      ]
     },
     "execution_count": 5,
     "metadata": {},
     "output_type": "execute_result"
    }
   ],
   "source": [
    "r['iris'].head()"
   ]
  },
  {
   "cell_type": "code",
   "execution_count": 6,
   "metadata": {},
   "outputs": [
    {
     "data": {
      "text/html": [
       "<div>\n",
       "<style scoped>\n",
       "    .dataframe tbody tr th:only-of-type {\n",
       "        vertical-align: middle;\n",
       "    }\n",
       "\n",
       "    .dataframe tbody tr th {\n",
       "        vertical-align: top;\n",
       "    }\n",
       "\n",
       "    .dataframe thead th {\n",
       "        text-align: right;\n",
       "    }\n",
       "</style>\n",
       "<table border=\"1\" class=\"dataframe\">\n",
       "  <thead>\n",
       "    <tr style=\"text-align: right;\">\n",
       "      <th></th>\n",
       "      <th>A</th>\n",
       "      <th>B</th>\n",
       "      <th>C</th>\n",
       "    </tr>\n",
       "  </thead>\n",
       "  <tbody>\n",
       "    <tr>\n",
       "      <th>one</th>\n",
       "      <td>1</td>\n",
       "      <td>4</td>\n",
       "      <td>7</td>\n",
       "    </tr>\n",
       "    <tr>\n",
       "      <th>two</th>\n",
       "      <td>2</td>\n",
       "      <td>5</td>\n",
       "      <td>8</td>\n",
       "    </tr>\n",
       "    <tr>\n",
       "      <th>three</th>\n",
       "      <td>3</td>\n",
       "      <td>6</td>\n",
       "      <td>9</td>\n",
       "    </tr>\n",
       "  </tbody>\n",
       "</table>\n",
       "</div>"
      ],
      "text/plain": [
       "       A  B  C\n",
       "one    1  4  7\n",
       "two    2  5  8\n",
       "three  3  6  9"
      ]
     },
     "execution_count": 6,
     "metadata": {},
     "output_type": "execute_result"
    }
   ],
   "source": [
    "df = pd.DataFrame({'A': [1, 2, 3], 'B': [4, 5, 6], 'C':[7,8,9]},index=[\"one\", \"two\", \"three\"])\n",
    "df"
   ]
  },
  {
   "cell_type": "code",
   "execution_count": 7,
   "metadata": {},
   "outputs": [
    {
     "name": "stdout",
     "output_type": "stream",
     "text": [
      "<class 'rpy2.robjects.vectors.DataFrame'>\n",
      "      A B C\n",
      "one   1 4 7\n",
      "two   2 5 8\n",
      "three 3 6 9\n",
      "\n"
     ]
    }
   ],
   "source": [
    "r_dataframe = pandas2ri.py2ri(df)\n",
    "print(type(r_dataframe))\n",
    "print(r_dataframe)"
   ]
  },
  {
   "cell_type": "markdown",
   "metadata": {},
   "source": [
    "## 生成正态分布"
   ]
  },
  {
   "cell_type": "code",
   "execution_count": 3,
   "metadata": {},
   "outputs": [
    {
     "data": {
      "text/plain": [
       "array([5.44823344, 4.50984656, 4.09589632, 2.72015206, 3.81074024,\n",
       "       3.70268298, 4.26975545, 3.59589388, 4.18839841, 2.87466325,\n",
       "       2.8452787 , 4.42399088, 4.85951065, 4.06048702, 3.21268982,\n",
       "       3.36034882, 2.94150103, 5.37665686, 3.73944429, 3.92773814,\n",
       "       5.57644013])"
      ]
     },
     "execution_count": 3,
     "metadata": {},
     "output_type": "execute_result"
    }
   ],
   "source": [
    "rate = np.random.normal(3.7, 0.97, 21)\n",
    "rate"
   ]
  },
  {
   "cell_type": "code",
   "execution_count": null,
   "metadata": {},
   "outputs": [],
   "source": [
    "x = np.linspace"
   ]
  }
 ],
 "metadata": {
  "kernelspec": {
   "display_name": "Python 3",
   "language": "python",
   "name": "python3"
  },
  "language_info": {
   "codemirror_mode": {
    "name": "ipython",
    "version": 3
   },
   "file_extension": ".py",
   "mimetype": "text/x-python",
   "name": "python",
   "nbconvert_exporter": "python",
   "pygments_lexer": "ipython3",
   "version": "3.6.5"
  }
 },
 "nbformat": 4,
 "nbformat_minor": 2
}
